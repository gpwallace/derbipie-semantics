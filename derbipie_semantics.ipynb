{
 "cells": [
  {
   "cell_type": "markdown",
   "id": "852a6b4b-eb49-44c0-962d-323b505b55b7",
   "metadata": {},
   "source": [
    "# DERBi PIE Semantics Module"
   ]
  }
 ],
 "metadata": {
  "kernelspec": {
   "display_name": "Python 3 (ipykernel)",
   "language": "python",
   "name": "python3"
  },
  "language_info": {
   "codemirror_mode": {
    "name": "ipython",
    "version": 3
   },
   "file_extension": ".py",
   "mimetype": "text/x-python",
   "name": "python",
   "nbconvert_exporter": "python",
   "pygments_lexer": "ipython3",
   "version": "3.8.16"
  }
 },
 "nbformat": 4,
 "nbformat_minor": 5
}
