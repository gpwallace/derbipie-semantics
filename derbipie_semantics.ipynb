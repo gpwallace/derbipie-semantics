{
 "cells": [
  {
   "cell_type": "markdown",
   "id": "a4a1b6fa-be17-4083-b209-0ca13de1a55b",
   "metadata": {},
   "source": [
    "# DERBi PIE Semantics Module"
   ]
  },
  {
   "cell_type": "code",
   "execution_count": 27,
   "id": "d3012de7-d750-4a8a-bec8-001db1ed7ae8",
   "metadata": {
    "tags": []
   },
   "outputs": [],
   "source": [
    "import gensim.downloader as api\n",
    "wv = api.load('glove-wiki-gigaword-100')"
   ]
  },
  {
   "cell_type": "code",
   "execution_count": 34,
   "id": "776ec2f5-e901-444e-b330-50892e604b04",
   "metadata": {
    "tags": []
   },
   "outputs": [
    {
     "name": "stderr",
     "output_type": "stream",
     "text": [
      "[nltk_data] Downloading package punkt to\n",
      "[nltk_data]     C:\\Users\\gpwal\\AppData\\Roaming\\nltk_data...\n",
      "[nltk_data]   Unzipping tokenizers\\punkt.zip.\n"
     ]
    }
   ],
   "source": [
    "from gensim.models import Word2Vec\n",
    "import nltk\n",
    "nltk.download('punkt')"
   ]
  },
  {
   "cell_type": "code",
   "execution_count": 36,
   "id": "403b145c-9ca3-42c5-a903-d4e4c08cd3b2",
   "metadata": {
    "tags": []
   },
   "outputs": [],
   "source": [
    "from nltk.tokenize import sent_tokenize, RegexpTokenizer"
   ]
  },
  {
   "cell_type": "code",
   "execution_count": 41,
   "id": "39db9812-0892-4a0c-b6c4-64d65ea8c50c",
   "metadata": {
    "tags": []
   },
   "outputs": [
    {
     "name": "stderr",
     "output_type": "stream",
     "text": [
      "[nltk_data] Downloading package stopwords to\n",
      "[nltk_data]     C:\\Users\\gpwal\\AppData\\Roaming\\nltk_data...\n",
      "[nltk_data]   Unzipping corpora\\stopwords.zip.\n"
     ]
    },
    {
     "data": {
      "text/plain": [
       "True"
      ]
     },
     "execution_count": 41,
     "metadata": {},
     "output_type": "execute_result"
    }
   ],
   "source": [
    "import nltk\n",
    "nltk.download('stopwords')"
   ]
  },
  {
   "cell_type": "code",
   "execution_count": 38,
   "id": "a61b3e0d-127d-4d28-8c7d-be58e4c2efa8",
   "metadata": {
    "tags": []
   },
   "outputs": [],
   "source": [
    "from pprint import pprint"
   ]
  },
  {
   "cell_type": "code",
   "execution_count": 1,
   "id": "c1c9ae09-cd68-4d58-b702-0bb946ceb8da",
   "metadata": {
    "tags": []
   },
   "outputs": [],
   "source": [
    "import numpy as np"
   ]
  },
  {
   "cell_type": "code",
   "execution_count": 2,
   "id": "29e1f2d0-bb06-4761-b487-c2e6b5f3e67e",
   "metadata": {
    "tags": []
   },
   "outputs": [],
   "source": [
    "from scipy import spatial"
   ]
  },
  {
   "cell_type": "code",
   "execution_count": 3,
   "id": "a678af4c-ace4-4371-af3d-facf1a7366b4",
   "metadata": {
    "tags": []
   },
   "outputs": [],
   "source": [
    "from nltk.tokenize import RegexpTokenizer\n",
    "from collections import Counter"
   ]
  },
  {
   "cell_type": "code",
   "execution_count": 4,
   "id": "20ca7f17-cd30-4148-9cd5-1aa72b52aa90",
   "metadata": {
    "tags": []
   },
   "outputs": [],
   "source": [
    "import gutenbergpy.textget"
   ]
  },
  {
   "cell_type": "code",
   "execution_count": 5,
   "id": "120d5fb7-c878-4100-9ffc-bae7c5318c4b",
   "metadata": {
    "tags": []
   },
   "outputs": [],
   "source": [
    "import matplotlib.pyplot as plt"
   ]
  },
  {
   "cell_type": "code",
   "execution_count": 47,
   "id": "c7c5edaa-0443-4818-b9db-b21c4e947ed5",
   "metadata": {
    "tags": []
   },
   "outputs": [],
   "source": [
    "from tabulate import tabulate"
   ]
  },
  {
   "cell_type": "code",
   "execution_count": 70,
   "id": "dfa64753-ac9b-494a-8723-32e849683653",
   "metadata": {
    "tags": []
   },
   "outputs": [],
   "source": [
    "from sklearn.manifold import TSNE"
   ]
  },
  {
   "cell_type": "code",
   "execution_count": 75,
   "id": "d3bd3c6a-3383-41ab-9134-303afa2739c7",
   "metadata": {
    "tags": []
   },
   "outputs": [],
   "source": [
    "#importing plotly\n",
    "import plotly.express as px"
   ]
  },
  {
   "cell_type": "code",
   "execution_count": 6,
   "id": "4fbe1c99-fda6-4d0e-9bcc-808fae46183d",
   "metadata": {
    "tags": []
   },
   "outputs": [],
   "source": [
    "def getbook(book, outfile):\n",
    "  \"\"\"\n",
    "  Download a book from project Gutenberg and save it \n",
    "  to the specified outfile\n",
    "  \"\"\"\n",
    "  print(f\"Downloading Project Gutenberg ID {book}\")\n",
    "  raw_book = gutenbergpy.textget.get_text_by_id(book)\n",
    "  clean_book = gutenbergpy.textget.strip_headers(raw_book)\n",
    "  if not outfile:\n",
    "    outfile = f'{book}.txt'\n",
    "    print(f\"Saving book as {outfile}\")\n",
    "  with open(outfile, 'wb') as file:\n",
    "    file.write(clean_book)\n",
    "    file.close()"
   ]
  },
  {
   "cell_type": "code",
   "execution_count": 7,
   "id": "f07365d1-a296-4bd5-ae1d-a6c98a70561f",
   "metadata": {
    "tags": []
   },
   "outputs": [],
   "source": [
    "# these are Project Gutenberg IDs and information\n",
    "caesar_ids = [218, 18837, 29645]\n",
    "caesar_files = [f\"C:/Users/gpwal/derbipie-semantics/texts/{x}.txt\" for x in caesar_ids]\n",
    "caesar_titles = [\"Bello Gallico I-IV\", \"Bello Gallico V-VII\", \"The Gate to Caesar\"]\n",
    "cicero_ids = [14970, 226, 47001]\n",
    "cicero_files = [f\"C:/Users/gpwal/derbipie-semantics/texts/{x}.txt\" for x in cicero_ids]\n",
    "cicero_titles = [\"Academia\", \"Orations\", \"De Officiis\"]"
   ]
  },
  {
   "cell_type": "code",
   "execution_count": 8,
   "id": "eb5f02ef-2dfa-4b2e-9cd8-5d84ed043b74",
   "metadata": {
    "tags": []
   },
   "outputs": [
    {
     "name": "stdout",
     "output_type": "stream",
     "text": [
      "Downloading Project Gutenberg ID 218\n",
      "Downloading Project Gutenberg ID 18837\n",
      "Downloading Project Gutenberg ID 29645\n",
      "Downloading Project Gutenberg ID 14970\n",
      "Downloading Project Gutenberg ID 226\n",
      "Downloading Project Gutenberg ID 47001\n"
     ]
    }
   ],
   "source": [
    "foo = [getbook(x, f\"C:/Users/gpwal/derbipie-semantics/texts/{x}.txt\") for x in caesar_ids]\n",
    "foo = [getbook(x, f\"C:/Users/gpwal/derbipie-semantics/texts/{x}.txt\") for x in cicero_ids]"
   ]
  },
  {
   "cell_type": "code",
   "execution_count": 9,
   "id": "9f2f23ae-5bd5-4ffc-8bd0-ac220fe13a3e",
   "metadata": {
    "tags": []
   },
   "outputs": [],
   "source": [
    "def get_unigram_counts(path):\n",
    "  \"\"\"\n",
    "    Given a path, generate a counter dictionary of unigrams\n",
    "  \"\"\"\n",
    "  with open(path, 'r', encoding=\"utf-8\") as f:\n",
    "    text = f.read()\n",
    "  text = text.replace(\"\\n\", \" \").lower()\n",
    "  unigrams = RegexpTokenizer(r\"\\w+\").tokenize(text)\n",
    "  count = Counter(unigrams)\n",
    "  return(count)"
   ]
  },
  {
   "cell_type": "code",
   "execution_count": 12,
   "id": "988976f2-d67b-4d39-b024-6020b3ea80e5",
   "metadata": {
    "tags": []
   },
   "outputs": [],
   "source": [
    "def get_term_count(book_dict, term):\n",
    "  \"\"\"\n",
    "    return a list of the number of times a term has appeared\n",
    "    in a book\n",
    "  \"\"\"\n",
    "  out = [book_dict[book][term] for book in book_dict]\n",
    "  return(out)"
   ]
  },
  {
   "cell_type": "code",
   "execution_count": 13,
   "id": "ec55c75a-1fbc-4355-8f2c-c22af3a33cc1",
   "metadata": {
    "tags": []
   },
   "outputs": [],
   "source": [
    "ego = [\"ego\"] + \\\n",
    "          get_term_count(caesar_words, \"ego\") + \\\n",
    "          get_term_count(cicero_words, \"ego\")\n",
    "magnus  = [\"magnus\"] + \\\n",
    "          get_term_count(caesar_words, \"magnus\") + \\\n",
    "          get_term_count(cicero_words, \"magnus\")"
   ]
  },
  {
   "cell_type": "code",
   "execution_count": 14,
   "id": "86ca4381-7854-4235-bad9-fa8e3fbc0401",
   "metadata": {
    "tags": []
   },
   "outputs": [
    {
     "name": "stdout",
     "output_type": "stream",
     "text": [
      "['ego', 1, 4, 1, 29, 61, 10]\n",
      "['magnus', 0, 10, 0, 4, 0, 5]\n"
     ]
    }
   ],
   "source": [
    "print(ego)\n",
    "print(magnus)"
   ]
  },
  {
   "cell_type": "code",
   "execution_count": 15,
   "id": "7340ef17-3beb-4632-b45e-ac17452d1b4e",
   "metadata": {
    "tags": []
   },
   "outputs": [],
   "source": [
    "bellogallico1 = np.array([1, 0])\n",
    "bellogallico2 = np.array([4, 0])\n",
    "gateofcaesar = np.array([1, 10])\n",
    "academia = np.array([29, 4])\n",
    "orations = np.array([61, 0])\n",
    "deofficiis = np.array([10, 5])"
   ]
  },
  {
   "cell_type": "code",
   "execution_count": 17,
   "id": "eeabfc23-f9f5-4119-bbc0-db2ee82d1969",
   "metadata": {
    "tags": []
   },
   "outputs": [],
   "source": [
    "def sigmoid(arr):\n",
    "  \"\"\"\n",
    "    return the sigmoid, or logit, or softmax transform of an array of numbers\n",
    "  \"\"\"\n",
    "  out = np.exp(arr)/(np.exp(arr).sum())\n",
    "  return(out)"
   ]
  },
  {
   "cell_type": "code",
   "execution_count": 43,
   "id": "acc90dd0-7b3a-40fa-8b30-3bf8c9ba56ce",
   "metadata": {
    "tags": []
   },
   "outputs": [
    {
     "name": "stdout",
     "output_type": "stream",
     "text": [
      "[['id',\n",
      "  'facilius',\n",
      "  'iis',\n",
      "  'persuasit',\n",
      "  'undique',\n",
      "  'loci',\n",
      "  'natura',\n",
      "  'helvetii',\n",
      "  'continentur',\n",
      "  'una',\n",
      "  'parte',\n",
      "  'flumine',\n",
      "  'rheno',\n",
      "  'latissimo',\n",
      "  'altissimo',\n",
      "  'agrum',\n",
      "  'helvetium',\n",
      "  'germanis',\n",
      "  'dividit',\n",
      "  'altera',\n",
      "  'parte',\n",
      "  'monte',\n",
      "  'iura',\n",
      "  'altissimo',\n",
      "  'inter',\n",
      "  'sequanos',\n",
      "  'helvetios',\n",
      "  'tertia',\n",
      "  'lacu',\n",
      "  'lemanno',\n",
      "  'flumine',\n",
      "  'rhodano',\n",
      "  'provinciam',\n",
      "  'nostram',\n",
      "  'helvetiis',\n",
      "  'dividit'],\n",
      " ['his',\n",
      "  'fiebat',\n",
      "  'minus',\n",
      "  'late',\n",
      "  'vagarentur',\n",
      "  'minus',\n",
      "  'facile',\n",
      "  'finitimis',\n",
      "  'bellum',\n",
      "  'inferre',\n",
      "  'possent',\n",
      "  'parte',\n",
      "  'homines',\n",
      "  'bellandi',\n",
      "  'cupidi',\n",
      "  'magno',\n",
      "  'dolore',\n",
      "  'adficiebantur']]\n"
     ]
    }
   ],
   "source": [
    "with open (\"C:/Users/gpwal/derbipie-semantics/texts/218.txt\", 'r') as f:\n",
    "  text = f.read()\n",
    "  \n",
    "text = text.replace(\"\\n\", \" \").lower()\n",
    "sentences = sent_tokenize(text)\n",
    "sent_word = [RegexpTokenizer(r\"\\w+\").tokenize(sent) for sent in sentences]\n",
    "corpus = [[w for w in sent if not w in stopwords.words('latin.txt')] for sent in sent_word]\n",
    "pprint(corpus[10:12])"
   ]
  },
  {
   "cell_type": "code",
   "execution_count": 44,
   "id": "1f8a246e-d90d-4fa0-bdea-379e3b862c01",
   "metadata": {
    "tags": []
   },
   "outputs": [],
   "source": [
    "model = Word2Vec(sentences = corpus, \n",
    "                 vector_size = 100, \n",
    "                 window = 2,\n",
    "                 epochs = 100)"
   ]
  },
  {
   "cell_type": "code",
   "execution_count": 58,
   "id": "e81de027-f7ee-48ad-9faa-1f0f22c8ec79",
   "metadata": {
    "tags": []
   },
   "outputs": [
    {
     "name": "stdout",
     "output_type": "stream",
     "text": [
      "----------  --------\n",
      "imperio     0.777508\n",
      "fecisset    0.760372\n",
      "gratiam     0.734859\n",
      "venisse     0.73335\n",
      "dicere      0.730014\n",
      "imperium    0.713311\n",
      "causam      0.7044\n",
      "oportere    0.678899\n",
      "potestatem  0.677113\n",
      "quisque     0.66958\n",
      "----------  --------\n"
     ]
    }
   ],
   "source": [
    "print(\n",
    "  tabulate(\n",
    "    model.wv.most_similar(\"venire\")\n",
    "  )\n",
    ")"
   ]
  },
  {
   "cell_type": "code",
   "execution_count": 59,
   "id": "c770e9e7-9aaf-4361-a91a-5e28b5236243",
   "metadata": {
    "tags": []
   },
   "outputs": [],
   "source": [
    "bellogallico1_matrix = model.wv.get_normed_vectors()"
   ]
  },
  {
   "cell_type": "code",
   "execution_count": 60,
   "id": "e1808823-8497-43b0-ace8-c706ab7d5a86",
   "metadata": {
    "tags": []
   },
   "outputs": [
    {
     "data": {
      "text/plain": [
       "(675, 100)"
      ]
     },
     "execution_count": 60,
     "metadata": {},
     "output_type": "execute_result"
    }
   ],
   "source": [
    "bellogallico1_matrix.shape"
   ]
  },
  {
   "cell_type": "code",
   "execution_count": 71,
   "id": "66e7fc17-8dfe-4bfd-a37e-66f5b9ed3835",
   "metadata": {
    "tags": []
   },
   "outputs": [],
   "source": [
    "tsne = TSNE(n_components=2, perplexity = 5)\n",
    "projections = tsne.fit_transform(bellogallico1_matrix)"
   ]
  },
  {
   "cell_type": "code",
   "execution_count": 72,
   "id": "ea491ad9-2868-4cd2-b14f-aefe84e07f84",
   "metadata": {
    "tags": []
   },
   "outputs": [],
   "source": [
    "vocab = model.wv.index_to_key"
   ]
  },
  {
   "cell_type": "code",
   "execution_count": 82,
   "id": "e08eaa04-19b1-47e4-a164-f62c44cdb6e8",
   "metadata": {
    "tags": []
   },
   "outputs": [
    {
     "data": {
      "application/vnd.plotly.v1+json": {
       "config": {
        "plotlyServerURL": "https://plot.ly"
       },
       "data": [
        {
         "hovertemplate": "<b>%{hovertext}</b><br><br>0=%{x}<br>1=%{y}<extra></extra>",
         "hovertext": [
          "se",
          "esse",
          "caesar",
          "his",
          "eo",
          "sibi",
          "eorum",
          "eos",
          "castris",
          "omnibus",
          "ne",
          "iis",
          "eius",
          "eum",
          "castra",
          "ea",
          "id",
          "causa",
          "omnes",
          "hostes",
          "uti",
          "sese",
          "romani",
          "bellum",
          "propter",
          "suis",
          "quos",
          "hostium",
          "proelio",
          "ubi",
          "fines",
          "partem",
          "populi",
          "nostri",
          "esset",
          "exercitum",
          "possent",
          "caesarem",
          "inter",
          "rhenum",
          "ipse",
          "suos",
          "loco",
          "milia",
          "posse",
          "nostros",
          "flumen",
          "quid",
          "pro",
          "parte",
          "gallia",
          "nostris",
          "locum",
          "una",
          "omnia",
          "galliae",
          "quorum",
          "finibus",
          "magno",
          "sua",
          "armis",
          "naves",
          "rei",
          "obsides",
          "hostibus",
          "posset",
          "iam",
          "circiter",
          "milites",
          "die",
          "legatos",
          "hominum",
          "apud",
          "eam",
          "sine",
          "quas",
          "navibus",
          "ante",
          "nihil",
          "tempore",
          "belli",
          "item",
          "helvetii",
          "copiis",
          "essent",
          "passuum",
          "omnium",
          "legiones",
          "iter",
          "locis",
          "copias",
          "itinere",
          "satis",
          "omni",
          "quem",
          "ibi",
          "itaque",
          "equites",
          "proelium",
          "consilio",
          "minus",
          "primum",
          "nam",
          "numero",
          "facta",
          "suo",
          "rerum",
          "ariovistus",
          "galliam",
          "celeriter",
          "magna",
          "militum",
          "eodem",
          "tempus",
          "bello",
          "facere",
          "fere",
          "multitudine",
          "iussit",
          "ipsi",
          "civitates",
          "fuga",
          "virtute",
          "propterea",
          "caesaris",
          "unum",
          "legati",
          "caesari",
          "illi",
          "tanta",
          "tum",
          "auxilium",
          "eas",
          "suas",
          "oppidum",
          "equitatu",
          "post",
          "interim",
          "hac",
          "trans",
          "aciem",
          "oppido",
          "pars",
          "transire",
          "fuit",
          "exercitus",
          "germani",
          "homines",
          "contendit",
          "habere",
          "seque",
          "contra",
          "romano",
          "milibus",
          "coeperunt",
          "l",
          "gallorum",
          "gallis",
          "c",
          "suam",
          "navium",
          "fluminis",
          "longius",
          "helvetios",
          "misit",
          "tela",
          "subito",
          "flumine",
          "uno",
          "periculo",
          "hi",
          "numerum",
          "eadem",
          "totius",
          "natura",
          "loci",
          "quin",
          "omnem",
          "amplius",
          "reliquos",
          "spe",
          "helvetiorum",
          "caesare",
          "haeduorum",
          "nostrorum",
          "adventu",
          "prius",
          "haeduos",
          "vi",
          "diem",
          "multis",
          "magnam",
          "facile",
          "paucis",
          "milium",
          "provinciam",
          "sub",
          "undique",
          "ei",
          "modo",
          "agris",
          "arma",
          "x",
          "vero",
          "agros",
          "nisi",
          "pace",
          "proeliis",
          "fidem",
          "multitudinem",
          "compluribus",
          "dies",
          "diebus",
          "longe",
          "populo",
          "nocte",
          "fieri",
          "habebat",
          "haeduis",
          "germanorum",
          "postea",
          "omnino",
          "germanos",
          "legatis",
          "facto",
          "superiore",
          "cuius",
          "impetum",
          "diutius",
          "militibus",
          "legionibus",
          "helvetiis",
          "ariovisti",
          "reliquis",
          "legatum",
          "enim",
          "magnum",
          "suum",
          "q",
          "p",
          "certior",
          "quarum",
          "sit",
          "poterant",
          "fecerunt",
          "equitum",
          "provinciae",
          "amicitiam",
          "civitatis",
          "existimabat",
          "partes",
          "hostem",
          "constituit",
          "summa",
          "romanorum",
          "is",
          "omnis",
          "contenderunt",
          "sequanos",
          "ob",
          "opere",
          "habebant",
          "frumentum",
          "silvas",
          "domum",
          "supra",
          "duas",
          "spatio",
          "diei",
          "reliqui",
          "ariovistum",
          "rursus",
          "ferre",
          "sui",
          "xii",
          "pugnatum",
          "iubet",
          "sequanis",
          "coepit",
          "vim",
          "arbitrabatur",
          "suaque",
          "paulo",
          "crassus",
          "factus",
          "pedum",
          "britanniam",
          "germanis",
          "tam",
          "m",
          "magis",
          "consuetudine",
          "solum",
          "pugnae",
          "ipsis",
          "haedui",
          "oratione",
          "inde",
          "pugna",
          "complures",
          "romanum",
          "fore",
          "usus",
          "fecisset",
          "oppida",
          "oppidis",
          "factum",
          "summam",
          "hunc",
          "maxime",
          "populum",
          "secum",
          "simul",
          "senatu",
          "hos",
          "exercitu",
          "respondit",
          "potestatem",
          "fugam",
          "iure",
          "mittit",
          "tertia",
          "impedimenta",
          "reliqua",
          "celeritate",
          "tantum",
          "sive",
          "vigilia",
          "annos",
          "t",
          "civitate",
          "earum",
          "praeter",
          "frumento",
          "commode",
          "nationes",
          "plurimum",
          "petere",
          "alia",
          "impedimentis",
          "nostra",
          "receperunt",
          "idem",
          "vulneribus",
          "agri",
          "belgis",
          "hanc",
          "saepe",
          "signa",
          "praesidio",
          "domo",
          "virtutis",
          "venire",
          "dare",
          "imperio",
          "legionem",
          "legionis",
          "sequanorum",
          "altitudinem",
          "equitatus",
          "voluntate",
          "agmen",
          "haberent",
          "nostram",
          "spem",
          "opus",
          "quantum",
          "pervenit",
          "iniuria",
          "adducti",
          "ipsos",
          "pacem",
          "prima",
          "facilius",
          "castrorum",
          "usui",
          "vellet",
          "loca",
          "suae",
          "legione",
          "haberet",
          "influit",
          "imperium",
          "montem",
          "latitudinem",
          "spatium",
          "mittunt",
          "auctoritate",
          "memoria",
          "superioribus",
          "ostendit",
          "magnis",
          "dictum",
          "gallos",
          "animo",
          "itineribus",
          "navi",
          "gravius",
          "romanos",
          "conloquio",
          "quicquam",
          "has",
          "equitatum",
          "reliquum",
          "modum",
          "romanis",
          "quaeque",
          "fortunam",
          "acie",
          "huic",
          "reliquae",
          "iiii",
          "salutem",
          "praeerat",
          "oporteret",
          "paulatim",
          "concilio",
          "xv",
          "pervenerunt",
          "equis",
          "cohortatus",
          "latere",
          "aperto",
          "timore",
          "acriter",
          "vallo",
          "salutis",
          "barbari",
          "consilii",
          "reverti",
          "confecto",
          "gratiam",
          "tenere",
          "primo",
          "quisque",
          "venerunt",
          "deinde",
          "muro",
          "remis",
          "duae",
          "viribus",
          "ii",
          "profectus",
          "diu",
          "fugae",
          "acceptis",
          "venerant",
          "sint",
          "crasso",
          "etsi",
          "barbaris",
          "regionibus",
          "quoque",
          "facerent",
          "collis",
          "causam",
          "opinionem",
          "obsidibus",
          "incensis",
          "temporis",
          "ratio",
          "multa",
          "traditis",
          "miserunt",
          "mercatores",
          "dixerunt",
          "potuit",
          "sustinere",
          "horum",
          "victis",
          "acies",
          "sabinus",
          "arbitratus",
          "civitas",
          "videbat",
          "cohortibus",
          "huc",
          "hoste",
          "altera",
          "monte",
          "fecit",
          "reduxit",
          "finitimis",
          "spes",
          "consilium",
          "reliquisque",
          "exercitatione",
          "magnitudine",
          "subsidio",
          "venisse",
          "statim",
          "frumenti",
          "civitatibus",
          "conloquium",
          "belgarum",
          "oportere",
          "initium",
          "belgas",
          "vii",
          "constiterunt",
          "remorum",
          "plerumque",
          "numerus",
          "fieret",
          "gratia",
          "publicae",
          "viderentur",
          "impeditos",
          "ire",
          "capere",
          "illum",
          "faceret",
          "magnopere",
          "provincia",
          "poterat",
          "cognitis",
          "italiam",
          "alii",
          "locus",
          "nomine",
          "victoria",
          "alias",
          "venit",
          "possit",
          "possint",
          "agmine",
          "intellexit",
          "labienum",
          "summo",
          "faciunt",
          "postridie",
          "existimavit",
          "exploratores",
          "impetus",
          "prohibere",
          "frumentaria",
          "extremum",
          "statuit",
          "manibus",
          "cornu",
          "genere",
          "partibus",
          "solis",
          "terga",
          "velint",
          "potuerunt",
          "multum",
          "proximi",
          "fuisset",
          "idoneum",
          "oceano",
          "dato",
          "dc",
          "coicerent",
          "pugnandi",
          "conspectu",
          "equitatumque",
          "telum",
          "equitibus",
          "discedere",
          "missa",
          "vellent",
          "suebis",
          "quare",
          "occiderunt",
          "tres",
          "diximus",
          "portis",
          "accidit",
          "tantae",
          "paulum",
          "interfecto",
          "constabat",
          "imperii",
          "aliae",
          "reliquas",
          "praedandi",
          "aedificiis",
          "dierum",
          "galli",
          "reciperent",
          "causis",
          "futurum",
          "regiones",
          "dixit",
          "tertiam",
          "obsidesque",
          "impetu",
          "viii",
          "volebat",
          "beneficio",
          "belgae",
          "incolunt",
          "mari",
          "anni",
          "contenderent",
          "auxilia",
          "praesertim",
          "convenirent",
          "civitatum",
          "nondum",
          "exploratoribus",
          "amissis",
          "condicionem",
          "finem",
          "paene",
          "principes",
          "communi",
          "multitudo",
          "agere",
          "contendere",
          "illis",
          "d",
          "iterum",
          "liberos",
          "diviciaci",
          "dicere",
          "sequi",
          "unde",
          "ipsius",
          "contulerunt",
          "perterritos",
          "pugnam",
          "frumentariae",
          "aberat",
          "intervallo",
          "rhodanum",
          "multo",
          "nulli",
          "prope",
          "allobrogum",
          "nullis",
          "perterriti",
          "teneri",
          "imperavit",
          "v",
          "cui",
          "necessario",
          "an",
          "domi",
          "aliis",
          "usum",
          "tenebat",
          "centurionibus",
          "itineris",
          "proxima",
          "isdem",
          "amicus",
          "virtutem",
          "plus",
          "secuti",
          "abesse",
          "cognito",
          "propius",
          "ultro",
          "paucos",
          "utraque",
          "permoti",
          "facultatem",
          "auderent",
          "facultas",
          "daretur",
          "intra",
          "diviciacum",
          "utrisque",
          "proficisci",
          "summum",
          "praeterea",
          "senatus",
          "legio",
          "pontem",
          "copia",
          "auxilio",
          "sueborum",
          "occupatis"
         ],
         "legendgroup": "",
         "marker": {
          "color": "#636efa",
          "symbol": "circle"
         },
         "mode": "markers",
         "name": "",
         "orientation": "v",
         "showlegend": false,
         "type": "scatter",
         "x": [
          -5.9002814292907715,
          -22.65297508239746,
          34.79286575317383,
          -3.6115128993988037,
          20.48538589477539,
          -22.70804786682129,
          -30.303239822387695,
          -15.182876586914062,
          35.708396911621094,
          19.27760887145996,
          -8.101432800292969,
          -25.117952346801758,
          7.5097856521606445,
          44.17280578613281,
          3.8778369426727295,
          -41.88534927368164,
          19.13617706298828,
          -17.972679138183594,
          -30.530593872070312,
          5.2884521484375,
          -5.678996562957764,
          4.236767768859863,
          -28.139869689941406,
          16.405996322631836,
          -45.828224182128906,
          -1.7613239288330078,
          51.62891387939453,
          10.234718322753906,
          11.863155364990234,
          26.95998764038086,
          4.260250091552734,
          -16.989721298217773,
          -25.02907371520996,
          1.0117138624191284,
          18.546077728271484,
          39.8353385925293,
          17.651992797851562,
          10.991598129272461,
          7.807219982147217,
          -27.23927116394043,
          30.758708953857422,
          10.635083198547363,
          25.98558235168457,
          48.51131820678711,
          -26.095483779907227,
          22.031904220581055,
          -24.893016815185547,
          11.865518569946289,
          5.182855606079102,
          -40.11687088012695,
          -25.41675567626953,
          3.8694379329681396,
          10.852938652038574,
          -20.604034423828125,
          9.967524528503418,
          -36.78158950805664,
          -4.220798492431641,
          16.683063507080078,
          31.759437561035156,
          -6.0147786140441895,
          -6.183840274810791,
          -42.20436477661133,
          8.325735092163086,
          1.6032190322875977,
          0.8868025541305542,
          18.885129928588867,
          -8.295175552368164,
          45.715999603271484,
          -2.601386070251465,
          27.05341339111328,
          9.063224792480469,
          51.90094757080078,
          -24.79123306274414,
          -36.3240966796875,
          18.689250946044922,
          36.56879425048828,
          -1.6143659353256226,
          63.30034637451172,
          -14.534675598144531,
          25.90885353088379,
          -21.67129135131836,
          -34.99340057373047,
          15.486145973205566,
          -14.925065040588379,
          -10.631295204162598,
          47.01048278808594,
          -46.80297088623047,
          1.2535502910614014,
          -38.3032112121582,
          -7.691750526428223,
          -51.63238525390625,
          31.62128257751465,
          -52.454071044921875,
          -59.78124237060547,
          47.67396926879883,
          -11.388468742370605,
          29.369129180908203,
          5.10860538482666,
          -4.7424211502075195,
          25.695575714111328,
          -33.40385818481445,
          18.704387664794922,
          -56.364585876464844,
          35.46063232421875,
          13.889815330505371,
          -1.4873684644699097,
          -42.76999282836914,
          33.134273529052734,
          -40.32606887817383,
          2.14388108253479,
          -41.551612854003906,
          30.747840881347656,
          20.374666213989258,
          -20.97308349609375,
          27.55394172668457,
          17.221677780151367,
          34.24042510986328,
          27.353553771972656,
          -4.9952521324157715,
          5.3709869384765625,
          -44.65741729736328,
          -16.155866622924805,
          -5.335553169250488,
          -34.04561233520508,
          29.328027725219727,
          9.80109691619873,
          6.370108604431152,
          -47.15861511230469,
          0.9108158349990845,
          -41.60685729980469,
          26.776723861694336,
          -38.76921081542969,
          -49.81956100463867,
          10.043816566467285,
          -9.819458961486816,
          -2.6850006580352783,
          10.995089530944824,
          15.434569358825684,
          -57.90841293334961,
          -22.66857147216797,
          1.8644884824752808,
          27.791109085083008,
          -41.14142608642578,
          -23.740604400634766,
          -39.034854888916016,
          11.434828758239746,
          33.659698486328125,
          -26.965450286865234,
          52.36371994018555,
          -21.207256317138672,
          6.111963272094727,
          -53.08772277832031,
          -10.306437492370605,
          48.10491180419922,
          10.075796127319336,
          44.29315185546875,
          7.9282684326171875,
          -0.11020396649837494,
          29.516677856445312,
          -28.008014678955078,
          -47.62826156616211,
          45.707576751708984,
          3.448009490966797,
          15.376513481140137,
          -17.643310546875,
          23.29888343811035,
          11.35899543762207,
          -16.53052520751953,
          20.2917423248291,
          20.82137680053711,
          11.534229278564453,
          -26.98906135559082,
          33.15726089477539,
          -39.87718200683594,
          -10.352203369140625,
          -10.19081974029541,
          6.144678592681885,
          38.26639938354492,
          50.28621292114258,
          -7.874156475067139,
          -37.531620025634766,
          24.809770584106445,
          -13.824156761169434,
          13.156217575073242,
          -11.17786693572998,
          -20.596521377563477,
          1.702626347541809,
          -13.043466567993164,
          5.149117469787598,
          13.122715950012207,
          60.593040466308594,
          -28.849388122558594,
          -49.31950759887695,
          61.4837532043457,
          4.596284866333008,
          -38.52666091918945,
          49.072574615478516,
          24.953227996826172,
          8.068397521972656,
          46.1094856262207,
          16.939760208129883,
          15.904719352722168,
          49.05183792114258,
          -28.013137817382812,
          11.456995964050293,
          -18.481548309326172,
          9.127482414245605,
          -6.307870864868164,
          -11.566633224487305,
          -47.00225830078125,
          11.80398941040039,
          -20.893436431884766,
          60.71428680419922,
          -24.72081184387207,
          -13.974843978881836,
          -22.959997177124023,
          11.402875900268555,
          -30.857141494750977,
          -1.3781275749206543,
          -26.622140884399414,
          3.0694591999053955,
          20.55132484436035,
          -37.16877365112305,
          42.29644775390625,
          17.860240936279297,
          25.721111297607422,
          -18.8458251953125,
          5.548661708831787,
          -27.057598114013672,
          12.744804382324219,
          38.4525032043457,
          -34.558937072753906,
          36.91337585449219,
          35.75958251953125,
          42.108516693115234,
          -33.01129913330078,
          -26.723482131958008,
          -35.10203170776367,
          44.5702018737793,
          45.78670120239258,
          42.360294342041016,
          -43.38663101196289,
          -13.947607040405273,
          -48.73324203491211,
          5.497611045837402,
          0.7317129969596863,
          -39.39413070678711,
          -23.735870361328125,
          11.753954887390137,
          1.6381736993789673,
          -41.50312805175781,
          -1.735006332397461,
          3.5609548091888428,
          -44.922786712646484,
          -7.038695812225342,
          47.03702926635742,
          -28.747905731201172,
          -14.554658889770508,
          -16.778148651123047,
          -35.330177307128906,
          15.908960342407227,
          -28.691272735595703,
          -28.53536605834961,
          18.261411666870117,
          -14.397809982299805,
          -33.55282974243164,
          -0.03853490576148033,
          39.1690788269043,
          6.774821758270264,
          -8.168052673339844,
          -27.726228713989258,
          9.52873706817627,
          16.438720703125,
          -30.351924896240234,
          43.90321731567383,
          14.102701187133789,
          -50.50367736816406,
          -2.51450777053833,
          45.53107833862305,
          -50.779258728027344,
          -23.18739128112793,
          7.158843040466309,
          3.5485472679138184,
          30.772199630737305,
          42.693363189697266,
          43.390960693359375,
          -34.3880729675293,
          -35.15340805053711,
          -12.732364654541016,
          45.172325134277344,
          25.98904800415039,
          -3.8536314964294434,
          -15.5752534866333,
          13.950037956237793,
          -20.48883056640625,
          0.4955587387084961,
          -7.396944999694824,
          39.15746307373047,
          -7.813410758972168,
          -27.40450668334961,
          -52.4752311706543,
          -15.086546897888184,
          6.5728888511657715,
          -32.099727630615234,
          9.004172325134277,
          0.8165619373321533,
          9.472490310668945,
          45.972259521484375,
          -25.82259750366211,
          -9.453916549682617,
          -52.703468322753906,
          -15.683165550231934,
          0.7098897695541382,
          -2.6389918327331543,
          -17.3554744720459,
          30.87302589416504,
          22.194477081298828,
          -26.937557220458984,
          -5.605604648590088,
          -7.81466007232666,
          13.371716499328613,
          -36.592613220214844,
          9.241522789001465,
          -58.22815704345703,
          -4.4182634353637695,
          24.659765243530273,
          6.888703346252441,
          41.56366729736328,
          -9.325751304626465,
          42.996253967285156,
          -3.987489938735962,
          -43.525264739990234,
          29.126771926879883,
          -14.898036003112793,
          -49.75785446166992,
          0.32028648257255554,
          -16.094436645507812,
          -15.183089256286621,
          -42.166690826416016,
          6.501588344573975,
          9.726899147033691,
          10.574499130249023,
          21.76988410949707,
          -4.373406887054443,
          28.694364547729492,
          -4.277850151062012,
          -28.289960861206055,
          29.59044647216797,
          16.096071243286133,
          38.094635009765625,
          -2.732293128967285,
          -28.504642486572266,
          -31.119892120361328,
          0.3131517171859741,
          -29.61521339416504,
          51.48841094970703,
          50.72370147705078,
          13.348238945007324,
          46.83641052246094,
          -19.40899085998535,
          -10.240815162658691,
          17.143428802490234,
          -18.90285301208496,
          -38.10097885131836,
          -33.2574462890625,
          13.563864707946777,
          -20.613826751708984,
          17.510286331176758,
          17.995277404785156,
          -40.14892578125,
          -5.63116455078125,
          -21.876554489135742,
          15.637833595275879,
          -22.851396560668945,
          38.70738983154297,
          29.85150718688965,
          11.157557487487793,
          34.557472229003906,
          -19.289268493652344,
          40.92573928833008,
          -12.851263999938965,
          -25.409713745117188,
          -20.975784301757812,
          10.351981163024902,
          46.6000862121582,
          48.741065979003906,
          10.19371223449707,
          28.78275489807129,
          41.536903381347656,
          -5.8855791091918945,
          7.913297176361084,
          52.153564453125,
          62.121124267578125,
          -31.537376403808594,
          -36.62701416015625,
          53.09519958496094,
          26.1554012298584,
          9.70256519317627,
          36.63581848144531,
          12.184819221496582,
          -38.75225830078125,
          -47.10651397705078,
          37.542945861816406,
          -21.684728622436523,
          -26.398019790649414,
          -37.62028121948242,
          -5.996140956878662,
          -20.185577392578125,
          3.494034767150879,
          -13.46572208404541,
          -36.854026794433594,
          46.32550048828125,
          -15.541580200195312,
          -39.584747314453125,
          -47.88993835449219,
          4.6454176902771,
          -7.634854793548584,
          47.87436294555664,
          -32.65113067626953,
          26.126644134521484,
          16.84784507751465,
          21.885339736938477,
          26.48775863647461,
          7.405923366546631,
          13.366853713989258,
          43.50954818725586,
          15.118021011352539,
          -7.461670875549316,
          6.521841526031494,
          10.390619277954102,
          25.487211227416992,
          -24.084373474121094,
          18.013032913208008,
          -40.724456787109375,
          -13.974156379699707,
          6.652932167053223,
          -30.235740661621094,
          24.42967987060547,
          1.7542179822921753,
          -36.68423080444336,
          -4.165346145629883,
          -7.134101867675781,
          37.18790817260742,
          14.307832717895508,
          9.308817863464355,
          -4.801736831665039,
          1.4429011344909668,
          -2.5593369007110596,
          42.41957473754883,
          -48.26949691772461,
          -43.380592346191406,
          37.249549865722656,
          -4.6943535804748535,
          -30.75885581970215,
          22.837268829345703,
          -34.07454299926758,
          -10.019763946533203,
          -6.597147464752197,
          17.525331497192383,
          27.671188354492188,
          5.665450096130371,
          -24.035825729370117,
          -6.49320125579834,
          7.714900970458984,
          -8.19028091430664,
          5.210742473602295,
          54.3948974609375,
          19.975635528564453,
          -40.49934387207031,
          -39.63722229003906,
          14.455141067504883,
          42.00800323486328,
          -50.442630767822266,
          -37.06106948852539,
          -15.411367416381836,
          45.40829086303711,
          25.951419830322266,
          48.67926025390625,
          -38.02811050415039,
          41.250694274902344,
          9.540488243103027,
          3.352788209915161,
          0.9562125205993652,
          -27.43540382385254,
          -8.695778846740723,
          -0.8206393718719482,
          -12.837823867797852,
          -32.87211990356445,
          2.436102867126465,
          -46.4740104675293,
          -6.310871601104736,
          39.99933624267578,
          -1.9143046140670776,
          -9.969305038452148,
          10.80097770690918,
          -27.957929611206055,
          9.267685890197754,
          -30.460981369018555,
          42.2568359375,
          1.7972097396850586,
          15.640701293945312,
          -7.963322639465332,
          4.232749938964844,
          -4.935422420501709,
          -14.822530746459961,
          7.313185214996338,
          37.625762939453125,
          1.9940098524093628,
          4.786523818969727,
          -1.520369291305542,
          21.224563598632812,
          -29.052583694458008,
          -6.7802581787109375,
          -32.85268020629883,
          -33.677940368652344,
          -9.580513954162598,
          38.029457092285156,
          2.3939266204833984,
          2.665156364440918,
          1.207584261894226,
          -5.567776679992676,
          -20.38062286376953,
          46.183448791503906,
          -49.906070709228516,
          -20.958860397338867,
          5.360610008239746,
          24.01729393005371,
          42.26424026489258,
          4.007072925567627,
          0.32774457335472107,
          7.1661834716796875,
          -9.01289176940918,
          41.0676155090332,
          15.357171058654785,
          -23.521390914916992,
          28.37575912475586,
          -36.33332824707031,
          34.638084411621094,
          1.0315110683441162,
          13.804407119750977,
          -10.106287002563477,
          -13.99381160736084,
          15.032999038696289,
          6.587222576141357,
          -11.510191917419434,
          4.6190104484558105,
          -9.915855407714844,
          -30.01329803466797,
          3.2343239784240723,
          11.070135116577148,
          -25.220130920410156,
          7.164618015289307,
          51.18268966674805,
          23.00482940673828,
          -11.31345272064209,
          26.841312408447266,
          37.91347122192383,
          20.6829891204834,
          -37.95355987548828,
          11.672846794128418,
          24.45965003967285,
          -12.330785751342773,
          -37.90964889526367,
          -34.83802032470703,
          -26.465822219848633,
          -32.246315002441406,
          -33.6774787902832,
          15.983610153198242,
          0.8070512413978577,
          -35.99873733520508,
          -9.541754722595215,
          34.05049514770508,
          -36.687801361083984,
          45.25992202758789,
          -41.8247184753418,
          0.27337944507598877,
          -19.242765426635742,
          17.545427322387695,
          29.35696792602539,
          27.946561813354492,
          10.555591583251953,
          35.31795883178711,
          -28.45379638671875,
          -50.41304016113281,
          -15.213668823242188,
          0.20991326868534088,
          -0.07422646880149841,
          28.684215545654297,
          47.69298553466797,
          -21.85335922241211,
          -2.1965043544769287,
          -30.57273292541504,
          -26.831058502197266,
          -25.095149993896484,
          -20.736326217651367,
          8.402503967285156,
          -46.55058288574219,
          -39.230857849121094,
          25.04499053955078,
          15.085898399353027,
          -20.312122344970703,
          41.28491973876953,
          -0.09186924993991852,
          2.9648282527923584,
          -10.904033660888672,
          -29.984798431396484,
          4.3466410636901855,
          -18.449769973754883,
          -57.86100769042969,
          11.210841178894043,
          14.675580978393555,
          8.446050643920898,
          49.63429260253906,
          7.458219528198242,
          4.512060165405273,
          -8.631059646606445,
          -46.30925750732422,
          10.824308395385742,
          30.634973526000977,
          4.632779121398926,
          -10.016656875610352,
          -6.368605613708496,
          30.765281677246094,
          6.984972953796387,
          47.44374465942383,
          42.605140686035156,
          -25.893747329711914,
          38.969093322753906,
          -1.4880852699279785,
          44.8149299621582,
          25.04473304748535,
          -29.346893310546875,
          -5.113494873046875,
          -29.841472625732422,
          -1.8495410680770874,
          24.32921600341797,
          46.6440544128418,
          -12.149931907653809,
          -3.1074764728546143,
          -14.592537879943848,
          -15.678254127502441,
          -27.47115707397461,
          44.91545867919922,
          34.03233337402344,
          -36.776302337646484,
          52.683807373046875,
          29.243438720703125,
          -3.1841108798980713,
          -19.925262451171875,
          -12.582414627075195,
          -23.02541732788086,
          -17.81162452697754,
          31.608327865600586,
          14.820466041564941,
          6.529397964477539,
          -22.452892303466797,
          -38.925926208496094,
          -9.900857925415039,
          -21.710891723632812,
          -37.32081985473633,
          9.609574317932129,
          8.80865478515625,
          10.27885913848877,
          -35.86920928955078,
          12.417247772216797,
          -49.950069427490234,
          -51.538978576660156,
          -15.642410278320312,
          -10.701982498168945,
          -38.114540100097656,
          37.16641616821289,
          0.9405056238174438,
          -19.213237762451172,
          -10.9932279586792,
          -9.679427146911621
         ],
         "xaxis": "x",
         "y": [
          40.8037109375,
          31.300369262695312,
          38.674564361572266,
          -10.164850234985352,
          6.318709850311279,
          39.86611557006836,
          -14.513532638549805,
          71.6728515625,
          -47.20381164550781,
          14.179990768432617,
          11.081729888916016,
          -36.099761962890625,
          7.058976173400879,
          18.189302444458008,
          -66.18250274658203,
          -22.698022842407227,
          61.62853240966797,
          -5.09658145904541,
          4.038649559020996,
          -39.035072326660156,
          25.606103897094727,
          35.25362777709961,
          38.36699676513672,
          60.63145446777344,
          -10.968807220458984,
          20.939208984375,
          -17.15389060974121,
          -55.273860931396484,
          -5.861879825592041,
          -52.09517288208008,
          27.875080108642578,
          -20.438230514526367,
          38.98270797729492,
          -38.32985305786133,
          -5.8882222175598145,
          -46.6502685546875,
          -37.5051383972168,
          38.44915008544922,
          19.826093673706055,
          -8.272078514099121,
          5.987394332885742,
          19.049745559692383,
          -24.32098388671875,
          -21.759994506835938,
          36.65118408203125,
          -45.848331451416016,
          -9.818763732910156,
          57.83012390136719,
          -55.319786071777344,
          -25.595409393310547,
          13.555749893188477,
          -46.4971809387207,
          -12.247879981994629,
          -33.62005615234375,
          31.981258392333984,
          10.101895332336426,
          32.85316848754883,
          21.711444854736328,
          -15.050994873046875,
          51.64848709106445,
          15.474392890930176,
          -34.27594757080078,
          68.16083526611328,
          32.9186897277832,
          -17.745079040527344,
          -30.1074161529541,
          69.01655578613281,
          -22.625118255615234,
          -37.50659942626953,
          -3.426081657409668,
          40.65891647338867,
          -19.58092498779297,
          52.67567443847656,
          48.01129913330078,
          59.23023986816406,
          7.679727077484131,
          -14.833818435668945,
          -6.960625648498535,
          67.48072814941406,
          -3.1207807064056396,
          17.912044525146484,
          -40.49789047241211,
          27.426435470581055,
          -27.67127227783203,
          18.497533798217773,
          -25.722402572631836,
          -2.293473243713379,
          -66.40205383300781,
          37.734596252441406,
          -11.104813575744629,
          33.965545654296875,
          -25.59025764465332,
          22.684667587280273,
          -11.03675365447998,
          21.362991333007812,
          -24.87363052368164,
          -19.83547592163086,
          -33.05171203613281,
          -47.05801010131836,
          23.494348526000977,
          42.71925354003906,
          -54.14228439331055,
          -8.924208641052246,
          -15.326363563537598,
          -2.045522451400757,
          55.2264404296875,
          -3.9602866172790527,
          39.34161376953125,
          36.04766845703125,
          2.6153204441070557,
          -17.949968338012695,
          43.21884536743164,
          4.071029186248779,
          20.58619499206543,
          41.2996711730957,
          63.13407516479492,
          -12.303977012634277,
          -13.944131851196289,
          -28.5403995513916,
          -59.86393737792969,
          34.657989501953125,
          -52.446014404296875,
          -7.092552661895752,
          -4.052363395690918,
          39.35692596435547,
          -9.861854553222656,
          43.87788009643555,
          36.44515609741211,
          43.80118179321289,
          -16.36846351623535,
          -50.868141174316406,
          26.013648986816406,
          35.0648078918457,
          22.483278274536133,
          -26.243473052978516,
          -51.82787322998047,
          -39.58027267456055,
          -3.576693058013916,
          -12.981361389160156,
          -9.938699722290039,
          -58.742313385009766,
          -3.851417064666748,
          -26.109567642211914,
          -11.497562408447266,
          -0.8300235867500305,
          3.5767383575439453,
          23.743892669677734,
          25.527257919311523,
          0.5781492590904236,
          10.757101058959961,
          34.780029296875,
          42.8669319152832,
          45.87115478515625,
          -22.67610740661621,
          -42.3936653137207,
          9.446024894714355,
          25.986154556274414,
          -12.13727855682373,
          41.146873474121094,
          29.330970764160156,
          -12.903475761413574,
          -30.825206756591797,
          -40.488975524902344,
          22.249971389770508,
          -34.58648681640625,
          -44.81729507446289,
          -32.950347900390625,
          -20.460735321044922,
          3.675375461578369,
          58.18507766723633,
          -44.393245697021484,
          -32.803218841552734,
          23.43263053894043,
          12.88058090209961,
          -16.453750610351562,
          -17.46323585510254,
          57.31880187988281,
          -45.556549072265625,
          -23.136507034301758,
          -46.7254638671875,
          -14.181750297546387,
          31.915115356445312,
          48.04473114013672,
          22.527565002441406,
          70.94647979736328,
          3.1931889057159424,
          40.19735336303711,
          34.885345458984375,
          -51.31139373779297,
          52.79670715332031,
          -8.682990074157715,
          -10.727161407470703,
          23.019594192504883,
          -7.2931365966796875,
          -23.364891052246094,
          36.53265380859375,
          -45.7961311340332,
          -18.791004180908203,
          58.005062103271484,
          -34.42227554321289,
          13.041694641113281,
          -38.0186767578125,
          -31.807294845581055,
          3.335214614868164,
          24.096097946166992,
          45.672183990478516,
          39.43659973144531,
          -7.3579182624816895,
          57.181190490722656,
          -12.187278747558594,
          -25.298938751220703,
          -39.98118209838867,
          -6.348382472991943,
          -2.3380510807037354,
          50.137001037597656,
          -41.52251434326172,
          56.457786560058594,
          -33.352272033691406,
          29.314435958862305,
          -11.817486763000488,
          -21.92910385131836,
          -28.549772262573242,
          3.1915106773376465,
          21.651824951171875,
          -0.2508428692817688,
          -28.31277084350586,
          5.14328670501709,
          -32.06208038330078,
          42.327205657958984,
          -25.208532333374023,
          10.571677207946777,
          38.40135955810547,
          -41.861106872558594,
          9.536111831665039,
          11.329790115356445,
          23.536502838134766,
          -34.5772819519043,
          24.10987091064453,
          12.998689651489258,
          14.765632629394531,
          -1.8717758655548096,
          -6.044559001922607,
          49.51879119873047,
          21.970069885253906,
          -30.34760093688965,
          -44.9857063293457,
          13.00570297241211,
          37.79451370239258,
          43.9371452331543,
          -14.66899585723877,
          11.899443626403809,
          -64.83382415771484,
          -56.39611053466797,
          -10.232351303100586,
          -28.952714920043945,
          18.8341064453125,
          14.536309242248535,
          -49.423152923583984,
          69.9248275756836,
          47.21697998046875,
          -58.201419830322266,
          -30.109100341796875,
          44.07490921020508,
          0.13164055347442627,
          -47.980342864990234,
          -39.785400390625,
          -64.7912368774414,
          -26.67694091796875,
          5.893439769744873,
          -20.491533279418945,
          52.30226135253906,
          -39.95230484008789,
          -37.8576545715332,
          26.206270217895508,
          -26.222370147705078,
          -4.891395568847656,
          14.375866889953613,
          29.29062271118164,
          22.144744873046875,
          13.883115768432617,
          36.11030197143555,
          32.29214096069336,
          -38.0389289855957,
          1.5951170921325684,
          -1.3564188480377197,
          -27.30034828186035,
          -37.603721618652344,
          2.020198345184326,
          19.184297561645508,
          13.96975326538086,
          22.05689811706543,
          51.097721099853516,
          -7.50307559967041,
          51.8747673034668,
          9.014843940734863,
          28.78636360168457,
          3.345392942428589,
          5.856622695922852,
          3.8609871864318848,
          -37.23039245605469,
          42.318477630615234,
          43.02632141113281,
          -2.021298885345459,
          39.708229064941406,
          31.735641479492188,
          9.54923152923584,
          2.71079421043396,
          -11.440009117126465,
          -28.601612091064453,
          47.09737777709961,
          41.68964767456055,
          11.182374000549316,
          -43.940879821777344,
          52.71504211425781,
          -7.838374137878418,
          4.902551174163818,
          42.06571960449219,
          52.176063537597656,
          -46.23756790161133,
          42.44515609741211,
          40.49312210083008,
          -25.837657928466797,
          -35.045318603515625,
          -11.363119125366211,
          -39.158050537109375,
          -49.27937316894531,
          -2.1218647956848145,
          12.518233299255371,
          33.12177276611328,
          9.7598237991333,
          53.3957405090332,
          -5.4111833572387695,
          37.068138122558594,
          -20.537893295288086,
          23.743282318115234,
          26.135217666625977,
          69.5174331665039,
          -50.89359664916992,
          -32.563987731933594,
          -48.77071762084961,
          -55.845947265625,
          -16.1722354888916,
          42.05486297607422,
          -55.03032302856445,
          37.42531204223633,
          23.632434844970703,
          27.475982666015625,
          -13.848978042602539,
          -54.02505111694336,
          -47.61528015136719,
          21.60050392150879,
          26.399578094482422,
          40.15834045410156,
          32.92306137084961,
          39.80502700805664,
          -31.922685623168945,
          -32.16521072387695,
          22.904848098754883,
          -31.969831466674805,
          -34.38425827026367,
          58.69994354248047,
          -50.60839080810547,
          18.22247886657715,
          36.173316955566406,
          33.09954833984375,
          -3.2844908237457275,
          2.417773962020874,
          17.286264419555664,
          60.914405822753906,
          -12.526877403259277,
          10.835524559020996,
          37.624900817871094,
          -55.334922790527344,
          -14.309894561767578,
          -31.99449348449707,
          -28.43878936767578,
          55.46026611328125,
          -10.611481666564941,
          42.367774963378906,
          -22.97369956970215,
          31.19910430908203,
          -8.057869911193848,
          29.460599899291992,
          -15.02611255645752,
          -32.7268180847168,
          -45.61039733886719,
          40.767662048339844,
          -13.81259536743164,
          -12.243003845214844,
          -7.983076095581055,
          57.49752426147461,
          -0.09062308818101883,
          -7.3284101486206055,
          2.9176828861236572,
          32.430946350097656,
          1.06502366065979,
          -49.98766326904297,
          54.805118560791016,
          -33.58957290649414,
          53.934356689453125,
          0.415736585855484,
          -1.9990284442901611,
          -44.82714080810547,
          27.020172119140625,
          -29.472211837768555,
          28.45193099975586,
          -28.76441192626953,
          30.365379333496094,
          -57.43915939331055,
          -26.490556716918945,
          -31.76255226135254,
          -21.972808837890625,
          -51.497623443603516,
          -33.764007568359375,
          26.16718101501465,
          -50.135780334472656,
          43.161495208740234,
          -26.178665161132812,
          -40.35227966308594,
          21.25220489501953,
          -50.11963653564453,
          -30.518009185791016,
          -27.979188919067383,
          -52.130558013916016,
          -5.844026565551758,
          -28.594375610351562,
          -23.00131607055664,
          -33.85635757446289,
          51.92475509643555,
          17.48214340209961,
          33.09592819213867,
          38.35673904418945,
          -52.35270309448242,
          -14.137075424194336,
          35.195152282714844,
          42.6992073059082,
          16.207712173461914,
          -46.63484573364258,
          -20.378061294555664,
          -31.007610321044922,
          -38.328575134277344,
          -44.325523376464844,
          9.276336669921875,
          -5.6917572021484375,
          -31.780704498291016,
          -55.31415939331055,
          -53.01210021972656,
          32.94072341918945,
          2.174038887023926,
          -13.620912551879883,
          -7.025847911834717,
          12.840702056884766,
          24.651248931884766,
          -35.68229675292969,
          -31.289644241333008,
          43.972957611083984,
          69.55844116210938,
          12.719947814941406,
          15.45313835144043,
          -33.0052604675293,
          67.4913330078125,
          -7.451796054840088,
          14.42404556274414,
          39.64542007446289,
          -6.113142967224121,
          34.01713562011719,
          0.6137248873710632,
          -31.992708206176758,
          -13.553160667419434,
          1.100561261177063,
          -56.10590744018555,
          8.42767333984375,
          24.760143280029297,
          1.129807472229004,
          41.55901336669922,
          7.706845283508301,
          -21.705516815185547,
          -27.55240249633789,
          -25.658233642578125,
          -27.441566467285156,
          42.85634994506836,
          -66.04202270507812,
          9.742053985595703,
          13.761650085449219,
          5.84562349319458,
          -13.4459228515625,
          70.32896423339844,
          2.8272511959075928,
          -53.20328140258789,
          34.91305923461914,
          2.523306369781494,
          -22.07199478149414,
          -12.202383995056152,
          56.138465881347656,
          22.307130813598633,
          42.582984924316406,
          1.968145489692688,
          2.7970409393310547,
          -24.202539443969727,
          -42.670387268066406,
          14.434622764587402,
          -34.21494674682617,
          -23.055822372436523,
          -41.140560150146484,
          69.03401184082031,
          67.29134368896484,
          -32.83951187133789,
          -34.278602600097656,
          28.95269012451172,
          2.1127121448516846,
          57.987545013427734,
          52.45790100097656,
          11.709178924560547,
          -4.2626051902771,
          23.723182678222656,
          28.597742080688477,
          8.93464469909668,
          -48.766075134277344,
          16.00754165649414,
          50.39763641357422,
          52.90114974975586,
          7.147165298461914,
          20.922636032104492,
          8.522330284118652,
          28.454965591430664,
          -41.49473571777344,
          -50.32704544067383,
          10.550436019897461,
          -48.86893081665039,
          35.41807556152344,
          6.043394088745117,
          7.379762649536133,
          -0.5966286659240723,
          -24.38680648803711,
          -12.535948753356934,
          -20.5280704498291,
          12.838099479675293,
          13.648423194885254,
          -34.06431579589844,
          -56.376075744628906,
          -33.615543365478516,
          -26.982128143310547,
          -16.869596481323242,
          -37.96977615356445,
          33.970272064208984,
          -39.26754379272461,
          -19.66109848022461,
          -13.538505554199219,
          16.033706665039062,
          -10.01280403137207,
          -4.3388237953186035,
          -38.47723388671875,
          -18.619205474853516,
          -45.59373092651367,
          26.26568603515625,
          37.28837966918945,
          -46.22937774658203,
          -30.34405517578125,
          -14.183775901794434,
          41.00216293334961,
          -42.68915557861328,
          46.147953033447266,
          26.749589920043945,
          46.82085418701172,
          -35.361568450927734,
          -6.726310729980469,
          -38.90752029418945,
          -24.74775505065918,
          2.8339245319366455,
          -0.23568260669708252,
          -22.483871459960938,
          -14.101370811462402,
          -23.645126342773438,
          -12.270585060119629,
          -33.53959655761719,
          -64.36442565917969,
          -8.165947914123535,
          14.802143096923828,
          41.727745056152344,
          -31.91835594177246,
          -43.18903350830078,
          13.111189842224121,
          25.05721092224121,
          34.53261184692383,
          13.301979064941406,
          -62.7133903503418,
          33.67277145385742,
          -28.156558990478516,
          -23.869640350341797,
          13.253918647766113,
          54.06684112548828,
          -8.843098640441895,
          -9.807931900024414,
          -3.726527452468872,
          18.97003746032715,
          0.7553149461746216,
          33.14954376220703,
          -23.269329071044922,
          -20.677453994750977,
          40.43845748901367,
          -8.304479598999023,
          -0.22458626329898834,
          -14.420736312866211,
          40.058082580566406,
          57.09687042236328,
          -3.0173184871673584,
          40.11866760253906,
          45.24136734008789,
          -10.845843315124512,
          32.378108978271484,
          26.53937339782715,
          4.1204681396484375,
          -25.61210060119629,
          38.191490173339844,
          32.411869049072266,
          55.2574577331543,
          34.42182540893555,
          -16.853734970092773,
          2.9962799549102783,
          -58.97638702392578,
          -18.774198532104492,
          -45.472652435302734,
          -26.31669807434082,
          67.40682220458984,
          -19.858325958251953,
          -26.515169143676758,
          -9.121208190917969,
          -0.12738889455795288,
          1.7373229265213013,
          -20.076980590820312,
          32.36397171020508,
          15.220996856689453,
          -36.85380554199219,
          0.6666370034217834,
          34.63544845581055,
          -20.839832305908203,
          -10.600244522094727,
          18.997541427612305,
          2.1229045391082764,
          69.72103118896484,
          41.08799362182617,
          -30.812734603881836,
          -12.85239315032959,
          -13.357388496398926,
          31.650405883789062,
          2.9242496490478516,
          1.7867836952209473,
          52.850807189941406,
          5.379369735717773,
          45.771114349365234,
          -38.36344528198242,
          -8.817070007324219,
          40.01806640625,
          -16.823442459106445,
          41.014827728271484,
          -39.40568161010742,
          -24.835494995117188,
          -34.37975311279297,
          12.757814407348633,
          29.894893646240234,
          -33.0290641784668,
          -32.78097152709961,
          20.26958465576172,
          9.484762191772461,
          -8.270284652709961,
          8.58474349975586,
          42.42717361450195,
          12.405462265014648,
          33.281734466552734,
          -26.87856674194336,
          -43.06224822998047,
          16.10784339904785,
          27.355714797973633,
          26.646989822387695,
          -22.07317352294922
         ],
         "yaxis": "y"
        }
       ],
       "layout": {
        "height": 800,
        "legend": {
         "tracegroupgap": 0
        },
        "margin": {
         "t": 60
        },
        "template": {
         "data": {
          "bar": [
           {
            "error_x": {
             "color": "#2a3f5f"
            },
            "error_y": {
             "color": "#2a3f5f"
            },
            "marker": {
             "line": {
              "color": "#E5ECF6",
              "width": 0.5
             },
             "pattern": {
              "fillmode": "overlay",
              "size": 10,
              "solidity": 0.2
             }
            },
            "type": "bar"
           }
          ],
          "barpolar": [
           {
            "marker": {
             "line": {
              "color": "#E5ECF6",
              "width": 0.5
             },
             "pattern": {
              "fillmode": "overlay",
              "size": 10,
              "solidity": 0.2
             }
            },
            "type": "barpolar"
           }
          ],
          "carpet": [
           {
            "aaxis": {
             "endlinecolor": "#2a3f5f",
             "gridcolor": "white",
             "linecolor": "white",
             "minorgridcolor": "white",
             "startlinecolor": "#2a3f5f"
            },
            "baxis": {
             "endlinecolor": "#2a3f5f",
             "gridcolor": "white",
             "linecolor": "white",
             "minorgridcolor": "white",
             "startlinecolor": "#2a3f5f"
            },
            "type": "carpet"
           }
          ],
          "choropleth": [
           {
            "colorbar": {
             "outlinewidth": 0,
             "ticks": ""
            },
            "type": "choropleth"
           }
          ],
          "contour": [
           {
            "colorbar": {
             "outlinewidth": 0,
             "ticks": ""
            },
            "colorscale": [
             [
              0,
              "#0d0887"
             ],
             [
              0.1111111111111111,
              "#46039f"
             ],
             [
              0.2222222222222222,
              "#7201a8"
             ],
             [
              0.3333333333333333,
              "#9c179e"
             ],
             [
              0.4444444444444444,
              "#bd3786"
             ],
             [
              0.5555555555555556,
              "#d8576b"
             ],
             [
              0.6666666666666666,
              "#ed7953"
             ],
             [
              0.7777777777777778,
              "#fb9f3a"
             ],
             [
              0.8888888888888888,
              "#fdca26"
             ],
             [
              1,
              "#f0f921"
             ]
            ],
            "type": "contour"
           }
          ],
          "contourcarpet": [
           {
            "colorbar": {
             "outlinewidth": 0,
             "ticks": ""
            },
            "type": "contourcarpet"
           }
          ],
          "heatmap": [
           {
            "colorbar": {
             "outlinewidth": 0,
             "ticks": ""
            },
            "colorscale": [
             [
              0,
              "#0d0887"
             ],
             [
              0.1111111111111111,
              "#46039f"
             ],
             [
              0.2222222222222222,
              "#7201a8"
             ],
             [
              0.3333333333333333,
              "#9c179e"
             ],
             [
              0.4444444444444444,
              "#bd3786"
             ],
             [
              0.5555555555555556,
              "#d8576b"
             ],
             [
              0.6666666666666666,
              "#ed7953"
             ],
             [
              0.7777777777777778,
              "#fb9f3a"
             ],
             [
              0.8888888888888888,
              "#fdca26"
             ],
             [
              1,
              "#f0f921"
             ]
            ],
            "type": "heatmap"
           }
          ],
          "heatmapgl": [
           {
            "colorbar": {
             "outlinewidth": 0,
             "ticks": ""
            },
            "colorscale": [
             [
              0,
              "#0d0887"
             ],
             [
              0.1111111111111111,
              "#46039f"
             ],
             [
              0.2222222222222222,
              "#7201a8"
             ],
             [
              0.3333333333333333,
              "#9c179e"
             ],
             [
              0.4444444444444444,
              "#bd3786"
             ],
             [
              0.5555555555555556,
              "#d8576b"
             ],
             [
              0.6666666666666666,
              "#ed7953"
             ],
             [
              0.7777777777777778,
              "#fb9f3a"
             ],
             [
              0.8888888888888888,
              "#fdca26"
             ],
             [
              1,
              "#f0f921"
             ]
            ],
            "type": "heatmapgl"
           }
          ],
          "histogram": [
           {
            "marker": {
             "pattern": {
              "fillmode": "overlay",
              "size": 10,
              "solidity": 0.2
             }
            },
            "type": "histogram"
           }
          ],
          "histogram2d": [
           {
            "colorbar": {
             "outlinewidth": 0,
             "ticks": ""
            },
            "colorscale": [
             [
              0,
              "#0d0887"
             ],
             [
              0.1111111111111111,
              "#46039f"
             ],
             [
              0.2222222222222222,
              "#7201a8"
             ],
             [
              0.3333333333333333,
              "#9c179e"
             ],
             [
              0.4444444444444444,
              "#bd3786"
             ],
             [
              0.5555555555555556,
              "#d8576b"
             ],
             [
              0.6666666666666666,
              "#ed7953"
             ],
             [
              0.7777777777777778,
              "#fb9f3a"
             ],
             [
              0.8888888888888888,
              "#fdca26"
             ],
             [
              1,
              "#f0f921"
             ]
            ],
            "type": "histogram2d"
           }
          ],
          "histogram2dcontour": [
           {
            "colorbar": {
             "outlinewidth": 0,
             "ticks": ""
            },
            "colorscale": [
             [
              0,
              "#0d0887"
             ],
             [
              0.1111111111111111,
              "#46039f"
             ],
             [
              0.2222222222222222,
              "#7201a8"
             ],
             [
              0.3333333333333333,
              "#9c179e"
             ],
             [
              0.4444444444444444,
              "#bd3786"
             ],
             [
              0.5555555555555556,
              "#d8576b"
             ],
             [
              0.6666666666666666,
              "#ed7953"
             ],
             [
              0.7777777777777778,
              "#fb9f3a"
             ],
             [
              0.8888888888888888,
              "#fdca26"
             ],
             [
              1,
              "#f0f921"
             ]
            ],
            "type": "histogram2dcontour"
           }
          ],
          "mesh3d": [
           {
            "colorbar": {
             "outlinewidth": 0,
             "ticks": ""
            },
            "type": "mesh3d"
           }
          ],
          "parcoords": [
           {
            "line": {
             "colorbar": {
              "outlinewidth": 0,
              "ticks": ""
             }
            },
            "type": "parcoords"
           }
          ],
          "pie": [
           {
            "automargin": true,
            "type": "pie"
           }
          ],
          "scatter": [
           {
            "fillpattern": {
             "fillmode": "overlay",
             "size": 10,
             "solidity": 0.2
            },
            "type": "scatter"
           }
          ],
          "scatter3d": [
           {
            "line": {
             "colorbar": {
              "outlinewidth": 0,
              "ticks": ""
             }
            },
            "marker": {
             "colorbar": {
              "outlinewidth": 0,
              "ticks": ""
             }
            },
            "type": "scatter3d"
           }
          ],
          "scattercarpet": [
           {
            "marker": {
             "colorbar": {
              "outlinewidth": 0,
              "ticks": ""
             }
            },
            "type": "scattercarpet"
           }
          ],
          "scattergeo": [
           {
            "marker": {
             "colorbar": {
              "outlinewidth": 0,
              "ticks": ""
             }
            },
            "type": "scattergeo"
           }
          ],
          "scattergl": [
           {
            "marker": {
             "colorbar": {
              "outlinewidth": 0,
              "ticks": ""
             }
            },
            "type": "scattergl"
           }
          ],
          "scattermapbox": [
           {
            "marker": {
             "colorbar": {
              "outlinewidth": 0,
              "ticks": ""
             }
            },
            "type": "scattermapbox"
           }
          ],
          "scatterpolar": [
           {
            "marker": {
             "colorbar": {
              "outlinewidth": 0,
              "ticks": ""
             }
            },
            "type": "scatterpolar"
           }
          ],
          "scatterpolargl": [
           {
            "marker": {
             "colorbar": {
              "outlinewidth": 0,
              "ticks": ""
             }
            },
            "type": "scatterpolargl"
           }
          ],
          "scatterternary": [
           {
            "marker": {
             "colorbar": {
              "outlinewidth": 0,
              "ticks": ""
             }
            },
            "type": "scatterternary"
           }
          ],
          "surface": [
           {
            "colorbar": {
             "outlinewidth": 0,
             "ticks": ""
            },
            "colorscale": [
             [
              0,
              "#0d0887"
             ],
             [
              0.1111111111111111,
              "#46039f"
             ],
             [
              0.2222222222222222,
              "#7201a8"
             ],
             [
              0.3333333333333333,
              "#9c179e"
             ],
             [
              0.4444444444444444,
              "#bd3786"
             ],
             [
              0.5555555555555556,
              "#d8576b"
             ],
             [
              0.6666666666666666,
              "#ed7953"
             ],
             [
              0.7777777777777778,
              "#fb9f3a"
             ],
             [
              0.8888888888888888,
              "#fdca26"
             ],
             [
              1,
              "#f0f921"
             ]
            ],
            "type": "surface"
           }
          ],
          "table": [
           {
            "cells": {
             "fill": {
              "color": "#EBF0F8"
             },
             "line": {
              "color": "white"
             }
            },
            "header": {
             "fill": {
              "color": "#C8D4E3"
             },
             "line": {
              "color": "white"
             }
            },
            "type": "table"
           }
          ]
         },
         "layout": {
          "annotationdefaults": {
           "arrowcolor": "#2a3f5f",
           "arrowhead": 0,
           "arrowwidth": 1
          },
          "autotypenumbers": "strict",
          "coloraxis": {
           "colorbar": {
            "outlinewidth": 0,
            "ticks": ""
           }
          },
          "colorscale": {
           "diverging": [
            [
             0,
             "#8e0152"
            ],
            [
             0.1,
             "#c51b7d"
            ],
            [
             0.2,
             "#de77ae"
            ],
            [
             0.3,
             "#f1b6da"
            ],
            [
             0.4,
             "#fde0ef"
            ],
            [
             0.5,
             "#f7f7f7"
            ],
            [
             0.6,
             "#e6f5d0"
            ],
            [
             0.7,
             "#b8e186"
            ],
            [
             0.8,
             "#7fbc41"
            ],
            [
             0.9,
             "#4d9221"
            ],
            [
             1,
             "#276419"
            ]
           ],
           "sequential": [
            [
             0,
             "#0d0887"
            ],
            [
             0.1111111111111111,
             "#46039f"
            ],
            [
             0.2222222222222222,
             "#7201a8"
            ],
            [
             0.3333333333333333,
             "#9c179e"
            ],
            [
             0.4444444444444444,
             "#bd3786"
            ],
            [
             0.5555555555555556,
             "#d8576b"
            ],
            [
             0.6666666666666666,
             "#ed7953"
            ],
            [
             0.7777777777777778,
             "#fb9f3a"
            ],
            [
             0.8888888888888888,
             "#fdca26"
            ],
            [
             1,
             "#f0f921"
            ]
           ],
           "sequentialminus": [
            [
             0,
             "#0d0887"
            ],
            [
             0.1111111111111111,
             "#46039f"
            ],
            [
             0.2222222222222222,
             "#7201a8"
            ],
            [
             0.3333333333333333,
             "#9c179e"
            ],
            [
             0.4444444444444444,
             "#bd3786"
            ],
            [
             0.5555555555555556,
             "#d8576b"
            ],
            [
             0.6666666666666666,
             "#ed7953"
            ],
            [
             0.7777777777777778,
             "#fb9f3a"
            ],
            [
             0.8888888888888888,
             "#fdca26"
            ],
            [
             1,
             "#f0f921"
            ]
           ]
          },
          "colorway": [
           "#636efa",
           "#EF553B",
           "#00cc96",
           "#ab63fa",
           "#FFA15A",
           "#19d3f3",
           "#FF6692",
           "#B6E880",
           "#FF97FF",
           "#FECB52"
          ],
          "font": {
           "color": "#2a3f5f"
          },
          "geo": {
           "bgcolor": "white",
           "lakecolor": "white",
           "landcolor": "#E5ECF6",
           "showlakes": true,
           "showland": true,
           "subunitcolor": "white"
          },
          "hoverlabel": {
           "align": "left"
          },
          "hovermode": "closest",
          "mapbox": {
           "style": "light"
          },
          "paper_bgcolor": "white",
          "plot_bgcolor": "#E5ECF6",
          "polar": {
           "angularaxis": {
            "gridcolor": "white",
            "linecolor": "white",
            "ticks": ""
           },
           "bgcolor": "#E5ECF6",
           "radialaxis": {
            "gridcolor": "white",
            "linecolor": "white",
            "ticks": ""
           }
          },
          "scene": {
           "xaxis": {
            "backgroundcolor": "#E5ECF6",
            "gridcolor": "white",
            "gridwidth": 2,
            "linecolor": "white",
            "showbackground": true,
            "ticks": "",
            "zerolinecolor": "white"
           },
           "yaxis": {
            "backgroundcolor": "#E5ECF6",
            "gridcolor": "white",
            "gridwidth": 2,
            "linecolor": "white",
            "showbackground": true,
            "ticks": "",
            "zerolinecolor": "white"
           },
           "zaxis": {
            "backgroundcolor": "#E5ECF6",
            "gridcolor": "white",
            "gridwidth": 2,
            "linecolor": "white",
            "showbackground": true,
            "ticks": "",
            "zerolinecolor": "white"
           }
          },
          "shapedefaults": {
           "line": {
            "color": "#2a3f5f"
           }
          },
          "ternary": {
           "aaxis": {
            "gridcolor": "white",
            "linecolor": "white",
            "ticks": ""
           },
           "baxis": {
            "gridcolor": "white",
            "linecolor": "white",
            "ticks": ""
           },
           "bgcolor": "#E5ECF6",
           "caxis": {
            "gridcolor": "white",
            "linecolor": "white",
            "ticks": ""
           }
          },
          "title": {
           "x": 0.05
          },
          "xaxis": {
           "automargin": true,
           "gridcolor": "white",
           "linecolor": "white",
           "ticks": "",
           "title": {
            "standoff": 15
           },
           "zerolinecolor": "white",
           "zerolinewidth": 2
          },
          "yaxis": {
           "automargin": true,
           "gridcolor": "white",
           "linecolor": "white",
           "ticks": "",
           "title": {
            "standoff": 15
           },
           "zerolinecolor": "white",
           "zerolinewidth": 2
          }
         }
        },
        "width": 800,
        "xaxis": {
         "anchor": "y",
         "domain": [
          0,
          1
         ],
         "title": {
          "text": "0"
         }
        },
        "yaxis": {
         "anchor": "x",
         "domain": [
          0,
          1
         ],
         "title": {
          "text": "1"
         }
        }
       }
      },
      "text/html": [
       "<div>                            <div id=\"81756a7d-9822-404b-a2ea-a18a36957de0\" class=\"plotly-graph-div\" style=\"height:800px; width:800px;\"></div>            <script type=\"text/javascript\">                require([\"plotly\"], function(Plotly) {                    window.PLOTLYENV=window.PLOTLYENV || {};                                    if (document.getElementById(\"81756a7d-9822-404b-a2ea-a18a36957de0\")) {                    Plotly.newPlot(                        \"81756a7d-9822-404b-a2ea-a18a36957de0\",                        [{\"hovertemplate\":\"<b>%{hovertext}</b><br><br>0=%{x}<br>1=%{y}<extra></extra>\",\"hovertext\":[\"se\",\"esse\",\"caesar\",\"his\",\"eo\",\"sibi\",\"eorum\",\"eos\",\"castris\",\"omnibus\",\"ne\",\"iis\",\"eius\",\"eum\",\"castra\",\"ea\",\"id\",\"causa\",\"omnes\",\"hostes\",\"uti\",\"sese\",\"romani\",\"bellum\",\"propter\",\"suis\",\"quos\",\"hostium\",\"proelio\",\"ubi\",\"fines\",\"partem\",\"populi\",\"nostri\",\"esset\",\"exercitum\",\"possent\",\"caesarem\",\"inter\",\"rhenum\",\"ipse\",\"suos\",\"loco\",\"milia\",\"posse\",\"nostros\",\"flumen\",\"quid\",\"pro\",\"parte\",\"gallia\",\"nostris\",\"locum\",\"una\",\"omnia\",\"galliae\",\"quorum\",\"finibus\",\"magno\",\"sua\",\"armis\",\"naves\",\"rei\",\"obsides\",\"hostibus\",\"posset\",\"iam\",\"circiter\",\"milites\",\"die\",\"legatos\",\"hominum\",\"apud\",\"eam\",\"sine\",\"quas\",\"navibus\",\"ante\",\"nihil\",\"tempore\",\"belli\",\"item\",\"helvetii\",\"copiis\",\"essent\",\"passuum\",\"omnium\",\"legiones\",\"iter\",\"locis\",\"copias\",\"itinere\",\"satis\",\"omni\",\"quem\",\"ibi\",\"itaque\",\"equites\",\"proelium\",\"consilio\",\"minus\",\"primum\",\"nam\",\"numero\",\"facta\",\"suo\",\"rerum\",\"ariovistus\",\"galliam\",\"celeriter\",\"magna\",\"militum\",\"eodem\",\"tempus\",\"bello\",\"facere\",\"fere\",\"multitudine\",\"iussit\",\"ipsi\",\"civitates\",\"fuga\",\"virtute\",\"propterea\",\"caesaris\",\"unum\",\"legati\",\"caesari\",\"illi\",\"tanta\",\"tum\",\"auxilium\",\"eas\",\"suas\",\"oppidum\",\"equitatu\",\"post\",\"interim\",\"hac\",\"trans\",\"aciem\",\"oppido\",\"pars\",\"transire\",\"fuit\",\"exercitus\",\"germani\",\"homines\",\"contendit\",\"habere\",\"seque\",\"contra\",\"romano\",\"milibus\",\"coeperunt\",\"l\",\"gallorum\",\"gallis\",\"c\",\"suam\",\"navium\",\"fluminis\",\"longius\",\"helvetios\",\"misit\",\"tela\",\"subito\",\"flumine\",\"uno\",\"periculo\",\"hi\",\"numerum\",\"eadem\",\"totius\",\"natura\",\"loci\",\"quin\",\"omnem\",\"amplius\",\"reliquos\",\"spe\",\"helvetiorum\",\"caesare\",\"haeduorum\",\"nostrorum\",\"adventu\",\"prius\",\"haeduos\",\"vi\",\"diem\",\"multis\",\"magnam\",\"facile\",\"paucis\",\"milium\",\"provinciam\",\"sub\",\"undique\",\"ei\",\"modo\",\"agris\",\"arma\",\"x\",\"vero\",\"agros\",\"nisi\",\"pace\",\"proeliis\",\"fidem\",\"multitudinem\",\"compluribus\",\"dies\",\"diebus\",\"longe\",\"populo\",\"nocte\",\"fieri\",\"habebat\",\"haeduis\",\"germanorum\",\"postea\",\"omnino\",\"germanos\",\"legatis\",\"facto\",\"superiore\",\"cuius\",\"impetum\",\"diutius\",\"militibus\",\"legionibus\",\"helvetiis\",\"ariovisti\",\"reliquis\",\"legatum\",\"enim\",\"magnum\",\"suum\",\"q\",\"p\",\"certior\",\"quarum\",\"sit\",\"poterant\",\"fecerunt\",\"equitum\",\"provinciae\",\"amicitiam\",\"civitatis\",\"existimabat\",\"partes\",\"hostem\",\"constituit\",\"summa\",\"romanorum\",\"is\",\"omnis\",\"contenderunt\",\"sequanos\",\"ob\",\"opere\",\"habebant\",\"frumentum\",\"silvas\",\"domum\",\"supra\",\"duas\",\"spatio\",\"diei\",\"reliqui\",\"ariovistum\",\"rursus\",\"ferre\",\"sui\",\"xii\",\"pugnatum\",\"iubet\",\"sequanis\",\"coepit\",\"vim\",\"arbitrabatur\",\"suaque\",\"paulo\",\"crassus\",\"factus\",\"pedum\",\"britanniam\",\"germanis\",\"tam\",\"m\",\"magis\",\"consuetudine\",\"solum\",\"pugnae\",\"ipsis\",\"haedui\",\"oratione\",\"inde\",\"pugna\",\"complures\",\"romanum\",\"fore\",\"usus\",\"fecisset\",\"oppida\",\"oppidis\",\"factum\",\"summam\",\"hunc\",\"maxime\",\"populum\",\"secum\",\"simul\",\"senatu\",\"hos\",\"exercitu\",\"respondit\",\"potestatem\",\"fugam\",\"iure\",\"mittit\",\"tertia\",\"impedimenta\",\"reliqua\",\"celeritate\",\"tantum\",\"sive\",\"vigilia\",\"annos\",\"t\",\"civitate\",\"earum\",\"praeter\",\"frumento\",\"commode\",\"nationes\",\"plurimum\",\"petere\",\"alia\",\"impedimentis\",\"nostra\",\"receperunt\",\"idem\",\"vulneribus\",\"agri\",\"belgis\",\"hanc\",\"saepe\",\"signa\",\"praesidio\",\"domo\",\"virtutis\",\"venire\",\"dare\",\"imperio\",\"legionem\",\"legionis\",\"sequanorum\",\"altitudinem\",\"equitatus\",\"voluntate\",\"agmen\",\"haberent\",\"nostram\",\"spem\",\"opus\",\"quantum\",\"pervenit\",\"iniuria\",\"adducti\",\"ipsos\",\"pacem\",\"prima\",\"facilius\",\"castrorum\",\"usui\",\"vellet\",\"loca\",\"suae\",\"legione\",\"haberet\",\"influit\",\"imperium\",\"montem\",\"latitudinem\",\"spatium\",\"mittunt\",\"auctoritate\",\"memoria\",\"superioribus\",\"ostendit\",\"magnis\",\"dictum\",\"gallos\",\"animo\",\"itineribus\",\"navi\",\"gravius\",\"romanos\",\"conloquio\",\"quicquam\",\"has\",\"equitatum\",\"reliquum\",\"modum\",\"romanis\",\"quaeque\",\"fortunam\",\"acie\",\"huic\",\"reliquae\",\"iiii\",\"salutem\",\"praeerat\",\"oporteret\",\"paulatim\",\"concilio\",\"xv\",\"pervenerunt\",\"equis\",\"cohortatus\",\"latere\",\"aperto\",\"timore\",\"acriter\",\"vallo\",\"salutis\",\"barbari\",\"consilii\",\"reverti\",\"confecto\",\"gratiam\",\"tenere\",\"primo\",\"quisque\",\"venerunt\",\"deinde\",\"muro\",\"remis\",\"duae\",\"viribus\",\"ii\",\"profectus\",\"diu\",\"fugae\",\"acceptis\",\"venerant\",\"sint\",\"crasso\",\"etsi\",\"barbaris\",\"regionibus\",\"quoque\",\"facerent\",\"collis\",\"causam\",\"opinionem\",\"obsidibus\",\"incensis\",\"temporis\",\"ratio\",\"multa\",\"traditis\",\"miserunt\",\"mercatores\",\"dixerunt\",\"potuit\",\"sustinere\",\"horum\",\"victis\",\"acies\",\"sabinus\",\"arbitratus\",\"civitas\",\"videbat\",\"cohortibus\",\"huc\",\"hoste\",\"altera\",\"monte\",\"fecit\",\"reduxit\",\"finitimis\",\"spes\",\"consilium\",\"reliquisque\",\"exercitatione\",\"magnitudine\",\"subsidio\",\"venisse\",\"statim\",\"frumenti\",\"civitatibus\",\"conloquium\",\"belgarum\",\"oportere\",\"initium\",\"belgas\",\"vii\",\"constiterunt\",\"remorum\",\"plerumque\",\"numerus\",\"fieret\",\"gratia\",\"publicae\",\"viderentur\",\"impeditos\",\"ire\",\"capere\",\"illum\",\"faceret\",\"magnopere\",\"provincia\",\"poterat\",\"cognitis\",\"italiam\",\"alii\",\"locus\",\"nomine\",\"victoria\",\"alias\",\"venit\",\"possit\",\"possint\",\"agmine\",\"intellexit\",\"labienum\",\"summo\",\"faciunt\",\"postridie\",\"existimavit\",\"exploratores\",\"impetus\",\"prohibere\",\"frumentaria\",\"extremum\",\"statuit\",\"manibus\",\"cornu\",\"genere\",\"partibus\",\"solis\",\"terga\",\"velint\",\"potuerunt\",\"multum\",\"proximi\",\"fuisset\",\"idoneum\",\"oceano\",\"dato\",\"dc\",\"coicerent\",\"pugnandi\",\"conspectu\",\"equitatumque\",\"telum\",\"equitibus\",\"discedere\",\"missa\",\"vellent\",\"suebis\",\"quare\",\"occiderunt\",\"tres\",\"diximus\",\"portis\",\"accidit\",\"tantae\",\"paulum\",\"interfecto\",\"constabat\",\"imperii\",\"aliae\",\"reliquas\",\"praedandi\",\"aedificiis\",\"dierum\",\"galli\",\"reciperent\",\"causis\",\"futurum\",\"regiones\",\"dixit\",\"tertiam\",\"obsidesque\",\"impetu\",\"viii\",\"volebat\",\"beneficio\",\"belgae\",\"incolunt\",\"mari\",\"anni\",\"contenderent\",\"auxilia\",\"praesertim\",\"convenirent\",\"civitatum\",\"nondum\",\"exploratoribus\",\"amissis\",\"condicionem\",\"finem\",\"paene\",\"principes\",\"communi\",\"multitudo\",\"agere\",\"contendere\",\"illis\",\"d\",\"iterum\",\"liberos\",\"diviciaci\",\"dicere\",\"sequi\",\"unde\",\"ipsius\",\"contulerunt\",\"perterritos\",\"pugnam\",\"frumentariae\",\"aberat\",\"intervallo\",\"rhodanum\",\"multo\",\"nulli\",\"prope\",\"allobrogum\",\"nullis\",\"perterriti\",\"teneri\",\"imperavit\",\"v\",\"cui\",\"necessario\",\"an\",\"domi\",\"aliis\",\"usum\",\"tenebat\",\"centurionibus\",\"itineris\",\"proxima\",\"isdem\",\"amicus\",\"virtutem\",\"plus\",\"secuti\",\"abesse\",\"cognito\",\"propius\",\"ultro\",\"paucos\",\"utraque\",\"permoti\",\"facultatem\",\"auderent\",\"facultas\",\"daretur\",\"intra\",\"diviciacum\",\"utrisque\",\"proficisci\",\"summum\",\"praeterea\",\"senatus\",\"legio\",\"pontem\",\"copia\",\"auxilio\",\"sueborum\",\"occupatis\"],\"legendgroup\":\"\",\"marker\":{\"color\":\"#636efa\",\"symbol\":\"circle\"},\"mode\":\"markers\",\"name\":\"\",\"orientation\":\"v\",\"showlegend\":false,\"x\":[-5.9002814292907715,-22.65297508239746,34.79286575317383,-3.6115128993988037,20.48538589477539,-22.70804786682129,-30.303239822387695,-15.182876586914062,35.708396911621094,19.27760887145996,-8.101432800292969,-25.117952346801758,7.5097856521606445,44.17280578613281,3.8778369426727295,-41.88534927368164,19.13617706298828,-17.972679138183594,-30.530593872070312,5.2884521484375,-5.678996562957764,4.236767768859863,-28.139869689941406,16.405996322631836,-45.828224182128906,-1.7613239288330078,51.62891387939453,10.234718322753906,11.863155364990234,26.95998764038086,4.260250091552734,-16.989721298217773,-25.02907371520996,1.0117138624191284,18.546077728271484,39.8353385925293,17.651992797851562,10.991598129272461,7.807219982147217,-27.23927116394043,30.758708953857422,10.635083198547363,25.98558235168457,48.51131820678711,-26.095483779907227,22.031904220581055,-24.893016815185547,11.865518569946289,5.182855606079102,-40.11687088012695,-25.41675567626953,3.8694379329681396,10.852938652038574,-20.604034423828125,9.967524528503418,-36.78158950805664,-4.220798492431641,16.683063507080078,31.759437561035156,-6.0147786140441895,-6.183840274810791,-42.20436477661133,8.325735092163086,1.6032190322875977,0.8868025541305542,18.885129928588867,-8.295175552368164,45.715999603271484,-2.601386070251465,27.05341339111328,9.063224792480469,51.90094757080078,-24.79123306274414,-36.3240966796875,18.689250946044922,36.56879425048828,-1.6143659353256226,63.30034637451172,-14.534675598144531,25.90885353088379,-21.67129135131836,-34.99340057373047,15.486145973205566,-14.925065040588379,-10.631295204162598,47.01048278808594,-46.80297088623047,1.2535502910614014,-38.3032112121582,-7.691750526428223,-51.63238525390625,31.62128257751465,-52.454071044921875,-59.78124237060547,47.67396926879883,-11.388468742370605,29.369129180908203,5.10860538482666,-4.7424211502075195,25.695575714111328,-33.40385818481445,18.704387664794922,-56.364585876464844,35.46063232421875,13.889815330505371,-1.4873684644699097,-42.76999282836914,33.134273529052734,-40.32606887817383,2.14388108253479,-41.551612854003906,30.747840881347656,20.374666213989258,-20.97308349609375,27.55394172668457,17.221677780151367,34.24042510986328,27.353553771972656,-4.9952521324157715,5.3709869384765625,-44.65741729736328,-16.155866622924805,-5.335553169250488,-34.04561233520508,29.328027725219727,9.80109691619873,6.370108604431152,-47.15861511230469,0.9108158349990845,-41.60685729980469,26.776723861694336,-38.76921081542969,-49.81956100463867,10.043816566467285,-9.819458961486816,-2.6850006580352783,10.995089530944824,15.434569358825684,-57.90841293334961,-22.66857147216797,1.8644884824752808,27.791109085083008,-41.14142608642578,-23.740604400634766,-39.034854888916016,11.434828758239746,33.659698486328125,-26.965450286865234,52.36371994018555,-21.207256317138672,6.111963272094727,-53.08772277832031,-10.306437492370605,48.10491180419922,10.075796127319336,44.29315185546875,7.9282684326171875,-0.11020396649837494,29.516677856445312,-28.008014678955078,-47.62826156616211,45.707576751708984,3.448009490966797,15.376513481140137,-17.643310546875,23.29888343811035,11.35899543762207,-16.53052520751953,20.2917423248291,20.82137680053711,11.534229278564453,-26.98906135559082,33.15726089477539,-39.87718200683594,-10.352203369140625,-10.19081974029541,6.144678592681885,38.26639938354492,50.28621292114258,-7.874156475067139,-37.531620025634766,24.809770584106445,-13.824156761169434,13.156217575073242,-11.17786693572998,-20.596521377563477,1.702626347541809,-13.043466567993164,5.149117469787598,13.122715950012207,60.593040466308594,-28.849388122558594,-49.31950759887695,61.4837532043457,4.596284866333008,-38.52666091918945,49.072574615478516,24.953227996826172,8.068397521972656,46.1094856262207,16.939760208129883,15.904719352722168,49.05183792114258,-28.013137817382812,11.456995964050293,-18.481548309326172,9.127482414245605,-6.307870864868164,-11.566633224487305,-47.00225830078125,11.80398941040039,-20.893436431884766,60.71428680419922,-24.72081184387207,-13.974843978881836,-22.959997177124023,11.402875900268555,-30.857141494750977,-1.3781275749206543,-26.622140884399414,3.0694591999053955,20.55132484436035,-37.16877365112305,42.29644775390625,17.860240936279297,25.721111297607422,-18.8458251953125,5.548661708831787,-27.057598114013672,12.744804382324219,38.4525032043457,-34.558937072753906,36.91337585449219,35.75958251953125,42.108516693115234,-33.01129913330078,-26.723482131958008,-35.10203170776367,44.5702018737793,45.78670120239258,42.360294342041016,-43.38663101196289,-13.947607040405273,-48.73324203491211,5.497611045837402,0.7317129969596863,-39.39413070678711,-23.735870361328125,11.753954887390137,1.6381736993789673,-41.50312805175781,-1.735006332397461,3.5609548091888428,-44.922786712646484,-7.038695812225342,47.03702926635742,-28.747905731201172,-14.554658889770508,-16.778148651123047,-35.330177307128906,15.908960342407227,-28.691272735595703,-28.53536605834961,18.261411666870117,-14.397809982299805,-33.55282974243164,-0.03853490576148033,39.1690788269043,6.774821758270264,-8.168052673339844,-27.726228713989258,9.52873706817627,16.438720703125,-30.351924896240234,43.90321731567383,14.102701187133789,-50.50367736816406,-2.51450777053833,45.53107833862305,-50.779258728027344,-23.18739128112793,7.158843040466309,3.5485472679138184,30.772199630737305,42.693363189697266,43.390960693359375,-34.3880729675293,-35.15340805053711,-12.732364654541016,45.172325134277344,25.98904800415039,-3.8536314964294434,-15.5752534866333,13.950037956237793,-20.48883056640625,0.4955587387084961,-7.396944999694824,39.15746307373047,-7.813410758972168,-27.40450668334961,-52.4752311706543,-15.086546897888184,6.5728888511657715,-32.099727630615234,9.004172325134277,0.8165619373321533,9.472490310668945,45.972259521484375,-25.82259750366211,-9.453916549682617,-52.703468322753906,-15.683165550231934,0.7098897695541382,-2.6389918327331543,-17.3554744720459,30.87302589416504,22.194477081298828,-26.937557220458984,-5.605604648590088,-7.81466007232666,13.371716499328613,-36.592613220214844,9.241522789001465,-58.22815704345703,-4.4182634353637695,24.659765243530273,6.888703346252441,41.56366729736328,-9.325751304626465,42.996253967285156,-3.987489938735962,-43.525264739990234,29.126771926879883,-14.898036003112793,-49.75785446166992,0.32028648257255554,-16.094436645507812,-15.183089256286621,-42.166690826416016,6.501588344573975,9.726899147033691,10.574499130249023,21.76988410949707,-4.373406887054443,28.694364547729492,-4.277850151062012,-28.289960861206055,29.59044647216797,16.096071243286133,38.094635009765625,-2.732293128967285,-28.504642486572266,-31.119892120361328,0.3131517171859741,-29.61521339416504,51.48841094970703,50.72370147705078,13.348238945007324,46.83641052246094,-19.40899085998535,-10.240815162658691,17.143428802490234,-18.90285301208496,-38.10097885131836,-33.2574462890625,13.563864707946777,-20.613826751708984,17.510286331176758,17.995277404785156,-40.14892578125,-5.63116455078125,-21.876554489135742,15.637833595275879,-22.851396560668945,38.70738983154297,29.85150718688965,11.157557487487793,34.557472229003906,-19.289268493652344,40.92573928833008,-12.851263999938965,-25.409713745117188,-20.975784301757812,10.351981163024902,46.6000862121582,48.741065979003906,10.19371223449707,28.78275489807129,41.536903381347656,-5.8855791091918945,7.913297176361084,52.153564453125,62.121124267578125,-31.537376403808594,-36.62701416015625,53.09519958496094,26.1554012298584,9.70256519317627,36.63581848144531,12.184819221496582,-38.75225830078125,-47.10651397705078,37.542945861816406,-21.684728622436523,-26.398019790649414,-37.62028121948242,-5.996140956878662,-20.185577392578125,3.494034767150879,-13.46572208404541,-36.854026794433594,46.32550048828125,-15.541580200195312,-39.584747314453125,-47.88993835449219,4.6454176902771,-7.634854793548584,47.87436294555664,-32.65113067626953,26.126644134521484,16.84784507751465,21.885339736938477,26.48775863647461,7.405923366546631,13.366853713989258,43.50954818725586,15.118021011352539,-7.461670875549316,6.521841526031494,10.390619277954102,25.487211227416992,-24.084373474121094,18.013032913208008,-40.724456787109375,-13.974156379699707,6.652932167053223,-30.235740661621094,24.42967987060547,1.7542179822921753,-36.68423080444336,-4.165346145629883,-7.134101867675781,37.18790817260742,14.307832717895508,9.308817863464355,-4.801736831665039,1.4429011344909668,-2.5593369007110596,42.41957473754883,-48.26949691772461,-43.380592346191406,37.249549865722656,-4.6943535804748535,-30.75885581970215,22.837268829345703,-34.07454299926758,-10.019763946533203,-6.597147464752197,17.525331497192383,27.671188354492188,5.665450096130371,-24.035825729370117,-6.49320125579834,7.714900970458984,-8.19028091430664,5.210742473602295,54.3948974609375,19.975635528564453,-40.49934387207031,-39.63722229003906,14.455141067504883,42.00800323486328,-50.442630767822266,-37.06106948852539,-15.411367416381836,45.40829086303711,25.951419830322266,48.67926025390625,-38.02811050415039,41.250694274902344,9.540488243103027,3.352788209915161,0.9562125205993652,-27.43540382385254,-8.695778846740723,-0.8206393718719482,-12.837823867797852,-32.87211990356445,2.436102867126465,-46.4740104675293,-6.310871601104736,39.99933624267578,-1.9143046140670776,-9.969305038452148,10.80097770690918,-27.957929611206055,9.267685890197754,-30.460981369018555,42.2568359375,1.7972097396850586,15.640701293945312,-7.963322639465332,4.232749938964844,-4.935422420501709,-14.822530746459961,7.313185214996338,37.625762939453125,1.9940098524093628,4.786523818969727,-1.520369291305542,21.224563598632812,-29.052583694458008,-6.7802581787109375,-32.85268020629883,-33.677940368652344,-9.580513954162598,38.029457092285156,2.3939266204833984,2.665156364440918,1.207584261894226,-5.567776679992676,-20.38062286376953,46.183448791503906,-49.906070709228516,-20.958860397338867,5.360610008239746,24.01729393005371,42.26424026489258,4.007072925567627,0.32774457335472107,7.1661834716796875,-9.01289176940918,41.0676155090332,15.357171058654785,-23.521390914916992,28.37575912475586,-36.33332824707031,34.638084411621094,1.0315110683441162,13.804407119750977,-10.106287002563477,-13.99381160736084,15.032999038696289,6.587222576141357,-11.510191917419434,4.6190104484558105,-9.915855407714844,-30.01329803466797,3.2343239784240723,11.070135116577148,-25.220130920410156,7.164618015289307,51.18268966674805,23.00482940673828,-11.31345272064209,26.841312408447266,37.91347122192383,20.6829891204834,-37.95355987548828,11.672846794128418,24.45965003967285,-12.330785751342773,-37.90964889526367,-34.83802032470703,-26.465822219848633,-32.246315002441406,-33.6774787902832,15.983610153198242,0.8070512413978577,-35.99873733520508,-9.541754722595215,34.05049514770508,-36.687801361083984,45.25992202758789,-41.8247184753418,0.27337944507598877,-19.242765426635742,17.545427322387695,29.35696792602539,27.946561813354492,10.555591583251953,35.31795883178711,-28.45379638671875,-50.41304016113281,-15.213668823242188,0.20991326868534088,-0.07422646880149841,28.684215545654297,47.69298553466797,-21.85335922241211,-2.1965043544769287,-30.57273292541504,-26.831058502197266,-25.095149993896484,-20.736326217651367,8.402503967285156,-46.55058288574219,-39.230857849121094,25.04499053955078,15.085898399353027,-20.312122344970703,41.28491973876953,-0.09186924993991852,2.9648282527923584,-10.904033660888672,-29.984798431396484,4.3466410636901855,-18.449769973754883,-57.86100769042969,11.210841178894043,14.675580978393555,8.446050643920898,49.63429260253906,7.458219528198242,4.512060165405273,-8.631059646606445,-46.30925750732422,10.824308395385742,30.634973526000977,4.632779121398926,-10.016656875610352,-6.368605613708496,30.765281677246094,6.984972953796387,47.44374465942383,42.605140686035156,-25.893747329711914,38.969093322753906,-1.4880852699279785,44.8149299621582,25.04473304748535,-29.346893310546875,-5.113494873046875,-29.841472625732422,-1.8495410680770874,24.32921600341797,46.6440544128418,-12.149931907653809,-3.1074764728546143,-14.592537879943848,-15.678254127502441,-27.47115707397461,44.91545867919922,34.03233337402344,-36.776302337646484,52.683807373046875,29.243438720703125,-3.1841108798980713,-19.925262451171875,-12.582414627075195,-23.02541732788086,-17.81162452697754,31.608327865600586,14.820466041564941,6.529397964477539,-22.452892303466797,-38.925926208496094,-9.900857925415039,-21.710891723632812,-37.32081985473633,9.609574317932129,8.80865478515625,10.27885913848877,-35.86920928955078,12.417247772216797,-49.950069427490234,-51.538978576660156,-15.642410278320312,-10.701982498168945,-38.114540100097656,37.16641616821289,0.9405056238174438,-19.213237762451172,-10.9932279586792,-9.679427146911621],\"xaxis\":\"x\",\"y\":[40.8037109375,31.300369262695312,38.674564361572266,-10.164850234985352,6.318709850311279,39.86611557006836,-14.513532638549805,71.6728515625,-47.20381164550781,14.179990768432617,11.081729888916016,-36.099761962890625,7.058976173400879,18.189302444458008,-66.18250274658203,-22.698022842407227,61.62853240966797,-5.09658145904541,4.038649559020996,-39.035072326660156,25.606103897094727,35.25362777709961,38.36699676513672,60.63145446777344,-10.968807220458984,20.939208984375,-17.15389060974121,-55.273860931396484,-5.861879825592041,-52.09517288208008,27.875080108642578,-20.438230514526367,38.98270797729492,-38.32985305786133,-5.8882222175598145,-46.6502685546875,-37.5051383972168,38.44915008544922,19.826093673706055,-8.272078514099121,5.987394332885742,19.049745559692383,-24.32098388671875,-21.759994506835938,36.65118408203125,-45.848331451416016,-9.818763732910156,57.83012390136719,-55.319786071777344,-25.595409393310547,13.555749893188477,-46.4971809387207,-12.247879981994629,-33.62005615234375,31.981258392333984,10.101895332336426,32.85316848754883,21.711444854736328,-15.050994873046875,51.64848709106445,15.474392890930176,-34.27594757080078,68.16083526611328,32.9186897277832,-17.745079040527344,-30.1074161529541,69.01655578613281,-22.625118255615234,-37.50659942626953,-3.426081657409668,40.65891647338867,-19.58092498779297,52.67567443847656,48.01129913330078,59.23023986816406,7.679727077484131,-14.833818435668945,-6.960625648498535,67.48072814941406,-3.1207807064056396,17.912044525146484,-40.49789047241211,27.426435470581055,-27.67127227783203,18.497533798217773,-25.722402572631836,-2.293473243713379,-66.40205383300781,37.734596252441406,-11.104813575744629,33.965545654296875,-25.59025764465332,22.684667587280273,-11.03675365447998,21.362991333007812,-24.87363052368164,-19.83547592163086,-33.05171203613281,-47.05801010131836,23.494348526000977,42.71925354003906,-54.14228439331055,-8.924208641052246,-15.326363563537598,-2.045522451400757,55.2264404296875,-3.9602866172790527,39.34161376953125,36.04766845703125,2.6153204441070557,-17.949968338012695,43.21884536743164,4.071029186248779,20.58619499206543,41.2996711730957,63.13407516479492,-12.303977012634277,-13.944131851196289,-28.5403995513916,-59.86393737792969,34.657989501953125,-52.446014404296875,-7.092552661895752,-4.052363395690918,39.35692596435547,-9.861854553222656,43.87788009643555,36.44515609741211,43.80118179321289,-16.36846351623535,-50.868141174316406,26.013648986816406,35.0648078918457,22.483278274536133,-26.243473052978516,-51.82787322998047,-39.58027267456055,-3.576693058013916,-12.981361389160156,-9.938699722290039,-58.742313385009766,-3.851417064666748,-26.109567642211914,-11.497562408447266,-0.8300235867500305,3.5767383575439453,23.743892669677734,25.527257919311523,0.5781492590904236,10.757101058959961,34.780029296875,42.8669319152832,45.87115478515625,-22.67610740661621,-42.3936653137207,9.446024894714355,25.986154556274414,-12.13727855682373,41.146873474121094,29.330970764160156,-12.903475761413574,-30.825206756591797,-40.488975524902344,22.249971389770508,-34.58648681640625,-44.81729507446289,-32.950347900390625,-20.460735321044922,3.675375461578369,58.18507766723633,-44.393245697021484,-32.803218841552734,23.43263053894043,12.88058090209961,-16.453750610351562,-17.46323585510254,57.31880187988281,-45.556549072265625,-23.136507034301758,-46.7254638671875,-14.181750297546387,31.915115356445312,48.04473114013672,22.527565002441406,70.94647979736328,3.1931889057159424,40.19735336303711,34.885345458984375,-51.31139373779297,52.79670715332031,-8.682990074157715,-10.727161407470703,23.019594192504883,-7.2931365966796875,-23.364891052246094,36.53265380859375,-45.7961311340332,-18.791004180908203,58.005062103271484,-34.42227554321289,13.041694641113281,-38.0186767578125,-31.807294845581055,3.335214614868164,24.096097946166992,45.672183990478516,39.43659973144531,-7.3579182624816895,57.181190490722656,-12.187278747558594,-25.298938751220703,-39.98118209838867,-6.348382472991943,-2.3380510807037354,50.137001037597656,-41.52251434326172,56.457786560058594,-33.352272033691406,29.314435958862305,-11.817486763000488,-21.92910385131836,-28.549772262573242,3.1915106773376465,21.651824951171875,-0.2508428692817688,-28.31277084350586,5.14328670501709,-32.06208038330078,42.327205657958984,-25.208532333374023,10.571677207946777,38.40135955810547,-41.861106872558594,9.536111831665039,11.329790115356445,23.536502838134766,-34.5772819519043,24.10987091064453,12.998689651489258,14.765632629394531,-1.8717758655548096,-6.044559001922607,49.51879119873047,21.970069885253906,-30.34760093688965,-44.9857063293457,13.00570297241211,37.79451370239258,43.9371452331543,-14.66899585723877,11.899443626403809,-64.83382415771484,-56.39611053466797,-10.232351303100586,-28.952714920043945,18.8341064453125,14.536309242248535,-49.423152923583984,69.9248275756836,47.21697998046875,-58.201419830322266,-30.109100341796875,44.07490921020508,0.13164055347442627,-47.980342864990234,-39.785400390625,-64.7912368774414,-26.67694091796875,5.893439769744873,-20.491533279418945,52.30226135253906,-39.95230484008789,-37.8576545715332,26.206270217895508,-26.222370147705078,-4.891395568847656,14.375866889953613,29.29062271118164,22.144744873046875,13.883115768432617,36.11030197143555,32.29214096069336,-38.0389289855957,1.5951170921325684,-1.3564188480377197,-27.30034828186035,-37.603721618652344,2.020198345184326,19.184297561645508,13.96975326538086,22.05689811706543,51.097721099853516,-7.50307559967041,51.8747673034668,9.014843940734863,28.78636360168457,3.345392942428589,5.856622695922852,3.8609871864318848,-37.23039245605469,42.318477630615234,43.02632141113281,-2.021298885345459,39.708229064941406,31.735641479492188,9.54923152923584,2.71079421043396,-11.440009117126465,-28.601612091064453,47.09737777709961,41.68964767456055,11.182374000549316,-43.940879821777344,52.71504211425781,-7.838374137878418,4.902551174163818,42.06571960449219,52.176063537597656,-46.23756790161133,42.44515609741211,40.49312210083008,-25.837657928466797,-35.045318603515625,-11.363119125366211,-39.158050537109375,-49.27937316894531,-2.1218647956848145,12.518233299255371,33.12177276611328,9.7598237991333,53.3957405090332,-5.4111833572387695,37.068138122558594,-20.537893295288086,23.743282318115234,26.135217666625977,69.5174331665039,-50.89359664916992,-32.563987731933594,-48.77071762084961,-55.845947265625,-16.1722354888916,42.05486297607422,-55.03032302856445,37.42531204223633,23.632434844970703,27.475982666015625,-13.848978042602539,-54.02505111694336,-47.61528015136719,21.60050392150879,26.399578094482422,40.15834045410156,32.92306137084961,39.80502700805664,-31.922685623168945,-32.16521072387695,22.904848098754883,-31.969831466674805,-34.38425827026367,58.69994354248047,-50.60839080810547,18.22247886657715,36.173316955566406,33.09954833984375,-3.2844908237457275,2.417773962020874,17.286264419555664,60.914405822753906,-12.526877403259277,10.835524559020996,37.624900817871094,-55.334922790527344,-14.309894561767578,-31.99449348449707,-28.43878936767578,55.46026611328125,-10.611481666564941,42.367774963378906,-22.97369956970215,31.19910430908203,-8.057869911193848,29.460599899291992,-15.02611255645752,-32.7268180847168,-45.61039733886719,40.767662048339844,-13.81259536743164,-12.243003845214844,-7.983076095581055,57.49752426147461,-0.09062308818101883,-7.3284101486206055,2.9176828861236572,32.430946350097656,1.06502366065979,-49.98766326904297,54.805118560791016,-33.58957290649414,53.934356689453125,0.415736585855484,-1.9990284442901611,-44.82714080810547,27.020172119140625,-29.472211837768555,28.45193099975586,-28.76441192626953,30.365379333496094,-57.43915939331055,-26.490556716918945,-31.76255226135254,-21.972808837890625,-51.497623443603516,-33.764007568359375,26.16718101501465,-50.135780334472656,43.161495208740234,-26.178665161132812,-40.35227966308594,21.25220489501953,-50.11963653564453,-30.518009185791016,-27.979188919067383,-52.130558013916016,-5.844026565551758,-28.594375610351562,-23.00131607055664,-33.85635757446289,51.92475509643555,17.48214340209961,33.09592819213867,38.35673904418945,-52.35270309448242,-14.137075424194336,35.195152282714844,42.6992073059082,16.207712173461914,-46.63484573364258,-20.378061294555664,-31.007610321044922,-38.328575134277344,-44.325523376464844,9.276336669921875,-5.6917572021484375,-31.780704498291016,-55.31415939331055,-53.01210021972656,32.94072341918945,2.174038887023926,-13.620912551879883,-7.025847911834717,12.840702056884766,24.651248931884766,-35.68229675292969,-31.289644241333008,43.972957611083984,69.55844116210938,12.719947814941406,15.45313835144043,-33.0052604675293,67.4913330078125,-7.451796054840088,14.42404556274414,39.64542007446289,-6.113142967224121,34.01713562011719,0.6137248873710632,-31.992708206176758,-13.553160667419434,1.100561261177063,-56.10590744018555,8.42767333984375,24.760143280029297,1.129807472229004,41.55901336669922,7.706845283508301,-21.705516815185547,-27.55240249633789,-25.658233642578125,-27.441566467285156,42.85634994506836,-66.04202270507812,9.742053985595703,13.761650085449219,5.84562349319458,-13.4459228515625,70.32896423339844,2.8272511959075928,-53.20328140258789,34.91305923461914,2.523306369781494,-22.07199478149414,-12.202383995056152,56.138465881347656,22.307130813598633,42.582984924316406,1.968145489692688,2.7970409393310547,-24.202539443969727,-42.670387268066406,14.434622764587402,-34.21494674682617,-23.055822372436523,-41.140560150146484,69.03401184082031,67.29134368896484,-32.83951187133789,-34.278602600097656,28.95269012451172,2.1127121448516846,57.987545013427734,52.45790100097656,11.709178924560547,-4.2626051902771,23.723182678222656,28.597742080688477,8.93464469909668,-48.766075134277344,16.00754165649414,50.39763641357422,52.90114974975586,7.147165298461914,20.922636032104492,8.522330284118652,28.454965591430664,-41.49473571777344,-50.32704544067383,10.550436019897461,-48.86893081665039,35.41807556152344,6.043394088745117,7.379762649536133,-0.5966286659240723,-24.38680648803711,-12.535948753356934,-20.5280704498291,12.838099479675293,13.648423194885254,-34.06431579589844,-56.376075744628906,-33.615543365478516,-26.982128143310547,-16.869596481323242,-37.96977615356445,33.970272064208984,-39.26754379272461,-19.66109848022461,-13.538505554199219,16.033706665039062,-10.01280403137207,-4.3388237953186035,-38.47723388671875,-18.619205474853516,-45.59373092651367,26.26568603515625,37.28837966918945,-46.22937774658203,-30.34405517578125,-14.183775901794434,41.00216293334961,-42.68915557861328,46.147953033447266,26.749589920043945,46.82085418701172,-35.361568450927734,-6.726310729980469,-38.90752029418945,-24.74775505065918,2.8339245319366455,-0.23568260669708252,-22.483871459960938,-14.101370811462402,-23.645126342773438,-12.270585060119629,-33.53959655761719,-64.36442565917969,-8.165947914123535,14.802143096923828,41.727745056152344,-31.91835594177246,-43.18903350830078,13.111189842224121,25.05721092224121,34.53261184692383,13.301979064941406,-62.7133903503418,33.67277145385742,-28.156558990478516,-23.869640350341797,13.253918647766113,54.06684112548828,-8.843098640441895,-9.807931900024414,-3.726527452468872,18.97003746032715,0.7553149461746216,33.14954376220703,-23.269329071044922,-20.677453994750977,40.43845748901367,-8.304479598999023,-0.22458626329898834,-14.420736312866211,40.058082580566406,57.09687042236328,-3.0173184871673584,40.11866760253906,45.24136734008789,-10.845843315124512,32.378108978271484,26.53937339782715,4.1204681396484375,-25.61210060119629,38.191490173339844,32.411869049072266,55.2574577331543,34.42182540893555,-16.853734970092773,2.9962799549102783,-58.97638702392578,-18.774198532104492,-45.472652435302734,-26.31669807434082,67.40682220458984,-19.858325958251953,-26.515169143676758,-9.121208190917969,-0.12738889455795288,1.7373229265213013,-20.076980590820312,32.36397171020508,15.220996856689453,-36.85380554199219,0.6666370034217834,34.63544845581055,-20.839832305908203,-10.600244522094727,18.997541427612305,2.1229045391082764,69.72103118896484,41.08799362182617,-30.812734603881836,-12.85239315032959,-13.357388496398926,31.650405883789062,2.9242496490478516,1.7867836952209473,52.850807189941406,5.379369735717773,45.771114349365234,-38.36344528198242,-8.817070007324219,40.01806640625,-16.823442459106445,41.014827728271484,-39.40568161010742,-24.835494995117188,-34.37975311279297,12.757814407348633,29.894893646240234,-33.0290641784668,-32.78097152709961,20.26958465576172,9.484762191772461,-8.270284652709961,8.58474349975586,42.42717361450195,12.405462265014648,33.281734466552734,-26.87856674194336,-43.06224822998047,16.10784339904785,27.355714797973633,26.646989822387695,-22.07317352294922],\"yaxis\":\"y\",\"type\":\"scatter\"}],                        {\"template\":{\"data\":{\"histogram2dcontour\":[{\"type\":\"histogram2dcontour\",\"colorbar\":{\"outlinewidth\":0,\"ticks\":\"\"},\"colorscale\":[[0.0,\"#0d0887\"],[0.1111111111111111,\"#46039f\"],[0.2222222222222222,\"#7201a8\"],[0.3333333333333333,\"#9c179e\"],[0.4444444444444444,\"#bd3786\"],[0.5555555555555556,\"#d8576b\"],[0.6666666666666666,\"#ed7953\"],[0.7777777777777778,\"#fb9f3a\"],[0.8888888888888888,\"#fdca26\"],[1.0,\"#f0f921\"]]}],\"choropleth\":[{\"type\":\"choropleth\",\"colorbar\":{\"outlinewidth\":0,\"ticks\":\"\"}}],\"histogram2d\":[{\"type\":\"histogram2d\",\"colorbar\":{\"outlinewidth\":0,\"ticks\":\"\"},\"colorscale\":[[0.0,\"#0d0887\"],[0.1111111111111111,\"#46039f\"],[0.2222222222222222,\"#7201a8\"],[0.3333333333333333,\"#9c179e\"],[0.4444444444444444,\"#bd3786\"],[0.5555555555555556,\"#d8576b\"],[0.6666666666666666,\"#ed7953\"],[0.7777777777777778,\"#fb9f3a\"],[0.8888888888888888,\"#fdca26\"],[1.0,\"#f0f921\"]]}],\"heatmap\":[{\"type\":\"heatmap\",\"colorbar\":{\"outlinewidth\":0,\"ticks\":\"\"},\"colorscale\":[[0.0,\"#0d0887\"],[0.1111111111111111,\"#46039f\"],[0.2222222222222222,\"#7201a8\"],[0.3333333333333333,\"#9c179e\"],[0.4444444444444444,\"#bd3786\"],[0.5555555555555556,\"#d8576b\"],[0.6666666666666666,\"#ed7953\"],[0.7777777777777778,\"#fb9f3a\"],[0.8888888888888888,\"#fdca26\"],[1.0,\"#f0f921\"]]}],\"heatmapgl\":[{\"type\":\"heatmapgl\",\"colorbar\":{\"outlinewidth\":0,\"ticks\":\"\"},\"colorscale\":[[0.0,\"#0d0887\"],[0.1111111111111111,\"#46039f\"],[0.2222222222222222,\"#7201a8\"],[0.3333333333333333,\"#9c179e\"],[0.4444444444444444,\"#bd3786\"],[0.5555555555555556,\"#d8576b\"],[0.6666666666666666,\"#ed7953\"],[0.7777777777777778,\"#fb9f3a\"],[0.8888888888888888,\"#fdca26\"],[1.0,\"#f0f921\"]]}],\"contourcarpet\":[{\"type\":\"contourcarpet\",\"colorbar\":{\"outlinewidth\":0,\"ticks\":\"\"}}],\"contour\":[{\"type\":\"contour\",\"colorbar\":{\"outlinewidth\":0,\"ticks\":\"\"},\"colorscale\":[[0.0,\"#0d0887\"],[0.1111111111111111,\"#46039f\"],[0.2222222222222222,\"#7201a8\"],[0.3333333333333333,\"#9c179e\"],[0.4444444444444444,\"#bd3786\"],[0.5555555555555556,\"#d8576b\"],[0.6666666666666666,\"#ed7953\"],[0.7777777777777778,\"#fb9f3a\"],[0.8888888888888888,\"#fdca26\"],[1.0,\"#f0f921\"]]}],\"surface\":[{\"type\":\"surface\",\"colorbar\":{\"outlinewidth\":0,\"ticks\":\"\"},\"colorscale\":[[0.0,\"#0d0887\"],[0.1111111111111111,\"#46039f\"],[0.2222222222222222,\"#7201a8\"],[0.3333333333333333,\"#9c179e\"],[0.4444444444444444,\"#bd3786\"],[0.5555555555555556,\"#d8576b\"],[0.6666666666666666,\"#ed7953\"],[0.7777777777777778,\"#fb9f3a\"],[0.8888888888888888,\"#fdca26\"],[1.0,\"#f0f921\"]]}],\"mesh3d\":[{\"type\":\"mesh3d\",\"colorbar\":{\"outlinewidth\":0,\"ticks\":\"\"}}],\"scatter\":[{\"fillpattern\":{\"fillmode\":\"overlay\",\"size\":10,\"solidity\":0.2},\"type\":\"scatter\"}],\"parcoords\":[{\"type\":\"parcoords\",\"line\":{\"colorbar\":{\"outlinewidth\":0,\"ticks\":\"\"}}}],\"scatterpolargl\":[{\"type\":\"scatterpolargl\",\"marker\":{\"colorbar\":{\"outlinewidth\":0,\"ticks\":\"\"}}}],\"bar\":[{\"error_x\":{\"color\":\"#2a3f5f\"},\"error_y\":{\"color\":\"#2a3f5f\"},\"marker\":{\"line\":{\"color\":\"#E5ECF6\",\"width\":0.5},\"pattern\":{\"fillmode\":\"overlay\",\"size\":10,\"solidity\":0.2}},\"type\":\"bar\"}],\"scattergeo\":[{\"type\":\"scattergeo\",\"marker\":{\"colorbar\":{\"outlinewidth\":0,\"ticks\":\"\"}}}],\"scatterpolar\":[{\"type\":\"scatterpolar\",\"marker\":{\"colorbar\":{\"outlinewidth\":0,\"ticks\":\"\"}}}],\"histogram\":[{\"marker\":{\"pattern\":{\"fillmode\":\"overlay\",\"size\":10,\"solidity\":0.2}},\"type\":\"histogram\"}],\"scattergl\":[{\"type\":\"scattergl\",\"marker\":{\"colorbar\":{\"outlinewidth\":0,\"ticks\":\"\"}}}],\"scatter3d\":[{\"type\":\"scatter3d\",\"line\":{\"colorbar\":{\"outlinewidth\":0,\"ticks\":\"\"}},\"marker\":{\"colorbar\":{\"outlinewidth\":0,\"ticks\":\"\"}}}],\"scattermapbox\":[{\"type\":\"scattermapbox\",\"marker\":{\"colorbar\":{\"outlinewidth\":0,\"ticks\":\"\"}}}],\"scatterternary\":[{\"type\":\"scatterternary\",\"marker\":{\"colorbar\":{\"outlinewidth\":0,\"ticks\":\"\"}}}],\"scattercarpet\":[{\"type\":\"scattercarpet\",\"marker\":{\"colorbar\":{\"outlinewidth\":0,\"ticks\":\"\"}}}],\"carpet\":[{\"aaxis\":{\"endlinecolor\":\"#2a3f5f\",\"gridcolor\":\"white\",\"linecolor\":\"white\",\"minorgridcolor\":\"white\",\"startlinecolor\":\"#2a3f5f\"},\"baxis\":{\"endlinecolor\":\"#2a3f5f\",\"gridcolor\":\"white\",\"linecolor\":\"white\",\"minorgridcolor\":\"white\",\"startlinecolor\":\"#2a3f5f\"},\"type\":\"carpet\"}],\"table\":[{\"cells\":{\"fill\":{\"color\":\"#EBF0F8\"},\"line\":{\"color\":\"white\"}},\"header\":{\"fill\":{\"color\":\"#C8D4E3\"},\"line\":{\"color\":\"white\"}},\"type\":\"table\"}],\"barpolar\":[{\"marker\":{\"line\":{\"color\":\"#E5ECF6\",\"width\":0.5},\"pattern\":{\"fillmode\":\"overlay\",\"size\":10,\"solidity\":0.2}},\"type\":\"barpolar\"}],\"pie\":[{\"automargin\":true,\"type\":\"pie\"}]},\"layout\":{\"autotypenumbers\":\"strict\",\"colorway\":[\"#636efa\",\"#EF553B\",\"#00cc96\",\"#ab63fa\",\"#FFA15A\",\"#19d3f3\",\"#FF6692\",\"#B6E880\",\"#FF97FF\",\"#FECB52\"],\"font\":{\"color\":\"#2a3f5f\"},\"hovermode\":\"closest\",\"hoverlabel\":{\"align\":\"left\"},\"paper_bgcolor\":\"white\",\"plot_bgcolor\":\"#E5ECF6\",\"polar\":{\"bgcolor\":\"#E5ECF6\",\"angularaxis\":{\"gridcolor\":\"white\",\"linecolor\":\"white\",\"ticks\":\"\"},\"radialaxis\":{\"gridcolor\":\"white\",\"linecolor\":\"white\",\"ticks\":\"\"}},\"ternary\":{\"bgcolor\":\"#E5ECF6\",\"aaxis\":{\"gridcolor\":\"white\",\"linecolor\":\"white\",\"ticks\":\"\"},\"baxis\":{\"gridcolor\":\"white\",\"linecolor\":\"white\",\"ticks\":\"\"},\"caxis\":{\"gridcolor\":\"white\",\"linecolor\":\"white\",\"ticks\":\"\"}},\"coloraxis\":{\"colorbar\":{\"outlinewidth\":0,\"ticks\":\"\"}},\"colorscale\":{\"sequential\":[[0.0,\"#0d0887\"],[0.1111111111111111,\"#46039f\"],[0.2222222222222222,\"#7201a8\"],[0.3333333333333333,\"#9c179e\"],[0.4444444444444444,\"#bd3786\"],[0.5555555555555556,\"#d8576b\"],[0.6666666666666666,\"#ed7953\"],[0.7777777777777778,\"#fb9f3a\"],[0.8888888888888888,\"#fdca26\"],[1.0,\"#f0f921\"]],\"sequentialminus\":[[0.0,\"#0d0887\"],[0.1111111111111111,\"#46039f\"],[0.2222222222222222,\"#7201a8\"],[0.3333333333333333,\"#9c179e\"],[0.4444444444444444,\"#bd3786\"],[0.5555555555555556,\"#d8576b\"],[0.6666666666666666,\"#ed7953\"],[0.7777777777777778,\"#fb9f3a\"],[0.8888888888888888,\"#fdca26\"],[1.0,\"#f0f921\"]],\"diverging\":[[0,\"#8e0152\"],[0.1,\"#c51b7d\"],[0.2,\"#de77ae\"],[0.3,\"#f1b6da\"],[0.4,\"#fde0ef\"],[0.5,\"#f7f7f7\"],[0.6,\"#e6f5d0\"],[0.7,\"#b8e186\"],[0.8,\"#7fbc41\"],[0.9,\"#4d9221\"],[1,\"#276419\"]]},\"xaxis\":{\"gridcolor\":\"white\",\"linecolor\":\"white\",\"ticks\":\"\",\"title\":{\"standoff\":15},\"zerolinecolor\":\"white\",\"automargin\":true,\"zerolinewidth\":2},\"yaxis\":{\"gridcolor\":\"white\",\"linecolor\":\"white\",\"ticks\":\"\",\"title\":{\"standoff\":15},\"zerolinecolor\":\"white\",\"automargin\":true,\"zerolinewidth\":2},\"scene\":{\"xaxis\":{\"backgroundcolor\":\"#E5ECF6\",\"gridcolor\":\"white\",\"linecolor\":\"white\",\"showbackground\":true,\"ticks\":\"\",\"zerolinecolor\":\"white\",\"gridwidth\":2},\"yaxis\":{\"backgroundcolor\":\"#E5ECF6\",\"gridcolor\":\"white\",\"linecolor\":\"white\",\"showbackground\":true,\"ticks\":\"\",\"zerolinecolor\":\"white\",\"gridwidth\":2},\"zaxis\":{\"backgroundcolor\":\"#E5ECF6\",\"gridcolor\":\"white\",\"linecolor\":\"white\",\"showbackground\":true,\"ticks\":\"\",\"zerolinecolor\":\"white\",\"gridwidth\":2}},\"shapedefaults\":{\"line\":{\"color\":\"#2a3f5f\"}},\"annotationdefaults\":{\"arrowcolor\":\"#2a3f5f\",\"arrowhead\":0,\"arrowwidth\":1},\"geo\":{\"bgcolor\":\"white\",\"landcolor\":\"#E5ECF6\",\"subunitcolor\":\"white\",\"showland\":true,\"showlakes\":true,\"lakecolor\":\"white\"},\"title\":{\"x\":0.05},\"mapbox\":{\"style\":\"light\"}}},\"xaxis\":{\"anchor\":\"y\",\"domain\":[0.0,1.0],\"title\":{\"text\":\"0\"}},\"yaxis\":{\"anchor\":\"x\",\"domain\":[0.0,1.0],\"title\":{\"text\":\"1\"}},\"legend\":{\"tracegroupgap\":0},\"margin\":{\"t\":60},\"height\":800,\"width\":800},                        {\"responsive\": true}                    ).then(function(){\n",
       "                            \n",
       "var gd = document.getElementById('81756a7d-9822-404b-a2ea-a18a36957de0');\n",
       "var x = new MutationObserver(function (mutations, observer) {{\n",
       "        var display = window.getComputedStyle(gd).display;\n",
       "        if (!display || display === 'none') {{\n",
       "            console.log([gd, 'removed!']);\n",
       "            Plotly.purge(gd);\n",
       "            observer.disconnect();\n",
       "        }}\n",
       "}});\n",
       "\n",
       "// Listen for the removal of the full notebook cells\n",
       "var notebookContainer = gd.closest('#notebook-container');\n",
       "if (notebookContainer) {{\n",
       "    x.observe(notebookContainer, {childList: true});\n",
       "}}\n",
       "\n",
       "// Listen for the clearing of the current output cell\n",
       "var outputEl = gd.closest('.output');\n",
       "if (outputEl) {{\n",
       "    x.observe(outputEl, {childList: true});\n",
       "}}\n",
       "\n",
       "                        })                };                });            </script>        </div>"
      ]
     },
     "metadata": {},
     "output_type": "display_data"
    }
   ],
   "source": [
    "fig = px.scatter(\n",
    "    projections, \n",
    "    x=0, y=1,\n",
    "    hover_name = np.array(vocab),\n",
    "    width=800, \n",
    "    height=800\n",
    ")\n",
    "fig.show()"
   ]
  }
 ],
 "metadata": {
  "kernelspec": {
   "display_name": "Python 3 (ipykernel)",
   "language": "python",
   "name": "python3"
  },
  "language_info": {
   "codemirror_mode": {
    "name": "ipython",
    "version": 3
   },
   "file_extension": ".py",
   "mimetype": "text/x-python",
   "name": "python",
   "nbconvert_exporter": "python",
   "pygments_lexer": "ipython3",
   "version": "3.8.16"
  }
 },
 "nbformat": 4,
 "nbformat_minor": 5
}
