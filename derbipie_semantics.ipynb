{
 "cells": [
  {
   "cell_type": "markdown",
   "id": "a4a1b6fa-be17-4083-b209-0ca13de1a55b",
   "metadata": {},
   "source": [
    "# DERBi PIE Semantics Module"
   ]
  },
  {
   "cell_type": "code",
   "execution_count": 1,
   "id": "bf800dee-f6c6-4559-b2b5-8d4dda5b3d92",
   "metadata": {
    "tags": []
   },
   "outputs": [],
   "source": [
    "# installing modules below:"
   ]
  },
  {
   "cell_type": "code",
   "execution_count": 2,
   "id": "9bc52003-b440-42b8-b3e8-04ecf6226e45",
   "metadata": {
    "tags": []
   },
   "outputs": [
    {
     "name": "stdout",
     "output_type": "stream",
     "text": [
      "Requirement already satisfied: gensim in c:\\users\\gpwal\\appdata\\roaming\\jupyterlab-desktop\\jlab_server\\lib\\site-packages (4.3.1)\n",
      "Requirement already satisfied: numpy>=1.18.5 in c:\\users\\gpwal\\appdata\\roaming\\jupyterlab-desktop\\jlab_server\\lib\\site-packages (from gensim) (1.24.3)\n",
      "Requirement already satisfied: scipy>=1.7.0 in c:\\users\\gpwal\\appdata\\roaming\\jupyterlab-desktop\\jlab_server\\lib\\site-packages (from gensim) (1.10.1)\n",
      "Requirement already satisfied: smart-open>=1.8.1 in c:\\users\\gpwal\\appdata\\roaming\\jupyterlab-desktop\\jlab_server\\lib\\site-packages (from gensim) (6.3.0)\n",
      "Note: you may need to restart the kernel to use updated packages.\n"
     ]
    }
   ],
   "source": [
    "pip install gensim"
   ]
  },
  {
   "cell_type": "code",
   "execution_count": 3,
   "id": "5e8388d7-c4fc-4e22-878d-134926eb7c56",
   "metadata": {
    "tags": []
   },
   "outputs": [
    {
     "name": "stdout",
     "output_type": "stream",
     "text": [
      "Requirement already satisfied: nltk in c:\\users\\gpwal\\appdata\\roaming\\jupyterlab-desktop\\jlab_server\\lib\\site-packages (3.8.1)Note: you may need to restart the kernel to use updated packages.\n",
      "\n",
      "Requirement already satisfied: click in c:\\users\\gpwal\\appdata\\roaming\\jupyterlab-desktop\\jlab_server\\lib\\site-packages (from nltk) (8.1.3)\n",
      "Requirement already satisfied: joblib in c:\\users\\gpwal\\appdata\\roaming\\jupyterlab-desktop\\jlab_server\\lib\\site-packages (from nltk) (1.2.0)\n",
      "Requirement already satisfied: regex>=2021.8.3 in c:\\users\\gpwal\\appdata\\roaming\\jupyterlab-desktop\\jlab_server\\lib\\site-packages (from nltk) (2023.5.5)\n",
      "Requirement already satisfied: tqdm in c:\\users\\gpwal\\appdata\\roaming\\jupyterlab-desktop\\jlab_server\\lib\\site-packages (from nltk) (4.65.0)\n",
      "Requirement already satisfied: colorama in c:\\users\\gpwal\\appdata\\roaming\\jupyterlab-desktop\\jlab_server\\lib\\site-packages (from click->nltk) (0.4.6)\n"
     ]
    }
   ],
   "source": [
    "pip install nltk"
   ]
  },
  {
   "cell_type": "code",
   "execution_count": 4,
   "id": "83bd716a-0822-4d73-a590-0d6753eab633",
   "metadata": {
    "tags": []
   },
   "outputs": [
    {
     "name": "stdout",
     "output_type": "stream",
     "text": [
      "Requirement already satisfied: scipy in c:\\users\\gpwal\\appdata\\roaming\\jupyterlab-desktop\\jlab_server\\lib\\site-packages (1.10.1)\n",
      "Requirement already satisfied: numpy<1.27.0,>=1.19.5 in c:\\users\\gpwal\\appdata\\roaming\\jupyterlab-desktop\\jlab_server\\lib\\site-packages (from scipy) (1.24.3)\n",
      "Note: you may need to restart the kernel to use updated packages.\n"
     ]
    }
   ],
   "source": [
    "pip install scipy"
   ]
  },
  {
   "cell_type": "code",
   "execution_count": 5,
   "id": "ffd5d8b2-cdc4-4390-b8f0-917f799e8c77",
   "metadata": {
    "tags": []
   },
   "outputs": [
    {
     "name": "stdout",
     "output_type": "stream",
     "text": [
      "Requirement already satisfied: gutenbergpy in c:\\users\\gpwal\\appdata\\roaming\\jupyterlab-desktop\\jlab_server\\lib\\site-packages (0.3.5)\n",
      "Requirement already satisfied: future>=0.15.2 in c:\\users\\gpwal\\appdata\\roaming\\jupyterlab-desktop\\jlab_server\\lib\\site-packages (from gutenbergpy) (0.18.3)\n",
      "Requirement already satisfied: httpsproxy-urllib2 in c:\\users\\gpwal\\appdata\\roaming\\jupyterlab-desktop\\jlab_server\\lib\\site-packages (from gutenbergpy) (1.0)\n",
      "Requirement already satisfied: lxml>=3.2.0 in c:\\users\\gpwal\\appdata\\roaming\\jupyterlab-desktop\\jlab_server\\lib\\site-packages (from gutenbergpy) (4.9.2)\n",
      "Requirement already satisfied: pymongo in c:\\users\\gpwal\\appdata\\roaming\\jupyterlab-desktop\\jlab_server\\lib\\site-packages (from gutenbergpy) (4.3.3)\n",
      "Requirement already satisfied: setuptools>=18.5 in c:\\users\\gpwal\\appdata\\roaming\\jupyterlab-desktop\\jlab_server\\lib\\site-packages (from gutenbergpy) (67.7.2)\n",
      "Requirement already satisfied: chardet in c:\\users\\gpwal\\appdata\\roaming\\jupyterlab-desktop\\jlab_server\\lib\\site-packages (from gutenbergpy) (5.1.0)\n",
      "Requirement already satisfied: dnspython<3.0.0,>=1.16.0 in c:\\users\\gpwal\\appdata\\roaming\\jupyterlab-desktop\\jlab_server\\lib\\site-packages (from pymongo->gutenbergpy) (2.3.0)\n",
      "Note: you may need to restart the kernel to use updated packages.\n"
     ]
    }
   ],
   "source": [
    "pip install gutenbergpy"
   ]
  },
  {
   "cell_type": "code",
   "execution_count": 6,
   "id": "4b128a28-17ce-4e65-b12d-e492c229c1e6",
   "metadata": {
    "tags": []
   },
   "outputs": [
    {
     "name": "stdout",
     "output_type": "stream",
     "text": [
      "Requirement already satisfied: matplotlib in c:\\users\\gpwal\\appdata\\roaming\\jupyterlab-desktop\\jlab_server\\lib\\site-packages (3.7.1)\n",
      "Requirement already satisfied: contourpy>=1.0.1 in c:\\users\\gpwal\\appdata\\roaming\\jupyterlab-desktop\\jlab_server\\lib\\site-packages (from matplotlib) (1.0.7)\n",
      "Requirement already satisfied: cycler>=0.10 in c:\\users\\gpwal\\appdata\\roaming\\jupyterlab-desktop\\jlab_server\\lib\\site-packages (from matplotlib) (0.11.0)\n",
      "Requirement already satisfied: fonttools>=4.22.0 in c:\\users\\gpwal\\appdata\\roaming\\jupyterlab-desktop\\jlab_server\\lib\\site-packages (from matplotlib) (4.39.4)\n",
      "Requirement already satisfied: kiwisolver>=1.0.1 in c:\\users\\gpwal\\appdata\\roaming\\jupyterlab-desktop\\jlab_server\\lib\\site-packages (from matplotlib) (1.4.4)\n",
      "Requirement already satisfied: numpy>=1.20 in c:\\users\\gpwal\\appdata\\roaming\\jupyterlab-desktop\\jlab_server\\lib\\site-packages (from matplotlib) (1.24.3)\n",
      "Requirement already satisfied: packaging>=20.0 in c:\\users\\gpwal\\appdata\\roaming\\jupyterlab-desktop\\jlab_server\\lib\\site-packages (from matplotlib) (23.1)\n",
      "Requirement already satisfied: pillow>=6.2.0 in c:\\users\\gpwal\\appdata\\roaming\\jupyterlab-desktop\\jlab_server\\lib\\site-packages (from matplotlib) (9.5.0)\n",
      "Requirement already satisfied: pyparsing>=2.3.1 in c:\\users\\gpwal\\appdata\\roaming\\jupyterlab-desktop\\jlab_server\\lib\\site-packages (from matplotlib) (3.0.9)\n",
      "Requirement already satisfied: python-dateutil>=2.7 in c:\\users\\gpwal\\appdata\\roaming\\jupyterlab-desktop\\jlab_server\\lib\\site-packages (from matplotlib) (2.8.2)\n",
      "Requirement already satisfied: importlib-resources>=3.2.0 in c:\\users\\gpwal\\appdata\\roaming\\jupyterlab-desktop\\jlab_server\\lib\\site-packages (from matplotlib) (5.12.0)\n",
      "Requirement already satisfied: zipp>=3.1.0 in c:\\users\\gpwal\\appdata\\roaming\\jupyterlab-desktop\\jlab_server\\lib\\site-packages (from importlib-resources>=3.2.0->matplotlib) (3.15.0)\n",
      "Requirement already satisfied: six>=1.5 in c:\\users\\gpwal\\appdata\\roaming\\jupyterlab-desktop\\jlab_server\\lib\\site-packages (from python-dateutil>=2.7->matplotlib) (1.16.0)\n",
      "Note: you may need to restart the kernel to use updated packages.\n"
     ]
    }
   ],
   "source": [
    "pip install matplotlib"
   ]
  },
  {
   "cell_type": "code",
   "execution_count": 7,
   "id": "f4e04ee1-1740-4af5-83a0-04693e1babb7",
   "metadata": {
    "tags": []
   },
   "outputs": [
    {
     "name": "stdout",
     "output_type": "stream",
     "text": [
      "Requirement already satisfied: tabulate in c:\\users\\gpwal\\appdata\\roaming\\jupyterlab-desktop\\jlab_server\\lib\\site-packages (0.9.0)\n",
      "Note: you may need to restart the kernel to use updated packages.\n"
     ]
    }
   ],
   "source": [
    "pip install tabulate"
   ]
  },
  {
   "cell_type": "code",
   "execution_count": 8,
   "id": "49865743-d078-4b05-a321-24dc4362c7d4",
   "metadata": {
    "tags": []
   },
   "outputs": [
    {
     "name": "stdout",
     "output_type": "stream",
     "text": [
      "Requirement already satisfied: sklearn in c:\\users\\gpwal\\appdata\\roaming\\jupyterlab-desktop\\jlab_server\\lib\\site-packages (0.0.post5)Note: you may need to restart the kernel to use updated packages.\n",
      "\n"
     ]
    }
   ],
   "source": [
    "pip install sklearn"
   ]
  },
  {
   "cell_type": "code",
   "execution_count": 9,
   "id": "dd8741f6-868d-4b32-800f-5732391ec6c9",
   "metadata": {
    "tags": []
   },
   "outputs": [
    {
     "name": "stdout",
     "output_type": "stream",
     "text": [
      "Requirement already satisfied: plotly in c:\\users\\gpwal\\appdata\\roaming\\jupyterlab-desktop\\jlab_server\\lib\\site-packages (5.14.1)\n",
      "Requirement already satisfied: tenacity>=6.2.0 in c:\\users\\gpwal\\appdata\\roaming\\jupyterlab-desktop\\jlab_server\\lib\\site-packages (from plotly) (8.2.2)\n",
      "Requirement already satisfied: packaging in c:\\users\\gpwal\\appdata\\roaming\\jupyterlab-desktop\\jlab_server\\lib\\site-packages (from plotly) (23.1)\n",
      "Note: you may need to restart the kernel to use updated packages.\n"
     ]
    }
   ],
   "source": [
    "pip install plotly"
   ]
  },
  {
   "cell_type": "code",
   "execution_count": 10,
   "id": "7fda0274-3107-4c83-9758-217b1951d94e",
   "metadata": {
    "tags": []
   },
   "outputs": [],
   "source": [
    "#importing modules below:"
   ]
  },
  {
   "cell_type": "code",
   "execution_count": 11,
   "id": "d3012de7-d750-4a8a-bec8-001db1ed7ae8",
   "metadata": {
    "tags": []
   },
   "outputs": [],
   "source": [
    "import gensim.downloader as api\n",
    "wv = api.load('glove-wiki-gigaword-100')"
   ]
  },
  {
   "cell_type": "code",
   "execution_count": 12,
   "id": "776ec2f5-e901-444e-b330-50892e604b04",
   "metadata": {
    "tags": []
   },
   "outputs": [
    {
     "name": "stderr",
     "output_type": "stream",
     "text": [
      "[nltk_data] Downloading package punkt to\n",
      "[nltk_data]     C:\\Users\\gpwal\\AppData\\Roaming\\nltk_data...\n",
      "[nltk_data]   Package punkt is already up-to-date!\n"
     ]
    },
    {
     "data": {
      "text/plain": [
       "True"
      ]
     },
     "execution_count": 12,
     "metadata": {},
     "output_type": "execute_result"
    }
   ],
   "source": [
    "from gensim.models import Word2Vec\n",
    "import nltk\n",
    "nltk.download('punkt')"
   ]
  },
  {
   "cell_type": "code",
   "execution_count": 13,
   "id": "403b145c-9ca3-42c5-a903-d4e4c08cd3b2",
   "metadata": {
    "tags": []
   },
   "outputs": [],
   "source": [
    "from nltk.tokenize import sent_tokenize, RegexpTokenizer"
   ]
  },
  {
   "cell_type": "code",
   "execution_count": 14,
   "id": "39db9812-0892-4a0c-b6c4-64d65ea8c50c",
   "metadata": {
    "tags": []
   },
   "outputs": [],
   "source": [
    "import nltk\n",
    "from nltk.corpus import stopwords"
   ]
  },
  {
   "cell_type": "code",
   "execution_count": 15,
   "id": "a61b3e0d-127d-4d28-8c7d-be58e4c2efa8",
   "metadata": {
    "tags": []
   },
   "outputs": [],
   "source": [
    "from pprint import pprint"
   ]
  },
  {
   "cell_type": "code",
   "execution_count": 16,
   "id": "c1c9ae09-cd68-4d58-b702-0bb946ceb8da",
   "metadata": {
    "tags": []
   },
   "outputs": [],
   "source": [
    "import numpy as np"
   ]
  },
  {
   "cell_type": "code",
   "execution_count": 17,
   "id": "29e1f2d0-bb06-4761-b487-c2e6b5f3e67e",
   "metadata": {
    "tags": []
   },
   "outputs": [],
   "source": [
    "from scipy import spatial"
   ]
  },
  {
   "cell_type": "code",
   "execution_count": 18,
   "id": "a678af4c-ace4-4371-af3d-facf1a7366b4",
   "metadata": {
    "tags": []
   },
   "outputs": [],
   "source": [
    "from nltk.tokenize import RegexpTokenizer\n",
    "from collections import Counter"
   ]
  },
  {
   "cell_type": "code",
   "execution_count": 19,
   "id": "20ca7f17-cd30-4148-9cd5-1aa72b52aa90",
   "metadata": {
    "tags": []
   },
   "outputs": [],
   "source": [
    "import gutenbergpy.textget"
   ]
  },
  {
   "cell_type": "code",
   "execution_count": 20,
   "id": "120d5fb7-c878-4100-9ffc-bae7c5318c4b",
   "metadata": {
    "tags": []
   },
   "outputs": [],
   "source": [
    "import matplotlib.pyplot as plt"
   ]
  },
  {
   "cell_type": "code",
   "execution_count": 21,
   "id": "c7c5edaa-0443-4818-b9db-b21c4e947ed5",
   "metadata": {
    "tags": []
   },
   "outputs": [],
   "source": [
    "from tabulate import tabulate"
   ]
  },
  {
   "cell_type": "code",
   "execution_count": 22,
   "id": "dfa64753-ac9b-494a-8723-32e849683653",
   "metadata": {
    "tags": []
   },
   "outputs": [],
   "source": [
    "from sklearn.manifold import TSNE"
   ]
  },
  {
   "cell_type": "code",
   "execution_count": 23,
   "id": "d3bd3c6a-3383-41ab-9134-303afa2739c7",
   "metadata": {
    "tags": []
   },
   "outputs": [],
   "source": [
    "import plotly.express as px"
   ]
  },
  {
   "cell_type": "code",
   "execution_count": 24,
   "id": "09b1238c-434d-4354-9a6c-da41274269e8",
   "metadata": {
    "tags": []
   },
   "outputs": [],
   "source": [
    "import os"
   ]
  },
  {
   "cell_type": "code",
   "execution_count": 25,
   "id": "4fbe1c99-fda6-4d0e-9bcc-808fae46183d",
   "metadata": {
    "tags": []
   },
   "outputs": [],
   "source": [
    "# creating a getbook function for Project Gutenberg\n",
    "def getbook(book, outfile):\n",
    "  \"\"\"\n",
    "  Download a book from project Gutenberg and save it \n",
    "  to the specified outfile\n",
    "  \"\"\"\n",
    "  print(f\"Downloading Project Gutenberg ID {book}\")\n",
    "  raw_book = gutenbergpy.textget.get_text_by_id(book)\n",
    "  clean_book = gutenbergpy.textget.strip_headers(raw_book)\n",
    "  if not outfile:\n",
    "    outfile = f'{book}.txt'\n",
    "    print(f\"Saving book as {outfile}\")\n",
    "  with open(outfile, 'wb') as file:\n",
    "    file.write(clean_book)\n",
    "    file.close()"
   ]
  },
  {
   "cell_type": "code",
   "execution_count": 26,
   "id": "436572e2-c3c2-4172-a4b0-885de8362136",
   "metadata": {
    "tags": []
   },
   "outputs": [
    {
     "name": "stdout",
     "output_type": "stream",
     "text": [
      "C:\\Users\\gpwal\\derbipie-semantics\\texts\n"
     ]
    }
   ],
   "source": [
    "# creating a directory path to store PG texts\n",
    "directory_path = os.path.join(os.environ['USERPROFILE'],'derbipie-semantics','texts')\n",
    "print(directory_path)"
   ]
  },
  {
   "cell_type": "code",
   "execution_count": 27,
   "id": "f07365d1-a296-4bd5-ae1d-a6c98a70561f",
   "metadata": {
    "tags": []
   },
   "outputs": [],
   "source": [
    "# these are Project Gutenberg IDs and information\n",
    "caesar_ids = [218, 18837, 29645]\n",
    "caesar_files = [f\"{x}.txt\" for x in caesar_ids]\n",
    "caesar_titles = [\"Bello Gallico I-IV\", \"Bello Gallico V-VII\", \"The Gate to Caesar\"]\n",
    "cicero_ids = [14970, 226, 47001]\n",
    "cicero_files = [f\"{x}.txt\" for x in cicero_ids]\n",
    "cicero_titles = [\"Academia\", \"Orations\", \"De Officiis\"]"
   ]
  },
  {
   "cell_type": "code",
   "execution_count": 28,
   "id": "eb5f02ef-2dfa-4b2e-9cd8-5d84ed043b74",
   "metadata": {
    "tags": []
   },
   "outputs": [
    {
     "name": "stdout",
     "output_type": "stream",
     "text": [
      "Downloading Project Gutenberg ID 218\n",
      "Saving book as 218.txt\n",
      "Downloading Project Gutenberg ID 18837\n",
      "Saving book as 18837.txt\n",
      "Downloading Project Gutenberg ID 29645\n",
      "Saving book as 29645.txt\n",
      "Downloading Project Gutenberg ID 14970\n",
      "Saving book as 14970.txt\n",
      "Downloading Project Gutenberg ID 226\n",
      "Saving book as 226.txt\n",
      "Downloading Project Gutenberg ID 47001\n",
      "Saving book as 47001.txt\n"
     ]
    }
   ],
   "source": [
    "# downloading Project Gutenberg texts\n",
    "foo = [getbook(x, f\"{x}.txt\" in directory_path) for x in caesar_ids]\n",
    "foo = [getbook(x, f\"{x}.txt\" in directory_path) for x in cicero_ids]"
   ]
  },
  {
   "cell_type": "code",
   "execution_count": 29,
   "id": "9f2f23ae-5bd5-4ffc-8bd0-ac220fe13a3e",
   "metadata": {
    "tags": []
   },
   "outputs": [],
   "source": [
    "def get_unigram_counts(path):\n",
    "  \"\"\"\n",
    "    Given a path, generate a counter dictionary of unigrams\n",
    "  \"\"\"\n",
    "  with open(path, 'r', encoding=\"utf-8\") as f:\n",
    "    text = f.read()\n",
    "  text = text.replace(\"\\n\", \" \").lower()\n",
    "  unigrams = RegexpTokenizer(r\"\\w+\").tokenize(text)\n",
    "  count = Counter(unigrams)\n",
    "  return(count)"
   ]
  },
  {
   "cell_type": "code",
   "execution_count": 30,
   "id": "988976f2-d67b-4d39-b024-6020b3ea80e5",
   "metadata": {
    "tags": []
   },
   "outputs": [],
   "source": [
    "# creating a function to count the instances of words in texts\n",
    "def get_term_count(book_dict, term):\n",
    "  \"\"\"\n",
    "    return a list of the number of times a term has appeared\n",
    "    in a book\n",
    "  \"\"\"\n",
    "  out = [book_dict[book][term] for book in book_dict]\n",
    "  return(out)"
   ]
  },
  {
   "cell_type": "code",
   "execution_count": 31,
   "id": "8ae4674c-75be-4fa2-a77b-1289db4ce7da",
   "metadata": {
    "tags": []
   },
   "outputs": [],
   "source": [
    "caesar_words = {k:get_unigram_counts(v) \n",
    "                    for k, v in zip(caesar_titles, caesar_files)}\n",
    "cicero_words = {k:get_unigram_counts(v) \n",
    "                    for k, v in zip(cicero_titles, cicero_files)}"
   ]
  },
  {
   "cell_type": "code",
   "execution_count": 32,
   "id": "ec55c75a-1fbc-4355-8f2c-c22af3a33cc1",
   "metadata": {
    "tags": []
   },
   "outputs": [],
   "source": [
    "# counting the number of times 'ego' and 'magnus' appear in the texts downloaded from PG\n",
    "ego = [\"ego\"] + \\\n",
    "          get_term_count(caesar_words, \"ego\") + \\\n",
    "          get_term_count(cicero_words, \"ego\")\n",
    "magnus  = [\"magnus\"] + \\\n",
    "          get_term_count(caesar_words, \"magnus\") + \\\n",
    "          get_term_count(cicero_words, \"magnus\")"
   ]
  },
  {
   "cell_type": "code",
   "execution_count": 33,
   "id": "86ca4381-7854-4235-bad9-fa8e3fbc0401",
   "metadata": {
    "tags": []
   },
   "outputs": [
    {
     "name": "stdout",
     "output_type": "stream",
     "text": [
      "['ego', 1, 4, 1, 29, 61, 10]\n",
      "['magnus', 0, 10, 0, 4, 0, 5]\n"
     ]
    }
   ],
   "source": [
    "print(ego)\n",
    "print(magnus)"
   ]
  },
  {
   "cell_type": "code",
   "execution_count": 65,
   "id": "acc90dd0-7b3a-40fa-8b30-3bf8c9ba56ce",
   "metadata": {
    "tags": []
   },
   "outputs": [
    {
     "name": "stdout",
     "output_type": "stream",
     "text": [
      "[['id',\n",
      "  'facilius',\n",
      "  'iis',\n",
      "  'persuasit',\n",
      "  'undique',\n",
      "  'loci',\n",
      "  'natura',\n",
      "  'helvetii',\n",
      "  'continentur',\n",
      "  'una',\n",
      "  'parte',\n",
      "  'flumine',\n",
      "  'rheno',\n",
      "  'latissimo',\n",
      "  'altissimo',\n",
      "  'agrum',\n",
      "  'helvetium',\n",
      "  'germanis',\n",
      "  'dividit',\n",
      "  'altera',\n",
      "  'parte',\n",
      "  'monte',\n",
      "  'iura',\n",
      "  'altissimo',\n",
      "  'inter',\n",
      "  'sequanos',\n",
      "  'helvetios',\n",
      "  'tertia',\n",
      "  'lacu',\n",
      "  'lemanno',\n",
      "  'flumine',\n",
      "  'rhodano',\n",
      "  'provinciam',\n",
      "  'nostram',\n",
      "  'helvetiis',\n",
      "  'dividit'],\n",
      " ['his',\n",
      "  'fiebat',\n",
      "  'minus',\n",
      "  'late',\n",
      "  'vagarentur',\n",
      "  'minus',\n",
      "  'facile',\n",
      "  'finitimis',\n",
      "  'bellum',\n",
      "  'inferre',\n",
      "  'possent',\n",
      "  'parte',\n",
      "  'homines',\n",
      "  'bellandi',\n",
      "  'cupidi',\n",
      "  'magno',\n",
      "  'dolore',\n",
      "  'adficiebantur']]\n"
     ]
    }
   ],
   "source": [
    "# preparing Bello Gallico I-IV for NLP by tokenizing it and removing stop words\n",
    "with open (f\"{directory_path}/218.txt\", 'r') as f:\n",
    "  text = f.read()\n",
    "  \n",
    "text = text.replace(\"\\n\", \" \").lower()\n",
    "sentences = sent_tokenize(text)\n",
    "sent_word = [RegexpTokenizer(r\"\\w+\").tokenize(sent) for sent in sentences]\n",
    "corpus = [[w for w in sent if not w in stopwords.words('latin.txt')] for sent in sent_word]\n",
    "pprint(corpus[10:12])"
   ]
  },
  {
   "cell_type": "code",
   "execution_count": 66,
   "id": "1f8a246e-d90d-4fa0-bdea-379e3b862c01",
   "metadata": {
    "tags": []
   },
   "outputs": [],
   "source": [
    "# finding the most similar words to 'venire' in Bello Gallico I-IV\n",
    "model = Word2Vec(sentences = corpus, \n",
    "                 vector_size = 100, \n",
    "                 window = 1000,\n",
    "                 epochs = 100)"
   ]
  },
  {
   "cell_type": "code",
   "execution_count": 67,
   "id": "e81de027-f7ee-48ad-9faa-1f0f22c8ec79",
   "metadata": {
    "tags": []
   },
   "outputs": [
    {
     "name": "stdout",
     "output_type": "stream",
     "text": [
      "----------  --------\n",
      "iniuria     0.618405\n",
      "contendere  0.569705\n",
      "illis       0.560101\n",
      "iterum      0.555482\n",
      "populum     0.555147\n",
      "romanum     0.544492\n",
      "gratiam     0.519995\n",
      "voluntate   0.51566\n",
      "haeduis     0.508474\n",
      "suo         0.505089\n",
      "----------  --------\n"
     ]
    }
   ],
   "source": [
    "print(\n",
    "  tabulate(\n",
    "    model.wv.most_similar(\"venire\")\n",
    "  )\n",
    ")"
   ]
  },
  {
   "cell_type": "code",
   "execution_count": 68,
   "id": "c770e9e7-9aaf-4361-a91a-5e28b5236243",
   "metadata": {
    "tags": []
   },
   "outputs": [],
   "source": [
    "# getting all of the word vectors in BGI-IV and plotting them\n",
    "bellogallico1_matrix = model.wv.get_normed_vectors()"
   ]
  },
  {
   "cell_type": "code",
   "execution_count": 69,
   "id": "e1808823-8497-43b0-ace8-c706ab7d5a86",
   "metadata": {
    "tags": []
   },
   "outputs": [
    {
     "data": {
      "text/plain": [
       "(675, 100)"
      ]
     },
     "execution_count": 69,
     "metadata": {},
     "output_type": "execute_result"
    }
   ],
   "source": [
    "bellogallico1_matrix.shape"
   ]
  },
  {
   "cell_type": "code",
   "execution_count": 70,
   "id": "66e7fc17-8dfe-4bfd-a37e-66f5b9ed3835",
   "metadata": {
    "tags": []
   },
   "outputs": [],
   "source": [
    "tsne = TSNE(n_components=2, perplexity = 5)\n",
    "projections = tsne.fit_transform(bellogallico1_matrix)"
   ]
  },
  {
   "cell_type": "code",
   "execution_count": 71,
   "id": "ea491ad9-2868-4cd2-b14f-aefe84e07f84",
   "metadata": {
    "tags": []
   },
   "outputs": [],
   "source": [
    "vocab = model.wv.index_to_key"
   ]
  },
  {
   "cell_type": "code",
   "execution_count": 72,
   "id": "e08eaa04-19b1-47e4-a164-f62c44cdb6e8",
   "metadata": {
    "tags": []
   },
   "outputs": [
    {
     "data": {
      "application/vnd.plotly.v1+json": {
       "config": {
        "plotlyServerURL": "https://plot.ly"
       },
       "data": [
        {
         "hovertemplate": "<b>%{hovertext}</b><br><br>0=%{x}<br>1=%{y}<extra></extra>",
         "hovertext": [
          "se",
          "esse",
          "caesar",
          "his",
          "eo",
          "sibi",
          "eorum",
          "eos",
          "castris",
          "omnibus",
          "ne",
          "iis",
          "eius",
          "eum",
          "castra",
          "ea",
          "id",
          "causa",
          "omnes",
          "hostes",
          "uti",
          "sese",
          "romani",
          "bellum",
          "propter",
          "suis",
          "quos",
          "hostium",
          "proelio",
          "ubi",
          "fines",
          "partem",
          "populi",
          "nostri",
          "esset",
          "exercitum",
          "possent",
          "caesarem",
          "inter",
          "rhenum",
          "ipse",
          "suos",
          "loco",
          "milia",
          "posse",
          "nostros",
          "flumen",
          "quid",
          "pro",
          "parte",
          "gallia",
          "nostris",
          "locum",
          "una",
          "omnia",
          "galliae",
          "quorum",
          "finibus",
          "magno",
          "sua",
          "armis",
          "naves",
          "rei",
          "obsides",
          "hostibus",
          "posset",
          "iam",
          "circiter",
          "milites",
          "die",
          "legatos",
          "hominum",
          "apud",
          "eam",
          "sine",
          "quas",
          "navibus",
          "ante",
          "nihil",
          "tempore",
          "belli",
          "item",
          "helvetii",
          "copiis",
          "essent",
          "passuum",
          "omnium",
          "legiones",
          "iter",
          "locis",
          "copias",
          "itinere",
          "satis",
          "omni",
          "quem",
          "ibi",
          "itaque",
          "equites",
          "proelium",
          "consilio",
          "minus",
          "primum",
          "nam",
          "numero",
          "facta",
          "suo",
          "rerum",
          "ariovistus",
          "galliam",
          "celeriter",
          "magna",
          "militum",
          "eodem",
          "tempus",
          "bello",
          "facere",
          "fere",
          "multitudine",
          "iussit",
          "ipsi",
          "civitates",
          "fuga",
          "virtute",
          "propterea",
          "caesaris",
          "unum",
          "legati",
          "caesari",
          "illi",
          "tanta",
          "tum",
          "auxilium",
          "eas",
          "suas",
          "oppidum",
          "equitatu",
          "post",
          "interim",
          "hac",
          "trans",
          "aciem",
          "oppido",
          "pars",
          "transire",
          "fuit",
          "exercitus",
          "germani",
          "homines",
          "contendit",
          "habere",
          "seque",
          "contra",
          "romano",
          "milibus",
          "coeperunt",
          "l",
          "gallorum",
          "gallis",
          "c",
          "suam",
          "navium",
          "fluminis",
          "longius",
          "helvetios",
          "misit",
          "tela",
          "subito",
          "flumine",
          "uno",
          "periculo",
          "hi",
          "numerum",
          "eadem",
          "totius",
          "natura",
          "loci",
          "quin",
          "omnem",
          "amplius",
          "reliquos",
          "spe",
          "helvetiorum",
          "caesare",
          "haeduorum",
          "nostrorum",
          "adventu",
          "prius",
          "haeduos",
          "vi",
          "diem",
          "multis",
          "magnam",
          "facile",
          "paucis",
          "milium",
          "provinciam",
          "sub",
          "undique",
          "ei",
          "modo",
          "agris",
          "arma",
          "x",
          "vero",
          "agros",
          "nisi",
          "pace",
          "proeliis",
          "fidem",
          "multitudinem",
          "compluribus",
          "dies",
          "diebus",
          "longe",
          "populo",
          "nocte",
          "fieri",
          "habebat",
          "haeduis",
          "germanorum",
          "postea",
          "omnino",
          "germanos",
          "legatis",
          "facto",
          "superiore",
          "cuius",
          "impetum",
          "diutius",
          "militibus",
          "legionibus",
          "helvetiis",
          "ariovisti",
          "reliquis",
          "legatum",
          "enim",
          "magnum",
          "suum",
          "q",
          "p",
          "certior",
          "quarum",
          "sit",
          "poterant",
          "fecerunt",
          "equitum",
          "provinciae",
          "amicitiam",
          "civitatis",
          "existimabat",
          "partes",
          "hostem",
          "constituit",
          "summa",
          "romanorum",
          "is",
          "omnis",
          "contenderunt",
          "sequanos",
          "ob",
          "opere",
          "habebant",
          "frumentum",
          "silvas",
          "domum",
          "supra",
          "duas",
          "spatio",
          "diei",
          "reliqui",
          "ariovistum",
          "rursus",
          "ferre",
          "sui",
          "xii",
          "pugnatum",
          "iubet",
          "sequanis",
          "coepit",
          "vim",
          "arbitrabatur",
          "suaque",
          "paulo",
          "crassus",
          "factus",
          "pedum",
          "britanniam",
          "germanis",
          "tam",
          "m",
          "magis",
          "consuetudine",
          "solum",
          "pugnae",
          "ipsis",
          "haedui",
          "oratione",
          "inde",
          "pugna",
          "complures",
          "romanum",
          "fore",
          "usus",
          "fecisset",
          "oppida",
          "oppidis",
          "factum",
          "summam",
          "hunc",
          "maxime",
          "populum",
          "secum",
          "simul",
          "senatu",
          "hos",
          "exercitu",
          "respondit",
          "potestatem",
          "fugam",
          "iure",
          "mittit",
          "tertia",
          "impedimenta",
          "reliqua",
          "celeritate",
          "tantum",
          "sive",
          "vigilia",
          "annos",
          "t",
          "civitate",
          "earum",
          "praeter",
          "frumento",
          "commode",
          "nationes",
          "plurimum",
          "petere",
          "alia",
          "impedimentis",
          "nostra",
          "receperunt",
          "idem",
          "vulneribus",
          "agri",
          "belgis",
          "hanc",
          "saepe",
          "signa",
          "praesidio",
          "domo",
          "virtutis",
          "venire",
          "dare",
          "imperio",
          "legionem",
          "legionis",
          "sequanorum",
          "altitudinem",
          "equitatus",
          "voluntate",
          "agmen",
          "haberent",
          "nostram",
          "spem",
          "opus",
          "quantum",
          "pervenit",
          "iniuria",
          "adducti",
          "ipsos",
          "pacem",
          "prima",
          "facilius",
          "castrorum",
          "usui",
          "vellet",
          "loca",
          "suae",
          "legione",
          "haberet",
          "influit",
          "imperium",
          "montem",
          "latitudinem",
          "spatium",
          "mittunt",
          "auctoritate",
          "memoria",
          "superioribus",
          "ostendit",
          "magnis",
          "dictum",
          "gallos",
          "animo",
          "itineribus",
          "navi",
          "gravius",
          "romanos",
          "conloquio",
          "quicquam",
          "has",
          "equitatum",
          "reliquum",
          "modum",
          "romanis",
          "quaeque",
          "fortunam",
          "acie",
          "huic",
          "reliquae",
          "iiii",
          "salutem",
          "praeerat",
          "oporteret",
          "paulatim",
          "concilio",
          "xv",
          "pervenerunt",
          "equis",
          "cohortatus",
          "latere",
          "aperto",
          "timore",
          "acriter",
          "vallo",
          "salutis",
          "barbari",
          "consilii",
          "reverti",
          "confecto",
          "gratiam",
          "tenere",
          "primo",
          "quisque",
          "venerunt",
          "deinde",
          "muro",
          "remis",
          "duae",
          "viribus",
          "ii",
          "profectus",
          "diu",
          "fugae",
          "acceptis",
          "venerant",
          "sint",
          "crasso",
          "etsi",
          "barbaris",
          "regionibus",
          "quoque",
          "facerent",
          "collis",
          "causam",
          "opinionem",
          "obsidibus",
          "incensis",
          "temporis",
          "ratio",
          "multa",
          "traditis",
          "miserunt",
          "mercatores",
          "dixerunt",
          "potuit",
          "sustinere",
          "horum",
          "victis",
          "acies",
          "sabinus",
          "arbitratus",
          "civitas",
          "videbat",
          "cohortibus",
          "huc",
          "hoste",
          "altera",
          "monte",
          "fecit",
          "reduxit",
          "finitimis",
          "spes",
          "consilium",
          "reliquisque",
          "exercitatione",
          "magnitudine",
          "subsidio",
          "venisse",
          "statim",
          "frumenti",
          "civitatibus",
          "conloquium",
          "belgarum",
          "oportere",
          "initium",
          "belgas",
          "vii",
          "constiterunt",
          "remorum",
          "plerumque",
          "numerus",
          "fieret",
          "gratia",
          "publicae",
          "viderentur",
          "impeditos",
          "ire",
          "capere",
          "illum",
          "faceret",
          "magnopere",
          "provincia",
          "poterat",
          "cognitis",
          "italiam",
          "alii",
          "locus",
          "nomine",
          "victoria",
          "alias",
          "venit",
          "possit",
          "possint",
          "agmine",
          "intellexit",
          "labienum",
          "summo",
          "faciunt",
          "postridie",
          "existimavit",
          "exploratores",
          "impetus",
          "prohibere",
          "frumentaria",
          "extremum",
          "statuit",
          "manibus",
          "cornu",
          "genere",
          "partibus",
          "solis",
          "terga",
          "velint",
          "potuerunt",
          "multum",
          "proximi",
          "fuisset",
          "idoneum",
          "oceano",
          "dato",
          "dc",
          "coicerent",
          "pugnandi",
          "conspectu",
          "equitatumque",
          "telum",
          "equitibus",
          "discedere",
          "missa",
          "vellent",
          "suebis",
          "quare",
          "occiderunt",
          "tres",
          "diximus",
          "portis",
          "accidit",
          "tantae",
          "paulum",
          "interfecto",
          "constabat",
          "imperii",
          "aliae",
          "reliquas",
          "praedandi",
          "aedificiis",
          "dierum",
          "galli",
          "reciperent",
          "causis",
          "futurum",
          "regiones",
          "dixit",
          "tertiam",
          "obsidesque",
          "impetu",
          "viii",
          "volebat",
          "beneficio",
          "belgae",
          "incolunt",
          "mari",
          "anni",
          "contenderent",
          "auxilia",
          "praesertim",
          "convenirent",
          "civitatum",
          "nondum",
          "exploratoribus",
          "amissis",
          "condicionem",
          "finem",
          "paene",
          "principes",
          "communi",
          "multitudo",
          "agere",
          "contendere",
          "illis",
          "d",
          "iterum",
          "liberos",
          "diviciaci",
          "dicere",
          "sequi",
          "unde",
          "ipsius",
          "contulerunt",
          "perterritos",
          "pugnam",
          "frumentariae",
          "aberat",
          "intervallo",
          "rhodanum",
          "multo",
          "nulli",
          "prope",
          "allobrogum",
          "nullis",
          "perterriti",
          "teneri",
          "imperavit",
          "v",
          "cui",
          "necessario",
          "an",
          "domi",
          "aliis",
          "usum",
          "tenebat",
          "centurionibus",
          "itineris",
          "proxima",
          "isdem",
          "amicus",
          "virtutem",
          "plus",
          "secuti",
          "abesse",
          "cognito",
          "propius",
          "ultro",
          "paucos",
          "utraque",
          "permoti",
          "facultatem",
          "auderent",
          "facultas",
          "daretur",
          "intra",
          "diviciacum",
          "utrisque",
          "proficisci",
          "summum",
          "praeterea",
          "senatus",
          "legio",
          "pontem",
          "copia",
          "auxilio",
          "sueborum",
          "occupatis"
         ],
         "legendgroup": "",
         "marker": {
          "color": "#636efa",
          "symbol": "circle"
         },
         "mode": "markers",
         "name": "",
         "orientation": "v",
         "showlegend": false,
         "type": "scatter",
         "x": [
          25.237409591674805,
          28.246797561645508,
          12.52930736541748,
          24.52547264099121,
          -46.321563720703125,
          43.26492691040039,
          30.693706512451172,
          62.268192291259766,
          -47.39248275756836,
          -4.186251163482666,
          15.950270652770996,
          24.536869049072266,
          -39.014705657958984,
          49.367000579833984,
          -36.814453125,
          46.568809509277344,
          27.508148193359375,
          -4.730020046234131,
          31.285045623779297,
          -6.79322624206543,
          25.243934631347656,
          69.88043212890625,
          45.88154602050781,
          -29.124128341674805,
          -34.41127395629883,
          44.54758834838867,
          24.264829635620117,
          -47.24258804321289,
          15.192102432250977,
          0.5140480399131775,
          41.59778594970703,
          -26.89505958557129,
          46.45101547241211,
          -6.411452770233154,
          43.574432373046875,
          0.8537342548370361,
          -9.707447052001953,
          51.10265350341797,
          -9.61573314666748,
          29.444665908813477,
          -45.83290481567383,
          19.330636978149414,
          -23.23128890991211,
          40.819725036621094,
          31.781124114990234,
          -5.626797199249268,
          -4.929670333862305,
          -34.10325622558594,
          -44.55826187133789,
          -18.10434341430664,
          -9.01911735534668,
          -6.215546131134033,
          48.22114181518555,
          -16.756473541259766,
          -42.17385482788086,
          52.64865493774414,
          -20.856712341308594,
          43.469242095947266,
          -57.052734375,
          51.626007080078125,
          73.0163803100586,
          -54.79545211791992,
          42.6723747253418,
          61.89447784423828,
          -9.243386268615723,
          -29.21377944946289,
          13.691329956054688,
          -31.150981903076172,
          -30.883380889892578,
          -38.61677551269531,
          59.65398406982422,
          -17.6863956451416,
          33.2348747253418,
          10.844259262084961,
          14.96553897857666,
          -54.0467643737793,
          -25.639692306518555,
          -16.69390106201172,
          53.264591217041016,
          6.764932632446289,
          25.149280548095703,
          -33.31908416748047,
          8.540472030639648,
          35.74370193481445,
          -11.67377758026123,
          -43.23447799682617,
          56.03355026245117,
          -41.34967803955078,
          22.612192153930664,
          -21.69966697692871,
          52.562191009521484,
          -42.77873611450195,
          -16.067562103271484,
          18.19867706298828,
          -18.640052795410156,
          -48.1968879699707,
          24.010238647460938,
          -5.58516788482666,
          4.302513599395752,
          -12.991556167602539,
          -13.924934387207031,
          44.0982551574707,
          -14.654759407043457,
          40.53569030761719,
          5.444071292877197,
          45.87332534790039,
          -21.194252014160156,
          17.525440216064453,
          26.3491153717041,
          -0.029175542294979095,
          -28.875951766967773,
          -43.11512756347656,
          7.924337387084961,
          -7.07472562789917,
          24.07863998413086,
          27.492382049560547,
          -58.39942169189453,
          -31.065689086914062,
          -14.874804496765137,
          -4.820339679718018,
          28.732797622680664,
          -22.271625518798828,
          -20.31802749633789,
          8.611327171325684,
          18.55620765686035,
          31.95171546936035,
          66.44768524169922,
          32.36920166015625,
          30.09185218811035,
          -30.852079391479492,
          -43.527496337890625,
          -3.5132055282592773,
          -2.037993907928467,
          53.27804946899414,
          -51.79937744140625,
          5.006677627563477,
          -40.80224609375,
          -17.805192947387695,
          51.04909896850586,
          28.79367446899414,
          -48.941036224365234,
          -52.28939437866211,
          -40.482269287109375,
          30.016754150390625,
          -43.8290901184082,
          -9.591665267944336,
          39.040443420410156,
          9.567971229553223,
          3.34749174118042,
          32.11382293701172,
          59.000450134277344,
          69.58784484863281,
          36.76264572143555,
          -43.480323791503906,
          -14.068284034729004,
          21.284439086914062,
          35.59073257446289,
          17.8796443939209,
          22.342205047607422,
          26.74408721923828,
          -37.860897064208984,
          -30.433996200561523,
          -11.096863746643066,
          40.135887145996094,
          -36.62309265136719,
          -28.22602653503418,
          2.165628671646118,
          -8.928177833557129,
          7.29480504989624,
          13.885636329650879,
          38.638755798339844,
          -33.858707427978516,
          1.248249888420105,
          52.46194076538086,
          -49.380836486816406,
          -48.80164337158203,
          48.78871154785156,
          12.63459587097168,
          -8.895309448242188,
          18.03044891357422,
          -37.35220718383789,
          24.523643493652344,
          52.87558364868164,
          39.36392593383789,
          -21.450645446777344,
          61.11693572998047,
          16.163156509399414,
          48.96004104614258,
          -35.455772399902344,
          69.36019897460938,
          -4.669841766357422,
          1.8357893228530884,
          -8.20347785949707,
          -19.802791595458984,
          17.430248260498047,
          23.158777236938477,
          -33.2106819152832,
          -16.917587280273438,
          5.154097557067871,
          -19.17064666748047,
          -2.363036870956421,
          -0.2826838493347168,
          12.273750305175781,
          -5.241001129150391,
          31.139081954956055,
          -16.854717254638672,
          -31.409955978393555,
          -19.020442962646484,
          70.90141296386719,
          28.670522689819336,
          -4.9744086265563965,
          28.007795333862305,
          -20.254932403564453,
          -35.23336410522461,
          36.25071334838867,
          -36.609771728515625,
          -27.404727935791016,
          3.5128660202026367,
          58.87721252441406,
          30.247732162475586,
          -31.717876434326172,
          -14.072869300842285,
          29.858623504638672,
          68.88483428955078,
          15.467376708984375,
          -9.595698356628418,
          58.60464096069336,
          -13.147258758544922,
          0.5779995918273926,
          -26.3620548248291,
          -0.39278650283813477,
          25.804183959960938,
          58.405494689941406,
          -11.744359016418457,
          -1.1343376636505127,
          -4.548101902008057,
          -33.360111236572266,
          30.789411544799805,
          -3.086688280105591,
          53.4479866027832,
          -29.701082229614258,
          -20.223417282104492,
          45.66080093383789,
          -55.99400329589844,
          1.6072160005569458,
          -7.976696014404297,
          0.2792668044567108,
          49.373050689697266,
          62.87852096557617,
          26.626502990722656,
          -1.0227364301681519,
          -15.798003196716309,
          -43.88471984863281,
          -34.88203811645508,
          46.126548767089844,
          26.544645309448242,
          -59.767845153808594,
          -37.807987213134766,
          25.217008590698242,
          12.382713317871094,
          -46.0592155456543,
          -42.64110565185547,
          -2.468454360961914,
          -8.761809349060059,
          19.65877342224121,
          -54.28105926513672,
          -12.336313247680664,
          -11.404266357421875,
          -39.58734893798828,
          -42.74832534790039,
          46.839569091796875,
          -15.756450653076172,
          -1.290330171585083,
          -16.00338363647461,
          -27.638263702392578,
          -30.27776527404785,
          -4.804276466369629,
          58.036399841308594,
          33.96974563598633,
          -31.93360137939453,
          47.35438537597656,
          29.623056411743164,
          -9.841029167175293,
          -46.407859802246094,
          -30.09593963623047,
          -28.30991554260254,
          -55.36440658569336,
          7.9435882568359375,
          4.598607063293457,
          52.56336212158203,
          -47.10652542114258,
          2.2826716899871826,
          36.741188049316406,
          -16.1181583404541,
          66.10601043701172,
          5.96542501449585,
          49.926021575927734,
          -8.943787574768066,
          52.48982620239258,
          -29.845008850097656,
          68.75035858154297,
          -13.536413192749023,
          -44.102203369140625,
          48.57265853881836,
          -42.7483024597168,
          31.772634506225586,
          -27.09868049621582,
          3.118293046951294,
          -35.98814392089844,
          12.929210662841797,
          68.83538818359375,
          -13.79429817199707,
          -15.446331977844238,
          48.87422561645508,
          36.19075393676758,
          -28.534812927246094,
          27.457002639770508,
          70.52106475830078,
          -6.542518138885498,
          61.86100769042969,
          45.48986053466797,
          -17.415605545043945,
          -41.194793701171875,
          -60.640541076660156,
          -23.633472442626953,
          -49.33099365234375,
          -31.787321090698242,
          -0.3437139689922333,
          64.83238983154297,
          -1.8405041694641113,
          50.29877853393555,
          -48.582763671875,
          13.4466552734375,
          64.56065368652344,
          -15.343121528625488,
          -28.25902557373047,
          36.612735748291016,
          -40.046207427978516,
          -18.72052764892578,
          -37.609214782714844,
          8.047829627990723,
          -21.66316032409668,
          55.83583068847656,
          -33.40690612792969,
          26.480484008789062,
          68.18231201171875,
          18.437267303466797,
          30.60031509399414,
          -28.882587432861328,
          -48.34825134277344,
          -9.244721412658691,
          13.710681915283203,
          56.457122802734375,
          65.82160949707031,
          44.19004440307617,
          -59.07001495361328,
          -31.8328914642334,
          40.479122161865234,
          -26.890945434570312,
          22.341516494750977,
          47.9819450378418,
          4.682873249053955,
          19.068979263305664,
          -9.640395164489746,
          34.77461242675781,
          -34.9915771484375,
          -5.578497886657715,
          -6.105654239654541,
          57.59105682373047,
          44.570804595947266,
          -27.500478744506836,
          63.73987579345703,
          2.1171658039093018,
          -8.087333679199219,
          -39.25571823120117,
          -57.64358139038086,
          14.62950325012207,
          -61.77040100097656,
          -32.758243560791016,
          -23.128267288208008,
          45.252803802490234,
          -5.696613311767578,
          49.696533203125,
          -10.237558364868164,
          -50.68015670776367,
          -32.066619873046875,
          59.49008560180664,
          44.2335205078125,
          -49.02602005004883,
          -58.04478454589844,
          0.8345572352409363,
          4.074117183685303,
          -16.352935791015625,
          27.687469482421875,
          26.749210357666016,
          -8.8729887008667,
          -6.625592231750488,
          29.664440155029297,
          -39.511024475097656,
          14.951382637023926,
          17.61777114868164,
          -17.14031410217285,
          11.359254837036133,
          -26.916831970214844,
          -37.33464431762695,
          -44.06865310668945,
          2.7642014026641846,
          45.1505126953125,
          -42.5709342956543,
          -1.4585062265396118,
          -39.178707122802734,
          1.0567361116409302,
          -31.048673629760742,
          1.658586025238037,
          -47.30939483642578,
          -51.97075653076172,
          34.713478088378906,
          -31.125938415527344,
          -28.947044372558594,
          -1.377116322517395,
          -32.17234802246094,
          -48.146873474121094,
          -49.27363586425781,
          -36.05864334106445,
          -29.551780700683594,
          -10.259978294372559,
          -22.36489486694336,
          -17.208099365234375,
          -17.413177490234375,
          37.55592727661133,
          -10.90019416809082,
          43.84795379638672,
          13.987994194030762,
          -11.908416748046875,
          30.60047721862793,
          -14.513855934143066,
          45.43785095214844,
          7.172644138336182,
          -56.8140754699707,
          -42.51449966430664,
          -8.959378242492676,
          1.7686738967895508,
          -1.320863127708435,
          -29.608163833618164,
          -3.622476816177368,
          -33.85124588012695,
          -21.39426040649414,
          33.91636276245117,
          -22.10332679748535,
          -13.158507347106934,
          -17.99121856689453,
          -3.667844772338867,
          8.749502182006836,
          -36.17497634887695,
          -50.40754699707031,
          12.788583755493164,
          13.57861042022705,
          52.81736373901367,
          -19.879798889160156,
          -20.460290908813477,
          -18.61634635925293,
          26.97848129272461,
          73.09291076660156,
          56.65951919555664,
          16.232513427734375,
          58.570404052734375,
          4.212092399597168,
          -29.460535049438477,
          -22.48217010498047,
          27.528146743774414,
          -50.30772018432617,
          37.401939392089844,
          -8.3612699508667,
          37.77592849731445,
          27.027236938476562,
          -6.550352096557617,
          -48.68238830566406,
          -59.374855041503906,
          -15.965460777282715,
          -37.646629333496094,
          54.21322250366211,
          -15.812870025634766,
          47.40478515625,
          23.865400314331055,
          43.953128814697266,
          -38.4706916809082,
          -21.54265022277832,
          -38.71460723876953,
          -36.596431732177734,
          24.272279739379883,
          58.3736686706543,
          31.717636108398438,
          64.77662658691406,
          46.26502227783203,
          41.597206115722656,
          -33.75508499145508,
          -4.040409088134766,
          67.44841766357422,
          -23.524877548217773,
          -17.92812156677246,
          -47.71900177001953,
          7.759130001068115,
          18.21540069580078,
          -13.683926582336426,
          35.0294189453125,
          43.03594970703125,
          47.04330062866211,
          -6.034617900848389,
          25.427579879760742,
          32.946773529052734,
          16.40651512145996,
          38.53954315185547,
          -8.931529998779297,
          23.939395904541016,
          -48.952178955078125,
          47.63771438598633,
          25.290729522705078,
          -9.066150665283203,
          -16.12038230895996,
          42.96958923339844,
          32.722923278808594,
          65.04852294921875,
          15.15829086303711,
          0.10951640456914902,
          28.919477462768555,
          8.935628890991211,
          0.8077117204666138,
          -0.8156510591506958,
          -0.7812312245368958,
          1.1372030973434448,
          -39.72649383544922,
          13.849045753479004,
          -1.9974919557571411,
          -46.10932159423828,
          -5.513044834136963,
          37.770755767822266,
          -4.802117824554443,
          11.148333549499512,
          -29.568286895751953,
          -48.532081604003906,
          -17.258342742919922,
          0.5748210549354553,
          11.277955055236816,
          -27.91985321044922,
          28.4127197265625,
          -8.423401832580566,
          -33.74193572998047,
          31.737356185913086,
          18.56924057006836,
          14.781129837036133,
          -4.353177070617676,
          -6.43887186050415,
          3.8304338455200195,
          -28.199127197265625,
          36.67245864868164,
          -46.75104904174805,
          12.612396240234375,
          -8.71920394897461,
          2.2731051445007324,
          -58.427520751953125,
          -23.303607940673828,
          25.82818031311035,
          26.578107833862305,
          48.699798583984375,
          -6.696695804595947,
          3.2414329051971436,
          -4.630914211273193,
          -25.886754989624023,
          -14.175060272216797,
          -43.074668884277344,
          -25.738330841064453,
          0.9268656373023987,
          -22.642282485961914,
          2.3023669719696045,
          -49.08304977416992,
          -16.518352508544922,
          23.25450897216797,
          -19.477375030517578,
          -33.89577865600586,
          -41.5846061706543,
          -16.451589584350586,
          9.922713279724121,
          17.079933166503906,
          14.713805198669434,
          60.53871536254883,
          -29.70806121826172,
          63.13227462768555,
          -7.436652660369873,
          -46.730690002441406,
          17.783754348754883,
          47.2725830078125,
          -0.7533149123191833,
          -1.358644723892212,
          -35.77912902832031,
          -8.184412002563477,
          11.986824035644531,
          -10.250287055969238,
          1.6313127279281616,
          35.1158332824707,
          20.0064640045166,
          26.289037704467773,
          -37.7101936340332,
          -44.580265045166016,
          16.80075454711914,
          18.716203689575195,
          -3.2578160762786865,
          18.00771713256836,
          47.49382781982422,
          24.016143798828125,
          13.627634048461914,
          67.37367248535156,
          38.41700744628906,
          3.905780792236328,
          47.350772857666016,
          27.5662899017334,
          71.67990112304688,
          24.810604095458984,
          10.511646270751953,
          -44.62356185913086,
          -37.56441116333008,
          -12.19102954864502,
          -6.555929183959961,
          -23.996736526489258,
          37.88166427612305,
          -42.423187255859375,
          -29.80780792236328,
          -6.00706148147583,
          -4.767618656158447,
          -37.427978515625,
          -39.07426834106445,
          -7.0100998878479,
          -8.159859657287598,
          -36.41779708862305,
          -30.995267868041992,
          23.17160987854004,
          26.456281661987305,
          18.72162628173828,
          -0.7822904586791992,
          -6.117611885070801,
          26.626062393188477,
          -58.322547912597656,
          -38.7903938293457,
          2.087559223175049,
          -29.703256607055664,
          -34.142120361328125,
          -6.463005065917969,
          -39.55980682373047,
          48.87242889404297,
          13.688868522644043,
          26.806440353393555,
          -31.848180770874023,
          47.46876525878906,
          61.545413970947266,
          13.708561897277832,
          62.505279541015625,
          -1.7011029720306396,
          -50.27315139770508,
          -37.2476806640625,
          -36.20932388305664,
          -13.387495040893555,
          -4.2712788581848145,
          -13.415288925170898,
          -12.788037300109863,
          30.364423751831055,
          50.98405456542969,
          -9.538932800292969,
          47.42195129394531,
          -46.6251335144043,
          49.36011505126953,
          -35.5037841796875,
          -0.6025469303131104,
          19.229228973388672,
          9.67072582244873,
          52.0009651184082,
          -13.5658540725708
         ],
         "xaxis": "x",
         "y": [
          3.871887683868408,
          -2.5354466438293457,
          11.819289207458496,
          26.640663146972656,
          -39.67337417602539,
          -2.0458807945251465,
          -55.909481048583984,
          5.226437091827393,
          16.786239624023438,
          36.40376281738281,
          9.066165924072266,
          8.22310733795166,
          -34.92417907714844,
          -27.364892959594727,
          3.496063232421875,
          14.975146293640137,
          -29.427021026611328,
          53.940311431884766,
          7.912580490112305,
          47.85558319091797,
          1.2662588357925415,
          -12.143731117248535,
          -5.762551784515381,
          -17.339563369750977,
          -21.080976486206055,
          -31.175676345825195,
          27.87415885925293,
          16.040477752685547,
          63.80736541748047,
          12.7321195602417,
          -34.91785430908203,
          -50.760536193847656,
          -5.976693630218506,
          47.00476837158203,
          23.967557907104492,
          -43.323490142822266,
          -38.72765350341797,
          16.6677188873291,
          -55.369850158691406,
          -53.42254638671875,
          13.049545288085938,
          8.631487846374512,
          14.541303634643555,
          8.447076797485352,
          -3.014958143234253,
          59.21253967285156,
          -50.73078155517578,
          27.576833724975586,
          25.359718322753906,
          -43.7236442565918,
          -6.392946720123291,
          49.822723388671875,
          -27.63917350769043,
          -53.432979583740234,
          -20.86979866027832,
          1.6295093297958374,
          44.880821228027344,
          -31.884742736816406,
          -19.627634048461914,
          26.196008682250977,
          14.644035339355469,
          -15.742422103881836,
          -11.002760887145996,
          -18.104400634765625,
          11.052543640136719,
          16.059507369995117,
          60.37859344482422,
          -43.24897384643555,
          15.758405685424805,
          -46.26708984375,
          19.944032669067383,
          -52.440975189208984,
          -11.994686126708984,
          -45.841102600097656,
          -6.0224385261535645,
          -10.062673568725586,
          4.0085601806640625,
          0.16107286512851715,
          9.680811882019043,
          3.088404893875122,
          36.95498275756836,
          -6.847071647644043,
          -57.41407775878906,
          45.123619079589844,
          30.36214828491211,
          -42.61195755004883,
          12.457402229309082,
          43.57639694213867,
          -39.374603271484375,
          -7.576737403869629,
          -40.046634674072266,
          -40.132835388183594,
          -9.819940567016602,
          44.64237976074219,
          48.38557434082031,
          -43.22819137573242,
          -34.67499923706055,
          55.19636917114258,
          45.71031188964844,
          4.221290111541748,
          -9.321406364440918,
          31.549070358276367,
          -27.461729049682617,
          9.932658195495605,
          47.3577766418457,
          27.710338592529297,
          -18.595111846923828,
          -13.340651512145996,
          -43.028419494628906,
          56.08806228637695,
          -18.037580490112305,
          38.51909637451172,
          3.581981897354126,
          -19.94544792175293,
          -15.104211807250977,
          -29.871583938598633,
          -17.004680633544922,
          -45.937416076660156,
          -18.424497604370117,
          60.23078918457031,
          -11.603191375732422,
          57.08657455444336,
          24.80797576904297,
          -57.05891418457031,
          -14.624723434448242,
          9.807233810424805,
          0.2237120419740677,
          -47.101383209228516,
          -33.786869049072266,
          5.112905979156494,
          -3.816105842590332,
          23.252174377441406,
          -34.31781768798828,
          -39.88859939575195,
          -41.787376403808594,
          43.322113037109375,
          46.8430061340332,
          49.17592239379883,
          7.6517510414123535,
          -53.329612731933594,
          8.308127403259277,
          -41.857391357421875,
          2.770109176635742,
          -54.666465759277344,
          -12.49777603149414,
          -5.181425094604492,
          11.529407501220703,
          21.752214431762695,
          -28.174480438232422,
          -11.753423690795898,
          11.419631958007812,
          -18.7824764251709,
          21.649608612060547,
          -41.93707275390625,
          51.36599349975586,
          -52.46815872192383,
          -13.975235939025879,
          -24.64937400817871,
          -14.809810638427734,
          16.443758010864258,
          -17.209197998046875,
          -28.173097610473633,
          42.824195861816406,
          -36.06116485595703,
          -52.3504524230957,
          10.14565658569336,
          39.4244270324707,
          -47.99131774902344,
          1.3071253299713135,
          -7.423422336578369,
          11.951722145080566,
          50.77558898925781,
          -11.422479629516602,
          1.8402055501937866,
          -1.3354809284210205,
          -0.7868350744247437,
          3.871335506439209,
          9.693607330322266,
          59.106422424316406,
          19.57564353942871,
          -4.599079132080078,
          -15.39445972442627,
          27.040332794189453,
          -34.234161376953125,
          27.549402236938477,
          22.809865951538086,
          50.49702453613281,
          -3.278024196624756,
          8.631878852844238,
          0.033604696393013,
          -45.80647277832031,
          0.5397984385490417,
          -8.975044250488281,
          -0.09062200039625168,
          50.05562210083008,
          -39.508487701416016,
          44.723426818847656,
          -46.005496978759766,
          -31.80766487121582,
          -8.45830249786377,
          -1.5071430206298828,
          29.93631362915039,
          -20.906558990478516,
          21.171749114990234,
          -2.5264265537261963,
          8.874485969543457,
          -17.502044677734375,
          24.225326538085938,
          -15.069828033447266,
          -34.121700286865234,
          65.084716796875,
          47.294227600097656,
          -0.019730014726519585,
          -13.747455596923828,
          21.582595825195312,
          8.919468879699707,
          -2.7579383850097656,
          13.464988708496094,
          -18.646120071411133,
          -51.93086624145508,
          53.092628479003906,
          30.609556198120117,
          -42.29576873779297,
          0.05024714767932892,
          64.27906799316406,
          12.460188865661621,
          21.702917098999023,
          36.89722442626953,
          10.793634414672852,
          5.911510944366455,
          -27.277727127075195,
          -37.74350357055664,
          -11.227201461791992,
          32.06990432739258,
          -29.202709197998047,
          -18.49794578552246,
          50.66529846191406,
          -21.460786819458008,
          -28.508319854736328,
          -3.2333531379699707,
          -50.50071334838867,
          -18.412734985351562,
          -17.217681884765625,
          10.793907165527344,
          38.84708786010742,
          39.29180908203125,
          -44.81999206542969,
          -7.25969934463501,
          -20.08409881591797,
          -45.43761444091797,
          -56.34375762939453,
          -14.103039741516113,
          24.91301727294922,
          -19.91169548034668,
          9.533548355102539,
          47.620086669921875,
          -16.255006790161133,
          4.594809055328369,
          -39.77305603027344,
          -43.0061149597168,
          38.80841064453125,
          -14.80815315246582,
          -1.9569785594940186,
          48.2877197265625,
          51.14969253540039,
          -10.79550838470459,
          -20.411481857299805,
          15.589670181274414,
          -36.2007942199707,
          -15.648298263549805,
          -16.152345657348633,
          51.18794631958008,
          31.53308868408203,
          7.909082889556885,
          -30.9707088470459,
          28.109956741333008,
          -28.99995231628418,
          -11.142365455627441,
          30.80245018005371,
          -27.656991958618164,
          -9.65894603729248,
          8.687335968017578,
          42.78541564941406,
          14.778891563415527,
          -50.02930450439453,
          -29.1936092376709,
          -15.71399974822998,
          -48.976924896240234,
          3.566558599472046,
          -3.3762409687042236,
          29.566085815429688,
          62.407508850097656,
          42.07063293457031,
          16.706239700317383,
          -18.81260871887207,
          3.6381618976593018,
          5.8589677810668945,
          -23.199560165405273,
          9.001433372497559,
          51.053504943847656,
          -14.354491233825684,
          -26.3207950592041,
          39.620750427246094,
          -14.859077453613281,
          -21.091461181640625,
          10.686384201049805,
          35.73375701904297,
          -14.427810668945312,
          -17.95033836364746,
          -21.069990158081055,
          -14.536189079284668,
          -54.16136932373047,
          6.9936747550964355,
          23.999231338500977,
          -14.347651481628418,
          33.73711013793945,
          0.9785656332969666,
          -11.02332592010498,
          56.86513900756836,
          -17.548442840576172,
          20.74363899230957,
          -44.7318000793457,
          24.00613784790039,
          -15.586519241333008,
          5.375011920928955,
          6.159402847290039,
          4.725583553314209,
          -31.913393020629883,
          -34.30946350097656,
          -29.00421905517578,
          25.058879852294922,
          -24.076759338378906,
          -34.260738372802734,
          -15.762933731079102,
          -9.673778533935547,
          -16.049741744995117,
          -8.58591365814209,
          6.724462509155273,
          -42.75819396972656,
          26.922348022460938,
          23.33955955505371,
          57.76262283325195,
          -10.24991226196289,
          32.7457160949707,
          33.48155212402344,
          -18.648141860961914,
          -29.49046516418457,
          -41.944427490234375,
          14.040558815002441,
          16.441198348999023,
          -54.04542922973633,
          21.660144805908203,
          -19.635831832885742,
          -15.813248634338379,
          -5.736547946929932,
          20.68702507019043,
          14.539328575134277,
          -34.80354309082031,
          -28.619932174682617,
          -53.20611572265625,
          17.843008041381836,
          44.87582015991211,
          48.664188385009766,
          -49.97494125366211,
          30.228654861450195,
          27.73814582824707,
          16.081554412841797,
          -53.48405838012695,
          -19.044374465942383,
          9.504998207092285,
          16.719955444335938,
          1.5513570308685303,
          37.232261657714844,
          -9.930900573730469,
          3.7731781005859375,
          -17.594701766967773,
          -11.51830768585205,
          -15.841991424560547,
          19.425315856933594,
          -31.72103500366211,
          23.836772918701172,
          -48.875640869140625,
          4.935394763946533,
          -50.131622314453125,
          2.599853992462158,
          46.357383728027344,
          20.803958892822266,
          8.990455627441406,
          -25.83736228942871,
          12.737288475036621,
          -29.92750358581543,
          -27.269493103027344,
          0.4908512234687805,
          -10.80602741241455,
          -34.4135856628418,
          -39.51874542236328,
          16.574993133544922,
          1.4951545000076294,
          -14.033143043518066,
          -10.907793998718262,
          -27.254552841186523,
          -9.336466789245605,
          8.404264450073242,
          36.08316421508789,
          -17.70113754272461,
          43.373497009277344,
          -24.235843658447266,
          -38.65201950073242,
          24.526290893554688,
          2.7987091541290283,
          45.43513870239258,
          46.133182525634766,
          29.975807189941406,
          10.077528953552246,
          38.443687438964844,
          6.8418779373168945,
          -22.425508499145508,
          -42.71236801147461,
          50.99919128417969,
          56.06768035888672,
          17.287078857421875,
          7.357937812805176,
          -37.01283645629883,
          7.384008884429932,
          29.61600112915039,
          11.47333812713623,
          22.911901473999023,
          19.017210006713867,
          34.451114654541016,
          -0.16684874892234802,
          -37.973628997802734,
          -3.6043834686279297,
          32.19716262817383,
          18.191804885864258,
          -22.165021896362305,
          5.231490135192871,
          28.69317626953125,
          21.59372901916504,
          -20.661846160888672,
          42.76451110839844,
          17.253950119018555,
          62.176761627197266,
          -33.21604919433594,
          28.990501403808594,
          45.52931594848633,
          33.08960723876953,
          45.218326568603516,
          -12.064693450927734,
          -33.13557815551758,
          -25.91703224182129,
          -17.526622772216797,
          -30.863893508911133,
          -48.538124084472656,
          49.21025848388672,
          6.118030548095703,
          -42.652252197265625,
          60.04237365722656,
          -9.398032188415527,
          59.479129791259766,
          -7.925545692443848,
          34.695743560791016,
          34.78105926513672,
          14.85483169555664,
          11.2267484664917,
          -30.97384262084961,
          10.311738014221191,
          -26.319107055664062,
          18.215089797973633,
          25.2144775390625,
          34.8651123046875,
          7.677005290985107,
          43.58396530151367,
          -17.41502571105957,
          -33.885955810546875,
          -44.26169967651367,
          -28.64335823059082,
          -38.36640167236328,
          20.954029083251953,
          -54.3304443359375,
          -50.76851272583008,
          -39.553993225097656,
          -15.054925918579102,
          -28.862064361572266,
          29.892396926879883,
          32.00347900390625,
          45.08683395385742,
          25.21887969970703,
          -5.480640411376953,
          27.23320198059082,
          -5.092402458190918,
          8.970349311828613,
          -13.674088478088379,
          0.5143528580665588,
          21.18720054626465,
          -32.52285385131836,
          17.183204650878906,
          44.59266662597656,
          -18.38721466064453,
          -30.92089080810547,
          16.77974510192871,
          -42.0727424621582,
          21.807830810546875,
          49.804630279541016,
          61.97250747680664,
          -9.1344633102417,
          -10.92288589477539,
          -39.86403274536133,
          44.84481430053711,
          -35.38526153564453,
          31.482770919799805,
          -10.525485038757324,
          43.467437744140625,
          20.133445739746094,
          -42.73881530761719,
          0.7910692095756531,
          -15.452503204345703,
          -42.72574234008789,
          16.430089950561523,
          -55.3761100769043,
          7.776352405548096,
          -47.79704284667969,
          -34.11276626586914,
          33.342628479003906,
          3.8614916801452637,
          -1.2188241481781006,
          -6.914493083953857,
          11.895139694213867,
          -29.982133865356445,
          4.978765964508057,
          4.405724048614502,
          -36.09171676635742,
          -41.94365310668945,
          -55.326236724853516,
          27.630680084228516,
          -7.111454486846924,
          1.0864042043685913,
          66.05326080322266,
          -48.76313781738281,
          5.6058549880981445,
          10.258109092712402,
          17.162933349609375,
          39.14407730102539,
          -7.4212117195129395,
          30.000499725341797,
          0.007337342482060194,
          42.479209899902344,
          -6.564357280731201,
          11.84630012512207,
          -15.911656379699707,
          32.95024108886719,
          -47.25368881225586,
          37.03402328491211,
          -12.648618698120117,
          9.338445663452148,
          44.12590408325195,
          28.979419708251953,
          10.771058082580566,
          18.862560272216797,
          46.12116622924805,
          12.804489135742188,
          -29.627172470092773,
          2.2526605129241943,
          8.395561218261719,
          -6.48318338394165,
          44.0981330871582,
          -34.00973129272461,
          67.02792358398438,
          -28.333375930786133,
          4.621213912963867,
          -13.68359375,
          4.965786933898926,
          -14.675491333007812,
          45.505943298339844,
          -13.655122756958008,
          -23.590984344482422,
          -17.27643585205078,
          -53.81800079345703,
          59.749568939208984,
          46.239566802978516,
          -4.666868686676025,
          50.813995361328125,
          -48.108489990234375,
          -30.03920555114746,
          -33.7178840637207,
          9.482109069824219,
          -52.048553466796875,
          2.531514883041382,
          55.97743606567383,
          -40.978782653808594,
          -25.165576934814453,
          24.03524398803711,
          -46.17559051513672,
          -46.53455352783203,
          -14.709526062011719,
          -20.251480102539062,
          -34.76693344116211,
          -21.468778610229492,
          1.5324445962905884,
          -22.592748641967773,
          40.25315856933594,
          48.78677749633789,
          -47.489501953125,
          -22.826580047607422,
          19.623470306396484,
          8.745908737182617,
          20.65608024597168,
          39.831809997558594,
          17.173866271972656,
          29.229969024658203,
          -12.359892845153809,
          -13.230048179626465,
          21.89529800415039,
          -32.92647171020508,
          18.74412727355957,
          8.544242858886719,
          -15.169173240661621,
          -4.69212007522583,
          -7.221565246582031,
          -24.362415313720703,
          -50.360538482666016,
          50.5353889465332,
          57.71227264404297,
          14.705277442932129,
          1.6312280893325806,
          -43.186275482177734,
          -28.388412475585938,
          -50.387351989746094,
          -6.67314338684082,
          43.86647033691406,
          -51.066192626953125,
          -52.085269927978516,
          -7.981450080871582,
          6.293716907501221,
          -47.122276306152344,
          7.52664852142334,
          49.37897872924805,
          -23.486129760742188,
          9.172877311706543,
          36.40121841430664,
          15.248574256896973,
          19.8577880859375,
          -6.423045635223389,
          -14.220894813537598,
          16.238067626953125,
          47.276668548583984,
          34.82215118408203,
          -20.008878707885742,
          24.524826049804688,
          21.238866806030273,
          17.63498306274414,
          51.54890441894531,
          -40.06710433959961,
          23.319124221801758,
          -8.34024429321289,
          4.053100109100342,
          32.26797103881836,
          -0.8720791339874268,
          -0.6145387887954712,
          -15.694884300231934,
          35.29248046875,
          21.283958435058594,
          34.153194427490234,
          31.58149528503418,
          -19.89553451538086,
          -40.23062515258789,
          -21.533447265625,
          -25.506078720092773,
          -23.055423736572266,
          -4.840570449829102,
          46.69217300415039,
          -56.76289367675781,
          40.18962097167969,
          6.760078430175781,
          -8.978693008422852,
          60.81447219848633
         ],
         "yaxis": "y"
        }
       ],
       "layout": {
        "height": 800,
        "legend": {
         "tracegroupgap": 0
        },
        "margin": {
         "t": 60
        },
        "template": {
         "data": {
          "bar": [
           {
            "error_x": {
             "color": "#2a3f5f"
            },
            "error_y": {
             "color": "#2a3f5f"
            },
            "marker": {
             "line": {
              "color": "#E5ECF6",
              "width": 0.5
             },
             "pattern": {
              "fillmode": "overlay",
              "size": 10,
              "solidity": 0.2
             }
            },
            "type": "bar"
           }
          ],
          "barpolar": [
           {
            "marker": {
             "line": {
              "color": "#E5ECF6",
              "width": 0.5
             },
             "pattern": {
              "fillmode": "overlay",
              "size": 10,
              "solidity": 0.2
             }
            },
            "type": "barpolar"
           }
          ],
          "carpet": [
           {
            "aaxis": {
             "endlinecolor": "#2a3f5f",
             "gridcolor": "white",
             "linecolor": "white",
             "minorgridcolor": "white",
             "startlinecolor": "#2a3f5f"
            },
            "baxis": {
             "endlinecolor": "#2a3f5f",
             "gridcolor": "white",
             "linecolor": "white",
             "minorgridcolor": "white",
             "startlinecolor": "#2a3f5f"
            },
            "type": "carpet"
           }
          ],
          "choropleth": [
           {
            "colorbar": {
             "outlinewidth": 0,
             "ticks": ""
            },
            "type": "choropleth"
           }
          ],
          "contour": [
           {
            "colorbar": {
             "outlinewidth": 0,
             "ticks": ""
            },
            "colorscale": [
             [
              0,
              "#0d0887"
             ],
             [
              0.1111111111111111,
              "#46039f"
             ],
             [
              0.2222222222222222,
              "#7201a8"
             ],
             [
              0.3333333333333333,
              "#9c179e"
             ],
             [
              0.4444444444444444,
              "#bd3786"
             ],
             [
              0.5555555555555556,
              "#d8576b"
             ],
             [
              0.6666666666666666,
              "#ed7953"
             ],
             [
              0.7777777777777778,
              "#fb9f3a"
             ],
             [
              0.8888888888888888,
              "#fdca26"
             ],
             [
              1,
              "#f0f921"
             ]
            ],
            "type": "contour"
           }
          ],
          "contourcarpet": [
           {
            "colorbar": {
             "outlinewidth": 0,
             "ticks": ""
            },
            "type": "contourcarpet"
           }
          ],
          "heatmap": [
           {
            "colorbar": {
             "outlinewidth": 0,
             "ticks": ""
            },
            "colorscale": [
             [
              0,
              "#0d0887"
             ],
             [
              0.1111111111111111,
              "#46039f"
             ],
             [
              0.2222222222222222,
              "#7201a8"
             ],
             [
              0.3333333333333333,
              "#9c179e"
             ],
             [
              0.4444444444444444,
              "#bd3786"
             ],
             [
              0.5555555555555556,
              "#d8576b"
             ],
             [
              0.6666666666666666,
              "#ed7953"
             ],
             [
              0.7777777777777778,
              "#fb9f3a"
             ],
             [
              0.8888888888888888,
              "#fdca26"
             ],
             [
              1,
              "#f0f921"
             ]
            ],
            "type": "heatmap"
           }
          ],
          "heatmapgl": [
           {
            "colorbar": {
             "outlinewidth": 0,
             "ticks": ""
            },
            "colorscale": [
             [
              0,
              "#0d0887"
             ],
             [
              0.1111111111111111,
              "#46039f"
             ],
             [
              0.2222222222222222,
              "#7201a8"
             ],
             [
              0.3333333333333333,
              "#9c179e"
             ],
             [
              0.4444444444444444,
              "#bd3786"
             ],
             [
              0.5555555555555556,
              "#d8576b"
             ],
             [
              0.6666666666666666,
              "#ed7953"
             ],
             [
              0.7777777777777778,
              "#fb9f3a"
             ],
             [
              0.8888888888888888,
              "#fdca26"
             ],
             [
              1,
              "#f0f921"
             ]
            ],
            "type": "heatmapgl"
           }
          ],
          "histogram": [
           {
            "marker": {
             "pattern": {
              "fillmode": "overlay",
              "size": 10,
              "solidity": 0.2
             }
            },
            "type": "histogram"
           }
          ],
          "histogram2d": [
           {
            "colorbar": {
             "outlinewidth": 0,
             "ticks": ""
            },
            "colorscale": [
             [
              0,
              "#0d0887"
             ],
             [
              0.1111111111111111,
              "#46039f"
             ],
             [
              0.2222222222222222,
              "#7201a8"
             ],
             [
              0.3333333333333333,
              "#9c179e"
             ],
             [
              0.4444444444444444,
              "#bd3786"
             ],
             [
              0.5555555555555556,
              "#d8576b"
             ],
             [
              0.6666666666666666,
              "#ed7953"
             ],
             [
              0.7777777777777778,
              "#fb9f3a"
             ],
             [
              0.8888888888888888,
              "#fdca26"
             ],
             [
              1,
              "#f0f921"
             ]
            ],
            "type": "histogram2d"
           }
          ],
          "histogram2dcontour": [
           {
            "colorbar": {
             "outlinewidth": 0,
             "ticks": ""
            },
            "colorscale": [
             [
              0,
              "#0d0887"
             ],
             [
              0.1111111111111111,
              "#46039f"
             ],
             [
              0.2222222222222222,
              "#7201a8"
             ],
             [
              0.3333333333333333,
              "#9c179e"
             ],
             [
              0.4444444444444444,
              "#bd3786"
             ],
             [
              0.5555555555555556,
              "#d8576b"
             ],
             [
              0.6666666666666666,
              "#ed7953"
             ],
             [
              0.7777777777777778,
              "#fb9f3a"
             ],
             [
              0.8888888888888888,
              "#fdca26"
             ],
             [
              1,
              "#f0f921"
             ]
            ],
            "type": "histogram2dcontour"
           }
          ],
          "mesh3d": [
           {
            "colorbar": {
             "outlinewidth": 0,
             "ticks": ""
            },
            "type": "mesh3d"
           }
          ],
          "parcoords": [
           {
            "line": {
             "colorbar": {
              "outlinewidth": 0,
              "ticks": ""
             }
            },
            "type": "parcoords"
           }
          ],
          "pie": [
           {
            "automargin": true,
            "type": "pie"
           }
          ],
          "scatter": [
           {
            "fillpattern": {
             "fillmode": "overlay",
             "size": 10,
             "solidity": 0.2
            },
            "type": "scatter"
           }
          ],
          "scatter3d": [
           {
            "line": {
             "colorbar": {
              "outlinewidth": 0,
              "ticks": ""
             }
            },
            "marker": {
             "colorbar": {
              "outlinewidth": 0,
              "ticks": ""
             }
            },
            "type": "scatter3d"
           }
          ],
          "scattercarpet": [
           {
            "marker": {
             "colorbar": {
              "outlinewidth": 0,
              "ticks": ""
             }
            },
            "type": "scattercarpet"
           }
          ],
          "scattergeo": [
           {
            "marker": {
             "colorbar": {
              "outlinewidth": 0,
              "ticks": ""
             }
            },
            "type": "scattergeo"
           }
          ],
          "scattergl": [
           {
            "marker": {
             "colorbar": {
              "outlinewidth": 0,
              "ticks": ""
             }
            },
            "type": "scattergl"
           }
          ],
          "scattermapbox": [
           {
            "marker": {
             "colorbar": {
              "outlinewidth": 0,
              "ticks": ""
             }
            },
            "type": "scattermapbox"
           }
          ],
          "scatterpolar": [
           {
            "marker": {
             "colorbar": {
              "outlinewidth": 0,
              "ticks": ""
             }
            },
            "type": "scatterpolar"
           }
          ],
          "scatterpolargl": [
           {
            "marker": {
             "colorbar": {
              "outlinewidth": 0,
              "ticks": ""
             }
            },
            "type": "scatterpolargl"
           }
          ],
          "scatterternary": [
           {
            "marker": {
             "colorbar": {
              "outlinewidth": 0,
              "ticks": ""
             }
            },
            "type": "scatterternary"
           }
          ],
          "surface": [
           {
            "colorbar": {
             "outlinewidth": 0,
             "ticks": ""
            },
            "colorscale": [
             [
              0,
              "#0d0887"
             ],
             [
              0.1111111111111111,
              "#46039f"
             ],
             [
              0.2222222222222222,
              "#7201a8"
             ],
             [
              0.3333333333333333,
              "#9c179e"
             ],
             [
              0.4444444444444444,
              "#bd3786"
             ],
             [
              0.5555555555555556,
              "#d8576b"
             ],
             [
              0.6666666666666666,
              "#ed7953"
             ],
             [
              0.7777777777777778,
              "#fb9f3a"
             ],
             [
              0.8888888888888888,
              "#fdca26"
             ],
             [
              1,
              "#f0f921"
             ]
            ],
            "type": "surface"
           }
          ],
          "table": [
           {
            "cells": {
             "fill": {
              "color": "#EBF0F8"
             },
             "line": {
              "color": "white"
             }
            },
            "header": {
             "fill": {
              "color": "#C8D4E3"
             },
             "line": {
              "color": "white"
             }
            },
            "type": "table"
           }
          ]
         },
         "layout": {
          "annotationdefaults": {
           "arrowcolor": "#2a3f5f",
           "arrowhead": 0,
           "arrowwidth": 1
          },
          "autotypenumbers": "strict",
          "coloraxis": {
           "colorbar": {
            "outlinewidth": 0,
            "ticks": ""
           }
          },
          "colorscale": {
           "diverging": [
            [
             0,
             "#8e0152"
            ],
            [
             0.1,
             "#c51b7d"
            ],
            [
             0.2,
             "#de77ae"
            ],
            [
             0.3,
             "#f1b6da"
            ],
            [
             0.4,
             "#fde0ef"
            ],
            [
             0.5,
             "#f7f7f7"
            ],
            [
             0.6,
             "#e6f5d0"
            ],
            [
             0.7,
             "#b8e186"
            ],
            [
             0.8,
             "#7fbc41"
            ],
            [
             0.9,
             "#4d9221"
            ],
            [
             1,
             "#276419"
            ]
           ],
           "sequential": [
            [
             0,
             "#0d0887"
            ],
            [
             0.1111111111111111,
             "#46039f"
            ],
            [
             0.2222222222222222,
             "#7201a8"
            ],
            [
             0.3333333333333333,
             "#9c179e"
            ],
            [
             0.4444444444444444,
             "#bd3786"
            ],
            [
             0.5555555555555556,
             "#d8576b"
            ],
            [
             0.6666666666666666,
             "#ed7953"
            ],
            [
             0.7777777777777778,
             "#fb9f3a"
            ],
            [
             0.8888888888888888,
             "#fdca26"
            ],
            [
             1,
             "#f0f921"
            ]
           ],
           "sequentialminus": [
            [
             0,
             "#0d0887"
            ],
            [
             0.1111111111111111,
             "#46039f"
            ],
            [
             0.2222222222222222,
             "#7201a8"
            ],
            [
             0.3333333333333333,
             "#9c179e"
            ],
            [
             0.4444444444444444,
             "#bd3786"
            ],
            [
             0.5555555555555556,
             "#d8576b"
            ],
            [
             0.6666666666666666,
             "#ed7953"
            ],
            [
             0.7777777777777778,
             "#fb9f3a"
            ],
            [
             0.8888888888888888,
             "#fdca26"
            ],
            [
             1,
             "#f0f921"
            ]
           ]
          },
          "colorway": [
           "#636efa",
           "#EF553B",
           "#00cc96",
           "#ab63fa",
           "#FFA15A",
           "#19d3f3",
           "#FF6692",
           "#B6E880",
           "#FF97FF",
           "#FECB52"
          ],
          "font": {
           "color": "#2a3f5f"
          },
          "geo": {
           "bgcolor": "white",
           "lakecolor": "white",
           "landcolor": "#E5ECF6",
           "showlakes": true,
           "showland": true,
           "subunitcolor": "white"
          },
          "hoverlabel": {
           "align": "left"
          },
          "hovermode": "closest",
          "mapbox": {
           "style": "light"
          },
          "paper_bgcolor": "white",
          "plot_bgcolor": "#E5ECF6",
          "polar": {
           "angularaxis": {
            "gridcolor": "white",
            "linecolor": "white",
            "ticks": ""
           },
           "bgcolor": "#E5ECF6",
           "radialaxis": {
            "gridcolor": "white",
            "linecolor": "white",
            "ticks": ""
           }
          },
          "scene": {
           "xaxis": {
            "backgroundcolor": "#E5ECF6",
            "gridcolor": "white",
            "gridwidth": 2,
            "linecolor": "white",
            "showbackground": true,
            "ticks": "",
            "zerolinecolor": "white"
           },
           "yaxis": {
            "backgroundcolor": "#E5ECF6",
            "gridcolor": "white",
            "gridwidth": 2,
            "linecolor": "white",
            "showbackground": true,
            "ticks": "",
            "zerolinecolor": "white"
           },
           "zaxis": {
            "backgroundcolor": "#E5ECF6",
            "gridcolor": "white",
            "gridwidth": 2,
            "linecolor": "white",
            "showbackground": true,
            "ticks": "",
            "zerolinecolor": "white"
           }
          },
          "shapedefaults": {
           "line": {
            "color": "#2a3f5f"
           }
          },
          "ternary": {
           "aaxis": {
            "gridcolor": "white",
            "linecolor": "white",
            "ticks": ""
           },
           "baxis": {
            "gridcolor": "white",
            "linecolor": "white",
            "ticks": ""
           },
           "bgcolor": "#E5ECF6",
           "caxis": {
            "gridcolor": "white",
            "linecolor": "white",
            "ticks": ""
           }
          },
          "title": {
           "x": 0.05
          },
          "xaxis": {
           "automargin": true,
           "gridcolor": "white",
           "linecolor": "white",
           "ticks": "",
           "title": {
            "standoff": 15
           },
           "zerolinecolor": "white",
           "zerolinewidth": 2
          },
          "yaxis": {
           "automargin": true,
           "gridcolor": "white",
           "linecolor": "white",
           "ticks": "",
           "title": {
            "standoff": 15
           },
           "zerolinecolor": "white",
           "zerolinewidth": 2
          }
         }
        },
        "width": 800,
        "xaxis": {
         "anchor": "y",
         "autorange": true,
         "domain": [
          0,
          1
         ],
         "range": [
          -70.25125130122444,
          81.57376106684944
         ],
         "title": {
          "text": "0"
         },
         "type": "linear"
        },
        "yaxis": {
         "anchor": "x",
         "autorange": true,
         "domain": [
          0,
          1
         ],
         "range": [
          -65.21159446696797,
          74.82544029216328
         ],
         "title": {
          "text": "1"
         },
         "type": "linear"
        }
       }
      },
      "image/png": "[encoded data removed]",
      "text/html": [
       "<div>                            <div id=\"bb560ecf-acf9-4b46-b78b-925119cfd246\" class=\"plotly-graph-div\" style=\"height:800px; width:800px;\"></div>            <script type=\"text/javascript\">                require([\"plotly\"], function(Plotly) {                    window.PLOTLYENV=window.PLOTLYENV || {};                                    if (document.getElementById(\"bb560ecf-acf9-4b46-b78b-925119cfd246\")) {                    Plotly.newPlot(                        \"bb560ecf-acf9-4b46-b78b-925119cfd246\",                        [{\"hovertemplate\":\"<b>%{hovertext}</b><br><br>0=%{x}<br>1=%{y}<extra></extra>\",\"hovertext\":[\"se\",\"esse\",\"caesar\",\"his\",\"eo\",\"sibi\",\"eorum\",\"eos\",\"castris\",\"omnibus\",\"ne\",\"iis\",\"eius\",\"eum\",\"castra\",\"ea\",\"id\",\"causa\",\"omnes\",\"hostes\",\"uti\",\"sese\",\"romani\",\"bellum\",\"propter\",\"suis\",\"quos\",\"hostium\",\"proelio\",\"ubi\",\"fines\",\"partem\",\"populi\",\"nostri\",\"esset\",\"exercitum\",\"possent\",\"caesarem\",\"inter\",\"rhenum\",\"ipse\",\"suos\",\"loco\",\"milia\",\"posse\",\"nostros\",\"flumen\",\"quid\",\"pro\",\"parte\",\"gallia\",\"nostris\",\"locum\",\"una\",\"omnia\",\"galliae\",\"quorum\",\"finibus\",\"magno\",\"sua\",\"armis\",\"naves\",\"rei\",\"obsides\",\"hostibus\",\"posset\",\"iam\",\"circiter\",\"milites\",\"die\",\"legatos\",\"hominum\",\"apud\",\"eam\",\"sine\",\"quas\",\"navibus\",\"ante\",\"nihil\",\"tempore\",\"belli\",\"item\",\"helvetii\",\"copiis\",\"essent\",\"passuum\",\"omnium\",\"legiones\",\"iter\",\"locis\",\"copias\",\"itinere\",\"satis\",\"omni\",\"quem\",\"ibi\",\"itaque\",\"equites\",\"proelium\",\"consilio\",\"minus\",\"primum\",\"nam\",\"numero\",\"facta\",\"suo\",\"rerum\",\"ariovistus\",\"galliam\",\"celeriter\",\"magna\",\"militum\",\"eodem\",\"tempus\",\"bello\",\"facere\",\"fere\",\"multitudine\",\"iussit\",\"ipsi\",\"civitates\",\"fuga\",\"virtute\",\"propterea\",\"caesaris\",\"unum\",\"legati\",\"caesari\",\"illi\",\"tanta\",\"tum\",\"auxilium\",\"eas\",\"suas\",\"oppidum\",\"equitatu\",\"post\",\"interim\",\"hac\",\"trans\",\"aciem\",\"oppido\",\"pars\",\"transire\",\"fuit\",\"exercitus\",\"germani\",\"homines\",\"contendit\",\"habere\",\"seque\",\"contra\",\"romano\",\"milibus\",\"coeperunt\",\"l\",\"gallorum\",\"gallis\",\"c\",\"suam\",\"navium\",\"fluminis\",\"longius\",\"helvetios\",\"misit\",\"tela\",\"subito\",\"flumine\",\"uno\",\"periculo\",\"hi\",\"numerum\",\"eadem\",\"totius\",\"natura\",\"loci\",\"quin\",\"omnem\",\"amplius\",\"reliquos\",\"spe\",\"helvetiorum\",\"caesare\",\"haeduorum\",\"nostrorum\",\"adventu\",\"prius\",\"haeduos\",\"vi\",\"diem\",\"multis\",\"magnam\",\"facile\",\"paucis\",\"milium\",\"provinciam\",\"sub\",\"undique\",\"ei\",\"modo\",\"agris\",\"arma\",\"x\",\"vero\",\"agros\",\"nisi\",\"pace\",\"proeliis\",\"fidem\",\"multitudinem\",\"compluribus\",\"dies\",\"diebus\",\"longe\",\"populo\",\"nocte\",\"fieri\",\"habebat\",\"haeduis\",\"germanorum\",\"postea\",\"omnino\",\"germanos\",\"legatis\",\"facto\",\"superiore\",\"cuius\",\"impetum\",\"diutius\",\"militibus\",\"legionibus\",\"helvetiis\",\"ariovisti\",\"reliquis\",\"legatum\",\"enim\",\"magnum\",\"suum\",\"q\",\"p\",\"certior\",\"quarum\",\"sit\",\"poterant\",\"fecerunt\",\"equitum\",\"provinciae\",\"amicitiam\",\"civitatis\",\"existimabat\",\"partes\",\"hostem\",\"constituit\",\"summa\",\"romanorum\",\"is\",\"omnis\",\"contenderunt\",\"sequanos\",\"ob\",\"opere\",\"habebant\",\"frumentum\",\"silvas\",\"domum\",\"supra\",\"duas\",\"spatio\",\"diei\",\"reliqui\",\"ariovistum\",\"rursus\",\"ferre\",\"sui\",\"xii\",\"pugnatum\",\"iubet\",\"sequanis\",\"coepit\",\"vim\",\"arbitrabatur\",\"suaque\",\"paulo\",\"crassus\",\"factus\",\"pedum\",\"britanniam\",\"germanis\",\"tam\",\"m\",\"magis\",\"consuetudine\",\"solum\",\"pugnae\",\"ipsis\",\"haedui\",\"oratione\",\"inde\",\"pugna\",\"complures\",\"romanum\",\"fore\",\"usus\",\"fecisset\",\"oppida\",\"oppidis\",\"factum\",\"summam\",\"hunc\",\"maxime\",\"populum\",\"secum\",\"simul\",\"senatu\",\"hos\",\"exercitu\",\"respondit\",\"potestatem\",\"fugam\",\"iure\",\"mittit\",\"tertia\",\"impedimenta\",\"reliqua\",\"celeritate\",\"tantum\",\"sive\",\"vigilia\",\"annos\",\"t\",\"civitate\",\"earum\",\"praeter\",\"frumento\",\"commode\",\"nationes\",\"plurimum\",\"petere\",\"alia\",\"impedimentis\",\"nostra\",\"receperunt\",\"idem\",\"vulneribus\",\"agri\",\"belgis\",\"hanc\",\"saepe\",\"signa\",\"praesidio\",\"domo\",\"virtutis\",\"venire\",\"dare\",\"imperio\",\"legionem\",\"legionis\",\"sequanorum\",\"altitudinem\",\"equitatus\",\"voluntate\",\"agmen\",\"haberent\",\"nostram\",\"spem\",\"opus\",\"quantum\",\"pervenit\",\"iniuria\",\"adducti\",\"ipsos\",\"pacem\",\"prima\",\"facilius\",\"castrorum\",\"usui\",\"vellet\",\"loca\",\"suae\",\"legione\",\"haberet\",\"influit\",\"imperium\",\"montem\",\"latitudinem\",\"spatium\",\"mittunt\",\"auctoritate\",\"memoria\",\"superioribus\",\"ostendit\",\"magnis\",\"dictum\",\"gallos\",\"animo\",\"itineribus\",\"navi\",\"gravius\",\"romanos\",\"conloquio\",\"quicquam\",\"has\",\"equitatum\",\"reliquum\",\"modum\",\"romanis\",\"quaeque\",\"fortunam\",\"acie\",\"huic\",\"reliquae\",\"iiii\",\"salutem\",\"praeerat\",\"oporteret\",\"paulatim\",\"concilio\",\"xv\",\"pervenerunt\",\"equis\",\"cohortatus\",\"latere\",\"aperto\",\"timore\",\"acriter\",\"vallo\",\"salutis\",\"barbari\",\"consilii\",\"reverti\",\"confecto\",\"gratiam\",\"tenere\",\"primo\",\"quisque\",\"venerunt\",\"deinde\",\"muro\",\"remis\",\"duae\",\"viribus\",\"ii\",\"profectus\",\"diu\",\"fugae\",\"acceptis\",\"venerant\",\"sint\",\"crasso\",\"etsi\",\"barbaris\",\"regionibus\",\"quoque\",\"facerent\",\"collis\",\"causam\",\"opinionem\",\"obsidibus\",\"incensis\",\"temporis\",\"ratio\",\"multa\",\"traditis\",\"miserunt\",\"mercatores\",\"dixerunt\",\"potuit\",\"sustinere\",\"horum\",\"victis\",\"acies\",\"sabinus\",\"arbitratus\",\"civitas\",\"videbat\",\"cohortibus\",\"huc\",\"hoste\",\"altera\",\"monte\",\"fecit\",\"reduxit\",\"finitimis\",\"spes\",\"consilium\",\"reliquisque\",\"exercitatione\",\"magnitudine\",\"subsidio\",\"venisse\",\"statim\",\"frumenti\",\"civitatibus\",\"conloquium\",\"belgarum\",\"oportere\",\"initium\",\"belgas\",\"vii\",\"constiterunt\",\"remorum\",\"plerumque\",\"numerus\",\"fieret\",\"gratia\",\"publicae\",\"viderentur\",\"impeditos\",\"ire\",\"capere\",\"illum\",\"faceret\",\"magnopere\",\"provincia\",\"poterat\",\"cognitis\",\"italiam\",\"alii\",\"locus\",\"nomine\",\"victoria\",\"alias\",\"venit\",\"possit\",\"possint\",\"agmine\",\"intellexit\",\"labienum\",\"summo\",\"faciunt\",\"postridie\",\"existimavit\",\"exploratores\",\"impetus\",\"prohibere\",\"frumentaria\",\"extremum\",\"statuit\",\"manibus\",\"cornu\",\"genere\",\"partibus\",\"solis\",\"terga\",\"velint\",\"potuerunt\",\"multum\",\"proximi\",\"fuisset\",\"idoneum\",\"oceano\",\"dato\",\"dc\",\"coicerent\",\"pugnandi\",\"conspectu\",\"equitatumque\",\"telum\",\"equitibus\",\"discedere\",\"missa\",\"vellent\",\"suebis\",\"quare\",\"occiderunt\",\"tres\",\"diximus\",\"portis\",\"accidit\",\"tantae\",\"paulum\",\"interfecto\",\"constabat\",\"imperii\",\"aliae\",\"reliquas\",\"praedandi\",\"aedificiis\",\"dierum\",\"galli\",\"reciperent\",\"causis\",\"futurum\",\"regiones\",\"dixit\",\"tertiam\",\"obsidesque\",\"impetu\",\"viii\",\"volebat\",\"beneficio\",\"belgae\",\"incolunt\",\"mari\",\"anni\",\"contenderent\",\"auxilia\",\"praesertim\",\"convenirent\",\"civitatum\",\"nondum\",\"exploratoribus\",\"amissis\",\"condicionem\",\"finem\",\"paene\",\"principes\",\"communi\",\"multitudo\",\"agere\",\"contendere\",\"illis\",\"d\",\"iterum\",\"liberos\",\"diviciaci\",\"dicere\",\"sequi\",\"unde\",\"ipsius\",\"contulerunt\",\"perterritos\",\"pugnam\",\"frumentariae\",\"aberat\",\"intervallo\",\"rhodanum\",\"multo\",\"nulli\",\"prope\",\"allobrogum\",\"nullis\",\"perterriti\",\"teneri\",\"imperavit\",\"v\",\"cui\",\"necessario\",\"an\",\"domi\",\"aliis\",\"usum\",\"tenebat\",\"centurionibus\",\"itineris\",\"proxima\",\"isdem\",\"amicus\",\"virtutem\",\"plus\",\"secuti\",\"abesse\",\"cognito\",\"propius\",\"ultro\",\"paucos\",\"utraque\",\"permoti\",\"facultatem\",\"auderent\",\"facultas\",\"daretur\",\"intra\",\"diviciacum\",\"utrisque\",\"proficisci\",\"summum\",\"praeterea\",\"senatus\",\"legio\",\"pontem\",\"copia\",\"auxilio\",\"sueborum\",\"occupatis\"],\"legendgroup\":\"\",\"marker\":{\"color\":\"#636efa\",\"symbol\":\"circle\"},\"mode\":\"markers\",\"name\":\"\",\"orientation\":\"v\",\"showlegend\":false,\"x\":[25.237409591674805,28.246797561645508,12.52930736541748,24.52547264099121,-46.321563720703125,43.26492691040039,30.693706512451172,62.268192291259766,-47.39248275756836,-4.186251163482666,15.950270652770996,24.536869049072266,-39.014705657958984,49.367000579833984,-36.814453125,46.568809509277344,27.508148193359375,-4.730020046234131,31.285045623779297,-6.79322624206543,25.243934631347656,69.88043212890625,45.88154602050781,-29.124128341674805,-34.41127395629883,44.54758834838867,24.264829635620117,-47.24258804321289,15.192102432250977,0.5140480399131775,41.59778594970703,-26.89505958557129,46.45101547241211,-6.411452770233154,43.574432373046875,0.8537342548370361,-9.707447052001953,51.10265350341797,-9.61573314666748,29.444665908813477,-45.83290481567383,19.330636978149414,-23.23128890991211,40.819725036621094,31.781124114990234,-5.626797199249268,-4.929670333862305,-34.10325622558594,-44.55826187133789,-18.10434341430664,-9.01911735534668,-6.215546131134033,48.22114181518555,-16.756473541259766,-42.17385482788086,52.64865493774414,-20.856712341308594,43.469242095947266,-57.052734375,51.626007080078125,73.0163803100586,-54.79545211791992,42.6723747253418,61.89447784423828,-9.243386268615723,-29.21377944946289,13.691329956054688,-31.150981903076172,-30.883380889892578,-38.61677551269531,59.65398406982422,-17.6863956451416,33.2348747253418,10.844259262084961,14.96553897857666,-54.0467643737793,-25.639692306518555,-16.69390106201172,53.264591217041016,6.764932632446289,25.149280548095703,-33.31908416748047,8.540472030639648,35.74370193481445,-11.67377758026123,-43.23447799682617,56.03355026245117,-41.34967803955078,22.612192153930664,-21.69966697692871,52.562191009521484,-42.77873611450195,-16.067562103271484,18.19867706298828,-18.640052795410156,-48.1968879699707,24.010238647460938,-5.58516788482666,4.302513599395752,-12.991556167602539,-13.924934387207031,44.0982551574707,-14.654759407043457,40.53569030761719,5.444071292877197,45.87332534790039,-21.194252014160156,17.525440216064453,26.3491153717041,-0.029175542294979095,-28.875951766967773,-43.11512756347656,7.924337387084961,-7.07472562789917,24.07863998413086,27.492382049560547,-58.39942169189453,-31.065689086914062,-14.874804496765137,-4.820339679718018,28.732797622680664,-22.271625518798828,-20.31802749633789,8.611327171325684,18.55620765686035,31.95171546936035,66.44768524169922,32.36920166015625,30.09185218811035,-30.852079391479492,-43.527496337890625,-3.5132055282592773,-2.037993907928467,53.27804946899414,-51.79937744140625,5.006677627563477,-40.80224609375,-17.805192947387695,51.04909896850586,28.79367446899414,-48.941036224365234,-52.28939437866211,-40.482269287109375,30.016754150390625,-43.8290901184082,-9.591665267944336,39.040443420410156,9.567971229553223,3.34749174118042,32.11382293701172,59.000450134277344,69.58784484863281,36.76264572143555,-43.480323791503906,-14.068284034729004,21.284439086914062,35.59073257446289,17.8796443939209,22.342205047607422,26.74408721923828,-37.860897064208984,-30.433996200561523,-11.096863746643066,40.135887145996094,-36.62309265136719,-28.22602653503418,2.165628671646118,-8.928177833557129,7.29480504989624,13.885636329650879,38.638755798339844,-33.858707427978516,1.248249888420105,52.46194076538086,-49.380836486816406,-48.80164337158203,48.78871154785156,12.63459587097168,-8.895309448242188,18.03044891357422,-37.35220718383789,24.523643493652344,52.87558364868164,39.36392593383789,-21.450645446777344,61.11693572998047,16.163156509399414,48.96004104614258,-35.455772399902344,69.36019897460938,-4.669841766357422,1.8357893228530884,-8.20347785949707,-19.802791595458984,17.430248260498047,23.158777236938477,-33.2106819152832,-16.917587280273438,5.154097557067871,-19.17064666748047,-2.363036870956421,-0.2826838493347168,12.273750305175781,-5.241001129150391,31.139081954956055,-16.854717254638672,-31.409955978393555,-19.020442962646484,70.90141296386719,28.670522689819336,-4.9744086265563965,28.007795333862305,-20.254932403564453,-35.23336410522461,36.25071334838867,-36.609771728515625,-27.404727935791016,3.5128660202026367,58.87721252441406,30.247732162475586,-31.717876434326172,-14.072869300842285,29.858623504638672,68.88483428955078,15.467376708984375,-9.595698356628418,58.60464096069336,-13.147258758544922,0.5779995918273926,-26.3620548248291,-0.39278650283813477,25.804183959960938,58.405494689941406,-11.744359016418457,-1.1343376636505127,-4.548101902008057,-33.360111236572266,30.789411544799805,-3.086688280105591,53.4479866027832,-29.701082229614258,-20.223417282104492,45.66080093383789,-55.99400329589844,1.6072160005569458,-7.976696014404297,0.2792668044567108,49.373050689697266,62.87852096557617,26.626502990722656,-1.0227364301681519,-15.798003196716309,-43.88471984863281,-34.88203811645508,46.126548767089844,26.544645309448242,-59.767845153808594,-37.807987213134766,25.217008590698242,12.382713317871094,-46.0592155456543,-42.64110565185547,-2.468454360961914,-8.761809349060059,19.65877342224121,-54.28105926513672,-12.336313247680664,-11.404266357421875,-39.58734893798828,-42.74832534790039,46.839569091796875,-15.756450653076172,-1.290330171585083,-16.00338363647461,-27.638263702392578,-30.27776527404785,-4.804276466369629,58.036399841308594,33.96974563598633,-31.93360137939453,47.35438537597656,29.623056411743164,-9.841029167175293,-46.407859802246094,-30.09593963623047,-28.30991554260254,-55.36440658569336,7.9435882568359375,4.598607063293457,52.56336212158203,-47.10652542114258,2.2826716899871826,36.741188049316406,-16.1181583404541,66.10601043701172,5.96542501449585,49.926021575927734,-8.943787574768066,52.48982620239258,-29.845008850097656,68.75035858154297,-13.536413192749023,-44.102203369140625,48.57265853881836,-42.7483024597168,31.772634506225586,-27.09868049621582,3.118293046951294,-35.98814392089844,12.929210662841797,68.83538818359375,-13.79429817199707,-15.446331977844238,48.87422561645508,36.19075393676758,-28.534812927246094,27.457002639770508,70.52106475830078,-6.542518138885498,61.86100769042969,45.48986053466797,-17.415605545043945,-41.194793701171875,-60.640541076660156,-23.633472442626953,-49.33099365234375,-31.787321090698242,-0.3437139689922333,64.83238983154297,-1.8405041694641113,50.29877853393555,-48.582763671875,13.4466552734375,64.56065368652344,-15.343121528625488,-28.25902557373047,36.612735748291016,-40.046207427978516,-18.72052764892578,-37.609214782714844,8.047829627990723,-21.66316032409668,55.83583068847656,-33.40690612792969,26.480484008789062,68.18231201171875,18.437267303466797,30.60031509399414,-28.882587432861328,-48.34825134277344,-9.244721412658691,13.710681915283203,56.457122802734375,65.82160949707031,44.19004440307617,-59.07001495361328,-31.8328914642334,40.479122161865234,-26.890945434570312,22.341516494750977,47.9819450378418,4.682873249053955,19.068979263305664,-9.640395164489746,34.77461242675781,-34.9915771484375,-5.578497886657715,-6.105654239654541,57.59105682373047,44.570804595947266,-27.500478744506836,63.73987579345703,2.1171658039093018,-8.087333679199219,-39.25571823120117,-57.64358139038086,14.62950325012207,-61.77040100097656,-32.758243560791016,-23.128267288208008,45.252803802490234,-5.696613311767578,49.696533203125,-10.237558364868164,-50.68015670776367,-32.066619873046875,59.49008560180664,44.2335205078125,-49.02602005004883,-58.04478454589844,0.8345572352409363,4.074117183685303,-16.352935791015625,27.687469482421875,26.749210357666016,-8.8729887008667,-6.625592231750488,29.664440155029297,-39.511024475097656,14.951382637023926,17.61777114868164,-17.14031410217285,11.359254837036133,-26.916831970214844,-37.33464431762695,-44.06865310668945,2.7642014026641846,45.1505126953125,-42.5709342956543,-1.4585062265396118,-39.178707122802734,1.0567361116409302,-31.048673629760742,1.658586025238037,-47.30939483642578,-51.97075653076172,34.713478088378906,-31.125938415527344,-28.947044372558594,-1.377116322517395,-32.17234802246094,-48.146873474121094,-49.27363586425781,-36.05864334106445,-29.551780700683594,-10.259978294372559,-22.36489486694336,-17.208099365234375,-17.413177490234375,37.55592727661133,-10.90019416809082,43.84795379638672,13.987994194030762,-11.908416748046875,30.60047721862793,-14.513855934143066,45.43785095214844,7.172644138336182,-56.8140754699707,-42.51449966430664,-8.959378242492676,1.7686738967895508,-1.320863127708435,-29.608163833618164,-3.622476816177368,-33.85124588012695,-21.39426040649414,33.91636276245117,-22.10332679748535,-13.158507347106934,-17.99121856689453,-3.667844772338867,8.749502182006836,-36.17497634887695,-50.40754699707031,12.788583755493164,13.57861042022705,52.81736373901367,-19.879798889160156,-20.460290908813477,-18.61634635925293,26.97848129272461,73.09291076660156,56.65951919555664,16.232513427734375,58.570404052734375,4.212092399597168,-29.460535049438477,-22.48217010498047,27.528146743774414,-50.30772018432617,37.401939392089844,-8.3612699508667,37.77592849731445,27.027236938476562,-6.550352096557617,-48.68238830566406,-59.374855041503906,-15.965460777282715,-37.646629333496094,54.21322250366211,-15.812870025634766,47.40478515625,23.865400314331055,43.953128814697266,-38.4706916809082,-21.54265022277832,-38.71460723876953,-36.596431732177734,24.272279739379883,58.3736686706543,31.717636108398438,64.77662658691406,46.26502227783203,41.597206115722656,-33.75508499145508,-4.040409088134766,67.44841766357422,-23.524877548217773,-17.92812156677246,-47.71900177001953,7.759130001068115,18.21540069580078,-13.683926582336426,35.0294189453125,43.03594970703125,47.04330062866211,-6.034617900848389,25.427579879760742,32.946773529052734,16.40651512145996,38.53954315185547,-8.931529998779297,23.939395904541016,-48.952178955078125,47.63771438598633,25.290729522705078,-9.066150665283203,-16.12038230895996,42.96958923339844,32.722923278808594,65.04852294921875,15.15829086303711,0.10951640456914902,28.919477462768555,8.935628890991211,0.8077117204666138,-0.8156510591506958,-0.7812312245368958,1.1372030973434448,-39.72649383544922,13.849045753479004,-1.9974919557571411,-46.10932159423828,-5.513044834136963,37.770755767822266,-4.802117824554443,11.148333549499512,-29.568286895751953,-48.532081604003906,-17.258342742919922,0.5748210549354553,11.277955055236816,-27.91985321044922,28.4127197265625,-8.423401832580566,-33.74193572998047,31.737356185913086,18.56924057006836,14.781129837036133,-4.353177070617676,-6.43887186050415,3.8304338455200195,-28.199127197265625,36.67245864868164,-46.75104904174805,12.612396240234375,-8.71920394897461,2.2731051445007324,-58.427520751953125,-23.303607940673828,25.82818031311035,26.578107833862305,48.699798583984375,-6.696695804595947,3.2414329051971436,-4.630914211273193,-25.886754989624023,-14.175060272216797,-43.074668884277344,-25.738330841064453,0.9268656373023987,-22.642282485961914,2.3023669719696045,-49.08304977416992,-16.518352508544922,23.25450897216797,-19.477375030517578,-33.89577865600586,-41.5846061706543,-16.451589584350586,9.922713279724121,17.079933166503906,14.713805198669434,60.53871536254883,-29.70806121826172,63.13227462768555,-7.436652660369873,-46.730690002441406,17.783754348754883,47.2725830078125,-0.7533149123191833,-1.358644723892212,-35.77912902832031,-8.184412002563477,11.986824035644531,-10.250287055969238,1.6313127279281616,35.1158332824707,20.0064640045166,26.289037704467773,-37.7101936340332,-44.580265045166016,16.80075454711914,18.716203689575195,-3.2578160762786865,18.00771713256836,47.49382781982422,24.016143798828125,13.627634048461914,67.37367248535156,38.41700744628906,3.905780792236328,47.350772857666016,27.5662899017334,71.67990112304688,24.810604095458984,10.511646270751953,-44.62356185913086,-37.56441116333008,-12.19102954864502,-6.555929183959961,-23.996736526489258,37.88166427612305,-42.423187255859375,-29.80780792236328,-6.00706148147583,-4.767618656158447,-37.427978515625,-39.07426834106445,-7.0100998878479,-8.159859657287598,-36.41779708862305,-30.995267868041992,23.17160987854004,26.456281661987305,18.72162628173828,-0.7822904586791992,-6.117611885070801,26.626062393188477,-58.322547912597656,-38.7903938293457,2.087559223175049,-29.703256607055664,-34.142120361328125,-6.463005065917969,-39.55980682373047,48.87242889404297,13.688868522644043,26.806440353393555,-31.848180770874023,47.46876525878906,61.545413970947266,13.708561897277832,62.505279541015625,-1.7011029720306396,-50.27315139770508,-37.2476806640625,-36.20932388305664,-13.387495040893555,-4.2712788581848145,-13.415288925170898,-12.788037300109863,30.364423751831055,50.98405456542969,-9.538932800292969,47.42195129394531,-46.6251335144043,49.36011505126953,-35.5037841796875,-0.6025469303131104,19.229228973388672,9.67072582244873,52.0009651184082,-13.5658540725708],\"xaxis\":\"x\",\"y\":[3.871887683868408,-2.5354466438293457,11.819289207458496,26.640663146972656,-39.67337417602539,-2.0458807945251465,-55.909481048583984,5.226437091827393,16.786239624023438,36.40376281738281,9.066165924072266,8.22310733795166,-34.92417907714844,-27.364892959594727,3.496063232421875,14.975146293640137,-29.427021026611328,53.940311431884766,7.912580490112305,47.85558319091797,1.2662588357925415,-12.143731117248535,-5.762551784515381,-17.339563369750977,-21.080976486206055,-31.175676345825195,27.87415885925293,16.040477752685547,63.80736541748047,12.7321195602417,-34.91785430908203,-50.760536193847656,-5.976693630218506,47.00476837158203,23.967557907104492,-43.323490142822266,-38.72765350341797,16.6677188873291,-55.369850158691406,-53.42254638671875,13.049545288085938,8.631487846374512,14.541303634643555,8.447076797485352,-3.014958143234253,59.21253967285156,-50.73078155517578,27.576833724975586,25.359718322753906,-43.7236442565918,-6.392946720123291,49.822723388671875,-27.63917350769043,-53.432979583740234,-20.86979866027832,1.6295093297958374,44.880821228027344,-31.884742736816406,-19.627634048461914,26.196008682250977,14.644035339355469,-15.742422103881836,-11.002760887145996,-18.104400634765625,11.052543640136719,16.059507369995117,60.37859344482422,-43.24897384643555,15.758405685424805,-46.26708984375,19.944032669067383,-52.440975189208984,-11.994686126708984,-45.841102600097656,-6.0224385261535645,-10.062673568725586,4.0085601806640625,0.16107286512851715,9.680811882019043,3.088404893875122,36.95498275756836,-6.847071647644043,-57.41407775878906,45.123619079589844,30.36214828491211,-42.61195755004883,12.457402229309082,43.57639694213867,-39.374603271484375,-7.576737403869629,-40.046634674072266,-40.132835388183594,-9.819940567016602,44.64237976074219,48.38557434082031,-43.22819137573242,-34.67499923706055,55.19636917114258,45.71031188964844,4.221290111541748,-9.321406364440918,31.549070358276367,-27.461729049682617,9.932658195495605,47.3577766418457,27.710338592529297,-18.595111846923828,-13.340651512145996,-43.028419494628906,56.08806228637695,-18.037580490112305,38.51909637451172,3.581981897354126,-19.94544792175293,-15.104211807250977,-29.871583938598633,-17.004680633544922,-45.937416076660156,-18.424497604370117,60.23078918457031,-11.603191375732422,57.08657455444336,24.80797576904297,-57.05891418457031,-14.624723434448242,9.807233810424805,0.2237120419740677,-47.101383209228516,-33.786869049072266,5.112905979156494,-3.816105842590332,23.252174377441406,-34.31781768798828,-39.88859939575195,-41.787376403808594,43.322113037109375,46.8430061340332,49.17592239379883,7.6517510414123535,-53.329612731933594,8.308127403259277,-41.857391357421875,2.770109176635742,-54.666465759277344,-12.49777603149414,-5.181425094604492,11.529407501220703,21.752214431762695,-28.174480438232422,-11.753423690795898,11.419631958007812,-18.7824764251709,21.649608612060547,-41.93707275390625,51.36599349975586,-52.46815872192383,-13.975235939025879,-24.64937400817871,-14.809810638427734,16.443758010864258,-17.209197998046875,-28.173097610473633,42.824195861816406,-36.06116485595703,-52.3504524230957,10.14565658569336,39.4244270324707,-47.99131774902344,1.3071253299713135,-7.423422336578369,11.951722145080566,50.77558898925781,-11.422479629516602,1.8402055501937866,-1.3354809284210205,-0.7868350744247437,3.871335506439209,9.693607330322266,59.106422424316406,19.57564353942871,-4.599079132080078,-15.39445972442627,27.040332794189453,-34.234161376953125,27.549402236938477,22.809865951538086,50.49702453613281,-3.278024196624756,8.631878852844238,0.033604696393013,-45.80647277832031,0.5397984385490417,-8.975044250488281,-0.09062200039625168,50.05562210083008,-39.508487701416016,44.723426818847656,-46.005496978759766,-31.80766487121582,-8.45830249786377,-1.5071430206298828,29.93631362915039,-20.906558990478516,21.171749114990234,-2.5264265537261963,8.874485969543457,-17.502044677734375,24.225326538085938,-15.069828033447266,-34.121700286865234,65.084716796875,47.294227600097656,-0.019730014726519585,-13.747455596923828,21.582595825195312,8.919468879699707,-2.7579383850097656,13.464988708496094,-18.646120071411133,-51.93086624145508,53.092628479003906,30.609556198120117,-42.29576873779297,0.05024714767932892,64.27906799316406,12.460188865661621,21.702917098999023,36.89722442626953,10.793634414672852,5.911510944366455,-27.277727127075195,-37.74350357055664,-11.227201461791992,32.06990432739258,-29.202709197998047,-18.49794578552246,50.66529846191406,-21.460786819458008,-28.508319854736328,-3.2333531379699707,-50.50071334838867,-18.412734985351562,-17.217681884765625,10.793907165527344,38.84708786010742,39.29180908203125,-44.81999206542969,-7.25969934463501,-20.08409881591797,-45.43761444091797,-56.34375762939453,-14.103039741516113,24.91301727294922,-19.91169548034668,9.533548355102539,47.620086669921875,-16.255006790161133,4.594809055328369,-39.77305603027344,-43.0061149597168,38.80841064453125,-14.80815315246582,-1.9569785594940186,48.2877197265625,51.14969253540039,-10.79550838470459,-20.411481857299805,15.589670181274414,-36.2007942199707,-15.648298263549805,-16.152345657348633,51.18794631958008,31.53308868408203,7.909082889556885,-30.9707088470459,28.109956741333008,-28.99995231628418,-11.142365455627441,30.80245018005371,-27.656991958618164,-9.65894603729248,8.687335968017578,42.78541564941406,14.778891563415527,-50.02930450439453,-29.1936092376709,-15.71399974822998,-48.976924896240234,3.566558599472046,-3.3762409687042236,29.566085815429688,62.407508850097656,42.07063293457031,16.706239700317383,-18.81260871887207,3.6381618976593018,5.8589677810668945,-23.199560165405273,9.001433372497559,51.053504943847656,-14.354491233825684,-26.3207950592041,39.620750427246094,-14.859077453613281,-21.091461181640625,10.686384201049805,35.73375701904297,-14.427810668945312,-17.95033836364746,-21.069990158081055,-14.536189079284668,-54.16136932373047,6.9936747550964355,23.999231338500977,-14.347651481628418,33.73711013793945,0.9785656332969666,-11.02332592010498,56.86513900756836,-17.548442840576172,20.74363899230957,-44.7318000793457,24.00613784790039,-15.586519241333008,5.375011920928955,6.159402847290039,4.725583553314209,-31.913393020629883,-34.30946350097656,-29.00421905517578,25.058879852294922,-24.076759338378906,-34.260738372802734,-15.762933731079102,-9.673778533935547,-16.049741744995117,-8.58591365814209,6.724462509155273,-42.75819396972656,26.922348022460938,23.33955955505371,57.76262283325195,-10.24991226196289,32.7457160949707,33.48155212402344,-18.648141860961914,-29.49046516418457,-41.944427490234375,14.040558815002441,16.441198348999023,-54.04542922973633,21.660144805908203,-19.635831832885742,-15.813248634338379,-5.736547946929932,20.68702507019043,14.539328575134277,-34.80354309082031,-28.619932174682617,-53.20611572265625,17.843008041381836,44.87582015991211,48.664188385009766,-49.97494125366211,30.228654861450195,27.73814582824707,16.081554412841797,-53.48405838012695,-19.044374465942383,9.504998207092285,16.719955444335938,1.5513570308685303,37.232261657714844,-9.930900573730469,3.7731781005859375,-17.594701766967773,-11.51830768585205,-15.841991424560547,19.425315856933594,-31.72103500366211,23.836772918701172,-48.875640869140625,4.935394763946533,-50.131622314453125,2.599853992462158,46.357383728027344,20.803958892822266,8.990455627441406,-25.83736228942871,12.737288475036621,-29.92750358581543,-27.269493103027344,0.4908512234687805,-10.80602741241455,-34.4135856628418,-39.51874542236328,16.574993133544922,1.4951545000076294,-14.033143043518066,-10.907793998718262,-27.254552841186523,-9.336466789245605,8.404264450073242,36.08316421508789,-17.70113754272461,43.373497009277344,-24.235843658447266,-38.65201950073242,24.526290893554688,2.7987091541290283,45.43513870239258,46.133182525634766,29.975807189941406,10.077528953552246,38.443687438964844,6.8418779373168945,-22.425508499145508,-42.71236801147461,50.99919128417969,56.06768035888672,17.287078857421875,7.357937812805176,-37.01283645629883,7.384008884429932,29.61600112915039,11.47333812713623,22.911901473999023,19.017210006713867,34.451114654541016,-0.16684874892234802,-37.973628997802734,-3.6043834686279297,32.19716262817383,18.191804885864258,-22.165021896362305,5.231490135192871,28.69317626953125,21.59372901916504,-20.661846160888672,42.76451110839844,17.253950119018555,62.176761627197266,-33.21604919433594,28.990501403808594,45.52931594848633,33.08960723876953,45.218326568603516,-12.064693450927734,-33.13557815551758,-25.91703224182129,-17.526622772216797,-30.863893508911133,-48.538124084472656,49.21025848388672,6.118030548095703,-42.652252197265625,60.04237365722656,-9.398032188415527,59.479129791259766,-7.925545692443848,34.695743560791016,34.78105926513672,14.85483169555664,11.2267484664917,-30.97384262084961,10.311738014221191,-26.319107055664062,18.215089797973633,25.2144775390625,34.8651123046875,7.677005290985107,43.58396530151367,-17.41502571105957,-33.885955810546875,-44.26169967651367,-28.64335823059082,-38.36640167236328,20.954029083251953,-54.3304443359375,-50.76851272583008,-39.553993225097656,-15.054925918579102,-28.862064361572266,29.892396926879883,32.00347900390625,45.08683395385742,25.21887969970703,-5.480640411376953,27.23320198059082,-5.092402458190918,8.970349311828613,-13.674088478088379,0.5143528580665588,21.18720054626465,-32.52285385131836,17.183204650878906,44.59266662597656,-18.38721466064453,-30.92089080810547,16.77974510192871,-42.0727424621582,21.807830810546875,49.804630279541016,61.97250747680664,-9.1344633102417,-10.92288589477539,-39.86403274536133,44.84481430053711,-35.38526153564453,31.482770919799805,-10.525485038757324,43.467437744140625,20.133445739746094,-42.73881530761719,0.7910692095756531,-15.452503204345703,-42.72574234008789,16.430089950561523,-55.3761100769043,7.776352405548096,-47.79704284667969,-34.11276626586914,33.342628479003906,3.8614916801452637,-1.2188241481781006,-6.914493083953857,11.895139694213867,-29.982133865356445,4.978765964508057,4.405724048614502,-36.09171676635742,-41.94365310668945,-55.326236724853516,27.630680084228516,-7.111454486846924,1.0864042043685913,66.05326080322266,-48.76313781738281,5.6058549880981445,10.258109092712402,17.162933349609375,39.14407730102539,-7.4212117195129395,30.000499725341797,0.007337342482060194,42.479209899902344,-6.564357280731201,11.84630012512207,-15.911656379699707,32.95024108886719,-47.25368881225586,37.03402328491211,-12.648618698120117,9.338445663452148,44.12590408325195,28.979419708251953,10.771058082580566,18.862560272216797,46.12116622924805,12.804489135742188,-29.627172470092773,2.2526605129241943,8.395561218261719,-6.48318338394165,44.0981330871582,-34.00973129272461,67.02792358398438,-28.333375930786133,4.621213912963867,-13.68359375,4.965786933898926,-14.675491333007812,45.505943298339844,-13.655122756958008,-23.590984344482422,-17.27643585205078,-53.81800079345703,59.749568939208984,46.239566802978516,-4.666868686676025,50.813995361328125,-48.108489990234375,-30.03920555114746,-33.7178840637207,9.482109069824219,-52.048553466796875,2.531514883041382,55.97743606567383,-40.978782653808594,-25.165576934814453,24.03524398803711,-46.17559051513672,-46.53455352783203,-14.709526062011719,-20.251480102539062,-34.76693344116211,-21.468778610229492,1.5324445962905884,-22.592748641967773,40.25315856933594,48.78677749633789,-47.489501953125,-22.826580047607422,19.623470306396484,8.745908737182617,20.65608024597168,39.831809997558594,17.173866271972656,29.229969024658203,-12.359892845153809,-13.230048179626465,21.89529800415039,-32.92647171020508,18.74412727355957,8.544242858886719,-15.169173240661621,-4.69212007522583,-7.221565246582031,-24.362415313720703,-50.360538482666016,50.5353889465332,57.71227264404297,14.705277442932129,1.6312280893325806,-43.186275482177734,-28.388412475585938,-50.387351989746094,-6.67314338684082,43.86647033691406,-51.066192626953125,-52.085269927978516,-7.981450080871582,6.293716907501221,-47.122276306152344,7.52664852142334,49.37897872924805,-23.486129760742188,9.172877311706543,36.40121841430664,15.248574256896973,19.8577880859375,-6.423045635223389,-14.220894813537598,16.238067626953125,47.276668548583984,34.82215118408203,-20.008878707885742,24.524826049804688,21.238866806030273,17.63498306274414,51.54890441894531,-40.06710433959961,23.319124221801758,-8.34024429321289,4.053100109100342,32.26797103881836,-0.8720791339874268,-0.6145387887954712,-15.694884300231934,35.29248046875,21.283958435058594,34.153194427490234,31.58149528503418,-19.89553451538086,-40.23062515258789,-21.533447265625,-25.506078720092773,-23.055423736572266,-4.840570449829102,46.69217300415039,-56.76289367675781,40.18962097167969,6.760078430175781,-8.978693008422852,60.81447219848633],\"yaxis\":\"y\",\"type\":\"scatter\"}],                        {\"template\":{\"data\":{\"histogram2dcontour\":[{\"type\":\"histogram2dcontour\",\"colorbar\":{\"outlinewidth\":0,\"ticks\":\"\"},\"colorscale\":[[0.0,\"#0d0887\"],[0.1111111111111111,\"#46039f\"],[0.2222222222222222,\"#7201a8\"],[0.3333333333333333,\"#9c179e\"],[0.4444444444444444,\"#bd3786\"],[0.5555555555555556,\"#d8576b\"],[0.6666666666666666,\"#ed7953\"],[0.7777777777777778,\"#fb9f3a\"],[0.8888888888888888,\"#fdca26\"],[1.0,\"#f0f921\"]]}],\"choropleth\":[{\"type\":\"choropleth\",\"colorbar\":{\"outlinewidth\":0,\"ticks\":\"\"}}],\"histogram2d\":[{\"type\":\"histogram2d\",\"colorbar\":{\"outlinewidth\":0,\"ticks\":\"\"},\"colorscale\":[[0.0,\"#0d0887\"],[0.1111111111111111,\"#46039f\"],[0.2222222222222222,\"#7201a8\"],[0.3333333333333333,\"#9c179e\"],[0.4444444444444444,\"#bd3786\"],[0.5555555555555556,\"#d8576b\"],[0.6666666666666666,\"#ed7953\"],[0.7777777777777778,\"#fb9f3a\"],[0.8888888888888888,\"#fdca26\"],[1.0,\"#f0f921\"]]}],\"heatmap\":[{\"type\":\"heatmap\",\"colorbar\":{\"outlinewidth\":0,\"ticks\":\"\"},\"colorscale\":[[0.0,\"#0d0887\"],[0.1111111111111111,\"#46039f\"],[0.2222222222222222,\"#7201a8\"],[0.3333333333333333,\"#9c179e\"],[0.4444444444444444,\"#bd3786\"],[0.5555555555555556,\"#d8576b\"],[0.6666666666666666,\"#ed7953\"],[0.7777777777777778,\"#fb9f3a\"],[0.8888888888888888,\"#fdca26\"],[1.0,\"#f0f921\"]]}],\"heatmapgl\":[{\"type\":\"heatmapgl\",\"colorbar\":{\"outlinewidth\":0,\"ticks\":\"\"},\"colorscale\":[[0.0,\"#0d0887\"],[0.1111111111111111,\"#46039f\"],[0.2222222222222222,\"#7201a8\"],[0.3333333333333333,\"#9c179e\"],[0.4444444444444444,\"#bd3786\"],[0.5555555555555556,\"#d8576b\"],[0.6666666666666666,\"#ed7953\"],[0.7777777777777778,\"#fb9f3a\"],[0.8888888888888888,\"#fdca26\"],[1.0,\"#f0f921\"]]}],\"contourcarpet\":[{\"type\":\"contourcarpet\",\"colorbar\":{\"outlinewidth\":0,\"ticks\":\"\"}}],\"contour\":[{\"type\":\"contour\",\"colorbar\":{\"outlinewidth\":0,\"ticks\":\"\"},\"colorscale\":[[0.0,\"#0d0887\"],[0.1111111111111111,\"#46039f\"],[0.2222222222222222,\"#7201a8\"],[0.3333333333333333,\"#9c179e\"],[0.4444444444444444,\"#bd3786\"],[0.5555555555555556,\"#d8576b\"],[0.6666666666666666,\"#ed7953\"],[0.7777777777777778,\"#fb9f3a\"],[0.8888888888888888,\"#fdca26\"],[1.0,\"#f0f921\"]]}],\"surface\":[{\"type\":\"surface\",\"colorbar\":{\"outlinewidth\":0,\"ticks\":\"\"},\"colorscale\":[[0.0,\"#0d0887\"],[0.1111111111111111,\"#46039f\"],[0.2222222222222222,\"#7201a8\"],[0.3333333333333333,\"#9c179e\"],[0.4444444444444444,\"#bd3786\"],[0.5555555555555556,\"#d8576b\"],[0.6666666666666666,\"#ed7953\"],[0.7777777777777778,\"#fb9f3a\"],[0.8888888888888888,\"#fdca26\"],[1.0,\"#f0f921\"]]}],\"mesh3d\":[{\"type\":\"mesh3d\",\"colorbar\":{\"outlinewidth\":0,\"ticks\":\"\"}}],\"scatter\":[{\"fillpattern\":{\"fillmode\":\"overlay\",\"size\":10,\"solidity\":0.2},\"type\":\"scatter\"}],\"parcoords\":[{\"type\":\"parcoords\",\"line\":{\"colorbar\":{\"outlinewidth\":0,\"ticks\":\"\"}}}],\"scatterpolargl\":[{\"type\":\"scatterpolargl\",\"marker\":{\"colorbar\":{\"outlinewidth\":0,\"ticks\":\"\"}}}],\"bar\":[{\"error_x\":{\"color\":\"#2a3f5f\"},\"error_y\":{\"color\":\"#2a3f5f\"},\"marker\":{\"line\":{\"color\":\"#E5ECF6\",\"width\":0.5},\"pattern\":{\"fillmode\":\"overlay\",\"size\":10,\"solidity\":0.2}},\"type\":\"bar\"}],\"scattergeo\":[{\"type\":\"scattergeo\",\"marker\":{\"colorbar\":{\"outlinewidth\":0,\"ticks\":\"\"}}}],\"scatterpolar\":[{\"type\":\"scatterpolar\",\"marker\":{\"colorbar\":{\"outlinewidth\":0,\"ticks\":\"\"}}}],\"histogram\":[{\"marker\":{\"pattern\":{\"fillmode\":\"overlay\",\"size\":10,\"solidity\":0.2}},\"type\":\"histogram\"}],\"scattergl\":[{\"type\":\"scattergl\",\"marker\":{\"colorbar\":{\"outlinewidth\":0,\"ticks\":\"\"}}}],\"scatter3d\":[{\"type\":\"scatter3d\",\"line\":{\"colorbar\":{\"outlinewidth\":0,\"ticks\":\"\"}},\"marker\":{\"colorbar\":{\"outlinewidth\":0,\"ticks\":\"\"}}}],\"scattermapbox\":[{\"type\":\"scattermapbox\",\"marker\":{\"colorbar\":{\"outlinewidth\":0,\"ticks\":\"\"}}}],\"scatterternary\":[{\"type\":\"scatterternary\",\"marker\":{\"colorbar\":{\"outlinewidth\":0,\"ticks\":\"\"}}}],\"scattercarpet\":[{\"type\":\"scattercarpet\",\"marker\":{\"colorbar\":{\"outlinewidth\":0,\"ticks\":\"\"}}}],\"carpet\":[{\"aaxis\":{\"endlinecolor\":\"#2a3f5f\",\"gridcolor\":\"white\",\"linecolor\":\"white\",\"minorgridcolor\":\"white\",\"startlinecolor\":\"#2a3f5f\"},\"baxis\":{\"endlinecolor\":\"#2a3f5f\",\"gridcolor\":\"white\",\"linecolor\":\"white\",\"minorgridcolor\":\"white\",\"startlinecolor\":\"#2a3f5f\"},\"type\":\"carpet\"}],\"table\":[{\"cells\":{\"fill\":{\"color\":\"#EBF0F8\"},\"line\":{\"color\":\"white\"}},\"header\":{\"fill\":{\"color\":\"#C8D4E3\"},\"line\":{\"color\":\"white\"}},\"type\":\"table\"}],\"barpolar\":[{\"marker\":{\"line\":{\"color\":\"#E5ECF6\",\"width\":0.5},\"pattern\":{\"fillmode\":\"overlay\",\"size\":10,\"solidity\":0.2}},\"type\":\"barpolar\"}],\"pie\":[{\"automargin\":true,\"type\":\"pie\"}]},\"layout\":{\"autotypenumbers\":\"strict\",\"colorway\":[\"#636efa\",\"#EF553B\",\"#00cc96\",\"#ab63fa\",\"#FFA15A\",\"#19d3f3\",\"#FF6692\",\"#B6E880\",\"#FF97FF\",\"#FECB52\"],\"font\":{\"color\":\"#2a3f5f\"},\"hovermode\":\"closest\",\"hoverlabel\":{\"align\":\"left\"},\"paper_bgcolor\":\"white\",\"plot_bgcolor\":\"#E5ECF6\",\"polar\":{\"bgcolor\":\"#E5ECF6\",\"angularaxis\":{\"gridcolor\":\"white\",\"linecolor\":\"white\",\"ticks\":\"\"},\"radialaxis\":{\"gridcolor\":\"white\",\"linecolor\":\"white\",\"ticks\":\"\"}},\"ternary\":{\"bgcolor\":\"#E5ECF6\",\"aaxis\":{\"gridcolor\":\"white\",\"linecolor\":\"white\",\"ticks\":\"\"},\"baxis\":{\"gridcolor\":\"white\",\"linecolor\":\"white\",\"ticks\":\"\"},\"caxis\":{\"gridcolor\":\"white\",\"linecolor\":\"white\",\"ticks\":\"\"}},\"coloraxis\":{\"colorbar\":{\"outlinewidth\":0,\"ticks\":\"\"}},\"colorscale\":{\"sequential\":[[0.0,\"#0d0887\"],[0.1111111111111111,\"#46039f\"],[0.2222222222222222,\"#7201a8\"],[0.3333333333333333,\"#9c179e\"],[0.4444444444444444,\"#bd3786\"],[0.5555555555555556,\"#d8576b\"],[0.6666666666666666,\"#ed7953\"],[0.7777777777777778,\"#fb9f3a\"],[0.8888888888888888,\"#fdca26\"],[1.0,\"#f0f921\"]],\"sequentialminus\":[[0.0,\"#0d0887\"],[0.1111111111111111,\"#46039f\"],[0.2222222222222222,\"#7201a8\"],[0.3333333333333333,\"#9c179e\"],[0.4444444444444444,\"#bd3786\"],[0.5555555555555556,\"#d8576b\"],[0.6666666666666666,\"#ed7953\"],[0.7777777777777778,\"#fb9f3a\"],[0.8888888888888888,\"#fdca26\"],[1.0,\"#f0f921\"]],\"diverging\":[[0,\"#8e0152\"],[0.1,\"#c51b7d\"],[0.2,\"#de77ae\"],[0.3,\"#f1b6da\"],[0.4,\"#fde0ef\"],[0.5,\"#f7f7f7\"],[0.6,\"#e6f5d0\"],[0.7,\"#b8e186\"],[0.8,\"#7fbc41\"],[0.9,\"#4d9221\"],[1,\"#276419\"]]},\"xaxis\":{\"gridcolor\":\"white\",\"linecolor\":\"white\",\"ticks\":\"\",\"title\":{\"standoff\":15},\"zerolinecolor\":\"white\",\"automargin\":true,\"zerolinewidth\":2},\"yaxis\":{\"gridcolor\":\"white\",\"linecolor\":\"white\",\"ticks\":\"\",\"title\":{\"standoff\":15},\"zerolinecolor\":\"white\",\"automargin\":true,\"zerolinewidth\":2},\"scene\":{\"xaxis\":{\"backgroundcolor\":\"#E5ECF6\",\"gridcolor\":\"white\",\"linecolor\":\"white\",\"showbackground\":true,\"ticks\":\"\",\"zerolinecolor\":\"white\",\"gridwidth\":2},\"yaxis\":{\"backgroundcolor\":\"#E5ECF6\",\"gridcolor\":\"white\",\"linecolor\":\"white\",\"showbackground\":true,\"ticks\":\"\",\"zerolinecolor\":\"white\",\"gridwidth\":2},\"zaxis\":{\"backgroundcolor\":\"#E5ECF6\",\"gridcolor\":\"white\",\"linecolor\":\"white\",\"showbackground\":true,\"ticks\":\"\",\"zerolinecolor\":\"white\",\"gridwidth\":2}},\"shapedefaults\":{\"line\":{\"color\":\"#2a3f5f\"}},\"annotationdefaults\":{\"arrowcolor\":\"#2a3f5f\",\"arrowhead\":0,\"arrowwidth\":1},\"geo\":{\"bgcolor\":\"white\",\"landcolor\":\"#E5ECF6\",\"subunitcolor\":\"white\",\"showland\":true,\"showlakes\":true,\"lakecolor\":\"white\"},\"title\":{\"x\":0.05},\"mapbox\":{\"style\":\"light\"}}},\"xaxis\":{\"anchor\":\"y\",\"domain\":[0.0,1.0],\"title\":{\"text\":\"0\"}},\"yaxis\":{\"anchor\":\"x\",\"domain\":[0.0,1.0],\"title\":{\"text\":\"1\"}},\"legend\":{\"tracegroupgap\":0},\"margin\":{\"t\":60},\"height\":800,\"width\":800},                        {\"responsive\": true}                    ).then(function(){\n",
       "                            \n",
       "var gd = document.getElementById('bb560ecf-acf9-4b46-b78b-925119cfd246');\n",
       "var x = new MutationObserver(function (mutations, observer) {{\n",
       "        var display = window.getComputedStyle(gd).display;\n",
       "        if (!display || display === 'none') {{\n",
       "            console.log([gd, 'removed!']);\n",
       "            Plotly.purge(gd);\n",
       "            observer.disconnect();\n",
       "        }}\n",
       "}});\n",
       "\n",
       "// Listen for the removal of the full notebook cells\n",
       "var notebookContainer = gd.closest('#notebook-container');\n",
       "if (notebookContainer) {{\n",
       "    x.observe(notebookContainer, {childList: true});\n",
       "}}\n",
       "\n",
       "// Listen for the clearing of the current output cell\n",
       "var outputEl = gd.closest('.output');\n",
       "if (outputEl) {{\n",
       "    x.observe(outputEl, {childList: true});\n",
       "}}\n",
       "\n",
       "                        })                };                });            </script>        </div>"
      ]
     },
     "metadata": {},
     "output_type": "display_data"
    }
   ],
   "source": [
    "fig = px.scatter(\n",
    "    projections, \n",
    "    x=0, y=1,\n",
    "    hover_name = np.array(vocab),\n",
    "    width=800, \n",
    "    height=800\n",
    ")\n",
    "fig.show()"
   ]
  },
  {
   "cell_type": "code",
   "execution_count": 42,
   "id": "f0871d4d-b89a-48bf-8f70-4385275967ba",
   "metadata": {},
   "outputs": [],
   "source": [
    "# creating similar plots for the other languages below:"
   ]
  },
  {
   "cell_type": "code",
   "execution_count": 43,
   "id": "0d525fc0-95ad-4e9f-a407-d44e340c50b2",
   "metadata": {
    "tags": []
   },
   "outputs": [],
   "source": [
    "beowulf_files = [f\"{directory_path}/beowulf.txt\"]\n",
    "beowulf_titles = [f\"{directory_path}/beowulf.txt\"]"
   ]
  },
  {
   "cell_type": "code",
   "execution_count": 44,
   "id": "c2a4c7b6-18c1-4b46-b1f2-0f6bfc0ffe50",
   "metadata": {
    "tags": []
   },
   "outputs": [],
   "source": [
    "beowulf_words = {k:get_unigram_counts(v) \n",
    "                    for k, v in zip(beowulf_titles, beowulf_files)}"
   ]
  },
  {
   "cell_type": "code",
   "execution_count": 45,
   "id": "fa2a9b40-ea98-40ce-ba2e-56a4676cb7dd",
   "metadata": {
    "tags": []
   },
   "outputs": [],
   "source": [
    "with open(f'{directory_path}/beowulf.txt') as beowulf:\n",
    "    lines = [line.strip() for line in beowulf]\n",
    "    sceal = [\"sceal\"] + \\\n",
    "          get_term_count(beowulf_words, \"sceal\")\n",
    "    we  = [\"we\"] + \\\n",
    "          get_term_count(beowulf_words, \"we\")"
   ]
  },
  {
   "cell_type": "code",
   "execution_count": 46,
   "id": "837cbf11-9f50-4ae3-a8ad-5ee7c40aaee1",
   "metadata": {
    "tags": []
   },
   "outputs": [
    {
     "name": "stdout",
     "output_type": "stream",
     "text": [
      "['sceal', 33]\n",
      "['we', 24]\n"
     ]
    }
   ],
   "source": [
    "print(sceal)\n",
    "print(we)"
   ]
  },
  {
   "cell_type": "code",
   "execution_count": 47,
   "id": "c4eb6f7b-5301-4d61-a1a4-d020cd1918fe",
   "metadata": {},
   "outputs": [
    {
     "name": "stdout",
     "output_type": "stream",
     "text": [
      "[['ã¾ã',\n",
      "  'r',\n",
      "  'ã',\n",
      "  't',\n",
      "  'hyã',\n",
      "  'e',\n",
      "  'stod',\n",
      "  'hringedstefna',\n",
      "  'isig',\n",
      "  'utfus',\n",
      "  'ã',\n",
      "  'ã¾elinges',\n",
      "  'fã',\n",
      "  'r'],\n",
      " ['aledon',\n",
      "  'ã¾a',\n",
      "  'leofne',\n",
      "  'ã¾eoden',\n",
      "  'beaga',\n",
      "  'bryttan',\n",
      "  'on',\n",
      "  'bearm',\n",
      "  'scipes',\n",
      "  'mã',\n",
      "  'rne',\n",
      "  'be',\n",
      "  'mã',\n",
      "  'ste']]\n"
     ]
    }
   ],
   "source": [
    "# this seems to not work as well for OE as it did for Latin\n",
    "with open (f\"{directory_path}/beowulf.txt\", 'r') as f:\n",
    "  text = f.read()\n",
    "  \n",
    "text = text.replace(\"\\n\", \" \").lower()\n",
    "sentences = sent_tokenize(text)\n",
    "sent_word = [RegexpTokenizer(r\"\\w+\").tokenize(sent) for sent in sentences]\n",
    "corpus = [[w for w in sent if not w in stopwords.words('OEstopwords.txt')] for sent in sent_word]\n",
    "pprint(corpus[10:12])"
   ]
  },
  {
   "cell_type": "code",
   "execution_count": 55,
   "id": "29b07b3c-4939-4ac1-9442-8a93e8c98810",
   "metadata": {
    "tags": []
   },
   "outputs": [],
   "source": [
    "model = Word2Vec(sentences = corpus, \n",
    "                 vector_size = 100, \n",
    "                 window = 1000,\n",
    "                 epochs = 100)"
   ]
  },
  {
   "cell_type": "code",
   "execution_count": 56,
   "id": "50a7d854-469e-4e3d-94be-1c5204f8aa99",
   "metadata": {
    "tags": []
   },
   "outputs": [
    {
     "name": "stdout",
     "output_type": "stream",
     "text": [
      "-------  --------\n",
      "gemã     0.661355\n",
      "gebidan  0.645583\n",
      "ã¾enceã  0.589357\n",
      "wesan    0.56601\n",
      "don      0.54593\n",
      "mannan   0.505617\n",
      "biã      0.505138\n",
      "her      0.481968\n",
      "syndon   0.472902\n",
      "scyld    0.472582\n",
      "-------  --------\n"
     ]
    }
   ],
   "source": [
    "print(\n",
    "  tabulate(\n",
    "    model.wv.most_similar(\"sceal\")\n",
    "  )\n",
    ")"
   ]
  },
  {
   "cell_type": "code",
   "execution_count": 58,
   "id": "a900170e-c31c-426e-8a7b-c2788bcdd7c2",
   "metadata": {
    "tags": []
   },
   "outputs": [],
   "source": [
    "beowulf_matrix = model.wv.get_normed_vectors()"
   ]
  },
  {
   "cell_type": "code",
   "execution_count": 59,
   "id": "fe4da9a3-9f52-4288-89df-bd322482b4c1",
   "metadata": {
    "tags": []
   },
   "outputs": [
    {
     "data": {
      "text/plain": [
       "(679, 100)"
      ]
     },
     "execution_count": 59,
     "metadata": {},
     "output_type": "execute_result"
    }
   ],
   "source": [
    "beowulf_matrix.shape"
   ]
  },
  {
   "cell_type": "code",
   "execution_count": 60,
   "id": "7edcd6ca-616c-4622-9e9b-0131a4e0800a",
   "metadata": {
    "tags": []
   },
   "outputs": [],
   "source": [
    "tsne = TSNE(n_components=2, perplexity = 5)\n",
    "beowulf_projections = tsne.fit_transform(beowulf_matrix)"
   ]
  },
  {
   "cell_type": "code",
   "execution_count": 61,
   "id": "4f121cec-ab44-4033-bc35-1a0343cf0d31",
   "metadata": {
    "tags": []
   },
   "outputs": [],
   "source": [
    "beowulf_vocab = model.wv.index_to_key"
   ]
  },
  {
   "cell_type": "code",
   "execution_count": 62,
   "id": "95d8c82a-01e9-4364-9ce7-62d5557325df",
   "metadata": {
    "tags": []
   },
   "outputs": [
    {
     "data": {
      "application/vnd.plotly.v1+json": {
       "config": {
        "plotlyServerURL": "https://plot.ly"
       },
       "data": [
        {
         "hovertemplate": "<b>%{hovertext}</b><br><br>0=%{x}<br>1=%{y}<extra></extra>",
         "hovertext": [
          "ã",
          "ã¾ã",
          "t",
          "wã",
          "on",
          "s",
          "he",
          "e",
          "r",
          "him",
          "a",
          "ã¾a",
          "se",
          "ic",
          "to",
          "mã",
          "hã",
          "ã¾e",
          "fã",
          "swa",
          "an",
          "sã",
          "his",
          "g",
          "oã",
          "mid",
          "fter",
          "guã",
          "ofer",
          "re",
          "wiã",
          "nã",
          "dã",
          "under",
          "hie",
          "ã¾onne",
          "in",
          "ge",
          "siã",
          "ã¾one",
          "me",
          "m",
          "syã",
          "nu",
          "hine",
          "ã¾u",
          "for",
          "lã",
          "um",
          "geata",
          "bã",
          "l",
          "fela",
          "wearã",
          "fde",
          "st",
          "wolde",
          "hroã",
          "no",
          "c",
          "eft",
          "rã",
          "of",
          "hwã",
          "sceal",
          "bearn",
          "is",
          "sunu",
          "am",
          "god",
          "maã",
          "hit",
          "hyne",
          "d",
          "helm",
          "forã",
          "heaã",
          "ste",
          "beowulf",
          "cyning",
          "oft",
          "ã¾eah",
          "hyrde",
          "we",
          "min",
          "u",
          "swylce",
          "ron",
          "ã¾am",
          "leode",
          "sweord",
          "manna",
          "gar",
          "deaã",
          "eorã",
          "meahte",
          "nig",
          "heold",
          "laã",
          "gif",
          "scyldinga",
          "be",
          "ã¾ara",
          "biã",
          "wrã",
          "yã",
          "eal",
          "leodum",
          "rum",
          "ã¾eoden",
          "gewat",
          "eorla",
          "niã",
          "frã",
          "sum",
          "er",
          "dum",
          "gefrã",
          "gumena",
          "scolde",
          "wide",
          "ymb",
          "heo",
          "heard",
          "wordum",
          "leã",
          "grendel",
          "swiã",
          "secg",
          "der",
          "hreã",
          "fre",
          "hord",
          "gen",
          "sele",
          "com",
          "ende",
          "sona",
          "eall",
          "ã¾urh",
          "o",
          "soã",
          "ra",
          "as",
          "mec",
          "cwom",
          "maã¾elode",
          "frean",
          "healfdenes",
          "grendles",
          "mine",
          "gesã",
          "le",
          "onne",
          "stod",
          "hu",
          "man",
          "mihte",
          "gã",
          "feorh",
          "lice",
          "crã",
          "hwilum",
          "eald",
          "inne",
          "moste",
          "ealle",
          "sio",
          "weard",
          "ã¾enden",
          "aglã",
          "wine",
          "men",
          "weorã",
          "golde",
          "feorran",
          "geseah",
          "eorl",
          "lange",
          "gemunde",
          "gefremede",
          "leoda",
          "ut",
          "wyrm",
          "sceolde",
          "innan",
          "mon",
          "secgan",
          "cuã",
          "het",
          "dryhten",
          "secean",
          "sealde",
          "sprã",
          "leod",
          "rice",
          "es",
          "wealle",
          "seo",
          "one",
          "gode",
          "leã¾a",
          "ã¾anon",
          "gyt",
          "hwile",
          "niht",
          "feond",
          "fah",
          "wiht",
          "healdan",
          "aldre",
          "hond",
          "ham",
          "feor",
          "cce",
          "geong",
          "gold",
          "ce",
          "gehwã",
          "neah",
          "selest",
          "duguã",
          "wel",
          "syã¾ã",
          "higelaces",
          "wyrd",
          "word",
          "hio",
          "wille",
          "gelã",
          "geaf",
          "monig",
          "maga",
          "or",
          "gares",
          "ã¾y",
          "ges",
          "hleo",
          "frod",
          "ã¾an",
          "byrnan",
          "her",
          "fram",
          "ana",
          "gn",
          "fornam",
          "ghwã",
          "us",
          "cwã",
          "genes",
          "searwum",
          "hy",
          "ter",
          "hean",
          "up",
          "rne",
          "siã¾ã",
          "wedera",
          "mod",
          "fdon",
          "nalles",
          "git",
          "eode",
          "geseon",
          "lafe",
          "elne",
          "oã¾ã¾ã",
          "ma",
          "geweald",
          "micel",
          "ecg",
          "wit",
          "hilde",
          "meahton",
          "swylc",
          "hafelan",
          "glã",
          "swã",
          "ealdre",
          "wig",
          "cynnes",
          "dyde",
          "rinc",
          "y",
          "dom",
          "geond",
          "minne",
          "minum",
          "sylfes",
          "hafaã",
          "heorote",
          "gebad",
          "gearwe",
          "beran",
          "bad",
          "ca",
          "hwearf",
          "hyt",
          "frecne",
          "goda",
          "beagas",
          "forgeaf",
          "sohte",
          "hat",
          "flet",
          "huru",
          "ecgum",
          "hi",
          "elode",
          "healle",
          "gesealde",
          "wen",
          "don",
          "folces",
          "oã¾ã",
          "wihte",
          "ã¾eling",
          "gretan",
          "modor",
          "weoll",
          "willan",
          "hand",
          "feã",
          "ghwylc",
          "hire",
          "lan",
          "ã¾egn",
          "mode",
          "da",
          "denum",
          "wedra",
          "ã¾earf",
          "nealles",
          "hyra",
          "findan",
          "metod",
          "guman",
          "eã",
          "iren",
          "ã¾in",
          "feore",
          "weg",
          "eallum",
          "dome",
          "ran",
          "higelac",
          "hearda",
          "leofne",
          "ellen",
          "can",
          "ongan",
          "gehwylcum",
          "gde",
          "efne",
          "hrã",
          "cwen",
          "ft",
          "handa",
          "te",
          "gare",
          "ful",
          "mas",
          "oã¾er",
          "stan",
          "brã",
          "deniga",
          "sefa",
          "atol",
          "dena",
          "heah",
          "frofre",
          "hyre",
          "heht",
          "tela",
          "lyt",
          "gemã",
          "de",
          "micle",
          "byre",
          "yrre",
          "moston",
          "nolde",
          "sceall",
          "leofa",
          "ferhã",
          "modes",
          "gefeng",
          "wintra",
          "fte",
          "biowulf",
          "mannes",
          "bearm",
          "ã¾earfe",
          "wolcnum",
          "folc",
          "worn",
          "leof",
          "habban",
          "earfoã",
          "hrof",
          "weold",
          "blode",
          "du",
          "bbe",
          "dohtor",
          "lif",
          "grim",
          "gesiã",
          "grã",
          "tgã",
          "dere",
          "sinc",
          "eard",
          "lifes",
          "sund",
          "suna",
          "godne",
          "grette",
          "gemyndig",
          "beowulfe",
          "guma",
          "la",
          "rest",
          "heap",
          "drihten",
          "lde",
          "wudu",
          "liã",
          "land",
          "gesawon",
          "side",
          "gewã",
          "flod",
          "onfand",
          "ecgã¾eowes",
          "cuã¾e",
          "ecgã",
          "longe",
          "onfeng",
          "holm",
          "lean",
          "geongum",
          "buton",
          "gewrã",
          "cynne",
          "hlã",
          "sweg",
          "foldan",
          "wynne",
          "anne",
          "gearo",
          "unc",
          "secan",
          "lum",
          "nigne",
          "fus",
          "godes",
          "gesyne",
          "sweorde",
          "mihtig",
          "helpe",
          "getwã",
          "aras",
          "ealde",
          "gesohte",
          "hild",
          "leng",
          "wealdan",
          "cyn",
          "feran",
          "from",
          "selestan",
          "blã",
          "anum",
          "led",
          "gebolgen",
          "hordweard",
          "since",
          "gebã",
          "genã",
          "ã¾ec",
          "ara",
          "snude",
          "swealt",
          "horde",
          "sceawian",
          "gefã",
          "ã¾onan",
          "eaxle",
          "nan",
          "folce",
          "nige",
          "somod",
          "hraã¾e",
          "slã",
          "ã¾egna",
          "manig",
          "seon",
          "maran",
          "wiglaf",
          "tbã",
          "twe",
          "ded",
          "sande",
          "beorge",
          "gebrã",
          "pnum",
          "sloh",
          "dryhtne",
          "wean",
          "waldend",
          "wisse",
          "tte",
          "scoldon",
          "morã",
          "ã¾on",
          "swyã",
          "wiste",
          "hraã",
          "twa",
          "eorã¾an",
          "pen",
          "samod",
          "hearde",
          "byrne",
          "strã",
          "gomela",
          "hte",
          "hildedeor",
          "dracan",
          "eow",
          "gyf",
          "sefan",
          "wene",
          "wesan",
          "con",
          "monegum",
          "gã¾a",
          "gewyrcean",
          "scyld",
          "drugon",
          "ht",
          "ahte",
          "dydon",
          "ã¾rage",
          "beaga",
          "selfa",
          "wihstanes",
          "aldor",
          "wrecan",
          "rices",
          "mere",
          "gegongen",
          "res",
          "tealde",
          "wendon",
          "hrusan",
          "eorlum",
          "onfunde",
          "gongan",
          "anes",
          "denigea",
          "cyst",
          "togeanes",
          "ellenweorc",
          "gebidan",
          "ides",
          "rof",
          "modig",
          "self",
          "secge",
          "broã",
          "ã¾er",
          "feng",
          "leoht",
          "wunde",
          "grunde",
          "gecwã",
          "eah",
          "cyninges",
          "draca",
          "ton",
          "brucan",
          "cean",
          "ongenã",
          "wyrmes",
          "beorges",
          "eowes",
          "hygelac",
          "ymbe",
          "mum",
          "eorlscipe",
          "hwate",
          "ys",
          "wat",
          "cempa",
          "sare",
          "bi",
          "goldwine",
          "leoã",
          "ecge",
          "wigend",
          "aã",
          "leofes",
          "nefne",
          "bewunden",
          "beorn",
          "gang",
          "ealles",
          "hafast",
          "worolde",
          "lungre",
          "lond",
          "beowulfes",
          "wiges",
          "mundum",
          "geatolic",
          "beorhte",
          "bat",
          "ftig",
          "cempan",
          "geatum",
          "sel",
          "heorot",
          "hynã",
          "rihte",
          "fyr",
          "fyrst",
          "gewin",
          "rgod",
          "neosan",
          "faran",
          "ã¾elinga",
          "fand",
          "forgeald",
          "fen",
          "haten",
          "helle",
          "fremman",
          "fyrene",
          "eac",
          "sang",
          "hearpan",
          "symle",
          "geogoã",
          "weras",
          "syndon",
          "bidan",
          "werede",
          "geweorc",
          "laf",
          "pna",
          "eotena",
          "reced",
          "lic",
          "ã¾ryã",
          "madmas",
          "mundgripe",
          "geã",
          "wile",
          "ã¾inum",
          "furã",
          "tsomne",
          "mannan",
          "ã¾is",
          "ã¾enceã",
          "worda",
          "hwylc",
          "wes",
          "hlaford",
          "heorã",
          "gecyã",
          "witan",
          "ad",
          "geweorã",
          "nis",
          "eower",
          "dan",
          "ssas"
         ],
         "legendgroup": "",
         "marker": {
          "color": "#636efa",
          "symbol": "circle"
         },
         "mode": "markers",
         "name": "",
         "orientation": "v",
         "showlegend": false,
         "type": "scatter",
         "x": [
          -46.99432373046875,
          -35.6495361328125,
          -30.05400848388672,
          -47.08452224731445,
          13.15075969696045,
          -43.6181640625,
          -15.314178466796875,
          -20.575958251953125,
          0.6298062205314636,
          -29.105838775634766,
          17.07598114013672,
          39.057430267333984,
          -23.6434268951416,
          -21.962493896484375,
          26.071693420410156,
          -3.5915024280548096,
          -27.478727340698242,
          -23.75848960876465,
          -36.60973358154297,
          -50.755916595458984,
          -43.59992980957031,
          -42.05158233642578,
          23.51142692565918,
          7.8939080238342285,
          -35.24628829956055,
          15.410635948181152,
          5.064310550689697,
          24.150218963623047,
          -40.21245193481445,
          10.227553367614746,
          -58.68523406982422,
          -40.7974967956543,
          -54.855918884277344,
          4.323085308074951,
          -27.168010711669922,
          62.21303939819336,
          -28.794965744018555,
          22.86607551574707,
          -42.44316864013672,
          0.10146923363208771,
          -22.954809188842773,
          -5.497631549835205,
          -44.002967834472656,
          35.69318389892578,
          -16.99819564819336,
          -62.74985122680664,
          9.330402374267578,
          5.595009803771973,
          -3.9776618480682373,
          19.9304141998291,
          26.253129959106445,
          42.93707275390625,
          -21.49102210998535,
          -63.5842170715332,
          40.640296936035156,
          47.867462158203125,
          -12.268474578857422,
          29.577360153198242,
          6.367956638336182,
          38.83412551879883,
          35.3121452331543,
          -19.934457778930664,
          46.456180572509766,
          10.292218208312988,
          3.747655153274536,
          -34.4243049621582,
          -21.580963134765625,
          -22.278867721557617,
          -11.50009822845459,
          -31.585859298706055,
          -7.581877708435059,
          -27.57537269592285,
          -1.901319980621338,
          25.043607711791992,
          47.677371978759766,
          -6.441356182098389,
          16.151044845581055,
          -15.656295776367188,
          -42.29076385498047,
          41.42475509643555,
          3.870075225830078,
          -21.240737915039062,
          -16.91077995300293,
          -14.162090301513672,
          -13.153768539428711,
          -39.03752899169922,
          7.320855617523193,
          31.823028564453125,
          17.4747314453125,
          -13.634130477905273,
          36.15641784667969,
          -51.34175109863281,
          29.86267852783203,
          59.0933837890625,
          24.15196990966797,
          8.168049812316895,
          -45.62173080444336,
          15.480546951293945,
          -45.85737991333008,
          -55.3007698059082,
          -12.63154411315918,
          -29.9426212310791,
          0.28583693504333496,
          -0.4509957432746887,
          22.236677169799805,
          -32.8498649597168,
          -33.711055755615234,
          57.06344223022461,
          -36.45148849487305,
          42.05926513671875,
          26.029977798461914,
          60.49604034423828,
          -21.083993911743164,
          1.561201810836792,
          12.694705963134766,
          -35.40623092651367,
          -54.27091979980469,
          23.570518493652344,
          -48.2170524597168,
          -13.101487159729004,
          14.157746315002441,
          -40.86537551879883,
          2.7433533668518066,
          30.42144012451172,
          -53.437015533447266,
          -13.651556015014648,
          -61.785926818847656,
          22.332937240600586,
          0.31924498081207275,
          -37.12060546875,
          15.579435348510742,
          -37.84510803222656,
          15.969526290893555,
          -0.03856298327445984,
          14.772378921508789,
          9.868849754333496,
          5.135519504547119,
          44.88201904296875,
          -34.68781661987305,
          -50.55402755737305,
          -55.038333892822266,
          -25.903337478637695,
          -3.5505316257476807,
          -18.139917373657227,
          -19.671960830688477,
          13.78802490234375,
          -41.718292236328125,
          -53.72572708129883,
          -22.339872360229492,
          36.272796630859375,
          22.09343719482422,
          16.545419692993164,
          35.913204193115234,
          -28.317312240600586,
          45.555145263671875,
          15.05455493927002,
          -51.02975082397461,
          -19.427141189575195,
          27.976099014282227,
          35.14749526977539,
          34.986724853515625,
          -7.8559064865112305,
          27.355789184570312,
          12.752665519714355,
          37.4422492980957,
          1.8136850595474243,
          56.59821701049805,
          30.973905563354492,
          17.703784942626953,
          26.086177825927734,
          -57.87177658081055,
          -20.316606521606445,
          -18.507627487182617,
          1.8489617109298706,
          59.62833023071289,
          26.490001678466797,
          -8.155804634094238,
          -3.778331756591797,
          -34.47667694091797,
          29.93027687072754,
          -53.95048904418945,
          58.66036605834961,
          45.28598403930664,
          10.74024772644043,
          0.9687070846557617,
          34.057437896728516,
          9.222838401794434,
          -23.17447853088379,
          -12.31230640411377,
          47.16817855834961,
          -15.456171989440918,
          33.835289001464844,
          -29.667770385742188,
          -43.333011627197266,
          46.13045120239258,
          -21.424570083618164,
          -5.5087690353393555,
          -7.168006896972656,
          -15.509570121765137,
          10.152183532714844,
          -54.824989318847656,
          -22.07660675048828,
          10.389460563659668,
          58.74489974975586,
          22.228124618530273,
          35.356544494628906,
          -17.435787200927734,
          -4.3531694412231445,
          8.822396278381348,
          -62.536476135253906,
          -39.78202438354492,
          40.42645263671875,
          10.143117904663086,
          -23.83974838256836,
          1.0373975038528442,
          51.72892379760742,
          23.553722381591797,
          -44.40157699584961,
          -35.58208465576172,
          49.983863830566406,
          -59.267333984375,
          60.44023513793945,
          7.039600372314453,
          10.253705024719238,
          30.069292068481445,
          -35.95871353149414,
          29.635725021362305,
          -3.69515061378479,
          -5.27998161315918,
          -17.241270065307617,
          -5.027754306793213,
          34.248802185058594,
          -4.281657695770264,
          50.59874725341797,
          29.050769805908203,
          7.469754695892334,
          52.71222686767578,
          60.560707092285156,
          17.60175323486328,
          -39.8572883605957,
          47.909645080566406,
          39.59347915649414,
          10.533309936523438,
          -17.076841354370117,
          23.69407844543457,
          58.08222961425781,
          46.00204086303711,
          -14.10537338256836,
          48.09727478027344,
          -61.602481842041016,
          -9.010663986206055,
          37.125404357910156,
          -40.88862609863281,
          16.852752685546875,
          38.08551025390625,
          41.54195785522461,
          -29.99732208251953,
          55.6241340637207,
          17.729000091552734,
          -24.2962703704834,
          41.746315002441406,
          -37.507408142089844,
          29.56435775756836,
          61.14777755737305,
          18.159399032592773,
          -1.1433944702148438,
          43.89468002319336,
          24.33013343811035,
          -30.483951568603516,
          -40.1500244140625,
          12.908658981323242,
          -48.78728485107422,
          -0.686001718044281,
          3.9969375133514404,
          -20.66444969177246,
          48.04282760620117,
          -59.70612335205078,
          -15.885757446289062,
          -12.024179458618164,
          -13.017434120178223,
          -22.07689094543457,
          -4.756394863128662,
          35.13438034057617,
          44.164955139160156,
          -33.67603302001953,
          26.061643600463867,
          -23.70279312133789,
          -32.21553421020508,
          -23.994802474975586,
          -57.9034309387207,
          -59.90913009643555,
          -0.442259281873703,
          8.093191146850586,
          46.335350036621094,
          -30.30046272277832,
          -58.398773193359375,
          30.140857696533203,
          42.40331268310547,
          13.420024871826172,
          21.333105087280273,
          -14.317085266113281,
          21.612592697143555,
          14.088167190551758,
          7.711879730224609,
          -3.0938310623168945,
          -4.0380167961120605,
          34.77565002441406,
          34.861873626708984,
          -8.059988021850586,
          40.48915481567383,
          59.71014404296875,
          -15.710124969482422,
          -49.21549987792969,
          -17.66944694519043,
          -64.1269760131836,
          0.9530971050262451,
          1.2293717861175537,
          -12.283400535583496,
          31.38558006286621,
          32.85030746459961,
          -33.98125457763672,
          21.006805419921875,
          13.135103225708008,
          -2.36140775680542,
          43.96009063720703,
          34.75834655761719,
          11.589099884033203,
          24.223697662353516,
          -54.64128875732422,
          27.31658363342285,
          40.425498962402344,
          -52.98182678222656,
          -6.8327507972717285,
          18.171241760253906,
          12.250621795654297,
          -37.576053619384766,
          9.224407196044922,
          -17.1661376953125,
          2.8328795433044434,
          -51.35150909423828,
          -37.835269927978516,
          3.4865403175354004,
          27.79167366027832,
          -3.1479074954986572,
          -1.5577397346496582,
          0.06773640215396881,
          0.4679235517978668,
          19.484600067138672,
          -6.77849006652832,
          -33.2515754699707,
          33.02069091796875,
          30.1254825592041,
          46.28227996826172,
          -29.13551902770996,
          -53.568424224853516,
          42.120670318603516,
          -9.144844055175781,
          34.70351791381836,
          35.68305587768555,
          28.594900131225586,
          8.716475486755371,
          -5.741697788238525,
          -9.89782428741455,
          -5.161368370056152,
          38.94834899902344,
          -44.473087310791016,
          -49.24041748046875,
          -58.723731994628906,
          -34.64799118041992,
          14.560029983520508,
          -33.47623825073242,
          -22.879961013793945,
          45.819671630859375,
          -40.39638137817383,
          37.50617980957031,
          4.905975818634033,
          -41.720680236816406,
          -29.125951766967773,
          -2.9174039363861084,
          12.015059471130371,
          59.66972351074219,
          -38.46964645385742,
          41.38017654418945,
          -40.21607971191406,
          22.629301071166992,
          -39.24883270263672,
          38.71935272216797,
          37.244873046875,
          -7.134404182434082,
          -41.307926177978516,
          -8.85232925415039,
          1.2365891933441162,
          -5.20634126663208,
          4.136125564575195,
          25.73941993713379,
          27.310302734375,
          -12.095162391662598,
          9.341008186340332,
          32.56956100463867,
          -4.0640716552734375,
          4.661459922790527,
          -3.800145149230957,
          47.97842788696289,
          -41.48711013793945,
          -12.741000175476074,
          35.300994873046875,
          29.367347717285156,
          -16.56983184814453,
          42.31900405883789,
          -29.727277755737305,
          -29.399288177490234,
          58.71354675292969,
          30.206932067871094,
          10.99177074432373,
          -40.01381301879883,
          45.738624572753906,
          41.73396301269531,
          26.3172607421875,
          44.191200256347656,
          23.729089736938477,
          -31.898412704467773,
          -24.802459716796875,
          27.51727867126465,
          58.65224838256836,
          -32.699092864990234,
          10.804573059082031,
          15.83760929107666,
          -46.05839538574219,
          8.959331512451172,
          -38.8997802734375,
          -33.195777893066406,
          48.79667663574219,
          -31.561115264892578,
          52.10355758666992,
          -42.09058380126953,
          -35.435882568359375,
          -15.491273880004883,
          21.0185604095459,
          3.1503541469573975,
          7.438167572021484,
          -14.788663864135742,
          -45.118064880371094,
          -18.132444381713867,
          21.45772361755371,
          -62.08786392211914,
          10.479373931884766,
          21.860559463500977,
          -2.8241398334503174,
          24.666996002197266,
          12.675535202026367,
          15.655477523803711,
          16.183990478515625,
          -20.01862144470215,
          54.267784118652344,
          24.42169952392578,
          36.7009391784668,
          29.86151885986328,
          14.461939811706543,
          5.075387477874756,
          -60.14830017089844,
          -53.34071350097656,
          -32.5810432434082,
          39.099945068359375,
          -39.26322937011719,
          -7.8856635093688965,
          -63.462162017822266,
          9.894893646240234,
          15.562702178955078,
          20.987058639526367,
          3.469520092010498,
          -25.196033477783203,
          0.07632225751876831,
          26.64075469970703,
          -19.97579002380371,
          -20.950273513793945,
          13.526047706604004,
          5.1701130867004395,
          48.8296012878418,
          -2.411146640777588,
          12.834696769714355,
          -47.00743865966797,
          -21.33033561706543,
          60.81245040893555,
          8.350302696228027,
          -6.386455535888672,
          38.684268951416016,
          25.72604751586914,
          31.509267807006836,
          37.496158599853516,
          -32.00651931762695,
          5.258983612060547,
          11.050868034362793,
          38.91393280029297,
          12.938309669494629,
          12.919357299804688,
          59.82384490966797,
          33.17334747314453,
          26.15456199645996,
          -28.43039894104004,
          -7.634382247924805,
          44.996620178222656,
          0.7655282020568848,
          -3.410099744796753,
          15.904840469360352,
          -3.8306868076324463,
          28.532123565673828,
          -29.126405715942383,
          8.842150688171387,
          -2.5730690956115723,
          -29.54309844970703,
          -28.7918701171875,
          23.926183700561523,
          -11.600793838500977,
          55.777137756347656,
          24.861528396606445,
          -50.63634490966797,
          -28.863733291625977,
          37.79833221435547,
          54.189292907714844,
          2.2659173011779785,
          -28.677734375,
          35.81038284301758,
          -29.63945770263672,
          9.170806884765625,
          5.7937541007995605,
          -2.188319206237793,
          38.180057525634766,
          -25.047828674316406,
          22.667198181152344,
          8.947824478149414,
          -21.82076072692871,
          -59.41429138183594,
          -59.51206970214844,
          -53.85567092895508,
          38.24412155151367,
          -38.797882080078125,
          29.658740997314453,
          -29.167116165161133,
          -37.06410217285156,
          12.79107666015625,
          -27.709796905517578,
          24.459440231323242,
          -12.401654243469238,
          -34.37971878051758,
          32.303585052490234,
          -16.047149658203125,
          21.117477416992188,
          -2.9760372638702393,
          -6.908931732177734,
          25.913692474365234,
          25.633399963378906,
          9.5294189453125,
          33.119991302490234,
          26.4005126953125,
          -6.972388744354248,
          -32.773067474365234,
          33.59096908569336,
          2.912715435028076,
          -4.023355007171631,
          54.769893646240234,
          -22.4017276763916,
          -22.257415771484375,
          -10.201870918273926,
          57.92605972290039,
          20.4888973236084,
          -1.5760923624038696,
          43.878822326660156,
          55.435245513916016,
          48.638511657714844,
          -58.82816696166992,
          -52.58346939086914,
          50.304351806640625,
          -34.336727142333984,
          -16.37753677368164,
          38.68263244628906,
          22.656808853149414,
          15.562772750854492,
          -38.686397552490234,
          -4.447237968444824,
          28.28322982788086,
          12.943490028381348,
          -31.130435943603516,
          2.3023698329925537,
          -56.71881866455078,
          -33.50810623168945,
          -12.58561897277832,
          15.760973930358887,
          -15.91731071472168,
          15.108159065246582,
          22.293718338012695,
          -13.092368125915527,
          21.383089065551758,
          -11.725502014160156,
          -14.99917984008789,
          -57.96699523925781,
          -60.109458923339844,
          10.869522094726562,
          -4.852066993713379,
          -43.6700439453125,
          48.06455993652344,
          36.61451721191406,
          25.197704315185547,
          -12.188559532165527,
          -8.0857572555542,
          -10.404437065124512,
          16.380891799926758,
          -23.374650955200195,
          2.533928394317627,
          -1.715155005455017,
          -62.95498275756836,
          -4.511587142944336,
          50.9738655090332,
          -11.237482070922852,
          -9.821915626525879,
          9.760197639465332,
          35.827850341796875,
          -9.909241676330566,
          4.833034038543701,
          39.085391998291016,
          8.702754020690918,
          -45.183345794677734,
          28.84492301940918,
          28.53577995300293,
          -5.48521089553833,
          -54.43741226196289,
          26.948535919189453,
          53.17488098144531,
          34.78465270996094,
          -23.77276039123535,
          -1.6641782522201538,
          12.251564025878906,
          13.946455001831055,
          22.049821853637695,
          26.79326629638672,
          -14.402233123779297,
          15.477788925170898,
          21.624332427978516,
          -33.672908782958984,
          -18.448299407958984,
          -61.970130920410156,
          23.09184455871582,
          21.338268280029297,
          23.489906311035156,
          3.503203868865967,
          -58.64289855957031,
          4.843036651611328,
          40.04096603393555,
          10.891388893127441,
          -36.334651947021484,
          22.704313278198242,
          -28.881494522094727,
          -16.056596755981445,
          21.422224044799805,
          40.59987258911133,
          60.05058288574219,
          39.461463928222656,
          -5.071949481964111,
          -28.416187286376953,
          44.82514572143555,
          -54.836551666259766,
          -52.813995361328125,
          -13.99658203125,
          -31.75064468383789,
          19.13786506652832,
          -17.76335334777832,
          -43.873226165771484,
          -38.631370544433594,
          -53.653778076171875,
          -46.51112365722656,
          3.9961984157562256,
          -20.60886001586914,
          -44.27956008911133,
          14.015575408935547,
          -11.707526206970215,
          -12.125947952270508,
          -22.94705581665039,
          -23.106138229370117,
          -0.5320954322814941,
          -34.11924362182617
         ],
         "xaxis": "x",
         "y": [
          8.849287986755371,
          -32.00212478637695,
          -29.689725875854492,
          22.185529708862305,
          -20.10127067565918,
          20.443763732910156,
          3.7002999782562256,
          -43.27394485473633,
          -14.13168716430664,
          4.231663227081299,
          -3.840845823287964,
          33.219966888427734,
          -4.920547008514404,
          -53.072113037109375,
          58.96731948852539,
          -37.579959869384766,
          24.611276626586914,
          -21.959341049194336,
          -20.71919059753418,
          -12.064664840698242,
          10.512174606323242,
          33.89537811279297,
          2.6637794971466064,
          -1.4023860692977905,
          60.68251419067383,
          -51.28605270385742,
          43.044769287109375,
          -29.065689086914062,
          35.04216766357422,
          -30.224449157714844,
          8.616601943969727,
          -1.5112342834472656,
          34.98024368286133,
          59.05014419555664,
          16.01010513305664,
          12.196017265319824,
          14.595148086547852,
          -20.193073272705078,
          -45.85765075683594,
          -15.641233444213867,
          -51.89602279663086,
          39.41313934326172,
          10.026124000549316,
          49.22298812866211,
          10.284588813781738,
          -21.301624298095703,
          -55.725547790527344,
          0.3938809633255005,
          28.795372009277344,
          -28.833702087402344,
          27.126728057861328,
          2.4767613410949707,
          13.233561515808105,
          0.02097853645682335,
          28.129474639892578,
          27.986385345458984,
          -24.243637084960938,
          70.01590728759766,
          -50.32231521606445,
          19.500608444213867,
          8.701952934265137,
          50.963478088378906,
          15.291015625,
          -32.058258056640625,
          -21.301362991333008,
          15.970720291137695,
          -34.54940414428711,
          -67.63744354248047,
          -32.51936340332031,
          5.5066680908203125,
          -39.84837341308594,
          -26.969133377075195,
          -46.045955657958984,
          23.788530349731445,
          -22.255081176757812,
          -8.05816650390625,
          -56.99129867553711,
          48.542484283447266,
          -28.197973251342773,
          -25.90711784362793,
          24.253564834594727,
          -42.28762435913086,
          -48.28639602661133,
          -40.80430221557617,
          -34.24259948730469,
          -43.242652893066406,
          26.91107940673828,
          36.60403060913086,
          50.3828239440918,
          51.75533676147461,
          -26.961620330810547,
          -17.86689567565918,
          70.6446304321289,
          6.658577919006348,
          -45.46540069580078,
          -49.040863037109375,
          19.9354190826416,
          -36.34801483154297,
          19.20924949645996,
          -18.73588752746582,
          -13.937349319458008,
          42.15472412109375,
          21.125106811523438,
          -21.44391632080078,
          -41.33757019042969,
          27.66325569152832,
          -33.393333435058594,
          21.537702560424805,
          3.4963603019714355,
          -15.315937995910645,
          8.42294979095459,
          -25.3004150390625,
          17.97544288635254,
          30.502668380737305,
          -28.993684768676758,
          60.72431182861328,
          36.8156852722168,
          -18.542448043823242,
          -2.838395357131958,
          12.75764274597168,
          52.627933502197266,
          30.993999481201172,
          45.809715270996094,
          -21.434566497802734,
          -28.1431827545166,
          34.573997497558594,
          -0.25715652108192444,
          60.0333137512207,
          -29.96875762939453,
          -23.301420211791992,
          -8.43071460723877,
          -3.2174651622772217,
          -6.128607273101807,
          14.831165313720703,
          48.99247360229492,
          32.29582214355469,
          0.835759699344635,
          23.10331153869629,
          -46.794639587402344,
          -5.933515548706055,
          -6.086516380310059,
          -3.8128623962402344,
          -26.835084915161133,
          -8.673258781433105,
          -51.43730163574219,
          12.981284141540527,
          -28.742841720581055,
          -27.584491729736328,
          -67.43370056152344,
          32.134552001953125,
          -20.009611129760742,
          -40.847328186035156,
          51.237144470214844,
          -13.142723083496094,
          23.31595802307129,
          50.609657287597656,
          18.734277725219727,
          12.854035377502441,
          -10.28395938873291,
          -43.79380416870117,
          -36.88193893432617,
          61.81332778930664,
          16.319398880004883,
          -7.497609615325928,
          10.201263427734375,
          14.963258743286133,
          6.8358869552612305,
          -21.076061248779297,
          48.20804977416992,
          38.5153923034668,
          7.597858428955078,
          -35.284881591796875,
          -17.572589874267578,
          -4.690219879150391,
          -28.717395782470703,
          42.26484680175781,
          12.20732593536377,
          -9.452241897583008,
          9.25268268585205,
          -31.776182174682617,
          -4.115117073059082,
          8.609543800354004,
          14.966791152954102,
          9.0245943069458,
          -28.485891342163086,
          -46.266902923583984,
          -38.18294143676758,
          -1.0495151281356812,
          30.564102172851562,
          -30.058734893798828,
          42.91780471801758,
          7.431853771209717,
          5.421285152435303,
          -29.64830780029297,
          1.31721830368042,
          30.706409454345703,
          -9.152809143066406,
          13.681243896484375,
          11.506671905517578,
          -6.565060138702393,
          -16.47838592529297,
          30.756328582763672,
          26.87345314025879,
          -21.669645309448242,
          -32.87274932861328,
          -0.34493958950042725,
          47.21393585205078,
          19.98907470703125,
          -48.061195373535156,
          -23.68886947631836,
          -25.31390953063965,
          31.078079223632812,
          25.533876419067383,
          -3.241617441177368,
          -48.55263900756836,
          33.886497497558594,
          -6.758352279663086,
          -18.10842514038086,
          4.093713760375977,
          -24.773818969726562,
          -14.798294067382812,
          13.236042022705078,
          -53.326026916503906,
          -0.8920742273330688,
          5.094015598297119,
          -11.397327423095703,
          14.6033935546875,
          43.160057067871094,
          -60.778709411621094,
          42.613059997558594,
          -37.29404067993164,
          40.0430908203125,
          -27.62935447692871,
          -11.701091766357422,
          68.92855834960938,
          -50.060787200927734,
          -9.220172882080078,
          -24.690629959106445,
          -5.178719997406006,
          21.730974197387695,
          -22.868484497070312,
          51.353790283203125,
          29.214229583740234,
          -52.5345573425293,
          -17.901430130004883,
          7.021154403686523,
          8.759903907775879,
          -40.261138916015625,
          -30.64911460876465,
          -10.137129783630371,
          12.037766456604004,
          -8.015199661254883,
          33.666629791259766,
          50.020721435546875,
          28.550596237182617,
          -15.756714820861816,
          -23.729246139526367,
          19.33156394958496,
          -62.7264518737793,
          17.85047149658203,
          47.58583450317383,
          -3.3599846363067627,
          30.85146713256836,
          20.0865421295166,
          -60.06901550292969,
          29.834787368774414,
          6.361050605773926,
          -7.923335552215576,
          -22.77680015563965,
          -29.665834426879883,
          -15.225525856018066,
          -27.866844177246094,
          -46.404319763183594,
          57.03401565551758,
          -22.9223575592041,
          32.79953384399414,
          -3.5421879291534424,
          -9.322932243347168,
          47.78197479248047,
          2.362894296646118,
          17.460952758789062,
          -59.248287200927734,
          36.97699737548828,
          -25.915292739868164,
          -48.03887176513672,
          41.146392822265625,
          -51.87983322143555,
          -48.202579498291016,
          -49.76640319824219,
          -9.651956558227539,
          -2.4978156089782715,
          -4.816382884979248,
          29.11273193359375,
          -30.254898071289062,
          36.17164611816406,
          6.453893184661865,
          31.767934799194336,
          -25.984464645385742,
          -13.725804328918457,
          -28.707195281982422,
          -42.099666595458984,
          -29.85421371459961,
          -38.48772430419922,
          10.02363395690918,
          42.4688835144043,
          43.75166320800781,
          -29.742822647094727,
          -44.57872009277344,
          -39.88844680786133,
          11.501338005065918,
          -28.230043411254883,
          31.94081687927246,
          -27.994483947753906,
          -49.311710357666016,
          -22.925588607788086,
          5.068752765655518,
          -5.853621959686279,
          17.47344207763672,
          6.98585319519043,
          -32.71140670776367,
          -34.45392608642578,
          -11.854816436767578,
          19.41045379638672,
          -25.52042579650879,
          2.6955373287200928,
          -36.25006103515625,
          4.971018314361572,
          29.08902931213379,
          35.53251266479492,
          52.184913635253906,
          -15.201183319091797,
          -18.34674835205078,
          63.53217697143555,
          -60.521549224853516,
          -39.16781234741211,
          -10.354747772216797,
          39.037601470947266,
          24.860576629638672,
          -30.24476432800293,
          -4.600059986114502,
          -37.85651779174805,
          29.326757431030273,
          52.80259323120117,
          29.288856506347656,
          -0.3660393953323364,
          -47.746788024902344,
          -44.25349426269531,
          24.327421188354492,
          0.20223715901374817,
          -35.13917922973633,
          -32.17222595214844,
          -3.52437424659729,
          -32.98686218261719,
          -7.458738803863525,
          -23.60296058654785,
          13.25683879852295,
          61.25288772583008,
          37.70842742919922,
          45.51453399658203,
          67.8721694946289,
          38.80546951293945,
          -36.88072967529297,
          27.1325626373291,
          61.42258834838867,
          21.032052993774414,
          -19.089895248413086,
          -3.3067233562469482,
          5.560384750366211,
          30.288503646850586,
          54.71196365356445,
          7.858392715454102,
          32.3173828125,
          -32.856529235839844,
          -41.88423156738281,
          -12.960606575012207,
          -21.67436981201172,
          -42.700469970703125,
          -9.41822338104248,
          -5.398491382598877,
          9.875314712524414,
          15.556150436401367,
          -11.386310577392578,
          47.897605895996094,
          -42.322731018066406,
          0.5394467115402222,
          -9.944509506225586,
          31.401226043701172,
          -12.021408081054688,
          62.167015075683594,
          -43.8605842590332,
          -23.916427612304688,
          32.5317268371582,
          -0.3500139117240906,
          57.75075912475586,
          57.40655517578125,
          13.82686710357666,
          -12.039091110229492,
          -53.69469451904297,
          22.863372802734375,
          61.049835205078125,
          -32.39701843261719,
          20.428192138671875,
          -24.18174171447754,
          -1.2597261667251587,
          37.90384292602539,
          -38.09634017944336,
          -34.1054801940918,
          -9.110164642333984,
          -1.1562730073928833,
          40.218135833740234,
          40.127166748046875,
          4.154346466064453,
          -32.97611999511719,
          6.182663440704346,
          31.836353302001953,
          -25.604616165161133,
          -17.34267807006836,
          27.84174156188965,
          14.578360557556152,
          29.399625778198242,
          -22.547452926635742,
          -3.612413167953491,
          29.014345169067383,
          19.20996856689453,
          7.899169921875,
          7.324831485748291,
          33.202945709228516,
          -33.82927322387695,
          11.69437313079834,
          31.534683227539062,
          46.49959182739258,
          -24.314861297607422,
          32.49509048461914,
          -7.403672695159912,
          -26.893585205078125,
          27.87149429321289,
          24.221088409423828,
          23.032297134399414,
          44.744815826416016,
          23.434978485107422,
          49.29325866699219,
          7.536919116973877,
          -17.842618942260742,
          -40.194828033447266,
          2.108157157897949,
          -27.769548416137695,
          40.89881896972656,
          21.163169860839844,
          -44.74711990356445,
          -3.6545193195343018,
          21.24364471435547,
          9.94526481628418,
          13.137537002563477,
          8.25340461730957,
          20.249629974365234,
          49.934234619140625,
          -3.9561126232147217,
          52.984619140625,
          -49.98858642578125,
          -10.318922996520996,
          -1.7117531299591064,
          28.82952117919922,
          38.23189163208008,
          21.369997024536133,
          0.6927143335342407,
          -19.783037185668945,
          -52.680641174316406,
          -56.507083892822266,
          61.704410552978516,
          43.34715270996094,
          -53.90298080444336,
          42.07072067260742,
          21.30086326599121,
          -16.34206199645996,
          -2.092478036880493,
          21.654495239257812,
          -30.45231819152832,
          31.911941528320312,
          -0.7653492093086243,
          -4.729169845581055,
          -31.755355834960938,
          -22.85539436340332,
          -23.238313674926758,
          -14.273028373718262,
          11.292919158935547,
          38.54106140136719,
          56.16130065917969,
          6.360156536102295,
          31.99010467529297,
          43.19607162475586,
          -32.719051361083984,
          -40.01734161376953,
          -9.072583198547363,
          -18.00495147705078,
          -17.312807083129883,
          14.988605499267578,
          36.85145568847656,
          54.87812805175781,
          -14.316875457763672,
          -41.16170120239258,
          2.2351417541503906,
          30.615676879882812,
          -0.8379094004631042,
          33.43563461303711,
          51.0000114440918,
          -18.96245002746582,
          -16.106557846069336,
          -14.4483003616333,
          -17.783449172973633,
          25.257827758789062,
          6.360764980316162,
          -44.1970329284668,
          29.68534278869629,
          6.1843132972717285,
          -9.236693382263184,
          18.85917091369629,
          24.85403823852539,
          12.649012565612793,
          19.268308639526367,
          31.76613998413086,
          -15.028263092041016,
          -25.646020889282227,
          38.7716064453125,
          -1.7224500179290771,
          -22.219741821289062,
          -5.265250205993652,
          -9.021724700927734,
          -51.250858306884766,
          38.31486511230469,
          10.484640121459961,
          -2.0792131423950195,
          -20.356277465820312,
          -10.55174732208252,
          -22.544273376464844,
          50.27256393432617,
          -24.529600143432617,
          52.49648666381836,
          -8.466178894042969,
          -9.560689926147461,
          -53.04278564453125,
          15.585164070129395,
          -10.248645782470703,
          -12.493200302124023,
          -49.29518508911133,
          23.169145584106445,
          42.88382339477539,
          6.566728115081787,
          -9.121030807495117,
          -62.41172409057617,
          8.930928230285645,
          20.94405174255371,
          27.89454460144043,
          -48.309654235839844,
          -9.735207557678223,
          -35.316314697265625,
          -32.521942138671875,
          -47.18810272216797,
          40.17393112182617,
          51.50313186645508,
          32.343666076660156,
          -34.01616287231445,
          -22.610559463500977,
          9.563872337341309,
          19.390399932861328,
          1.372605800628662,
          -20.77528190612793,
          5.100112438201904,
          32.31576919555664,
          31.021148681640625,
          -4.508166313171387,
          -12.049641609191895,
          -12.060561180114746,
          4.919759750366211,
          47.583839416503906,
          11.096768379211426,
          -42.61271286010742,
          -39.536312103271484,
          -36.75399398803711,
          -62.68379592895508,
          14.8038911819458,
          -5.89184045791626,
          42.81336975097656,
          15.018204689025879,
          8.088096618652344,
          47.149478912353516,
          2.170412063598633,
          10.695135116577148,
          24.37388038635254,
          -6.584287166595459,
          2.8867156505584717,
          39.08562469482422,
          1.7661563158035278,
          -35.108741760253906,
          32.19352722167969,
          -15.81641674041748,
          -1.4738996028900146,
          -29.24428367614746,
          40.619384765625,
          -26.117361068725586,
          29.260398864746094,
          -26.65894317626953,
          39.72584533691406,
          -34.290897369384766,
          -23.70250701904297,
          -24.384958267211914,
          13.553153991699219,
          29.490686416625977,
          42.05933380126953,
          -18.38039207458496,
          -22.066654205322266,
          -20.06586456298828,
          32.89792251586914,
          -31.196104049682617,
          26.07387351989746,
          40.801822662353516,
          45.936988830566406,
          9.327293395996094,
          36.00233840942383,
          29.788284301757812,
          -37.85346603393555,
          8.499120712280273,
          4.598313808441162,
          -19.504358291625977,
          -61.77249526977539,
          -6.2367844581604,
          17.31695556640625,
          -9.539728164672852,
          -0.7463030815124512,
          17.623214721679688,
          -25.121503829956055,
          26.060890197753906,
          21.220428466796875,
          4.934075832366943,
          12.670706748962402,
          50.21121597290039,
          12.486618041992188,
          -31.307790756225586,
          5.589661121368408,
          -50.70089340209961,
          2.503880739212036,
          -13.088541030883789,
          41.32058334350586,
          39.648746490478516,
          -49.7236328125,
          -20.641521453857422,
          36.519832611083984,
          51.80953598022461,
          37.78953170776367,
          26.863178253173828,
          -12.284721374511719,
          -25.18788719177246,
          11.14522933959961,
          61.142372131347656,
          37.90697479248047,
          19.59587287902832,
          11.30736255645752,
          -20.055761337280273,
          -26.397159576416016,
          7.819493293762207,
          -18.446630477905273,
          -4.360699653625488,
          32.26462936401367,
          33.515419006347656,
          24.539165496826172,
          -51.881996154785156,
          -22.763343811035156,
          -40.224605560302734,
          -7.699771404266357,
          -32.06604766845703,
          -34.2153434753418,
          51.88703918457031,
          -20.750947952270508,
          -52.265113830566406,
          13.078925132751465,
          16.63259506225586,
          -15.068794250488281,
          -14.788735389709473,
          -16.906702041625977,
          28.786434173583984
         ],
         "yaxis": "y"
        }
       ],
       "layout": {
        "height": 800,
        "legend": {
         "tracegroupgap": 0
        },
        "margin": {
         "t": 60
        },
        "template": {
         "data": {
          "bar": [
           {
            "error_x": {
             "color": "#2a3f5f"
            },
            "error_y": {
             "color": "#2a3f5f"
            },
            "marker": {
             "line": {
              "color": "#E5ECF6",
              "width": 0.5
             },
             "pattern": {
              "fillmode": "overlay",
              "size": 10,
              "solidity": 0.2
             }
            },
            "type": "bar"
           }
          ],
          "barpolar": [
           {
            "marker": {
             "line": {
              "color": "#E5ECF6",
              "width": 0.5
             },
             "pattern": {
              "fillmode": "overlay",
              "size": 10,
              "solidity": 0.2
             }
            },
            "type": "barpolar"
           }
          ],
          "carpet": [
           {
            "aaxis": {
             "endlinecolor": "#2a3f5f",
             "gridcolor": "white",
             "linecolor": "white",
             "minorgridcolor": "white",
             "startlinecolor": "#2a3f5f"
            },
            "baxis": {
             "endlinecolor": "#2a3f5f",
             "gridcolor": "white",
             "linecolor": "white",
             "minorgridcolor": "white",
             "startlinecolor": "#2a3f5f"
            },
            "type": "carpet"
           }
          ],
          "choropleth": [
           {
            "colorbar": {
             "outlinewidth": 0,
             "ticks": ""
            },
            "type": "choropleth"
           }
          ],
          "contour": [
           {
            "colorbar": {
             "outlinewidth": 0,
             "ticks": ""
            },
            "colorscale": [
             [
              0,
              "#0d0887"
             ],
             [
              0.1111111111111111,
              "#46039f"
             ],
             [
              0.2222222222222222,
              "#7201a8"
             ],
             [
              0.3333333333333333,
              "#9c179e"
             ],
             [
              0.4444444444444444,
              "#bd3786"
             ],
             [
              0.5555555555555556,
              "#d8576b"
             ],
             [
              0.6666666666666666,
              "#ed7953"
             ],
             [
              0.7777777777777778,
              "#fb9f3a"
             ],
             [
              0.8888888888888888,
              "#fdca26"
             ],
             [
              1,
              "#f0f921"
             ]
            ],
            "type": "contour"
           }
          ],
          "contourcarpet": [
           {
            "colorbar": {
             "outlinewidth": 0,
             "ticks": ""
            },
            "type": "contourcarpet"
           }
          ],
          "heatmap": [
           {
            "colorbar": {
             "outlinewidth": 0,
             "ticks": ""
            },
            "colorscale": [
             [
              0,
              "#0d0887"
             ],
             [
              0.1111111111111111,
              "#46039f"
             ],
             [
              0.2222222222222222,
              "#7201a8"
             ],
             [
              0.3333333333333333,
              "#9c179e"
             ],
             [
              0.4444444444444444,
              "#bd3786"
             ],
             [
              0.5555555555555556,
              "#d8576b"
             ],
             [
              0.6666666666666666,
              "#ed7953"
             ],
             [
              0.7777777777777778,
              "#fb9f3a"
             ],
             [
              0.8888888888888888,
              "#fdca26"
             ],
             [
              1,
              "#f0f921"
             ]
            ],
            "type": "heatmap"
           }
          ],
          "heatmapgl": [
           {
            "colorbar": {
             "outlinewidth": 0,
             "ticks": ""
            },
            "colorscale": [
             [
              0,
              "#0d0887"
             ],
             [
              0.1111111111111111,
              "#46039f"
             ],
             [
              0.2222222222222222,
              "#7201a8"
             ],
             [
              0.3333333333333333,
              "#9c179e"
             ],
             [
              0.4444444444444444,
              "#bd3786"
             ],
             [
              0.5555555555555556,
              "#d8576b"
             ],
             [
              0.6666666666666666,
              "#ed7953"
             ],
             [
              0.7777777777777778,
              "#fb9f3a"
             ],
             [
              0.8888888888888888,
              "#fdca26"
             ],
             [
              1,
              "#f0f921"
             ]
            ],
            "type": "heatmapgl"
           }
          ],
          "histogram": [
           {
            "marker": {
             "pattern": {
              "fillmode": "overlay",
              "size": 10,
              "solidity": 0.2
             }
            },
            "type": "histogram"
           }
          ],
          "histogram2d": [
           {
            "colorbar": {
             "outlinewidth": 0,
             "ticks": ""
            },
            "colorscale": [
             [
              0,
              "#0d0887"
             ],
             [
              0.1111111111111111,
              "#46039f"
             ],
             [
              0.2222222222222222,
              "#7201a8"
             ],
             [
              0.3333333333333333,
              "#9c179e"
             ],
             [
              0.4444444444444444,
              "#bd3786"
             ],
             [
              0.5555555555555556,
              "#d8576b"
             ],
             [
              0.6666666666666666,
              "#ed7953"
             ],
             [
              0.7777777777777778,
              "#fb9f3a"
             ],
             [
              0.8888888888888888,
              "#fdca26"
             ],
             [
              1,
              "#f0f921"
             ]
            ],
            "type": "histogram2d"
           }
          ],
          "histogram2dcontour": [
           {
            "colorbar": {
             "outlinewidth": 0,
             "ticks": ""
            },
            "colorscale": [
             [
              0,
              "#0d0887"
             ],
             [
              0.1111111111111111,
              "#46039f"
             ],
             [
              0.2222222222222222,
              "#7201a8"
             ],
             [
              0.3333333333333333,
              "#9c179e"
             ],
             [
              0.4444444444444444,
              "#bd3786"
             ],
             [
              0.5555555555555556,
              "#d8576b"
             ],
             [
              0.6666666666666666,
              "#ed7953"
             ],
             [
              0.7777777777777778,
              "#fb9f3a"
             ],
             [
              0.8888888888888888,
              "#fdca26"
             ],
             [
              1,
              "#f0f921"
             ]
            ],
            "type": "histogram2dcontour"
           }
          ],
          "mesh3d": [
           {
            "colorbar": {
             "outlinewidth": 0,
             "ticks": ""
            },
            "type": "mesh3d"
           }
          ],
          "parcoords": [
           {
            "line": {
             "colorbar": {
              "outlinewidth": 0,
              "ticks": ""
             }
            },
            "type": "parcoords"
           }
          ],
          "pie": [
           {
            "automargin": true,
            "type": "pie"
           }
          ],
          "scatter": [
           {
            "fillpattern": {
             "fillmode": "overlay",
             "size": 10,
             "solidity": 0.2
            },
            "type": "scatter"
           }
          ],
          "scatter3d": [
           {
            "line": {
             "colorbar": {
              "outlinewidth": 0,
              "ticks": ""
             }
            },
            "marker": {
             "colorbar": {
              "outlinewidth": 0,
              "ticks": ""
             }
            },
            "type": "scatter3d"
           }
          ],
          "scattercarpet": [
           {
            "marker": {
             "colorbar": {
              "outlinewidth": 0,
              "ticks": ""
             }
            },
            "type": "scattercarpet"
           }
          ],
          "scattergeo": [
           {
            "marker": {
             "colorbar": {
              "outlinewidth": 0,
              "ticks": ""
             }
            },
            "type": "scattergeo"
           }
          ],
          "scattergl": [
           {
            "marker": {
             "colorbar": {
              "outlinewidth": 0,
              "ticks": ""
             }
            },
            "type": "scattergl"
           }
          ],
          "scattermapbox": [
           {
            "marker": {
             "colorbar": {
              "outlinewidth": 0,
              "ticks": ""
             }
            },
            "type": "scattermapbox"
           }
          ],
          "scatterpolar": [
           {
            "marker": {
             "colorbar": {
              "outlinewidth": 0,
              "ticks": ""
             }
            },
            "type": "scatterpolar"
           }
          ],
          "scatterpolargl": [
           {
            "marker": {
             "colorbar": {
              "outlinewidth": 0,
              "ticks": ""
             }
            },
            "type": "scatterpolargl"
           }
          ],
          "scatterternary": [
           {
            "marker": {
             "colorbar": {
              "outlinewidth": 0,
              "ticks": ""
             }
            },
            "type": "scatterternary"
           }
          ],
          "surface": [
           {
            "colorbar": {
             "outlinewidth": 0,
             "ticks": ""
            },
            "colorscale": [
             [
              0,
              "#0d0887"
             ],
             [
              0.1111111111111111,
              "#46039f"
             ],
             [
              0.2222222222222222,
              "#7201a8"
             ],
             [
              0.3333333333333333,
              "#9c179e"
             ],
             [
              0.4444444444444444,
              "#bd3786"
             ],
             [
              0.5555555555555556,
              "#d8576b"
             ],
             [
              0.6666666666666666,
              "#ed7953"
             ],
             [
              0.7777777777777778,
              "#fb9f3a"
             ],
             [
              0.8888888888888888,
              "#fdca26"
             ],
             [
              1,
              "#f0f921"
             ]
            ],
            "type": "surface"
           }
          ],
          "table": [
           {
            "cells": {
             "fill": {
              "color": "#EBF0F8"
             },
             "line": {
              "color": "white"
             }
            },
            "header": {
             "fill": {
              "color": "#C8D4E3"
             },
             "line": {
              "color": "white"
             }
            },
            "type": "table"
           }
          ]
         },
         "layout": {
          "annotationdefaults": {
           "arrowcolor": "#2a3f5f",
           "arrowhead": 0,
           "arrowwidth": 1
          },
          "autotypenumbers": "strict",
          "coloraxis": {
           "colorbar": {
            "outlinewidth": 0,
            "ticks": ""
           }
          },
          "colorscale": {
           "diverging": [
            [
             0,
             "#8e0152"
            ],
            [
             0.1,
             "#c51b7d"
            ],
            [
             0.2,
             "#de77ae"
            ],
            [
             0.3,
             "#f1b6da"
            ],
            [
             0.4,
             "#fde0ef"
            ],
            [
             0.5,
             "#f7f7f7"
            ],
            [
             0.6,
             "#e6f5d0"
            ],
            [
             0.7,
             "#b8e186"
            ],
            [
             0.8,
             "#7fbc41"
            ],
            [
             0.9,
             "#4d9221"
            ],
            [
             1,
             "#276419"
            ]
           ],
           "sequential": [
            [
             0,
             "#0d0887"
            ],
            [
             0.1111111111111111,
             "#46039f"
            ],
            [
             0.2222222222222222,
             "#7201a8"
            ],
            [
             0.3333333333333333,
             "#9c179e"
            ],
            [
             0.4444444444444444,
             "#bd3786"
            ],
            [
             0.5555555555555556,
             "#d8576b"
            ],
            [
             0.6666666666666666,
             "#ed7953"
            ],
            [
             0.7777777777777778,
             "#fb9f3a"
            ],
            [
             0.8888888888888888,
             "#fdca26"
            ],
            [
             1,
             "#f0f921"
            ]
           ],
           "sequentialminus": [
            [
             0,
             "#0d0887"
            ],
            [
             0.1111111111111111,
             "#46039f"
            ],
            [
             0.2222222222222222,
             "#7201a8"
            ],
            [
             0.3333333333333333,
             "#9c179e"
            ],
            [
             0.4444444444444444,
             "#bd3786"
            ],
            [
             0.5555555555555556,
             "#d8576b"
            ],
            [
             0.6666666666666666,
             "#ed7953"
            ],
            [
             0.7777777777777778,
             "#fb9f3a"
            ],
            [
             0.8888888888888888,
             "#fdca26"
            ],
            [
             1,
             "#f0f921"
            ]
           ]
          },
          "colorway": [
           "#636efa",
           "#EF553B",
           "#00cc96",
           "#ab63fa",
           "#FFA15A",
           "#19d3f3",
           "#FF6692",
           "#B6E880",
           "#FF97FF",
           "#FECB52"
          ],
          "font": {
           "color": "#2a3f5f"
          },
          "geo": {
           "bgcolor": "white",
           "lakecolor": "white",
           "landcolor": "#E5ECF6",
           "showlakes": true,
           "showland": true,
           "subunitcolor": "white"
          },
          "hoverlabel": {
           "align": "left"
          },
          "hovermode": "closest",
          "mapbox": {
           "style": "light"
          },
          "paper_bgcolor": "white",
          "plot_bgcolor": "#E5ECF6",
          "polar": {
           "angularaxis": {
            "gridcolor": "white",
            "linecolor": "white",
            "ticks": ""
           },
           "bgcolor": "#E5ECF6",
           "radialaxis": {
            "gridcolor": "white",
            "linecolor": "white",
            "ticks": ""
           }
          },
          "scene": {
           "xaxis": {
            "backgroundcolor": "#E5ECF6",
            "gridcolor": "white",
            "gridwidth": 2,
            "linecolor": "white",
            "showbackground": true,
            "ticks": "",
            "zerolinecolor": "white"
           },
           "yaxis": {
            "backgroundcolor": "#E5ECF6",
            "gridcolor": "white",
            "gridwidth": 2,
            "linecolor": "white",
            "showbackground": true,
            "ticks": "",
            "zerolinecolor": "white"
           },
           "zaxis": {
            "backgroundcolor": "#E5ECF6",
            "gridcolor": "white",
            "gridwidth": 2,
            "linecolor": "white",
            "showbackground": true,
            "ticks": "",
            "zerolinecolor": "white"
           }
          },
          "shapedefaults": {
           "line": {
            "color": "#2a3f5f"
           }
          },
          "ternary": {
           "aaxis": {
            "gridcolor": "white",
            "linecolor": "white",
            "ticks": ""
           },
           "baxis": {
            "gridcolor": "white",
            "linecolor": "white",
            "ticks": ""
           },
           "bgcolor": "#E5ECF6",
           "caxis": {
            "gridcolor": "white",
            "linecolor": "white",
            "ticks": ""
           }
          },
          "title": {
           "x": 0.05
          },
          "xaxis": {
           "automargin": true,
           "gridcolor": "white",
           "linecolor": "white",
           "ticks": "",
           "title": {
            "standoff": 15
           },
           "zerolinecolor": "white",
           "zerolinewidth": 2
          },
          "yaxis": {
           "automargin": true,
           "gridcolor": "white",
           "linecolor": "white",
           "ticks": "",
           "title": {
            "standoff": 15
           },
           "zerolinecolor": "white",
           "zerolinewidth": 2
          }
         }
        },
        "width": 800,
        "xaxis": {
         "anchor": "y",
         "autorange": true,
         "domain": [
          0,
          1
         ],
         "range": [
          -72.07184065866596,
          70.15790404367573
         ],
         "title": {
          "text": "0"
         },
         "type": "linear"
        },
        "yaxis": {
         "anchor": "x",
         "autorange": true,
         "domain": [
          0,
          1
         ],
         "range": [
          -76.3021770779739,
          79.30936396762233
         ],
         "title": {
          "text": "1"
         },
         "type": "linear"
        }
       }
      },
      "image/png": "[encoded data removed]",
      "text/html": [
       "<div>                            <div id=\"6495ddbf-cb71-4eb1-ac36-b23638d3f88f\" class=\"plotly-graph-div\" style=\"height:800px; width:800px;\"></div>            <script type=\"text/javascript\">                require([\"plotly\"], function(Plotly) {                    window.PLOTLYENV=window.PLOTLYENV || {};                                    if (document.getElementById(\"6495ddbf-cb71-4eb1-ac36-b23638d3f88f\")) {                    Plotly.newPlot(                        \"6495ddbf-cb71-4eb1-ac36-b23638d3f88f\",                        [{\"hovertemplate\":\"<b>%{hovertext}</b><br><br>0=%{x}<br>1=%{y}<extra></extra>\",\"hovertext\":[\"\\u00e3\",\"\\u00e3\\u00be\\u00e3\",\"t\",\"w\\u00e3\",\"on\",\"s\",\"he\",\"e\",\"r\",\"him\",\"a\",\"\\u00e3\\u00bea\",\"se\",\"ic\",\"to\",\"m\\u00e3\",\"h\\u00e3\",\"\\u00e3\\u00bee\",\"f\\u00e3\",\"swa\",\"an\",\"s\\u00e3\",\"his\",\"g\",\"o\\u00e3\",\"mid\",\"fter\",\"gu\\u00e3\",\"ofer\",\"re\",\"wi\\u00e3\",\"n\\u00e3\",\"d\\u00e3\",\"under\",\"hie\",\"\\u00e3\\u00beonne\",\"in\",\"ge\",\"si\\u00e3\",\"\\u00e3\\u00beone\",\"me\",\"m\",\"sy\\u00e3\",\"nu\",\"hine\",\"\\u00e3\\u00beu\",\"for\",\"l\\u00e3\",\"um\",\"geata\",\"b\\u00e3\",\"l\",\"fela\",\"wear\\u00e3\",\"fde\",\"st\",\"wolde\",\"hro\\u00e3\",\"no\",\"c\",\"eft\",\"r\\u00e3\",\"of\",\"hw\\u00e3\",\"sceal\",\"bearn\",\"is\",\"sunu\",\"am\",\"god\",\"ma\\u00e3\",\"hit\",\"hyne\",\"d\",\"helm\",\"for\\u00e3\",\"hea\\u00e3\",\"ste\",\"beowulf\",\"cyning\",\"oft\",\"\\u00e3\\u00beeah\",\"hyrde\",\"we\",\"min\",\"u\",\"swylce\",\"ron\",\"\\u00e3\\u00beam\",\"leode\",\"sweord\",\"manna\",\"gar\",\"dea\\u00e3\",\"eor\\u00e3\",\"meahte\",\"nig\",\"heold\",\"la\\u00e3\",\"gif\",\"scyldinga\",\"be\",\"\\u00e3\\u00beara\",\"bi\\u00e3\",\"wr\\u00e3\",\"y\\u00e3\",\"eal\",\"leodum\",\"rum\",\"\\u00e3\\u00beeoden\",\"gewat\",\"eorla\",\"ni\\u00e3\",\"fr\\u00e3\",\"sum\",\"er\",\"dum\",\"gefr\\u00e3\",\"gumena\",\"scolde\",\"wide\",\"ymb\",\"heo\",\"heard\",\"wordum\",\"le\\u00e3\",\"grendel\",\"swi\\u00e3\",\"secg\",\"der\",\"hre\\u00e3\",\"fre\",\"hord\",\"gen\",\"sele\",\"com\",\"ende\",\"sona\",\"eall\",\"\\u00e3\\u00beurh\",\"o\",\"so\\u00e3\",\"ra\",\"as\",\"mec\",\"cwom\",\"ma\\u00e3\\u00beelode\",\"frean\",\"healfdenes\",\"grendles\",\"mine\",\"ges\\u00e3\",\"le\",\"onne\",\"stod\",\"hu\",\"man\",\"mihte\",\"g\\u00e3\",\"feorh\",\"lice\",\"cr\\u00e3\",\"hwilum\",\"eald\",\"inne\",\"moste\",\"ealle\",\"sio\",\"weard\",\"\\u00e3\\u00beenden\",\"agl\\u00e3\",\"wine\",\"men\",\"weor\\u00e3\",\"golde\",\"feorran\",\"geseah\",\"eorl\",\"lange\",\"gemunde\",\"gefremede\",\"leoda\",\"ut\",\"wyrm\",\"sceolde\",\"innan\",\"mon\",\"secgan\",\"cu\\u00e3\",\"het\",\"dryhten\",\"secean\",\"sealde\",\"spr\\u00e3\",\"leod\",\"rice\",\"es\",\"wealle\",\"seo\",\"one\",\"gode\",\"le\\u00e3\\u00bea\",\"\\u00e3\\u00beanon\",\"gyt\",\"hwile\",\"niht\",\"feond\",\"fah\",\"wiht\",\"healdan\",\"aldre\",\"hond\",\"ham\",\"feor\",\"cce\",\"geong\",\"gold\",\"ce\",\"gehw\\u00e3\",\"neah\",\"selest\",\"dugu\\u00e3\",\"wel\",\"sy\\u00e3\\u00be\\u00e3\",\"higelaces\",\"wyrd\",\"word\",\"hio\",\"wille\",\"gel\\u00e3\",\"geaf\",\"monig\",\"maga\",\"or\",\"gares\",\"\\u00e3\\u00bey\",\"ges\",\"hleo\",\"frod\",\"\\u00e3\\u00bean\",\"byrnan\",\"her\",\"fram\",\"ana\",\"gn\",\"fornam\",\"ghw\\u00e3\",\"us\",\"cw\\u00e3\",\"genes\",\"searwum\",\"hy\",\"ter\",\"hean\",\"up\",\"rne\",\"si\\u00e3\\u00be\\u00e3\",\"wedera\",\"mod\",\"fdon\",\"nalles\",\"git\",\"eode\",\"geseon\",\"lafe\",\"elne\",\"o\\u00e3\\u00be\\u00e3\\u00be\\u00e3\",\"ma\",\"geweald\",\"micel\",\"ecg\",\"wit\",\"hilde\",\"meahton\",\"swylc\",\"hafelan\",\"gl\\u00e3\",\"sw\\u00e3\",\"ealdre\",\"wig\",\"cynnes\",\"dyde\",\"rinc\",\"y\",\"dom\",\"geond\",\"minne\",\"minum\",\"sylfes\",\"hafa\\u00e3\",\"heorote\",\"gebad\",\"gearwe\",\"beran\",\"bad\",\"ca\",\"hwearf\",\"hyt\",\"frecne\",\"goda\",\"beagas\",\"forgeaf\",\"sohte\",\"hat\",\"flet\",\"huru\",\"ecgum\",\"hi\",\"elode\",\"healle\",\"gesealde\",\"wen\",\"don\",\"folces\",\"o\\u00e3\\u00be\\u00e3\",\"wihte\",\"\\u00e3\\u00beeling\",\"gretan\",\"modor\",\"weoll\",\"willan\",\"hand\",\"fe\\u00e3\",\"ghwylc\",\"hire\",\"lan\",\"\\u00e3\\u00beegn\",\"mode\",\"da\",\"denum\",\"wedra\",\"\\u00e3\\u00beearf\",\"nealles\",\"hyra\",\"findan\",\"metod\",\"guman\",\"e\\u00e3\",\"iren\",\"\\u00e3\\u00bein\",\"feore\",\"weg\",\"eallum\",\"dome\",\"ran\",\"higelac\",\"hearda\",\"leofne\",\"ellen\",\"can\",\"ongan\",\"gehwylcum\",\"gde\",\"efne\",\"hr\\u00e3\",\"cwen\",\"ft\",\"handa\",\"te\",\"gare\",\"ful\",\"mas\",\"o\\u00e3\\u00beer\",\"stan\",\"br\\u00e3\",\"deniga\",\"sefa\",\"atol\",\"dena\",\"heah\",\"frofre\",\"hyre\",\"heht\",\"tela\",\"lyt\",\"gem\\u00e3\",\"de\",\"micle\",\"byre\",\"yrre\",\"moston\",\"nolde\",\"sceall\",\"leofa\",\"ferh\\u00e3\",\"modes\",\"gefeng\",\"wintra\",\"fte\",\"biowulf\",\"mannes\",\"bearm\",\"\\u00e3\\u00beearfe\",\"wolcnum\",\"folc\",\"worn\",\"leof\",\"habban\",\"earfo\\u00e3\",\"hrof\",\"weold\",\"blode\",\"du\",\"bbe\",\"dohtor\",\"lif\",\"grim\",\"gesi\\u00e3\",\"gr\\u00e3\",\"tg\\u00e3\",\"dere\",\"sinc\",\"eard\",\"lifes\",\"sund\",\"suna\",\"godne\",\"grette\",\"gemyndig\",\"beowulfe\",\"guma\",\"la\",\"rest\",\"heap\",\"drihten\",\"lde\",\"wudu\",\"li\\u00e3\",\"land\",\"gesawon\",\"side\",\"gew\\u00e3\",\"flod\",\"onfand\",\"ecg\\u00e3\\u00beeowes\",\"cu\\u00e3\\u00bee\",\"ecg\\u00e3\",\"longe\",\"onfeng\",\"holm\",\"lean\",\"geongum\",\"buton\",\"gewr\\u00e3\",\"cynne\",\"hl\\u00e3\",\"sweg\",\"foldan\",\"wynne\",\"anne\",\"gearo\",\"unc\",\"secan\",\"lum\",\"nigne\",\"fus\",\"godes\",\"gesyne\",\"sweorde\",\"mihtig\",\"helpe\",\"getw\\u00e3\",\"aras\",\"ealde\",\"gesohte\",\"hild\",\"leng\",\"wealdan\",\"cyn\",\"feran\",\"from\",\"selestan\",\"bl\\u00e3\",\"anum\",\"led\",\"gebolgen\",\"hordweard\",\"since\",\"geb\\u00e3\",\"gen\\u00e3\",\"\\u00e3\\u00beec\",\"ara\",\"snude\",\"swealt\",\"horde\",\"sceawian\",\"gef\\u00e3\",\"\\u00e3\\u00beonan\",\"eaxle\",\"nan\",\"folce\",\"nige\",\"somod\",\"hra\\u00e3\\u00bee\",\"sl\\u00e3\",\"\\u00e3\\u00beegna\",\"manig\",\"seon\",\"maran\",\"wiglaf\",\"tb\\u00e3\",\"twe\",\"ded\",\"sande\",\"beorge\",\"gebr\\u00e3\",\"pnum\",\"sloh\",\"dryhtne\",\"wean\",\"waldend\",\"wisse\",\"tte\",\"scoldon\",\"mor\\u00e3\",\"\\u00e3\\u00beon\",\"swy\\u00e3\",\"wiste\",\"hra\\u00e3\",\"twa\",\"eor\\u00e3\\u00bean\",\"pen\",\"samod\",\"hearde\",\"byrne\",\"str\\u00e3\",\"gomela\",\"hte\",\"hildedeor\",\"dracan\",\"eow\",\"gyf\",\"sefan\",\"wene\",\"wesan\",\"con\",\"monegum\",\"g\\u00e3\\u00bea\",\"gewyrcean\",\"scyld\",\"drugon\",\"ht\",\"ahte\",\"dydon\",\"\\u00e3\\u00berage\",\"beaga\",\"selfa\",\"wihstanes\",\"aldor\",\"wrecan\",\"rices\",\"mere\",\"gegongen\",\"res\",\"tealde\",\"wendon\",\"hrusan\",\"eorlum\",\"onfunde\",\"gongan\",\"anes\",\"denigea\",\"cyst\",\"togeanes\",\"ellenweorc\",\"gebidan\",\"ides\",\"rof\",\"modig\",\"self\",\"secge\",\"bro\\u00e3\",\"\\u00e3\\u00beer\",\"feng\",\"leoht\",\"wunde\",\"grunde\",\"gecw\\u00e3\",\"eah\",\"cyninges\",\"draca\",\"ton\",\"brucan\",\"cean\",\"ongen\\u00e3\",\"wyrmes\",\"beorges\",\"eowes\",\"hygelac\",\"ymbe\",\"mum\",\"eorlscipe\",\"hwate\",\"ys\",\"wat\",\"cempa\",\"sare\",\"bi\",\"goldwine\",\"leo\\u00e3\",\"ecge\",\"wigend\",\"a\\u00e3\",\"leofes\",\"nefne\",\"bewunden\",\"beorn\",\"gang\",\"ealles\",\"hafast\",\"worolde\",\"lungre\",\"lond\",\"beowulfes\",\"wiges\",\"mundum\",\"geatolic\",\"beorhte\",\"bat\",\"ftig\",\"cempan\",\"geatum\",\"sel\",\"heorot\",\"hyn\\u00e3\",\"rihte\",\"fyr\",\"fyrst\",\"gewin\",\"rgod\",\"neosan\",\"faran\",\"\\u00e3\\u00beelinga\",\"fand\",\"forgeald\",\"fen\",\"haten\",\"helle\",\"fremman\",\"fyrene\",\"eac\",\"sang\",\"hearpan\",\"symle\",\"geogo\\u00e3\",\"weras\",\"syndon\",\"bidan\",\"werede\",\"geweorc\",\"laf\",\"pna\",\"eotena\",\"reced\",\"lic\",\"\\u00e3\\u00bery\\u00e3\",\"madmas\",\"mundgripe\",\"ge\\u00e3\",\"wile\",\"\\u00e3\\u00beinum\",\"fur\\u00e3\",\"tsomne\",\"mannan\",\"\\u00e3\\u00beis\",\"\\u00e3\\u00beence\\u00e3\",\"worda\",\"hwylc\",\"wes\",\"hlaford\",\"heor\\u00e3\",\"gecy\\u00e3\",\"witan\",\"ad\",\"geweor\\u00e3\",\"nis\",\"eower\",\"dan\",\"ssas\"],\"legendgroup\":\"\",\"marker\":{\"color\":\"#636efa\",\"symbol\":\"circle\"},\"mode\":\"markers\",\"name\":\"\",\"orientation\":\"v\",\"showlegend\":false,\"x\":[-46.99432373046875,-35.6495361328125,-30.05400848388672,-47.08452224731445,13.15075969696045,-43.6181640625,-15.314178466796875,-20.575958251953125,0.6298062205314636,-29.105838775634766,17.07598114013672,39.057430267333984,-23.6434268951416,-21.962493896484375,26.071693420410156,-3.5915024280548096,-27.478727340698242,-23.75848960876465,-36.60973358154297,-50.755916595458984,-43.59992980957031,-42.05158233642578,23.51142692565918,7.8939080238342285,-35.24628829956055,15.410635948181152,5.064310550689697,24.150218963623047,-40.21245193481445,10.227553367614746,-58.68523406982422,-40.7974967956543,-54.855918884277344,4.323085308074951,-27.168010711669922,62.21303939819336,-28.794965744018555,22.86607551574707,-42.44316864013672,0.10146923363208771,-22.954809188842773,-5.497631549835205,-44.002967834472656,35.69318389892578,-16.99819564819336,-62.74985122680664,9.330402374267578,5.595009803771973,-3.9776618480682373,19.9304141998291,26.253129959106445,42.93707275390625,-21.49102210998535,-63.5842170715332,40.640296936035156,47.867462158203125,-12.268474578857422,29.577360153198242,6.367956638336182,38.83412551879883,35.3121452331543,-19.934457778930664,46.456180572509766,10.292218208312988,3.747655153274536,-34.4243049621582,-21.580963134765625,-22.278867721557617,-11.50009822845459,-31.585859298706055,-7.581877708435059,-27.57537269592285,-1.901319980621338,25.043607711791992,47.677371978759766,-6.441356182098389,16.151044845581055,-15.656295776367188,-42.29076385498047,41.42475509643555,3.870075225830078,-21.240737915039062,-16.91077995300293,-14.162090301513672,-13.153768539428711,-39.03752899169922,7.320855617523193,31.823028564453125,17.4747314453125,-13.634130477905273,36.15641784667969,-51.34175109863281,29.86267852783203,59.0933837890625,24.15196990966797,8.168049812316895,-45.62173080444336,15.480546951293945,-45.85737991333008,-55.3007698059082,-12.63154411315918,-29.9426212310791,0.28583693504333496,-0.4509957432746887,22.236677169799805,-32.8498649597168,-33.711055755615234,57.06344223022461,-36.45148849487305,42.05926513671875,26.029977798461914,60.49604034423828,-21.083993911743164,1.561201810836792,12.694705963134766,-35.40623092651367,-54.27091979980469,23.570518493652344,-48.2170524597168,-13.101487159729004,14.157746315002441,-40.86537551879883,2.7433533668518066,30.42144012451172,-53.437015533447266,-13.651556015014648,-61.785926818847656,22.332937240600586,0.31924498081207275,-37.12060546875,15.579435348510742,-37.84510803222656,15.969526290893555,-0.03856298327445984,14.772378921508789,9.868849754333496,5.135519504547119,44.88201904296875,-34.68781661987305,-50.55402755737305,-55.038333892822266,-25.903337478637695,-3.5505316257476807,-18.139917373657227,-19.671960830688477,13.78802490234375,-41.718292236328125,-53.72572708129883,-22.339872360229492,36.272796630859375,22.09343719482422,16.545419692993164,35.913204193115234,-28.317312240600586,45.555145263671875,15.05455493927002,-51.02975082397461,-19.427141189575195,27.976099014282227,35.14749526977539,34.986724853515625,-7.8559064865112305,27.355789184570312,12.752665519714355,37.4422492980957,1.8136850595474243,56.59821701049805,30.973905563354492,17.703784942626953,26.086177825927734,-57.87177658081055,-20.316606521606445,-18.507627487182617,1.8489617109298706,59.62833023071289,26.490001678466797,-8.155804634094238,-3.778331756591797,-34.47667694091797,29.93027687072754,-53.95048904418945,58.66036605834961,45.28598403930664,10.74024772644043,0.9687070846557617,34.057437896728516,9.222838401794434,-23.17447853088379,-12.31230640411377,47.16817855834961,-15.456171989440918,33.835289001464844,-29.667770385742188,-43.333011627197266,46.13045120239258,-21.424570083618164,-5.5087690353393555,-7.168006896972656,-15.509570121765137,10.152183532714844,-54.824989318847656,-22.07660675048828,10.389460563659668,58.74489974975586,22.228124618530273,35.356544494628906,-17.435787200927734,-4.3531694412231445,8.822396278381348,-62.536476135253906,-39.78202438354492,40.42645263671875,10.143117904663086,-23.83974838256836,1.0373975038528442,51.72892379760742,23.553722381591797,-44.40157699584961,-35.58208465576172,49.983863830566406,-59.267333984375,60.44023513793945,7.039600372314453,10.253705024719238,30.069292068481445,-35.95871353149414,29.635725021362305,-3.69515061378479,-5.27998161315918,-17.241270065307617,-5.027754306793213,34.248802185058594,-4.281657695770264,50.59874725341797,29.050769805908203,7.469754695892334,52.71222686767578,60.560707092285156,17.60175323486328,-39.8572883605957,47.909645080566406,39.59347915649414,10.533309936523438,-17.076841354370117,23.69407844543457,58.08222961425781,46.00204086303711,-14.10537338256836,48.09727478027344,-61.602481842041016,-9.010663986206055,37.125404357910156,-40.88862609863281,16.852752685546875,38.08551025390625,41.54195785522461,-29.99732208251953,55.6241340637207,17.729000091552734,-24.2962703704834,41.746315002441406,-37.507408142089844,29.56435775756836,61.14777755737305,18.159399032592773,-1.1433944702148438,43.89468002319336,24.33013343811035,-30.483951568603516,-40.1500244140625,12.908658981323242,-48.78728485107422,-0.686001718044281,3.9969375133514404,-20.66444969177246,48.04282760620117,-59.70612335205078,-15.885757446289062,-12.024179458618164,-13.017434120178223,-22.07689094543457,-4.756394863128662,35.13438034057617,44.164955139160156,-33.67603302001953,26.061643600463867,-23.70279312133789,-32.21553421020508,-23.994802474975586,-57.9034309387207,-59.90913009643555,-0.442259281873703,8.093191146850586,46.335350036621094,-30.30046272277832,-58.398773193359375,30.140857696533203,42.40331268310547,13.420024871826172,21.333105087280273,-14.317085266113281,21.612592697143555,14.088167190551758,7.711879730224609,-3.0938310623168945,-4.0380167961120605,34.77565002441406,34.861873626708984,-8.059988021850586,40.48915481567383,59.71014404296875,-15.710124969482422,-49.21549987792969,-17.66944694519043,-64.1269760131836,0.9530971050262451,1.2293717861175537,-12.283400535583496,31.38558006286621,32.85030746459961,-33.98125457763672,21.006805419921875,13.135103225708008,-2.36140775680542,43.96009063720703,34.75834655761719,11.589099884033203,24.223697662353516,-54.64128875732422,27.31658363342285,40.425498962402344,-52.98182678222656,-6.8327507972717285,18.171241760253906,12.250621795654297,-37.576053619384766,9.224407196044922,-17.1661376953125,2.8328795433044434,-51.35150909423828,-37.835269927978516,3.4865403175354004,27.79167366027832,-3.1479074954986572,-1.5577397346496582,0.06773640215396881,0.4679235517978668,19.484600067138672,-6.77849006652832,-33.2515754699707,33.02069091796875,30.1254825592041,46.28227996826172,-29.13551902770996,-53.568424224853516,42.120670318603516,-9.144844055175781,34.70351791381836,35.68305587768555,28.594900131225586,8.716475486755371,-5.741697788238525,-9.89782428741455,-5.161368370056152,38.94834899902344,-44.473087310791016,-49.24041748046875,-58.723731994628906,-34.64799118041992,14.560029983520508,-33.47623825073242,-22.879961013793945,45.819671630859375,-40.39638137817383,37.50617980957031,4.905975818634033,-41.720680236816406,-29.125951766967773,-2.9174039363861084,12.015059471130371,59.66972351074219,-38.46964645385742,41.38017654418945,-40.21607971191406,22.629301071166992,-39.24883270263672,38.71935272216797,37.244873046875,-7.134404182434082,-41.307926177978516,-8.85232925415039,1.2365891933441162,-5.20634126663208,4.136125564575195,25.73941993713379,27.310302734375,-12.095162391662598,9.341008186340332,32.56956100463867,-4.0640716552734375,4.661459922790527,-3.800145149230957,47.97842788696289,-41.48711013793945,-12.741000175476074,35.300994873046875,29.367347717285156,-16.56983184814453,42.31900405883789,-29.727277755737305,-29.399288177490234,58.71354675292969,30.206932067871094,10.99177074432373,-40.01381301879883,45.738624572753906,41.73396301269531,26.3172607421875,44.191200256347656,23.729089736938477,-31.898412704467773,-24.802459716796875,27.51727867126465,58.65224838256836,-32.699092864990234,10.804573059082031,15.83760929107666,-46.05839538574219,8.959331512451172,-38.8997802734375,-33.195777893066406,48.79667663574219,-31.561115264892578,52.10355758666992,-42.09058380126953,-35.435882568359375,-15.491273880004883,21.0185604095459,3.1503541469573975,7.438167572021484,-14.788663864135742,-45.118064880371094,-18.132444381713867,21.45772361755371,-62.08786392211914,10.479373931884766,21.860559463500977,-2.8241398334503174,24.666996002197266,12.675535202026367,15.655477523803711,16.183990478515625,-20.01862144470215,54.267784118652344,24.42169952392578,36.7009391784668,29.86151885986328,14.461939811706543,5.075387477874756,-60.14830017089844,-53.34071350097656,-32.5810432434082,39.099945068359375,-39.26322937011719,-7.8856635093688965,-63.462162017822266,9.894893646240234,15.562702178955078,20.987058639526367,3.469520092010498,-25.196033477783203,0.07632225751876831,26.64075469970703,-19.97579002380371,-20.950273513793945,13.526047706604004,5.1701130867004395,48.8296012878418,-2.411146640777588,12.834696769714355,-47.00743865966797,-21.33033561706543,60.81245040893555,8.350302696228027,-6.386455535888672,38.684268951416016,25.72604751586914,31.509267807006836,37.496158599853516,-32.00651931762695,5.258983612060547,11.050868034362793,38.91393280029297,12.938309669494629,12.919357299804688,59.82384490966797,33.17334747314453,26.15456199645996,-28.43039894104004,-7.634382247924805,44.996620178222656,0.7655282020568848,-3.410099744796753,15.904840469360352,-3.8306868076324463,28.532123565673828,-29.126405715942383,8.842150688171387,-2.5730690956115723,-29.54309844970703,-28.7918701171875,23.926183700561523,-11.600793838500977,55.777137756347656,24.861528396606445,-50.63634490966797,-28.863733291625977,37.79833221435547,54.189292907714844,2.2659173011779785,-28.677734375,35.81038284301758,-29.63945770263672,9.170806884765625,5.7937541007995605,-2.188319206237793,38.180057525634766,-25.047828674316406,22.667198181152344,8.947824478149414,-21.82076072692871,-59.41429138183594,-59.51206970214844,-53.85567092895508,38.24412155151367,-38.797882080078125,29.658740997314453,-29.167116165161133,-37.06410217285156,12.79107666015625,-27.709796905517578,24.459440231323242,-12.401654243469238,-34.37971878051758,32.303585052490234,-16.047149658203125,21.117477416992188,-2.9760372638702393,-6.908931732177734,25.913692474365234,25.633399963378906,9.5294189453125,33.119991302490234,26.4005126953125,-6.972388744354248,-32.773067474365234,33.59096908569336,2.912715435028076,-4.023355007171631,54.769893646240234,-22.4017276763916,-22.257415771484375,-10.201870918273926,57.92605972290039,20.4888973236084,-1.5760923624038696,43.878822326660156,55.435245513916016,48.638511657714844,-58.82816696166992,-52.58346939086914,50.304351806640625,-34.336727142333984,-16.37753677368164,38.68263244628906,22.656808853149414,15.562772750854492,-38.686397552490234,-4.447237968444824,28.28322982788086,12.943490028381348,-31.130435943603516,2.3023698329925537,-56.71881866455078,-33.50810623168945,-12.58561897277832,15.760973930358887,-15.91731071472168,15.108159065246582,22.293718338012695,-13.092368125915527,21.383089065551758,-11.725502014160156,-14.99917984008789,-57.96699523925781,-60.109458923339844,10.869522094726562,-4.852066993713379,-43.6700439453125,48.06455993652344,36.61451721191406,25.197704315185547,-12.188559532165527,-8.0857572555542,-10.404437065124512,16.380891799926758,-23.374650955200195,2.533928394317627,-1.715155005455017,-62.95498275756836,-4.511587142944336,50.9738655090332,-11.237482070922852,-9.821915626525879,9.760197639465332,35.827850341796875,-9.909241676330566,4.833034038543701,39.085391998291016,8.702754020690918,-45.183345794677734,28.84492301940918,28.53577995300293,-5.48521089553833,-54.43741226196289,26.948535919189453,53.17488098144531,34.78465270996094,-23.77276039123535,-1.6641782522201538,12.251564025878906,13.946455001831055,22.049821853637695,26.79326629638672,-14.402233123779297,15.477788925170898,21.624332427978516,-33.672908782958984,-18.448299407958984,-61.970130920410156,23.09184455871582,21.338268280029297,23.489906311035156,3.503203868865967,-58.64289855957031,4.843036651611328,40.04096603393555,10.891388893127441,-36.334651947021484,22.704313278198242,-28.881494522094727,-16.056596755981445,21.422224044799805,40.59987258911133,60.05058288574219,39.461463928222656,-5.071949481964111,-28.416187286376953,44.82514572143555,-54.836551666259766,-52.813995361328125,-13.99658203125,-31.75064468383789,19.13786506652832,-17.76335334777832,-43.873226165771484,-38.631370544433594,-53.653778076171875,-46.51112365722656,3.9961984157562256,-20.60886001586914,-44.27956008911133,14.015575408935547,-11.707526206970215,-12.125947952270508,-22.94705581665039,-23.106138229370117,-0.5320954322814941,-34.11924362182617],\"xaxis\":\"x\",\"y\":[8.849287986755371,-32.00212478637695,-29.689725875854492,22.185529708862305,-20.10127067565918,20.443763732910156,3.7002999782562256,-43.27394485473633,-14.13168716430664,4.231663227081299,-3.840845823287964,33.219966888427734,-4.920547008514404,-53.072113037109375,58.96731948852539,-37.579959869384766,24.611276626586914,-21.959341049194336,-20.71919059753418,-12.064664840698242,10.512174606323242,33.89537811279297,2.6637794971466064,-1.4023860692977905,60.68251419067383,-51.28605270385742,43.044769287109375,-29.065689086914062,35.04216766357422,-30.224449157714844,8.616601943969727,-1.5112342834472656,34.98024368286133,59.05014419555664,16.01010513305664,12.196017265319824,14.595148086547852,-20.193073272705078,-45.85765075683594,-15.641233444213867,-51.89602279663086,39.41313934326172,10.026124000549316,49.22298812866211,10.284588813781738,-21.301624298095703,-55.725547790527344,0.3938809633255005,28.795372009277344,-28.833702087402344,27.126728057861328,2.4767613410949707,13.233561515808105,0.02097853645682335,28.129474639892578,27.986385345458984,-24.243637084960938,70.01590728759766,-50.32231521606445,19.500608444213867,8.701952934265137,50.963478088378906,15.291015625,-32.058258056640625,-21.301362991333008,15.970720291137695,-34.54940414428711,-67.63744354248047,-32.51936340332031,5.5066680908203125,-39.84837341308594,-26.969133377075195,-46.045955657958984,23.788530349731445,-22.255081176757812,-8.05816650390625,-56.99129867553711,48.542484283447266,-28.197973251342773,-25.90711784362793,24.253564834594727,-42.28762435913086,-48.28639602661133,-40.80430221557617,-34.24259948730469,-43.242652893066406,26.91107940673828,36.60403060913086,50.3828239440918,51.75533676147461,-26.961620330810547,-17.86689567565918,70.6446304321289,6.658577919006348,-45.46540069580078,-49.040863037109375,19.9354190826416,-36.34801483154297,19.20924949645996,-18.73588752746582,-13.937349319458008,42.15472412109375,21.125106811523438,-21.44391632080078,-41.33757019042969,27.66325569152832,-33.393333435058594,21.537702560424805,3.4963603019714355,-15.315937995910645,8.42294979095459,-25.3004150390625,17.97544288635254,30.502668380737305,-28.993684768676758,60.72431182861328,36.8156852722168,-18.542448043823242,-2.838395357131958,12.75764274597168,52.627933502197266,30.993999481201172,45.809715270996094,-21.434566497802734,-28.1431827545166,34.573997497558594,-0.25715652108192444,60.0333137512207,-29.96875762939453,-23.301420211791992,-8.43071460723877,-3.2174651622772217,-6.128607273101807,14.831165313720703,48.99247360229492,32.29582214355469,0.835759699344635,23.10331153869629,-46.794639587402344,-5.933515548706055,-6.086516380310059,-3.8128623962402344,-26.835084915161133,-8.673258781433105,-51.43730163574219,12.981284141540527,-28.742841720581055,-27.584491729736328,-67.43370056152344,32.134552001953125,-20.009611129760742,-40.847328186035156,51.237144470214844,-13.142723083496094,23.31595802307129,50.609657287597656,18.734277725219727,12.854035377502441,-10.28395938873291,-43.79380416870117,-36.88193893432617,61.81332778930664,16.319398880004883,-7.497609615325928,10.201263427734375,14.963258743286133,6.8358869552612305,-21.076061248779297,48.20804977416992,38.5153923034668,7.597858428955078,-35.284881591796875,-17.572589874267578,-4.690219879150391,-28.717395782470703,42.26484680175781,12.20732593536377,-9.452241897583008,9.25268268585205,-31.776182174682617,-4.115117073059082,8.609543800354004,14.966791152954102,9.0245943069458,-28.485891342163086,-46.266902923583984,-38.18294143676758,-1.0495151281356812,30.564102172851562,-30.058734893798828,42.91780471801758,7.431853771209717,5.421285152435303,-29.64830780029297,1.31721830368042,30.706409454345703,-9.152809143066406,13.681243896484375,11.506671905517578,-6.565060138702393,-16.47838592529297,30.756328582763672,26.87345314025879,-21.669645309448242,-32.87274932861328,-0.34493958950042725,47.21393585205078,19.98907470703125,-48.061195373535156,-23.68886947631836,-25.31390953063965,31.078079223632812,25.533876419067383,-3.241617441177368,-48.55263900756836,33.886497497558594,-6.758352279663086,-18.10842514038086,4.093713760375977,-24.773818969726562,-14.798294067382812,13.236042022705078,-53.326026916503906,-0.8920742273330688,5.094015598297119,-11.397327423095703,14.6033935546875,43.160057067871094,-60.778709411621094,42.613059997558594,-37.29404067993164,40.0430908203125,-27.62935447692871,-11.701091766357422,68.92855834960938,-50.060787200927734,-9.220172882080078,-24.690629959106445,-5.178719997406006,21.730974197387695,-22.868484497070312,51.353790283203125,29.214229583740234,-52.5345573425293,-17.901430130004883,7.021154403686523,8.759903907775879,-40.261138916015625,-30.64911460876465,-10.137129783630371,12.037766456604004,-8.015199661254883,33.666629791259766,50.020721435546875,28.550596237182617,-15.756714820861816,-23.729246139526367,19.33156394958496,-62.7264518737793,17.85047149658203,47.58583450317383,-3.3599846363067627,30.85146713256836,20.0865421295166,-60.06901550292969,29.834787368774414,6.361050605773926,-7.923335552215576,-22.77680015563965,-29.665834426879883,-15.225525856018066,-27.866844177246094,-46.404319763183594,57.03401565551758,-22.9223575592041,32.79953384399414,-3.5421879291534424,-9.322932243347168,47.78197479248047,2.362894296646118,17.460952758789062,-59.248287200927734,36.97699737548828,-25.915292739868164,-48.03887176513672,41.146392822265625,-51.87983322143555,-48.202579498291016,-49.76640319824219,-9.651956558227539,-2.4978156089782715,-4.816382884979248,29.11273193359375,-30.254898071289062,36.17164611816406,6.453893184661865,31.767934799194336,-25.984464645385742,-13.725804328918457,-28.707195281982422,-42.099666595458984,-29.85421371459961,-38.48772430419922,10.02363395690918,42.4688835144043,43.75166320800781,-29.742822647094727,-44.57872009277344,-39.88844680786133,11.501338005065918,-28.230043411254883,31.94081687927246,-27.994483947753906,-49.311710357666016,-22.925588607788086,5.068752765655518,-5.853621959686279,17.47344207763672,6.98585319519043,-32.71140670776367,-34.45392608642578,-11.854816436767578,19.41045379638672,-25.52042579650879,2.6955373287200928,-36.25006103515625,4.971018314361572,29.08902931213379,35.53251266479492,52.184913635253906,-15.201183319091797,-18.34674835205078,63.53217697143555,-60.521549224853516,-39.16781234741211,-10.354747772216797,39.037601470947266,24.860576629638672,-30.24476432800293,-4.600059986114502,-37.85651779174805,29.326757431030273,52.80259323120117,29.288856506347656,-0.3660393953323364,-47.746788024902344,-44.25349426269531,24.327421188354492,0.20223715901374817,-35.13917922973633,-32.17222595214844,-3.52437424659729,-32.98686218261719,-7.458738803863525,-23.60296058654785,13.25683879852295,61.25288772583008,37.70842742919922,45.51453399658203,67.8721694946289,38.80546951293945,-36.88072967529297,27.1325626373291,61.42258834838867,21.032052993774414,-19.089895248413086,-3.3067233562469482,5.560384750366211,30.288503646850586,54.71196365356445,7.858392715454102,32.3173828125,-32.856529235839844,-41.88423156738281,-12.960606575012207,-21.67436981201172,-42.700469970703125,-9.41822338104248,-5.398491382598877,9.875314712524414,15.556150436401367,-11.386310577392578,47.897605895996094,-42.322731018066406,0.5394467115402222,-9.944509506225586,31.401226043701172,-12.021408081054688,62.167015075683594,-43.8605842590332,-23.916427612304688,32.5317268371582,-0.3500139117240906,57.75075912475586,57.40655517578125,13.82686710357666,-12.039091110229492,-53.69469451904297,22.863372802734375,61.049835205078125,-32.39701843261719,20.428192138671875,-24.18174171447754,-1.2597261667251587,37.90384292602539,-38.09634017944336,-34.1054801940918,-9.110164642333984,-1.1562730073928833,40.218135833740234,40.127166748046875,4.154346466064453,-32.97611999511719,6.182663440704346,31.836353302001953,-25.604616165161133,-17.34267807006836,27.84174156188965,14.578360557556152,29.399625778198242,-22.547452926635742,-3.612413167953491,29.014345169067383,19.20996856689453,7.899169921875,7.324831485748291,33.202945709228516,-33.82927322387695,11.69437313079834,31.534683227539062,46.49959182739258,-24.314861297607422,32.49509048461914,-7.403672695159912,-26.893585205078125,27.87149429321289,24.221088409423828,23.032297134399414,44.744815826416016,23.434978485107422,49.29325866699219,7.536919116973877,-17.842618942260742,-40.194828033447266,2.108157157897949,-27.769548416137695,40.89881896972656,21.163169860839844,-44.74711990356445,-3.6545193195343018,21.24364471435547,9.94526481628418,13.137537002563477,8.25340461730957,20.249629974365234,49.934234619140625,-3.9561126232147217,52.984619140625,-49.98858642578125,-10.318922996520996,-1.7117531299591064,28.82952117919922,38.23189163208008,21.369997024536133,0.6927143335342407,-19.783037185668945,-52.680641174316406,-56.507083892822266,61.704410552978516,43.34715270996094,-53.90298080444336,42.07072067260742,21.30086326599121,-16.34206199645996,-2.092478036880493,21.654495239257812,-30.45231819152832,31.911941528320312,-0.7653492093086243,-4.729169845581055,-31.755355834960938,-22.85539436340332,-23.238313674926758,-14.273028373718262,11.292919158935547,38.54106140136719,56.16130065917969,6.360156536102295,31.99010467529297,43.19607162475586,-32.719051361083984,-40.01734161376953,-9.072583198547363,-18.00495147705078,-17.312807083129883,14.988605499267578,36.85145568847656,54.87812805175781,-14.316875457763672,-41.16170120239258,2.2351417541503906,30.615676879882812,-0.8379094004631042,33.43563461303711,51.0000114440918,-18.96245002746582,-16.106557846069336,-14.4483003616333,-17.783449172973633,25.257827758789062,6.360764980316162,-44.1970329284668,29.68534278869629,6.1843132972717285,-9.236693382263184,18.85917091369629,24.85403823852539,12.649012565612793,19.268308639526367,31.76613998413086,-15.028263092041016,-25.646020889282227,38.7716064453125,-1.7224500179290771,-22.219741821289062,-5.265250205993652,-9.021724700927734,-51.250858306884766,38.31486511230469,10.484640121459961,-2.0792131423950195,-20.356277465820312,-10.55174732208252,-22.544273376464844,50.27256393432617,-24.529600143432617,52.49648666381836,-8.466178894042969,-9.560689926147461,-53.04278564453125,15.585164070129395,-10.248645782470703,-12.493200302124023,-49.29518508911133,23.169145584106445,42.88382339477539,6.566728115081787,-9.121030807495117,-62.41172409057617,8.930928230285645,20.94405174255371,27.89454460144043,-48.309654235839844,-9.735207557678223,-35.316314697265625,-32.521942138671875,-47.18810272216797,40.17393112182617,51.50313186645508,32.343666076660156,-34.01616287231445,-22.610559463500977,9.563872337341309,19.390399932861328,1.372605800628662,-20.77528190612793,5.100112438201904,32.31576919555664,31.021148681640625,-4.508166313171387,-12.049641609191895,-12.060561180114746,4.919759750366211,47.583839416503906,11.096768379211426,-42.61271286010742,-39.536312103271484,-36.75399398803711,-62.68379592895508,14.8038911819458,-5.89184045791626,42.81336975097656,15.018204689025879,8.088096618652344,47.149478912353516,2.170412063598633,10.695135116577148,24.37388038635254,-6.584287166595459,2.8867156505584717,39.08562469482422,1.7661563158035278,-35.108741760253906,32.19352722167969,-15.81641674041748,-1.4738996028900146,-29.24428367614746,40.619384765625,-26.117361068725586,29.260398864746094,-26.65894317626953,39.72584533691406,-34.290897369384766,-23.70250701904297,-24.384958267211914,13.553153991699219,29.490686416625977,42.05933380126953,-18.38039207458496,-22.066654205322266,-20.06586456298828,32.89792251586914,-31.196104049682617,26.07387351989746,40.801822662353516,45.936988830566406,9.327293395996094,36.00233840942383,29.788284301757812,-37.85346603393555,8.499120712280273,4.598313808441162,-19.504358291625977,-61.77249526977539,-6.2367844581604,17.31695556640625,-9.539728164672852,-0.7463030815124512,17.623214721679688,-25.121503829956055,26.060890197753906,21.220428466796875,4.934075832366943,12.670706748962402,50.21121597290039,12.486618041992188,-31.307790756225586,5.589661121368408,-50.70089340209961,2.503880739212036,-13.088541030883789,41.32058334350586,39.648746490478516,-49.7236328125,-20.641521453857422,36.519832611083984,51.80953598022461,37.78953170776367,26.863178253173828,-12.284721374511719,-25.18788719177246,11.14522933959961,61.142372131347656,37.90697479248047,19.59587287902832,11.30736255645752,-20.055761337280273,-26.397159576416016,7.819493293762207,-18.446630477905273,-4.360699653625488,32.26462936401367,33.515419006347656,24.539165496826172,-51.881996154785156,-22.763343811035156,-40.224605560302734,-7.699771404266357,-32.06604766845703,-34.2153434753418,51.88703918457031,-20.750947952270508,-52.265113830566406,13.078925132751465,16.63259506225586,-15.068794250488281,-14.788735389709473,-16.906702041625977,28.786434173583984],\"yaxis\":\"y\",\"type\":\"scatter\"}],                        {\"template\":{\"data\":{\"histogram2dcontour\":[{\"type\":\"histogram2dcontour\",\"colorbar\":{\"outlinewidth\":0,\"ticks\":\"\"},\"colorscale\":[[0.0,\"#0d0887\"],[0.1111111111111111,\"#46039f\"],[0.2222222222222222,\"#7201a8\"],[0.3333333333333333,\"#9c179e\"],[0.4444444444444444,\"#bd3786\"],[0.5555555555555556,\"#d8576b\"],[0.6666666666666666,\"#ed7953\"],[0.7777777777777778,\"#fb9f3a\"],[0.8888888888888888,\"#fdca26\"],[1.0,\"#f0f921\"]]}],\"choropleth\":[{\"type\":\"choropleth\",\"colorbar\":{\"outlinewidth\":0,\"ticks\":\"\"}}],\"histogram2d\":[{\"type\":\"histogram2d\",\"colorbar\":{\"outlinewidth\":0,\"ticks\":\"\"},\"colorscale\":[[0.0,\"#0d0887\"],[0.1111111111111111,\"#46039f\"],[0.2222222222222222,\"#7201a8\"],[0.3333333333333333,\"#9c179e\"],[0.4444444444444444,\"#bd3786\"],[0.5555555555555556,\"#d8576b\"],[0.6666666666666666,\"#ed7953\"],[0.7777777777777778,\"#fb9f3a\"],[0.8888888888888888,\"#fdca26\"],[1.0,\"#f0f921\"]]}],\"heatmap\":[{\"type\":\"heatmap\",\"colorbar\":{\"outlinewidth\":0,\"ticks\":\"\"},\"colorscale\":[[0.0,\"#0d0887\"],[0.1111111111111111,\"#46039f\"],[0.2222222222222222,\"#7201a8\"],[0.3333333333333333,\"#9c179e\"],[0.4444444444444444,\"#bd3786\"],[0.5555555555555556,\"#d8576b\"],[0.6666666666666666,\"#ed7953\"],[0.7777777777777778,\"#fb9f3a\"],[0.8888888888888888,\"#fdca26\"],[1.0,\"#f0f921\"]]}],\"heatmapgl\":[{\"type\":\"heatmapgl\",\"colorbar\":{\"outlinewidth\":0,\"ticks\":\"\"},\"colorscale\":[[0.0,\"#0d0887\"],[0.1111111111111111,\"#46039f\"],[0.2222222222222222,\"#7201a8\"],[0.3333333333333333,\"#9c179e\"],[0.4444444444444444,\"#bd3786\"],[0.5555555555555556,\"#d8576b\"],[0.6666666666666666,\"#ed7953\"],[0.7777777777777778,\"#fb9f3a\"],[0.8888888888888888,\"#fdca26\"],[1.0,\"#f0f921\"]]}],\"contourcarpet\":[{\"type\":\"contourcarpet\",\"colorbar\":{\"outlinewidth\":0,\"ticks\":\"\"}}],\"contour\":[{\"type\":\"contour\",\"colorbar\":{\"outlinewidth\":0,\"ticks\":\"\"},\"colorscale\":[[0.0,\"#0d0887\"],[0.1111111111111111,\"#46039f\"],[0.2222222222222222,\"#7201a8\"],[0.3333333333333333,\"#9c179e\"],[0.4444444444444444,\"#bd3786\"],[0.5555555555555556,\"#d8576b\"],[0.6666666666666666,\"#ed7953\"],[0.7777777777777778,\"#fb9f3a\"],[0.8888888888888888,\"#fdca26\"],[1.0,\"#f0f921\"]]}],\"surface\":[{\"type\":\"surface\",\"colorbar\":{\"outlinewidth\":0,\"ticks\":\"\"},\"colorscale\":[[0.0,\"#0d0887\"],[0.1111111111111111,\"#46039f\"],[0.2222222222222222,\"#7201a8\"],[0.3333333333333333,\"#9c179e\"],[0.4444444444444444,\"#bd3786\"],[0.5555555555555556,\"#d8576b\"],[0.6666666666666666,\"#ed7953\"],[0.7777777777777778,\"#fb9f3a\"],[0.8888888888888888,\"#fdca26\"],[1.0,\"#f0f921\"]]}],\"mesh3d\":[{\"type\":\"mesh3d\",\"colorbar\":{\"outlinewidth\":0,\"ticks\":\"\"}}],\"scatter\":[{\"fillpattern\":{\"fillmode\":\"overlay\",\"size\":10,\"solidity\":0.2},\"type\":\"scatter\"}],\"parcoords\":[{\"type\":\"parcoords\",\"line\":{\"colorbar\":{\"outlinewidth\":0,\"ticks\":\"\"}}}],\"scatterpolargl\":[{\"type\":\"scatterpolargl\",\"marker\":{\"colorbar\":{\"outlinewidth\":0,\"ticks\":\"\"}}}],\"bar\":[{\"error_x\":{\"color\":\"#2a3f5f\"},\"error_y\":{\"color\":\"#2a3f5f\"},\"marker\":{\"line\":{\"color\":\"#E5ECF6\",\"width\":0.5},\"pattern\":{\"fillmode\":\"overlay\",\"size\":10,\"solidity\":0.2}},\"type\":\"bar\"}],\"scattergeo\":[{\"type\":\"scattergeo\",\"marker\":{\"colorbar\":{\"outlinewidth\":0,\"ticks\":\"\"}}}],\"scatterpolar\":[{\"type\":\"scatterpolar\",\"marker\":{\"colorbar\":{\"outlinewidth\":0,\"ticks\":\"\"}}}],\"histogram\":[{\"marker\":{\"pattern\":{\"fillmode\":\"overlay\",\"size\":10,\"solidity\":0.2}},\"type\":\"histogram\"}],\"scattergl\":[{\"type\":\"scattergl\",\"marker\":{\"colorbar\":{\"outlinewidth\":0,\"ticks\":\"\"}}}],\"scatter3d\":[{\"type\":\"scatter3d\",\"line\":{\"colorbar\":{\"outlinewidth\":0,\"ticks\":\"\"}},\"marker\":{\"colorbar\":{\"outlinewidth\":0,\"ticks\":\"\"}}}],\"scattermapbox\":[{\"type\":\"scattermapbox\",\"marker\":{\"colorbar\":{\"outlinewidth\":0,\"ticks\":\"\"}}}],\"scatterternary\":[{\"type\":\"scatterternary\",\"marker\":{\"colorbar\":{\"outlinewidth\":0,\"ticks\":\"\"}}}],\"scattercarpet\":[{\"type\":\"scattercarpet\",\"marker\":{\"colorbar\":{\"outlinewidth\":0,\"ticks\":\"\"}}}],\"carpet\":[{\"aaxis\":{\"endlinecolor\":\"#2a3f5f\",\"gridcolor\":\"white\",\"linecolor\":\"white\",\"minorgridcolor\":\"white\",\"startlinecolor\":\"#2a3f5f\"},\"baxis\":{\"endlinecolor\":\"#2a3f5f\",\"gridcolor\":\"white\",\"linecolor\":\"white\",\"minorgridcolor\":\"white\",\"startlinecolor\":\"#2a3f5f\"},\"type\":\"carpet\"}],\"table\":[{\"cells\":{\"fill\":{\"color\":\"#EBF0F8\"},\"line\":{\"color\":\"white\"}},\"header\":{\"fill\":{\"color\":\"#C8D4E3\"},\"line\":{\"color\":\"white\"}},\"type\":\"table\"}],\"barpolar\":[{\"marker\":{\"line\":{\"color\":\"#E5ECF6\",\"width\":0.5},\"pattern\":{\"fillmode\":\"overlay\",\"size\":10,\"solidity\":0.2}},\"type\":\"barpolar\"}],\"pie\":[{\"automargin\":true,\"type\":\"pie\"}]},\"layout\":{\"autotypenumbers\":\"strict\",\"colorway\":[\"#636efa\",\"#EF553B\",\"#00cc96\",\"#ab63fa\",\"#FFA15A\",\"#19d3f3\",\"#FF6692\",\"#B6E880\",\"#FF97FF\",\"#FECB52\"],\"font\":{\"color\":\"#2a3f5f\"},\"hovermode\":\"closest\",\"hoverlabel\":{\"align\":\"left\"},\"paper_bgcolor\":\"white\",\"plot_bgcolor\":\"#E5ECF6\",\"polar\":{\"bgcolor\":\"#E5ECF6\",\"angularaxis\":{\"gridcolor\":\"white\",\"linecolor\":\"white\",\"ticks\":\"\"},\"radialaxis\":{\"gridcolor\":\"white\",\"linecolor\":\"white\",\"ticks\":\"\"}},\"ternary\":{\"bgcolor\":\"#E5ECF6\",\"aaxis\":{\"gridcolor\":\"white\",\"linecolor\":\"white\",\"ticks\":\"\"},\"baxis\":{\"gridcolor\":\"white\",\"linecolor\":\"white\",\"ticks\":\"\"},\"caxis\":{\"gridcolor\":\"white\",\"linecolor\":\"white\",\"ticks\":\"\"}},\"coloraxis\":{\"colorbar\":{\"outlinewidth\":0,\"ticks\":\"\"}},\"colorscale\":{\"sequential\":[[0.0,\"#0d0887\"],[0.1111111111111111,\"#46039f\"],[0.2222222222222222,\"#7201a8\"],[0.3333333333333333,\"#9c179e\"],[0.4444444444444444,\"#bd3786\"],[0.5555555555555556,\"#d8576b\"],[0.6666666666666666,\"#ed7953\"],[0.7777777777777778,\"#fb9f3a\"],[0.8888888888888888,\"#fdca26\"],[1.0,\"#f0f921\"]],\"sequentialminus\":[[0.0,\"#0d0887\"],[0.1111111111111111,\"#46039f\"],[0.2222222222222222,\"#7201a8\"],[0.3333333333333333,\"#9c179e\"],[0.4444444444444444,\"#bd3786\"],[0.5555555555555556,\"#d8576b\"],[0.6666666666666666,\"#ed7953\"],[0.7777777777777778,\"#fb9f3a\"],[0.8888888888888888,\"#fdca26\"],[1.0,\"#f0f921\"]],\"diverging\":[[0,\"#8e0152\"],[0.1,\"#c51b7d\"],[0.2,\"#de77ae\"],[0.3,\"#f1b6da\"],[0.4,\"#fde0ef\"],[0.5,\"#f7f7f7\"],[0.6,\"#e6f5d0\"],[0.7,\"#b8e186\"],[0.8,\"#7fbc41\"],[0.9,\"#4d9221\"],[1,\"#276419\"]]},\"xaxis\":{\"gridcolor\":\"white\",\"linecolor\":\"white\",\"ticks\":\"\",\"title\":{\"standoff\":15},\"zerolinecolor\":\"white\",\"automargin\":true,\"zerolinewidth\":2},\"yaxis\":{\"gridcolor\":\"white\",\"linecolor\":\"white\",\"ticks\":\"\",\"title\":{\"standoff\":15},\"zerolinecolor\":\"white\",\"automargin\":true,\"zerolinewidth\":2},\"scene\":{\"xaxis\":{\"backgroundcolor\":\"#E5ECF6\",\"gridcolor\":\"white\",\"linecolor\":\"white\",\"showbackground\":true,\"ticks\":\"\",\"zerolinecolor\":\"white\",\"gridwidth\":2},\"yaxis\":{\"backgroundcolor\":\"#E5ECF6\",\"gridcolor\":\"white\",\"linecolor\":\"white\",\"showbackground\":true,\"ticks\":\"\",\"zerolinecolor\":\"white\",\"gridwidth\":2},\"zaxis\":{\"backgroundcolor\":\"#E5ECF6\",\"gridcolor\":\"white\",\"linecolor\":\"white\",\"showbackground\":true,\"ticks\":\"\",\"zerolinecolor\":\"white\",\"gridwidth\":2}},\"shapedefaults\":{\"line\":{\"color\":\"#2a3f5f\"}},\"annotationdefaults\":{\"arrowcolor\":\"#2a3f5f\",\"arrowhead\":0,\"arrowwidth\":1},\"geo\":{\"bgcolor\":\"white\",\"landcolor\":\"#E5ECF6\",\"subunitcolor\":\"white\",\"showland\":true,\"showlakes\":true,\"lakecolor\":\"white\"},\"title\":{\"x\":0.05},\"mapbox\":{\"style\":\"light\"}}},\"xaxis\":{\"anchor\":\"y\",\"domain\":[0.0,1.0],\"title\":{\"text\":\"0\"}},\"yaxis\":{\"anchor\":\"x\",\"domain\":[0.0,1.0],\"title\":{\"text\":\"1\"}},\"legend\":{\"tracegroupgap\":0},\"margin\":{\"t\":60},\"height\":800,\"width\":800},                        {\"responsive\": true}                    ).then(function(){\n",
       "                            \n",
       "var gd = document.getElementById('6495ddbf-cb71-4eb1-ac36-b23638d3f88f');\n",
       "var x = new MutationObserver(function (mutations, observer) {{\n",
       "        var display = window.getComputedStyle(gd).display;\n",
       "        if (!display || display === 'none') {{\n",
       "            console.log([gd, 'removed!']);\n",
       "            Plotly.purge(gd);\n",
       "            observer.disconnect();\n",
       "        }}\n",
       "}});\n",
       "\n",
       "// Listen for the removal of the full notebook cells\n",
       "var notebookContainer = gd.closest('#notebook-container');\n",
       "if (notebookContainer) {{\n",
       "    x.observe(notebookContainer, {childList: true});\n",
       "}}\n",
       "\n",
       "// Listen for the clearing of the current output cell\n",
       "var outputEl = gd.closest('.output');\n",
       "if (outputEl) {{\n",
       "    x.observe(outputEl, {childList: true});\n",
       "}}\n",
       "\n",
       "                        })                };                });            </script>        </div>"
      ]
     },
     "metadata": {},
     "output_type": "display_data"
    }
   ],
   "source": [
    "fig = px.scatter(\n",
    "    beowulf_projections, \n",
    "    x=0, y=1,\n",
    "    hover_name = np.array(beowulf_vocab),\n",
    "    width=800, \n",
    "    height=800\n",
    ")\n",
    "fig.show()"
   ]
  }
 ],
 "metadata": {
  "kernelspec": {
   "display_name": "Python 3 (ipykernel)",
   "language": "python",
   "name": "python3"
  },
  "language_info": {
   "codemirror_mode": {
    "name": "ipython",
    "version": 3
   },
   "file_extension": ".py",
   "mimetype": "text/x-python",
   "name": "python",
   "nbconvert_exporter": "python",
   "pygments_lexer": "ipython3",
   "version": "3.8.16"
  }
 },
 "nbformat": 4,
 "nbformat_minor": 5
}
