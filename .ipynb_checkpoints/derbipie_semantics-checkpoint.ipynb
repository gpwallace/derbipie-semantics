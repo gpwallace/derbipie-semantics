{
 "cells": [
  {
   "cell_type": "markdown",
   "id": "a4a1b6fa-be17-4083-b209-0ca13de1a55b",
   "metadata": {},
   "source": [
    "# DERBi PIE Semantics Module"
   ]
  },
  {
   "cell_type": "code",
   "execution_count": 56,
   "id": "bf800dee-f6c6-4559-b2b5-8d4dda5b3d92",
   "metadata": {
    "tags": []
   },
   "outputs": [],
   "source": [
    "# installing modules below:"
   ]
  },
  {
   "cell_type": "code",
   "execution_count": 55,
   "id": "9bc52003-b440-42b8-b3e8-04ecf6226e45",
   "metadata": {
    "tags": []
   },
   "outputs": [
    {
     "name": "stdout",
     "output_type": "stream",
     "text": [
      "Requirement already satisfied: gensim in c:\\users\\gpwal\\appdata\\roaming\\jupyterlab-desktop\\jlab_server\\lib\\site-packages (4.3.1)\n",
      "Requirement already satisfied: numpy>=1.18.5 in c:\\users\\gpwal\\appdata\\roaming\\jupyterlab-desktop\\jlab_server\\lib\\site-packages (from gensim) (1.24.3)\n",
      "Requirement already satisfied: scipy>=1.7.0 in c:\\users\\gpwal\\appdata\\roaming\\jupyterlab-desktop\\jlab_server\\lib\\site-packages (from gensim) (1.10.1)\n",
      "Requirement already satisfied: smart-open>=1.8.1 in c:\\users\\gpwal\\appdata\\roaming\\jupyterlab-desktop\\jlab_server\\lib\\site-packages (from gensim) (6.3.0)\n",
      "Note: you may need to restart the kernel to use updated packages.\n"
     ]
    }
   ],
   "source": [
    "pip install gensim"
   ]
  },
  {
   "cell_type": "code",
   "execution_count": 2,
   "id": "5e8388d7-c4fc-4e22-878d-134926eb7c56",
   "metadata": {
    "tags": []
   },
   "outputs": [
    {
     "name": "stdout",
     "output_type": "stream",
     "text": [
      "Requirement already satisfied: nltk in c:\\users\\gpwal\\appdata\\roaming\\jupyterlab-desktop\\jlab_server\\lib\\site-packages (3.8.1)Note: you may need to restart the kernel to use updated packages.\n",
      "\n",
      "Requirement already satisfied: click in c:\\users\\gpwal\\appdata\\roaming\\jupyterlab-desktop\\jlab_server\\lib\\site-packages (from nltk) (8.1.3)\n",
      "Requirement already satisfied: joblib in c:\\users\\gpwal\\appdata\\roaming\\jupyterlab-desktop\\jlab_server\\lib\\site-packages (from nltk) (1.2.0)\n",
      "Requirement already satisfied: regex>=2021.8.3 in c:\\users\\gpwal\\appdata\\roaming\\jupyterlab-desktop\\jlab_server\\lib\\site-packages (from nltk) (2023.5.5)\n",
      "Requirement already satisfied: tqdm in c:\\users\\gpwal\\appdata\\roaming\\jupyterlab-desktop\\jlab_server\\lib\\site-packages (from nltk) (4.65.0)\n",
      "Requirement already satisfied: colorama in c:\\users\\gpwal\\appdata\\roaming\\jupyterlab-desktop\\jlab_server\\lib\\site-packages (from click->nltk) (0.4.6)\n"
     ]
    }
   ],
   "source": [
    "pip install nltk"
   ]
  },
  {
   "cell_type": "code",
   "execution_count": 4,
   "id": "83bd716a-0822-4d73-a590-0d6753eab633",
   "metadata": {
    "tags": []
   },
   "outputs": [
    {
     "name": "stdout",
     "output_type": "stream",
     "text": [
      "Requirement already satisfied: scipy in c:\\users\\gpwal\\appdata\\roaming\\jupyterlab-desktop\\jlab_server\\lib\\site-packages (1.10.1)\n",
      "Requirement already satisfied: numpy<1.27.0,>=1.19.5 in c:\\users\\gpwal\\appdata\\roaming\\jupyterlab-desktop\\jlab_server\\lib\\site-packages (from scipy) (1.24.3)\n",
      "Note: you may need to restart the kernel to use updated packages.\n"
     ]
    }
   ],
   "source": [
    "pip install scipy"
   ]
  },
  {
   "cell_type": "code",
   "execution_count": 5,
   "id": "ffd5d8b2-cdc4-4390-b8f0-917f799e8c77",
   "metadata": {
    "tags": []
   },
   "outputs": [
    {
     "name": "stdout",
     "output_type": "stream",
     "text": [
      "Requirement already satisfied: gutenbergpy in c:\\users\\gpwal\\appdata\\roaming\\jupyterlab-desktop\\jlab_server\\lib\\site-packages (0.3.5)\n",
      "Requirement already satisfied: future>=0.15.2 in c:\\users\\gpwal\\appdata\\roaming\\jupyterlab-desktop\\jlab_server\\lib\\site-packages (from gutenbergpy) (0.18.3)\n",
      "Requirement already satisfied: httpsproxy-urllib2 in c:\\users\\gpwal\\appdata\\roaming\\jupyterlab-desktop\\jlab_server\\lib\\site-packages (from gutenbergpy) (1.0)\n",
      "Requirement already satisfied: lxml>=3.2.0 in c:\\users\\gpwal\\appdata\\roaming\\jupyterlab-desktop\\jlab_server\\lib\\site-packages (from gutenbergpy) (4.9.2)\n",
      "Requirement already satisfied: pymongo in c:\\users\\gpwal\\appdata\\roaming\\jupyterlab-desktop\\jlab_server\\lib\\site-packages (from gutenbergpy) (4.3.3)\n",
      "Requirement already satisfied: setuptools>=18.5 in c:\\users\\gpwal\\appdata\\roaming\\jupyterlab-desktop\\jlab_server\\lib\\site-packages (from gutenbergpy) (67.7.2)\n",
      "Requirement already satisfied: chardet in c:\\users\\gpwal\\appdata\\roaming\\jupyterlab-desktop\\jlab_server\\lib\\site-packages (from gutenbergpy) (5.1.0)\n",
      "Requirement already satisfied: dnspython<3.0.0,>=1.16.0 in c:\\users\\gpwal\\appdata\\roaming\\jupyterlab-desktop\\jlab_server\\lib\\site-packages (from pymongo->gutenbergpy) (2.3.0)\n",
      "Note: you may need to restart the kernel to use updated packages.\n"
     ]
    }
   ],
   "source": [
    "pip install gutenbergpy"
   ]
  },
  {
   "cell_type": "code",
   "execution_count": 6,
   "id": "4b128a28-17ce-4e65-b12d-e492c229c1e6",
   "metadata": {
    "tags": []
   },
   "outputs": [
    {
     "name": "stdout",
     "output_type": "stream",
     "text": [
      "Requirement already satisfied: matplotlib in c:\\users\\gpwal\\appdata\\roaming\\jupyterlab-desktop\\jlab_server\\lib\\site-packages (3.7.1)\n",
      "Requirement already satisfied: contourpy>=1.0.1 in c:\\users\\gpwal\\appdata\\roaming\\jupyterlab-desktop\\jlab_server\\lib\\site-packages (from matplotlib) (1.0.7)\n",
      "Requirement already satisfied: cycler>=0.10 in c:\\users\\gpwal\\appdata\\roaming\\jupyterlab-desktop\\jlab_server\\lib\\site-packages (from matplotlib) (0.11.0)\n",
      "Requirement already satisfied: fonttools>=4.22.0 in c:\\users\\gpwal\\appdata\\roaming\\jupyterlab-desktop\\jlab_server\\lib\\site-packages (from matplotlib) (4.39.4)\n",
      "Requirement already satisfied: kiwisolver>=1.0.1 in c:\\users\\gpwal\\appdata\\roaming\\jupyterlab-desktop\\jlab_server\\lib\\site-packages (from matplotlib) (1.4.4)\n",
      "Requirement already satisfied: numpy>=1.20 in c:\\users\\gpwal\\appdata\\roaming\\jupyterlab-desktop\\jlab_server\\lib\\site-packages (from matplotlib) (1.24.3)\n",
      "Requirement already satisfied: packaging>=20.0 in c:\\users\\gpwal\\appdata\\roaming\\jupyterlab-desktop\\jlab_server\\lib\\site-packages (from matplotlib) (23.1)\n",
      "Requirement already satisfied: pillow>=6.2.0 in c:\\users\\gpwal\\appdata\\roaming\\jupyterlab-desktop\\jlab_server\\lib\\site-packages (from matplotlib) (9.5.0)\n",
      "Requirement already satisfied: pyparsing>=2.3.1 in c:\\users\\gpwal\\appdata\\roaming\\jupyterlab-desktop\\jlab_server\\lib\\site-packages (from matplotlib) (3.0.9)\n",
      "Requirement already satisfied: python-dateutil>=2.7 in c:\\users\\gpwal\\appdata\\roaming\\jupyterlab-desktop\\jlab_server\\lib\\site-packages (from matplotlib) (2.8.2)\n",
      "Requirement already satisfied: importlib-resources>=3.2.0 in c:\\users\\gpwal\\appdata\\roaming\\jupyterlab-desktop\\jlab_server\\lib\\site-packages (from matplotlib) (5.12.0)\n",
      "Requirement already satisfied: zipp>=3.1.0 in c:\\users\\gpwal\\appdata\\roaming\\jupyterlab-desktop\\jlab_server\\lib\\site-packages (from importlib-resources>=3.2.0->matplotlib) (3.15.0)\n",
      "Requirement already satisfied: six>=1.5 in c:\\users\\gpwal\\appdata\\roaming\\jupyterlab-desktop\\jlab_server\\lib\\site-packages (from python-dateutil>=2.7->matplotlib) (1.16.0)\n",
      "Note: you may need to restart the kernel to use updated packages.\n"
     ]
    }
   ],
   "source": [
    "pip install matplotlib"
   ]
  },
  {
   "cell_type": "code",
   "execution_count": 7,
   "id": "f4e04ee1-1740-4af5-83a0-04693e1babb7",
   "metadata": {
    "tags": []
   },
   "outputs": [
    {
     "name": "stdout",
     "output_type": "stream",
     "text": [
      "Requirement already satisfied: tabulate in c:\\users\\gpwal\\appdata\\roaming\\jupyterlab-desktop\\jlab_server\\lib\\site-packages (0.9.0)\n",
      "Note: you may need to restart the kernel to use updated packages.\n"
     ]
    }
   ],
   "source": [
    "pip install tabulate"
   ]
  },
  {
   "cell_type": "code",
   "execution_count": 8,
   "id": "49865743-d078-4b05-a321-24dc4362c7d4",
   "metadata": {
    "tags": []
   },
   "outputs": [
    {
     "name": "stdout",
     "output_type": "stream",
     "text": [
      "Requirement already satisfied: sklearn in c:\\users\\gpwal\\appdata\\roaming\\jupyterlab-desktop\\jlab_server\\lib\\site-packages (0.0.post5)\n",
      "Note: you may need to restart the kernel to use updated packages.\n"
     ]
    }
   ],
   "source": [
    "pip install sklearn"
   ]
  },
  {
   "cell_type": "code",
   "execution_count": 9,
   "id": "dd8741f6-868d-4b32-800f-5732391ec6c9",
   "metadata": {
    "tags": []
   },
   "outputs": [
    {
     "name": "stdout",
     "output_type": "stream",
     "text": [
      "Requirement already satisfied: plotly in c:\\users\\gpwal\\appdata\\roaming\\jupyterlab-desktop\\jlab_server\\lib\\site-packages (5.14.1)\n",
      "Requirement already satisfied: tenacity>=6.2.0 in c:\\users\\gpwal\\appdata\\roaming\\jupyterlab-desktop\\jlab_server\\lib\\site-packages (from plotly) (8.2.2)\n",
      "Requirement already satisfied: packaging in c:\\users\\gpwal\\appdata\\roaming\\jupyterlab-desktop\\jlab_server\\lib\\site-packages (from plotly) (23.1)\n",
      "Note: you may need to restart the kernel to use updated packages.\n"
     ]
    }
   ],
   "source": [
    "pip install plotly"
   ]
  },
  {
   "cell_type": "code",
   "execution_count": 57,
   "id": "7fda0274-3107-4c83-9758-217b1951d94e",
   "metadata": {
    "tags": []
   },
   "outputs": [],
   "source": [
    "#importing modules below:"
   ]
  },
  {
   "cell_type": "code",
   "execution_count": 10,
   "id": "d3012de7-d750-4a8a-bec8-001db1ed7ae8",
   "metadata": {
    "tags": []
   },
   "outputs": [],
   "source": [
    "import gensim.downloader as api\n",
    "wv = api.load('glove-wiki-gigaword-100')"
   ]
  },
  {
   "cell_type": "code",
   "execution_count": 11,
   "id": "776ec2f5-e901-444e-b330-50892e604b04",
   "metadata": {
    "tags": []
   },
   "outputs": [
    {
     "name": "stderr",
     "output_type": "stream",
     "text": [
      "[nltk_data] Downloading package punkt to\n",
      "[nltk_data]     C:\\Users\\gpwal\\AppData\\Roaming\\nltk_data...\n",
      "[nltk_data]   Package punkt is already up-to-date!\n"
     ]
    },
    {
     "data": {
      "text/plain": [
       "True"
      ]
     },
     "execution_count": 11,
     "metadata": {},
     "output_type": "execute_result"
    }
   ],
   "source": [
    "from gensim.models import Word2Vec\n",
    "import nltk\n",
    "nltk.download('punkt')"
   ]
  },
  {
   "cell_type": "code",
   "execution_count": 12,
   "id": "403b145c-9ca3-42c5-a903-d4e4c08cd3b2",
   "metadata": {
    "tags": []
   },
   "outputs": [],
   "source": [
    "from nltk.tokenize import sent_tokenize, RegexpTokenizer"
   ]
  },
  {
   "cell_type": "code",
   "execution_count": 13,
   "id": "39db9812-0892-4a0c-b6c4-64d65ea8c50c",
   "metadata": {
    "tags": []
   },
   "outputs": [],
   "source": [
    "import nltk\n",
    "from nltk.corpus import stopwords"
   ]
  },
  {
   "cell_type": "code",
   "execution_count": 14,
   "id": "a61b3e0d-127d-4d28-8c7d-be58e4c2efa8",
   "metadata": {
    "tags": []
   },
   "outputs": [],
   "source": [
    "from pprint import pprint"
   ]
  },
  {
   "cell_type": "code",
   "execution_count": 15,
   "id": "c1c9ae09-cd68-4d58-b702-0bb946ceb8da",
   "metadata": {
    "tags": []
   },
   "outputs": [],
   "source": [
    "import numpy as np"
   ]
  },
  {
   "cell_type": "code",
   "execution_count": 16,
   "id": "29e1f2d0-bb06-4761-b487-c2e6b5f3e67e",
   "metadata": {
    "tags": []
   },
   "outputs": [],
   "source": [
    "from scipy import spatial"
   ]
  },
  {
   "cell_type": "code",
   "execution_count": 17,
   "id": "a678af4c-ace4-4371-af3d-facf1a7366b4",
   "metadata": {
    "tags": []
   },
   "outputs": [],
   "source": [
    "from nltk.tokenize import RegexpTokenizer\n",
    "from collections import Counter"
   ]
  },
  {
   "cell_type": "code",
   "execution_count": 18,
   "id": "20ca7f17-cd30-4148-9cd5-1aa72b52aa90",
   "metadata": {
    "tags": []
   },
   "outputs": [],
   "source": [
    "import gutenbergpy.textget"
   ]
  },
  {
   "cell_type": "code",
   "execution_count": 19,
   "id": "120d5fb7-c878-4100-9ffc-bae7c5318c4b",
   "metadata": {
    "tags": []
   },
   "outputs": [],
   "source": [
    "import matplotlib.pyplot as plt"
   ]
  },
  {
   "cell_type": "code",
   "execution_count": 20,
   "id": "c7c5edaa-0443-4818-b9db-b21c4e947ed5",
   "metadata": {
    "tags": []
   },
   "outputs": [],
   "source": [
    "from tabulate import tabulate"
   ]
  },
  {
   "cell_type": "code",
   "execution_count": 21,
   "id": "dfa64753-ac9b-494a-8723-32e849683653",
   "metadata": {
    "tags": []
   },
   "outputs": [],
   "source": [
    "from sklearn.manifold import TSNE"
   ]
  },
  {
   "cell_type": "code",
   "execution_count": 58,
   "id": "d3bd3c6a-3383-41ab-9134-303afa2739c7",
   "metadata": {
    "tags": []
   },
   "outputs": [],
   "source": [
    "import plotly.express as px"
   ]
  },
  {
   "cell_type": "code",
   "execution_count": 63,
   "id": "09b1238c-434d-4354-9a6c-da41274269e8",
   "metadata": {
    "tags": []
   },
   "outputs": [],
   "source": [
    "import os"
   ]
  },
  {
   "cell_type": "code",
   "execution_count": 59,
   "id": "4fbe1c99-fda6-4d0e-9bcc-808fae46183d",
   "metadata": {
    "tags": []
   },
   "outputs": [],
   "source": [
    "# creating a getbook function for Project Gutenberg\n",
    "def getbook(book, outfile):\n",
    "  \"\"\"\n",
    "  Download a book from project Gutenberg and save it \n",
    "  to the specified outfile\n",
    "  \"\"\"\n",
    "  print(f\"Downloading Project Gutenberg ID {book}\")\n",
    "  raw_book = gutenbergpy.textget.get_text_by_id(book)\n",
    "  clean_book = gutenbergpy.textget.strip_headers(raw_book)\n",
    "  if not outfile:\n",
    "    outfile = f'{book}.txt'\n",
    "    print(f\"Saving book as {outfile}\")\n",
    "  with open(outfile, 'wb') as file:\n",
    "    file.write(clean_book)\n",
    "    file.close()"
   ]
  },
  {
   "cell_type": "code",
   "execution_count": 79,
   "id": "436572e2-c3c2-4172-a4b0-885de8362136",
   "metadata": {
    "tags": []
   },
   "outputs": [
    {
     "name": "stdout",
     "output_type": "stream",
     "text": [
      "C:\\Users\\gpwal\\derbipie-semantics\\texts\n"
     ]
    }
   ],
   "source": [
    "# creating a directory path to store PG texts\n",
    "directory_path = os.path.join(os.environ['USERPROFILE'],'derbipie-semantics','texts')\n",
    "print(directory_path)"
   ]
  },
  {
   "cell_type": "code",
   "execution_count": 84,
   "id": "f07365d1-a296-4bd5-ae1d-a6c98a70561f",
   "metadata": {
    "tags": []
   },
   "outputs": [],
   "source": [
    "# these are Project Gutenberg IDs and information\n",
    "caesar_ids = [218, 18837, 29645]\n",
    "caesar_files = [f\"{x}.txt\" for x in caesar_ids]\n",
    "caesar_titles = [\"Bello Gallico I-IV\", \"Bello Gallico V-VII\", \"The Gate to Caesar\"]\n",
    "cicero_ids = [14970, 226, 47001]\n",
    "cicero_files = [f\"{x}.txt\" for x in cicero_ids]\n",
    "cicero_titles = [\"Academia\", \"Orations\", \"De Officiis\"]"
   ]
  },
  {
   "cell_type": "code",
   "execution_count": 85,
   "id": "eb5f02ef-2dfa-4b2e-9cd8-5d84ed043b74",
   "metadata": {
    "tags": []
   },
   "outputs": [
    {
     "name": "stdout",
     "output_type": "stream",
     "text": [
      "Downloading Project Gutenberg ID 218\n",
      "Saving book as 218.txt\n",
      "Downloading Project Gutenberg ID 18837\n",
      "Saving book as 18837.txt\n",
      "Downloading Project Gutenberg ID 29645\n",
      "Saving book as 29645.txt\n",
      "Downloading Project Gutenberg ID 14970\n",
      "Saving book as 14970.txt\n",
      "Downloading Project Gutenberg ID 226\n",
      "Saving book as 226.txt\n",
      "Downloading Project Gutenberg ID 47001\n",
      "Saving book as 47001.txt\n"
     ]
    }
   ],
   "source": [
    "# downloading Project Gutenberg texts\n",
    "foo = [getbook(x, f\"{x}.txt\" in directory_path) for x in caesar_ids]\n",
    "foo = [getbook(x, f\"{x}.txt\" in directory_path) for x in cicero_ids]"
   ]
  },
  {
   "cell_type": "code",
   "execution_count": 91,
   "id": "9f2f23ae-5bd5-4ffc-8bd0-ac220fe13a3e",
   "metadata": {
    "tags": []
   },
   "outputs": [],
   "source": [
    "def get_unigram_counts(path):\n",
    "  \"\"\"\n",
    "    Given a path, generate a counter dictionary of unigrams\n",
    "  \"\"\"\n",
    "  with open(path, 'r', encoding=\"utf-8\") as f:\n",
    "    text = f.read()\n",
    "  text = text.replace(\"\\n\", \" \").lower()\n",
    "  unigrams = RegexpTokenizer(r\"\\w+\").tokenize(text)\n",
    "  count = Counter(unigrams)\n",
    "  return(count)"
   ]
  },
  {
   "cell_type": "code",
   "execution_count": 90,
   "id": "988976f2-d67b-4d39-b024-6020b3ea80e5",
   "metadata": {
    "tags": []
   },
   "outputs": [],
   "source": [
    "# creating a function to count the instances of words in texts\n",
    "def get_term_count(book_dict, term):\n",
    "  \"\"\"\n",
    "    return a list of the number of times a term has appeared\n",
    "    in a book\n",
    "  \"\"\"\n",
    "  out = [book_dict[book][term] for book in book_dict]\n",
    "  return(out)"
   ]
  },
  {
   "cell_type": "code",
   "execution_count": 86,
   "id": "8ae4674c-75be-4fa2-a77b-1289db4ce7da",
   "metadata": {
    "tags": []
   },
   "outputs": [],
   "source": [
    "caesar_words = {k:get_unigram_counts(v) \n",
    "                    for k, v in zip(caesar_titles, caesar_files)}\n",
    "cicero_words = {k:get_unigram_counts(v) \n",
    "                    for k, v in zip(cicero_titles, cicero_files)}"
   ]
  },
  {
   "cell_type": "code",
   "execution_count": 92,
   "id": "ec55c75a-1fbc-4355-8f2c-c22af3a33cc1",
   "metadata": {
    "tags": []
   },
   "outputs": [],
   "source": [
    "# counting the number of times 'ego' and 'magnus' appear in the texts downloaded from PG\n",
    "ego = [\"ego\"] + \\\n",
    "          get_term_count(caesar_words, \"ego\") + \\\n",
    "          get_term_count(cicero_words, \"ego\")\n",
    "magnus  = [\"magnus\"] + \\\n",
    "          get_term_count(caesar_words, \"magnus\") + \\\n",
    "          get_term_count(cicero_words, \"magnus\")"
   ]
  },
  {
   "cell_type": "code",
   "execution_count": 93,
   "id": "86ca4381-7854-4235-bad9-fa8e3fbc0401",
   "metadata": {
    "tags": []
   },
   "outputs": [
    {
     "name": "stdout",
     "output_type": "stream",
     "text": [
      "['ego', 1, 4, 1, 29, 61, 10]\n",
      "['magnus', 0, 10, 0, 4, 0, 5]\n"
     ]
    }
   ],
   "source": [
    "print(ego)\n",
    "print(magnus)"
   ]
  },
  {
   "cell_type": "code",
   "execution_count": 134,
   "id": "acc90dd0-7b3a-40fa-8b30-3bf8c9ba56ce",
   "metadata": {
    "tags": []
   },
   "outputs": [
    {
     "name": "stdout",
     "output_type": "stream",
     "text": [
      "[['id',\n",
      "  'facilius',\n",
      "  'iis',\n",
      "  'persuasit',\n",
      "  'undique',\n",
      "  'loci',\n",
      "  'natura',\n",
      "  'helvetii',\n",
      "  'continentur',\n",
      "  'una',\n",
      "  'parte',\n",
      "  'flumine',\n",
      "  'rheno',\n",
      "  'latissimo',\n",
      "  'altissimo',\n",
      "  'agrum',\n",
      "  'helvetium',\n",
      "  'germanis',\n",
      "  'dividit',\n",
      "  'altera',\n",
      "  'parte',\n",
      "  'monte',\n",
      "  'iura',\n",
      "  'altissimo',\n",
      "  'inter',\n",
      "  'sequanos',\n",
      "  'helvetios',\n",
      "  'tertia',\n",
      "  'lacu',\n",
      "  'lemanno',\n",
      "  'flumine',\n",
      "  'rhodano',\n",
      "  'provinciam',\n",
      "  'nostram',\n",
      "  'helvetiis',\n",
      "  'dividit'],\n",
      " ['his',\n",
      "  'fiebat',\n",
      "  'minus',\n",
      "  'late',\n",
      "  'vagarentur',\n",
      "  'minus',\n",
      "  'facile',\n",
      "  'finitimis',\n",
      "  'bellum',\n",
      "  'inferre',\n",
      "  'possent',\n",
      "  'parte',\n",
      "  'homines',\n",
      "  'bellandi',\n",
      "  'cupidi',\n",
      "  'magno',\n",
      "  'dolore',\n",
      "  'adficiebantur']]\n"
     ]
    }
   ],
   "source": [
    "# preparing Bello Gallico I-IV for NLP by tokenizing it and removing stop words\n",
    "with open (f\"{directory_path}/218.txt\", 'r') as f:\n",
    "  text = f.read()\n",
    "  \n",
    "text = text.replace(\"\\n\", \" \").lower()\n",
    "sentences = sent_tokenize(text)\n",
    "sent_word = [RegexpTokenizer(r\"\\w+\").tokenize(sent) for sent in sentences]\n",
    "corpus = [[w for w in sent if not w in stopwords.words('latin.txt')] for sent in sent_word]\n",
    "pprint(corpus[10:12])"
   ]
  },
  {
   "cell_type": "code",
   "execution_count": 145,
   "id": "1f8a246e-d90d-4fa0-bdea-379e3b862c01",
   "metadata": {
    "tags": []
   },
   "outputs": [],
   "source": [
    "# finding the most similar words to 'venire' in Bello Gallico I-IV\n",
    "model = Word2Vec(sentences = corpus, \n",
    "                 vector_size = 100, \n",
    "                 window = 100,\n",
    "                 epochs = 100)"
   ]
  },
  {
   "cell_type": "code",
   "execution_count": 157,
   "id": "e81de027-f7ee-48ad-9faa-1f0f22c8ec79",
   "metadata": {
    "tags": []
   },
   "outputs": [
    {
     "name": "stdout",
     "output_type": "stream",
     "text": [
      "----------  --------\n",
      "illis       0.56661\n",
      "contendere  0.563266\n",
      "iterum      0.55816\n",
      "populum     0.530913\n",
      "suo         0.530778\n",
      "iniuria     0.52862\n",
      "romanum     0.523138\n",
      "beneficio   0.51861\n",
      "gratiam     0.517732\n",
      "communi     0.503737\n",
      "----------  --------\n"
     ]
    }
   ],
   "source": [
    "print(\n",
    "  tabulate(\n",
    "    model.wv.most_similar(\"venire\")\n",
    "  )\n",
    ")"
   ]
  },
  {
   "cell_type": "code",
   "execution_count": 104,
   "id": "c770e9e7-9aaf-4361-a91a-5e28b5236243",
   "metadata": {
    "tags": []
   },
   "outputs": [],
   "source": [
    "# getting all of the word vectors in BGI-IV and plotting them\n",
    "bellogallico1_matrix = model.wv.get_normed_vectors()"
   ]
  },
  {
   "cell_type": "code",
   "execution_count": 105,
   "id": "e1808823-8497-43b0-ace8-c706ab7d5a86",
   "metadata": {
    "tags": []
   },
   "outputs": [
    {
     "data": {
      "text/plain": [
       "(675, 100)"
      ]
     },
     "execution_count": 105,
     "metadata": {},
     "output_type": "execute_result"
    }
   ],
   "source": [
    "bellogallico1_matrix.shape"
   ]
  },
  {
   "cell_type": "code",
   "execution_count": 106,
   "id": "66e7fc17-8dfe-4bfd-a37e-66f5b9ed3835",
   "metadata": {
    "tags": []
   },
   "outputs": [],
   "source": [
    "tsne = TSNE(n_components=2, perplexity = 5)\n",
    "projections = tsne.fit_transform(bellogallico1_matrix)"
   ]
  },
  {
   "cell_type": "code",
   "execution_count": 107,
   "id": "ea491ad9-2868-4cd2-b14f-aefe84e07f84",
   "metadata": {
    "tags": []
   },
   "outputs": [],
   "source": [
    "vocab = model.wv.index_to_key"
   ]
  },
  {
   "cell_type": "code",
   "execution_count": 184,
   "id": "e08eaa04-19b1-47e4-a164-f62c44cdb6e8",
   "metadata": {
    "tags": []
   },
   "outputs": [
    {
     "data": {
      "application/vnd.plotly.v1+json": {
       "config": {
        "plotlyServerURL": "https://plot.ly"
       },
       "data": [
        {
         "hovertemplate": "<b>%{hovertext}</b><br><br>0=%{x}<br>1=%{y}<extra></extra>",
         "hovertext": [
          "se",
          "esse",
          "caesar",
          "his",
          "eo",
          "sibi",
          "eorum",
          "eos",
          "castris",
          "omnibus",
          "ne",
          "iis",
          "eius",
          "eum",
          "castra",
          "ea",
          "id",
          "causa",
          "omnes",
          "hostes",
          "uti",
          "sese",
          "romani",
          "bellum",
          "propter",
          "suis",
          "quos",
          "hostium",
          "proelio",
          "ubi",
          "fines",
          "partem",
          "populi",
          "nostri",
          "esset",
          "exercitum",
          "possent",
          "caesarem",
          "inter",
          "rhenum",
          "ipse",
          "suos",
          "loco",
          "milia",
          "posse",
          "nostros",
          "flumen",
          "quid",
          "pro",
          "parte",
          "gallia",
          "nostris",
          "locum",
          "una",
          "omnia",
          "galliae",
          "quorum",
          "finibus",
          "magno",
          "sua",
          "armis",
          "naves",
          "rei",
          "obsides",
          "hostibus",
          "posset",
          "iam",
          "circiter",
          "milites",
          "die",
          "legatos",
          "hominum",
          "apud",
          "eam",
          "sine",
          "quas",
          "navibus",
          "ante",
          "nihil",
          "tempore",
          "belli",
          "item",
          "helvetii",
          "copiis",
          "essent",
          "passuum",
          "omnium",
          "legiones",
          "iter",
          "locis",
          "copias",
          "itinere",
          "satis",
          "omni",
          "quem",
          "ibi",
          "itaque",
          "equites",
          "proelium",
          "consilio",
          "minus",
          "primum",
          "nam",
          "numero",
          "facta",
          "suo",
          "rerum",
          "ariovistus",
          "galliam",
          "celeriter",
          "magna",
          "militum",
          "eodem",
          "tempus",
          "bello",
          "facere",
          "fere",
          "multitudine",
          "iussit",
          "ipsi",
          "civitates",
          "fuga",
          "virtute",
          "propterea",
          "caesaris",
          "unum",
          "legati",
          "caesari",
          "illi",
          "tanta",
          "tum",
          "auxilium",
          "eas",
          "suas",
          "oppidum",
          "equitatu",
          "post",
          "interim",
          "hac",
          "trans",
          "aciem",
          "oppido",
          "pars",
          "transire",
          "fuit",
          "exercitus",
          "germani",
          "homines",
          "contendit",
          "habere",
          "seque",
          "contra",
          "romano",
          "milibus",
          "coeperunt",
          "l",
          "gallorum",
          "gallis",
          "c",
          "suam",
          "navium",
          "fluminis",
          "longius",
          "helvetios",
          "misit",
          "tela",
          "subito",
          "flumine",
          "uno",
          "periculo",
          "hi",
          "numerum",
          "eadem",
          "totius",
          "natura",
          "loci",
          "quin",
          "omnem",
          "amplius",
          "reliquos",
          "spe",
          "helvetiorum",
          "caesare",
          "haeduorum",
          "nostrorum",
          "adventu",
          "prius",
          "haeduos",
          "vi",
          "diem",
          "multis",
          "magnam",
          "facile",
          "paucis",
          "milium",
          "provinciam",
          "sub",
          "undique",
          "ei",
          "modo",
          "agris",
          "arma",
          "x",
          "vero",
          "agros",
          "nisi",
          "pace",
          "proeliis",
          "fidem",
          "multitudinem",
          "compluribus",
          "dies",
          "diebus",
          "longe",
          "populo",
          "nocte",
          "fieri",
          "habebat",
          "haeduis",
          "germanorum",
          "postea",
          "omnino",
          "germanos",
          "legatis",
          "facto",
          "superiore",
          "cuius",
          "impetum",
          "diutius",
          "militibus",
          "legionibus",
          "helvetiis",
          "ariovisti",
          "reliquis",
          "legatum",
          "enim",
          "magnum",
          "suum",
          "q",
          "p",
          "certior",
          "quarum",
          "sit",
          "poterant",
          "fecerunt",
          "equitum",
          "provinciae",
          "amicitiam",
          "civitatis",
          "existimabat",
          "partes",
          "hostem",
          "constituit",
          "summa",
          "romanorum",
          "is",
          "omnis",
          "contenderunt",
          "sequanos",
          "ob",
          "opere",
          "habebant",
          "frumentum",
          "silvas",
          "domum",
          "supra",
          "duas",
          "spatio",
          "diei",
          "reliqui",
          "ariovistum",
          "rursus",
          "ferre",
          "sui",
          "xii",
          "pugnatum",
          "iubet",
          "sequanis",
          "coepit",
          "vim",
          "arbitrabatur",
          "suaque",
          "paulo",
          "crassus",
          "factus",
          "pedum",
          "britanniam",
          "germanis",
          "tam",
          "m",
          "magis",
          "consuetudine",
          "solum",
          "pugnae",
          "ipsis",
          "haedui",
          "oratione",
          "inde",
          "pugna",
          "complures",
          "romanum",
          "fore",
          "usus",
          "fecisset",
          "oppida",
          "oppidis",
          "factum",
          "summam",
          "hunc",
          "maxime",
          "populum",
          "secum",
          "simul",
          "senatu",
          "hos",
          "exercitu",
          "respondit",
          "potestatem",
          "fugam",
          "iure",
          "mittit",
          "tertia",
          "impedimenta",
          "reliqua",
          "celeritate",
          "tantum",
          "sive",
          "vigilia",
          "annos",
          "t",
          "civitate",
          "earum",
          "praeter",
          "frumento",
          "commode",
          "nationes",
          "plurimum",
          "petere",
          "alia",
          "impedimentis",
          "nostra",
          "receperunt",
          "idem",
          "vulneribus",
          "agri",
          "belgis",
          "hanc",
          "saepe",
          "signa",
          "praesidio",
          "domo",
          "virtutis",
          "venire",
          "dare",
          "imperio",
          "legionem",
          "legionis",
          "sequanorum",
          "altitudinem",
          "equitatus",
          "voluntate",
          "agmen",
          "haberent",
          "nostram",
          "spem",
          "opus",
          "quantum",
          "pervenit",
          "iniuria",
          "adducti",
          "ipsos",
          "pacem",
          "prima",
          "facilius",
          "castrorum",
          "usui",
          "vellet",
          "loca",
          "suae",
          "legione",
          "haberet",
          "influit",
          "imperium",
          "montem",
          "latitudinem",
          "spatium",
          "mittunt",
          "auctoritate",
          "memoria",
          "superioribus",
          "ostendit",
          "magnis",
          "dictum",
          "gallos",
          "animo",
          "itineribus",
          "navi",
          "gravius",
          "romanos",
          "conloquio",
          "quicquam",
          "has",
          "equitatum",
          "reliquum",
          "modum",
          "romanis",
          "quaeque",
          "fortunam",
          "acie",
          "huic",
          "reliquae",
          "iiii",
          "salutem",
          "praeerat",
          "oporteret",
          "paulatim",
          "concilio",
          "xv",
          "pervenerunt",
          "equis",
          "cohortatus",
          "latere",
          "aperto",
          "timore",
          "acriter",
          "vallo",
          "salutis",
          "barbari",
          "consilii",
          "reverti",
          "confecto",
          "gratiam",
          "tenere",
          "primo",
          "quisque",
          "venerunt",
          "deinde",
          "muro",
          "remis",
          "duae",
          "viribus",
          "ii",
          "profectus",
          "diu",
          "fugae",
          "acceptis",
          "venerant",
          "sint",
          "crasso",
          "etsi",
          "barbaris",
          "regionibus",
          "quoque",
          "facerent",
          "collis",
          "causam",
          "opinionem",
          "obsidibus",
          "incensis",
          "temporis",
          "ratio",
          "multa",
          "traditis",
          "miserunt",
          "mercatores",
          "dixerunt",
          "potuit",
          "sustinere",
          "horum",
          "victis",
          "acies",
          "sabinus",
          "arbitratus",
          "civitas",
          "videbat",
          "cohortibus",
          "huc",
          "hoste",
          "altera",
          "monte",
          "fecit",
          "reduxit",
          "finitimis",
          "spes",
          "consilium",
          "reliquisque",
          "exercitatione",
          "magnitudine",
          "subsidio",
          "venisse",
          "statim",
          "frumenti",
          "civitatibus",
          "conloquium",
          "belgarum",
          "oportere",
          "initium",
          "belgas",
          "vii",
          "constiterunt",
          "remorum",
          "plerumque",
          "numerus",
          "fieret",
          "gratia",
          "publicae",
          "viderentur",
          "impeditos",
          "ire",
          "capere",
          "illum",
          "faceret",
          "magnopere",
          "provincia",
          "poterat",
          "cognitis",
          "italiam",
          "alii",
          "locus",
          "nomine",
          "victoria",
          "alias",
          "venit",
          "possit",
          "possint",
          "agmine",
          "intellexit",
          "labienum",
          "summo",
          "faciunt",
          "postridie",
          "existimavit",
          "exploratores",
          "impetus",
          "prohibere",
          "frumentaria",
          "extremum",
          "statuit",
          "manibus",
          "cornu",
          "genere",
          "partibus",
          "solis",
          "terga",
          "velint",
          "potuerunt",
          "multum",
          "proximi",
          "fuisset",
          "idoneum",
          "oceano",
          "dato",
          "dc",
          "coicerent",
          "pugnandi",
          "conspectu",
          "equitatumque",
          "telum",
          "equitibus",
          "discedere",
          "missa",
          "vellent",
          "suebis",
          "quare",
          "occiderunt",
          "tres",
          "diximus",
          "portis",
          "accidit",
          "tantae",
          "paulum",
          "interfecto",
          "constabat",
          "imperii",
          "aliae",
          "reliquas",
          "praedandi",
          "aedificiis",
          "dierum",
          "galli",
          "reciperent",
          "causis",
          "futurum",
          "regiones",
          "dixit",
          "tertiam",
          "obsidesque",
          "impetu",
          "viii",
          "volebat",
          "beneficio",
          "belgae",
          "incolunt",
          "mari",
          "anni",
          "contenderent",
          "auxilia",
          "praesertim",
          "convenirent",
          "civitatum",
          "nondum",
          "exploratoribus",
          "amissis",
          "condicionem",
          "finem",
          "paene",
          "principes",
          "communi",
          "multitudo",
          "agere",
          "contendere",
          "illis",
          "d",
          "iterum",
          "liberos",
          "diviciaci",
          "dicere",
          "sequi",
          "unde",
          "ipsius",
          "contulerunt",
          "perterritos",
          "pugnam",
          "frumentariae",
          "aberat",
          "intervallo",
          "rhodanum",
          "multo",
          "nulli",
          "prope",
          "allobrogum",
          "nullis",
          "perterriti",
          "teneri",
          "imperavit",
          "v",
          "cui",
          "necessario",
          "an",
          "domi",
          "aliis",
          "usum",
          "tenebat",
          "centurionibus",
          "itineris",
          "proxima",
          "isdem",
          "amicus",
          "virtutem",
          "plus",
          "secuti",
          "abesse",
          "cognito",
          "propius",
          "ultro",
          "paucos",
          "utraque",
          "permoti",
          "facultatem",
          "auderent",
          "facultas",
          "daretur",
          "intra",
          "diviciacum",
          "utrisque",
          "proficisci",
          "summum",
          "praeterea",
          "senatus",
          "legio",
          "pontem",
          "copia",
          "auxilio",
          "sueborum",
          "occupatis"
         ],
         "legendgroup": "",
         "marker": {
          "color": "#636efa",
          "symbol": "circle"
         },
         "mode": "markers",
         "name": "",
         "orientation": "v",
         "showlegend": false,
         "type": "scatter",
         "x": [
          -44.98458480834961,
          -30.910511016845703,
          -19.066925048828125,
          -0.07296422868967056,
          -51.617374420166016,
          -54.85916519165039,
          -7.047913551330566,
          -22.831995010375977,
          47.23501968383789,
          13.986089706420898,
          -32.154151916503906,
          34.27678680419922,
          -2.2590317726135254,
          27.145315170288086,
          28.38319206237793,
          25.753284454345703,
          -58.643062591552734,
          7.043636322021484,
          2.041818857192993,
          23.765756607055664,
          -14.081442832946777,
          -38.059024810791016,
          -42.871971130371094,
          -31.95488929748535,
          -1.4085826873779297,
          -8.645160675048828,
          54.36343765258789,
          35.90351104736328,
          -10.327035903930664,
          18.602933883666992,
          -14.942527770996094,
          32.50099563598633,
          -42.98359298706055,
          20.11966896057129,
          -9.898000717163086,
          21.259719848632812,
          -2.9311985969543457,
          -31.845291137695312,
          -21.5266170501709,
          9.318208694458008,
          20.618558883666992,
          -12.539937973022461,
          41.930843353271484,
          55.6616096496582,
          -41.641239166259766,
          20.83899688720703,
          10.694253921508789,
          -61.135353088378906,
          39.01655578613281,
          27.660202026367188,
          -60.36246871948242,
          33.32635498046875,
          -17.072132110595703,
          31.695756912231445,
          -38.65039825439453,
          -13.725846290588379,
          -9.732192993164062,
          10.411725997924805,
          38.602073669433594,
          -60.65556716918945,
          -28.894577026367188,
          20.62763023376465,
          -41.233001708984375,
          -34.00040054321289,
          4.886430740356445,
          -38.37064743041992,
          -13.45949935913086,
          58.5222282409668,
          19.081222534179688,
          9.632852554321289,
          -28.97878646850586,
          54.71962356567383,
          -22.988908767700195,
          -26.401823043823242,
          -60.6013069152832,
          16.524948120117188,
          5.9657182693481445,
          -0.11625371128320694,
          -18.85700798034668,
          8.454834938049316,
          -56.08147430419922,
          57.20186996459961,
          -21.40898895263672,
          51.54643249511719,
          -33.6171760559082,
          56.46311569213867,
          6.63346529006958,
          28.370874404907227,
          -52.70464324951172,
          10.533608436584473,
          0.4739739000797272,
          36.10394287109375,
          -41.16264343261719,
          34.68251419067383,
          -22.40144920349121,
          50.12416076660156,
          37.66838836669922,
          23.217634201049805,
          25.183727264404297,
          -11.54181957244873,
          -42.038578033447266,
          29.40715789794922,
          -4.362380027770996,
          39.360679626464844,
          -9.565738677978516,
          -55.89607238769531,
          2.1815104484558105,
          -16.375232696533203,
          -54.74711608886719,
          -2.5237174034118652,
          5.71370267868042,
          -11.939986228942871,
          -47.06692123413086,
          -55.78682327270508,
          -12.654010772705078,
          -57.32813262939453,
          36.62224578857422,
          42.86308670043945,
          44.43726348876953,
          39.95511245727539,
          -47.076560974121094,
          41.938053131103516,
          7.817137241363525,
          -33.66474914550781,
          -11.3263521194458,
          -13.835769653320312,
          -26.055618286132812,
          -50.62667465209961,
          -26.301816940307617,
          4.152164936065674,
          17.476673126220703,
          -58.332462310791016,
          0.1509169638156891,
          -15.302300453186035,
          17.834392547607422,
          19.511457443237305,
          16.316755294799805,
          -8.40116024017334,
          31.892822265625,
          10.550904273986816,
          38.750762939453125,
          11.218353271484375,
          28.2170352935791,
          11.170424461364746,
          -7.681815147399902,
          -8.8326997756958,
          1.049837589263916,
          -31.654367446899414,
          15.69200325012207,
          -20.729984283447266,
          -34.36863327026367,
          -63.1525764465332,
          -38.07745361328125,
          56.09973907470703,
          15.038416862487793,
          21.918428421020508,
          -19.156200408935547,
          4.153264045715332,
          -10.659479141235352,
          -35.60264205932617,
          -3.533890962600708,
          63.9609489440918,
          23.17665672302246,
          -17.73224639892578,
          22.075942993164062,
          19.520679473876953,
          34.807762145996094,
          32.568031311035156,
          -46.80877685546875,
          -61.66230392456055,
          -24.262367248535156,
          29.054208755493164,
          0.08118739724159241,
          -16.7076416015625,
          9.386128425598145,
          9.732033729553223,
          -54.759456634521484,
          45.59321975708008,
          56.4029541015625,
          28.632314682006836,
          2.6247398853302,
          -1.3127466440200806,
          -62.10040283203125,
          -15.835029602050781,
          -16.117666244506836,
          -9.442431449890137,
          -30.423507690429688,
          -37.04633712768555,
          33.4785041809082,
          -41.74892044067383,
          2.6088287830352783,
          3.649137020111084,
          -38.60271072387695,
          1.777512788772583,
          59.04857635498047,
          -53.83027648925781,
          31.398794174194336,
          44.9210205078125,
          -56.63518524169922,
          -27.834882736206055,
          12.951319694519043,
          -1.9929933547973633,
          65.40846252441406,
          20.96476936340332,
          -17.64209747314453,
          -19.027355194091797,
          -29.981351852416992,
          7.998678207397461,
          -50.52638626098633,
          -3.253098726272583,
          9.3971586227417,
          47.76286315917969,
          2.5865166187286377,
          9.193825721740723,
          -63.54612350463867,
          28.16707992553711,
          -59.8598747253418,
          4.951990604400635,
          -32.370487213134766,
          6.624828815460205,
          58.188804626464844,
          -5.560450553894043,
          -8.4320068359375,
          -25.763132095336914,
          -14.074105262756348,
          39.58069610595703,
          -13.143386840820312,
          23.193954467773438,
          -47.40962600708008,
          8.8719482421875,
          20.06056022644043,
          -53.623844146728516,
          3.6821861267089844,
          17.541170120239258,
          22.653759002685547,
          -27.41913604736328,
          30.642017364501953,
          -26.322160720825195,
          24.583276748657227,
          24.81839370727539,
          7.939155101776123,
          1.2913280725479126,
          -62.71352767944336,
          -37.84062957763672,
          24.768800735473633,
          23.246421813964844,
          -16.46383285522461,
          -44.21476364135742,
          -33.29669189453125,
          46.23173904418945,
          -16.99680519104004,
          25.19205665588379,
          37.378448486328125,
          -0.33341163396835327,
          19.176307678222656,
          -22.44525146484375,
          -5.32758092880249,
          44.661014556884766,
          -22.179088592529297,
          -27.241100311279297,
          43.259891510009766,
          -40.21437454223633,
          -6.94171667098999,
          -14.737943649291992,
          45.461185455322266,
          55.88077926635742,
          26.136728286743164,
          59.38801956176758,
          -2.541158676147461,
          10.740375518798828,
          -44.16239929199219,
          16.51445960998535,
          -1.667647123336792,
          -29.443262100219727,
          59.13983917236328,
          -11.650398254394531,
          -49.40190887451172,
          -32.12358474731445,
          15.83798599243164,
          -50.24046325683594,
          -46.17167282104492,
          -37.590553283691406,
          25.54107093811035,
          24.59597396850586,
          7.334661483764648,
          60.143898010253906,
          2.933044672012329,
          -2.4040634632110596,
          -30.788803100585938,
          25.379961013793945,
          -10.422730445861816,
          -59.979835510253906,
          -24.079830169677734,
          -45.80121994018555,
          -30.963102340698242,
          -32.55021286010742,
          -32.185508728027344,
          18.868785858154297,
          -32.76814651489258,
          32.5264892578125,
          -62.37188720703125,
          -35.851593017578125,
          -4.815037250518799,
          -44.79014587402344,
          -38.90868377685547,
          32.898799896240234,
          -6.197804927825928,
          61.8697509765625,
          24.14434051513672,
          -48.115840911865234,
          -62.32453536987305,
          -55.13512420654297,
          22.33057403564453,
          -58.839927673339844,
          9.374509811401367,
          21.621793746948242,
          -14.820833206176758,
          -43.892486572265625,
          26.138139724731445,
          -46.063621520996094,
          -27.484933853149414,
          29.332971572875977,
          32.62675857543945,
          33.20979309082031,
          21.405500411987305,
          15.718596458435059,
          -4.694915771484375,
          23.69427490234375,
          -32.5462532043457,
          21.52675437927246,
          -58.4838981628418,
          2.241097927093506,
          -12.529258728027344,
          32.804447174072266,
          -39.3937873840332,
          -34.168643951416016,
          -21.426677703857422,
          41.24613952636719,
          24.03521156311035,
          33.192138671875,
          36.42707061767578,
          -19.680400848388672,
          -14.643708229064941,
          43.61489486694336,
          -12.171966552734375,
          -11.694869995117188,
          -35.32838439941406,
          40.103397369384766,
          28.075613021850586,
          44.847049713134766,
          -9.687919616699219,
          -31.306917190551758,
          -44.42057418823242,
          -35.19664764404297,
          -43.93309020996094,
          67.26272583007812,
          66.3685302734375,
          -16.171571731567383,
          63.74542236328125,
          30.910627365112305,
          -48.96025466918945,
          23.5361328125,
          -4.574373722076416,
          -54.216400146484375,
          -39.640716552734375,
          -10.854166984558105,
          -9.422483444213867,
          11.273725509643555,
          -58.91925048828125,
          2.1622445583343506,
          -29.92201805114746,
          -44.453285217285156,
          29.119932174682617,
          18.683191299438477,
          60.96480178833008,
          35.601192474365234,
          -58.668312072753906,
          -58.03923034667969,
          -55.3214111328125,
          50.786251068115234,
          -33.734134674072266,
          8.791420936584473,
          -30.59465980529785,
          -18.589879989624023,
          63.30637741088867,
          31.400238037109375,
          -30.425867080688477,
          41.551048278808594,
          8.371471405029297,
          8.595149040222168,
          -56.505104064941406,
          16.029621124267578,
          1.11110258102417,
          0.10339817404747009,
          -56.296974182128906,
          15.659751892089844,
          15.525259971618652,
          -59.72988510131836,
          62.541412353515625,
          -42.08335494995117,
          -6.903515815734863,
          5.206697463989258,
          44.43303298950195,
          -33.00550842285156,
          25.366554260253906,
          -60.36968994140625,
          19.791685104370117,
          -29.997804641723633,
          37.66611862182617,
          51.05154800415039,
          28.291784286499023,
          57.39999771118164,
          41.47865295410156,
          30.470943450927734,
          -35.99827575683594,
          32.87760925292969,
          -46.711692810058594,
          55.49164581298828,
          54.73735046386719,
          17.452211380004883,
          24.022491455078125,
          28.552017211914062,
          39.26650619506836,
          34.773643493652344,
          -11.478482246398926,
          61.34990692138672,
          5.782916069030762,
          15.015445709228516,
          -60.221500396728516,
          -12.278141975402832,
          -1.1412348747253418,
          -44.38600540161133,
          27.40821075439453,
          2.8869643211364746,
          -38.463138580322266,
          -27.516977310180664,
          -28.21625328063965,
          20.734872817993164,
          57.39497756958008,
          29.293014526367188,
          20.745471954345703,
          35.84200668334961,
          18.0198917388916,
          -12.322501182556152,
          33.76908493041992,
          44.10038375854492,
          52.315147399902344,
          -29.171375274658203,
          6.064426422119141,
          -4.511213302612305,
          0.30422189831733704,
          15.555110931396484,
          -12.376376152038574,
          31.26791763305664,
          29.110145568847656,
          -41.12766647338867,
          -14.341643333435059,
          -30.968076705932617,
          11.814031600952148,
          42.99879455566406,
          -38.54277038574219,
          7.194860935211182,
          -29.34415054321289,
          -30.827545166015625,
          -5.519514083862305,
          -33.83662414550781,
          15.609163284301758,
          -3.8442440032958984,
          2.446115732192993,
          -7.628783226013184,
          42.11384582519531,
          20.125181198120117,
          -40.37356948852539,
          -6.93224573135376,
          -37.3919792175293,
          20.01235580444336,
          44.36957931518555,
          54.31631851196289,
          28.115455627441406,
          49.58934020996094,
          25.989084243774414,
          28.048601150512695,
          32.90604782104492,
          -4.745215892791748,
          -35.37635803222656,
          4.370143413543701,
          -18.867523193359375,
          -0.620648205280304,
          36.415672302246094,
          -48.66878890991211,
          -31.108747482299805,
          -39.485069274902344,
          2.940490961074829,
          -49.49748611450195,
          -15.390704154968262,
          -47.05168151855469,
          -6.666007995605469,
          1.7259122133255005,
          52.137516021728516,
          15.653932571411133,
          -8.304665565490723,
          15.910604476928711,
          58.81458282470703,
          22.518280029296875,
          -20.130144119262695,
          -40.082271575927734,
          61.611045837402344,
          17.226415634155273,
          -14.031529426574707,
          -26.089630126953125,
          -61.46665573120117,
          -45.477725982666016,
          -31.288057327270508,
          -6.764262676239014,
          -26.673011779785156,
          -30.54620361328125,
          18.777620315551758,
          30.56325912475586,
          49.51860046386719,
          53.985748291015625,
          -56.892234802246094,
          -14.920404434204102,
          -23.569026947021484,
          19.61978530883789,
          -31.802227020263672,
          27.210418701171875,
          14.538649559020996,
          21.655899047851562,
          31.891006469726562,
          -36.660362243652344,
          -2.782402276992798,
          -33.767147064208984,
          7.816760063171387,
          7.2605719566345215,
          12.74162769317627,
          38.16812515258789,
          35.03566360473633,
          13.168020248413086,
          16.9627742767334,
          41.394371032714844,
          17.74785041809082,
          51.2545051574707,
          -20.229259490966797,
          22.17714500427246,
          -35.547935485839844,
          23.178003311157227,
          11.048389434814453,
          -7.754485607147217,
          50.04191589355469,
          -13.848681449890137,
          9.324319839477539,
          21.330366134643555,
          53.72504806518555,
          20.258331298828125,
          1.1750236749649048,
          -0.4746899902820587,
          45.328372955322266,
          -4.605487823486328,
          2.417874336242676,
          -30.099428176879883,
          17.338699340820312,
          -56.38948059082031,
          -60.44866943359375,
          -27.72882843017578,
          31.322446823120117,
          -7.0457377433776855,
          55.564334869384766,
          7.623751163482666,
          -3.2914998531341553,
          -5.96266508102417,
          11.872319221496582,
          38.05577087402344,
          38.2567138671875,
          61.5654182434082,
          20.53919219970703,
          26.322429656982422,
          9.509833335876465,
          12.19530963897705,
          -9.558156967163086,
          43.7692985534668,
          15.606375694274902,
          13.701359748840332,
          -31.510942459106445,
          0.5259081721305847,
          -52.50123977661133,
          2.6888973712921143,
          -34.99774169921875,
          37.62779998779297,
          53.76358413696289,
          -22.31329917907715,
          -57.06430435180664,
          -6.776144027709961,
          8.216232299804688,
          9.134008407592773,
          -56.718231201171875,
          -6.957610607147217,
          -48.243804931640625,
          -4.717465400695801,
          45.280887603759766,
          -24.28602409362793,
          8.109254837036133,
          7.3075175285339355,
          4.98178243637085,
          -30.278575897216797,
          -50.07481002807617,
          5.808642864227295,
          -28.982929229736328,
          -19.332019805908203,
          33.27193832397461,
          -22.16864013671875,
          -20.86585807800293,
          -4.331297397613525,
          53.40739059448242,
          -31.296585083007812,
          -34.54885482788086,
          -54.98236846923828,
          -48.546871185302734,
          -20.541982650756836,
          24.930335998535156,
          40.85286331176758,
          10.133163452148438,
          27.093868255615234,
          36.679786682128906,
          -39.77783966064453,
          -8.32470703125,
          59.84524917602539,
          9.285511016845703,
          -17.913257598876953,
          -25.701208114624023,
          58.173866271972656,
          -1.2385990619659424,
          -29.108463287353516,
          16.124038696289062,
          2.4763877391815186,
          -27.92141342163086,
          46.41349411010742,
          62.102115631103516,
          -31.305606842041016,
          -27.365753173828125,
          -20.599897384643555,
          -38.208656311035156,
          26.188106536865234,
          61.353973388671875,
          37.015098571777344,
          -56.872310638427734,
          27.66948699951172,
          8.21753215789795,
          -58.08238983154297,
          -14.303948402404785,
          -56.349586486816406,
          35.58856201171875,
          9.766448020935059,
          -10.00726318359375,
          -20.390287399291992,
          -27.496341705322266,
          35.97694396972656,
          26.96881103515625,
          17.257099151611328,
          -22.026601791381836,
          -61.02231216430664,
          33.366233825683594,
          32.689414978027344,
          -13.6905517578125,
          -12.525672912597656,
          -13.040482521057129,
          19.118209838867188,
          -61.7568359375,
          -54.15397262573242,
          -34.19986343383789,
          28.446189880371094,
          17.089628219604492,
          47.72402572631836,
          -31.396121978759766,
          1.486215591430664,
          11.139280319213867
         ],
         "xaxis": "x",
         "y": [
          -4.591752529144287,
          -18.653684616088867,
          13.855877876281738,
          3.700235366821289,
          21.584138870239258,
          -10.08158016204834,
          -42.4085807800293,
          -3.2672367095947266,
          -33.2349967956543,
          -33.488807678222656,
          32.656829833984375,
          -26.97776985168457,
          28.373689651489258,
          -7.001391887664795,
          5.827678680419922,
          -36.59710693359375,
          -3.717372417449951,
          -54.732513427734375,
          -35.615352630615234,
          31.945119857788086,
          -46.57164764404297,
          5.3933634757995605,
          -15.772422790527344,
          -26.94502067565918,
          -14.71854019165039,
          -50.883060455322266,
          8.17834186553955,
          24.4315128326416,
          39.17555236816406,
          51.619110107421875,
          -13.992815017700195,
          -47.37910842895508,
          -12.676910400390625,
          27.27941131591797,
          43.43759536743164,
          -52.73602294921875,
          53.99599075317383,
          13.750350952148438,
          3.704524040222168,
          -46.464759826660156,
          -2.4454667568206787,
          -7.842952251434326,
          7.696743488311768,
          -4.204218864440918,
          -14.53825569152832,
          42.0980339050293,
          -44.44353103637695,
          -15.903486251831055,
          16.08759307861328,
          -38.986873626708984,
          10.428136825561523,
          31.19740104675293,
          35.07793045043945,
          -20.797090530395508,
          12.774867057800293,
          -34.171653747558594,
          -41.50973892211914,
          -35.84107208251953,
          -10.912760734558105,
          14.72393798828125,
          27.543590545654297,
          -40.2461051940918,
          -49.780982971191406,
          6.248076438903809,
          6.198112487792969,
          -17.792741775512695,
          1.3308452367782593,
          -3.8723456859588623,
          23.957080841064453,
          53.564884185791016,
          13.53926944732666,
          5.323093414306641,
          2.4718995094299316,
          -45.38460922241211,
          -6.672823429107666,
          -14.35113525390625,
          3.658292770385742,
          43.874168395996094,
          -1.573345422744751,
          53.64246368408203,
          3.4155354499816895,
          25.91517448425293,
          -15.551454544067383,
          31.3890380859375,
          -35.2425651550293,
          1.3456182479858398,
          -20.801496505737305,
          8.462809562683105,
          -34.98936462402344,
          -4.785325527191162,
          12.540948867797852,
          5.5682196617126465,
          -30.822826385498047,
          -16.40130043029785,
          18.751758575439453,
          28.04591941833496,
          -3.3763411045074463,
          35.73896026611328,
          27.136672973632812,
          23.445663452148438,
          -23.77767562866211,
          47.262611389160156,
          21.26363182067871,
          -6.467703342437744,
          29.396780014038086,
          10.478609085083008,
          -20.170549392700195,
          13.844036102294922,
          -35.82306671142578,
          35.54814147949219,
          -14.763944625854492,
          9.592784881591797,
          24.897314071655273,
          6.052145004272461,
          11.880804061889648,
          -5.611445903778076,
          -6.581657886505127,
          -10.57172966003418,
          9.64692211151123,
          37.83741760253906,
          -25.302183151245117,
          48.46537780761719,
          -2.470259666442871,
          -10.421171188354492,
          7.346982002258301,
          35.8270149230957,
          11.084004402160645,
          -24.22882652282715,
          5.135692119598389,
          -14.742478370666504,
          51.108089447021484,
          -21.35602378845215,
          14.274761199951172,
          -7.776534080505371,
          7.927128791809082,
          15.256691932678223,
          34.94773864746094,
          28.27129364013672,
          -16.187114715576172,
          -48.45633316040039,
          20.22026252746582,
          53.281280517578125,
          -39.96710205078125,
          -47.579994201660156,
          -26.435487747192383,
          14.210198402404785,
          30.45623016357422,
          -25.446176528930664,
          -24.141923904418945,
          -23.878231048583984,
          11.348294258117676,
          -27.71033477783203,
          -35.05010986328125,
          -3.3604109287261963,
          31.920055389404297,
          -8.017372131347656,
          -6.335718154907227,
          2.0394678115844727,
          9.701314926147461,
          -20.774932861328125,
          -12.544168472290039,
          -1.6354608535766602,
          29.901260375976562,
          -11.146424293518066,
          -15.452614784240723,
          43.04224395751953,
          34.86598205566406,
          -47.836673736572266,
          24.64539337158203,
          -4.8590898513793945,
          40.13895034790039,
          -26.158775329589844,
          30.24643898010254,
          -36.802391052246094,
          12.267060279846191,
          11.196890830993652,
          -16.844446182250977,
          -35.42753601074219,
          -2.0541908740997314,
          27.321386337280273,
          -9.619917869567871,
          -49.11862564086914,
          -11.033164024353027,
          -10.840868949890137,
          2.491302967071533,
          -22.618257522583008,
          19.569604873657227,
          -6.619940757751465,
          18.02074432373047,
          21.809799194335938,
          45.294307708740234,
          -28.204891204833984,
          -29.19249725341797,
          43.920494079589844,
          12.48807144165039,
          -34.476600646972656,
          61.21080780029297,
          4.6373677253723145,
          -15.844189643859863,
          -32.82404708862305,
          -35.788780212402344,
          53.14061737060547,
          -4.815842628479004,
          46.334659576416016,
          -8.205436706542969,
          26.058351516723633,
          12.439924240112305,
          -3.4514176845550537,
          15.621588706970215,
          -13.023343086242676,
          24.57245635986328,
          6.677248954772949,
          43.26386260986328,
          -38.94951248168945,
          -11.722502708435059,
          3.129481077194214,
          -16.392484664916992,
          -28.040441513061523,
          -2.476407527923584,
          -46.598716735839844,
          14.263282775878906,
          1.3329663276672363,
          -32.660865783691406,
          17.833267211914062,
          43.61410140991211,
          9.57886028289795,
          -23.259138107299805,
          34.4668083190918,
          -15.643383026123047,
          23.981054306030273,
          -13.744778633117676,
          -32.69844436645508,
          -61.01504135131836,
          -16.114749908447266,
          -10.709695816040039,
          -31.58248519897461,
          -26.156862258911133,
          -29.499494552612305,
          -8.722513198852539,
          -6.875645160675049,
          36.66346740722656,
          -21.76237678527832,
          -11.559453010559082,
          -30.370033264160156,
          33.193336486816406,
          19.266443252563477,
          -36.273902893066406,
          -12.742658615112305,
          15.870817184448242,
          -36.64646530151367,
          -38.182552337646484,
          11.659626960754395,
          18.282609939575195,
          -15.471118927001953,
          8.647210121154785,
          16.516883850097656,
          -7.403072834014893,
          -0.21952088177204132,
          -0.647932767868042,
          -44.677276611328125,
          23.241792678833008,
          10.94990062713623,
          -7.306321144104004,
          44.211219787597656,
          -1.1053968667984009,
          25.653568267822266,
          8.565117835998535,
          -0.28270193934440613,
          29.780624389648438,
          6.0126752853393555,
          4.2405829429626465,
          33.546268463134766,
          52.85548400878906,
          -24.158679962158203,
          0.9693517088890076,
          40.96120834350586,
          -27.413509368896484,
          -3.963118314743042,
          43.09873580932617,
          -32.081024169921875,
          -11.963653564453125,
          11.091217041015625,
          24.69633674621582,
          -1.1442499160766602,
          36.511199951171875,
          1.431501030921936,
          -22.898361206054688,
          -35.06713104248047,
          -34.375579833984375,
          -7.652100086212158,
          23.320344924926758,
          13.986241340637207,
          -31.54593849182129,
          22.96761131286621,
          -2.0724804401397705,
          -0.8369250297546387,
          42.11558532714844,
          -18.993417739868164,
          42.14214324951172,
          -25.206050872802734,
          -27.660751342773438,
          -35.05619430541992,
          23.746912002563477,
          -19.465797424316406,
          11.727258682250977,
          -53.7655143737793,
          27.413854598999023,
          -14.170309066772461,
          -25.701324462890625,
          18.51097869873047,
          -28.38534927368164,
          20.1071720123291,
          18.975765228271484,
          11.345258712768555,
          -52.522117614746094,
          -2.8903441429138184,
          14.861717224121094,
          4.055733680725098,
          26.557859420776367,
          -6.617140769958496,
          14.606802940368652,
          -37.288002014160156,
          37.40040588378906,
          -17.3039493560791,
          22.84238624572754,
          50.6873893737793,
          25.18186378479004,
          -11.634596824645996,
          -5.703213214874268,
          -9.257721900939941,
          12.701032638549805,
          -21.61860466003418,
          4.812029838562012,
          -49.2683219909668,
          -29.144826889038086,
          -2.2478039264678955,
          -1.6741982698440552,
          46.95372009277344,
          -38.698699951171875,
          20.99860954284668,
          25.011980056762695,
          33.4251594543457,
          15.271783828735352,
          37.341976165771484,
          5.4052414894104,
          -46.66861343383789,
          -21.959897994995117,
          -10.193524360656738,
          45.23318099975586,
          -33.02635192871094,
          -49.59915542602539,
          -23.957752227783203,
          -18.853139877319336,
          7.290439605712891,
          -17.697940826416016,
          -5.9723944664001465,
          -5.431800365447998,
          -10.35041618347168,
          -3.50026273727417,
          -22.643457412719727,
          14.036664962768555,
          41.40135192871094,
          33.770294189453125,
          -33.95838928222656,
          -7.59427547454834,
          42.43190002441406,
          -22.39633560180664,
          -32.23086929321289,
          -5.2263336181640625,
          -12.507316589355469,
          32.16246795654297,
          -10.969030380249023,
          46.65630340576172,
          -42.687843322753906,
          4.62977409362793,
          8.335208892822266,
          -14.814465522766113,
          5.5495500564575195,
          -14.497800827026367,
          -2.7487165927886963,
          -8.365938186645508,
          -44.085262298583984,
          -16.852622985839844,
          34.160736083984375,
          -3.6287951469421387,
          61.16075134277344,
          13.861449241638184,
          -10.461590766906738,
          -20.168195724487305,
          -3.553947687149048,
          -15.350984573364258,
          -24.959671020507812,
          43.70614242553711,
          -35.8633918762207,
          -31.812416076660156,
          -23.596689224243164,
          49.681556701660156,
          -12.72946548461914,
          6.749567031860352,
          21.5666561126709,
          -27.65435218811035,
          -21.19782066345215,
          -34.88945007324219,
          -15.556754112243652,
          -25.796430587768555,
          -22.430885314941406,
          8.75934886932373,
          -16.846527099609375,
          19.432926177978516,
          29.50913429260254,
          -31.97648811340332,
          -4.126754283905029,
          47.45413589477539,
          -30.000553131103516,
          -23.346973419189453,
          19.568889617919922,
          -6.849310398101807,
          1.3120970726013184,
          25.125225067138672,
          14.268241882324219,
          40.527713775634766,
          17.85683250427246,
          8.976412773132324,
          23.79373550415039,
          40.00164031982422,
          1.1110376119613647,
          22.3267822265625,
          17.053958892822266,
          -18.0888614654541,
          -10.19084644317627,
          -47.87052536010742,
          -13.43979263305664,
          44.54719924926758,
          -14.014392852783203,
          -7.223633289337158,
          9.836437225341797,
          -9.026449203491211,
          45.438018798828125,
          15.573076248168945,
          -31.382070541381836,
          23.22116470336914,
          -40.681434631347656,
          -14.6527681350708,
          40.9212532043457,
          36.78373718261719,
          37.42157745361328,
          7.245085716247559,
          5.973304748535156,
          33.40273666381836,
          -8.988988876342773,
          -22.062789916992188,
          -10.937559127807617,
          -46.58759689331055,
          -28.357669830322266,
          18.760684967041016,
          -24.712631225585938,
          2.5664334297180176,
          30.35787582397461,
          -33.53997039794922,
          27.077478408813477,
          -48.904579162597656,
          -43.88852310180664,
          28.493934631347656,
          11.547395706176758,
          -27.22979736328125,
          9.979843139648438,
          -22.27735137939453,
          -0.10619256645441055,
          -13.90854263305664,
          -29.040836334228516,
          26.351770401000977,
          -10.83778190612793,
          -28.091419219970703,
          -33.174259185791016,
          -34.581016540527344,
          -7.9278998374938965,
          7.42065954208374,
          1.6266157627105713,
          -36.73683166503906,
          16.287485122680664,
          -2.7127718925476074,
          6.18378210067749,
          -53.85749816894531,
          -6.477935791015625,
          30.275846481323242,
          3.563016653060913,
          0.6998919248580933,
          -35.655242919921875,
          17.96253204345703,
          -25.031307220458984,
          41.967464447021484,
          21.75432777404785,
          3.5599167346954346,
          17.17348861694336,
          -9.198162078857422,
          -16.662717819213867,
          26.98111343383789,
          -36.558895111083984,
          -2.571584463119507,
          20.693607330322266,
          -51.23139953613281,
          17.373769760131836,
          12.940261840820312,
          21.618215560913086,
          -0.7018036842346191,
          -49.20883560180664,
          5.666568756103516,
          25.64790153503418,
          -13.228824615478516,
          38.95977020263672,
          -4.31100606918335,
          4.0504536628723145,
          31.096012115478516,
          -34.19626998901367,
          -30.724035263061523,
          4.787172794342041,
          -14.170639991760254,
          20.06340980529785,
          -7.231082439422607,
          -5.6522722244262695,
          13.804443359375,
          -23.088939666748047,
          16.366207122802734,
          -52.88924789428711,
          -15.32684326171875,
          30.687793731689453,
          51.78020095825195,
          -10.388176918029785,
          19.964649200439453,
          5.300567150115967,
          29.36862564086914,
          30.515474319458008,
          34.89943313598633,
          21.956485748291016,
          -46.72184753417969,
          -2.3117501735687256,
          -4.9312944412231445,
          -11.18706226348877,
          25.806974411010742,
          26.025793075561523,
          15.304482460021973,
          30.34426498413086,
          28.759593963623047,
          32.3426399230957,
          -6.238647937774658,
          31.436359405517578,
          8.094441413879395,
          -41.60607147216797,
          -7.614311695098877,
          36.78618240356445,
          -41.0131950378418,
          32.180076599121094,
          6.952858924865723,
          42.9410285949707,
          -61.54316329956055,
          -16.754301071166992,
          -34.36024475097656,
          0.75951087474823,
          -8.891374588012695,
          15.9105224609375,
          42.99546432495117,
          -11.113563537597656,
          -21.5446834564209,
          -44.301124572753906,
          -26.145036697387695,
          -36.7593994140625,
          25.82016944885254,
          21.23626136779785,
          33.70813751220703,
          -32.196739196777344,
          8.291373252868652,
          -6.782156467437744,
          -9.392210960388184,
          -13.13464641571045,
          -40.80720901489258,
          8.288087844848633,
          -50.3050537109375,
          -34.203208923339844,
          9.480266571044922,
          27.759347915649414,
          32.52737808227539,
          -11.22087287902832,
          -23.341243743896484,
          13.410825729370117,
          20.315052032470703,
          13.124229431152344,
          6.423761367797852,
          8.000731468200684,
          -1.850879192352295,
          -25.556318283081055,
          10.98031997680664,
          -38.65817642211914,
          -45.72812271118164,
          -40.09394073486328,
          5.557760238647461,
          25.191600799560547,
          -23.38045310974121,
          -32.11259078979492,
          6.573678970336914,
          14.94539737701416,
          -49.45569610595703,
          34.78316879272461,
          4.524476051330566,
          18.285335540771484,
          15.977360725402832,
          -40.9504280090332,
          8.0248441696167,
          26.981626510620117,
          -17.70813751220703,
          32.48154067993164,
          -14.718244552612305,
          29.044641494750977,
          -0.358140766620636,
          10.896027565002441,
          8.941893577575684,
          14.990740776062012,
          -24.43848991394043,
          32.85773468017578,
          -2.4024624824523926,
          37.180419921875,
          9.889086723327637,
          27.02227783203125,
          7.050327301025391,
          -49.18392562866211,
          9.195842742919922,
          2.5062618255615234,
          -45.092227935791016,
          -29.465660095214844,
          39.275447845458984,
          -6.199833393096924,
          -48.68518829345703,
          -9.66386890411377,
          19.740100860595703,
          -37.83650207519531,
          5.250370025634766,
          6.579619407653809,
          -15.181633949279785,
          -34.612735748291016,
          40.35329055786133,
          -0.3291001617908478,
          -32.41169357299805,
          -25.87373924255371,
          -12.454767227172852,
          -5.6636457443237305,
          -31.12525177001953,
          -1.7809609174728394,
          19.476991653442383,
          11.897467613220215,
          -23.117206573486328,
          -11.520328521728516,
          -24.622053146362305,
          -51.78776168823242,
          11.801612854003906,
          29.282339096069336,
          11.342545509338379,
          -24.317686080932617,
          -37.2347526550293,
          16.57012939453125,
          -25.44156837463379,
          -24.853919982910156,
          36.017364501953125,
          35.57419967651367,
          -9.43820858001709,
          -33.69987106323242,
          37.96928787231445,
          -52.98625946044922,
          -26.77164077758789,
          19.867443084716797,
          -6.313437461853027,
          -35.60469436645508,
          -53.539058685302734,
          -7.498141765594482,
          -13.928346633911133,
          -61.44441223144531,
          7.1697492599487305
         ],
         "yaxis": "y"
        }
       ],
       "layout": {
        "height": 800,
        "legend": {
         "tracegroupgap": 0
        },
        "margin": {
         "t": 60
        },
        "template": {
         "data": {
          "bar": [
           {
            "error_x": {
             "color": "#2a3f5f"
            },
            "error_y": {
             "color": "#2a3f5f"
            },
            "marker": {
             "line": {
              "color": "#E5ECF6",
              "width": 0.5
             },
             "pattern": {
              "fillmode": "overlay",
              "size": 10,
              "solidity": 0.2
             }
            },
            "type": "bar"
           }
          ],
          "barpolar": [
           {
            "marker": {
             "line": {
              "color": "#E5ECF6",
              "width": 0.5
             },
             "pattern": {
              "fillmode": "overlay",
              "size": 10,
              "solidity": 0.2
             }
            },
            "type": "barpolar"
           }
          ],
          "carpet": [
           {
            "aaxis": {
             "endlinecolor": "#2a3f5f",
             "gridcolor": "white",
             "linecolor": "white",
             "minorgridcolor": "white",
             "startlinecolor": "#2a3f5f"
            },
            "baxis": {
             "endlinecolor": "#2a3f5f",
             "gridcolor": "white",
             "linecolor": "white",
             "minorgridcolor": "white",
             "startlinecolor": "#2a3f5f"
            },
            "type": "carpet"
           }
          ],
          "choropleth": [
           {
            "colorbar": {
             "outlinewidth": 0,
             "ticks": ""
            },
            "type": "choropleth"
           }
          ],
          "contour": [
           {
            "colorbar": {
             "outlinewidth": 0,
             "ticks": ""
            },
            "colorscale": [
             [
              0,
              "#0d0887"
             ],
             [
              0.1111111111111111,
              "#46039f"
             ],
             [
              0.2222222222222222,
              "#7201a8"
             ],
             [
              0.3333333333333333,
              "#9c179e"
             ],
             [
              0.4444444444444444,
              "#bd3786"
             ],
             [
              0.5555555555555556,
              "#d8576b"
             ],
             [
              0.6666666666666666,
              "#ed7953"
             ],
             [
              0.7777777777777778,
              "#fb9f3a"
             ],
             [
              0.8888888888888888,
              "#fdca26"
             ],
             [
              1,
              "#f0f921"
             ]
            ],
            "type": "contour"
           }
          ],
          "contourcarpet": [
           {
            "colorbar": {
             "outlinewidth": 0,
             "ticks": ""
            },
            "type": "contourcarpet"
           }
          ],
          "heatmap": [
           {
            "colorbar": {
             "outlinewidth": 0,
             "ticks": ""
            },
            "colorscale": [
             [
              0,
              "#0d0887"
             ],
             [
              0.1111111111111111,
              "#46039f"
             ],
             [
              0.2222222222222222,
              "#7201a8"
             ],
             [
              0.3333333333333333,
              "#9c179e"
             ],
             [
              0.4444444444444444,
              "#bd3786"
             ],
             [
              0.5555555555555556,
              "#d8576b"
             ],
             [
              0.6666666666666666,
              "#ed7953"
             ],
             [
              0.7777777777777778,
              "#fb9f3a"
             ],
             [
              0.8888888888888888,
              "#fdca26"
             ],
             [
              1,
              "#f0f921"
             ]
            ],
            "type": "heatmap"
           }
          ],
          "heatmapgl": [
           {
            "colorbar": {
             "outlinewidth": 0,
             "ticks": ""
            },
            "colorscale": [
             [
              0,
              "#0d0887"
             ],
             [
              0.1111111111111111,
              "#46039f"
             ],
             [
              0.2222222222222222,
              "#7201a8"
             ],
             [
              0.3333333333333333,
              "#9c179e"
             ],
             [
              0.4444444444444444,
              "#bd3786"
             ],
             [
              0.5555555555555556,
              "#d8576b"
             ],
             [
              0.6666666666666666,
              "#ed7953"
             ],
             [
              0.7777777777777778,
              "#fb9f3a"
             ],
             [
              0.8888888888888888,
              "#fdca26"
             ],
             [
              1,
              "#f0f921"
             ]
            ],
            "type": "heatmapgl"
           }
          ],
          "histogram": [
           {
            "marker": {
             "pattern": {
              "fillmode": "overlay",
              "size": 10,
              "solidity": 0.2
             }
            },
            "type": "histogram"
           }
          ],
          "histogram2d": [
           {
            "colorbar": {
             "outlinewidth": 0,
             "ticks": ""
            },
            "colorscale": [
             [
              0,
              "#0d0887"
             ],
             [
              0.1111111111111111,
              "#46039f"
             ],
             [
              0.2222222222222222,
              "#7201a8"
             ],
             [
              0.3333333333333333,
              "#9c179e"
             ],
             [
              0.4444444444444444,
              "#bd3786"
             ],
             [
              0.5555555555555556,
              "#d8576b"
             ],
             [
              0.6666666666666666,
              "#ed7953"
             ],
             [
              0.7777777777777778,
              "#fb9f3a"
             ],
             [
              0.8888888888888888,
              "#fdca26"
             ],
             [
              1,
              "#f0f921"
             ]
            ],
            "type": "histogram2d"
           }
          ],
          "histogram2dcontour": [
           {
            "colorbar": {
             "outlinewidth": 0,
             "ticks": ""
            },
            "colorscale": [
             [
              0,
              "#0d0887"
             ],
             [
              0.1111111111111111,
              "#46039f"
             ],
             [
              0.2222222222222222,
              "#7201a8"
             ],
             [
              0.3333333333333333,
              "#9c179e"
             ],
             [
              0.4444444444444444,
              "#bd3786"
             ],
             [
              0.5555555555555556,
              "#d8576b"
             ],
             [
              0.6666666666666666,
              "#ed7953"
             ],
             [
              0.7777777777777778,
              "#fb9f3a"
             ],
             [
              0.8888888888888888,
              "#fdca26"
             ],
             [
              1,
              "#f0f921"
             ]
            ],
            "type": "histogram2dcontour"
           }
          ],
          "mesh3d": [
           {
            "colorbar": {
             "outlinewidth": 0,
             "ticks": ""
            },
            "type": "mesh3d"
           }
          ],
          "parcoords": [
           {
            "line": {
             "colorbar": {
              "outlinewidth": 0,
              "ticks": ""
             }
            },
            "type": "parcoords"
           }
          ],
          "pie": [
           {
            "automargin": true,
            "type": "pie"
           }
          ],
          "scatter": [
           {
            "fillpattern": {
             "fillmode": "overlay",
             "size": 10,
             "solidity": 0.2
            },
            "type": "scatter"
           }
          ],
          "scatter3d": [
           {
            "line": {
             "colorbar": {
              "outlinewidth": 0,
              "ticks": ""
             }
            },
            "marker": {
             "colorbar": {
              "outlinewidth": 0,
              "ticks": ""
             }
            },
            "type": "scatter3d"
           }
          ],
          "scattercarpet": [
           {
            "marker": {
             "colorbar": {
              "outlinewidth": 0,
              "ticks": ""
             }
            },
            "type": "scattercarpet"
           }
          ],
          "scattergeo": [
           {
            "marker": {
             "colorbar": {
              "outlinewidth": 0,
              "ticks": ""
             }
            },
            "type": "scattergeo"
           }
          ],
          "scattergl": [
           {
            "marker": {
             "colorbar": {
              "outlinewidth": 0,
              "ticks": ""
             }
            },
            "type": "scattergl"
           }
          ],
          "scattermapbox": [
           {
            "marker": {
             "colorbar": {
              "outlinewidth": 0,
              "ticks": ""
             }
            },
            "type": "scattermapbox"
           }
          ],
          "scatterpolar": [
           {
            "marker": {
             "colorbar": {
              "outlinewidth": 0,
              "ticks": ""
             }
            },
            "type": "scatterpolar"
           }
          ],
          "scatterpolargl": [
           {
            "marker": {
             "colorbar": {
              "outlinewidth": 0,
              "ticks": ""
             }
            },
            "type": "scatterpolargl"
           }
          ],
          "scatterternary": [
           {
            "marker": {
             "colorbar": {
              "outlinewidth": 0,
              "ticks": ""
             }
            },
            "type": "scatterternary"
           }
          ],
          "surface": [
           {
            "colorbar": {
             "outlinewidth": 0,
             "ticks": ""
            },
            "colorscale": [
             [
              0,
              "#0d0887"
             ],
             [
              0.1111111111111111,
              "#46039f"
             ],
             [
              0.2222222222222222,
              "#7201a8"
             ],
             [
              0.3333333333333333,
              "#9c179e"
             ],
             [
              0.4444444444444444,
              "#bd3786"
             ],
             [
              0.5555555555555556,
              "#d8576b"
             ],
             [
              0.6666666666666666,
              "#ed7953"
             ],
             [
              0.7777777777777778,
              "#fb9f3a"
             ],
             [
              0.8888888888888888,
              "#fdca26"
             ],
             [
              1,
              "#f0f921"
             ]
            ],
            "type": "surface"
           }
          ],
          "table": [
           {
            "cells": {
             "fill": {
              "color": "#EBF0F8"
             },
             "line": {
              "color": "white"
             }
            },
            "header": {
             "fill": {
              "color": "#C8D4E3"
             },
             "line": {
              "color": "white"
             }
            },
            "type": "table"
           }
          ]
         },
         "layout": {
          "annotationdefaults": {
           "arrowcolor": "#2a3f5f",
           "arrowhead": 0,
           "arrowwidth": 1
          },
          "autotypenumbers": "strict",
          "coloraxis": {
           "colorbar": {
            "outlinewidth": 0,
            "ticks": ""
           }
          },
          "colorscale": {
           "diverging": [
            [
             0,
             "#8e0152"
            ],
            [
             0.1,
             "#c51b7d"
            ],
            [
             0.2,
             "#de77ae"
            ],
            [
             0.3,
             "#f1b6da"
            ],
            [
             0.4,
             "#fde0ef"
            ],
            [
             0.5,
             "#f7f7f7"
            ],
            [
             0.6,
             "#e6f5d0"
            ],
            [
             0.7,
             "#b8e186"
            ],
            [
             0.8,
             "#7fbc41"
            ],
            [
             0.9,
             "#4d9221"
            ],
            [
             1,
             "#276419"
            ]
           ],
           "sequential": [
            [
             0,
             "#0d0887"
            ],
            [
             0.1111111111111111,
             "#46039f"
            ],
            [
             0.2222222222222222,
             "#7201a8"
            ],
            [
             0.3333333333333333,
             "#9c179e"
            ],
            [
             0.4444444444444444,
             "#bd3786"
            ],
            [
             0.5555555555555556,
             "#d8576b"
            ],
            [
             0.6666666666666666,
             "#ed7953"
            ],
            [
             0.7777777777777778,
             "#fb9f3a"
            ],
            [
             0.8888888888888888,
             "#fdca26"
            ],
            [
             1,
             "#f0f921"
            ]
           ],
           "sequentialminus": [
            [
             0,
             "#0d0887"
            ],
            [
             0.1111111111111111,
             "#46039f"
            ],
            [
             0.2222222222222222,
             "#7201a8"
            ],
            [
             0.3333333333333333,
             "#9c179e"
            ],
            [
             0.4444444444444444,
             "#bd3786"
            ],
            [
             0.5555555555555556,
             "#d8576b"
            ],
            [
             0.6666666666666666,
             "#ed7953"
            ],
            [
             0.7777777777777778,
             "#fb9f3a"
            ],
            [
             0.8888888888888888,
             "#fdca26"
            ],
            [
             1,
             "#f0f921"
            ]
           ]
          },
          "colorway": [
           "#636efa",
           "#EF553B",
           "#00cc96",
           "#ab63fa",
           "#FFA15A",
           "#19d3f3",
           "#FF6692",
           "#B6E880",
           "#FF97FF",
           "#FECB52"
          ],
          "font": {
           "color": "#2a3f5f"
          },
          "geo": {
           "bgcolor": "white",
           "lakecolor": "white",
           "landcolor": "#E5ECF6",
           "showlakes": true,
           "showland": true,
           "subunitcolor": "white"
          },
          "hoverlabel": {
           "align": "left"
          },
          "hovermode": "closest",
          "mapbox": {
           "style": "light"
          },
          "paper_bgcolor": "white",
          "plot_bgcolor": "#E5ECF6",
          "polar": {
           "angularaxis": {
            "gridcolor": "white",
            "linecolor": "white",
            "ticks": ""
           },
           "bgcolor": "#E5ECF6",
           "radialaxis": {
            "gridcolor": "white",
            "linecolor": "white",
            "ticks": ""
           }
          },
          "scene": {
           "xaxis": {
            "backgroundcolor": "#E5ECF6",
            "gridcolor": "white",
            "gridwidth": 2,
            "linecolor": "white",
            "showbackground": true,
            "ticks": "",
            "zerolinecolor": "white"
           },
           "yaxis": {
            "backgroundcolor": "#E5ECF6",
            "gridcolor": "white",
            "gridwidth": 2,
            "linecolor": "white",
            "showbackground": true,
            "ticks": "",
            "zerolinecolor": "white"
           },
           "zaxis": {
            "backgroundcolor": "#E5ECF6",
            "gridcolor": "white",
            "gridwidth": 2,
            "linecolor": "white",
            "showbackground": true,
            "ticks": "",
            "zerolinecolor": "white"
           }
          },
          "shapedefaults": {
           "line": {
            "color": "#2a3f5f"
           }
          },
          "ternary": {
           "aaxis": {
            "gridcolor": "white",
            "linecolor": "white",
            "ticks": ""
           },
           "baxis": {
            "gridcolor": "white",
            "linecolor": "white",
            "ticks": ""
           },
           "bgcolor": "#E5ECF6",
           "caxis": {
            "gridcolor": "white",
            "linecolor": "white",
            "ticks": ""
           }
          },
          "title": {
           "x": 0.05
          },
          "xaxis": {
           "automargin": true,
           "gridcolor": "white",
           "linecolor": "white",
           "ticks": "",
           "title": {
            "standoff": 15
           },
           "zerolinecolor": "white",
           "zerolinewidth": 2
          },
          "yaxis": {
           "automargin": true,
           "gridcolor": "white",
           "linecolor": "white",
           "ticks": "",
           "title": {
            "standoff": 15
           },
           "zerolinecolor": "white",
           "zerolinewidth": 2
          }
         }
        },
        "width": 800,
        "xaxis": {
         "anchor": "y",
         "autorange": true,
         "domain": [
          0,
          1
         ],
         "range": [
          -71.77200980844891,
          75.48861213388837
         ],
         "title": {
          "text": "0"
         },
         "type": "linear"
        },
        "yaxis": {
         "anchor": "x",
         "autorange": true,
         "domain": [
          0,
          1
         ],
         "range": [
          -69.23490829175086,
          68.90255279248328
         ],
         "title": {
          "text": "1"
         },
         "type": "linear"
        }
       }
      },
      "image/png": "[encoded data removed]",
      "text/html": [
       "<div>                            <div id=\"fd537c2c-309e-4a09-8b68-46f13112837d\" class=\"plotly-graph-div\" style=\"height:800px; width:800px;\"></div>            <script type=\"text/javascript\">                require([\"plotly\"], function(Plotly) {                    window.PLOTLYENV=window.PLOTLYENV || {};                                    if (document.getElementById(\"fd537c2c-309e-4a09-8b68-46f13112837d\")) {                    Plotly.newPlot(                        \"fd537c2c-309e-4a09-8b68-46f13112837d\",                        [{\"hovertemplate\":\"<b>%{hovertext}</b><br><br>0=%{x}<br>1=%{y}<extra></extra>\",\"hovertext\":[\"se\",\"esse\",\"caesar\",\"his\",\"eo\",\"sibi\",\"eorum\",\"eos\",\"castris\",\"omnibus\",\"ne\",\"iis\",\"eius\",\"eum\",\"castra\",\"ea\",\"id\",\"causa\",\"omnes\",\"hostes\",\"uti\",\"sese\",\"romani\",\"bellum\",\"propter\",\"suis\",\"quos\",\"hostium\",\"proelio\",\"ubi\",\"fines\",\"partem\",\"populi\",\"nostri\",\"esset\",\"exercitum\",\"possent\",\"caesarem\",\"inter\",\"rhenum\",\"ipse\",\"suos\",\"loco\",\"milia\",\"posse\",\"nostros\",\"flumen\",\"quid\",\"pro\",\"parte\",\"gallia\",\"nostris\",\"locum\",\"una\",\"omnia\",\"galliae\",\"quorum\",\"finibus\",\"magno\",\"sua\",\"armis\",\"naves\",\"rei\",\"obsides\",\"hostibus\",\"posset\",\"iam\",\"circiter\",\"milites\",\"die\",\"legatos\",\"hominum\",\"apud\",\"eam\",\"sine\",\"quas\",\"navibus\",\"ante\",\"nihil\",\"tempore\",\"belli\",\"item\",\"helvetii\",\"copiis\",\"essent\",\"passuum\",\"omnium\",\"legiones\",\"iter\",\"locis\",\"copias\",\"itinere\",\"satis\",\"omni\",\"quem\",\"ibi\",\"itaque\",\"equites\",\"proelium\",\"consilio\",\"minus\",\"primum\",\"nam\",\"numero\",\"facta\",\"suo\",\"rerum\",\"ariovistus\",\"galliam\",\"celeriter\",\"magna\",\"militum\",\"eodem\",\"tempus\",\"bello\",\"facere\",\"fere\",\"multitudine\",\"iussit\",\"ipsi\",\"civitates\",\"fuga\",\"virtute\",\"propterea\",\"caesaris\",\"unum\",\"legati\",\"caesari\",\"illi\",\"tanta\",\"tum\",\"auxilium\",\"eas\",\"suas\",\"oppidum\",\"equitatu\",\"post\",\"interim\",\"hac\",\"trans\",\"aciem\",\"oppido\",\"pars\",\"transire\",\"fuit\",\"exercitus\",\"germani\",\"homines\",\"contendit\",\"habere\",\"seque\",\"contra\",\"romano\",\"milibus\",\"coeperunt\",\"l\",\"gallorum\",\"gallis\",\"c\",\"suam\",\"navium\",\"fluminis\",\"longius\",\"helvetios\",\"misit\",\"tela\",\"subito\",\"flumine\",\"uno\",\"periculo\",\"hi\",\"numerum\",\"eadem\",\"totius\",\"natura\",\"loci\",\"quin\",\"omnem\",\"amplius\",\"reliquos\",\"spe\",\"helvetiorum\",\"caesare\",\"haeduorum\",\"nostrorum\",\"adventu\",\"prius\",\"haeduos\",\"vi\",\"diem\",\"multis\",\"magnam\",\"facile\",\"paucis\",\"milium\",\"provinciam\",\"sub\",\"undique\",\"ei\",\"modo\",\"agris\",\"arma\",\"x\",\"vero\",\"agros\",\"nisi\",\"pace\",\"proeliis\",\"fidem\",\"multitudinem\",\"compluribus\",\"dies\",\"diebus\",\"longe\",\"populo\",\"nocte\",\"fieri\",\"habebat\",\"haeduis\",\"germanorum\",\"postea\",\"omnino\",\"germanos\",\"legatis\",\"facto\",\"superiore\",\"cuius\",\"impetum\",\"diutius\",\"militibus\",\"legionibus\",\"helvetiis\",\"ariovisti\",\"reliquis\",\"legatum\",\"enim\",\"magnum\",\"suum\",\"q\",\"p\",\"certior\",\"quarum\",\"sit\",\"poterant\",\"fecerunt\",\"equitum\",\"provinciae\",\"amicitiam\",\"civitatis\",\"existimabat\",\"partes\",\"hostem\",\"constituit\",\"summa\",\"romanorum\",\"is\",\"omnis\",\"contenderunt\",\"sequanos\",\"ob\",\"opere\",\"habebant\",\"frumentum\",\"silvas\",\"domum\",\"supra\",\"duas\",\"spatio\",\"diei\",\"reliqui\",\"ariovistum\",\"rursus\",\"ferre\",\"sui\",\"xii\",\"pugnatum\",\"iubet\",\"sequanis\",\"coepit\",\"vim\",\"arbitrabatur\",\"suaque\",\"paulo\",\"crassus\",\"factus\",\"pedum\",\"britanniam\",\"germanis\",\"tam\",\"m\",\"magis\",\"consuetudine\",\"solum\",\"pugnae\",\"ipsis\",\"haedui\",\"oratione\",\"inde\",\"pugna\",\"complures\",\"romanum\",\"fore\",\"usus\",\"fecisset\",\"oppida\",\"oppidis\",\"factum\",\"summam\",\"hunc\",\"maxime\",\"populum\",\"secum\",\"simul\",\"senatu\",\"hos\",\"exercitu\",\"respondit\",\"potestatem\",\"fugam\",\"iure\",\"mittit\",\"tertia\",\"impedimenta\",\"reliqua\",\"celeritate\",\"tantum\",\"sive\",\"vigilia\",\"annos\",\"t\",\"civitate\",\"earum\",\"praeter\",\"frumento\",\"commode\",\"nationes\",\"plurimum\",\"petere\",\"alia\",\"impedimentis\",\"nostra\",\"receperunt\",\"idem\",\"vulneribus\",\"agri\",\"belgis\",\"hanc\",\"saepe\",\"signa\",\"praesidio\",\"domo\",\"virtutis\",\"venire\",\"dare\",\"imperio\",\"legionem\",\"legionis\",\"sequanorum\",\"altitudinem\",\"equitatus\",\"voluntate\",\"agmen\",\"haberent\",\"nostram\",\"spem\",\"opus\",\"quantum\",\"pervenit\",\"iniuria\",\"adducti\",\"ipsos\",\"pacem\",\"prima\",\"facilius\",\"castrorum\",\"usui\",\"vellet\",\"loca\",\"suae\",\"legione\",\"haberet\",\"influit\",\"imperium\",\"montem\",\"latitudinem\",\"spatium\",\"mittunt\",\"auctoritate\",\"memoria\",\"superioribus\",\"ostendit\",\"magnis\",\"dictum\",\"gallos\",\"animo\",\"itineribus\",\"navi\",\"gravius\",\"romanos\",\"conloquio\",\"quicquam\",\"has\",\"equitatum\",\"reliquum\",\"modum\",\"romanis\",\"quaeque\",\"fortunam\",\"acie\",\"huic\",\"reliquae\",\"iiii\",\"salutem\",\"praeerat\",\"oporteret\",\"paulatim\",\"concilio\",\"xv\",\"pervenerunt\",\"equis\",\"cohortatus\",\"latere\",\"aperto\",\"timore\",\"acriter\",\"vallo\",\"salutis\",\"barbari\",\"consilii\",\"reverti\",\"confecto\",\"gratiam\",\"tenere\",\"primo\",\"quisque\",\"venerunt\",\"deinde\",\"muro\",\"remis\",\"duae\",\"viribus\",\"ii\",\"profectus\",\"diu\",\"fugae\",\"acceptis\",\"venerant\",\"sint\",\"crasso\",\"etsi\",\"barbaris\",\"regionibus\",\"quoque\",\"facerent\",\"collis\",\"causam\",\"opinionem\",\"obsidibus\",\"incensis\",\"temporis\",\"ratio\",\"multa\",\"traditis\",\"miserunt\",\"mercatores\",\"dixerunt\",\"potuit\",\"sustinere\",\"horum\",\"victis\",\"acies\",\"sabinus\",\"arbitratus\",\"civitas\",\"videbat\",\"cohortibus\",\"huc\",\"hoste\",\"altera\",\"monte\",\"fecit\",\"reduxit\",\"finitimis\",\"spes\",\"consilium\",\"reliquisque\",\"exercitatione\",\"magnitudine\",\"subsidio\",\"venisse\",\"statim\",\"frumenti\",\"civitatibus\",\"conloquium\",\"belgarum\",\"oportere\",\"initium\",\"belgas\",\"vii\",\"constiterunt\",\"remorum\",\"plerumque\",\"numerus\",\"fieret\",\"gratia\",\"publicae\",\"viderentur\",\"impeditos\",\"ire\",\"capere\",\"illum\",\"faceret\",\"magnopere\",\"provincia\",\"poterat\",\"cognitis\",\"italiam\",\"alii\",\"locus\",\"nomine\",\"victoria\",\"alias\",\"venit\",\"possit\",\"possint\",\"agmine\",\"intellexit\",\"labienum\",\"summo\",\"faciunt\",\"postridie\",\"existimavit\",\"exploratores\",\"impetus\",\"prohibere\",\"frumentaria\",\"extremum\",\"statuit\",\"manibus\",\"cornu\",\"genere\",\"partibus\",\"solis\",\"terga\",\"velint\",\"potuerunt\",\"multum\",\"proximi\",\"fuisset\",\"idoneum\",\"oceano\",\"dato\",\"dc\",\"coicerent\",\"pugnandi\",\"conspectu\",\"equitatumque\",\"telum\",\"equitibus\",\"discedere\",\"missa\",\"vellent\",\"suebis\",\"quare\",\"occiderunt\",\"tres\",\"diximus\",\"portis\",\"accidit\",\"tantae\",\"paulum\",\"interfecto\",\"constabat\",\"imperii\",\"aliae\",\"reliquas\",\"praedandi\",\"aedificiis\",\"dierum\",\"galli\",\"reciperent\",\"causis\",\"futurum\",\"regiones\",\"dixit\",\"tertiam\",\"obsidesque\",\"impetu\",\"viii\",\"volebat\",\"beneficio\",\"belgae\",\"incolunt\",\"mari\",\"anni\",\"contenderent\",\"auxilia\",\"praesertim\",\"convenirent\",\"civitatum\",\"nondum\",\"exploratoribus\",\"amissis\",\"condicionem\",\"finem\",\"paene\",\"principes\",\"communi\",\"multitudo\",\"agere\",\"contendere\",\"illis\",\"d\",\"iterum\",\"liberos\",\"diviciaci\",\"dicere\",\"sequi\",\"unde\",\"ipsius\",\"contulerunt\",\"perterritos\",\"pugnam\",\"frumentariae\",\"aberat\",\"intervallo\",\"rhodanum\",\"multo\",\"nulli\",\"prope\",\"allobrogum\",\"nullis\",\"perterriti\",\"teneri\",\"imperavit\",\"v\",\"cui\",\"necessario\",\"an\",\"domi\",\"aliis\",\"usum\",\"tenebat\",\"centurionibus\",\"itineris\",\"proxima\",\"isdem\",\"amicus\",\"virtutem\",\"plus\",\"secuti\",\"abesse\",\"cognito\",\"propius\",\"ultro\",\"paucos\",\"utraque\",\"permoti\",\"facultatem\",\"auderent\",\"facultas\",\"daretur\",\"intra\",\"diviciacum\",\"utrisque\",\"proficisci\",\"summum\",\"praeterea\",\"senatus\",\"legio\",\"pontem\",\"copia\",\"auxilio\",\"sueborum\",\"occupatis\"],\"legendgroup\":\"\",\"marker\":{\"color\":\"#636efa\",\"symbol\":\"circle\"},\"mode\":\"markers\",\"name\":\"\",\"orientation\":\"v\",\"showlegend\":false,\"x\":[-44.98458480834961,-30.910511016845703,-19.066925048828125,-0.07296422868967056,-51.617374420166016,-54.85916519165039,-7.047913551330566,-22.831995010375977,47.23501968383789,13.986089706420898,-32.154151916503906,34.27678680419922,-2.2590317726135254,27.145315170288086,28.38319206237793,25.753284454345703,-58.643062591552734,7.043636322021484,2.041818857192993,23.765756607055664,-14.081442832946777,-38.059024810791016,-42.871971130371094,-31.95488929748535,-1.4085826873779297,-8.645160675048828,54.36343765258789,35.90351104736328,-10.327035903930664,18.602933883666992,-14.942527770996094,32.50099563598633,-42.98359298706055,20.11966896057129,-9.898000717163086,21.259719848632812,-2.9311985969543457,-31.845291137695312,-21.5266170501709,9.318208694458008,20.618558883666992,-12.539937973022461,41.930843353271484,55.6616096496582,-41.641239166259766,20.83899688720703,10.694253921508789,-61.135353088378906,39.01655578613281,27.660202026367188,-60.36246871948242,33.32635498046875,-17.072132110595703,31.695756912231445,-38.65039825439453,-13.725846290588379,-9.732192993164062,10.411725997924805,38.602073669433594,-60.65556716918945,-28.894577026367188,20.62763023376465,-41.233001708984375,-34.00040054321289,4.886430740356445,-38.37064743041992,-13.45949935913086,58.5222282409668,19.081222534179688,9.632852554321289,-28.97878646850586,54.71962356567383,-22.988908767700195,-26.401823043823242,-60.6013069152832,16.524948120117188,5.9657182693481445,-0.11625371128320694,-18.85700798034668,8.454834938049316,-56.08147430419922,57.20186996459961,-21.40898895263672,51.54643249511719,-33.6171760559082,56.46311569213867,6.63346529006958,28.370874404907227,-52.70464324951172,10.533608436584473,0.4739739000797272,36.10394287109375,-41.16264343261719,34.68251419067383,-22.40144920349121,50.12416076660156,37.66838836669922,23.217634201049805,25.183727264404297,-11.54181957244873,-42.038578033447266,29.40715789794922,-4.362380027770996,39.360679626464844,-9.565738677978516,-55.89607238769531,2.1815104484558105,-16.375232696533203,-54.74711608886719,-2.5237174034118652,5.71370267868042,-11.939986228942871,-47.06692123413086,-55.78682327270508,-12.654010772705078,-57.32813262939453,36.62224578857422,42.86308670043945,44.43726348876953,39.95511245727539,-47.076560974121094,41.938053131103516,7.817137241363525,-33.66474914550781,-11.3263521194458,-13.835769653320312,-26.055618286132812,-50.62667465209961,-26.301816940307617,4.152164936065674,17.476673126220703,-58.332462310791016,0.1509169638156891,-15.302300453186035,17.834392547607422,19.511457443237305,16.316755294799805,-8.40116024017334,31.892822265625,10.550904273986816,38.750762939453125,11.218353271484375,28.2170352935791,11.170424461364746,-7.681815147399902,-8.8326997756958,1.049837589263916,-31.654367446899414,15.69200325012207,-20.729984283447266,-34.36863327026367,-63.1525764465332,-38.07745361328125,56.09973907470703,15.038416862487793,21.918428421020508,-19.156200408935547,4.153264045715332,-10.659479141235352,-35.60264205932617,-3.533890962600708,63.9609489440918,23.17665672302246,-17.73224639892578,22.075942993164062,19.520679473876953,34.807762145996094,32.568031311035156,-46.80877685546875,-61.66230392456055,-24.262367248535156,29.054208755493164,0.08118739724159241,-16.7076416015625,9.386128425598145,9.732033729553223,-54.759456634521484,45.59321975708008,56.4029541015625,28.632314682006836,2.6247398853302,-1.3127466440200806,-62.10040283203125,-15.835029602050781,-16.117666244506836,-9.442431449890137,-30.423507690429688,-37.04633712768555,33.4785041809082,-41.74892044067383,2.6088287830352783,3.649137020111084,-38.60271072387695,1.777512788772583,59.04857635498047,-53.83027648925781,31.398794174194336,44.9210205078125,-56.63518524169922,-27.834882736206055,12.951319694519043,-1.9929933547973633,65.40846252441406,20.96476936340332,-17.64209747314453,-19.027355194091797,-29.981351852416992,7.998678207397461,-50.52638626098633,-3.253098726272583,9.3971586227417,47.76286315917969,2.5865166187286377,9.193825721740723,-63.54612350463867,28.16707992553711,-59.8598747253418,4.951990604400635,-32.370487213134766,6.624828815460205,58.188804626464844,-5.560450553894043,-8.4320068359375,-25.763132095336914,-14.074105262756348,39.58069610595703,-13.143386840820312,23.193954467773438,-47.40962600708008,8.8719482421875,20.06056022644043,-53.623844146728516,3.6821861267089844,17.541170120239258,22.653759002685547,-27.41913604736328,30.642017364501953,-26.322160720825195,24.583276748657227,24.81839370727539,7.939155101776123,1.2913280725479126,-62.71352767944336,-37.84062957763672,24.768800735473633,23.246421813964844,-16.46383285522461,-44.21476364135742,-33.29669189453125,46.23173904418945,-16.99680519104004,25.19205665588379,37.378448486328125,-0.33341163396835327,19.176307678222656,-22.44525146484375,-5.32758092880249,44.661014556884766,-22.179088592529297,-27.241100311279297,43.259891510009766,-40.21437454223633,-6.94171667098999,-14.737943649291992,45.461185455322266,55.88077926635742,26.136728286743164,59.38801956176758,-2.541158676147461,10.740375518798828,-44.16239929199219,16.51445960998535,-1.667647123336792,-29.443262100219727,59.13983917236328,-11.650398254394531,-49.40190887451172,-32.12358474731445,15.83798599243164,-50.24046325683594,-46.17167282104492,-37.590553283691406,25.54107093811035,24.59597396850586,7.334661483764648,60.143898010253906,2.933044672012329,-2.4040634632110596,-30.788803100585938,25.379961013793945,-10.422730445861816,-59.979835510253906,-24.079830169677734,-45.80121994018555,-30.963102340698242,-32.55021286010742,-32.185508728027344,18.868785858154297,-32.76814651489258,32.5264892578125,-62.37188720703125,-35.851593017578125,-4.815037250518799,-44.79014587402344,-38.90868377685547,32.898799896240234,-6.197804927825928,61.8697509765625,24.14434051513672,-48.115840911865234,-62.32453536987305,-55.13512420654297,22.33057403564453,-58.839927673339844,9.374509811401367,21.621793746948242,-14.820833206176758,-43.892486572265625,26.138139724731445,-46.063621520996094,-27.484933853149414,29.332971572875977,32.62675857543945,33.20979309082031,21.405500411987305,15.718596458435059,-4.694915771484375,23.69427490234375,-32.5462532043457,21.52675437927246,-58.4838981628418,2.241097927093506,-12.529258728027344,32.804447174072266,-39.3937873840332,-34.168643951416016,-21.426677703857422,41.24613952636719,24.03521156311035,33.192138671875,36.42707061767578,-19.680400848388672,-14.643708229064941,43.61489486694336,-12.171966552734375,-11.694869995117188,-35.32838439941406,40.103397369384766,28.075613021850586,44.847049713134766,-9.687919616699219,-31.306917190551758,-44.42057418823242,-35.19664764404297,-43.93309020996094,67.26272583007812,66.3685302734375,-16.171571731567383,63.74542236328125,30.910627365112305,-48.96025466918945,23.5361328125,-4.574373722076416,-54.216400146484375,-39.640716552734375,-10.854166984558105,-9.422483444213867,11.273725509643555,-58.91925048828125,2.1622445583343506,-29.92201805114746,-44.453285217285156,29.119932174682617,18.683191299438477,60.96480178833008,35.601192474365234,-58.668312072753906,-58.03923034667969,-55.3214111328125,50.786251068115234,-33.734134674072266,8.791420936584473,-30.59465980529785,-18.589879989624023,63.30637741088867,31.400238037109375,-30.425867080688477,41.551048278808594,8.371471405029297,8.595149040222168,-56.505104064941406,16.029621124267578,1.11110258102417,0.10339817404747009,-56.296974182128906,15.659751892089844,15.525259971618652,-59.72988510131836,62.541412353515625,-42.08335494995117,-6.903515815734863,5.206697463989258,44.43303298950195,-33.00550842285156,25.366554260253906,-60.36968994140625,19.791685104370117,-29.997804641723633,37.66611862182617,51.05154800415039,28.291784286499023,57.39999771118164,41.47865295410156,30.470943450927734,-35.99827575683594,32.87760925292969,-46.711692810058594,55.49164581298828,54.73735046386719,17.452211380004883,24.022491455078125,28.552017211914062,39.26650619506836,34.773643493652344,-11.478482246398926,61.34990692138672,5.782916069030762,15.015445709228516,-60.221500396728516,-12.278141975402832,-1.1412348747253418,-44.38600540161133,27.40821075439453,2.8869643211364746,-38.463138580322266,-27.516977310180664,-28.21625328063965,20.734872817993164,57.39497756958008,29.293014526367188,20.745471954345703,35.84200668334961,18.0198917388916,-12.322501182556152,33.76908493041992,44.10038375854492,52.315147399902344,-29.171375274658203,6.064426422119141,-4.511213302612305,0.30422189831733704,15.555110931396484,-12.376376152038574,31.26791763305664,29.110145568847656,-41.12766647338867,-14.341643333435059,-30.968076705932617,11.814031600952148,42.99879455566406,-38.54277038574219,7.194860935211182,-29.34415054321289,-30.827545166015625,-5.519514083862305,-33.83662414550781,15.609163284301758,-3.8442440032958984,2.446115732192993,-7.628783226013184,42.11384582519531,20.125181198120117,-40.37356948852539,-6.93224573135376,-37.3919792175293,20.01235580444336,44.36957931518555,54.31631851196289,28.115455627441406,49.58934020996094,25.989084243774414,28.048601150512695,32.90604782104492,-4.745215892791748,-35.37635803222656,4.370143413543701,-18.867523193359375,-0.620648205280304,36.415672302246094,-48.66878890991211,-31.108747482299805,-39.485069274902344,2.940490961074829,-49.49748611450195,-15.390704154968262,-47.05168151855469,-6.666007995605469,1.7259122133255005,52.137516021728516,15.653932571411133,-8.304665565490723,15.910604476928711,58.81458282470703,22.518280029296875,-20.130144119262695,-40.082271575927734,61.611045837402344,17.226415634155273,-14.031529426574707,-26.089630126953125,-61.46665573120117,-45.477725982666016,-31.288057327270508,-6.764262676239014,-26.673011779785156,-30.54620361328125,18.777620315551758,30.56325912475586,49.51860046386719,53.985748291015625,-56.892234802246094,-14.920404434204102,-23.569026947021484,19.61978530883789,-31.802227020263672,27.210418701171875,14.538649559020996,21.655899047851562,31.891006469726562,-36.660362243652344,-2.782402276992798,-33.767147064208984,7.816760063171387,7.2605719566345215,12.74162769317627,38.16812515258789,35.03566360473633,13.168020248413086,16.9627742767334,41.394371032714844,17.74785041809082,51.2545051574707,-20.229259490966797,22.17714500427246,-35.547935485839844,23.178003311157227,11.048389434814453,-7.754485607147217,50.04191589355469,-13.848681449890137,9.324319839477539,21.330366134643555,53.72504806518555,20.258331298828125,1.1750236749649048,-0.4746899902820587,45.328372955322266,-4.605487823486328,2.417874336242676,-30.099428176879883,17.338699340820312,-56.38948059082031,-60.44866943359375,-27.72882843017578,31.322446823120117,-7.0457377433776855,55.564334869384766,7.623751163482666,-3.2914998531341553,-5.96266508102417,11.872319221496582,38.05577087402344,38.2567138671875,61.5654182434082,20.53919219970703,26.322429656982422,9.509833335876465,12.19530963897705,-9.558156967163086,43.7692985534668,15.606375694274902,13.701359748840332,-31.510942459106445,0.5259081721305847,-52.50123977661133,2.6888973712921143,-34.99774169921875,37.62779998779297,53.76358413696289,-22.31329917907715,-57.06430435180664,-6.776144027709961,8.216232299804688,9.134008407592773,-56.718231201171875,-6.957610607147217,-48.243804931640625,-4.717465400695801,45.280887603759766,-24.28602409362793,8.109254837036133,7.3075175285339355,4.98178243637085,-30.278575897216797,-50.07481002807617,5.808642864227295,-28.982929229736328,-19.332019805908203,33.27193832397461,-22.16864013671875,-20.86585807800293,-4.331297397613525,53.40739059448242,-31.296585083007812,-34.54885482788086,-54.98236846923828,-48.546871185302734,-20.541982650756836,24.930335998535156,40.85286331176758,10.133163452148438,27.093868255615234,36.679786682128906,-39.77783966064453,-8.32470703125,59.84524917602539,9.285511016845703,-17.913257598876953,-25.701208114624023,58.173866271972656,-1.2385990619659424,-29.108463287353516,16.124038696289062,2.4763877391815186,-27.92141342163086,46.41349411010742,62.102115631103516,-31.305606842041016,-27.365753173828125,-20.599897384643555,-38.208656311035156,26.188106536865234,61.353973388671875,37.015098571777344,-56.872310638427734,27.66948699951172,8.21753215789795,-58.08238983154297,-14.303948402404785,-56.349586486816406,35.58856201171875,9.766448020935059,-10.00726318359375,-20.390287399291992,-27.496341705322266,35.97694396972656,26.96881103515625,17.257099151611328,-22.026601791381836,-61.02231216430664,33.366233825683594,32.689414978027344,-13.6905517578125,-12.525672912597656,-13.040482521057129,19.118209838867188,-61.7568359375,-54.15397262573242,-34.19986343383789,28.446189880371094,17.089628219604492,47.72402572631836,-31.396121978759766,1.486215591430664,11.139280319213867],\"xaxis\":\"x\",\"y\":[-4.591752529144287,-18.653684616088867,13.855877876281738,3.700235366821289,21.584138870239258,-10.08158016204834,-42.4085807800293,-3.2672367095947266,-33.2349967956543,-33.488807678222656,32.656829833984375,-26.97776985168457,28.373689651489258,-7.001391887664795,5.827678680419922,-36.59710693359375,-3.717372417449951,-54.732513427734375,-35.615352630615234,31.945119857788086,-46.57164764404297,5.3933634757995605,-15.772422790527344,-26.94502067565918,-14.71854019165039,-50.883060455322266,8.17834186553955,24.4315128326416,39.17555236816406,51.619110107421875,-13.992815017700195,-47.37910842895508,-12.676910400390625,27.27941131591797,43.43759536743164,-52.73602294921875,53.99599075317383,13.750350952148438,3.704524040222168,-46.464759826660156,-2.4454667568206787,-7.842952251434326,7.696743488311768,-4.204218864440918,-14.53825569152832,42.0980339050293,-44.44353103637695,-15.903486251831055,16.08759307861328,-38.986873626708984,10.428136825561523,31.19740104675293,35.07793045043945,-20.797090530395508,12.774867057800293,-34.171653747558594,-41.50973892211914,-35.84107208251953,-10.912760734558105,14.72393798828125,27.543590545654297,-40.2461051940918,-49.780982971191406,6.248076438903809,6.198112487792969,-17.792741775512695,1.3308452367782593,-3.8723456859588623,23.957080841064453,53.564884185791016,13.53926944732666,5.323093414306641,2.4718995094299316,-45.38460922241211,-6.672823429107666,-14.35113525390625,3.658292770385742,43.874168395996094,-1.573345422744751,53.64246368408203,3.4155354499816895,25.91517448425293,-15.551454544067383,31.3890380859375,-35.2425651550293,1.3456182479858398,-20.801496505737305,8.462809562683105,-34.98936462402344,-4.785325527191162,12.540948867797852,5.5682196617126465,-30.822826385498047,-16.40130043029785,18.751758575439453,28.04591941833496,-3.3763411045074463,35.73896026611328,27.136672973632812,23.445663452148438,-23.77767562866211,47.262611389160156,21.26363182067871,-6.467703342437744,29.396780014038086,10.478609085083008,-20.170549392700195,13.844036102294922,-35.82306671142578,35.54814147949219,-14.763944625854492,9.592784881591797,24.897314071655273,6.052145004272461,11.880804061889648,-5.611445903778076,-6.581657886505127,-10.57172966003418,9.64692211151123,37.83741760253906,-25.302183151245117,48.46537780761719,-2.470259666442871,-10.421171188354492,7.346982002258301,35.8270149230957,11.084004402160645,-24.22882652282715,5.135692119598389,-14.742478370666504,51.108089447021484,-21.35602378845215,14.274761199951172,-7.776534080505371,7.927128791809082,15.256691932678223,34.94773864746094,28.27129364013672,-16.187114715576172,-48.45633316040039,20.22026252746582,53.281280517578125,-39.96710205078125,-47.579994201660156,-26.435487747192383,14.210198402404785,30.45623016357422,-25.446176528930664,-24.141923904418945,-23.878231048583984,11.348294258117676,-27.71033477783203,-35.05010986328125,-3.3604109287261963,31.920055389404297,-8.017372131347656,-6.335718154907227,2.0394678115844727,9.701314926147461,-20.774932861328125,-12.544168472290039,-1.6354608535766602,29.901260375976562,-11.146424293518066,-15.452614784240723,43.04224395751953,34.86598205566406,-47.836673736572266,24.64539337158203,-4.8590898513793945,40.13895034790039,-26.158775329589844,30.24643898010254,-36.802391052246094,12.267060279846191,11.196890830993652,-16.844446182250977,-35.42753601074219,-2.0541908740997314,27.321386337280273,-9.619917869567871,-49.11862564086914,-11.033164024353027,-10.840868949890137,2.491302967071533,-22.618257522583008,19.569604873657227,-6.619940757751465,18.02074432373047,21.809799194335938,45.294307708740234,-28.204891204833984,-29.19249725341797,43.920494079589844,12.48807144165039,-34.476600646972656,61.21080780029297,4.6373677253723145,-15.844189643859863,-32.82404708862305,-35.788780212402344,53.14061737060547,-4.815842628479004,46.334659576416016,-8.205436706542969,26.058351516723633,12.439924240112305,-3.4514176845550537,15.621588706970215,-13.023343086242676,24.57245635986328,6.677248954772949,43.26386260986328,-38.94951248168945,-11.722502708435059,3.129481077194214,-16.392484664916992,-28.040441513061523,-2.476407527923584,-46.598716735839844,14.263282775878906,1.3329663276672363,-32.660865783691406,17.833267211914062,43.61410140991211,9.57886028289795,-23.259138107299805,34.4668083190918,-15.643383026123047,23.981054306030273,-13.744778633117676,-32.69844436645508,-61.01504135131836,-16.114749908447266,-10.709695816040039,-31.58248519897461,-26.156862258911133,-29.499494552612305,-8.722513198852539,-6.875645160675049,36.66346740722656,-21.76237678527832,-11.559453010559082,-30.370033264160156,33.193336486816406,19.266443252563477,-36.273902893066406,-12.742658615112305,15.870817184448242,-36.64646530151367,-38.182552337646484,11.659626960754395,18.282609939575195,-15.471118927001953,8.647210121154785,16.516883850097656,-7.403072834014893,-0.21952088177204132,-0.647932767868042,-44.677276611328125,23.241792678833008,10.94990062713623,-7.306321144104004,44.211219787597656,-1.1053968667984009,25.653568267822266,8.565117835998535,-0.28270193934440613,29.780624389648438,6.0126752853393555,4.2405829429626465,33.546268463134766,52.85548400878906,-24.158679962158203,0.9693517088890076,40.96120834350586,-27.413509368896484,-3.963118314743042,43.09873580932617,-32.081024169921875,-11.963653564453125,11.091217041015625,24.69633674621582,-1.1442499160766602,36.511199951171875,1.431501030921936,-22.898361206054688,-35.06713104248047,-34.375579833984375,-7.652100086212158,23.320344924926758,13.986241340637207,-31.54593849182129,22.96761131286621,-2.0724804401397705,-0.8369250297546387,42.11558532714844,-18.993417739868164,42.14214324951172,-25.206050872802734,-27.660751342773438,-35.05619430541992,23.746912002563477,-19.465797424316406,11.727258682250977,-53.7655143737793,27.413854598999023,-14.170309066772461,-25.701324462890625,18.51097869873047,-28.38534927368164,20.1071720123291,18.975765228271484,11.345258712768555,-52.522117614746094,-2.8903441429138184,14.861717224121094,4.055733680725098,26.557859420776367,-6.617140769958496,14.606802940368652,-37.288002014160156,37.40040588378906,-17.3039493560791,22.84238624572754,50.6873893737793,25.18186378479004,-11.634596824645996,-5.703213214874268,-9.257721900939941,12.701032638549805,-21.61860466003418,4.812029838562012,-49.2683219909668,-29.144826889038086,-2.2478039264678955,-1.6741982698440552,46.95372009277344,-38.698699951171875,20.99860954284668,25.011980056762695,33.4251594543457,15.271783828735352,37.341976165771484,5.4052414894104,-46.66861343383789,-21.959897994995117,-10.193524360656738,45.23318099975586,-33.02635192871094,-49.59915542602539,-23.957752227783203,-18.853139877319336,7.290439605712891,-17.697940826416016,-5.9723944664001465,-5.431800365447998,-10.35041618347168,-3.50026273727417,-22.643457412719727,14.036664962768555,41.40135192871094,33.770294189453125,-33.95838928222656,-7.59427547454834,42.43190002441406,-22.39633560180664,-32.23086929321289,-5.2263336181640625,-12.507316589355469,32.16246795654297,-10.969030380249023,46.65630340576172,-42.687843322753906,4.62977409362793,8.335208892822266,-14.814465522766113,5.5495500564575195,-14.497800827026367,-2.7487165927886963,-8.365938186645508,-44.085262298583984,-16.852622985839844,34.160736083984375,-3.6287951469421387,61.16075134277344,13.861449241638184,-10.461590766906738,-20.168195724487305,-3.553947687149048,-15.350984573364258,-24.959671020507812,43.70614242553711,-35.8633918762207,-31.812416076660156,-23.596689224243164,49.681556701660156,-12.72946548461914,6.749567031860352,21.5666561126709,-27.65435218811035,-21.19782066345215,-34.88945007324219,-15.556754112243652,-25.796430587768555,-22.430885314941406,8.75934886932373,-16.846527099609375,19.432926177978516,29.50913429260254,-31.97648811340332,-4.126754283905029,47.45413589477539,-30.000553131103516,-23.346973419189453,19.568889617919922,-6.849310398101807,1.3120970726013184,25.125225067138672,14.268241882324219,40.527713775634766,17.85683250427246,8.976412773132324,23.79373550415039,40.00164031982422,1.1110376119613647,22.3267822265625,17.053958892822266,-18.0888614654541,-10.19084644317627,-47.87052536010742,-13.43979263305664,44.54719924926758,-14.014392852783203,-7.223633289337158,9.836437225341797,-9.026449203491211,45.438018798828125,15.573076248168945,-31.382070541381836,23.22116470336914,-40.681434631347656,-14.6527681350708,40.9212532043457,36.78373718261719,37.42157745361328,7.245085716247559,5.973304748535156,33.40273666381836,-8.988988876342773,-22.062789916992188,-10.937559127807617,-46.58759689331055,-28.357669830322266,18.760684967041016,-24.712631225585938,2.5664334297180176,30.35787582397461,-33.53997039794922,27.077478408813477,-48.904579162597656,-43.88852310180664,28.493934631347656,11.547395706176758,-27.22979736328125,9.979843139648438,-22.27735137939453,-0.10619256645441055,-13.90854263305664,-29.040836334228516,26.351770401000977,-10.83778190612793,-28.091419219970703,-33.174259185791016,-34.581016540527344,-7.9278998374938965,7.42065954208374,1.6266157627105713,-36.73683166503906,16.287485122680664,-2.7127718925476074,6.18378210067749,-53.85749816894531,-6.477935791015625,30.275846481323242,3.563016653060913,0.6998919248580933,-35.655242919921875,17.96253204345703,-25.031307220458984,41.967464447021484,21.75432777404785,3.5599167346954346,17.17348861694336,-9.198162078857422,-16.662717819213867,26.98111343383789,-36.558895111083984,-2.571584463119507,20.693607330322266,-51.23139953613281,17.373769760131836,12.940261840820312,21.618215560913086,-0.7018036842346191,-49.20883560180664,5.666568756103516,25.64790153503418,-13.228824615478516,38.95977020263672,-4.31100606918335,4.0504536628723145,31.096012115478516,-34.19626998901367,-30.724035263061523,4.787172794342041,-14.170639991760254,20.06340980529785,-7.231082439422607,-5.6522722244262695,13.804443359375,-23.088939666748047,16.366207122802734,-52.88924789428711,-15.32684326171875,30.687793731689453,51.78020095825195,-10.388176918029785,19.964649200439453,5.300567150115967,29.36862564086914,30.515474319458008,34.89943313598633,21.956485748291016,-46.72184753417969,-2.3117501735687256,-4.9312944412231445,-11.18706226348877,25.806974411010742,26.025793075561523,15.304482460021973,30.34426498413086,28.759593963623047,32.3426399230957,-6.238647937774658,31.436359405517578,8.094441413879395,-41.60607147216797,-7.614311695098877,36.78618240356445,-41.0131950378418,32.180076599121094,6.952858924865723,42.9410285949707,-61.54316329956055,-16.754301071166992,-34.36024475097656,0.75951087474823,-8.891374588012695,15.9105224609375,42.99546432495117,-11.113563537597656,-21.5446834564209,-44.301124572753906,-26.145036697387695,-36.7593994140625,25.82016944885254,21.23626136779785,33.70813751220703,-32.196739196777344,8.291373252868652,-6.782156467437744,-9.392210960388184,-13.13464641571045,-40.80720901489258,8.288087844848633,-50.3050537109375,-34.203208923339844,9.480266571044922,27.759347915649414,32.52737808227539,-11.22087287902832,-23.341243743896484,13.410825729370117,20.315052032470703,13.124229431152344,6.423761367797852,8.000731468200684,-1.850879192352295,-25.556318283081055,10.98031997680664,-38.65817642211914,-45.72812271118164,-40.09394073486328,5.557760238647461,25.191600799560547,-23.38045310974121,-32.11259078979492,6.573678970336914,14.94539737701416,-49.45569610595703,34.78316879272461,4.524476051330566,18.285335540771484,15.977360725402832,-40.9504280090332,8.0248441696167,26.981626510620117,-17.70813751220703,32.48154067993164,-14.718244552612305,29.044641494750977,-0.358140766620636,10.896027565002441,8.941893577575684,14.990740776062012,-24.43848991394043,32.85773468017578,-2.4024624824523926,37.180419921875,9.889086723327637,27.02227783203125,7.050327301025391,-49.18392562866211,9.195842742919922,2.5062618255615234,-45.092227935791016,-29.465660095214844,39.275447845458984,-6.199833393096924,-48.68518829345703,-9.66386890411377,19.740100860595703,-37.83650207519531,5.250370025634766,6.579619407653809,-15.181633949279785,-34.612735748291016,40.35329055786133,-0.3291001617908478,-32.41169357299805,-25.87373924255371,-12.454767227172852,-5.6636457443237305,-31.12525177001953,-1.7809609174728394,19.476991653442383,11.897467613220215,-23.117206573486328,-11.520328521728516,-24.622053146362305,-51.78776168823242,11.801612854003906,29.282339096069336,11.342545509338379,-24.317686080932617,-37.2347526550293,16.57012939453125,-25.44156837463379,-24.853919982910156,36.017364501953125,35.57419967651367,-9.43820858001709,-33.69987106323242,37.96928787231445,-52.98625946044922,-26.77164077758789,19.867443084716797,-6.313437461853027,-35.60469436645508,-53.539058685302734,-7.498141765594482,-13.928346633911133,-61.44441223144531,7.1697492599487305],\"yaxis\":\"y\",\"type\":\"scatter\"}],                        {\"template\":{\"data\":{\"histogram2dcontour\":[{\"type\":\"histogram2dcontour\",\"colorbar\":{\"outlinewidth\":0,\"ticks\":\"\"},\"colorscale\":[[0.0,\"#0d0887\"],[0.1111111111111111,\"#46039f\"],[0.2222222222222222,\"#7201a8\"],[0.3333333333333333,\"#9c179e\"],[0.4444444444444444,\"#bd3786\"],[0.5555555555555556,\"#d8576b\"],[0.6666666666666666,\"#ed7953\"],[0.7777777777777778,\"#fb9f3a\"],[0.8888888888888888,\"#fdca26\"],[1.0,\"#f0f921\"]]}],\"choropleth\":[{\"type\":\"choropleth\",\"colorbar\":{\"outlinewidth\":0,\"ticks\":\"\"}}],\"histogram2d\":[{\"type\":\"histogram2d\",\"colorbar\":{\"outlinewidth\":0,\"ticks\":\"\"},\"colorscale\":[[0.0,\"#0d0887\"],[0.1111111111111111,\"#46039f\"],[0.2222222222222222,\"#7201a8\"],[0.3333333333333333,\"#9c179e\"],[0.4444444444444444,\"#bd3786\"],[0.5555555555555556,\"#d8576b\"],[0.6666666666666666,\"#ed7953\"],[0.7777777777777778,\"#fb9f3a\"],[0.8888888888888888,\"#fdca26\"],[1.0,\"#f0f921\"]]}],\"heatmap\":[{\"type\":\"heatmap\",\"colorbar\":{\"outlinewidth\":0,\"ticks\":\"\"},\"colorscale\":[[0.0,\"#0d0887\"],[0.1111111111111111,\"#46039f\"],[0.2222222222222222,\"#7201a8\"],[0.3333333333333333,\"#9c179e\"],[0.4444444444444444,\"#bd3786\"],[0.5555555555555556,\"#d8576b\"],[0.6666666666666666,\"#ed7953\"],[0.7777777777777778,\"#fb9f3a\"],[0.8888888888888888,\"#fdca26\"],[1.0,\"#f0f921\"]]}],\"heatmapgl\":[{\"type\":\"heatmapgl\",\"colorbar\":{\"outlinewidth\":0,\"ticks\":\"\"},\"colorscale\":[[0.0,\"#0d0887\"],[0.1111111111111111,\"#46039f\"],[0.2222222222222222,\"#7201a8\"],[0.3333333333333333,\"#9c179e\"],[0.4444444444444444,\"#bd3786\"],[0.5555555555555556,\"#d8576b\"],[0.6666666666666666,\"#ed7953\"],[0.7777777777777778,\"#fb9f3a\"],[0.8888888888888888,\"#fdca26\"],[1.0,\"#f0f921\"]]}],\"contourcarpet\":[{\"type\":\"contourcarpet\",\"colorbar\":{\"outlinewidth\":0,\"ticks\":\"\"}}],\"contour\":[{\"type\":\"contour\",\"colorbar\":{\"outlinewidth\":0,\"ticks\":\"\"},\"colorscale\":[[0.0,\"#0d0887\"],[0.1111111111111111,\"#46039f\"],[0.2222222222222222,\"#7201a8\"],[0.3333333333333333,\"#9c179e\"],[0.4444444444444444,\"#bd3786\"],[0.5555555555555556,\"#d8576b\"],[0.6666666666666666,\"#ed7953\"],[0.7777777777777778,\"#fb9f3a\"],[0.8888888888888888,\"#fdca26\"],[1.0,\"#f0f921\"]]}],\"surface\":[{\"type\":\"surface\",\"colorbar\":{\"outlinewidth\":0,\"ticks\":\"\"},\"colorscale\":[[0.0,\"#0d0887\"],[0.1111111111111111,\"#46039f\"],[0.2222222222222222,\"#7201a8\"],[0.3333333333333333,\"#9c179e\"],[0.4444444444444444,\"#bd3786\"],[0.5555555555555556,\"#d8576b\"],[0.6666666666666666,\"#ed7953\"],[0.7777777777777778,\"#fb9f3a\"],[0.8888888888888888,\"#fdca26\"],[1.0,\"#f0f921\"]]}],\"mesh3d\":[{\"type\":\"mesh3d\",\"colorbar\":{\"outlinewidth\":0,\"ticks\":\"\"}}],\"scatter\":[{\"fillpattern\":{\"fillmode\":\"overlay\",\"size\":10,\"solidity\":0.2},\"type\":\"scatter\"}],\"parcoords\":[{\"type\":\"parcoords\",\"line\":{\"colorbar\":{\"outlinewidth\":0,\"ticks\":\"\"}}}],\"scatterpolargl\":[{\"type\":\"scatterpolargl\",\"marker\":{\"colorbar\":{\"outlinewidth\":0,\"ticks\":\"\"}}}],\"bar\":[{\"error_x\":{\"color\":\"#2a3f5f\"},\"error_y\":{\"color\":\"#2a3f5f\"},\"marker\":{\"line\":{\"color\":\"#E5ECF6\",\"width\":0.5},\"pattern\":{\"fillmode\":\"overlay\",\"size\":10,\"solidity\":0.2}},\"type\":\"bar\"}],\"scattergeo\":[{\"type\":\"scattergeo\",\"marker\":{\"colorbar\":{\"outlinewidth\":0,\"ticks\":\"\"}}}],\"scatterpolar\":[{\"type\":\"scatterpolar\",\"marker\":{\"colorbar\":{\"outlinewidth\":0,\"ticks\":\"\"}}}],\"histogram\":[{\"marker\":{\"pattern\":{\"fillmode\":\"overlay\",\"size\":10,\"solidity\":0.2}},\"type\":\"histogram\"}],\"scattergl\":[{\"type\":\"scattergl\",\"marker\":{\"colorbar\":{\"outlinewidth\":0,\"ticks\":\"\"}}}],\"scatter3d\":[{\"type\":\"scatter3d\",\"line\":{\"colorbar\":{\"outlinewidth\":0,\"ticks\":\"\"}},\"marker\":{\"colorbar\":{\"outlinewidth\":0,\"ticks\":\"\"}}}],\"scattermapbox\":[{\"type\":\"scattermapbox\",\"marker\":{\"colorbar\":{\"outlinewidth\":0,\"ticks\":\"\"}}}],\"scatterternary\":[{\"type\":\"scatterternary\",\"marker\":{\"colorbar\":{\"outlinewidth\":0,\"ticks\":\"\"}}}],\"scattercarpet\":[{\"type\":\"scattercarpet\",\"marker\":{\"colorbar\":{\"outlinewidth\":0,\"ticks\":\"\"}}}],\"carpet\":[{\"aaxis\":{\"endlinecolor\":\"#2a3f5f\",\"gridcolor\":\"white\",\"linecolor\":\"white\",\"minorgridcolor\":\"white\",\"startlinecolor\":\"#2a3f5f\"},\"baxis\":{\"endlinecolor\":\"#2a3f5f\",\"gridcolor\":\"white\",\"linecolor\":\"white\",\"minorgridcolor\":\"white\",\"startlinecolor\":\"#2a3f5f\"},\"type\":\"carpet\"}],\"table\":[{\"cells\":{\"fill\":{\"color\":\"#EBF0F8\"},\"line\":{\"color\":\"white\"}},\"header\":{\"fill\":{\"color\":\"#C8D4E3\"},\"line\":{\"color\":\"white\"}},\"type\":\"table\"}],\"barpolar\":[{\"marker\":{\"line\":{\"color\":\"#E5ECF6\",\"width\":0.5},\"pattern\":{\"fillmode\":\"overlay\",\"size\":10,\"solidity\":0.2}},\"type\":\"barpolar\"}],\"pie\":[{\"automargin\":true,\"type\":\"pie\"}]},\"layout\":{\"autotypenumbers\":\"strict\",\"colorway\":[\"#636efa\",\"#EF553B\",\"#00cc96\",\"#ab63fa\",\"#FFA15A\",\"#19d3f3\",\"#FF6692\",\"#B6E880\",\"#FF97FF\",\"#FECB52\"],\"font\":{\"color\":\"#2a3f5f\"},\"hovermode\":\"closest\",\"hoverlabel\":{\"align\":\"left\"},\"paper_bgcolor\":\"white\",\"plot_bgcolor\":\"#E5ECF6\",\"polar\":{\"bgcolor\":\"#E5ECF6\",\"angularaxis\":{\"gridcolor\":\"white\",\"linecolor\":\"white\",\"ticks\":\"\"},\"radialaxis\":{\"gridcolor\":\"white\",\"linecolor\":\"white\",\"ticks\":\"\"}},\"ternary\":{\"bgcolor\":\"#E5ECF6\",\"aaxis\":{\"gridcolor\":\"white\",\"linecolor\":\"white\",\"ticks\":\"\"},\"baxis\":{\"gridcolor\":\"white\",\"linecolor\":\"white\",\"ticks\":\"\"},\"caxis\":{\"gridcolor\":\"white\",\"linecolor\":\"white\",\"ticks\":\"\"}},\"coloraxis\":{\"colorbar\":{\"outlinewidth\":0,\"ticks\":\"\"}},\"colorscale\":{\"sequential\":[[0.0,\"#0d0887\"],[0.1111111111111111,\"#46039f\"],[0.2222222222222222,\"#7201a8\"],[0.3333333333333333,\"#9c179e\"],[0.4444444444444444,\"#bd3786\"],[0.5555555555555556,\"#d8576b\"],[0.6666666666666666,\"#ed7953\"],[0.7777777777777778,\"#fb9f3a\"],[0.8888888888888888,\"#fdca26\"],[1.0,\"#f0f921\"]],\"sequentialminus\":[[0.0,\"#0d0887\"],[0.1111111111111111,\"#46039f\"],[0.2222222222222222,\"#7201a8\"],[0.3333333333333333,\"#9c179e\"],[0.4444444444444444,\"#bd3786\"],[0.5555555555555556,\"#d8576b\"],[0.6666666666666666,\"#ed7953\"],[0.7777777777777778,\"#fb9f3a\"],[0.8888888888888888,\"#fdca26\"],[1.0,\"#f0f921\"]],\"diverging\":[[0,\"#8e0152\"],[0.1,\"#c51b7d\"],[0.2,\"#de77ae\"],[0.3,\"#f1b6da\"],[0.4,\"#fde0ef\"],[0.5,\"#f7f7f7\"],[0.6,\"#e6f5d0\"],[0.7,\"#b8e186\"],[0.8,\"#7fbc41\"],[0.9,\"#4d9221\"],[1,\"#276419\"]]},\"xaxis\":{\"gridcolor\":\"white\",\"linecolor\":\"white\",\"ticks\":\"\",\"title\":{\"standoff\":15},\"zerolinecolor\":\"white\",\"automargin\":true,\"zerolinewidth\":2},\"yaxis\":{\"gridcolor\":\"white\",\"linecolor\":\"white\",\"ticks\":\"\",\"title\":{\"standoff\":15},\"zerolinecolor\":\"white\",\"automargin\":true,\"zerolinewidth\":2},\"scene\":{\"xaxis\":{\"backgroundcolor\":\"#E5ECF6\",\"gridcolor\":\"white\",\"linecolor\":\"white\",\"showbackground\":true,\"ticks\":\"\",\"zerolinecolor\":\"white\",\"gridwidth\":2},\"yaxis\":{\"backgroundcolor\":\"#E5ECF6\",\"gridcolor\":\"white\",\"linecolor\":\"white\",\"showbackground\":true,\"ticks\":\"\",\"zerolinecolor\":\"white\",\"gridwidth\":2},\"zaxis\":{\"backgroundcolor\":\"#E5ECF6\",\"gridcolor\":\"white\",\"linecolor\":\"white\",\"showbackground\":true,\"ticks\":\"\",\"zerolinecolor\":\"white\",\"gridwidth\":2}},\"shapedefaults\":{\"line\":{\"color\":\"#2a3f5f\"}},\"annotationdefaults\":{\"arrowcolor\":\"#2a3f5f\",\"arrowhead\":0,\"arrowwidth\":1},\"geo\":{\"bgcolor\":\"white\",\"landcolor\":\"#E5ECF6\",\"subunitcolor\":\"white\",\"showland\":true,\"showlakes\":true,\"lakecolor\":\"white\"},\"title\":{\"x\":0.05},\"mapbox\":{\"style\":\"light\"}}},\"xaxis\":{\"anchor\":\"y\",\"domain\":[0.0,1.0],\"title\":{\"text\":\"0\"}},\"yaxis\":{\"anchor\":\"x\",\"domain\":[0.0,1.0],\"title\":{\"text\":\"1\"}},\"legend\":{\"tracegroupgap\":0},\"margin\":{\"t\":60},\"height\":800,\"width\":800},                        {\"responsive\": true}                    ).then(function(){\n",
       "                            \n",
       "var gd = document.getElementById('fd537c2c-309e-4a09-8b68-46f13112837d');\n",
       "var x = new MutationObserver(function (mutations, observer) {{\n",
       "        var display = window.getComputedStyle(gd).display;\n",
       "        if (!display || display === 'none') {{\n",
       "            console.log([gd, 'removed!']);\n",
       "            Plotly.purge(gd);\n",
       "            observer.disconnect();\n",
       "        }}\n",
       "}});\n",
       "\n",
       "// Listen for the removal of the full notebook cells\n",
       "var notebookContainer = gd.closest('#notebook-container');\n",
       "if (notebookContainer) {{\n",
       "    x.observe(notebookContainer, {childList: true});\n",
       "}}\n",
       "\n",
       "// Listen for the clearing of the current output cell\n",
       "var outputEl = gd.closest('.output');\n",
       "if (outputEl) {{\n",
       "    x.observe(outputEl, {childList: true});\n",
       "}}\n",
       "\n",
       "                        })                };                });            </script>        </div>"
      ]
     },
     "metadata": {},
     "output_type": "display_data"
    }
   ],
   "source": [
    "fig = px.scatter(\n",
    "    projections, \n",
    "    x=0, y=1,\n",
    "    hover_name = np.array(vocab),\n",
    "    width=800, \n",
    "    height=800\n",
    ")\n",
    "fig.show()"
   ]
  },
  {
   "cell_type": "code",
   "execution_count": null,
   "id": "f0871d4d-b89a-48bf-8f70-4385275967ba",
   "metadata": {},
   "outputs": [],
   "source": [
    "# creating similar plots for the other languages below:"
   ]
  },
  {
   "cell_type": "code",
   "execution_count": 153,
   "id": "0d525fc0-95ad-4e9f-a407-d44e340c50b2",
   "metadata": {
    "tags": []
   },
   "outputs": [],
   "source": [
    "beowulf_files = [f\"{directory_path}/beowulf.txt\"]\n",
    "beowulf_titles = [f\"{directory_path}/beowulf.txt\"]"
   ]
  },
  {
   "cell_type": "code",
   "execution_count": 154,
   "id": "c2a4c7b6-18c1-4b46-b1f2-0f6bfc0ffe50",
   "metadata": {
    "tags": []
   },
   "outputs": [],
   "source": [
    "beowulf_words = {k:get_unigram_counts(v) \n",
    "                    for k, v in zip(beowulf_titles, beowulf_files)}"
   ]
  },
  {
   "cell_type": "code",
   "execution_count": 127,
   "id": "fa2a9b40-ea98-40ce-ba2e-56a4676cb7dd",
   "metadata": {
    "tags": []
   },
   "outputs": [],
   "source": [
    "with open(f'{directory_path}/beowulf.txt') as beowulf:\n",
    "    lines = [line.strip() for line in beowulf]\n",
    "    sceal = [\"sceal\"] + \\\n",
    "          get_term_count(beowulf_words, \"sceal\")\n",
    "    we  = [\"we\"] + \\\n",
    "          get_term_count(beowulf_words, \"we\")"
   ]
  },
  {
   "cell_type": "code",
   "execution_count": 128,
   "id": "837cbf11-9f50-4ae3-a8ad-5ee7c40aaee1",
   "metadata": {
    "tags": []
   },
   "outputs": [
    {
     "name": "stdout",
     "output_type": "stream",
     "text": [
      "['sceal', 33]\n",
      "['we', 24]\n"
     ]
    }
   ],
   "source": [
    "print(sceal)\n",
    "print(we)"
   ]
  },
  {
   "cell_type": "code",
   "execution_count": 156,
   "id": "c4eb6f7b-5301-4d61-a1a4-d020cd1918fe",
   "metadata": {},
   "outputs": [
    {
     "name": "stdout",
     "output_type": "stream",
     "text": [
      "[['ã¾ã',\n",
      "  'r',\n",
      "  'ã',\n",
      "  't',\n",
      "  'hyã',\n",
      "  'e',\n",
      "  'stod',\n",
      "  'hringedstefna',\n",
      "  'isig',\n",
      "  'utfus',\n",
      "  'ã',\n",
      "  'ã¾elinges',\n",
      "  'fã',\n",
      "  'r'],\n",
      " ['aledon',\n",
      "  'ã¾a',\n",
      "  'leofne',\n",
      "  'ã¾eoden',\n",
      "  'beaga',\n",
      "  'bryttan',\n",
      "  'on',\n",
      "  'bearm',\n",
      "  'scipes',\n",
      "  'mã',\n",
      "  'rne',\n",
      "  'be',\n",
      "  'mã',\n",
      "  'ste']]\n"
     ]
    }
   ],
   "source": [
    "# this seems to not work as well for OE as it did for Latin\n",
    "with open (f\"{directory_path}/beowulf.txt\", 'r') as f:\n",
    "  text = f.read()\n",
    "  \n",
    "text = text.replace(\"\\n\", \" \").lower()\n",
    "sentences = sent_tokenize(text)\n",
    "sent_word = [RegexpTokenizer(r\"\\w+\").tokenize(sent) for sent in sentences]\n",
    "corpus = [[w for w in sent if not w in stopwords.words('OEstopwords.txt')] for sent in sent_word]\n",
    "pprint(corpus[10:12])"
   ]
  },
  {
   "cell_type": "code",
   "execution_count": 177,
   "id": "29b07b3c-4939-4ac1-9442-8a93e8c98810",
   "metadata": {
    "tags": []
   },
   "outputs": [],
   "source": [
    "model = Word2Vec(sentences = corpus, \n",
    "                 vector_size = 100, \n",
    "                 window = 100,\n",
    "                 epochs = 100)"
   ]
  },
  {
   "cell_type": "code",
   "execution_count": 178,
   "id": "50a7d854-469e-4e3d-94be-1c5204f8aa99",
   "metadata": {
    "tags": []
   },
   "outputs": [
    {
     "name": "stdout",
     "output_type": "stream",
     "text": [
      "-------  --------\n",
      "gebidan  0.690094\n",
      "gemã     0.620709\n",
      "ã¾enceã  0.613886\n",
      "biã      0.539796\n",
      "wesan    0.519781\n",
      "wel      0.502233\n",
      "don      0.494577\n",
      "her      0.481247\n",
      "symle    0.479565\n",
      "mannan   0.469809\n",
      "-------  --------\n"
     ]
    }
   ],
   "source": [
    "print(\n",
    "  tabulate(\n",
    "    model.wv.most_similar(\"sceal\")\n",
    "  )\n",
    ")"
   ]
  },
  {
   "cell_type": "code",
   "execution_count": 179,
   "id": "a900170e-c31c-426e-8a7b-c2788bcdd7c2",
   "metadata": {
    "tags": []
   },
   "outputs": [],
   "source": [
    "beowulf_matrix = model.wv.get_normed_vectors()"
   ]
  },
  {
   "cell_type": "code",
   "execution_count": 180,
   "id": "fe4da9a3-9f52-4288-89df-bd322482b4c1",
   "metadata": {
    "tags": []
   },
   "outputs": [
    {
     "data": {
      "text/plain": [
       "(679, 100)"
      ]
     },
     "execution_count": 180,
     "metadata": {},
     "output_type": "execute_result"
    }
   ],
   "source": [
    "beowulf_matrix.shape"
   ]
  },
  {
   "cell_type": "code",
   "execution_count": 181,
   "id": "7edcd6ca-616c-4622-9e9b-0131a4e0800a",
   "metadata": {
    "tags": []
   },
   "outputs": [],
   "source": [
    "tsne = TSNE(n_components=2, perplexity = 5)\n",
    "beowulf_projections = tsne.fit_transform(beowulf_matrix)"
   ]
  },
  {
   "cell_type": "code",
   "execution_count": 182,
   "id": "4f121cec-ab44-4033-bc35-1a0343cf0d31",
   "metadata": {
    "tags": []
   },
   "outputs": [],
   "source": [
    "beowulf_vocab = model.wv.index_to_key"
   ]
  },
  {
   "cell_type": "code",
   "execution_count": 183,
   "id": "95d8c82a-01e9-4364-9ce7-62d5557325df",
   "metadata": {
    "tags": []
   },
   "outputs": [
    {
     "data": {
      "application/vnd.plotly.v1+json": {
       "config": {
        "plotlyServerURL": "https://plot.ly"
       },
       "data": [
        {
         "hovertemplate": "<b>%{hovertext}</b><br><br>0=%{x}<br>1=%{y}<extra></extra>",
         "hovertext": [
          "ã",
          "ã¾ã",
          "t",
          "wã",
          "on",
          "s",
          "he",
          "e",
          "r",
          "him",
          "a",
          "ã¾a",
          "se",
          "ic",
          "to",
          "mã",
          "hã",
          "ã¾e",
          "fã",
          "swa",
          "an",
          "sã",
          "his",
          "g",
          "oã",
          "mid",
          "fter",
          "guã",
          "ofer",
          "re",
          "wiã",
          "nã",
          "dã",
          "under",
          "hie",
          "ã¾onne",
          "in",
          "ge",
          "siã",
          "ã¾one",
          "me",
          "m",
          "syã",
          "nu",
          "hine",
          "ã¾u",
          "for",
          "lã",
          "um",
          "geata",
          "bã",
          "l",
          "fela",
          "wearã",
          "fde",
          "st",
          "wolde",
          "hroã",
          "no",
          "c",
          "eft",
          "rã",
          "of",
          "hwã",
          "sceal",
          "bearn",
          "is",
          "sunu",
          "am",
          "god",
          "maã",
          "hit",
          "hyne",
          "d",
          "helm",
          "forã",
          "heaã",
          "ste",
          "beowulf",
          "cyning",
          "oft",
          "ã¾eah",
          "hyrde",
          "we",
          "min",
          "u",
          "swylce",
          "ron",
          "ã¾am",
          "leode",
          "sweord",
          "manna",
          "gar",
          "deaã",
          "eorã",
          "meahte",
          "nig",
          "heold",
          "laã",
          "gif",
          "scyldinga",
          "be",
          "ã¾ara",
          "biã",
          "wrã",
          "yã",
          "eal",
          "leodum",
          "rum",
          "ã¾eoden",
          "gewat",
          "eorla",
          "niã",
          "frã",
          "sum",
          "er",
          "dum",
          "gefrã",
          "gumena",
          "scolde",
          "wide",
          "ymb",
          "heo",
          "heard",
          "wordum",
          "leã",
          "grendel",
          "swiã",
          "secg",
          "der",
          "hreã",
          "fre",
          "hord",
          "gen",
          "sele",
          "com",
          "ende",
          "sona",
          "eall",
          "ã¾urh",
          "o",
          "soã",
          "ra",
          "as",
          "mec",
          "cwom",
          "maã¾elode",
          "frean",
          "healfdenes",
          "grendles",
          "mine",
          "gesã",
          "le",
          "onne",
          "stod",
          "hu",
          "man",
          "mihte",
          "gã",
          "feorh",
          "lice",
          "crã",
          "hwilum",
          "eald",
          "inne",
          "moste",
          "ealle",
          "sio",
          "weard",
          "ã¾enden",
          "aglã",
          "wine",
          "men",
          "weorã",
          "golde",
          "feorran",
          "geseah",
          "eorl",
          "lange",
          "gemunde",
          "gefremede",
          "leoda",
          "ut",
          "wyrm",
          "sceolde",
          "innan",
          "mon",
          "secgan",
          "cuã",
          "het",
          "dryhten",
          "secean",
          "sealde",
          "sprã",
          "leod",
          "rice",
          "es",
          "wealle",
          "seo",
          "one",
          "gode",
          "leã¾a",
          "ã¾anon",
          "gyt",
          "hwile",
          "niht",
          "feond",
          "fah",
          "wiht",
          "healdan",
          "aldre",
          "hond",
          "ham",
          "feor",
          "cce",
          "geong",
          "gold",
          "ce",
          "gehwã",
          "neah",
          "selest",
          "duguã",
          "wel",
          "syã¾ã",
          "higelaces",
          "wyrd",
          "word",
          "hio",
          "wille",
          "gelã",
          "geaf",
          "monig",
          "maga",
          "or",
          "gares",
          "ã¾y",
          "ges",
          "hleo",
          "frod",
          "ã¾an",
          "byrnan",
          "her",
          "fram",
          "ana",
          "gn",
          "fornam",
          "ghwã",
          "us",
          "cwã",
          "genes",
          "searwum",
          "hy",
          "ter",
          "hean",
          "up",
          "rne",
          "siã¾ã",
          "wedera",
          "mod",
          "fdon",
          "nalles",
          "git",
          "eode",
          "geseon",
          "lafe",
          "elne",
          "oã¾ã¾ã",
          "ma",
          "geweald",
          "micel",
          "ecg",
          "wit",
          "hilde",
          "meahton",
          "swylc",
          "hafelan",
          "glã",
          "swã",
          "ealdre",
          "wig",
          "cynnes",
          "dyde",
          "rinc",
          "y",
          "dom",
          "geond",
          "minne",
          "minum",
          "sylfes",
          "hafaã",
          "heorote",
          "gebad",
          "gearwe",
          "beran",
          "bad",
          "ca",
          "hwearf",
          "hyt",
          "frecne",
          "goda",
          "beagas",
          "forgeaf",
          "sohte",
          "hat",
          "flet",
          "huru",
          "ecgum",
          "hi",
          "elode",
          "healle",
          "gesealde",
          "wen",
          "don",
          "folces",
          "oã¾ã",
          "wihte",
          "ã¾eling",
          "gretan",
          "modor",
          "weoll",
          "willan",
          "hand",
          "feã",
          "ghwylc",
          "hire",
          "lan",
          "ã¾egn",
          "mode",
          "da",
          "denum",
          "wedra",
          "ã¾earf",
          "nealles",
          "hyra",
          "findan",
          "metod",
          "guman",
          "eã",
          "iren",
          "ã¾in",
          "feore",
          "weg",
          "eallum",
          "dome",
          "ran",
          "higelac",
          "hearda",
          "leofne",
          "ellen",
          "can",
          "ongan",
          "gehwylcum",
          "gde",
          "efne",
          "hrã",
          "cwen",
          "ft",
          "handa",
          "te",
          "gare",
          "ful",
          "mas",
          "oã¾er",
          "stan",
          "brã",
          "deniga",
          "sefa",
          "atol",
          "dena",
          "heah",
          "frofre",
          "hyre",
          "heht",
          "tela",
          "lyt",
          "gemã",
          "de",
          "micle",
          "byre",
          "yrre",
          "moston",
          "nolde",
          "sceall",
          "leofa",
          "ferhã",
          "modes",
          "gefeng",
          "wintra",
          "fte",
          "biowulf",
          "mannes",
          "bearm",
          "ã¾earfe",
          "wolcnum",
          "folc",
          "worn",
          "leof",
          "habban",
          "earfoã",
          "hrof",
          "weold",
          "blode",
          "du",
          "bbe",
          "dohtor",
          "lif",
          "grim",
          "gesiã",
          "grã",
          "tgã",
          "dere",
          "sinc",
          "eard",
          "lifes",
          "sund",
          "suna",
          "godne",
          "grette",
          "gemyndig",
          "beowulfe",
          "guma",
          "la",
          "rest",
          "heap",
          "drihten",
          "lde",
          "wudu",
          "liã",
          "land",
          "gesawon",
          "side",
          "gewã",
          "flod",
          "onfand",
          "ecgã¾eowes",
          "cuã¾e",
          "ecgã",
          "longe",
          "onfeng",
          "holm",
          "lean",
          "geongum",
          "buton",
          "gewrã",
          "cynne",
          "hlã",
          "sweg",
          "foldan",
          "wynne",
          "anne",
          "gearo",
          "unc",
          "secan",
          "lum",
          "nigne",
          "fus",
          "godes",
          "gesyne",
          "sweorde",
          "mihtig",
          "helpe",
          "getwã",
          "aras",
          "ealde",
          "gesohte",
          "hild",
          "leng",
          "wealdan",
          "cyn",
          "feran",
          "from",
          "selestan",
          "blã",
          "anum",
          "led",
          "gebolgen",
          "hordweard",
          "since",
          "gebã",
          "genã",
          "ã¾ec",
          "ara",
          "snude",
          "swealt",
          "horde",
          "sceawian",
          "gefã",
          "ã¾onan",
          "eaxle",
          "nan",
          "folce",
          "nige",
          "somod",
          "hraã¾e",
          "slã",
          "ã¾egna",
          "manig",
          "seon",
          "maran",
          "wiglaf",
          "tbã",
          "twe",
          "ded",
          "sande",
          "beorge",
          "gebrã",
          "pnum",
          "sloh",
          "dryhtne",
          "wean",
          "waldend",
          "wisse",
          "tte",
          "scoldon",
          "morã",
          "ã¾on",
          "swyã",
          "wiste",
          "hraã",
          "twa",
          "eorã¾an",
          "pen",
          "samod",
          "hearde",
          "byrne",
          "strã",
          "gomela",
          "hte",
          "hildedeor",
          "dracan",
          "eow",
          "gyf",
          "sefan",
          "wene",
          "wesan",
          "con",
          "monegum",
          "gã¾a",
          "gewyrcean",
          "scyld",
          "drugon",
          "ht",
          "ahte",
          "dydon",
          "ã¾rage",
          "beaga",
          "selfa",
          "wihstanes",
          "aldor",
          "wrecan",
          "rices",
          "mere",
          "gegongen",
          "res",
          "tealde",
          "wendon",
          "hrusan",
          "eorlum",
          "onfunde",
          "gongan",
          "anes",
          "denigea",
          "cyst",
          "togeanes",
          "ellenweorc",
          "gebidan",
          "ides",
          "rof",
          "modig",
          "self",
          "secge",
          "broã",
          "ã¾er",
          "feng",
          "leoht",
          "wunde",
          "grunde",
          "gecwã",
          "eah",
          "cyninges",
          "draca",
          "ton",
          "brucan",
          "cean",
          "ongenã",
          "wyrmes",
          "beorges",
          "eowes",
          "hygelac",
          "ymbe",
          "mum",
          "eorlscipe",
          "hwate",
          "ys",
          "wat",
          "cempa",
          "sare",
          "bi",
          "goldwine",
          "leoã",
          "ecge",
          "wigend",
          "aã",
          "leofes",
          "nefne",
          "bewunden",
          "beorn",
          "gang",
          "ealles",
          "hafast",
          "worolde",
          "lungre",
          "lond",
          "beowulfes",
          "wiges",
          "mundum",
          "geatolic",
          "beorhte",
          "bat",
          "ftig",
          "cempan",
          "geatum",
          "sel",
          "heorot",
          "hynã",
          "rihte",
          "fyr",
          "fyrst",
          "gewin",
          "rgod",
          "neosan",
          "faran",
          "ã¾elinga",
          "fand",
          "forgeald",
          "fen",
          "haten",
          "helle",
          "fremman",
          "fyrene",
          "eac",
          "sang",
          "hearpan",
          "symle",
          "geogoã",
          "weras",
          "syndon",
          "bidan",
          "werede",
          "geweorc",
          "laf",
          "pna",
          "eotena",
          "reced",
          "lic",
          "ã¾ryã",
          "madmas",
          "mundgripe",
          "geã",
          "wile",
          "ã¾inum",
          "furã",
          "tsomne",
          "mannan",
          "ã¾is",
          "ã¾enceã",
          "worda",
          "hwylc",
          "wes",
          "hlaford",
          "heorã",
          "gecyã",
          "witan",
          "ad",
          "geweorã",
          "nis",
          "eower",
          "dan",
          "ssas"
         ],
         "legendgroup": "",
         "marker": {
          "color": "#636efa",
          "symbol": "circle"
         },
         "mode": "markers",
         "name": "",
         "orientation": "v",
         "showlegend": false,
         "type": "scatter",
         "x": [
          27.663908004760742,
          16.91023826599121,
          16.072166442871094,
          11.028000831604004,
          16.034503936767578,
          9.960968017578125,
          -5.307082176208496,
          68.4182357788086,
          31.80193328857422,
          13.8682861328125,
          4.085832595825195,
          -36.26044845581055,
          -22.52650260925293,
          58.54425811767578,
          -49.26615905761719,
          66.03912353515625,
          -29.048229217529297,
          -26.55005645751953,
          33.668479919433594,
          38.39897155761719,
          36.882450103759766,
          -19.01974868774414,
          14.862030029296875,
          -1.6786203384399414,
          29.54486846923828,
          20.235910415649414,
          -28.62183380126953,
          5.54515266418457,
          -21.86892318725586,
          -19.46553611755371,
          70.1631851196289,
          11.014191627502441,
          5.803765773773193,
          -34.59977722167969,
          -45.6320686340332,
          -22.105112075805664,
          -43.61012649536133,
          3.7338597774505615,
          39.22529983520508,
          -5.544538497924805,
          58.85757064819336,
          -53.41436767578125,
          36.86986541748047,
          -59.42877960205078,
          -62.565982818603516,
          49.42463302612305,
          -22.88709831237793,
          -3.8192262649536133,
          24.97585678100586,
          -33.10038375854492,
          -62.008995056152344,
          -35.34244155883789,
          -60.532222747802734,
          71.58466339111328,
          -19.539613723754883,
          -48.46903610229492,
          36.251888275146484,
          -73.53560638427734,
          6.935306072235107,
          21.843204498291016,
          -21.62565803527832,
          72.64103698730469,
          -38.31224060058594,
          67.61497497558594,
          4.564022064208984,
          60.24813461303711,
          48.73173522949219,
          -21.714513778686523,
          33.7450065612793,
          25.34010887145996,
          -14.879146575927734,
          11.388890266418457,
          -4.693454742431641,
          -40.38471603393555,
          -5.062191963195801,
          -12.514261245727539,
          -51.039459228515625,
          73.64418029785156,
          42.966331481933594,
          2.853506088256836,
          -58.86841583251953,
          4.889697074890137,
          70.97319030761719,
          45.0390739440918,
          35.744293212890625,
          44.049373626708984,
          -25.436620712280273,
          -42.41899108886719,
          -74.53018188476562,
          77.7591781616211,
          8.721895217895508,
          34.180721282958984,
          -74.38094329833984,
          -33.65419387817383,
          -4.755519866943359,
          8.214152336120605,
          11.207269668579102,
          -5.948122024536133,
          14.768270492553711,
          52.535621643066406,
          36.938270568847656,
          -44.783241271972656,
          -33.530540466308594,
          6.881065845489502,
          19.8646183013916,
          -29.83129119873047,
          34.68367385864258,
          -49.39493942260742,
          20.545194625854492,
          17.820032119750977,
          -18.476869583129883,
          -77.36331176757812,
          -29.326595306396484,
          20.06955909729004,
          -25.123958587646484,
          29.3244686126709,
          7.815179347991943,
          5.260187149047852,
          54.84807205200195,
          -60.2356071472168,
          -75.11780548095703,
          -21.288284301757812,
          -32.940208435058594,
          -2.043088674545288,
          46.18357849121094,
          54.110660552978516,
          70.37006378173828,
          18.792314529418945,
          22.509166717529297,
          32.36812210083008,
          6.224627494812012,
          34.0117301940918,
          3.7457222938537598,
          53.3405647277832,
          -72.83619689941406,
          -34.38383865356445,
          -20.341285705566406,
          78.01669311523438,
          44.12373352050781,
          29.77099609375,
          60.99500274658203,
          -22.317522048950195,
          20.14820098876953,
          65.17086029052734,
          67.4167251586914,
          53.92076873779297,
          43.938751220703125,
          47.519737243652344,
          -21.53650665283203,
          -37.88705825805664,
          4.1787638664245605,
          -19.752620697021484,
          -60.26679992675781,
          27.315759658813477,
          -27.81304359436035,
          -75.99431610107422,
          36.91434097290039,
          -60.25962448120117,
          -9.073040962219238,
          7.350986957550049,
          4.7232160568237305,
          47.164615631103516,
          -21.362947463989258,
          6.373774528503418,
          -25.305532455444336,
          24.28524398803711,
          -34.704776763916016,
          -0.5206859707832336,
          -23.32937240600586,
          -57.09455490112305,
          68.88652038574219,
          39.6248893737793,
          1.276872158050537,
          11.758901596069336,
          -77.4453353881836,
          -58.813236236572266,
          -54.866668701171875,
          -15.97738265991211,
          22.881547927856445,
          12.178234100341797,
          60.5479850769043,
          -35.953392028808594,
          -40.5819091796875,
          -12.485515594482422,
          24.316078186035156,
          1.773149013519287,
          -1.737403154373169,
          -25.2452392578125,
          57.08026885986328,
          -56.168094635009766,
          14.184957504272461,
          -23.454830169677734,
          12.639265060424805,
          45.432682037353516,
          -55.27268981933594,
          57.88507080078125,
          -15.375256538391113,
          -53.97594451904297,
          -61.00299072265625,
          -1.12202787399292,
          53.85324478149414,
          58.250667572021484,
          -22.792333602905273,
          15.057940483093262,
          13.246326446533203,
          -28.44263458251953,
          71.98462677001953,
          25.1265926361084,
          9.10492992401123,
          45.96766662597656,
          39.54526138305664,
          -34.51402282714844,
          20.138336181640625,
          -24.736629486083984,
          11.169384002685547,
          -45.75789260864258,
          -11.015401840209961,
          59.184749603271484,
          22.21024513244629,
          -3.5521976947784424,
          58.906246185302734,
          -38.416847229003906,
          7.93731689453125,
          -1.0670876502990723,
          -12.1245756149292,
          31.103015899658203,
          -22.356399536132812,
          -30.884675979614258,
          48.16012191772461,
          15.67311954498291,
          -3.1494970321655273,
          -58.16777038574219,
          20.927419662475586,
          13.647315979003906,
          -72.01302337646484,
          7.281601428985596,
          -12.241188049316406,
          -77.34817504882812,
          3.935919761657715,
          -33.20487594604492,
          -4.5033111572265625,
          -56.13253402709961,
          -25.142858505249023,
          65.17999267578125,
          6.043613433837891,
          -34.69829559326172,
          -43.50423812866211,
          44.920719146728516,
          -57.0070686340332,
          64.89366149902344,
          -54.90533447265625,
          -11.148136138916016,
          -20.13364028930664,
          -74.51226043701172,
          -29.99186134338379,
          18.396305084228516,
          8.469976425170898,
          -41.92512130737305,
          33.06298828125,
          -31.647502899169922,
          -20.367212295532227,
          34.10422897338867,
          -39.24356460571289,
          -44.40565490722656,
          -49.33528137207031,
          22.012441635131836,
          -31.343530654907227,
          -12.090670585632324,
          7.550137042999268,
          37.2164192199707,
          11.56627082824707,
          41.06658172607422,
          -4.948845386505127,
          -33.906314849853516,
          4.731464385986328,
          -52.467628479003906,
          65.77582550048828,
          65.92374420166016,
          74.74584197998047,
          -7.3484954833984375,
          -29.03691291809082,
          -24.525062561035156,
          -39.74585723876953,
          0.258931040763855,
          45.0345344543457,
          -57.9559440612793,
          58.417301177978516,
          45.921207427978516,
          55.86320495605469,
          60.8757438659668,
          66.62594604492188,
          -15.048397064208984,
          -25.029172897338867,
          -56.54637145996094,
          -50.775569915771484,
          68.81194305419922,
          -38.764286041259766,
          2.595388174057007,
          9.162821769714355,
          -33.651039123535156,
          45.6027717590332,
          -35.27198028564453,
          -3.8448452949523926,
          -16.03581428527832,
          -31.75297737121582,
          -30.95555877685547,
          8.893688201904297,
          1.8778488636016846,
          -15.467411994934082,
          -29.00594139099121,
          -77.39582061767578,
          54.506168365478516,
          41.386627197265625,
          69.59979248046875,
          47.05729293823242,
          3.6832306385040283,
          16.02335548400879,
          -13.711738586425781,
          -10.497235298156738,
          8.89232349395752,
          35.628658294677734,
          -0.15431176126003265,
          -14.516573905944824,
          17.732439041137695,
          -34.15422821044922,
          5.199199676513672,
          -14.119455337524414,
          -65.67948913574219,
          6.012086868286133,
          -44.25547790527344,
          17.77822494506836,
          54.6232795715332,
          48.49935531616211,
          -48.625064849853516,
          -3.1417839527130127,
          30.163145065307617,
          -24.34319496154785,
          25.89862632751465,
          23.56989288330078,
          58.02796173095703,
          36.85063552856445,
          -22.945730209350586,
          -45.050559997558594,
          24.195755004882812,
          -18.180221557617188,
          37.4697151184082,
          -5.112721920013428,
          -13.218536376953125,
          -25.145402908325195,
          34.72849655151367,
          9.64720344543457,
          -34.75004959106445,
          -58.86075210571289,
          38.32020950317383,
          49.137176513671875,
          -29.493959426879883,
          46.403316497802734,
          -39.544761657714844,
          -58.4346923828125,
          -71.63176727294922,
          -24.737064361572266,
          -3.3150217533111572,
          -16.59988784790039,
          -41.82633590698242,
          -48.75594711303711,
          59.95761489868164,
          56.96329116821289,
          68.74171447753906,
          -26.248334884643555,
          -75.92108154296875,
          23.808656692504883,
          -19.718215942382812,
          -58.701927185058594,
          44.518531799316406,
          -7.179830074310303,
          -3.472156524658203,
          42.96516418457031,
          38.99897384643555,
          -13.68175983428955,
          -11.368827819824219,
          -40.37519073486328,
          29.464191436767578,
          -19.6591739654541,
          43.90522766113281,
          8.663470268249512,
          31.765399932861328,
          -35.52142333984375,
          -8.568313598632812,
          47.61128616333008,
          41.91395950317383,
          18.088523864746094,
          17.57417106628418,
          -20.541553497314453,
          -34.11983108520508,
          -47.91633605957031,
          -19.719974517822266,
          33.410484313964844,
          3.3546268939971924,
          -45.7723503112793,
          -40.09416198730469,
          23.83452033996582,
          24.9832763671875,
          -3.215118885040283,
          50.22377014160156,
          -29.137849807739258,
          4.039176940917969,
          29.157390594482422,
          65.5861587524414,
          10.959579467773438,
          -47.93359375,
          -48.28584289550781,
          -24.03030014038086,
          13.570335388183594,
          -22.927701950073242,
          -21.61330795288086,
          -1.1141531467437744,
          19.868988037109375,
          -62.56205749511719,
          -29.64109992980957,
          -66.25210571289062,
          31.648488998413086,
          -23.048391342163086,
          -62.65214920043945,
          -42.52048110961914,
          25.13912010192871,
          -23.14616584777832,
          -27.608047485351562,
          48.159122467041016,
          -14.118304252624512,
          -22.988515853881836,
          -8.492838859558105,
          -3.5865261554718018,
          -22.93880844116211,
          -12.737536430358887,
          41.85111999511719,
          -24.147994995117188,
          28.13669776916504,
          -15.602404594421387,
          -31.75360679626465,
          34.27188491821289,
          75.46253967285156,
          38.305458068847656,
          1.1951569318771362,
          21.554296493530273,
          73.34201049804688,
          -20.963693618774414,
          -52.853179931640625,
          24.381258010864258,
          -5.6130757331848145,
          2.771214485168457,
          -16.331623077392578,
          -4.203823089599609,
          -59.86564254760742,
          -37.23553466796875,
          -40.76125717163086,
          -58.76443862915039,
          -35.194786071777344,
          -75.42228698730469,
          8.049273490905762,
          63.48655700683594,
          66.476806640625,
          -29.537460327148438,
          -43.380340576171875,
          9.35604190826416,
          -22.83940887451172,
          50.36628341674805,
          3.9006528854370117,
          -51.04291534423828,
          19.93281364440918,
          -30.23383140563965,
          59.844181060791016,
          -33.296791076660156,
          -38.43044662475586,
          -33.14773941040039,
          -24.696712493896484,
          -17.10186767578125,
          25.34478759765625,
          -51.466392517089844,
          -18.984088897705078,
          1.553469181060791,
          47.31940460205078,
          3.990649938583374,
          -46.82202911376953,
          15.107666969299316,
          -4.372128009796143,
          -43.24263000488281,
          -46.599815368652344,
          -11.269341468811035,
          -36.91694259643555,
          -42.96306228637695,
          23.367712020874023,
          -1.140357494354248,
          -10.897927284240723,
          11.970344543457031,
          11.817119598388672,
          -39.62230682373047,
          -40.90373992919922,
          -45.97480773925781,
          26.80575180053711,
          -16.851577758789062,
          33.04917526245117,
          20.81624984741211,
          -19.86990737915039,
          -27.736635208129883,
          79.20175170898438,
          6.115842342376709,
          25.9555721282959,
          14.704154014587402,
          6.3206987380981445,
          -30.537757873535156,
          11.51738452911377,
          -4.44749116897583,
          58.454193115234375,
          -34.624847412109375,
          -5.810205936431885,
          36.4981803894043,
          -30.402761459350586,
          -25.812931060791016,
          -34.31262969970703,
          18.372974395751953,
          26.463550567626953,
          9.86412239074707,
          -49.45416259765625,
          -1.6052502393722534,
          -3.908391237258911,
          -14.294326782226562,
          -10.11657428741455,
          56.74301528930664,
          -54.09093475341797,
          -14.238231658935547,
          -24.092233657836914,
          50.704345703125,
          63.010719299316406,
          53.9368782043457,
          -57.319766998291016,
          38.82783508300781,
          -45.943931579589844,
          38.674102783203125,
          28.880468368530273,
          8.744272232055664,
          -44.62525177001953,
          -5.396212577819824,
          33.809783935546875,
          -41.89927291870117,
          -46.18082809448242,
          14.957148551940918,
          -13.062437057495117,
          -16.613779067993164,
          46.0721549987793,
          -17.805156707763672,
          -39.77046585083008,
          -23.792640686035156,
          -0.08096051961183548,
          -7.5194268226623535,
          35.33481216430664,
          34.43813705444336,
          0.6490487456321716,
          -29.94357681274414,
          78.20604705810547,
          17.621313095092773,
          48.40464782714844,
          3.383218765258789,
          9.719878196716309,
          -42.22255325317383,
          17.015958786010742,
          5.020740032196045,
          -33.17362976074219,
          18.33042335510254,
          -50.3028564453125,
          63.84090805053711,
          19.833173751831055,
          14.044020652770996,
          23.46395492553711,
          72.6813735961914,
          -26.814483642578125,
          19.120187759399414,
          -20.364498138427734,
          37.437496185302734,
          54.31270217895508,
          -21.445505142211914,
          0.6898170709609985,
          -43.534217834472656,
          23.993074417114258,
          68.14775085449219,
          -7.222586154937744,
          -7.8674116134643555,
          -5.135260105133057,
          27.680267333984375,
          3.8339927196502686,
          15.770198822021484,
          13.136690139770508,
          16.4785213470459,
          37.23372268676758,
          54.967750549316406,
          57.70677185058594,
          66.91740417480469,
          -20.3339900970459,
          -44.34210205078125,
          41.267967224121094,
          -49.301673889160156,
          9.367660522460938,
          -56.54084777832031,
          35.53376770019531,
          17.90888786315918,
          34.5131950378418,
          -7.092535972595215,
          59.88466262817383,
          -30.558834075927734,
          5.386780261993408,
          48.80303192138672,
          3.058189868927002,
          -45.172855377197266,
          9.484354972839355,
          32.16073989868164,
          -21.084848403930664,
          -58.325599670410156,
          9.119457244873047,
          -29.753707885742188,
          -34.564048767089844,
          -2.3917741775512695,
          37.4992790222168,
          5.5078911781311035,
          4.80027437210083,
          47.17919921875,
          60.186805725097656,
          -21.041309356689453,
          -12.03376293182373,
          -27.35500144958496,
          -30.97218132019043,
          16.77977752685547,
          -19.318588256835938,
          -17.18061065673828,
          -13.232605934143066,
          -17.467287063598633,
          76.1595230102539,
          -6.196468830108643,
          -36.491336822509766,
          23.846860885620117,
          68.18083953857422,
          73.65228271484375,
          -2.761960744857788,
          -52.33552169799805,
          -55.134521484375,
          9.224099159240723,
          50.06550216674805,
          -29.629926681518555,
          -55.318782806396484,
          23.53762435913086,
          -24.8184757232666,
          -3.4145469665527344,
          9.507152557373047,
          -61.412017822265625,
          19.46257972717285,
          -45.706085205078125,
          -43.4027214050293,
          -27.548824310302734,
          3.001852512359619,
          10.811051368713379,
          -41.87073516845703,
          53.150062561035156,
          59.339508056640625,
          55.40950012207031,
          -26.417076110839844,
          -13.203712463378906,
          65.79217529296875,
          44.752140045166016,
          45.96702194213867,
          58.82511520385742,
          46.77663803100586,
          -3.2136123180389404,
          73.58624267578125,
          60.53940963745117,
          8.796521186828613,
          -56.59592056274414,
          -14.260547637939453,
          62.669429779052734,
          62.875823974609375,
          3.9094934463500977,
          -24.587697982788086
         ],
         "xaxis": "x",
         "y": [
          38.09195327758789,
          -52.94588851928711,
          -52.1103401184082,
          50.903202056884766,
          20.099973678588867,
          47.0424690246582,
          -10.134142875671387,
          -13.389307975769043,
          -35.19587326049805,
          28.16352653503418,
          -28.530046463012695,
          1.1736955642700195,
          -27.644969940185547,
          -9.213017463684082,
          -10.242208480834961,
          1.6258374452590942,
          33.48594284057617,
          -25.4287109375,
          16.305734634399414,
          -10.139145851135254,
          37.720035552978516,
          44.73068618774414,
          -18.852741241455078,
          -29.39505958557129,
          31.012168884277344,
          15.521013259887695,
          9.068647384643555,
          -3.8996775150299072,
          41.80585479736328,
          6.529035568237305,
          22.548309326171875,
          49.65535354614258,
          -37.60873794555664,
          48.17918014526367,
          44.41576385498047,
          23.949962615966797,
          44.70072555541992,
          34.87684631347656,
          24.27202033996582,
          -3.2736449241638184,
          -11.012205123901367,
          12.383845329284668,
          36.692054748535156,
          -18.34103775024414,
          0.011542582884430885,
          -2.2697722911834717,
          17.853477478027344,
          -29.602012634277344,
          22.091617584228516,
          -38.98036575317383,
          19.42115020751953,
          -53.362335205078125,
          7.8463215827941895,
          10.505800247192383,
          16.168115615844727,
          7.269413471221924,
          -14.90462875366211,
          -15.249466896057129,
          12.800395965576172,
          32.590911865234375,
          -54.38413619995117,
          -8.31340217590332,
          -26.442615509033203,
          8.483009338378906,
          24.1884822845459,
          -36.08967590332031,
          -40.06548309326172,
          -65.32929992675781,
          -21.433454513549805,
          -13.417881965637207,
          -31.606014251708984,
          -59.80314254760742,
          48.05512619018555,
          -37.48961639404297,
          9.169046401977539,
          27.943145751953125,
          46.27873611450195,
          -0.3214585483074188,
          10.457987785339355,
          7.114462375640869,
          -6.449544906616211,
          9.852677345275879,
          -11.90035343170166,
          -34.44546890258789,
          -22.02240562438965,
          25.347280502319336,
          -23.231531143188477,
          5.959869384765625,
          2.948538064956665,
          0.6883148550987244,
          2.27030086517334,
          -13.867599487304688,
          -15.156131744384766,
          -11.307229042053223,
          33.285953521728516,
          14.81667423248291,
          47.945701599121094,
          0.42738690972328186,
          47.69370651245117,
          1.3421151638031006,
          -38.39080047607422,
          30.37725257873535,
          -22.255233764648438,
          22.441558837890625,
          33.74420928955078,
          37.34619903564453,
          -0.921909511089325,
          -8.893515586853027,
          -12.648540496826172,
          -33.02446365356445,
          -52.386390686035156,
          16.13578224182129,
          28.29939079284668,
          19.18790054321289,
          8.454081535339355,
          31.236549377441406,
          -36.52106475830078,
          34.82418441772461,
          16.349294662475586,
          0.5591786503791809,
          6.9742560386657715,
          46.87092590332031,
          12.278054237365723,
          43.23628616333008,
          -8.480424880981445,
          -25.064414978027344,
          11.557734489440918,
          -0.9000236392021179,
          43.38335418701172,
          16.753376007080078,
          -23.815528869628906,
          -49.37110137939453,
          -25.449548721313477,
          -29.21434783935547,
          4.721462726593018,
          11.967097282409668,
          17.22980308532715,
          15.029399871826172,
          30.203235626220703,
          10.843457221984863,
          10.769655227661133,
          -24.779203414916992,
          47.469573974609375,
          28.46086311340332,
          -11.054003715515137,
          -14.520161628723145,
          10.699895858764648,
          -8.752795219421387,
          -65.58992767333984,
          -1.0251744985580444,
          33.79792022705078,
          1.641676902770996,
          -15.807876586914062,
          0.03583380579948425,
          -55.6224250793457,
          5.033454418182373,
          -51.92405319213867,
          5.586395740509033,
          -40.95977020263672,
          -9.578782081604004,
          -6.684690475463867,
          -20.65314483642578,
          -44.36628723144531,
          -18.2480411529541,
          -51.50890350341797,
          -28.40706443786621,
          -13.339475631713867,
          42.559326171875,
          -7.538802623748779,
          23.36227798461914,
          22.12224006652832,
          -36.760318756103516,
          -53.67803955078125,
          43.399444580078125,
          18.680986404418945,
          26.27107810974121,
          5.089229106903076,
          -35.90993118286133,
          -16.758319854736328,
          -8.651472091674805,
          12.965563774108887,
          -11.122153282165527,
          -26.790876388549805,
          5.251196384429932,
          43.75788116455078,
          -15.216684341430664,
          -0.6704687476158142,
          -27.558074951171875,
          -24.61557960510254,
          -38.53646469116211,
          -31.114347457885742,
          -54.4361457824707,
          28.453475952148438,
          9.341090202331543,
          -39.74442672729492,
          -31.62869644165039,
          -36.927490234375,
          3.5664093494415283,
          -1.1101269721984863,
          -21.729352951049805,
          4.295555114746094,
          -32.13337707519531,
          -10.304717063903809,
          -7.141116619110107,
          -5.654067516326904,
          48.498748779296875,
          -0.7944377064704895,
          -43.15546798706055,
          15.175701141357422,
          -1.622483491897583,
          11.378739356994629,
          -2.5280609130859375,
          13.931849479675293,
          -24.56922721862793,
          10.294042587280273,
          -4.014039993286133,
          -31.739072799682617,
          -22.049755096435547,
          -12.614867210388184,
          12.53512191772461,
          0.9193366169929504,
          21.140859603881836,
          18.343652725219727,
          -31.58578109741211,
          -53.481590270996094,
          -10.67667007446289,
          -48.129188537597656,
          16.663429260253906,
          18.147178649902344,
          -29.835542678833008,
          -6.827747821807861,
          -8.159873008728027,
          47.7435188293457,
          -15.453230857849121,
          -15.481450080871582,
          14.322766304016113,
          -1.7360035181045532,
          15.627144813537598,
          -27.269001007080078,
          44.460514068603516,
          9.477296829223633,
          -17.180557250976562,
          -11.706262588500977,
          -9.69510555267334,
          34.869773864746094,
          -11.518081665039062,
          -27.372224807739258,
          -33.81117248535156,
          -39.59586715698242,
          2.5510218143463135,
          5.625972270965576,
          -20.71921730041504,
          44.79136657714844,
          3.645615816116333,
          -0.6574353575706482,
          -33.60238265991211,
          -61.54737854003906,
          16.164005279541016,
          -16.14255714416504,
          30.8836612701416,
          -33.63155746459961,
          -49.87506103515625,
          7.26230525970459,
          19.703584671020508,
          45.475948333740234,
          20.35912322998047,
          -52.435245513916016,
          -31.758813858032227,
          -61.70794677734375,
          -40.438079833984375,
          -48.870357513427734,
          3.5711309909820557,
          46.763458251953125,
          46.01708984375,
          -48.67373275756836,
          10.818360328674316,
          10.628740310668945,
          26.611129760742188,
          4.213619709014893,
          -10.661934852600098,
          29.2091007232666,
          27.433258056640625,
          3.6713380813598633,
          8.779111862182617,
          31.144004821777344,
          25.768672943115234,
          -11.258463859558105,
          31.977554321289062,
          -12.8348970413208,
          7.510397911071777,
          11.514877319335938,
          26.642898559570312,
          -9.842239379882812,
          -37.54378128051758,
          32.495121002197266,
          20.787273406982422,
          8.314737319946289,
          7.756373882293701,
          -50.078670501708984,
          -37.89665603637695,
          -35.678104400634766,
          -38.168121337890625,
          1.1710203886032104,
          5.824110984802246,
          15.69234561920166,
          17.701013565063477,
          -6.411963939666748,
          -14.765358924865723,
          -31.849802017211914,
          -51.435394287109375,
          17.67957878112793,
          -28.0158634185791,
          3.1777725219726562,
          -11.484212875366211,
          -1.8546336889266968,
          40.6147575378418,
          45.85334777832031,
          35.04856491088867,
          -54.59029769897461,
          -9.292698860168457,
          0.9707693457603455,
          -24.054214477539062,
          -10.637350082397461,
          47.59305953979492,
          -53.03392028808594,
          -6.213157653808594,
          -52.7286491394043,
          19.170656204223633,
          -36.4323844909668,
          -15.78731918334961,
          -34.88140869140625,
          1.6380091905593872,
          -18.887346267700195,
          45.28765106201172,
          1.4664713144302368,
          -8.783188819885254,
          2.5177481174468994,
          44.65247344970703,
          41.53676986694336,
          13.304357528686523,
          2.4981093406677246,
          -12.382329940795898,
          -15.894569396972656,
          21.61324691772461,
          23.51999282836914,
          24.13832664489746,
          45.43419647216797,
          -17.51436424255371,
          28.174238204956055,
          -0.0704435408115387,
          -9.431368827819824,
          -23.001020431518555,
          -38.318729400634766,
          -8.588438034057617,
          -8.910983085632324,
          -49.370113372802734,
          -21.720069885253906,
          4.354980945587158,
          -11.14976978302002,
          -15.43307876586914,
          2.3092567920684814,
          -7.411688327789307,
          -48.49705123901367,
          -1.9019063711166382,
          11.16197681427002,
          -20.704057693481445,
          14.151269912719727,
          19.710487365722656,
          43.544342041015625,
          8.818831443786621,
          -15.32361125946045,
          -42.77228546142578,
          -37.54277801513672,
          23.651391983032227,
          -23.204833984375,
          24.92332649230957,
          23.10744285583496,
          -6.629976749420166,
          24.944490432739258,
          5.323951244354248,
          20.501718521118164,
          -8.995567321777344,
          -33.48029327392578,
          23.779014587402344,
          22.223834991455078,
          -7.741614818572998,
          -0.8249953389167786,
          -22.777206420898438,
          -20.01057243347168,
          24.10870361328125,
          51.871726989746094,
          19.837696075439453,
          26.002342224121094,
          46.88371658325195,
          -11.141408920288086,
          -47.30366134643555,
          -35.99019241333008,
          17.8052978515625,
          -28.86827850341797,
          -2.0751359462738037,
          37.58304214477539,
          -42.58687973022461,
          10.4064302444458,
          -9.779128074645996,
          16.324344635009766,
          -7.933704853057861,
          9.980707168579102,
          27.449256896972656,
          0.31298601627349854,
          30.92413902282715,
          30.696996688842773,
          17.631635665893555,
          -6.693013668060303,
          -19.454246520996094,
          45.54847717285156,
          9.47425365447998,
          -33.49391555786133,
          18.44729995727539,
          -48.09568405151367,
          19.335941314697266,
          17.013999938964844,
          -24.823781967163086,
          17.591320037841797,
          18.225149154663086,
          -15.735508918762207,
          -20.165313720703125,
          -5.30342960357666,
          9.939535140991211,
          7.117801666259766,
          45.09764862060547,
          44.7598991394043,
          11.112598419189453,
          35.48384094238281,
          -0.32199108600616455,
          10.061724662780762,
          42.207679748535156,
          45.64956283569336,
          -15.031472206115723,
          9.292434692382812,
          -34.30316162109375,
          1.4190329313278198,
          34.78615188598633,
          -53.9186897277832,
          34.54682159423828,
          12.838082313537598,
          8.036396980285645,
          27.805551528930664,
          -41.11932373046875,
          34.14635467529297,
          -21.735910415649414,
          -13.281872749328613,
          24.222097396850586,
          6.383021354675293,
          -15.018590927124023,
          -39.785118103027344,
          -16.880226135253906,
          -23.395700454711914,
          7.438384056091309,
          11.432536125183105,
          3.9785947799682617,
          14.434504508972168,
          38.1526985168457,
          0.07740452885627747,
          29.088403701782227,
          34.42646026611328,
          -3.689980983734131,
          16.836881637573242,
          45.292137145996094,
          -2.3961663246154785,
          8.627406120300293,
          -13.29830551147461,
          15.659708976745605,
          -38.203880310058594,
          -14.56655216217041,
          -29.87913703918457,
          -10.420928955078125,
          38.28737258911133,
          9.996044158935547,
          24.20111846923828,
          -22.02790069580078,
          7.6700849533081055,
          -48.194793701171875,
          1.1488343477249146,
          -49.562313079833984,
          -17.80335807800293,
          -0.6935479044914246,
          -12.319382667541504,
          -54.03654098510742,
          -0.6770632863044739,
          33.410247802734375,
          36.94209289550781,
          0.3580227792263031,
          -23.109140396118164,
          -46.83149337768555,
          -47.892704010009766,
          20.757043838500977,
          5.3090338706970215,
          -12.84688663482666,
          1.0401527881622314,
          -33.10203552246094,
          -37.736785888671875,
          19.653133392333984,
          24.56084442138672,
          -5.0226945877075195,
          13.19811725616455,
          40.659400939941406,
          2.844132661819458,
          -50.00238037109375,
          28.668062210083008,
          34.77760696411133,
          28.773012161254883,
          33.57122802734375,
          -23.062015533447266,
          -14.537517547607422,
          -40.511863708496094,
          -51.66620635986328,
          33.52206802368164,
          -53.9752082824707,
          -8.99246883392334,
          19.484519958496094,
          1.7617679834365845,
          1.90336012840271,
          31.282581329345703,
          -30.10269546508789,
          44.26799011230469,
          26.209949493408203,
          -22.511608123779297,
          -12.151307106018066,
          24.644407272338867,
          6.077881813049316,
          -28.81363296508789,
          1.4848674535751343,
          4.318909168243408,
          -0.7984537482261658,
          -16.913700103759766,
          11.77953052520752,
          -17.069427490234375,
          -7.661606311798096,
          -6.87225341796875,
          9.665325164794922,
          44.577301025390625,
          -40.8942756652832,
          -36.702430725097656,
          34.381378173828125,
          -29.144126892089844,
          -30.416109085083008,
          14.689970016479492,
          -35.05817794799805,
          17.895336151123047,
          -51.636314392089844,
          -38.28139877319336,
          -10.49241828918457,
          -18.572816848754883,
          -40.88923645019531,
          -19.633445739746094,
          -2.074432611465454,
          -18.17179298400879,
          4.216086387634277,
          14.250716209411621,
          6.502144813537598,
          -39.928184509277344,
          -48.28835678100586,
          43.939292907714844,
          17.42295265197754,
          -21.716312408447266,
          23.698165893554688,
          -52.804779052734375,
          6.564405918121338,
          9.735002517700195,
          11.669291496276855,
          6.7586517333984375,
          -15.34800910949707,
          -11.838082313537598,
          -0.7925524115562439,
          -53.05608367919922,
          33.78474426269531,
          2.9431278705596924,
          3.0836784839630127,
          16.809051513671875,
          -47.54066467285156,
          -22.051488876342773,
          32.72991943359375,
          -28.693878173828125,
          23.25733757019043,
          44.97532653808594,
          -10.77269458770752,
          23.165313720703125,
          45.477230072021484,
          -24.70006561279297,
          -20.129295349121094,
          -28.76080894470215,
          -21.052736282348633,
          -20.638957977294922,
          -27.387540817260742,
          0.9528201818466187,
          12.571208000183105,
          6.558035850524902,
          29.087787628173828,
          8.588617324829102,
          8.305154800415039,
          2.680346965789795,
          24.848735809326172,
          -20.853796005249023,
          51.14554977416992,
          -15.242988586425781,
          21.056419372558594,
          -35.48986053466797,
          7.356809616088867,
          27.983680725097656,
          -2.2241721153259277,
          21.856760025024414,
          -3.100665330886841,
          -11.967753410339355,
          -51.361167907714844,
          4.471024513244629,
          -10.742890357971191,
          43.54792022705078,
          1.4980353116989136,
          -0.9489066004753113,
          -1.9944347143173218,
          35.745750427246094,
          -35.63880920410156,
          40.14576721191406,
          18.816686630249023,
          11.164320945739746,
          -43.812171936035156,
          -2.3130455017089844,
          47.52478790283203,
          31.266719818115234,
          47.01085662841797,
          -10.895020484924316,
          -11.105213165283203,
          15.79453182220459,
          -48.87333679199219,
          1.1578627824783325,
          21.939857482910156,
          -38.1515007019043,
          -13.606626510620117,
          -11.498514175415039,
          13.12894058227539,
          -42.227046966552734,
          28.29246711730957,
          25.387393951416016,
          10.67269229888916,
          2.0311672687530518,
          2.1875696182250977,
          -17.315338134765625,
          -9.704625129699707,
          40.69795608520508,
          -41.84235763549805,
          -60.99832534790039,
          -0.34646785259246826,
          -1.731423258781433,
          1.1648952960968018,
          19.023998260498047,
          -52.56386184692383,
          20.99259376525879,
          -60.20137023925781,
          -26.880290985107422,
          1.2913810014724731,
          12.615066528320312,
          -26.01040267944336,
          46.42625427246094,
          -17.201839447021484,
          -10.113197326660156,
          12.45288372039795,
          21.168359756469727,
          10.019760131835938,
          8.828215599060059,
          -3.0794994831085205,
          -8.371637344360352,
          -19.530027389526367,
          8.046063423156738,
          5.934327602386475,
          34.1939697265625,
          32.57822799682617,
          32.360191345214844,
          28.105499267578125,
          43.1357421875
         ],
         "yaxis": "y"
        }
       ],
       "layout": {
        "height": 800,
        "legend": {
         "tracegroupgap": 0
        },
        "margin": {
         "t": 60
        },
        "template": {
         "data": {
          "bar": [
           {
            "error_x": {
             "color": "#2a3f5f"
            },
            "error_y": {
             "color": "#2a3f5f"
            },
            "marker": {
             "line": {
              "color": "#E5ECF6",
              "width": 0.5
             },
             "pattern": {
              "fillmode": "overlay",
              "size": 10,
              "solidity": 0.2
             }
            },
            "type": "bar"
           }
          ],
          "barpolar": [
           {
            "marker": {
             "line": {
              "color": "#E5ECF6",
              "width": 0.5
             },
             "pattern": {
              "fillmode": "overlay",
              "size": 10,
              "solidity": 0.2
             }
            },
            "type": "barpolar"
           }
          ],
          "carpet": [
           {
            "aaxis": {
             "endlinecolor": "#2a3f5f",
             "gridcolor": "white",
             "linecolor": "white",
             "minorgridcolor": "white",
             "startlinecolor": "#2a3f5f"
            },
            "baxis": {
             "endlinecolor": "#2a3f5f",
             "gridcolor": "white",
             "linecolor": "white",
             "minorgridcolor": "white",
             "startlinecolor": "#2a3f5f"
            },
            "type": "carpet"
           }
          ],
          "choropleth": [
           {
            "colorbar": {
             "outlinewidth": 0,
             "ticks": ""
            },
            "type": "choropleth"
           }
          ],
          "contour": [
           {
            "colorbar": {
             "outlinewidth": 0,
             "ticks": ""
            },
            "colorscale": [
             [
              0,
              "#0d0887"
             ],
             [
              0.1111111111111111,
              "#46039f"
             ],
             [
              0.2222222222222222,
              "#7201a8"
             ],
             [
              0.3333333333333333,
              "#9c179e"
             ],
             [
              0.4444444444444444,
              "#bd3786"
             ],
             [
              0.5555555555555556,
              "#d8576b"
             ],
             [
              0.6666666666666666,
              "#ed7953"
             ],
             [
              0.7777777777777778,
              "#fb9f3a"
             ],
             [
              0.8888888888888888,
              "#fdca26"
             ],
             [
              1,
              "#f0f921"
             ]
            ],
            "type": "contour"
           }
          ],
          "contourcarpet": [
           {
            "colorbar": {
             "outlinewidth": 0,
             "ticks": ""
            },
            "type": "contourcarpet"
           }
          ],
          "heatmap": [
           {
            "colorbar": {
             "outlinewidth": 0,
             "ticks": ""
            },
            "colorscale": [
             [
              0,
              "#0d0887"
             ],
             [
              0.1111111111111111,
              "#46039f"
             ],
             [
              0.2222222222222222,
              "#7201a8"
             ],
             [
              0.3333333333333333,
              "#9c179e"
             ],
             [
              0.4444444444444444,
              "#bd3786"
             ],
             [
              0.5555555555555556,
              "#d8576b"
             ],
             [
              0.6666666666666666,
              "#ed7953"
             ],
             [
              0.7777777777777778,
              "#fb9f3a"
             ],
             [
              0.8888888888888888,
              "#fdca26"
             ],
             [
              1,
              "#f0f921"
             ]
            ],
            "type": "heatmap"
           }
          ],
          "heatmapgl": [
           {
            "colorbar": {
             "outlinewidth": 0,
             "ticks": ""
            },
            "colorscale": [
             [
              0,
              "#0d0887"
             ],
             [
              0.1111111111111111,
              "#46039f"
             ],
             [
              0.2222222222222222,
              "#7201a8"
             ],
             [
              0.3333333333333333,
              "#9c179e"
             ],
             [
              0.4444444444444444,
              "#bd3786"
             ],
             [
              0.5555555555555556,
              "#d8576b"
             ],
             [
              0.6666666666666666,
              "#ed7953"
             ],
             [
              0.7777777777777778,
              "#fb9f3a"
             ],
             [
              0.8888888888888888,
              "#fdca26"
             ],
             [
              1,
              "#f0f921"
             ]
            ],
            "type": "heatmapgl"
           }
          ],
          "histogram": [
           {
            "marker": {
             "pattern": {
              "fillmode": "overlay",
              "size": 10,
              "solidity": 0.2
             }
            },
            "type": "histogram"
           }
          ],
          "histogram2d": [
           {
            "colorbar": {
             "outlinewidth": 0,
             "ticks": ""
            },
            "colorscale": [
             [
              0,
              "#0d0887"
             ],
             [
              0.1111111111111111,
              "#46039f"
             ],
             [
              0.2222222222222222,
              "#7201a8"
             ],
             [
              0.3333333333333333,
              "#9c179e"
             ],
             [
              0.4444444444444444,
              "#bd3786"
             ],
             [
              0.5555555555555556,
              "#d8576b"
             ],
             [
              0.6666666666666666,
              "#ed7953"
             ],
             [
              0.7777777777777778,
              "#fb9f3a"
             ],
             [
              0.8888888888888888,
              "#fdca26"
             ],
             [
              1,
              "#f0f921"
             ]
            ],
            "type": "histogram2d"
           }
          ],
          "histogram2dcontour": [
           {
            "colorbar": {
             "outlinewidth": 0,
             "ticks": ""
            },
            "colorscale": [
             [
              0,
              "#0d0887"
             ],
             [
              0.1111111111111111,
              "#46039f"
             ],
             [
              0.2222222222222222,
              "#7201a8"
             ],
             [
              0.3333333333333333,
              "#9c179e"
             ],
             [
              0.4444444444444444,
              "#bd3786"
             ],
             [
              0.5555555555555556,
              "#d8576b"
             ],
             [
              0.6666666666666666,
              "#ed7953"
             ],
             [
              0.7777777777777778,
              "#fb9f3a"
             ],
             [
              0.8888888888888888,
              "#fdca26"
             ],
             [
              1,
              "#f0f921"
             ]
            ],
            "type": "histogram2dcontour"
           }
          ],
          "mesh3d": [
           {
            "colorbar": {
             "outlinewidth": 0,
             "ticks": ""
            },
            "type": "mesh3d"
           }
          ],
          "parcoords": [
           {
            "line": {
             "colorbar": {
              "outlinewidth": 0,
              "ticks": ""
             }
            },
            "type": "parcoords"
           }
          ],
          "pie": [
           {
            "automargin": true,
            "type": "pie"
           }
          ],
          "scatter": [
           {
            "fillpattern": {
             "fillmode": "overlay",
             "size": 10,
             "solidity": 0.2
            },
            "type": "scatter"
           }
          ],
          "scatter3d": [
           {
            "line": {
             "colorbar": {
              "outlinewidth": 0,
              "ticks": ""
             }
            },
            "marker": {
             "colorbar": {
              "outlinewidth": 0,
              "ticks": ""
             }
            },
            "type": "scatter3d"
           }
          ],
          "scattercarpet": [
           {
            "marker": {
             "colorbar": {
              "outlinewidth": 0,
              "ticks": ""
             }
            },
            "type": "scattercarpet"
           }
          ],
          "scattergeo": [
           {
            "marker": {
             "colorbar": {
              "outlinewidth": 0,
              "ticks": ""
             }
            },
            "type": "scattergeo"
           }
          ],
          "scattergl": [
           {
            "marker": {
             "colorbar": {
              "outlinewidth": 0,
              "ticks": ""
             }
            },
            "type": "scattergl"
           }
          ],
          "scattermapbox": [
           {
            "marker": {
             "colorbar": {
              "outlinewidth": 0,
              "ticks": ""
             }
            },
            "type": "scattermapbox"
           }
          ],
          "scatterpolar": [
           {
            "marker": {
             "colorbar": {
              "outlinewidth": 0,
              "ticks": ""
             }
            },
            "type": "scatterpolar"
           }
          ],
          "scatterpolargl": [
           {
            "marker": {
             "colorbar": {
              "outlinewidth": 0,
              "ticks": ""
             }
            },
            "type": "scatterpolargl"
           }
          ],
          "scatterternary": [
           {
            "marker": {
             "colorbar": {
              "outlinewidth": 0,
              "ticks": ""
             }
            },
            "type": "scatterternary"
           }
          ],
          "surface": [
           {
            "colorbar": {
             "outlinewidth": 0,
             "ticks": ""
            },
            "colorscale": [
             [
              0,
              "#0d0887"
             ],
             [
              0.1111111111111111,
              "#46039f"
             ],
             [
              0.2222222222222222,
              "#7201a8"
             ],
             [
              0.3333333333333333,
              "#9c179e"
             ],
             [
              0.4444444444444444,
              "#bd3786"
             ],
             [
              0.5555555555555556,
              "#d8576b"
             ],
             [
              0.6666666666666666,
              "#ed7953"
             ],
             [
              0.7777777777777778,
              "#fb9f3a"
             ],
             [
              0.8888888888888888,
              "#fdca26"
             ],
             [
              1,
              "#f0f921"
             ]
            ],
            "type": "surface"
           }
          ],
          "table": [
           {
            "cells": {
             "fill": {
              "color": "#EBF0F8"
             },
             "line": {
              "color": "white"
             }
            },
            "header": {
             "fill": {
              "color": "#C8D4E3"
             },
             "line": {
              "color": "white"
             }
            },
            "type": "table"
           }
          ]
         },
         "layout": {
          "annotationdefaults": {
           "arrowcolor": "#2a3f5f",
           "arrowhead": 0,
           "arrowwidth": 1
          },
          "autotypenumbers": "strict",
          "coloraxis": {
           "colorbar": {
            "outlinewidth": 0,
            "ticks": ""
           }
          },
          "colorscale": {
           "diverging": [
            [
             0,
             "#8e0152"
            ],
            [
             0.1,
             "#c51b7d"
            ],
            [
             0.2,
             "#de77ae"
            ],
            [
             0.3,
             "#f1b6da"
            ],
            [
             0.4,
             "#fde0ef"
            ],
            [
             0.5,
             "#f7f7f7"
            ],
            [
             0.6,
             "#e6f5d0"
            ],
            [
             0.7,
             "#b8e186"
            ],
            [
             0.8,
             "#7fbc41"
            ],
            [
             0.9,
             "#4d9221"
            ],
            [
             1,
             "#276419"
            ]
           ],
           "sequential": [
            [
             0,
             "#0d0887"
            ],
            [
             0.1111111111111111,
             "#46039f"
            ],
            [
             0.2222222222222222,
             "#7201a8"
            ],
            [
             0.3333333333333333,
             "#9c179e"
            ],
            [
             0.4444444444444444,
             "#bd3786"
            ],
            [
             0.5555555555555556,
             "#d8576b"
            ],
            [
             0.6666666666666666,
             "#ed7953"
            ],
            [
             0.7777777777777778,
             "#fb9f3a"
            ],
            [
             0.8888888888888888,
             "#fdca26"
            ],
            [
             1,
             "#f0f921"
            ]
           ],
           "sequentialminus": [
            [
             0,
             "#0d0887"
            ],
            [
             0.1111111111111111,
             "#46039f"
            ],
            [
             0.2222222222222222,
             "#7201a8"
            ],
            [
             0.3333333333333333,
             "#9c179e"
            ],
            [
             0.4444444444444444,
             "#bd3786"
            ],
            [
             0.5555555555555556,
             "#d8576b"
            ],
            [
             0.6666666666666666,
             "#ed7953"
            ],
            [
             0.7777777777777778,
             "#fb9f3a"
            ],
            [
             0.8888888888888888,
             "#fdca26"
            ],
            [
             1,
             "#f0f921"
            ]
           ]
          },
          "colorway": [
           "#636efa",
           "#EF553B",
           "#00cc96",
           "#ab63fa",
           "#FFA15A",
           "#19d3f3",
           "#FF6692",
           "#B6E880",
           "#FF97FF",
           "#FECB52"
          ],
          "font": {
           "color": "#2a3f5f"
          },
          "geo": {
           "bgcolor": "white",
           "lakecolor": "white",
           "landcolor": "#E5ECF6",
           "showlakes": true,
           "showland": true,
           "subunitcolor": "white"
          },
          "hoverlabel": {
           "align": "left"
          },
          "hovermode": "closest",
          "mapbox": {
           "style": "light"
          },
          "paper_bgcolor": "white",
          "plot_bgcolor": "#E5ECF6",
          "polar": {
           "angularaxis": {
            "gridcolor": "white",
            "linecolor": "white",
            "ticks": ""
           },
           "bgcolor": "#E5ECF6",
           "radialaxis": {
            "gridcolor": "white",
            "linecolor": "white",
            "ticks": ""
           }
          },
          "scene": {
           "xaxis": {
            "backgroundcolor": "#E5ECF6",
            "gridcolor": "white",
            "gridwidth": 2,
            "linecolor": "white",
            "showbackground": true,
            "ticks": "",
            "zerolinecolor": "white"
           },
           "yaxis": {
            "backgroundcolor": "#E5ECF6",
            "gridcolor": "white",
            "gridwidth": 2,
            "linecolor": "white",
            "showbackground": true,
            "ticks": "",
            "zerolinecolor": "white"
           },
           "zaxis": {
            "backgroundcolor": "#E5ECF6",
            "gridcolor": "white",
            "gridwidth": 2,
            "linecolor": "white",
            "showbackground": true,
            "ticks": "",
            "zerolinecolor": "white"
           }
          },
          "shapedefaults": {
           "line": {
            "color": "#2a3f5f"
           }
          },
          "ternary": {
           "aaxis": {
            "gridcolor": "white",
            "linecolor": "white",
            "ticks": ""
           },
           "baxis": {
            "gridcolor": "white",
            "linecolor": "white",
            "ticks": ""
           },
           "bgcolor": "#E5ECF6",
           "caxis": {
            "gridcolor": "white",
            "linecolor": "white",
            "ticks": ""
           }
          },
          "title": {
           "x": 0.05
          },
          "xaxis": {
           "automargin": true,
           "gridcolor": "white",
           "linecolor": "white",
           "ticks": "",
           "title": {
            "standoff": 15
           },
           "zerolinecolor": "white",
           "zerolinewidth": 2
          },
          "yaxis": {
           "automargin": true,
           "gridcolor": "white",
           "linecolor": "white",
           "ticks": "",
           "title": {
            "standoff": 15
           },
           "zerolinecolor": "white",
           "zerolinewidth": 2
          }
         }
        },
        "width": 800,
        "xaxis": {
         "anchor": "y",
         "autorange": true,
         "domain": [
          0,
          1
         ],
         "range": [
          -87.29605370607938,
          89.05247002688016
         ],
         "title": {
          "text": "0"
         },
         "type": "linear"
        },
        "yaxis": {
         "anchor": "x",
         "autorange": true,
         "domain": [
          0,
          1
         ],
         "range": [
          -72.95005692972246,
          59.231856246128714
         ],
         "title": {
          "text": "1"
         },
         "type": "linear"
        }
       }
      },
      "image/png": "[encoded data removed]",
      "text/html": [
       "<div>                            <div id=\"11448ae6-e092-4fcf-ab1b-6d438f81455e\" class=\"plotly-graph-div\" style=\"height:800px; width:800px;\"></div>            <script type=\"text/javascript\">                require([\"plotly\"], function(Plotly) {                    window.PLOTLYENV=window.PLOTLYENV || {};                                    if (document.getElementById(\"11448ae6-e092-4fcf-ab1b-6d438f81455e\")) {                    Plotly.newPlot(                        \"11448ae6-e092-4fcf-ab1b-6d438f81455e\",                        [{\"hovertemplate\":\"<b>%{hovertext}</b><br><br>0=%{x}<br>1=%{y}<extra></extra>\",\"hovertext\":[\"\\u00e3\",\"\\u00e3\\u00be\\u00e3\",\"t\",\"w\\u00e3\",\"on\",\"s\",\"he\",\"e\",\"r\",\"him\",\"a\",\"\\u00e3\\u00bea\",\"se\",\"ic\",\"to\",\"m\\u00e3\",\"h\\u00e3\",\"\\u00e3\\u00bee\",\"f\\u00e3\",\"swa\",\"an\",\"s\\u00e3\",\"his\",\"g\",\"o\\u00e3\",\"mid\",\"fter\",\"gu\\u00e3\",\"ofer\",\"re\",\"wi\\u00e3\",\"n\\u00e3\",\"d\\u00e3\",\"under\",\"hie\",\"\\u00e3\\u00beonne\",\"in\",\"ge\",\"si\\u00e3\",\"\\u00e3\\u00beone\",\"me\",\"m\",\"sy\\u00e3\",\"nu\",\"hine\",\"\\u00e3\\u00beu\",\"for\",\"l\\u00e3\",\"um\",\"geata\",\"b\\u00e3\",\"l\",\"fela\",\"wear\\u00e3\",\"fde\",\"st\",\"wolde\",\"hro\\u00e3\",\"no\",\"c\",\"eft\",\"r\\u00e3\",\"of\",\"hw\\u00e3\",\"sceal\",\"bearn\",\"is\",\"sunu\",\"am\",\"god\",\"ma\\u00e3\",\"hit\",\"hyne\",\"d\",\"helm\",\"for\\u00e3\",\"hea\\u00e3\",\"ste\",\"beowulf\",\"cyning\",\"oft\",\"\\u00e3\\u00beeah\",\"hyrde\",\"we\",\"min\",\"u\",\"swylce\",\"ron\",\"\\u00e3\\u00beam\",\"leode\",\"sweord\",\"manna\",\"gar\",\"dea\\u00e3\",\"eor\\u00e3\",\"meahte\",\"nig\",\"heold\",\"la\\u00e3\",\"gif\",\"scyldinga\",\"be\",\"\\u00e3\\u00beara\",\"bi\\u00e3\",\"wr\\u00e3\",\"y\\u00e3\",\"eal\",\"leodum\",\"rum\",\"\\u00e3\\u00beeoden\",\"gewat\",\"eorla\",\"ni\\u00e3\",\"fr\\u00e3\",\"sum\",\"er\",\"dum\",\"gefr\\u00e3\",\"gumena\",\"scolde\",\"wide\",\"ymb\",\"heo\",\"heard\",\"wordum\",\"le\\u00e3\",\"grendel\",\"swi\\u00e3\",\"secg\",\"der\",\"hre\\u00e3\",\"fre\",\"hord\",\"gen\",\"sele\",\"com\",\"ende\",\"sona\",\"eall\",\"\\u00e3\\u00beurh\",\"o\",\"so\\u00e3\",\"ra\",\"as\",\"mec\",\"cwom\",\"ma\\u00e3\\u00beelode\",\"frean\",\"healfdenes\",\"grendles\",\"mine\",\"ges\\u00e3\",\"le\",\"onne\",\"stod\",\"hu\",\"man\",\"mihte\",\"g\\u00e3\",\"feorh\",\"lice\",\"cr\\u00e3\",\"hwilum\",\"eald\",\"inne\",\"moste\",\"ealle\",\"sio\",\"weard\",\"\\u00e3\\u00beenden\",\"agl\\u00e3\",\"wine\",\"men\",\"weor\\u00e3\",\"golde\",\"feorran\",\"geseah\",\"eorl\",\"lange\",\"gemunde\",\"gefremede\",\"leoda\",\"ut\",\"wyrm\",\"sceolde\",\"innan\",\"mon\",\"secgan\",\"cu\\u00e3\",\"het\",\"dryhten\",\"secean\",\"sealde\",\"spr\\u00e3\",\"leod\",\"rice\",\"es\",\"wealle\",\"seo\",\"one\",\"gode\",\"le\\u00e3\\u00bea\",\"\\u00e3\\u00beanon\",\"gyt\",\"hwile\",\"niht\",\"feond\",\"fah\",\"wiht\",\"healdan\",\"aldre\",\"hond\",\"ham\",\"feor\",\"cce\",\"geong\",\"gold\",\"ce\",\"gehw\\u00e3\",\"neah\",\"selest\",\"dugu\\u00e3\",\"wel\",\"sy\\u00e3\\u00be\\u00e3\",\"higelaces\",\"wyrd\",\"word\",\"hio\",\"wille\",\"gel\\u00e3\",\"geaf\",\"monig\",\"maga\",\"or\",\"gares\",\"\\u00e3\\u00bey\",\"ges\",\"hleo\",\"frod\",\"\\u00e3\\u00bean\",\"byrnan\",\"her\",\"fram\",\"ana\",\"gn\",\"fornam\",\"ghw\\u00e3\",\"us\",\"cw\\u00e3\",\"genes\",\"searwum\",\"hy\",\"ter\",\"hean\",\"up\",\"rne\",\"si\\u00e3\\u00be\\u00e3\",\"wedera\",\"mod\",\"fdon\",\"nalles\",\"git\",\"eode\",\"geseon\",\"lafe\",\"elne\",\"o\\u00e3\\u00be\\u00e3\\u00be\\u00e3\",\"ma\",\"geweald\",\"micel\",\"ecg\",\"wit\",\"hilde\",\"meahton\",\"swylc\",\"hafelan\",\"gl\\u00e3\",\"sw\\u00e3\",\"ealdre\",\"wig\",\"cynnes\",\"dyde\",\"rinc\",\"y\",\"dom\",\"geond\",\"minne\",\"minum\",\"sylfes\",\"hafa\\u00e3\",\"heorote\",\"gebad\",\"gearwe\",\"beran\",\"bad\",\"ca\",\"hwearf\",\"hyt\",\"frecne\",\"goda\",\"beagas\",\"forgeaf\",\"sohte\",\"hat\",\"flet\",\"huru\",\"ecgum\",\"hi\",\"elode\",\"healle\",\"gesealde\",\"wen\",\"don\",\"folces\",\"o\\u00e3\\u00be\\u00e3\",\"wihte\",\"\\u00e3\\u00beeling\",\"gretan\",\"modor\",\"weoll\",\"willan\",\"hand\",\"fe\\u00e3\",\"ghwylc\",\"hire\",\"lan\",\"\\u00e3\\u00beegn\",\"mode\",\"da\",\"denum\",\"wedra\",\"\\u00e3\\u00beearf\",\"nealles\",\"hyra\",\"findan\",\"metod\",\"guman\",\"e\\u00e3\",\"iren\",\"\\u00e3\\u00bein\",\"feore\",\"weg\",\"eallum\",\"dome\",\"ran\",\"higelac\",\"hearda\",\"leofne\",\"ellen\",\"can\",\"ongan\",\"gehwylcum\",\"gde\",\"efne\",\"hr\\u00e3\",\"cwen\",\"ft\",\"handa\",\"te\",\"gare\",\"ful\",\"mas\",\"o\\u00e3\\u00beer\",\"stan\",\"br\\u00e3\",\"deniga\",\"sefa\",\"atol\",\"dena\",\"heah\",\"frofre\",\"hyre\",\"heht\",\"tela\",\"lyt\",\"gem\\u00e3\",\"de\",\"micle\",\"byre\",\"yrre\",\"moston\",\"nolde\",\"sceall\",\"leofa\",\"ferh\\u00e3\",\"modes\",\"gefeng\",\"wintra\",\"fte\",\"biowulf\",\"mannes\",\"bearm\",\"\\u00e3\\u00beearfe\",\"wolcnum\",\"folc\",\"worn\",\"leof\",\"habban\",\"earfo\\u00e3\",\"hrof\",\"weold\",\"blode\",\"du\",\"bbe\",\"dohtor\",\"lif\",\"grim\",\"gesi\\u00e3\",\"gr\\u00e3\",\"tg\\u00e3\",\"dere\",\"sinc\",\"eard\",\"lifes\",\"sund\",\"suna\",\"godne\",\"grette\",\"gemyndig\",\"beowulfe\",\"guma\",\"la\",\"rest\",\"heap\",\"drihten\",\"lde\",\"wudu\",\"li\\u00e3\",\"land\",\"gesawon\",\"side\",\"gew\\u00e3\",\"flod\",\"onfand\",\"ecg\\u00e3\\u00beeowes\",\"cu\\u00e3\\u00bee\",\"ecg\\u00e3\",\"longe\",\"onfeng\",\"holm\",\"lean\",\"geongum\",\"buton\",\"gewr\\u00e3\",\"cynne\",\"hl\\u00e3\",\"sweg\",\"foldan\",\"wynne\",\"anne\",\"gearo\",\"unc\",\"secan\",\"lum\",\"nigne\",\"fus\",\"godes\",\"gesyne\",\"sweorde\",\"mihtig\",\"helpe\",\"getw\\u00e3\",\"aras\",\"ealde\",\"gesohte\",\"hild\",\"leng\",\"wealdan\",\"cyn\",\"feran\",\"from\",\"selestan\",\"bl\\u00e3\",\"anum\",\"led\",\"gebolgen\",\"hordweard\",\"since\",\"geb\\u00e3\",\"gen\\u00e3\",\"\\u00e3\\u00beec\",\"ara\",\"snude\",\"swealt\",\"horde\",\"sceawian\",\"gef\\u00e3\",\"\\u00e3\\u00beonan\",\"eaxle\",\"nan\",\"folce\",\"nige\",\"somod\",\"hra\\u00e3\\u00bee\",\"sl\\u00e3\",\"\\u00e3\\u00beegna\",\"manig\",\"seon\",\"maran\",\"wiglaf\",\"tb\\u00e3\",\"twe\",\"ded\",\"sande\",\"beorge\",\"gebr\\u00e3\",\"pnum\",\"sloh\",\"dryhtne\",\"wean\",\"waldend\",\"wisse\",\"tte\",\"scoldon\",\"mor\\u00e3\",\"\\u00e3\\u00beon\",\"swy\\u00e3\",\"wiste\",\"hra\\u00e3\",\"twa\",\"eor\\u00e3\\u00bean\",\"pen\",\"samod\",\"hearde\",\"byrne\",\"str\\u00e3\",\"gomela\",\"hte\",\"hildedeor\",\"dracan\",\"eow\",\"gyf\",\"sefan\",\"wene\",\"wesan\",\"con\",\"monegum\",\"g\\u00e3\\u00bea\",\"gewyrcean\",\"scyld\",\"drugon\",\"ht\",\"ahte\",\"dydon\",\"\\u00e3\\u00berage\",\"beaga\",\"selfa\",\"wihstanes\",\"aldor\",\"wrecan\",\"rices\",\"mere\",\"gegongen\",\"res\",\"tealde\",\"wendon\",\"hrusan\",\"eorlum\",\"onfunde\",\"gongan\",\"anes\",\"denigea\",\"cyst\",\"togeanes\",\"ellenweorc\",\"gebidan\",\"ides\",\"rof\",\"modig\",\"self\",\"secge\",\"bro\\u00e3\",\"\\u00e3\\u00beer\",\"feng\",\"leoht\",\"wunde\",\"grunde\",\"gecw\\u00e3\",\"eah\",\"cyninges\",\"draca\",\"ton\",\"brucan\",\"cean\",\"ongen\\u00e3\",\"wyrmes\",\"beorges\",\"eowes\",\"hygelac\",\"ymbe\",\"mum\",\"eorlscipe\",\"hwate\",\"ys\",\"wat\",\"cempa\",\"sare\",\"bi\",\"goldwine\",\"leo\\u00e3\",\"ecge\",\"wigend\",\"a\\u00e3\",\"leofes\",\"nefne\",\"bewunden\",\"beorn\",\"gang\",\"ealles\",\"hafast\",\"worolde\",\"lungre\",\"lond\",\"beowulfes\",\"wiges\",\"mundum\",\"geatolic\",\"beorhte\",\"bat\",\"ftig\",\"cempan\",\"geatum\",\"sel\",\"heorot\",\"hyn\\u00e3\",\"rihte\",\"fyr\",\"fyrst\",\"gewin\",\"rgod\",\"neosan\",\"faran\",\"\\u00e3\\u00beelinga\",\"fand\",\"forgeald\",\"fen\",\"haten\",\"helle\",\"fremman\",\"fyrene\",\"eac\",\"sang\",\"hearpan\",\"symle\",\"geogo\\u00e3\",\"weras\",\"syndon\",\"bidan\",\"werede\",\"geweorc\",\"laf\",\"pna\",\"eotena\",\"reced\",\"lic\",\"\\u00e3\\u00bery\\u00e3\",\"madmas\",\"mundgripe\",\"ge\\u00e3\",\"wile\",\"\\u00e3\\u00beinum\",\"fur\\u00e3\",\"tsomne\",\"mannan\",\"\\u00e3\\u00beis\",\"\\u00e3\\u00beence\\u00e3\",\"worda\",\"hwylc\",\"wes\",\"hlaford\",\"heor\\u00e3\",\"gecy\\u00e3\",\"witan\",\"ad\",\"geweor\\u00e3\",\"nis\",\"eower\",\"dan\",\"ssas\"],\"legendgroup\":\"\",\"marker\":{\"color\":\"#636efa\",\"symbol\":\"circle\"},\"mode\":\"markers\",\"name\":\"\",\"orientation\":\"v\",\"showlegend\":false,\"x\":[27.663908004760742,16.91023826599121,16.072166442871094,11.028000831604004,16.034503936767578,9.960968017578125,-5.307082176208496,68.4182357788086,31.80193328857422,13.8682861328125,4.085832595825195,-36.26044845581055,-22.52650260925293,58.54425811767578,-49.26615905761719,66.03912353515625,-29.048229217529297,-26.55005645751953,33.668479919433594,38.39897155761719,36.882450103759766,-19.01974868774414,14.862030029296875,-1.6786203384399414,29.54486846923828,20.235910415649414,-28.62183380126953,5.54515266418457,-21.86892318725586,-19.46553611755371,70.1631851196289,11.014191627502441,5.803765773773193,-34.59977722167969,-45.6320686340332,-22.105112075805664,-43.61012649536133,3.7338597774505615,39.22529983520508,-5.544538497924805,58.85757064819336,-53.41436767578125,36.86986541748047,-59.42877960205078,-62.565982818603516,49.42463302612305,-22.88709831237793,-3.8192262649536133,24.97585678100586,-33.10038375854492,-62.008995056152344,-35.34244155883789,-60.532222747802734,71.58466339111328,-19.539613723754883,-48.46903610229492,36.251888275146484,-73.53560638427734,6.935306072235107,21.843204498291016,-21.62565803527832,72.64103698730469,-38.31224060058594,67.61497497558594,4.564022064208984,60.24813461303711,48.73173522949219,-21.714513778686523,33.7450065612793,25.34010887145996,-14.879146575927734,11.388890266418457,-4.693454742431641,-40.38471603393555,-5.062191963195801,-12.514261245727539,-51.039459228515625,73.64418029785156,42.966331481933594,2.853506088256836,-58.86841583251953,4.889697074890137,70.97319030761719,45.0390739440918,35.744293212890625,44.049373626708984,-25.436620712280273,-42.41899108886719,-74.53018188476562,77.7591781616211,8.721895217895508,34.180721282958984,-74.38094329833984,-33.65419387817383,-4.755519866943359,8.214152336120605,11.207269668579102,-5.948122024536133,14.768270492553711,52.535621643066406,36.938270568847656,-44.783241271972656,-33.530540466308594,6.881065845489502,19.8646183013916,-29.83129119873047,34.68367385864258,-49.39493942260742,20.545194625854492,17.820032119750977,-18.476869583129883,-77.36331176757812,-29.326595306396484,20.06955909729004,-25.123958587646484,29.3244686126709,7.815179347991943,5.260187149047852,54.84807205200195,-60.2356071472168,-75.11780548095703,-21.288284301757812,-32.940208435058594,-2.043088674545288,46.18357849121094,54.110660552978516,70.37006378173828,18.792314529418945,22.509166717529297,32.36812210083008,6.224627494812012,34.0117301940918,3.7457222938537598,53.3405647277832,-72.83619689941406,-34.38383865356445,-20.341285705566406,78.01669311523438,44.12373352050781,29.77099609375,60.99500274658203,-22.317522048950195,20.14820098876953,65.17086029052734,67.4167251586914,53.92076873779297,43.938751220703125,47.519737243652344,-21.53650665283203,-37.88705825805664,4.1787638664245605,-19.752620697021484,-60.26679992675781,27.315759658813477,-27.81304359436035,-75.99431610107422,36.91434097290039,-60.25962448120117,-9.073040962219238,7.350986957550049,4.7232160568237305,47.164615631103516,-21.362947463989258,6.373774528503418,-25.305532455444336,24.28524398803711,-34.704776763916016,-0.5206859707832336,-23.32937240600586,-57.09455490112305,68.88652038574219,39.6248893737793,1.276872158050537,11.758901596069336,-77.4453353881836,-58.813236236572266,-54.866668701171875,-15.97738265991211,22.881547927856445,12.178234100341797,60.5479850769043,-35.953392028808594,-40.5819091796875,-12.485515594482422,24.316078186035156,1.773149013519287,-1.737403154373169,-25.2452392578125,57.08026885986328,-56.168094635009766,14.184957504272461,-23.454830169677734,12.639265060424805,45.432682037353516,-55.27268981933594,57.88507080078125,-15.375256538391113,-53.97594451904297,-61.00299072265625,-1.12202787399292,53.85324478149414,58.250667572021484,-22.792333602905273,15.057940483093262,13.246326446533203,-28.44263458251953,71.98462677001953,25.1265926361084,9.10492992401123,45.96766662597656,39.54526138305664,-34.51402282714844,20.138336181640625,-24.736629486083984,11.169384002685547,-45.75789260864258,-11.015401840209961,59.184749603271484,22.21024513244629,-3.5521976947784424,58.906246185302734,-38.416847229003906,7.93731689453125,-1.0670876502990723,-12.1245756149292,31.103015899658203,-22.356399536132812,-30.884675979614258,48.16012191772461,15.67311954498291,-3.1494970321655273,-58.16777038574219,20.927419662475586,13.647315979003906,-72.01302337646484,7.281601428985596,-12.241188049316406,-77.34817504882812,3.935919761657715,-33.20487594604492,-4.5033111572265625,-56.13253402709961,-25.142858505249023,65.17999267578125,6.043613433837891,-34.69829559326172,-43.50423812866211,44.920719146728516,-57.0070686340332,64.89366149902344,-54.90533447265625,-11.148136138916016,-20.13364028930664,-74.51226043701172,-29.99186134338379,18.396305084228516,8.469976425170898,-41.92512130737305,33.06298828125,-31.647502899169922,-20.367212295532227,34.10422897338867,-39.24356460571289,-44.40565490722656,-49.33528137207031,22.012441635131836,-31.343530654907227,-12.090670585632324,7.550137042999268,37.2164192199707,11.56627082824707,41.06658172607422,-4.948845386505127,-33.906314849853516,4.731464385986328,-52.467628479003906,65.77582550048828,65.92374420166016,74.74584197998047,-7.3484954833984375,-29.03691291809082,-24.525062561035156,-39.74585723876953,0.258931040763855,45.0345344543457,-57.9559440612793,58.417301177978516,45.921207427978516,55.86320495605469,60.8757438659668,66.62594604492188,-15.048397064208984,-25.029172897338867,-56.54637145996094,-50.775569915771484,68.81194305419922,-38.764286041259766,2.595388174057007,9.162821769714355,-33.651039123535156,45.6027717590332,-35.27198028564453,-3.8448452949523926,-16.03581428527832,-31.75297737121582,-30.95555877685547,8.893688201904297,1.8778488636016846,-15.467411994934082,-29.00594139099121,-77.39582061767578,54.506168365478516,41.386627197265625,69.59979248046875,47.05729293823242,3.6832306385040283,16.02335548400879,-13.711738586425781,-10.497235298156738,8.89232349395752,35.628658294677734,-0.15431176126003265,-14.516573905944824,17.732439041137695,-34.15422821044922,5.199199676513672,-14.119455337524414,-65.67948913574219,6.012086868286133,-44.25547790527344,17.77822494506836,54.6232795715332,48.49935531616211,-48.625064849853516,-3.1417839527130127,30.163145065307617,-24.34319496154785,25.89862632751465,23.56989288330078,58.02796173095703,36.85063552856445,-22.945730209350586,-45.050559997558594,24.195755004882812,-18.180221557617188,37.4697151184082,-5.112721920013428,-13.218536376953125,-25.145402908325195,34.72849655151367,9.64720344543457,-34.75004959106445,-58.86075210571289,38.32020950317383,49.137176513671875,-29.493959426879883,46.403316497802734,-39.544761657714844,-58.4346923828125,-71.63176727294922,-24.737064361572266,-3.3150217533111572,-16.59988784790039,-41.82633590698242,-48.75594711303711,59.95761489868164,56.96329116821289,68.74171447753906,-26.248334884643555,-75.92108154296875,23.808656692504883,-19.718215942382812,-58.701927185058594,44.518531799316406,-7.179830074310303,-3.472156524658203,42.96516418457031,38.99897384643555,-13.68175983428955,-11.368827819824219,-40.37519073486328,29.464191436767578,-19.6591739654541,43.90522766113281,8.663470268249512,31.765399932861328,-35.52142333984375,-8.568313598632812,47.61128616333008,41.91395950317383,18.088523864746094,17.57417106628418,-20.541553497314453,-34.11983108520508,-47.91633605957031,-19.719974517822266,33.410484313964844,3.3546268939971924,-45.7723503112793,-40.09416198730469,23.83452033996582,24.9832763671875,-3.215118885040283,50.22377014160156,-29.137849807739258,4.039176940917969,29.157390594482422,65.5861587524414,10.959579467773438,-47.93359375,-48.28584289550781,-24.03030014038086,13.570335388183594,-22.927701950073242,-21.61330795288086,-1.1141531467437744,19.868988037109375,-62.56205749511719,-29.64109992980957,-66.25210571289062,31.648488998413086,-23.048391342163086,-62.65214920043945,-42.52048110961914,25.13912010192871,-23.14616584777832,-27.608047485351562,48.159122467041016,-14.118304252624512,-22.988515853881836,-8.492838859558105,-3.5865261554718018,-22.93880844116211,-12.737536430358887,41.85111999511719,-24.147994995117188,28.13669776916504,-15.602404594421387,-31.75360679626465,34.27188491821289,75.46253967285156,38.305458068847656,1.1951569318771362,21.554296493530273,73.34201049804688,-20.963693618774414,-52.853179931640625,24.381258010864258,-5.6130757331848145,2.771214485168457,-16.331623077392578,-4.203823089599609,-59.86564254760742,-37.23553466796875,-40.76125717163086,-58.76443862915039,-35.194786071777344,-75.42228698730469,8.049273490905762,63.48655700683594,66.476806640625,-29.537460327148438,-43.380340576171875,9.35604190826416,-22.83940887451172,50.36628341674805,3.9006528854370117,-51.04291534423828,19.93281364440918,-30.23383140563965,59.844181060791016,-33.296791076660156,-38.43044662475586,-33.14773941040039,-24.696712493896484,-17.10186767578125,25.34478759765625,-51.466392517089844,-18.984088897705078,1.553469181060791,47.31940460205078,3.990649938583374,-46.82202911376953,15.107666969299316,-4.372128009796143,-43.24263000488281,-46.599815368652344,-11.269341468811035,-36.91694259643555,-42.96306228637695,23.367712020874023,-1.140357494354248,-10.897927284240723,11.970344543457031,11.817119598388672,-39.62230682373047,-40.90373992919922,-45.97480773925781,26.80575180053711,-16.851577758789062,33.04917526245117,20.81624984741211,-19.86990737915039,-27.736635208129883,79.20175170898438,6.115842342376709,25.9555721282959,14.704154014587402,6.3206987380981445,-30.537757873535156,11.51738452911377,-4.44749116897583,58.454193115234375,-34.624847412109375,-5.810205936431885,36.4981803894043,-30.402761459350586,-25.812931060791016,-34.31262969970703,18.372974395751953,26.463550567626953,9.86412239074707,-49.45416259765625,-1.6052502393722534,-3.908391237258911,-14.294326782226562,-10.11657428741455,56.74301528930664,-54.09093475341797,-14.238231658935547,-24.092233657836914,50.704345703125,63.010719299316406,53.9368782043457,-57.319766998291016,38.82783508300781,-45.943931579589844,38.674102783203125,28.880468368530273,8.744272232055664,-44.62525177001953,-5.396212577819824,33.809783935546875,-41.89927291870117,-46.18082809448242,14.957148551940918,-13.062437057495117,-16.613779067993164,46.0721549987793,-17.805156707763672,-39.77046585083008,-23.792640686035156,-0.08096051961183548,-7.5194268226623535,35.33481216430664,34.43813705444336,0.6490487456321716,-29.94357681274414,78.20604705810547,17.621313095092773,48.40464782714844,3.383218765258789,9.719878196716309,-42.22255325317383,17.015958786010742,5.020740032196045,-33.17362976074219,18.33042335510254,-50.3028564453125,63.84090805053711,19.833173751831055,14.044020652770996,23.46395492553711,72.6813735961914,-26.814483642578125,19.120187759399414,-20.364498138427734,37.437496185302734,54.31270217895508,-21.445505142211914,0.6898170709609985,-43.534217834472656,23.993074417114258,68.14775085449219,-7.222586154937744,-7.8674116134643555,-5.135260105133057,27.680267333984375,3.8339927196502686,15.770198822021484,13.136690139770508,16.4785213470459,37.23372268676758,54.967750549316406,57.70677185058594,66.91740417480469,-20.3339900970459,-44.34210205078125,41.267967224121094,-49.301673889160156,9.367660522460938,-56.54084777832031,35.53376770019531,17.90888786315918,34.5131950378418,-7.092535972595215,59.88466262817383,-30.558834075927734,5.386780261993408,48.80303192138672,3.058189868927002,-45.172855377197266,9.484354972839355,32.16073989868164,-21.084848403930664,-58.325599670410156,9.119457244873047,-29.753707885742188,-34.564048767089844,-2.3917741775512695,37.4992790222168,5.5078911781311035,4.80027437210083,47.17919921875,60.186805725097656,-21.041309356689453,-12.03376293182373,-27.35500144958496,-30.97218132019043,16.77977752685547,-19.318588256835938,-17.18061065673828,-13.232605934143066,-17.467287063598633,76.1595230102539,-6.196468830108643,-36.491336822509766,23.846860885620117,68.18083953857422,73.65228271484375,-2.761960744857788,-52.33552169799805,-55.134521484375,9.224099159240723,50.06550216674805,-29.629926681518555,-55.318782806396484,23.53762435913086,-24.8184757232666,-3.4145469665527344,9.507152557373047,-61.412017822265625,19.46257972717285,-45.706085205078125,-43.4027214050293,-27.548824310302734,3.001852512359619,10.811051368713379,-41.87073516845703,53.150062561035156,59.339508056640625,55.40950012207031,-26.417076110839844,-13.203712463378906,65.79217529296875,44.752140045166016,45.96702194213867,58.82511520385742,46.77663803100586,-3.2136123180389404,73.58624267578125,60.53940963745117,8.796521186828613,-56.59592056274414,-14.260547637939453,62.669429779052734,62.875823974609375,3.9094934463500977,-24.587697982788086],\"xaxis\":\"x\",\"y\":[38.09195327758789,-52.94588851928711,-52.1103401184082,50.903202056884766,20.099973678588867,47.0424690246582,-10.134142875671387,-13.389307975769043,-35.19587326049805,28.16352653503418,-28.530046463012695,1.1736955642700195,-27.644969940185547,-9.213017463684082,-10.242208480834961,1.6258374452590942,33.48594284057617,-25.4287109375,16.305734634399414,-10.139145851135254,37.720035552978516,44.73068618774414,-18.852741241455078,-29.39505958557129,31.012168884277344,15.521013259887695,9.068647384643555,-3.8996775150299072,41.80585479736328,6.529035568237305,22.548309326171875,49.65535354614258,-37.60873794555664,48.17918014526367,44.41576385498047,23.949962615966797,44.70072555541992,34.87684631347656,24.27202033996582,-3.2736449241638184,-11.012205123901367,12.383845329284668,36.692054748535156,-18.34103775024414,0.011542582884430885,-2.2697722911834717,17.853477478027344,-29.602012634277344,22.091617584228516,-38.98036575317383,19.42115020751953,-53.362335205078125,7.8463215827941895,10.505800247192383,16.168115615844727,7.269413471221924,-14.90462875366211,-15.249466896057129,12.800395965576172,32.590911865234375,-54.38413619995117,-8.31340217590332,-26.442615509033203,8.483009338378906,24.1884822845459,-36.08967590332031,-40.06548309326172,-65.32929992675781,-21.433454513549805,-13.417881965637207,-31.606014251708984,-59.80314254760742,48.05512619018555,-37.48961639404297,9.169046401977539,27.943145751953125,46.27873611450195,-0.3214585483074188,10.457987785339355,7.114462375640869,-6.449544906616211,9.852677345275879,-11.90035343170166,-34.44546890258789,-22.02240562438965,25.347280502319336,-23.231531143188477,5.959869384765625,2.948538064956665,0.6883148550987244,2.27030086517334,-13.867599487304688,-15.156131744384766,-11.307229042053223,33.285953521728516,14.81667423248291,47.945701599121094,0.42738690972328186,47.69370651245117,1.3421151638031006,-38.39080047607422,30.37725257873535,-22.255233764648438,22.441558837890625,33.74420928955078,37.34619903564453,-0.921909511089325,-8.893515586853027,-12.648540496826172,-33.02446365356445,-52.386390686035156,16.13578224182129,28.29939079284668,19.18790054321289,8.454081535339355,31.236549377441406,-36.52106475830078,34.82418441772461,16.349294662475586,0.5591786503791809,6.9742560386657715,46.87092590332031,12.278054237365723,43.23628616333008,-8.480424880981445,-25.064414978027344,11.557734489440918,-0.9000236392021179,43.38335418701172,16.753376007080078,-23.815528869628906,-49.37110137939453,-25.449548721313477,-29.21434783935547,4.721462726593018,11.967097282409668,17.22980308532715,15.029399871826172,30.203235626220703,10.843457221984863,10.769655227661133,-24.779203414916992,47.469573974609375,28.46086311340332,-11.054003715515137,-14.520161628723145,10.699895858764648,-8.752795219421387,-65.58992767333984,-1.0251744985580444,33.79792022705078,1.641676902770996,-15.807876586914062,0.03583380579948425,-55.6224250793457,5.033454418182373,-51.92405319213867,5.586395740509033,-40.95977020263672,-9.578782081604004,-6.684690475463867,-20.65314483642578,-44.36628723144531,-18.2480411529541,-51.50890350341797,-28.40706443786621,-13.339475631713867,42.559326171875,-7.538802623748779,23.36227798461914,22.12224006652832,-36.760318756103516,-53.67803955078125,43.399444580078125,18.680986404418945,26.27107810974121,5.089229106903076,-35.90993118286133,-16.758319854736328,-8.651472091674805,12.965563774108887,-11.122153282165527,-26.790876388549805,5.251196384429932,43.75788116455078,-15.216684341430664,-0.6704687476158142,-27.558074951171875,-24.61557960510254,-38.53646469116211,-31.114347457885742,-54.4361457824707,28.453475952148438,9.341090202331543,-39.74442672729492,-31.62869644165039,-36.927490234375,3.5664093494415283,-1.1101269721984863,-21.729352951049805,4.295555114746094,-32.13337707519531,-10.304717063903809,-7.141116619110107,-5.654067516326904,48.498748779296875,-0.7944377064704895,-43.15546798706055,15.175701141357422,-1.622483491897583,11.378739356994629,-2.5280609130859375,13.931849479675293,-24.56922721862793,10.294042587280273,-4.014039993286133,-31.739072799682617,-22.049755096435547,-12.614867210388184,12.53512191772461,0.9193366169929504,21.140859603881836,18.343652725219727,-31.58578109741211,-53.481590270996094,-10.67667007446289,-48.129188537597656,16.663429260253906,18.147178649902344,-29.835542678833008,-6.827747821807861,-8.159873008728027,47.7435188293457,-15.453230857849121,-15.481450080871582,14.322766304016113,-1.7360035181045532,15.627144813537598,-27.269001007080078,44.460514068603516,9.477296829223633,-17.180557250976562,-11.706262588500977,-9.69510555267334,34.869773864746094,-11.518081665039062,-27.372224807739258,-33.81117248535156,-39.59586715698242,2.5510218143463135,5.625972270965576,-20.71921730041504,44.79136657714844,3.645615816116333,-0.6574353575706482,-33.60238265991211,-61.54737854003906,16.164005279541016,-16.14255714416504,30.8836612701416,-33.63155746459961,-49.87506103515625,7.26230525970459,19.703584671020508,45.475948333740234,20.35912322998047,-52.435245513916016,-31.758813858032227,-61.70794677734375,-40.438079833984375,-48.870357513427734,3.5711309909820557,46.763458251953125,46.01708984375,-48.67373275756836,10.818360328674316,10.628740310668945,26.611129760742188,4.213619709014893,-10.661934852600098,29.2091007232666,27.433258056640625,3.6713380813598633,8.779111862182617,31.144004821777344,25.768672943115234,-11.258463859558105,31.977554321289062,-12.8348970413208,7.510397911071777,11.514877319335938,26.642898559570312,-9.842239379882812,-37.54378128051758,32.495121002197266,20.787273406982422,8.314737319946289,7.756373882293701,-50.078670501708984,-37.89665603637695,-35.678104400634766,-38.168121337890625,1.1710203886032104,5.824110984802246,15.69234561920166,17.701013565063477,-6.411963939666748,-14.765358924865723,-31.849802017211914,-51.435394287109375,17.67957878112793,-28.0158634185791,3.1777725219726562,-11.484212875366211,-1.8546336889266968,40.6147575378418,45.85334777832031,35.04856491088867,-54.59029769897461,-9.292698860168457,0.9707693457603455,-24.054214477539062,-10.637350082397461,47.59305953979492,-53.03392028808594,-6.213157653808594,-52.7286491394043,19.170656204223633,-36.4323844909668,-15.78731918334961,-34.88140869140625,1.6380091905593872,-18.887346267700195,45.28765106201172,1.4664713144302368,-8.783188819885254,2.5177481174468994,44.65247344970703,41.53676986694336,13.304357528686523,2.4981093406677246,-12.382329940795898,-15.894569396972656,21.61324691772461,23.51999282836914,24.13832664489746,45.43419647216797,-17.51436424255371,28.174238204956055,-0.0704435408115387,-9.431368827819824,-23.001020431518555,-38.318729400634766,-8.588438034057617,-8.910983085632324,-49.370113372802734,-21.720069885253906,4.354980945587158,-11.14976978302002,-15.43307876586914,2.3092567920684814,-7.411688327789307,-48.49705123901367,-1.9019063711166382,11.16197681427002,-20.704057693481445,14.151269912719727,19.710487365722656,43.544342041015625,8.818831443786621,-15.32361125946045,-42.77228546142578,-37.54277801513672,23.651391983032227,-23.204833984375,24.92332649230957,23.10744285583496,-6.629976749420166,24.944490432739258,5.323951244354248,20.501718521118164,-8.995567321777344,-33.48029327392578,23.779014587402344,22.223834991455078,-7.741614818572998,-0.8249953389167786,-22.777206420898438,-20.01057243347168,24.10870361328125,51.871726989746094,19.837696075439453,26.002342224121094,46.88371658325195,-11.141408920288086,-47.30366134643555,-35.99019241333008,17.8052978515625,-28.86827850341797,-2.0751359462738037,37.58304214477539,-42.58687973022461,10.4064302444458,-9.779128074645996,16.324344635009766,-7.933704853057861,9.980707168579102,27.449256896972656,0.31298601627349854,30.92413902282715,30.696996688842773,17.631635665893555,-6.693013668060303,-19.454246520996094,45.54847717285156,9.47425365447998,-33.49391555786133,18.44729995727539,-48.09568405151367,19.335941314697266,17.013999938964844,-24.823781967163086,17.591320037841797,18.225149154663086,-15.735508918762207,-20.165313720703125,-5.30342960357666,9.939535140991211,7.117801666259766,45.09764862060547,44.7598991394043,11.112598419189453,35.48384094238281,-0.32199108600616455,10.061724662780762,42.207679748535156,45.64956283569336,-15.031472206115723,9.292434692382812,-34.30316162109375,1.4190329313278198,34.78615188598633,-53.9186897277832,34.54682159423828,12.838082313537598,8.036396980285645,27.805551528930664,-41.11932373046875,34.14635467529297,-21.735910415649414,-13.281872749328613,24.222097396850586,6.383021354675293,-15.018590927124023,-39.785118103027344,-16.880226135253906,-23.395700454711914,7.438384056091309,11.432536125183105,3.9785947799682617,14.434504508972168,38.1526985168457,0.07740452885627747,29.088403701782227,34.42646026611328,-3.689980983734131,16.836881637573242,45.292137145996094,-2.3961663246154785,8.627406120300293,-13.29830551147461,15.659708976745605,-38.203880310058594,-14.56655216217041,-29.87913703918457,-10.420928955078125,38.28737258911133,9.996044158935547,24.20111846923828,-22.02790069580078,7.6700849533081055,-48.194793701171875,1.1488343477249146,-49.562313079833984,-17.80335807800293,-0.6935479044914246,-12.319382667541504,-54.03654098510742,-0.6770632863044739,33.410247802734375,36.94209289550781,0.3580227792263031,-23.109140396118164,-46.83149337768555,-47.892704010009766,20.757043838500977,5.3090338706970215,-12.84688663482666,1.0401527881622314,-33.10203552246094,-37.736785888671875,19.653133392333984,24.56084442138672,-5.0226945877075195,13.19811725616455,40.659400939941406,2.844132661819458,-50.00238037109375,28.668062210083008,34.77760696411133,28.773012161254883,33.57122802734375,-23.062015533447266,-14.537517547607422,-40.511863708496094,-51.66620635986328,33.52206802368164,-53.9752082824707,-8.99246883392334,19.484519958496094,1.7617679834365845,1.90336012840271,31.282581329345703,-30.10269546508789,44.26799011230469,26.209949493408203,-22.511608123779297,-12.151307106018066,24.644407272338867,6.077881813049316,-28.81363296508789,1.4848674535751343,4.318909168243408,-0.7984537482261658,-16.913700103759766,11.77953052520752,-17.069427490234375,-7.661606311798096,-6.87225341796875,9.665325164794922,44.577301025390625,-40.8942756652832,-36.702430725097656,34.381378173828125,-29.144126892089844,-30.416109085083008,14.689970016479492,-35.05817794799805,17.895336151123047,-51.636314392089844,-38.28139877319336,-10.49241828918457,-18.572816848754883,-40.88923645019531,-19.633445739746094,-2.074432611465454,-18.17179298400879,4.216086387634277,14.250716209411621,6.502144813537598,-39.928184509277344,-48.28835678100586,43.939292907714844,17.42295265197754,-21.716312408447266,23.698165893554688,-52.804779052734375,6.564405918121338,9.735002517700195,11.669291496276855,6.7586517333984375,-15.34800910949707,-11.838082313537598,-0.7925524115562439,-53.05608367919922,33.78474426269531,2.9431278705596924,3.0836784839630127,16.809051513671875,-47.54066467285156,-22.051488876342773,32.72991943359375,-28.693878173828125,23.25733757019043,44.97532653808594,-10.77269458770752,23.165313720703125,45.477230072021484,-24.70006561279297,-20.129295349121094,-28.76080894470215,-21.052736282348633,-20.638957977294922,-27.387540817260742,0.9528201818466187,12.571208000183105,6.558035850524902,29.087787628173828,8.588617324829102,8.305154800415039,2.680346965789795,24.848735809326172,-20.853796005249023,51.14554977416992,-15.242988586425781,21.056419372558594,-35.48986053466797,7.356809616088867,27.983680725097656,-2.2241721153259277,21.856760025024414,-3.100665330886841,-11.967753410339355,-51.361167907714844,4.471024513244629,-10.742890357971191,43.54792022705078,1.4980353116989136,-0.9489066004753113,-1.9944347143173218,35.745750427246094,-35.63880920410156,40.14576721191406,18.816686630249023,11.164320945739746,-43.812171936035156,-2.3130455017089844,47.52478790283203,31.266719818115234,47.01085662841797,-10.895020484924316,-11.105213165283203,15.79453182220459,-48.87333679199219,1.1578627824783325,21.939857482910156,-38.1515007019043,-13.606626510620117,-11.498514175415039,13.12894058227539,-42.227046966552734,28.29246711730957,25.387393951416016,10.67269229888916,2.0311672687530518,2.1875696182250977,-17.315338134765625,-9.704625129699707,40.69795608520508,-41.84235763549805,-60.99832534790039,-0.34646785259246826,-1.731423258781433,1.1648952960968018,19.023998260498047,-52.56386184692383,20.99259376525879,-60.20137023925781,-26.880290985107422,1.2913810014724731,12.615066528320312,-26.01040267944336,46.42625427246094,-17.201839447021484,-10.113197326660156,12.45288372039795,21.168359756469727,10.019760131835938,8.828215599060059,-3.0794994831085205,-8.371637344360352,-19.530027389526367,8.046063423156738,5.934327602386475,34.1939697265625,32.57822799682617,32.360191345214844,28.105499267578125,43.1357421875],\"yaxis\":\"y\",\"type\":\"scatter\"}],                        {\"template\":{\"data\":{\"histogram2dcontour\":[{\"type\":\"histogram2dcontour\",\"colorbar\":{\"outlinewidth\":0,\"ticks\":\"\"},\"colorscale\":[[0.0,\"#0d0887\"],[0.1111111111111111,\"#46039f\"],[0.2222222222222222,\"#7201a8\"],[0.3333333333333333,\"#9c179e\"],[0.4444444444444444,\"#bd3786\"],[0.5555555555555556,\"#d8576b\"],[0.6666666666666666,\"#ed7953\"],[0.7777777777777778,\"#fb9f3a\"],[0.8888888888888888,\"#fdca26\"],[1.0,\"#f0f921\"]]}],\"choropleth\":[{\"type\":\"choropleth\",\"colorbar\":{\"outlinewidth\":0,\"ticks\":\"\"}}],\"histogram2d\":[{\"type\":\"histogram2d\",\"colorbar\":{\"outlinewidth\":0,\"ticks\":\"\"},\"colorscale\":[[0.0,\"#0d0887\"],[0.1111111111111111,\"#46039f\"],[0.2222222222222222,\"#7201a8\"],[0.3333333333333333,\"#9c179e\"],[0.4444444444444444,\"#bd3786\"],[0.5555555555555556,\"#d8576b\"],[0.6666666666666666,\"#ed7953\"],[0.7777777777777778,\"#fb9f3a\"],[0.8888888888888888,\"#fdca26\"],[1.0,\"#f0f921\"]]}],\"heatmap\":[{\"type\":\"heatmap\",\"colorbar\":{\"outlinewidth\":0,\"ticks\":\"\"},\"colorscale\":[[0.0,\"#0d0887\"],[0.1111111111111111,\"#46039f\"],[0.2222222222222222,\"#7201a8\"],[0.3333333333333333,\"#9c179e\"],[0.4444444444444444,\"#bd3786\"],[0.5555555555555556,\"#d8576b\"],[0.6666666666666666,\"#ed7953\"],[0.7777777777777778,\"#fb9f3a\"],[0.8888888888888888,\"#fdca26\"],[1.0,\"#f0f921\"]]}],\"heatmapgl\":[{\"type\":\"heatmapgl\",\"colorbar\":{\"outlinewidth\":0,\"ticks\":\"\"},\"colorscale\":[[0.0,\"#0d0887\"],[0.1111111111111111,\"#46039f\"],[0.2222222222222222,\"#7201a8\"],[0.3333333333333333,\"#9c179e\"],[0.4444444444444444,\"#bd3786\"],[0.5555555555555556,\"#d8576b\"],[0.6666666666666666,\"#ed7953\"],[0.7777777777777778,\"#fb9f3a\"],[0.8888888888888888,\"#fdca26\"],[1.0,\"#f0f921\"]]}],\"contourcarpet\":[{\"type\":\"contourcarpet\",\"colorbar\":{\"outlinewidth\":0,\"ticks\":\"\"}}],\"contour\":[{\"type\":\"contour\",\"colorbar\":{\"outlinewidth\":0,\"ticks\":\"\"},\"colorscale\":[[0.0,\"#0d0887\"],[0.1111111111111111,\"#46039f\"],[0.2222222222222222,\"#7201a8\"],[0.3333333333333333,\"#9c179e\"],[0.4444444444444444,\"#bd3786\"],[0.5555555555555556,\"#d8576b\"],[0.6666666666666666,\"#ed7953\"],[0.7777777777777778,\"#fb9f3a\"],[0.8888888888888888,\"#fdca26\"],[1.0,\"#f0f921\"]]}],\"surface\":[{\"type\":\"surface\",\"colorbar\":{\"outlinewidth\":0,\"ticks\":\"\"},\"colorscale\":[[0.0,\"#0d0887\"],[0.1111111111111111,\"#46039f\"],[0.2222222222222222,\"#7201a8\"],[0.3333333333333333,\"#9c179e\"],[0.4444444444444444,\"#bd3786\"],[0.5555555555555556,\"#d8576b\"],[0.6666666666666666,\"#ed7953\"],[0.7777777777777778,\"#fb9f3a\"],[0.8888888888888888,\"#fdca26\"],[1.0,\"#f0f921\"]]}],\"mesh3d\":[{\"type\":\"mesh3d\",\"colorbar\":{\"outlinewidth\":0,\"ticks\":\"\"}}],\"scatter\":[{\"fillpattern\":{\"fillmode\":\"overlay\",\"size\":10,\"solidity\":0.2},\"type\":\"scatter\"}],\"parcoords\":[{\"type\":\"parcoords\",\"line\":{\"colorbar\":{\"outlinewidth\":0,\"ticks\":\"\"}}}],\"scatterpolargl\":[{\"type\":\"scatterpolargl\",\"marker\":{\"colorbar\":{\"outlinewidth\":0,\"ticks\":\"\"}}}],\"bar\":[{\"error_x\":{\"color\":\"#2a3f5f\"},\"error_y\":{\"color\":\"#2a3f5f\"},\"marker\":{\"line\":{\"color\":\"#E5ECF6\",\"width\":0.5},\"pattern\":{\"fillmode\":\"overlay\",\"size\":10,\"solidity\":0.2}},\"type\":\"bar\"}],\"scattergeo\":[{\"type\":\"scattergeo\",\"marker\":{\"colorbar\":{\"outlinewidth\":0,\"ticks\":\"\"}}}],\"scatterpolar\":[{\"type\":\"scatterpolar\",\"marker\":{\"colorbar\":{\"outlinewidth\":0,\"ticks\":\"\"}}}],\"histogram\":[{\"marker\":{\"pattern\":{\"fillmode\":\"overlay\",\"size\":10,\"solidity\":0.2}},\"type\":\"histogram\"}],\"scattergl\":[{\"type\":\"scattergl\",\"marker\":{\"colorbar\":{\"outlinewidth\":0,\"ticks\":\"\"}}}],\"scatter3d\":[{\"type\":\"scatter3d\",\"line\":{\"colorbar\":{\"outlinewidth\":0,\"ticks\":\"\"}},\"marker\":{\"colorbar\":{\"outlinewidth\":0,\"ticks\":\"\"}}}],\"scattermapbox\":[{\"type\":\"scattermapbox\",\"marker\":{\"colorbar\":{\"outlinewidth\":0,\"ticks\":\"\"}}}],\"scatterternary\":[{\"type\":\"scatterternary\",\"marker\":{\"colorbar\":{\"outlinewidth\":0,\"ticks\":\"\"}}}],\"scattercarpet\":[{\"type\":\"scattercarpet\",\"marker\":{\"colorbar\":{\"outlinewidth\":0,\"ticks\":\"\"}}}],\"carpet\":[{\"aaxis\":{\"endlinecolor\":\"#2a3f5f\",\"gridcolor\":\"white\",\"linecolor\":\"white\",\"minorgridcolor\":\"white\",\"startlinecolor\":\"#2a3f5f\"},\"baxis\":{\"endlinecolor\":\"#2a3f5f\",\"gridcolor\":\"white\",\"linecolor\":\"white\",\"minorgridcolor\":\"white\",\"startlinecolor\":\"#2a3f5f\"},\"type\":\"carpet\"}],\"table\":[{\"cells\":{\"fill\":{\"color\":\"#EBF0F8\"},\"line\":{\"color\":\"white\"}},\"header\":{\"fill\":{\"color\":\"#C8D4E3\"},\"line\":{\"color\":\"white\"}},\"type\":\"table\"}],\"barpolar\":[{\"marker\":{\"line\":{\"color\":\"#E5ECF6\",\"width\":0.5},\"pattern\":{\"fillmode\":\"overlay\",\"size\":10,\"solidity\":0.2}},\"type\":\"barpolar\"}],\"pie\":[{\"automargin\":true,\"type\":\"pie\"}]},\"layout\":{\"autotypenumbers\":\"strict\",\"colorway\":[\"#636efa\",\"#EF553B\",\"#00cc96\",\"#ab63fa\",\"#FFA15A\",\"#19d3f3\",\"#FF6692\",\"#B6E880\",\"#FF97FF\",\"#FECB52\"],\"font\":{\"color\":\"#2a3f5f\"},\"hovermode\":\"closest\",\"hoverlabel\":{\"align\":\"left\"},\"paper_bgcolor\":\"white\",\"plot_bgcolor\":\"#E5ECF6\",\"polar\":{\"bgcolor\":\"#E5ECF6\",\"angularaxis\":{\"gridcolor\":\"white\",\"linecolor\":\"white\",\"ticks\":\"\"},\"radialaxis\":{\"gridcolor\":\"white\",\"linecolor\":\"white\",\"ticks\":\"\"}},\"ternary\":{\"bgcolor\":\"#E5ECF6\",\"aaxis\":{\"gridcolor\":\"white\",\"linecolor\":\"white\",\"ticks\":\"\"},\"baxis\":{\"gridcolor\":\"white\",\"linecolor\":\"white\",\"ticks\":\"\"},\"caxis\":{\"gridcolor\":\"white\",\"linecolor\":\"white\",\"ticks\":\"\"}},\"coloraxis\":{\"colorbar\":{\"outlinewidth\":0,\"ticks\":\"\"}},\"colorscale\":{\"sequential\":[[0.0,\"#0d0887\"],[0.1111111111111111,\"#46039f\"],[0.2222222222222222,\"#7201a8\"],[0.3333333333333333,\"#9c179e\"],[0.4444444444444444,\"#bd3786\"],[0.5555555555555556,\"#d8576b\"],[0.6666666666666666,\"#ed7953\"],[0.7777777777777778,\"#fb9f3a\"],[0.8888888888888888,\"#fdca26\"],[1.0,\"#f0f921\"]],\"sequentialminus\":[[0.0,\"#0d0887\"],[0.1111111111111111,\"#46039f\"],[0.2222222222222222,\"#7201a8\"],[0.3333333333333333,\"#9c179e\"],[0.4444444444444444,\"#bd3786\"],[0.5555555555555556,\"#d8576b\"],[0.6666666666666666,\"#ed7953\"],[0.7777777777777778,\"#fb9f3a\"],[0.8888888888888888,\"#fdca26\"],[1.0,\"#f0f921\"]],\"diverging\":[[0,\"#8e0152\"],[0.1,\"#c51b7d\"],[0.2,\"#de77ae\"],[0.3,\"#f1b6da\"],[0.4,\"#fde0ef\"],[0.5,\"#f7f7f7\"],[0.6,\"#e6f5d0\"],[0.7,\"#b8e186\"],[0.8,\"#7fbc41\"],[0.9,\"#4d9221\"],[1,\"#276419\"]]},\"xaxis\":{\"gridcolor\":\"white\",\"linecolor\":\"white\",\"ticks\":\"\",\"title\":{\"standoff\":15},\"zerolinecolor\":\"white\",\"automargin\":true,\"zerolinewidth\":2},\"yaxis\":{\"gridcolor\":\"white\",\"linecolor\":\"white\",\"ticks\":\"\",\"title\":{\"standoff\":15},\"zerolinecolor\":\"white\",\"automargin\":true,\"zerolinewidth\":2},\"scene\":{\"xaxis\":{\"backgroundcolor\":\"#E5ECF6\",\"gridcolor\":\"white\",\"linecolor\":\"white\",\"showbackground\":true,\"ticks\":\"\",\"zerolinecolor\":\"white\",\"gridwidth\":2},\"yaxis\":{\"backgroundcolor\":\"#E5ECF6\",\"gridcolor\":\"white\",\"linecolor\":\"white\",\"showbackground\":true,\"ticks\":\"\",\"zerolinecolor\":\"white\",\"gridwidth\":2},\"zaxis\":{\"backgroundcolor\":\"#E5ECF6\",\"gridcolor\":\"white\",\"linecolor\":\"white\",\"showbackground\":true,\"ticks\":\"\",\"zerolinecolor\":\"white\",\"gridwidth\":2}},\"shapedefaults\":{\"line\":{\"color\":\"#2a3f5f\"}},\"annotationdefaults\":{\"arrowcolor\":\"#2a3f5f\",\"arrowhead\":0,\"arrowwidth\":1},\"geo\":{\"bgcolor\":\"white\",\"landcolor\":\"#E5ECF6\",\"subunitcolor\":\"white\",\"showland\":true,\"showlakes\":true,\"lakecolor\":\"white\"},\"title\":{\"x\":0.05},\"mapbox\":{\"style\":\"light\"}}},\"xaxis\":{\"anchor\":\"y\",\"domain\":[0.0,1.0],\"title\":{\"text\":\"0\"}},\"yaxis\":{\"anchor\":\"x\",\"domain\":[0.0,1.0],\"title\":{\"text\":\"1\"}},\"legend\":{\"tracegroupgap\":0},\"margin\":{\"t\":60},\"height\":800,\"width\":800},                        {\"responsive\": true}                    ).then(function(){\n",
       "                            \n",
       "var gd = document.getElementById('11448ae6-e092-4fcf-ab1b-6d438f81455e');\n",
       "var x = new MutationObserver(function (mutations, observer) {{\n",
       "        var display = window.getComputedStyle(gd).display;\n",
       "        if (!display || display === 'none') {{\n",
       "            console.log([gd, 'removed!']);\n",
       "            Plotly.purge(gd);\n",
       "            observer.disconnect();\n",
       "        }}\n",
       "}});\n",
       "\n",
       "// Listen for the removal of the full notebook cells\n",
       "var notebookContainer = gd.closest('#notebook-container');\n",
       "if (notebookContainer) {{\n",
       "    x.observe(notebookContainer, {childList: true});\n",
       "}}\n",
       "\n",
       "// Listen for the clearing of the current output cell\n",
       "var outputEl = gd.closest('.output');\n",
       "if (outputEl) {{\n",
       "    x.observe(outputEl, {childList: true});\n",
       "}}\n",
       "\n",
       "                        })                };                });            </script>        </div>"
      ]
     },
     "metadata": {},
     "output_type": "display_data"
    }
   ],
   "source": [
    "fig = px.scatter(\n",
    "    beowulf_projections, \n",
    "    x=0, y=1,\n",
    "    hover_name = np.array(beowulf_vocab),\n",
    "    width=800, \n",
    "    height=800\n",
    ")\n",
    "fig.show()"
   ]
  }
 ],
 "metadata": {
  "kernelspec": {
   "display_name": "Python 3 (ipykernel)",
   "language": "python",
   "name": "python3"
  },
  "language_info": {
   "codemirror_mode": {
    "name": "ipython",
    "version": 3
   },
   "file_extension": ".py",
   "mimetype": "text/x-python",
   "name": "python",
   "nbconvert_exporter": "python",
   "pygments_lexer": "ipython3",
   "version": "3.8.16"
  }
 },
 "nbformat": 4,
 "nbformat_minor": 5
}
