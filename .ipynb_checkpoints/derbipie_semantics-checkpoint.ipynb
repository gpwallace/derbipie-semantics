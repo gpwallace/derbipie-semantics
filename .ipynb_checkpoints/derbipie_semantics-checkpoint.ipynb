{
 "cells": [
  {
   "cell_type": "markdown",
   "id": "a4a1b6fa-be17-4083-b209-0ca13de1a55b",
   "metadata": {},
   "source": [
    "# DERBi PIE Semantics Module"
   ]
  },
  {
   "cell_type": "code",
   "execution_count": 56,
   "id": "bf800dee-f6c6-4559-b2b5-8d4dda5b3d92",
   "metadata": {
    "tags": []
   },
   "outputs": [],
   "source": [
    "# installing modules below:"
   ]
  },
  {
   "cell_type": "code",
   "execution_count": 55,
   "id": "9bc52003-b440-42b8-b3e8-04ecf6226e45",
   "metadata": {
    "tags": []
   },
   "outputs": [
    {
     "name": "stdout",
     "output_type": "stream",
     "text": [
      "Requirement already satisfied: gensim in c:\\users\\gpwal\\appdata\\roaming\\jupyterlab-desktop\\jlab_server\\lib\\site-packages (4.3.1)\n",
      "Requirement already satisfied: numpy>=1.18.5 in c:\\users\\gpwal\\appdata\\roaming\\jupyterlab-desktop\\jlab_server\\lib\\site-packages (from gensim) (1.24.3)\n",
      "Requirement already satisfied: scipy>=1.7.0 in c:\\users\\gpwal\\appdata\\roaming\\jupyterlab-desktop\\jlab_server\\lib\\site-packages (from gensim) (1.10.1)\n",
      "Requirement already satisfied: smart-open>=1.8.1 in c:\\users\\gpwal\\appdata\\roaming\\jupyterlab-desktop\\jlab_server\\lib\\site-packages (from gensim) (6.3.0)\n",
      "Note: you may need to restart the kernel to use updated packages.\n"
     ]
    }
   ],
   "source": [
    "pip install gensim"
   ]
  },
  {
   "cell_type": "code",
   "execution_count": 2,
   "id": "5e8388d7-c4fc-4e22-878d-134926eb7c56",
   "metadata": {
    "tags": []
   },
   "outputs": [
    {
     "name": "stdout",
     "output_type": "stream",
     "text": [
      "Requirement already satisfied: nltk in c:\\users\\gpwal\\appdata\\roaming\\jupyterlab-desktop\\jlab_server\\lib\\site-packages (3.8.1)Note: you may need to restart the kernel to use updated packages.\n",
      "\n",
      "Requirement already satisfied: click in c:\\users\\gpwal\\appdata\\roaming\\jupyterlab-desktop\\jlab_server\\lib\\site-packages (from nltk) (8.1.3)\n",
      "Requirement already satisfied: joblib in c:\\users\\gpwal\\appdata\\roaming\\jupyterlab-desktop\\jlab_server\\lib\\site-packages (from nltk) (1.2.0)\n",
      "Requirement already satisfied: regex>=2021.8.3 in c:\\users\\gpwal\\appdata\\roaming\\jupyterlab-desktop\\jlab_server\\lib\\site-packages (from nltk) (2023.5.5)\n",
      "Requirement already satisfied: tqdm in c:\\users\\gpwal\\appdata\\roaming\\jupyterlab-desktop\\jlab_server\\lib\\site-packages (from nltk) (4.65.0)\n",
      "Requirement already satisfied: colorama in c:\\users\\gpwal\\appdata\\roaming\\jupyterlab-desktop\\jlab_server\\lib\\site-packages (from click->nltk) (0.4.6)\n"
     ]
    }
   ],
   "source": [
    "pip install nltk"
   ]
  },
  {
   "cell_type": "code",
   "execution_count": 4,
   "id": "83bd716a-0822-4d73-a590-0d6753eab633",
   "metadata": {
    "tags": []
   },
   "outputs": [
    {
     "name": "stdout",
     "output_type": "stream",
     "text": [
      "Requirement already satisfied: scipy in c:\\users\\gpwal\\appdata\\roaming\\jupyterlab-desktop\\jlab_server\\lib\\site-packages (1.10.1)\n",
      "Requirement already satisfied: numpy<1.27.0,>=1.19.5 in c:\\users\\gpwal\\appdata\\roaming\\jupyterlab-desktop\\jlab_server\\lib\\site-packages (from scipy) (1.24.3)\n",
      "Note: you may need to restart the kernel to use updated packages.\n"
     ]
    }
   ],
   "source": [
    "pip install scipy"
   ]
  },
  {
   "cell_type": "code",
   "execution_count": 5,
   "id": "ffd5d8b2-cdc4-4390-b8f0-917f799e8c77",
   "metadata": {
    "tags": []
   },
   "outputs": [
    {
     "name": "stdout",
     "output_type": "stream",
     "text": [
      "Requirement already satisfied: gutenbergpy in c:\\users\\gpwal\\appdata\\roaming\\jupyterlab-desktop\\jlab_server\\lib\\site-packages (0.3.5)\n",
      "Requirement already satisfied: future>=0.15.2 in c:\\users\\gpwal\\appdata\\roaming\\jupyterlab-desktop\\jlab_server\\lib\\site-packages (from gutenbergpy) (0.18.3)\n",
      "Requirement already satisfied: httpsproxy-urllib2 in c:\\users\\gpwal\\appdata\\roaming\\jupyterlab-desktop\\jlab_server\\lib\\site-packages (from gutenbergpy) (1.0)\n",
      "Requirement already satisfied: lxml>=3.2.0 in c:\\users\\gpwal\\appdata\\roaming\\jupyterlab-desktop\\jlab_server\\lib\\site-packages (from gutenbergpy) (4.9.2)\n",
      "Requirement already satisfied: pymongo in c:\\users\\gpwal\\appdata\\roaming\\jupyterlab-desktop\\jlab_server\\lib\\site-packages (from gutenbergpy) (4.3.3)\n",
      "Requirement already satisfied: setuptools>=18.5 in c:\\users\\gpwal\\appdata\\roaming\\jupyterlab-desktop\\jlab_server\\lib\\site-packages (from gutenbergpy) (67.7.2)\n",
      "Requirement already satisfied: chardet in c:\\users\\gpwal\\appdata\\roaming\\jupyterlab-desktop\\jlab_server\\lib\\site-packages (from gutenbergpy) (5.1.0)\n",
      "Requirement already satisfied: dnspython<3.0.0,>=1.16.0 in c:\\users\\gpwal\\appdata\\roaming\\jupyterlab-desktop\\jlab_server\\lib\\site-packages (from pymongo->gutenbergpy) (2.3.0)\n",
      "Note: you may need to restart the kernel to use updated packages.\n"
     ]
    }
   ],
   "source": [
    "pip install gutenbergpy"
   ]
  },
  {
   "cell_type": "code",
   "execution_count": 6,
   "id": "4b128a28-17ce-4e65-b12d-e492c229c1e6",
   "metadata": {
    "tags": []
   },
   "outputs": [
    {
     "name": "stdout",
     "output_type": "stream",
     "text": [
      "Requirement already satisfied: matplotlib in c:\\users\\gpwal\\appdata\\roaming\\jupyterlab-desktop\\jlab_server\\lib\\site-packages (3.7.1)\n",
      "Requirement already satisfied: contourpy>=1.0.1 in c:\\users\\gpwal\\appdata\\roaming\\jupyterlab-desktop\\jlab_server\\lib\\site-packages (from matplotlib) (1.0.7)\n",
      "Requirement already satisfied: cycler>=0.10 in c:\\users\\gpwal\\appdata\\roaming\\jupyterlab-desktop\\jlab_server\\lib\\site-packages (from matplotlib) (0.11.0)\n",
      "Requirement already satisfied: fonttools>=4.22.0 in c:\\users\\gpwal\\appdata\\roaming\\jupyterlab-desktop\\jlab_server\\lib\\site-packages (from matplotlib) (4.39.4)\n",
      "Requirement already satisfied: kiwisolver>=1.0.1 in c:\\users\\gpwal\\appdata\\roaming\\jupyterlab-desktop\\jlab_server\\lib\\site-packages (from matplotlib) (1.4.4)\n",
      "Requirement already satisfied: numpy>=1.20 in c:\\users\\gpwal\\appdata\\roaming\\jupyterlab-desktop\\jlab_server\\lib\\site-packages (from matplotlib) (1.24.3)\n",
      "Requirement already satisfied: packaging>=20.0 in c:\\users\\gpwal\\appdata\\roaming\\jupyterlab-desktop\\jlab_server\\lib\\site-packages (from matplotlib) (23.1)\n",
      "Requirement already satisfied: pillow>=6.2.0 in c:\\users\\gpwal\\appdata\\roaming\\jupyterlab-desktop\\jlab_server\\lib\\site-packages (from matplotlib) (9.5.0)\n",
      "Requirement already satisfied: pyparsing>=2.3.1 in c:\\users\\gpwal\\appdata\\roaming\\jupyterlab-desktop\\jlab_server\\lib\\site-packages (from matplotlib) (3.0.9)\n",
      "Requirement already satisfied: python-dateutil>=2.7 in c:\\users\\gpwal\\appdata\\roaming\\jupyterlab-desktop\\jlab_server\\lib\\site-packages (from matplotlib) (2.8.2)\n",
      "Requirement already satisfied: importlib-resources>=3.2.0 in c:\\users\\gpwal\\appdata\\roaming\\jupyterlab-desktop\\jlab_server\\lib\\site-packages (from matplotlib) (5.12.0)\n",
      "Requirement already satisfied: zipp>=3.1.0 in c:\\users\\gpwal\\appdata\\roaming\\jupyterlab-desktop\\jlab_server\\lib\\site-packages (from importlib-resources>=3.2.0->matplotlib) (3.15.0)\n",
      "Requirement already satisfied: six>=1.5 in c:\\users\\gpwal\\appdata\\roaming\\jupyterlab-desktop\\jlab_server\\lib\\site-packages (from python-dateutil>=2.7->matplotlib) (1.16.0)\n",
      "Note: you may need to restart the kernel to use updated packages.\n"
     ]
    }
   ],
   "source": [
    "pip install matplotlib"
   ]
  },
  {
   "cell_type": "code",
   "execution_count": 7,
   "id": "f4e04ee1-1740-4af5-83a0-04693e1babb7",
   "metadata": {
    "tags": []
   },
   "outputs": [
    {
     "name": "stdout",
     "output_type": "stream",
     "text": [
      "Requirement already satisfied: tabulate in c:\\users\\gpwal\\appdata\\roaming\\jupyterlab-desktop\\jlab_server\\lib\\site-packages (0.9.0)\n",
      "Note: you may need to restart the kernel to use updated packages.\n"
     ]
    }
   ],
   "source": [
    "pip install tabulate"
   ]
  },
  {
   "cell_type": "code",
   "execution_count": 8,
   "id": "49865743-d078-4b05-a321-24dc4362c7d4",
   "metadata": {
    "tags": []
   },
   "outputs": [
    {
     "name": "stdout",
     "output_type": "stream",
     "text": [
      "Requirement already satisfied: sklearn in c:\\users\\gpwal\\appdata\\roaming\\jupyterlab-desktop\\jlab_server\\lib\\site-packages (0.0.post5)\n",
      "Note: you may need to restart the kernel to use updated packages.\n"
     ]
    }
   ],
   "source": [
    "pip install sklearn"
   ]
  },
  {
   "cell_type": "code",
   "execution_count": 9,
   "id": "dd8741f6-868d-4b32-800f-5732391ec6c9",
   "metadata": {
    "tags": []
   },
   "outputs": [
    {
     "name": "stdout",
     "output_type": "stream",
     "text": [
      "Requirement already satisfied: plotly in c:\\users\\gpwal\\appdata\\roaming\\jupyterlab-desktop\\jlab_server\\lib\\site-packages (5.14.1)\n",
      "Requirement already satisfied: tenacity>=6.2.0 in c:\\users\\gpwal\\appdata\\roaming\\jupyterlab-desktop\\jlab_server\\lib\\site-packages (from plotly) (8.2.2)\n",
      "Requirement already satisfied: packaging in c:\\users\\gpwal\\appdata\\roaming\\jupyterlab-desktop\\jlab_server\\lib\\site-packages (from plotly) (23.1)\n",
      "Note: you may need to restart the kernel to use updated packages.\n"
     ]
    }
   ],
   "source": [
    "pip install plotly"
   ]
  },
  {
   "cell_type": "code",
   "execution_count": 57,
   "id": "7fda0274-3107-4c83-9758-217b1951d94e",
   "metadata": {
    "tags": []
   },
   "outputs": [],
   "source": [
    "#importing modules below:"
   ]
  },
  {
   "cell_type": "code",
   "execution_count": 10,
   "id": "d3012de7-d750-4a8a-bec8-001db1ed7ae8",
   "metadata": {
    "tags": []
   },
   "outputs": [],
   "source": [
    "import gensim.downloader as api\n",
    "wv = api.load('glove-wiki-gigaword-100')"
   ]
  },
  {
   "cell_type": "code",
   "execution_count": 11,
   "id": "776ec2f5-e901-444e-b330-50892e604b04",
   "metadata": {
    "tags": []
   },
   "outputs": [
    {
     "name": "stderr",
     "output_type": "stream",
     "text": [
      "[nltk_data] Downloading package punkt to\n",
      "[nltk_data]     C:\\Users\\gpwal\\AppData\\Roaming\\nltk_data...\n",
      "[nltk_data]   Package punkt is already up-to-date!\n"
     ]
    },
    {
     "data": {
      "text/plain": [
       "True"
      ]
     },
     "execution_count": 11,
     "metadata": {},
     "output_type": "execute_result"
    }
   ],
   "source": [
    "from gensim.models import Word2Vec\n",
    "import nltk\n",
    "nltk.download('punkt')"
   ]
  },
  {
   "cell_type": "code",
   "execution_count": 12,
   "id": "403b145c-9ca3-42c5-a903-d4e4c08cd3b2",
   "metadata": {
    "tags": []
   },
   "outputs": [],
   "source": [
    "from nltk.tokenize import sent_tokenize, RegexpTokenizer"
   ]
  },
  {
   "cell_type": "code",
   "execution_count": 13,
   "id": "39db9812-0892-4a0c-b6c4-64d65ea8c50c",
   "metadata": {
    "tags": []
   },
   "outputs": [],
   "source": [
    "import nltk\n",
    "from nltk.corpus import stopwords"
   ]
  },
  {
   "cell_type": "code",
   "execution_count": 14,
   "id": "a61b3e0d-127d-4d28-8c7d-be58e4c2efa8",
   "metadata": {
    "tags": []
   },
   "outputs": [],
   "source": [
    "from pprint import pprint"
   ]
  },
  {
   "cell_type": "code",
   "execution_count": 15,
   "id": "c1c9ae09-cd68-4d58-b702-0bb946ceb8da",
   "metadata": {
    "tags": []
   },
   "outputs": [],
   "source": [
    "import numpy as np"
   ]
  },
  {
   "cell_type": "code",
   "execution_count": 16,
   "id": "29e1f2d0-bb06-4761-b487-c2e6b5f3e67e",
   "metadata": {
    "tags": []
   },
   "outputs": [],
   "source": [
    "from scipy import spatial"
   ]
  },
  {
   "cell_type": "code",
   "execution_count": 17,
   "id": "a678af4c-ace4-4371-af3d-facf1a7366b4",
   "metadata": {
    "tags": []
   },
   "outputs": [],
   "source": [
    "from nltk.tokenize import RegexpTokenizer\n",
    "from collections import Counter"
   ]
  },
  {
   "cell_type": "code",
   "execution_count": 18,
   "id": "20ca7f17-cd30-4148-9cd5-1aa72b52aa90",
   "metadata": {
    "tags": []
   },
   "outputs": [],
   "source": [
    "import gutenbergpy.textget"
   ]
  },
  {
   "cell_type": "code",
   "execution_count": 19,
   "id": "120d5fb7-c878-4100-9ffc-bae7c5318c4b",
   "metadata": {
    "tags": []
   },
   "outputs": [],
   "source": [
    "import matplotlib.pyplot as plt"
   ]
  },
  {
   "cell_type": "code",
   "execution_count": 20,
   "id": "c7c5edaa-0443-4818-b9db-b21c4e947ed5",
   "metadata": {
    "tags": []
   },
   "outputs": [],
   "source": [
    "from tabulate import tabulate"
   ]
  },
  {
   "cell_type": "code",
   "execution_count": 21,
   "id": "dfa64753-ac9b-494a-8723-32e849683653",
   "metadata": {
    "tags": []
   },
   "outputs": [],
   "source": [
    "from sklearn.manifold import TSNE"
   ]
  },
  {
   "cell_type": "code",
   "execution_count": 58,
   "id": "d3bd3c6a-3383-41ab-9134-303afa2739c7",
   "metadata": {
    "tags": []
   },
   "outputs": [],
   "source": [
    "import plotly.express as px"
   ]
  },
  {
   "cell_type": "code",
   "execution_count": 63,
   "id": "09b1238c-434d-4354-9a6c-da41274269e8",
   "metadata": {
    "tags": []
   },
   "outputs": [],
   "source": [
    "import os"
   ]
  },
  {
   "cell_type": "code",
   "execution_count": 59,
   "id": "4fbe1c99-fda6-4d0e-9bcc-808fae46183d",
   "metadata": {
    "tags": []
   },
   "outputs": [],
   "source": [
    "# creating a getbook function for Project Gutenberg\n",
    "def getbook(book, outfile):\n",
    "  \"\"\"\n",
    "  Download a book from project Gutenberg and save it \n",
    "  to the specified outfile\n",
    "  \"\"\"\n",
    "  print(f\"Downloading Project Gutenberg ID {book}\")\n",
    "  raw_book = gutenbergpy.textget.get_text_by_id(book)\n",
    "  clean_book = gutenbergpy.textget.strip_headers(raw_book)\n",
    "  if not outfile:\n",
    "    outfile = f'{book}.txt'\n",
    "    print(f\"Saving book as {outfile}\")\n",
    "  with open(outfile, 'wb') as file:\n",
    "    file.write(clean_book)\n",
    "    file.close()"
   ]
  },
  {
   "cell_type": "code",
   "execution_count": 79,
   "id": "436572e2-c3c2-4172-a4b0-885de8362136",
   "metadata": {
    "tags": []
   },
   "outputs": [
    {
     "name": "stdout",
     "output_type": "stream",
     "text": [
      "C:\\Users\\gpwal\\derbipie-semantics\\texts\n"
     ]
    }
   ],
   "source": [
    "# creating a directory path to store PG texts\n",
    "directory_path = os.path.join(os.environ['USERPROFILE'],'derbipie-semantics','texts')\n",
    "print(directory_path)"
   ]
  },
  {
   "cell_type": "code",
   "execution_count": 84,
   "id": "f07365d1-a296-4bd5-ae1d-a6c98a70561f",
   "metadata": {
    "tags": []
   },
   "outputs": [],
   "source": [
    "# these are Project Gutenberg IDs and information\n",
    "caesar_ids = [218, 18837, 29645]\n",
    "caesar_files = [f\"{x}.txt\" for x in caesar_ids]\n",
    "caesar_titles = [\"Bello Gallico I-IV\", \"Bello Gallico V-VII\", \"The Gate to Caesar\"]\n",
    "cicero_ids = [14970, 226, 47001]\n",
    "cicero_files = [f\"{x}.txt\" for x in cicero_ids]\n",
    "cicero_titles = [\"Academia\", \"Orations\", \"De Officiis\"]"
   ]
  },
  {
   "cell_type": "code",
   "execution_count": 85,
   "id": "eb5f02ef-2dfa-4b2e-9cd8-5d84ed043b74",
   "metadata": {
    "tags": []
   },
   "outputs": [
    {
     "name": "stdout",
     "output_type": "stream",
     "text": [
      "Downloading Project Gutenberg ID 218\n",
      "Saving book as 218.txt\n",
      "Downloading Project Gutenberg ID 18837\n",
      "Saving book as 18837.txt\n",
      "Downloading Project Gutenberg ID 29645\n",
      "Saving book as 29645.txt\n",
      "Downloading Project Gutenberg ID 14970\n",
      "Saving book as 14970.txt\n",
      "Downloading Project Gutenberg ID 226\n",
      "Saving book as 226.txt\n",
      "Downloading Project Gutenberg ID 47001\n",
      "Saving book as 47001.txt\n"
     ]
    }
   ],
   "source": [
    "# downloading Project Gutenberg texts\n",
    "foo = [getbook(x, f\"{x}.txt\" in directory_path) for x in caesar_ids]\n",
    "foo = [getbook(x, f\"{x}.txt\" in directory_path) for x in cicero_ids]"
   ]
  },
  {
   "cell_type": "code",
   "execution_count": 91,
   "id": "9f2f23ae-5bd5-4ffc-8bd0-ac220fe13a3e",
   "metadata": {
    "tags": []
   },
   "outputs": [],
   "source": [
    "def get_unigram_counts(path):\n",
    "  \"\"\"\n",
    "    Given a path, generate a counter dictionary of unigrams\n",
    "  \"\"\"\n",
    "  with open(path, 'r', encoding=\"utf-8\") as f:\n",
    "    text = f.read()\n",
    "  text = text.replace(\"\\n\", \" \").lower()\n",
    "  unigrams = RegexpTokenizer(r\"\\w+\").tokenize(text)\n",
    "  count = Counter(unigrams)\n",
    "  return(count)"
   ]
  },
  {
   "cell_type": "code",
   "execution_count": 90,
   "id": "988976f2-d67b-4d39-b024-6020b3ea80e5",
   "metadata": {
    "tags": []
   },
   "outputs": [],
   "source": [
    "# creating a function to count the instances of words in texts\n",
    "def get_term_count(book_dict, term):\n",
    "  \"\"\"\n",
    "    return a list of the number of times a term has appeared\n",
    "    in a book\n",
    "  \"\"\"\n",
    "  out = [book_dict[book][term] for book in book_dict]\n",
    "  return(out)"
   ]
  },
  {
   "cell_type": "code",
   "execution_count": 86,
   "id": "8ae4674c-75be-4fa2-a77b-1289db4ce7da",
   "metadata": {
    "tags": []
   },
   "outputs": [],
   "source": [
    "caesar_words = {k:get_unigram_counts(v) \n",
    "                    for k, v in zip(caesar_titles, caesar_files)}\n",
    "cicero_words = {k:get_unigram_counts(v) \n",
    "                    for k, v in zip(cicero_titles, cicero_files)}"
   ]
  },
  {
   "cell_type": "code",
   "execution_count": 92,
   "id": "ec55c75a-1fbc-4355-8f2c-c22af3a33cc1",
   "metadata": {
    "tags": []
   },
   "outputs": [],
   "source": [
    "# counting the number of times 'ego' and 'magnus' appear in the texts downloaded from PG\n",
    "ego = [\"ego\"] + \\\n",
    "          get_term_count(caesar_words, \"ego\") + \\\n",
    "          get_term_count(cicero_words, \"ego\")\n",
    "magnus  = [\"magnus\"] + \\\n",
    "          get_term_count(caesar_words, \"magnus\") + \\\n",
    "          get_term_count(cicero_words, \"magnus\")"
   ]
  },
  {
   "cell_type": "code",
   "execution_count": 93,
   "id": "86ca4381-7854-4235-bad9-fa8e3fbc0401",
   "metadata": {
    "tags": []
   },
   "outputs": [
    {
     "name": "stdout",
     "output_type": "stream",
     "text": [
      "['ego', 1, 4, 1, 29, 61, 10]\n",
      "['magnus', 0, 10, 0, 4, 0, 5]\n"
     ]
    }
   ],
   "source": [
    "print(ego)\n",
    "print(magnus)"
   ]
  },
  {
   "cell_type": "code",
   "execution_count": 103,
   "id": "acc90dd0-7b3a-40fa-8b30-3bf8c9ba56ce",
   "metadata": {
    "tags": []
   },
   "outputs": [
    {
     "name": "stdout",
     "output_type": "stream",
     "text": [
      "[['id',\n",
      "  'facilius',\n",
      "  'iis',\n",
      "  'persuasit',\n",
      "  'undique',\n",
      "  'loci',\n",
      "  'natura',\n",
      "  'helvetii',\n",
      "  'continentur',\n",
      "  'una',\n",
      "  'parte',\n",
      "  'flumine',\n",
      "  'rheno',\n",
      "  'latissimo',\n",
      "  'altissimo',\n",
      "  'agrum',\n",
      "  'helvetium',\n",
      "  'germanis',\n",
      "  'dividit',\n",
      "  'altera',\n",
      "  'parte',\n",
      "  'monte',\n",
      "  'iura',\n",
      "  'altissimo',\n",
      "  'inter',\n",
      "  'sequanos',\n",
      "  'helvetios',\n",
      "  'tertia',\n",
      "  'lacu',\n",
      "  'lemanno',\n",
      "  'flumine',\n",
      "  'rhodano',\n",
      "  'provinciam',\n",
      "  'nostram',\n",
      "  'helvetiis',\n",
      "  'dividit'],\n",
      " ['his',\n",
      "  'fiebat',\n",
      "  'minus',\n",
      "  'late',\n",
      "  'vagarentur',\n",
      "  'minus',\n",
      "  'facile',\n",
      "  'finitimis',\n",
      "  'bellum',\n",
      "  'inferre',\n",
      "  'possent',\n",
      "  'parte',\n",
      "  'homines',\n",
      "  'bellandi',\n",
      "  'cupidi',\n",
      "  'magno',\n",
      "  'dolore',\n",
      "  'adficiebantur']]\n"
     ]
    }
   ],
   "source": [
    "# preparing Bello Gallico I-IV for NLP by tokenizing it and removing stop words\n",
    "with open (f\"{directory_path}/218.txt\", 'r') as f:\n",
    "  text = f.read()\n",
    "  \n",
    "text = text.replace(\"\\n\", \" \").lower()\n",
    "sentences = sent_tokenize(text)\n",
    "sent_word = [RegexpTokenizer(r\"\\w+\").tokenize(sent) for sent in sentences]\n",
    "corpus = [[w for w in sent if not w in stopwords.words('latin.txt')] for sent in sent_word]\n",
    "pprint(corpus[10:12])"
   ]
  },
  {
   "cell_type": "code",
   "execution_count": 34,
   "id": "1f8a246e-d90d-4fa0-bdea-379e3b862c01",
   "metadata": {
    "tags": []
   },
   "outputs": [],
   "source": [
    "# finding the most similar words to 'venire' in Bello Gallico I-IV\n",
    "model = Word2Vec(sentences = corpus, \n",
    "                 vector_size = 100, \n",
    "                 window = 2,\n",
    "                 epochs = 100)"
   ]
  },
  {
   "cell_type": "code",
   "execution_count": 35,
   "id": "e81de027-f7ee-48ad-9faa-1f0f22c8ec79",
   "metadata": {
    "tags": []
   },
   "outputs": [
    {
     "name": "stdout",
     "output_type": "stream",
     "text": [
      "----------  --------\n",
      "fecisset    0.780948\n",
      "imperio     0.777007\n",
      "dicere      0.733137\n",
      "gratiam     0.719851\n",
      "venisse     0.709572\n",
      "oportere    0.692129\n",
      "imperium    0.690305\n",
      "causam      0.682865\n",
      "poterat     0.648716\n",
      "potestatem  0.642224\n",
      "----------  --------\n"
     ]
    }
   ],
   "source": [
    "print(\n",
    "  tabulate(\n",
    "    model.wv.most_similar(\"venire\")\n",
    "  )\n",
    ")"
   ]
  },
  {
   "cell_type": "code",
   "execution_count": 104,
   "id": "c770e9e7-9aaf-4361-a91a-5e28b5236243",
   "metadata": {
    "tags": []
   },
   "outputs": [],
   "source": [
    "# getting all of the word vectors in BGI-IV and plotting them\n",
    "bellogallico1_matrix = model.wv.get_normed_vectors()"
   ]
  },
  {
   "cell_type": "code",
   "execution_count": 105,
   "id": "e1808823-8497-43b0-ace8-c706ab7d5a86",
   "metadata": {
    "tags": []
   },
   "outputs": [
    {
     "data": {
      "text/plain": [
       "(675, 100)"
      ]
     },
     "execution_count": 105,
     "metadata": {},
     "output_type": "execute_result"
    }
   ],
   "source": [
    "bellogallico1_matrix.shape"
   ]
  },
  {
   "cell_type": "code",
   "execution_count": 106,
   "id": "66e7fc17-8dfe-4bfd-a37e-66f5b9ed3835",
   "metadata": {
    "tags": []
   },
   "outputs": [],
   "source": [
    "tsne = TSNE(n_components=2, perplexity = 5)\n",
    "projections = tsne.fit_transform(bellogallico1_matrix)"
   ]
  },
  {
   "cell_type": "code",
   "execution_count": 107,
   "id": "ea491ad9-2868-4cd2-b14f-aefe84e07f84",
   "metadata": {
    "tags": []
   },
   "outputs": [],
   "source": [
    "vocab = model.wv.index_to_key"
   ]
  },
  {
   "cell_type": "code",
   "execution_count": 108,
   "id": "e08eaa04-19b1-47e4-a164-f62c44cdb6e8",
   "metadata": {
    "tags": []
   },
   "outputs": [
    {
     "data": {
      "application/vnd.plotly.v1+json": {
       "config": {
        "plotlyServerURL": "https://plot.ly"
       },
       "data": [
        {
         "hovertemplate": "<b>%{hovertext}</b><br><br>0=%{x}<br>1=%{y}<extra></extra>",
         "hovertext": [
          "se",
          "esse",
          "caesar",
          "his",
          "eo",
          "sibi",
          "eorum",
          "eos",
          "castris",
          "omnibus",
          "ne",
          "iis",
          "eius",
          "eum",
          "castra",
          "ea",
          "id",
          "causa",
          "omnes",
          "hostes",
          "uti",
          "sese",
          "romani",
          "bellum",
          "propter",
          "suis",
          "quos",
          "hostium",
          "proelio",
          "ubi",
          "fines",
          "partem",
          "populi",
          "nostri",
          "esset",
          "exercitum",
          "possent",
          "caesarem",
          "inter",
          "rhenum",
          "ipse",
          "suos",
          "loco",
          "milia",
          "posse",
          "nostros",
          "flumen",
          "quid",
          "pro",
          "parte",
          "gallia",
          "nostris",
          "locum",
          "una",
          "omnia",
          "galliae",
          "quorum",
          "finibus",
          "magno",
          "sua",
          "armis",
          "naves",
          "rei",
          "obsides",
          "hostibus",
          "posset",
          "iam",
          "circiter",
          "milites",
          "die",
          "legatos",
          "hominum",
          "apud",
          "eam",
          "sine",
          "quas",
          "navibus",
          "ante",
          "nihil",
          "tempore",
          "belli",
          "item",
          "helvetii",
          "copiis",
          "essent",
          "passuum",
          "omnium",
          "legiones",
          "iter",
          "locis",
          "copias",
          "itinere",
          "satis",
          "omni",
          "quem",
          "ibi",
          "itaque",
          "equites",
          "proelium",
          "consilio",
          "minus",
          "primum",
          "nam",
          "numero",
          "facta",
          "suo",
          "rerum",
          "ariovistus",
          "galliam",
          "celeriter",
          "magna",
          "militum",
          "eodem",
          "tempus",
          "bello",
          "facere",
          "fere",
          "multitudine",
          "iussit",
          "ipsi",
          "civitates",
          "fuga",
          "virtute",
          "propterea",
          "caesaris",
          "unum",
          "legati",
          "caesari",
          "illi",
          "tanta",
          "tum",
          "auxilium",
          "eas",
          "suas",
          "oppidum",
          "equitatu",
          "post",
          "interim",
          "hac",
          "trans",
          "aciem",
          "oppido",
          "pars",
          "transire",
          "fuit",
          "exercitus",
          "germani",
          "homines",
          "contendit",
          "habere",
          "seque",
          "contra",
          "romano",
          "milibus",
          "coeperunt",
          "l",
          "gallorum",
          "gallis",
          "c",
          "suam",
          "navium",
          "fluminis",
          "longius",
          "helvetios",
          "misit",
          "tela",
          "subito",
          "flumine",
          "uno",
          "periculo",
          "hi",
          "numerum",
          "eadem",
          "totius",
          "natura",
          "loci",
          "quin",
          "omnem",
          "amplius",
          "reliquos",
          "spe",
          "helvetiorum",
          "caesare",
          "haeduorum",
          "nostrorum",
          "adventu",
          "prius",
          "haeduos",
          "vi",
          "diem",
          "multis",
          "magnam",
          "facile",
          "paucis",
          "milium",
          "provinciam",
          "sub",
          "undique",
          "ei",
          "modo",
          "agris",
          "arma",
          "x",
          "vero",
          "agros",
          "nisi",
          "pace",
          "proeliis",
          "fidem",
          "multitudinem",
          "compluribus",
          "dies",
          "diebus",
          "longe",
          "populo",
          "nocte",
          "fieri",
          "habebat",
          "haeduis",
          "germanorum",
          "postea",
          "omnino",
          "germanos",
          "legatis",
          "facto",
          "superiore",
          "cuius",
          "impetum",
          "diutius",
          "militibus",
          "legionibus",
          "helvetiis",
          "ariovisti",
          "reliquis",
          "legatum",
          "enim",
          "magnum",
          "suum",
          "q",
          "p",
          "certior",
          "quarum",
          "sit",
          "poterant",
          "fecerunt",
          "equitum",
          "provinciae",
          "amicitiam",
          "civitatis",
          "existimabat",
          "partes",
          "hostem",
          "constituit",
          "summa",
          "romanorum",
          "is",
          "omnis",
          "contenderunt",
          "sequanos",
          "ob",
          "opere",
          "habebant",
          "frumentum",
          "silvas",
          "domum",
          "supra",
          "duas",
          "spatio",
          "diei",
          "reliqui",
          "ariovistum",
          "rursus",
          "ferre",
          "sui",
          "xii",
          "pugnatum",
          "iubet",
          "sequanis",
          "coepit",
          "vim",
          "arbitrabatur",
          "suaque",
          "paulo",
          "crassus",
          "factus",
          "pedum",
          "britanniam",
          "germanis",
          "tam",
          "m",
          "magis",
          "consuetudine",
          "solum",
          "pugnae",
          "ipsis",
          "haedui",
          "oratione",
          "inde",
          "pugna",
          "complures",
          "romanum",
          "fore",
          "usus",
          "fecisset",
          "oppida",
          "oppidis",
          "factum",
          "summam",
          "hunc",
          "maxime",
          "populum",
          "secum",
          "simul",
          "senatu",
          "hos",
          "exercitu",
          "respondit",
          "potestatem",
          "fugam",
          "iure",
          "mittit",
          "tertia",
          "impedimenta",
          "reliqua",
          "celeritate",
          "tantum",
          "sive",
          "vigilia",
          "annos",
          "t",
          "civitate",
          "earum",
          "praeter",
          "frumento",
          "commode",
          "nationes",
          "plurimum",
          "petere",
          "alia",
          "impedimentis",
          "nostra",
          "receperunt",
          "idem",
          "vulneribus",
          "agri",
          "belgis",
          "hanc",
          "saepe",
          "signa",
          "praesidio",
          "domo",
          "virtutis",
          "venire",
          "dare",
          "imperio",
          "legionem",
          "legionis",
          "sequanorum",
          "altitudinem",
          "equitatus",
          "voluntate",
          "agmen",
          "haberent",
          "nostram",
          "spem",
          "opus",
          "quantum",
          "pervenit",
          "iniuria",
          "adducti",
          "ipsos",
          "pacem",
          "prima",
          "facilius",
          "castrorum",
          "usui",
          "vellet",
          "loca",
          "suae",
          "legione",
          "haberet",
          "influit",
          "imperium",
          "montem",
          "latitudinem",
          "spatium",
          "mittunt",
          "auctoritate",
          "memoria",
          "superioribus",
          "ostendit",
          "magnis",
          "dictum",
          "gallos",
          "animo",
          "itineribus",
          "navi",
          "gravius",
          "romanos",
          "conloquio",
          "quicquam",
          "has",
          "equitatum",
          "reliquum",
          "modum",
          "romanis",
          "quaeque",
          "fortunam",
          "acie",
          "huic",
          "reliquae",
          "iiii",
          "salutem",
          "praeerat",
          "oporteret",
          "paulatim",
          "concilio",
          "xv",
          "pervenerunt",
          "equis",
          "cohortatus",
          "latere",
          "aperto",
          "timore",
          "acriter",
          "vallo",
          "salutis",
          "barbari",
          "consilii",
          "reverti",
          "confecto",
          "gratiam",
          "tenere",
          "primo",
          "quisque",
          "venerunt",
          "deinde",
          "muro",
          "remis",
          "duae",
          "viribus",
          "ii",
          "profectus",
          "diu",
          "fugae",
          "acceptis",
          "venerant",
          "sint",
          "crasso",
          "etsi",
          "barbaris",
          "regionibus",
          "quoque",
          "facerent",
          "collis",
          "causam",
          "opinionem",
          "obsidibus",
          "incensis",
          "temporis",
          "ratio",
          "multa",
          "traditis",
          "miserunt",
          "mercatores",
          "dixerunt",
          "potuit",
          "sustinere",
          "horum",
          "victis",
          "acies",
          "sabinus",
          "arbitratus",
          "civitas",
          "videbat",
          "cohortibus",
          "huc",
          "hoste",
          "altera",
          "monte",
          "fecit",
          "reduxit",
          "finitimis",
          "spes",
          "consilium",
          "reliquisque",
          "exercitatione",
          "magnitudine",
          "subsidio",
          "venisse",
          "statim",
          "frumenti",
          "civitatibus",
          "conloquium",
          "belgarum",
          "oportere",
          "initium",
          "belgas",
          "vii",
          "constiterunt",
          "remorum",
          "plerumque",
          "numerus",
          "fieret",
          "gratia",
          "publicae",
          "viderentur",
          "impeditos",
          "ire",
          "capere",
          "illum",
          "faceret",
          "magnopere",
          "provincia",
          "poterat",
          "cognitis",
          "italiam",
          "alii",
          "locus",
          "nomine",
          "victoria",
          "alias",
          "venit",
          "possit",
          "possint",
          "agmine",
          "intellexit",
          "labienum",
          "summo",
          "faciunt",
          "postridie",
          "existimavit",
          "exploratores",
          "impetus",
          "prohibere",
          "frumentaria",
          "extremum",
          "statuit",
          "manibus",
          "cornu",
          "genere",
          "partibus",
          "solis",
          "terga",
          "velint",
          "potuerunt",
          "multum",
          "proximi",
          "fuisset",
          "idoneum",
          "oceano",
          "dato",
          "dc",
          "coicerent",
          "pugnandi",
          "conspectu",
          "equitatumque",
          "telum",
          "equitibus",
          "discedere",
          "missa",
          "vellent",
          "suebis",
          "quare",
          "occiderunt",
          "tres",
          "diximus",
          "portis",
          "accidit",
          "tantae",
          "paulum",
          "interfecto",
          "constabat",
          "imperii",
          "aliae",
          "reliquas",
          "praedandi",
          "aedificiis",
          "dierum",
          "galli",
          "reciperent",
          "causis",
          "futurum",
          "regiones",
          "dixit",
          "tertiam",
          "obsidesque",
          "impetu",
          "viii",
          "volebat",
          "beneficio",
          "belgae",
          "incolunt",
          "mari",
          "anni",
          "contenderent",
          "auxilia",
          "praesertim",
          "convenirent",
          "civitatum",
          "nondum",
          "exploratoribus",
          "amissis",
          "condicionem",
          "finem",
          "paene",
          "principes",
          "communi",
          "multitudo",
          "agere",
          "contendere",
          "illis",
          "d",
          "iterum",
          "liberos",
          "diviciaci",
          "dicere",
          "sequi",
          "unde",
          "ipsius",
          "contulerunt",
          "perterritos",
          "pugnam",
          "frumentariae",
          "aberat",
          "intervallo",
          "rhodanum",
          "multo",
          "nulli",
          "prope",
          "allobrogum",
          "nullis",
          "perterriti",
          "teneri",
          "imperavit",
          "v",
          "cui",
          "necessario",
          "an",
          "domi",
          "aliis",
          "usum",
          "tenebat",
          "centurionibus",
          "itineris",
          "proxima",
          "isdem",
          "amicus",
          "virtutem",
          "plus",
          "secuti",
          "abesse",
          "cognito",
          "propius",
          "ultro",
          "paucos",
          "utraque",
          "permoti",
          "facultatem",
          "auderent",
          "facultas",
          "daretur",
          "intra",
          "diviciacum",
          "utrisque",
          "proficisci",
          "summum",
          "praeterea",
          "senatus",
          "legio",
          "pontem",
          "copia",
          "auxilio",
          "sueborum",
          "occupatis"
         ],
         "legendgroup": "",
         "marker": {
          "color": "#636efa",
          "symbol": "circle"
         },
         "mode": "markers",
         "name": "",
         "orientation": "v",
         "showlegend": false,
         "type": "scatter",
         "x": [
          -44.98458480834961,
          -30.910511016845703,
          -19.066925048828125,
          -0.07296422868967056,
          -51.617374420166016,
          -54.85916519165039,
          -7.047913551330566,
          -22.831995010375977,
          47.23501968383789,
          13.986089706420898,
          -32.154151916503906,
          34.27678680419922,
          -2.2590317726135254,
          27.145315170288086,
          28.38319206237793,
          25.753284454345703,
          -58.643062591552734,
          7.043636322021484,
          2.041818857192993,
          23.765756607055664,
          -14.081442832946777,
          -38.059024810791016,
          -42.871971130371094,
          -31.95488929748535,
          -1.4085826873779297,
          -8.645160675048828,
          54.36343765258789,
          35.90351104736328,
          -10.327035903930664,
          18.602933883666992,
          -14.942527770996094,
          32.50099563598633,
          -42.98359298706055,
          20.11966896057129,
          -9.898000717163086,
          21.259719848632812,
          -2.9311985969543457,
          -31.845291137695312,
          -21.5266170501709,
          9.318208694458008,
          20.618558883666992,
          -12.539937973022461,
          41.930843353271484,
          55.6616096496582,
          -41.641239166259766,
          20.83899688720703,
          10.694253921508789,
          -61.135353088378906,
          39.01655578613281,
          27.660202026367188,
          -60.36246871948242,
          33.32635498046875,
          -17.072132110595703,
          31.695756912231445,
          -38.65039825439453,
          -13.725846290588379,
          -9.732192993164062,
          10.411725997924805,
          38.602073669433594,
          -60.65556716918945,
          -28.894577026367188,
          20.62763023376465,
          -41.233001708984375,
          -34.00040054321289,
          4.886430740356445,
          -38.37064743041992,
          -13.45949935913086,
          58.5222282409668,
          19.081222534179688,
          9.632852554321289,
          -28.97878646850586,
          54.71962356567383,
          -22.988908767700195,
          -26.401823043823242,
          -60.6013069152832,
          16.524948120117188,
          5.9657182693481445,
          -0.11625371128320694,
          -18.85700798034668,
          8.454834938049316,
          -56.08147430419922,
          57.20186996459961,
          -21.40898895263672,
          51.54643249511719,
          -33.6171760559082,
          56.46311569213867,
          6.63346529006958,
          28.370874404907227,
          -52.70464324951172,
          10.533608436584473,
          0.4739739000797272,
          36.10394287109375,
          -41.16264343261719,
          34.68251419067383,
          -22.40144920349121,
          50.12416076660156,
          37.66838836669922,
          23.217634201049805,
          25.183727264404297,
          -11.54181957244873,
          -42.038578033447266,
          29.40715789794922,
          -4.362380027770996,
          39.360679626464844,
          -9.565738677978516,
          -55.89607238769531,
          2.1815104484558105,
          -16.375232696533203,
          -54.74711608886719,
          -2.5237174034118652,
          5.71370267868042,
          -11.939986228942871,
          -47.06692123413086,
          -55.78682327270508,
          -12.654010772705078,
          -57.32813262939453,
          36.62224578857422,
          42.86308670043945,
          44.43726348876953,
          39.95511245727539,
          -47.076560974121094,
          41.938053131103516,
          7.817137241363525,
          -33.66474914550781,
          -11.3263521194458,
          -13.835769653320312,
          -26.055618286132812,
          -50.62667465209961,
          -26.301816940307617,
          4.152164936065674,
          17.476673126220703,
          -58.332462310791016,
          0.1509169638156891,
          -15.302300453186035,
          17.834392547607422,
          19.511457443237305,
          16.316755294799805,
          -8.40116024017334,
          31.892822265625,
          10.550904273986816,
          38.750762939453125,
          11.218353271484375,
          28.2170352935791,
          11.170424461364746,
          -7.681815147399902,
          -8.8326997756958,
          1.049837589263916,
          -31.654367446899414,
          15.69200325012207,
          -20.729984283447266,
          -34.36863327026367,
          -63.1525764465332,
          -38.07745361328125,
          56.09973907470703,
          15.038416862487793,
          21.918428421020508,
          -19.156200408935547,
          4.153264045715332,
          -10.659479141235352,
          -35.60264205932617,
          -3.533890962600708,
          63.9609489440918,
          23.17665672302246,
          -17.73224639892578,
          22.075942993164062,
          19.520679473876953,
          34.807762145996094,
          32.568031311035156,
          -46.80877685546875,
          -61.66230392456055,
          -24.262367248535156,
          29.054208755493164,
          0.08118739724159241,
          -16.7076416015625,
          9.386128425598145,
          9.732033729553223,
          -54.759456634521484,
          45.59321975708008,
          56.4029541015625,
          28.632314682006836,
          2.6247398853302,
          -1.3127466440200806,
          -62.10040283203125,
          -15.835029602050781,
          -16.117666244506836,
          -9.442431449890137,
          -30.423507690429688,
          -37.04633712768555,
          33.4785041809082,
          -41.74892044067383,
          2.6088287830352783,
          3.649137020111084,
          -38.60271072387695,
          1.777512788772583,
          59.04857635498047,
          -53.83027648925781,
          31.398794174194336,
          44.9210205078125,
          -56.63518524169922,
          -27.834882736206055,
          12.951319694519043,
          -1.9929933547973633,
          65.40846252441406,
          20.96476936340332,
          -17.64209747314453,
          -19.027355194091797,
          -29.981351852416992,
          7.998678207397461,
          -50.52638626098633,
          -3.253098726272583,
          9.3971586227417,
          47.76286315917969,
          2.5865166187286377,
          9.193825721740723,
          -63.54612350463867,
          28.16707992553711,
          -59.8598747253418,
          4.951990604400635,
          -32.370487213134766,
          6.624828815460205,
          58.188804626464844,
          -5.560450553894043,
          -8.4320068359375,
          -25.763132095336914,
          -14.074105262756348,
          39.58069610595703,
          -13.143386840820312,
          23.193954467773438,
          -47.40962600708008,
          8.8719482421875,
          20.06056022644043,
          -53.623844146728516,
          3.6821861267089844,
          17.541170120239258,
          22.653759002685547,
          -27.41913604736328,
          30.642017364501953,
          -26.322160720825195,
          24.583276748657227,
          24.81839370727539,
          7.939155101776123,
          1.2913280725479126,
          -62.71352767944336,
          -37.84062957763672,
          24.768800735473633,
          23.246421813964844,
          -16.46383285522461,
          -44.21476364135742,
          -33.29669189453125,
          46.23173904418945,
          -16.99680519104004,
          25.19205665588379,
          37.378448486328125,
          -0.33341163396835327,
          19.176307678222656,
          -22.44525146484375,
          -5.32758092880249,
          44.661014556884766,
          -22.179088592529297,
          -27.241100311279297,
          43.259891510009766,
          -40.21437454223633,
          -6.94171667098999,
          -14.737943649291992,
          45.461185455322266,
          55.88077926635742,
          26.136728286743164,
          59.38801956176758,
          -2.541158676147461,
          10.740375518798828,
          -44.16239929199219,
          16.51445960998535,
          -1.667647123336792,
          -29.443262100219727,
          59.13983917236328,
          -11.650398254394531,
          -49.40190887451172,
          -32.12358474731445,
          15.83798599243164,
          -50.24046325683594,
          -46.17167282104492,
          -37.590553283691406,
          25.54107093811035,
          24.59597396850586,
          7.334661483764648,
          60.143898010253906,
          2.933044672012329,
          -2.4040634632110596,
          -30.788803100585938,
          25.379961013793945,
          -10.422730445861816,
          -59.979835510253906,
          -24.079830169677734,
          -45.80121994018555,
          -30.963102340698242,
          -32.55021286010742,
          -32.185508728027344,
          18.868785858154297,
          -32.76814651489258,
          32.5264892578125,
          -62.37188720703125,
          -35.851593017578125,
          -4.815037250518799,
          -44.79014587402344,
          -38.90868377685547,
          32.898799896240234,
          -6.197804927825928,
          61.8697509765625,
          24.14434051513672,
          -48.115840911865234,
          -62.32453536987305,
          -55.13512420654297,
          22.33057403564453,
          -58.839927673339844,
          9.374509811401367,
          21.621793746948242,
          -14.820833206176758,
          -43.892486572265625,
          26.138139724731445,
          -46.063621520996094,
          -27.484933853149414,
          29.332971572875977,
          32.62675857543945,
          33.20979309082031,
          21.405500411987305,
          15.718596458435059,
          -4.694915771484375,
          23.69427490234375,
          -32.5462532043457,
          21.52675437927246,
          -58.4838981628418,
          2.241097927093506,
          -12.529258728027344,
          32.804447174072266,
          -39.3937873840332,
          -34.168643951416016,
          -21.426677703857422,
          41.24613952636719,
          24.03521156311035,
          33.192138671875,
          36.42707061767578,
          -19.680400848388672,
          -14.643708229064941,
          43.61489486694336,
          -12.171966552734375,
          -11.694869995117188,
          -35.32838439941406,
          40.103397369384766,
          28.075613021850586,
          44.847049713134766,
          -9.687919616699219,
          -31.306917190551758,
          -44.42057418823242,
          -35.19664764404297,
          -43.93309020996094,
          67.26272583007812,
          66.3685302734375,
          -16.171571731567383,
          63.74542236328125,
          30.910627365112305,
          -48.96025466918945,
          23.5361328125,
          -4.574373722076416,
          -54.216400146484375,
          -39.640716552734375,
          -10.854166984558105,
          -9.422483444213867,
          11.273725509643555,
          -58.91925048828125,
          2.1622445583343506,
          -29.92201805114746,
          -44.453285217285156,
          29.119932174682617,
          18.683191299438477,
          60.96480178833008,
          35.601192474365234,
          -58.668312072753906,
          -58.03923034667969,
          -55.3214111328125,
          50.786251068115234,
          -33.734134674072266,
          8.791420936584473,
          -30.59465980529785,
          -18.589879989624023,
          63.30637741088867,
          31.400238037109375,
          -30.425867080688477,
          41.551048278808594,
          8.371471405029297,
          8.595149040222168,
          -56.505104064941406,
          16.029621124267578,
          1.11110258102417,
          0.10339817404747009,
          -56.296974182128906,
          15.659751892089844,
          15.525259971618652,
          -59.72988510131836,
          62.541412353515625,
          -42.08335494995117,
          -6.903515815734863,
          5.206697463989258,
          44.43303298950195,
          -33.00550842285156,
          25.366554260253906,
          -60.36968994140625,
          19.791685104370117,
          -29.997804641723633,
          37.66611862182617,
          51.05154800415039,
          28.291784286499023,
          57.39999771118164,
          41.47865295410156,
          30.470943450927734,
          -35.99827575683594,
          32.87760925292969,
          -46.711692810058594,
          55.49164581298828,
          54.73735046386719,
          17.452211380004883,
          24.022491455078125,
          28.552017211914062,
          39.26650619506836,
          34.773643493652344,
          -11.478482246398926,
          61.34990692138672,
          5.782916069030762,
          15.015445709228516,
          -60.221500396728516,
          -12.278141975402832,
          -1.1412348747253418,
          -44.38600540161133,
          27.40821075439453,
          2.8869643211364746,
          -38.463138580322266,
          -27.516977310180664,
          -28.21625328063965,
          20.734872817993164,
          57.39497756958008,
          29.293014526367188,
          20.745471954345703,
          35.84200668334961,
          18.0198917388916,
          -12.322501182556152,
          33.76908493041992,
          44.10038375854492,
          52.315147399902344,
          -29.171375274658203,
          6.064426422119141,
          -4.511213302612305,
          0.30422189831733704,
          15.555110931396484,
          -12.376376152038574,
          31.26791763305664,
          29.110145568847656,
          -41.12766647338867,
          -14.341643333435059,
          -30.968076705932617,
          11.814031600952148,
          42.99879455566406,
          -38.54277038574219,
          7.194860935211182,
          -29.34415054321289,
          -30.827545166015625,
          -5.519514083862305,
          -33.83662414550781,
          15.609163284301758,
          -3.8442440032958984,
          2.446115732192993,
          -7.628783226013184,
          42.11384582519531,
          20.125181198120117,
          -40.37356948852539,
          -6.93224573135376,
          -37.3919792175293,
          20.01235580444336,
          44.36957931518555,
          54.31631851196289,
          28.115455627441406,
          49.58934020996094,
          25.989084243774414,
          28.048601150512695,
          32.90604782104492,
          -4.745215892791748,
          -35.37635803222656,
          4.370143413543701,
          -18.867523193359375,
          -0.620648205280304,
          36.415672302246094,
          -48.66878890991211,
          -31.108747482299805,
          -39.485069274902344,
          2.940490961074829,
          -49.49748611450195,
          -15.390704154968262,
          -47.05168151855469,
          -6.666007995605469,
          1.7259122133255005,
          52.137516021728516,
          15.653932571411133,
          -8.304665565490723,
          15.910604476928711,
          58.81458282470703,
          22.518280029296875,
          -20.130144119262695,
          -40.082271575927734,
          61.611045837402344,
          17.226415634155273,
          -14.031529426574707,
          -26.089630126953125,
          -61.46665573120117,
          -45.477725982666016,
          -31.288057327270508,
          -6.764262676239014,
          -26.673011779785156,
          -30.54620361328125,
          18.777620315551758,
          30.56325912475586,
          49.51860046386719,
          53.985748291015625,
          -56.892234802246094,
          -14.920404434204102,
          -23.569026947021484,
          19.61978530883789,
          -31.802227020263672,
          27.210418701171875,
          14.538649559020996,
          21.655899047851562,
          31.891006469726562,
          -36.660362243652344,
          -2.782402276992798,
          -33.767147064208984,
          7.816760063171387,
          7.2605719566345215,
          12.74162769317627,
          38.16812515258789,
          35.03566360473633,
          13.168020248413086,
          16.9627742767334,
          41.394371032714844,
          17.74785041809082,
          51.2545051574707,
          -20.229259490966797,
          22.17714500427246,
          -35.547935485839844,
          23.178003311157227,
          11.048389434814453,
          -7.754485607147217,
          50.04191589355469,
          -13.848681449890137,
          9.324319839477539,
          21.330366134643555,
          53.72504806518555,
          20.258331298828125,
          1.1750236749649048,
          -0.4746899902820587,
          45.328372955322266,
          -4.605487823486328,
          2.417874336242676,
          -30.099428176879883,
          17.338699340820312,
          -56.38948059082031,
          -60.44866943359375,
          -27.72882843017578,
          31.322446823120117,
          -7.0457377433776855,
          55.564334869384766,
          7.623751163482666,
          -3.2914998531341553,
          -5.96266508102417,
          11.872319221496582,
          38.05577087402344,
          38.2567138671875,
          61.5654182434082,
          20.53919219970703,
          26.322429656982422,
          9.509833335876465,
          12.19530963897705,
          -9.558156967163086,
          43.7692985534668,
          15.606375694274902,
          13.701359748840332,
          -31.510942459106445,
          0.5259081721305847,
          -52.50123977661133,
          2.6888973712921143,
          -34.99774169921875,
          37.62779998779297,
          53.76358413696289,
          -22.31329917907715,
          -57.06430435180664,
          -6.776144027709961,
          8.216232299804688,
          9.134008407592773,
          -56.718231201171875,
          -6.957610607147217,
          -48.243804931640625,
          -4.717465400695801,
          45.280887603759766,
          -24.28602409362793,
          8.109254837036133,
          7.3075175285339355,
          4.98178243637085,
          -30.278575897216797,
          -50.07481002807617,
          5.808642864227295,
          -28.982929229736328,
          -19.332019805908203,
          33.27193832397461,
          -22.16864013671875,
          -20.86585807800293,
          -4.331297397613525,
          53.40739059448242,
          -31.296585083007812,
          -34.54885482788086,
          -54.98236846923828,
          -48.546871185302734,
          -20.541982650756836,
          24.930335998535156,
          40.85286331176758,
          10.133163452148438,
          27.093868255615234,
          36.679786682128906,
          -39.77783966064453,
          -8.32470703125,
          59.84524917602539,
          9.285511016845703,
          -17.913257598876953,
          -25.701208114624023,
          58.173866271972656,
          -1.2385990619659424,
          -29.108463287353516,
          16.124038696289062,
          2.4763877391815186,
          -27.92141342163086,
          46.41349411010742,
          62.102115631103516,
          -31.305606842041016,
          -27.365753173828125,
          -20.599897384643555,
          -38.208656311035156,
          26.188106536865234,
          61.353973388671875,
          37.015098571777344,
          -56.872310638427734,
          27.66948699951172,
          8.21753215789795,
          -58.08238983154297,
          -14.303948402404785,
          -56.349586486816406,
          35.58856201171875,
          9.766448020935059,
          -10.00726318359375,
          -20.390287399291992,
          -27.496341705322266,
          35.97694396972656,
          26.96881103515625,
          17.257099151611328,
          -22.026601791381836,
          -61.02231216430664,
          33.366233825683594,
          32.689414978027344,
          -13.6905517578125,
          -12.525672912597656,
          -13.040482521057129,
          19.118209838867188,
          -61.7568359375,
          -54.15397262573242,
          -34.19986343383789,
          28.446189880371094,
          17.089628219604492,
          47.72402572631836,
          -31.396121978759766,
          1.486215591430664,
          11.139280319213867
         ],
         "xaxis": "x",
         "y": [
          -4.591752529144287,
          -18.653684616088867,
          13.855877876281738,
          3.700235366821289,
          21.584138870239258,
          -10.08158016204834,
          -42.4085807800293,
          -3.2672367095947266,
          -33.2349967956543,
          -33.488807678222656,
          32.656829833984375,
          -26.97776985168457,
          28.373689651489258,
          -7.001391887664795,
          5.827678680419922,
          -36.59710693359375,
          -3.717372417449951,
          -54.732513427734375,
          -35.615352630615234,
          31.945119857788086,
          -46.57164764404297,
          5.3933634757995605,
          -15.772422790527344,
          -26.94502067565918,
          -14.71854019165039,
          -50.883060455322266,
          8.17834186553955,
          24.4315128326416,
          39.17555236816406,
          51.619110107421875,
          -13.992815017700195,
          -47.37910842895508,
          -12.676910400390625,
          27.27941131591797,
          43.43759536743164,
          -52.73602294921875,
          53.99599075317383,
          13.750350952148438,
          3.704524040222168,
          -46.464759826660156,
          -2.4454667568206787,
          -7.842952251434326,
          7.696743488311768,
          -4.204218864440918,
          -14.53825569152832,
          42.0980339050293,
          -44.44353103637695,
          -15.903486251831055,
          16.08759307861328,
          -38.986873626708984,
          10.428136825561523,
          31.19740104675293,
          35.07793045043945,
          -20.797090530395508,
          12.774867057800293,
          -34.171653747558594,
          -41.50973892211914,
          -35.84107208251953,
          -10.912760734558105,
          14.72393798828125,
          27.543590545654297,
          -40.2461051940918,
          -49.780982971191406,
          6.248076438903809,
          6.198112487792969,
          -17.792741775512695,
          1.3308452367782593,
          -3.8723456859588623,
          23.957080841064453,
          53.564884185791016,
          13.53926944732666,
          5.323093414306641,
          2.4718995094299316,
          -45.38460922241211,
          -6.672823429107666,
          -14.35113525390625,
          3.658292770385742,
          43.874168395996094,
          -1.573345422744751,
          53.64246368408203,
          3.4155354499816895,
          25.91517448425293,
          -15.551454544067383,
          31.3890380859375,
          -35.2425651550293,
          1.3456182479858398,
          -20.801496505737305,
          8.462809562683105,
          -34.98936462402344,
          -4.785325527191162,
          12.540948867797852,
          5.5682196617126465,
          -30.822826385498047,
          -16.40130043029785,
          18.751758575439453,
          28.04591941833496,
          -3.3763411045074463,
          35.73896026611328,
          27.136672973632812,
          23.445663452148438,
          -23.77767562866211,
          47.262611389160156,
          21.26363182067871,
          -6.467703342437744,
          29.396780014038086,
          10.478609085083008,
          -20.170549392700195,
          13.844036102294922,
          -35.82306671142578,
          35.54814147949219,
          -14.763944625854492,
          9.592784881591797,
          24.897314071655273,
          6.052145004272461,
          11.880804061889648,
          -5.611445903778076,
          -6.581657886505127,
          -10.57172966003418,
          9.64692211151123,
          37.83741760253906,
          -25.302183151245117,
          48.46537780761719,
          -2.470259666442871,
          -10.421171188354492,
          7.346982002258301,
          35.8270149230957,
          11.084004402160645,
          -24.22882652282715,
          5.135692119598389,
          -14.742478370666504,
          51.108089447021484,
          -21.35602378845215,
          14.274761199951172,
          -7.776534080505371,
          7.927128791809082,
          15.256691932678223,
          34.94773864746094,
          28.27129364013672,
          -16.187114715576172,
          -48.45633316040039,
          20.22026252746582,
          53.281280517578125,
          -39.96710205078125,
          -47.579994201660156,
          -26.435487747192383,
          14.210198402404785,
          30.45623016357422,
          -25.446176528930664,
          -24.141923904418945,
          -23.878231048583984,
          11.348294258117676,
          -27.71033477783203,
          -35.05010986328125,
          -3.3604109287261963,
          31.920055389404297,
          -8.017372131347656,
          -6.335718154907227,
          2.0394678115844727,
          9.701314926147461,
          -20.774932861328125,
          -12.544168472290039,
          -1.6354608535766602,
          29.901260375976562,
          -11.146424293518066,
          -15.452614784240723,
          43.04224395751953,
          34.86598205566406,
          -47.836673736572266,
          24.64539337158203,
          -4.8590898513793945,
          40.13895034790039,
          -26.158775329589844,
          30.24643898010254,
          -36.802391052246094,
          12.267060279846191,
          11.196890830993652,
          -16.844446182250977,
          -35.42753601074219,
          -2.0541908740997314,
          27.321386337280273,
          -9.619917869567871,
          -49.11862564086914,
          -11.033164024353027,
          -10.840868949890137,
          2.491302967071533,
          -22.618257522583008,
          19.569604873657227,
          -6.619940757751465,
          18.02074432373047,
          21.809799194335938,
          45.294307708740234,
          -28.204891204833984,
          -29.19249725341797,
          43.920494079589844,
          12.48807144165039,
          -34.476600646972656,
          61.21080780029297,
          4.6373677253723145,
          -15.844189643859863,
          -32.82404708862305,
          -35.788780212402344,
          53.14061737060547,
          -4.815842628479004,
          46.334659576416016,
          -8.205436706542969,
          26.058351516723633,
          12.439924240112305,
          -3.4514176845550537,
          15.621588706970215,
          -13.023343086242676,
          24.57245635986328,
          6.677248954772949,
          43.26386260986328,
          -38.94951248168945,
          -11.722502708435059,
          3.129481077194214,
          -16.392484664916992,
          -28.040441513061523,
          -2.476407527923584,
          -46.598716735839844,
          14.263282775878906,
          1.3329663276672363,
          -32.660865783691406,
          17.833267211914062,
          43.61410140991211,
          9.57886028289795,
          -23.259138107299805,
          34.4668083190918,
          -15.643383026123047,
          23.981054306030273,
          -13.744778633117676,
          -32.69844436645508,
          -61.01504135131836,
          -16.114749908447266,
          -10.709695816040039,
          -31.58248519897461,
          -26.156862258911133,
          -29.499494552612305,
          -8.722513198852539,
          -6.875645160675049,
          36.66346740722656,
          -21.76237678527832,
          -11.559453010559082,
          -30.370033264160156,
          33.193336486816406,
          19.266443252563477,
          -36.273902893066406,
          -12.742658615112305,
          15.870817184448242,
          -36.64646530151367,
          -38.182552337646484,
          11.659626960754395,
          18.282609939575195,
          -15.471118927001953,
          8.647210121154785,
          16.516883850097656,
          -7.403072834014893,
          -0.21952088177204132,
          -0.647932767868042,
          -44.677276611328125,
          23.241792678833008,
          10.94990062713623,
          -7.306321144104004,
          44.211219787597656,
          -1.1053968667984009,
          25.653568267822266,
          8.565117835998535,
          -0.28270193934440613,
          29.780624389648438,
          6.0126752853393555,
          4.2405829429626465,
          33.546268463134766,
          52.85548400878906,
          -24.158679962158203,
          0.9693517088890076,
          40.96120834350586,
          -27.413509368896484,
          -3.963118314743042,
          43.09873580932617,
          -32.081024169921875,
          -11.963653564453125,
          11.091217041015625,
          24.69633674621582,
          -1.1442499160766602,
          36.511199951171875,
          1.431501030921936,
          -22.898361206054688,
          -35.06713104248047,
          -34.375579833984375,
          -7.652100086212158,
          23.320344924926758,
          13.986241340637207,
          -31.54593849182129,
          22.96761131286621,
          -2.0724804401397705,
          -0.8369250297546387,
          42.11558532714844,
          -18.993417739868164,
          42.14214324951172,
          -25.206050872802734,
          -27.660751342773438,
          -35.05619430541992,
          23.746912002563477,
          -19.465797424316406,
          11.727258682250977,
          -53.7655143737793,
          27.413854598999023,
          -14.170309066772461,
          -25.701324462890625,
          18.51097869873047,
          -28.38534927368164,
          20.1071720123291,
          18.975765228271484,
          11.345258712768555,
          -52.522117614746094,
          -2.8903441429138184,
          14.861717224121094,
          4.055733680725098,
          26.557859420776367,
          -6.617140769958496,
          14.606802940368652,
          -37.288002014160156,
          37.40040588378906,
          -17.3039493560791,
          22.84238624572754,
          50.6873893737793,
          25.18186378479004,
          -11.634596824645996,
          -5.703213214874268,
          -9.257721900939941,
          12.701032638549805,
          -21.61860466003418,
          4.812029838562012,
          -49.2683219909668,
          -29.144826889038086,
          -2.2478039264678955,
          -1.6741982698440552,
          46.95372009277344,
          -38.698699951171875,
          20.99860954284668,
          25.011980056762695,
          33.4251594543457,
          15.271783828735352,
          37.341976165771484,
          5.4052414894104,
          -46.66861343383789,
          -21.959897994995117,
          -10.193524360656738,
          45.23318099975586,
          -33.02635192871094,
          -49.59915542602539,
          -23.957752227783203,
          -18.853139877319336,
          7.290439605712891,
          -17.697940826416016,
          -5.9723944664001465,
          -5.431800365447998,
          -10.35041618347168,
          -3.50026273727417,
          -22.643457412719727,
          14.036664962768555,
          41.40135192871094,
          33.770294189453125,
          -33.95838928222656,
          -7.59427547454834,
          42.43190002441406,
          -22.39633560180664,
          -32.23086929321289,
          -5.2263336181640625,
          -12.507316589355469,
          32.16246795654297,
          -10.969030380249023,
          46.65630340576172,
          -42.687843322753906,
          4.62977409362793,
          8.335208892822266,
          -14.814465522766113,
          5.5495500564575195,
          -14.497800827026367,
          -2.7487165927886963,
          -8.365938186645508,
          -44.085262298583984,
          -16.852622985839844,
          34.160736083984375,
          -3.6287951469421387,
          61.16075134277344,
          13.861449241638184,
          -10.461590766906738,
          -20.168195724487305,
          -3.553947687149048,
          -15.350984573364258,
          -24.959671020507812,
          43.70614242553711,
          -35.8633918762207,
          -31.812416076660156,
          -23.596689224243164,
          49.681556701660156,
          -12.72946548461914,
          6.749567031860352,
          21.5666561126709,
          -27.65435218811035,
          -21.19782066345215,
          -34.88945007324219,
          -15.556754112243652,
          -25.796430587768555,
          -22.430885314941406,
          8.75934886932373,
          -16.846527099609375,
          19.432926177978516,
          29.50913429260254,
          -31.97648811340332,
          -4.126754283905029,
          47.45413589477539,
          -30.000553131103516,
          -23.346973419189453,
          19.568889617919922,
          -6.849310398101807,
          1.3120970726013184,
          25.125225067138672,
          14.268241882324219,
          40.527713775634766,
          17.85683250427246,
          8.976412773132324,
          23.79373550415039,
          40.00164031982422,
          1.1110376119613647,
          22.3267822265625,
          17.053958892822266,
          -18.0888614654541,
          -10.19084644317627,
          -47.87052536010742,
          -13.43979263305664,
          44.54719924926758,
          -14.014392852783203,
          -7.223633289337158,
          9.836437225341797,
          -9.026449203491211,
          45.438018798828125,
          15.573076248168945,
          -31.382070541381836,
          23.22116470336914,
          -40.681434631347656,
          -14.6527681350708,
          40.9212532043457,
          36.78373718261719,
          37.42157745361328,
          7.245085716247559,
          5.973304748535156,
          33.40273666381836,
          -8.988988876342773,
          -22.062789916992188,
          -10.937559127807617,
          -46.58759689331055,
          -28.357669830322266,
          18.760684967041016,
          -24.712631225585938,
          2.5664334297180176,
          30.35787582397461,
          -33.53997039794922,
          27.077478408813477,
          -48.904579162597656,
          -43.88852310180664,
          28.493934631347656,
          11.547395706176758,
          -27.22979736328125,
          9.979843139648438,
          -22.27735137939453,
          -0.10619256645441055,
          -13.90854263305664,
          -29.040836334228516,
          26.351770401000977,
          -10.83778190612793,
          -28.091419219970703,
          -33.174259185791016,
          -34.581016540527344,
          -7.9278998374938965,
          7.42065954208374,
          1.6266157627105713,
          -36.73683166503906,
          16.287485122680664,
          -2.7127718925476074,
          6.18378210067749,
          -53.85749816894531,
          -6.477935791015625,
          30.275846481323242,
          3.563016653060913,
          0.6998919248580933,
          -35.655242919921875,
          17.96253204345703,
          -25.031307220458984,
          41.967464447021484,
          21.75432777404785,
          3.5599167346954346,
          17.17348861694336,
          -9.198162078857422,
          -16.662717819213867,
          26.98111343383789,
          -36.558895111083984,
          -2.571584463119507,
          20.693607330322266,
          -51.23139953613281,
          17.373769760131836,
          12.940261840820312,
          21.618215560913086,
          -0.7018036842346191,
          -49.20883560180664,
          5.666568756103516,
          25.64790153503418,
          -13.228824615478516,
          38.95977020263672,
          -4.31100606918335,
          4.0504536628723145,
          31.096012115478516,
          -34.19626998901367,
          -30.724035263061523,
          4.787172794342041,
          -14.170639991760254,
          20.06340980529785,
          -7.231082439422607,
          -5.6522722244262695,
          13.804443359375,
          -23.088939666748047,
          16.366207122802734,
          -52.88924789428711,
          -15.32684326171875,
          30.687793731689453,
          51.78020095825195,
          -10.388176918029785,
          19.964649200439453,
          5.300567150115967,
          29.36862564086914,
          30.515474319458008,
          34.89943313598633,
          21.956485748291016,
          -46.72184753417969,
          -2.3117501735687256,
          -4.9312944412231445,
          -11.18706226348877,
          25.806974411010742,
          26.025793075561523,
          15.304482460021973,
          30.34426498413086,
          28.759593963623047,
          32.3426399230957,
          -6.238647937774658,
          31.436359405517578,
          8.094441413879395,
          -41.60607147216797,
          -7.614311695098877,
          36.78618240356445,
          -41.0131950378418,
          32.180076599121094,
          6.952858924865723,
          42.9410285949707,
          -61.54316329956055,
          -16.754301071166992,
          -34.36024475097656,
          0.75951087474823,
          -8.891374588012695,
          15.9105224609375,
          42.99546432495117,
          -11.113563537597656,
          -21.5446834564209,
          -44.301124572753906,
          -26.145036697387695,
          -36.7593994140625,
          25.82016944885254,
          21.23626136779785,
          33.70813751220703,
          -32.196739196777344,
          8.291373252868652,
          -6.782156467437744,
          -9.392210960388184,
          -13.13464641571045,
          -40.80720901489258,
          8.288087844848633,
          -50.3050537109375,
          -34.203208923339844,
          9.480266571044922,
          27.759347915649414,
          32.52737808227539,
          -11.22087287902832,
          -23.341243743896484,
          13.410825729370117,
          20.315052032470703,
          13.124229431152344,
          6.423761367797852,
          8.000731468200684,
          -1.850879192352295,
          -25.556318283081055,
          10.98031997680664,
          -38.65817642211914,
          -45.72812271118164,
          -40.09394073486328,
          5.557760238647461,
          25.191600799560547,
          -23.38045310974121,
          -32.11259078979492,
          6.573678970336914,
          14.94539737701416,
          -49.45569610595703,
          34.78316879272461,
          4.524476051330566,
          18.285335540771484,
          15.977360725402832,
          -40.9504280090332,
          8.0248441696167,
          26.981626510620117,
          -17.70813751220703,
          32.48154067993164,
          -14.718244552612305,
          29.044641494750977,
          -0.358140766620636,
          10.896027565002441,
          8.941893577575684,
          14.990740776062012,
          -24.43848991394043,
          32.85773468017578,
          -2.4024624824523926,
          37.180419921875,
          9.889086723327637,
          27.02227783203125,
          7.050327301025391,
          -49.18392562866211,
          9.195842742919922,
          2.5062618255615234,
          -45.092227935791016,
          -29.465660095214844,
          39.275447845458984,
          -6.199833393096924,
          -48.68518829345703,
          -9.66386890411377,
          19.740100860595703,
          -37.83650207519531,
          5.250370025634766,
          6.579619407653809,
          -15.181633949279785,
          -34.612735748291016,
          40.35329055786133,
          -0.3291001617908478,
          -32.41169357299805,
          -25.87373924255371,
          -12.454767227172852,
          -5.6636457443237305,
          -31.12525177001953,
          -1.7809609174728394,
          19.476991653442383,
          11.897467613220215,
          -23.117206573486328,
          -11.520328521728516,
          -24.622053146362305,
          -51.78776168823242,
          11.801612854003906,
          29.282339096069336,
          11.342545509338379,
          -24.317686080932617,
          -37.2347526550293,
          16.57012939453125,
          -25.44156837463379,
          -24.853919982910156,
          36.017364501953125,
          35.57419967651367,
          -9.43820858001709,
          -33.69987106323242,
          37.96928787231445,
          -52.98625946044922,
          -26.77164077758789,
          19.867443084716797,
          -6.313437461853027,
          -35.60469436645508,
          -53.539058685302734,
          -7.498141765594482,
          -13.928346633911133,
          -61.44441223144531,
          7.1697492599487305
         ],
         "yaxis": "y"
        }
       ],
       "layout": {
        "height": 800,
        "legend": {
         "tracegroupgap": 0
        },
        "margin": {
         "t": 60
        },
        "template": {
         "data": {
          "bar": [
           {
            "error_x": {
             "color": "#2a3f5f"
            },
            "error_y": {
             "color": "#2a3f5f"
            },
            "marker": {
             "line": {
              "color": "#E5ECF6",
              "width": 0.5
             },
             "pattern": {
              "fillmode": "overlay",
              "size": 10,
              "solidity": 0.2
             }
            },
            "type": "bar"
           }
          ],
          "barpolar": [
           {
            "marker": {
             "line": {
              "color": "#E5ECF6",
              "width": 0.5
             },
             "pattern": {
              "fillmode": "overlay",
              "size": 10,
              "solidity": 0.2
             }
            },
            "type": "barpolar"
           }
          ],
          "carpet": [
           {
            "aaxis": {
             "endlinecolor": "#2a3f5f",
             "gridcolor": "white",
             "linecolor": "white",
             "minorgridcolor": "white",
             "startlinecolor": "#2a3f5f"
            },
            "baxis": {
             "endlinecolor": "#2a3f5f",
             "gridcolor": "white",
             "linecolor": "white",
             "minorgridcolor": "white",
             "startlinecolor": "#2a3f5f"
            },
            "type": "carpet"
           }
          ],
          "choropleth": [
           {
            "colorbar": {
             "outlinewidth": 0,
             "ticks": ""
            },
            "type": "choropleth"
           }
          ],
          "contour": [
           {
            "colorbar": {
             "outlinewidth": 0,
             "ticks": ""
            },
            "colorscale": [
             [
              0,
              "#0d0887"
             ],
             [
              0.1111111111111111,
              "#46039f"
             ],
             [
              0.2222222222222222,
              "#7201a8"
             ],
             [
              0.3333333333333333,
              "#9c179e"
             ],
             [
              0.4444444444444444,
              "#bd3786"
             ],
             [
              0.5555555555555556,
              "#d8576b"
             ],
             [
              0.6666666666666666,
              "#ed7953"
             ],
             [
              0.7777777777777778,
              "#fb9f3a"
             ],
             [
              0.8888888888888888,
              "#fdca26"
             ],
             [
              1,
              "#f0f921"
             ]
            ],
            "type": "contour"
           }
          ],
          "contourcarpet": [
           {
            "colorbar": {
             "outlinewidth": 0,
             "ticks": ""
            },
            "type": "contourcarpet"
           }
          ],
          "heatmap": [
           {
            "colorbar": {
             "outlinewidth": 0,
             "ticks": ""
            },
            "colorscale": [
             [
              0,
              "#0d0887"
             ],
             [
              0.1111111111111111,
              "#46039f"
             ],
             [
              0.2222222222222222,
              "#7201a8"
             ],
             [
              0.3333333333333333,
              "#9c179e"
             ],
             [
              0.4444444444444444,
              "#bd3786"
             ],
             [
              0.5555555555555556,
              "#d8576b"
             ],
             [
              0.6666666666666666,
              "#ed7953"
             ],
             [
              0.7777777777777778,
              "#fb9f3a"
             ],
             [
              0.8888888888888888,
              "#fdca26"
             ],
             [
              1,
              "#f0f921"
             ]
            ],
            "type": "heatmap"
           }
          ],
          "heatmapgl": [
           {
            "colorbar": {
             "outlinewidth": 0,
             "ticks": ""
            },
            "colorscale": [
             [
              0,
              "#0d0887"
             ],
             [
              0.1111111111111111,
              "#46039f"
             ],
             [
              0.2222222222222222,
              "#7201a8"
             ],
             [
              0.3333333333333333,
              "#9c179e"
             ],
             [
              0.4444444444444444,
              "#bd3786"
             ],
             [
              0.5555555555555556,
              "#d8576b"
             ],
             [
              0.6666666666666666,
              "#ed7953"
             ],
             [
              0.7777777777777778,
              "#fb9f3a"
             ],
             [
              0.8888888888888888,
              "#fdca26"
             ],
             [
              1,
              "#f0f921"
             ]
            ],
            "type": "heatmapgl"
           }
          ],
          "histogram": [
           {
            "marker": {
             "pattern": {
              "fillmode": "overlay",
              "size": 10,
              "solidity": 0.2
             }
            },
            "type": "histogram"
           }
          ],
          "histogram2d": [
           {
            "colorbar": {
             "outlinewidth": 0,
             "ticks": ""
            },
            "colorscale": [
             [
              0,
              "#0d0887"
             ],
             [
              0.1111111111111111,
              "#46039f"
             ],
             [
              0.2222222222222222,
              "#7201a8"
             ],
             [
              0.3333333333333333,
              "#9c179e"
             ],
             [
              0.4444444444444444,
              "#bd3786"
             ],
             [
              0.5555555555555556,
              "#d8576b"
             ],
             [
              0.6666666666666666,
              "#ed7953"
             ],
             [
              0.7777777777777778,
              "#fb9f3a"
             ],
             [
              0.8888888888888888,
              "#fdca26"
             ],
             [
              1,
              "#f0f921"
             ]
            ],
            "type": "histogram2d"
           }
          ],
          "histogram2dcontour": [
           {
            "colorbar": {
             "outlinewidth": 0,
             "ticks": ""
            },
            "colorscale": [
             [
              0,
              "#0d0887"
             ],
             [
              0.1111111111111111,
              "#46039f"
             ],
             [
              0.2222222222222222,
              "#7201a8"
             ],
             [
              0.3333333333333333,
              "#9c179e"
             ],
             [
              0.4444444444444444,
              "#bd3786"
             ],
             [
              0.5555555555555556,
              "#d8576b"
             ],
             [
              0.6666666666666666,
              "#ed7953"
             ],
             [
              0.7777777777777778,
              "#fb9f3a"
             ],
             [
              0.8888888888888888,
              "#fdca26"
             ],
             [
              1,
              "#f0f921"
             ]
            ],
            "type": "histogram2dcontour"
           }
          ],
          "mesh3d": [
           {
            "colorbar": {
             "outlinewidth": 0,
             "ticks": ""
            },
            "type": "mesh3d"
           }
          ],
          "parcoords": [
           {
            "line": {
             "colorbar": {
              "outlinewidth": 0,
              "ticks": ""
             }
            },
            "type": "parcoords"
           }
          ],
          "pie": [
           {
            "automargin": true,
            "type": "pie"
           }
          ],
          "scatter": [
           {
            "fillpattern": {
             "fillmode": "overlay",
             "size": 10,
             "solidity": 0.2
            },
            "type": "scatter"
           }
          ],
          "scatter3d": [
           {
            "line": {
             "colorbar": {
              "outlinewidth": 0,
              "ticks": ""
             }
            },
            "marker": {
             "colorbar": {
              "outlinewidth": 0,
              "ticks": ""
             }
            },
            "type": "scatter3d"
           }
          ],
          "scattercarpet": [
           {
            "marker": {
             "colorbar": {
              "outlinewidth": 0,
              "ticks": ""
             }
            },
            "type": "scattercarpet"
           }
          ],
          "scattergeo": [
           {
            "marker": {
             "colorbar": {
              "outlinewidth": 0,
              "ticks": ""
             }
            },
            "type": "scattergeo"
           }
          ],
          "scattergl": [
           {
            "marker": {
             "colorbar": {
              "outlinewidth": 0,
              "ticks": ""
             }
            },
            "type": "scattergl"
           }
          ],
          "scattermapbox": [
           {
            "marker": {
             "colorbar": {
              "outlinewidth": 0,
              "ticks": ""
             }
            },
            "type": "scattermapbox"
           }
          ],
          "scatterpolar": [
           {
            "marker": {
             "colorbar": {
              "outlinewidth": 0,
              "ticks": ""
             }
            },
            "type": "scatterpolar"
           }
          ],
          "scatterpolargl": [
           {
            "marker": {
             "colorbar": {
              "outlinewidth": 0,
              "ticks": ""
             }
            },
            "type": "scatterpolargl"
           }
          ],
          "scatterternary": [
           {
            "marker": {
             "colorbar": {
              "outlinewidth": 0,
              "ticks": ""
             }
            },
            "type": "scatterternary"
           }
          ],
          "surface": [
           {
            "colorbar": {
             "outlinewidth": 0,
             "ticks": ""
            },
            "colorscale": [
             [
              0,
              "#0d0887"
             ],
             [
              0.1111111111111111,
              "#46039f"
             ],
             [
              0.2222222222222222,
              "#7201a8"
             ],
             [
              0.3333333333333333,
              "#9c179e"
             ],
             [
              0.4444444444444444,
              "#bd3786"
             ],
             [
              0.5555555555555556,
              "#d8576b"
             ],
             [
              0.6666666666666666,
              "#ed7953"
             ],
             [
              0.7777777777777778,
              "#fb9f3a"
             ],
             [
              0.8888888888888888,
              "#fdca26"
             ],
             [
              1,
              "#f0f921"
             ]
            ],
            "type": "surface"
           }
          ],
          "table": [
           {
            "cells": {
             "fill": {
              "color": "#EBF0F8"
             },
             "line": {
              "color": "white"
             }
            },
            "header": {
             "fill": {
              "color": "#C8D4E3"
             },
             "line": {
              "color": "white"
             }
            },
            "type": "table"
           }
          ]
         },
         "layout": {
          "annotationdefaults": {
           "arrowcolor": "#2a3f5f",
           "arrowhead": 0,
           "arrowwidth": 1
          },
          "autotypenumbers": "strict",
          "coloraxis": {
           "colorbar": {
            "outlinewidth": 0,
            "ticks": ""
           }
          },
          "colorscale": {
           "diverging": [
            [
             0,
             "#8e0152"
            ],
            [
             0.1,
             "#c51b7d"
            ],
            [
             0.2,
             "#de77ae"
            ],
            [
             0.3,
             "#f1b6da"
            ],
            [
             0.4,
             "#fde0ef"
            ],
            [
             0.5,
             "#f7f7f7"
            ],
            [
             0.6,
             "#e6f5d0"
            ],
            [
             0.7,
             "#b8e186"
            ],
            [
             0.8,
             "#7fbc41"
            ],
            [
             0.9,
             "#4d9221"
            ],
            [
             1,
             "#276419"
            ]
           ],
           "sequential": [
            [
             0,
             "#0d0887"
            ],
            [
             0.1111111111111111,
             "#46039f"
            ],
            [
             0.2222222222222222,
             "#7201a8"
            ],
            [
             0.3333333333333333,
             "#9c179e"
            ],
            [
             0.4444444444444444,
             "#bd3786"
            ],
            [
             0.5555555555555556,
             "#d8576b"
            ],
            [
             0.6666666666666666,
             "#ed7953"
            ],
            [
             0.7777777777777778,
             "#fb9f3a"
            ],
            [
             0.8888888888888888,
             "#fdca26"
            ],
            [
             1,
             "#f0f921"
            ]
           ],
           "sequentialminus": [
            [
             0,
             "#0d0887"
            ],
            [
             0.1111111111111111,
             "#46039f"
            ],
            [
             0.2222222222222222,
             "#7201a8"
            ],
            [
             0.3333333333333333,
             "#9c179e"
            ],
            [
             0.4444444444444444,
             "#bd3786"
            ],
            [
             0.5555555555555556,
             "#d8576b"
            ],
            [
             0.6666666666666666,
             "#ed7953"
            ],
            [
             0.7777777777777778,
             "#fb9f3a"
            ],
            [
             0.8888888888888888,
             "#fdca26"
            ],
            [
             1,
             "#f0f921"
            ]
           ]
          },
          "colorway": [
           "#636efa",
           "#EF553B",
           "#00cc96",
           "#ab63fa",
           "#FFA15A",
           "#19d3f3",
           "#FF6692",
           "#B6E880",
           "#FF97FF",
           "#FECB52"
          ],
          "font": {
           "color": "#2a3f5f"
          },
          "geo": {
           "bgcolor": "white",
           "lakecolor": "white",
           "landcolor": "#E5ECF6",
           "showlakes": true,
           "showland": true,
           "subunitcolor": "white"
          },
          "hoverlabel": {
           "align": "left"
          },
          "hovermode": "closest",
          "mapbox": {
           "style": "light"
          },
          "paper_bgcolor": "white",
          "plot_bgcolor": "#E5ECF6",
          "polar": {
           "angularaxis": {
            "gridcolor": "white",
            "linecolor": "white",
            "ticks": ""
           },
           "bgcolor": "#E5ECF6",
           "radialaxis": {
            "gridcolor": "white",
            "linecolor": "white",
            "ticks": ""
           }
          },
          "scene": {
           "xaxis": {
            "backgroundcolor": "#E5ECF6",
            "gridcolor": "white",
            "gridwidth": 2,
            "linecolor": "white",
            "showbackground": true,
            "ticks": "",
            "zerolinecolor": "white"
           },
           "yaxis": {
            "backgroundcolor": "#E5ECF6",
            "gridcolor": "white",
            "gridwidth": 2,
            "linecolor": "white",
            "showbackground": true,
            "ticks": "",
            "zerolinecolor": "white"
           },
           "zaxis": {
            "backgroundcolor": "#E5ECF6",
            "gridcolor": "white",
            "gridwidth": 2,
            "linecolor": "white",
            "showbackground": true,
            "ticks": "",
            "zerolinecolor": "white"
           }
          },
          "shapedefaults": {
           "line": {
            "color": "#2a3f5f"
           }
          },
          "ternary": {
           "aaxis": {
            "gridcolor": "white",
            "linecolor": "white",
            "ticks": ""
           },
           "baxis": {
            "gridcolor": "white",
            "linecolor": "white",
            "ticks": ""
           },
           "bgcolor": "#E5ECF6",
           "caxis": {
            "gridcolor": "white",
            "linecolor": "white",
            "ticks": ""
           }
          },
          "title": {
           "x": 0.05
          },
          "xaxis": {
           "automargin": true,
           "gridcolor": "white",
           "linecolor": "white",
           "ticks": "",
           "title": {
            "standoff": 15
           },
           "zerolinecolor": "white",
           "zerolinewidth": 2
          },
          "yaxis": {
           "automargin": true,
           "gridcolor": "white",
           "linecolor": "white",
           "ticks": "",
           "title": {
            "standoff": 15
           },
           "zerolinecolor": "white",
           "zerolinewidth": 2
          }
         }
        },
        "width": 800,
        "xaxis": {
         "anchor": "y",
         "autorange": true,
         "domain": [
          0,
          1
         ],
         "range": [
          -71.77200980844891,
          75.48861213388837
         ],
         "title": {
          "text": "0"
         },
         "type": "linear"
        },
        "yaxis": {
         "anchor": "x",
         "autorange": true,
         "domain": [
          0,
          1
         ],
         "range": [
          -69.23490829175086,
          68.90255279248328
         ],
         "title": {
          "text": "1"
         },
         "type": "linear"
        }
       }
      },
      "image/png": "[encoded data removed]",
      "text/html": [
       "<div>                            <div id=\"2283c97b-25c3-485c-92b5-a542f7a8e978\" class=\"plotly-graph-div\" style=\"height:800px; width:800px;\"></div>            <script type=\"text/javascript\">                require([\"plotly\"], function(Plotly) {                    window.PLOTLYENV=window.PLOTLYENV || {};                                    if (document.getElementById(\"2283c97b-25c3-485c-92b5-a542f7a8e978\")) {                    Plotly.newPlot(                        \"2283c97b-25c3-485c-92b5-a542f7a8e978\",                        [{\"hovertemplate\":\"<b>%{hovertext}</b><br><br>0=%{x}<br>1=%{y}<extra></extra>\",\"hovertext\":[\"se\",\"esse\",\"caesar\",\"his\",\"eo\",\"sibi\",\"eorum\",\"eos\",\"castris\",\"omnibus\",\"ne\",\"iis\",\"eius\",\"eum\",\"castra\",\"ea\",\"id\",\"causa\",\"omnes\",\"hostes\",\"uti\",\"sese\",\"romani\",\"bellum\",\"propter\",\"suis\",\"quos\",\"hostium\",\"proelio\",\"ubi\",\"fines\",\"partem\",\"populi\",\"nostri\",\"esset\",\"exercitum\",\"possent\",\"caesarem\",\"inter\",\"rhenum\",\"ipse\",\"suos\",\"loco\",\"milia\",\"posse\",\"nostros\",\"flumen\",\"quid\",\"pro\",\"parte\",\"gallia\",\"nostris\",\"locum\",\"una\",\"omnia\",\"galliae\",\"quorum\",\"finibus\",\"magno\",\"sua\",\"armis\",\"naves\",\"rei\",\"obsides\",\"hostibus\",\"posset\",\"iam\",\"circiter\",\"milites\",\"die\",\"legatos\",\"hominum\",\"apud\",\"eam\",\"sine\",\"quas\",\"navibus\",\"ante\",\"nihil\",\"tempore\",\"belli\",\"item\",\"helvetii\",\"copiis\",\"essent\",\"passuum\",\"omnium\",\"legiones\",\"iter\",\"locis\",\"copias\",\"itinere\",\"satis\",\"omni\",\"quem\",\"ibi\",\"itaque\",\"equites\",\"proelium\",\"consilio\",\"minus\",\"primum\",\"nam\",\"numero\",\"facta\",\"suo\",\"rerum\",\"ariovistus\",\"galliam\",\"celeriter\",\"magna\",\"militum\",\"eodem\",\"tempus\",\"bello\",\"facere\",\"fere\",\"multitudine\",\"iussit\",\"ipsi\",\"civitates\",\"fuga\",\"virtute\",\"propterea\",\"caesaris\",\"unum\",\"legati\",\"caesari\",\"illi\",\"tanta\",\"tum\",\"auxilium\",\"eas\",\"suas\",\"oppidum\",\"equitatu\",\"post\",\"interim\",\"hac\",\"trans\",\"aciem\",\"oppido\",\"pars\",\"transire\",\"fuit\",\"exercitus\",\"germani\",\"homines\",\"contendit\",\"habere\",\"seque\",\"contra\",\"romano\",\"milibus\",\"coeperunt\",\"l\",\"gallorum\",\"gallis\",\"c\",\"suam\",\"navium\",\"fluminis\",\"longius\",\"helvetios\",\"misit\",\"tela\",\"subito\",\"flumine\",\"uno\",\"periculo\",\"hi\",\"numerum\",\"eadem\",\"totius\",\"natura\",\"loci\",\"quin\",\"omnem\",\"amplius\",\"reliquos\",\"spe\",\"helvetiorum\",\"caesare\",\"haeduorum\",\"nostrorum\",\"adventu\",\"prius\",\"haeduos\",\"vi\",\"diem\",\"multis\",\"magnam\",\"facile\",\"paucis\",\"milium\",\"provinciam\",\"sub\",\"undique\",\"ei\",\"modo\",\"agris\",\"arma\",\"x\",\"vero\",\"agros\",\"nisi\",\"pace\",\"proeliis\",\"fidem\",\"multitudinem\",\"compluribus\",\"dies\",\"diebus\",\"longe\",\"populo\",\"nocte\",\"fieri\",\"habebat\",\"haeduis\",\"germanorum\",\"postea\",\"omnino\",\"germanos\",\"legatis\",\"facto\",\"superiore\",\"cuius\",\"impetum\",\"diutius\",\"militibus\",\"legionibus\",\"helvetiis\",\"ariovisti\",\"reliquis\",\"legatum\",\"enim\",\"magnum\",\"suum\",\"q\",\"p\",\"certior\",\"quarum\",\"sit\",\"poterant\",\"fecerunt\",\"equitum\",\"provinciae\",\"amicitiam\",\"civitatis\",\"existimabat\",\"partes\",\"hostem\",\"constituit\",\"summa\",\"romanorum\",\"is\",\"omnis\",\"contenderunt\",\"sequanos\",\"ob\",\"opere\",\"habebant\",\"frumentum\",\"silvas\",\"domum\",\"supra\",\"duas\",\"spatio\",\"diei\",\"reliqui\",\"ariovistum\",\"rursus\",\"ferre\",\"sui\",\"xii\",\"pugnatum\",\"iubet\",\"sequanis\",\"coepit\",\"vim\",\"arbitrabatur\",\"suaque\",\"paulo\",\"crassus\",\"factus\",\"pedum\",\"britanniam\",\"germanis\",\"tam\",\"m\",\"magis\",\"consuetudine\",\"solum\",\"pugnae\",\"ipsis\",\"haedui\",\"oratione\",\"inde\",\"pugna\",\"complures\",\"romanum\",\"fore\",\"usus\",\"fecisset\",\"oppida\",\"oppidis\",\"factum\",\"summam\",\"hunc\",\"maxime\",\"populum\",\"secum\",\"simul\",\"senatu\",\"hos\",\"exercitu\",\"respondit\",\"potestatem\",\"fugam\",\"iure\",\"mittit\",\"tertia\",\"impedimenta\",\"reliqua\",\"celeritate\",\"tantum\",\"sive\",\"vigilia\",\"annos\",\"t\",\"civitate\",\"earum\",\"praeter\",\"frumento\",\"commode\",\"nationes\",\"plurimum\",\"petere\",\"alia\",\"impedimentis\",\"nostra\",\"receperunt\",\"idem\",\"vulneribus\",\"agri\",\"belgis\",\"hanc\",\"saepe\",\"signa\",\"praesidio\",\"domo\",\"virtutis\",\"venire\",\"dare\",\"imperio\",\"legionem\",\"legionis\",\"sequanorum\",\"altitudinem\",\"equitatus\",\"voluntate\",\"agmen\",\"haberent\",\"nostram\",\"spem\",\"opus\",\"quantum\",\"pervenit\",\"iniuria\",\"adducti\",\"ipsos\",\"pacem\",\"prima\",\"facilius\",\"castrorum\",\"usui\",\"vellet\",\"loca\",\"suae\",\"legione\",\"haberet\",\"influit\",\"imperium\",\"montem\",\"latitudinem\",\"spatium\",\"mittunt\",\"auctoritate\",\"memoria\",\"superioribus\",\"ostendit\",\"magnis\",\"dictum\",\"gallos\",\"animo\",\"itineribus\",\"navi\",\"gravius\",\"romanos\",\"conloquio\",\"quicquam\",\"has\",\"equitatum\",\"reliquum\",\"modum\",\"romanis\",\"quaeque\",\"fortunam\",\"acie\",\"huic\",\"reliquae\",\"iiii\",\"salutem\",\"praeerat\",\"oporteret\",\"paulatim\",\"concilio\",\"xv\",\"pervenerunt\",\"equis\",\"cohortatus\",\"latere\",\"aperto\",\"timore\",\"acriter\",\"vallo\",\"salutis\",\"barbari\",\"consilii\",\"reverti\",\"confecto\",\"gratiam\",\"tenere\",\"primo\",\"quisque\",\"venerunt\",\"deinde\",\"muro\",\"remis\",\"duae\",\"viribus\",\"ii\",\"profectus\",\"diu\",\"fugae\",\"acceptis\",\"venerant\",\"sint\",\"crasso\",\"etsi\",\"barbaris\",\"regionibus\",\"quoque\",\"facerent\",\"collis\",\"causam\",\"opinionem\",\"obsidibus\",\"incensis\",\"temporis\",\"ratio\",\"multa\",\"traditis\",\"miserunt\",\"mercatores\",\"dixerunt\",\"potuit\",\"sustinere\",\"horum\",\"victis\",\"acies\",\"sabinus\",\"arbitratus\",\"civitas\",\"videbat\",\"cohortibus\",\"huc\",\"hoste\",\"altera\",\"monte\",\"fecit\",\"reduxit\",\"finitimis\",\"spes\",\"consilium\",\"reliquisque\",\"exercitatione\",\"magnitudine\",\"subsidio\",\"venisse\",\"statim\",\"frumenti\",\"civitatibus\",\"conloquium\",\"belgarum\",\"oportere\",\"initium\",\"belgas\",\"vii\",\"constiterunt\",\"remorum\",\"plerumque\",\"numerus\",\"fieret\",\"gratia\",\"publicae\",\"viderentur\",\"impeditos\",\"ire\",\"capere\",\"illum\",\"faceret\",\"magnopere\",\"provincia\",\"poterat\",\"cognitis\",\"italiam\",\"alii\",\"locus\",\"nomine\",\"victoria\",\"alias\",\"venit\",\"possit\",\"possint\",\"agmine\",\"intellexit\",\"labienum\",\"summo\",\"faciunt\",\"postridie\",\"existimavit\",\"exploratores\",\"impetus\",\"prohibere\",\"frumentaria\",\"extremum\",\"statuit\",\"manibus\",\"cornu\",\"genere\",\"partibus\",\"solis\",\"terga\",\"velint\",\"potuerunt\",\"multum\",\"proximi\",\"fuisset\",\"idoneum\",\"oceano\",\"dato\",\"dc\",\"coicerent\",\"pugnandi\",\"conspectu\",\"equitatumque\",\"telum\",\"equitibus\",\"discedere\",\"missa\",\"vellent\",\"suebis\",\"quare\",\"occiderunt\",\"tres\",\"diximus\",\"portis\",\"accidit\",\"tantae\",\"paulum\",\"interfecto\",\"constabat\",\"imperii\",\"aliae\",\"reliquas\",\"praedandi\",\"aedificiis\",\"dierum\",\"galli\",\"reciperent\",\"causis\",\"futurum\",\"regiones\",\"dixit\",\"tertiam\",\"obsidesque\",\"impetu\",\"viii\",\"volebat\",\"beneficio\",\"belgae\",\"incolunt\",\"mari\",\"anni\",\"contenderent\",\"auxilia\",\"praesertim\",\"convenirent\",\"civitatum\",\"nondum\",\"exploratoribus\",\"amissis\",\"condicionem\",\"finem\",\"paene\",\"principes\",\"communi\",\"multitudo\",\"agere\",\"contendere\",\"illis\",\"d\",\"iterum\",\"liberos\",\"diviciaci\",\"dicere\",\"sequi\",\"unde\",\"ipsius\",\"contulerunt\",\"perterritos\",\"pugnam\",\"frumentariae\",\"aberat\",\"intervallo\",\"rhodanum\",\"multo\",\"nulli\",\"prope\",\"allobrogum\",\"nullis\",\"perterriti\",\"teneri\",\"imperavit\",\"v\",\"cui\",\"necessario\",\"an\",\"domi\",\"aliis\",\"usum\",\"tenebat\",\"centurionibus\",\"itineris\",\"proxima\",\"isdem\",\"amicus\",\"virtutem\",\"plus\",\"secuti\",\"abesse\",\"cognito\",\"propius\",\"ultro\",\"paucos\",\"utraque\",\"permoti\",\"facultatem\",\"auderent\",\"facultas\",\"daretur\",\"intra\",\"diviciacum\",\"utrisque\",\"proficisci\",\"summum\",\"praeterea\",\"senatus\",\"legio\",\"pontem\",\"copia\",\"auxilio\",\"sueborum\",\"occupatis\"],\"legendgroup\":\"\",\"marker\":{\"color\":\"#636efa\",\"symbol\":\"circle\"},\"mode\":\"markers\",\"name\":\"\",\"orientation\":\"v\",\"showlegend\":false,\"x\":[-44.98458480834961,-30.910511016845703,-19.066925048828125,-0.07296422868967056,-51.617374420166016,-54.85916519165039,-7.047913551330566,-22.831995010375977,47.23501968383789,13.986089706420898,-32.154151916503906,34.27678680419922,-2.2590317726135254,27.145315170288086,28.38319206237793,25.753284454345703,-58.643062591552734,7.043636322021484,2.041818857192993,23.765756607055664,-14.081442832946777,-38.059024810791016,-42.871971130371094,-31.95488929748535,-1.4085826873779297,-8.645160675048828,54.36343765258789,35.90351104736328,-10.327035903930664,18.602933883666992,-14.942527770996094,32.50099563598633,-42.98359298706055,20.11966896057129,-9.898000717163086,21.259719848632812,-2.9311985969543457,-31.845291137695312,-21.5266170501709,9.318208694458008,20.618558883666992,-12.539937973022461,41.930843353271484,55.6616096496582,-41.641239166259766,20.83899688720703,10.694253921508789,-61.135353088378906,39.01655578613281,27.660202026367188,-60.36246871948242,33.32635498046875,-17.072132110595703,31.695756912231445,-38.65039825439453,-13.725846290588379,-9.732192993164062,10.411725997924805,38.602073669433594,-60.65556716918945,-28.894577026367188,20.62763023376465,-41.233001708984375,-34.00040054321289,4.886430740356445,-38.37064743041992,-13.45949935913086,58.5222282409668,19.081222534179688,9.632852554321289,-28.97878646850586,54.71962356567383,-22.988908767700195,-26.401823043823242,-60.6013069152832,16.524948120117188,5.9657182693481445,-0.11625371128320694,-18.85700798034668,8.454834938049316,-56.08147430419922,57.20186996459961,-21.40898895263672,51.54643249511719,-33.6171760559082,56.46311569213867,6.63346529006958,28.370874404907227,-52.70464324951172,10.533608436584473,0.4739739000797272,36.10394287109375,-41.16264343261719,34.68251419067383,-22.40144920349121,50.12416076660156,37.66838836669922,23.217634201049805,25.183727264404297,-11.54181957244873,-42.038578033447266,29.40715789794922,-4.362380027770996,39.360679626464844,-9.565738677978516,-55.89607238769531,2.1815104484558105,-16.375232696533203,-54.74711608886719,-2.5237174034118652,5.71370267868042,-11.939986228942871,-47.06692123413086,-55.78682327270508,-12.654010772705078,-57.32813262939453,36.62224578857422,42.86308670043945,44.43726348876953,39.95511245727539,-47.076560974121094,41.938053131103516,7.817137241363525,-33.66474914550781,-11.3263521194458,-13.835769653320312,-26.055618286132812,-50.62667465209961,-26.301816940307617,4.152164936065674,17.476673126220703,-58.332462310791016,0.1509169638156891,-15.302300453186035,17.834392547607422,19.511457443237305,16.316755294799805,-8.40116024017334,31.892822265625,10.550904273986816,38.750762939453125,11.218353271484375,28.2170352935791,11.170424461364746,-7.681815147399902,-8.8326997756958,1.049837589263916,-31.654367446899414,15.69200325012207,-20.729984283447266,-34.36863327026367,-63.1525764465332,-38.07745361328125,56.09973907470703,15.038416862487793,21.918428421020508,-19.156200408935547,4.153264045715332,-10.659479141235352,-35.60264205932617,-3.533890962600708,63.9609489440918,23.17665672302246,-17.73224639892578,22.075942993164062,19.520679473876953,34.807762145996094,32.568031311035156,-46.80877685546875,-61.66230392456055,-24.262367248535156,29.054208755493164,0.08118739724159241,-16.7076416015625,9.386128425598145,9.732033729553223,-54.759456634521484,45.59321975708008,56.4029541015625,28.632314682006836,2.6247398853302,-1.3127466440200806,-62.10040283203125,-15.835029602050781,-16.117666244506836,-9.442431449890137,-30.423507690429688,-37.04633712768555,33.4785041809082,-41.74892044067383,2.6088287830352783,3.649137020111084,-38.60271072387695,1.777512788772583,59.04857635498047,-53.83027648925781,31.398794174194336,44.9210205078125,-56.63518524169922,-27.834882736206055,12.951319694519043,-1.9929933547973633,65.40846252441406,20.96476936340332,-17.64209747314453,-19.027355194091797,-29.981351852416992,7.998678207397461,-50.52638626098633,-3.253098726272583,9.3971586227417,47.76286315917969,2.5865166187286377,9.193825721740723,-63.54612350463867,28.16707992553711,-59.8598747253418,4.951990604400635,-32.370487213134766,6.624828815460205,58.188804626464844,-5.560450553894043,-8.4320068359375,-25.763132095336914,-14.074105262756348,39.58069610595703,-13.143386840820312,23.193954467773438,-47.40962600708008,8.8719482421875,20.06056022644043,-53.623844146728516,3.6821861267089844,17.541170120239258,22.653759002685547,-27.41913604736328,30.642017364501953,-26.322160720825195,24.583276748657227,24.81839370727539,7.939155101776123,1.2913280725479126,-62.71352767944336,-37.84062957763672,24.768800735473633,23.246421813964844,-16.46383285522461,-44.21476364135742,-33.29669189453125,46.23173904418945,-16.99680519104004,25.19205665588379,37.378448486328125,-0.33341163396835327,19.176307678222656,-22.44525146484375,-5.32758092880249,44.661014556884766,-22.179088592529297,-27.241100311279297,43.259891510009766,-40.21437454223633,-6.94171667098999,-14.737943649291992,45.461185455322266,55.88077926635742,26.136728286743164,59.38801956176758,-2.541158676147461,10.740375518798828,-44.16239929199219,16.51445960998535,-1.667647123336792,-29.443262100219727,59.13983917236328,-11.650398254394531,-49.40190887451172,-32.12358474731445,15.83798599243164,-50.24046325683594,-46.17167282104492,-37.590553283691406,25.54107093811035,24.59597396850586,7.334661483764648,60.143898010253906,2.933044672012329,-2.4040634632110596,-30.788803100585938,25.379961013793945,-10.422730445861816,-59.979835510253906,-24.079830169677734,-45.80121994018555,-30.963102340698242,-32.55021286010742,-32.185508728027344,18.868785858154297,-32.76814651489258,32.5264892578125,-62.37188720703125,-35.851593017578125,-4.815037250518799,-44.79014587402344,-38.90868377685547,32.898799896240234,-6.197804927825928,61.8697509765625,24.14434051513672,-48.115840911865234,-62.32453536987305,-55.13512420654297,22.33057403564453,-58.839927673339844,9.374509811401367,21.621793746948242,-14.820833206176758,-43.892486572265625,26.138139724731445,-46.063621520996094,-27.484933853149414,29.332971572875977,32.62675857543945,33.20979309082031,21.405500411987305,15.718596458435059,-4.694915771484375,23.69427490234375,-32.5462532043457,21.52675437927246,-58.4838981628418,2.241097927093506,-12.529258728027344,32.804447174072266,-39.3937873840332,-34.168643951416016,-21.426677703857422,41.24613952636719,24.03521156311035,33.192138671875,36.42707061767578,-19.680400848388672,-14.643708229064941,43.61489486694336,-12.171966552734375,-11.694869995117188,-35.32838439941406,40.103397369384766,28.075613021850586,44.847049713134766,-9.687919616699219,-31.306917190551758,-44.42057418823242,-35.19664764404297,-43.93309020996094,67.26272583007812,66.3685302734375,-16.171571731567383,63.74542236328125,30.910627365112305,-48.96025466918945,23.5361328125,-4.574373722076416,-54.216400146484375,-39.640716552734375,-10.854166984558105,-9.422483444213867,11.273725509643555,-58.91925048828125,2.1622445583343506,-29.92201805114746,-44.453285217285156,29.119932174682617,18.683191299438477,60.96480178833008,35.601192474365234,-58.668312072753906,-58.03923034667969,-55.3214111328125,50.786251068115234,-33.734134674072266,8.791420936584473,-30.59465980529785,-18.589879989624023,63.30637741088867,31.400238037109375,-30.425867080688477,41.551048278808594,8.371471405029297,8.595149040222168,-56.505104064941406,16.029621124267578,1.11110258102417,0.10339817404747009,-56.296974182128906,15.659751892089844,15.525259971618652,-59.72988510131836,62.541412353515625,-42.08335494995117,-6.903515815734863,5.206697463989258,44.43303298950195,-33.00550842285156,25.366554260253906,-60.36968994140625,19.791685104370117,-29.997804641723633,37.66611862182617,51.05154800415039,28.291784286499023,57.39999771118164,41.47865295410156,30.470943450927734,-35.99827575683594,32.87760925292969,-46.711692810058594,55.49164581298828,54.73735046386719,17.452211380004883,24.022491455078125,28.552017211914062,39.26650619506836,34.773643493652344,-11.478482246398926,61.34990692138672,5.782916069030762,15.015445709228516,-60.221500396728516,-12.278141975402832,-1.1412348747253418,-44.38600540161133,27.40821075439453,2.8869643211364746,-38.463138580322266,-27.516977310180664,-28.21625328063965,20.734872817993164,57.39497756958008,29.293014526367188,20.745471954345703,35.84200668334961,18.0198917388916,-12.322501182556152,33.76908493041992,44.10038375854492,52.315147399902344,-29.171375274658203,6.064426422119141,-4.511213302612305,0.30422189831733704,15.555110931396484,-12.376376152038574,31.26791763305664,29.110145568847656,-41.12766647338867,-14.341643333435059,-30.968076705932617,11.814031600952148,42.99879455566406,-38.54277038574219,7.194860935211182,-29.34415054321289,-30.827545166015625,-5.519514083862305,-33.83662414550781,15.609163284301758,-3.8442440032958984,2.446115732192993,-7.628783226013184,42.11384582519531,20.125181198120117,-40.37356948852539,-6.93224573135376,-37.3919792175293,20.01235580444336,44.36957931518555,54.31631851196289,28.115455627441406,49.58934020996094,25.989084243774414,28.048601150512695,32.90604782104492,-4.745215892791748,-35.37635803222656,4.370143413543701,-18.867523193359375,-0.620648205280304,36.415672302246094,-48.66878890991211,-31.108747482299805,-39.485069274902344,2.940490961074829,-49.49748611450195,-15.390704154968262,-47.05168151855469,-6.666007995605469,1.7259122133255005,52.137516021728516,15.653932571411133,-8.304665565490723,15.910604476928711,58.81458282470703,22.518280029296875,-20.130144119262695,-40.082271575927734,61.611045837402344,17.226415634155273,-14.031529426574707,-26.089630126953125,-61.46665573120117,-45.477725982666016,-31.288057327270508,-6.764262676239014,-26.673011779785156,-30.54620361328125,18.777620315551758,30.56325912475586,49.51860046386719,53.985748291015625,-56.892234802246094,-14.920404434204102,-23.569026947021484,19.61978530883789,-31.802227020263672,27.210418701171875,14.538649559020996,21.655899047851562,31.891006469726562,-36.660362243652344,-2.782402276992798,-33.767147064208984,7.816760063171387,7.2605719566345215,12.74162769317627,38.16812515258789,35.03566360473633,13.168020248413086,16.9627742767334,41.394371032714844,17.74785041809082,51.2545051574707,-20.229259490966797,22.17714500427246,-35.547935485839844,23.178003311157227,11.048389434814453,-7.754485607147217,50.04191589355469,-13.848681449890137,9.324319839477539,21.330366134643555,53.72504806518555,20.258331298828125,1.1750236749649048,-0.4746899902820587,45.328372955322266,-4.605487823486328,2.417874336242676,-30.099428176879883,17.338699340820312,-56.38948059082031,-60.44866943359375,-27.72882843017578,31.322446823120117,-7.0457377433776855,55.564334869384766,7.623751163482666,-3.2914998531341553,-5.96266508102417,11.872319221496582,38.05577087402344,38.2567138671875,61.5654182434082,20.53919219970703,26.322429656982422,9.509833335876465,12.19530963897705,-9.558156967163086,43.7692985534668,15.606375694274902,13.701359748840332,-31.510942459106445,0.5259081721305847,-52.50123977661133,2.6888973712921143,-34.99774169921875,37.62779998779297,53.76358413696289,-22.31329917907715,-57.06430435180664,-6.776144027709961,8.216232299804688,9.134008407592773,-56.718231201171875,-6.957610607147217,-48.243804931640625,-4.717465400695801,45.280887603759766,-24.28602409362793,8.109254837036133,7.3075175285339355,4.98178243637085,-30.278575897216797,-50.07481002807617,5.808642864227295,-28.982929229736328,-19.332019805908203,33.27193832397461,-22.16864013671875,-20.86585807800293,-4.331297397613525,53.40739059448242,-31.296585083007812,-34.54885482788086,-54.98236846923828,-48.546871185302734,-20.541982650756836,24.930335998535156,40.85286331176758,10.133163452148438,27.093868255615234,36.679786682128906,-39.77783966064453,-8.32470703125,59.84524917602539,9.285511016845703,-17.913257598876953,-25.701208114624023,58.173866271972656,-1.2385990619659424,-29.108463287353516,16.124038696289062,2.4763877391815186,-27.92141342163086,46.41349411010742,62.102115631103516,-31.305606842041016,-27.365753173828125,-20.599897384643555,-38.208656311035156,26.188106536865234,61.353973388671875,37.015098571777344,-56.872310638427734,27.66948699951172,8.21753215789795,-58.08238983154297,-14.303948402404785,-56.349586486816406,35.58856201171875,9.766448020935059,-10.00726318359375,-20.390287399291992,-27.496341705322266,35.97694396972656,26.96881103515625,17.257099151611328,-22.026601791381836,-61.02231216430664,33.366233825683594,32.689414978027344,-13.6905517578125,-12.525672912597656,-13.040482521057129,19.118209838867188,-61.7568359375,-54.15397262573242,-34.19986343383789,28.446189880371094,17.089628219604492,47.72402572631836,-31.396121978759766,1.486215591430664,11.139280319213867],\"xaxis\":\"x\",\"y\":[-4.591752529144287,-18.653684616088867,13.855877876281738,3.700235366821289,21.584138870239258,-10.08158016204834,-42.4085807800293,-3.2672367095947266,-33.2349967956543,-33.488807678222656,32.656829833984375,-26.97776985168457,28.373689651489258,-7.001391887664795,5.827678680419922,-36.59710693359375,-3.717372417449951,-54.732513427734375,-35.615352630615234,31.945119857788086,-46.57164764404297,5.3933634757995605,-15.772422790527344,-26.94502067565918,-14.71854019165039,-50.883060455322266,8.17834186553955,24.4315128326416,39.17555236816406,51.619110107421875,-13.992815017700195,-47.37910842895508,-12.676910400390625,27.27941131591797,43.43759536743164,-52.73602294921875,53.99599075317383,13.750350952148438,3.704524040222168,-46.464759826660156,-2.4454667568206787,-7.842952251434326,7.696743488311768,-4.204218864440918,-14.53825569152832,42.0980339050293,-44.44353103637695,-15.903486251831055,16.08759307861328,-38.986873626708984,10.428136825561523,31.19740104675293,35.07793045043945,-20.797090530395508,12.774867057800293,-34.171653747558594,-41.50973892211914,-35.84107208251953,-10.912760734558105,14.72393798828125,27.543590545654297,-40.2461051940918,-49.780982971191406,6.248076438903809,6.198112487792969,-17.792741775512695,1.3308452367782593,-3.8723456859588623,23.957080841064453,53.564884185791016,13.53926944732666,5.323093414306641,2.4718995094299316,-45.38460922241211,-6.672823429107666,-14.35113525390625,3.658292770385742,43.874168395996094,-1.573345422744751,53.64246368408203,3.4155354499816895,25.91517448425293,-15.551454544067383,31.3890380859375,-35.2425651550293,1.3456182479858398,-20.801496505737305,8.462809562683105,-34.98936462402344,-4.785325527191162,12.540948867797852,5.5682196617126465,-30.822826385498047,-16.40130043029785,18.751758575439453,28.04591941833496,-3.3763411045074463,35.73896026611328,27.136672973632812,23.445663452148438,-23.77767562866211,47.262611389160156,21.26363182067871,-6.467703342437744,29.396780014038086,10.478609085083008,-20.170549392700195,13.844036102294922,-35.82306671142578,35.54814147949219,-14.763944625854492,9.592784881591797,24.897314071655273,6.052145004272461,11.880804061889648,-5.611445903778076,-6.581657886505127,-10.57172966003418,9.64692211151123,37.83741760253906,-25.302183151245117,48.46537780761719,-2.470259666442871,-10.421171188354492,7.346982002258301,35.8270149230957,11.084004402160645,-24.22882652282715,5.135692119598389,-14.742478370666504,51.108089447021484,-21.35602378845215,14.274761199951172,-7.776534080505371,7.927128791809082,15.256691932678223,34.94773864746094,28.27129364013672,-16.187114715576172,-48.45633316040039,20.22026252746582,53.281280517578125,-39.96710205078125,-47.579994201660156,-26.435487747192383,14.210198402404785,30.45623016357422,-25.446176528930664,-24.141923904418945,-23.878231048583984,11.348294258117676,-27.71033477783203,-35.05010986328125,-3.3604109287261963,31.920055389404297,-8.017372131347656,-6.335718154907227,2.0394678115844727,9.701314926147461,-20.774932861328125,-12.544168472290039,-1.6354608535766602,29.901260375976562,-11.146424293518066,-15.452614784240723,43.04224395751953,34.86598205566406,-47.836673736572266,24.64539337158203,-4.8590898513793945,40.13895034790039,-26.158775329589844,30.24643898010254,-36.802391052246094,12.267060279846191,11.196890830993652,-16.844446182250977,-35.42753601074219,-2.0541908740997314,27.321386337280273,-9.619917869567871,-49.11862564086914,-11.033164024353027,-10.840868949890137,2.491302967071533,-22.618257522583008,19.569604873657227,-6.619940757751465,18.02074432373047,21.809799194335938,45.294307708740234,-28.204891204833984,-29.19249725341797,43.920494079589844,12.48807144165039,-34.476600646972656,61.21080780029297,4.6373677253723145,-15.844189643859863,-32.82404708862305,-35.788780212402344,53.14061737060547,-4.815842628479004,46.334659576416016,-8.205436706542969,26.058351516723633,12.439924240112305,-3.4514176845550537,15.621588706970215,-13.023343086242676,24.57245635986328,6.677248954772949,43.26386260986328,-38.94951248168945,-11.722502708435059,3.129481077194214,-16.392484664916992,-28.040441513061523,-2.476407527923584,-46.598716735839844,14.263282775878906,1.3329663276672363,-32.660865783691406,17.833267211914062,43.61410140991211,9.57886028289795,-23.259138107299805,34.4668083190918,-15.643383026123047,23.981054306030273,-13.744778633117676,-32.69844436645508,-61.01504135131836,-16.114749908447266,-10.709695816040039,-31.58248519897461,-26.156862258911133,-29.499494552612305,-8.722513198852539,-6.875645160675049,36.66346740722656,-21.76237678527832,-11.559453010559082,-30.370033264160156,33.193336486816406,19.266443252563477,-36.273902893066406,-12.742658615112305,15.870817184448242,-36.64646530151367,-38.182552337646484,11.659626960754395,18.282609939575195,-15.471118927001953,8.647210121154785,16.516883850097656,-7.403072834014893,-0.21952088177204132,-0.647932767868042,-44.677276611328125,23.241792678833008,10.94990062713623,-7.306321144104004,44.211219787597656,-1.1053968667984009,25.653568267822266,8.565117835998535,-0.28270193934440613,29.780624389648438,6.0126752853393555,4.2405829429626465,33.546268463134766,52.85548400878906,-24.158679962158203,0.9693517088890076,40.96120834350586,-27.413509368896484,-3.963118314743042,43.09873580932617,-32.081024169921875,-11.963653564453125,11.091217041015625,24.69633674621582,-1.1442499160766602,36.511199951171875,1.431501030921936,-22.898361206054688,-35.06713104248047,-34.375579833984375,-7.652100086212158,23.320344924926758,13.986241340637207,-31.54593849182129,22.96761131286621,-2.0724804401397705,-0.8369250297546387,42.11558532714844,-18.993417739868164,42.14214324951172,-25.206050872802734,-27.660751342773438,-35.05619430541992,23.746912002563477,-19.465797424316406,11.727258682250977,-53.7655143737793,27.413854598999023,-14.170309066772461,-25.701324462890625,18.51097869873047,-28.38534927368164,20.1071720123291,18.975765228271484,11.345258712768555,-52.522117614746094,-2.8903441429138184,14.861717224121094,4.055733680725098,26.557859420776367,-6.617140769958496,14.606802940368652,-37.288002014160156,37.40040588378906,-17.3039493560791,22.84238624572754,50.6873893737793,25.18186378479004,-11.634596824645996,-5.703213214874268,-9.257721900939941,12.701032638549805,-21.61860466003418,4.812029838562012,-49.2683219909668,-29.144826889038086,-2.2478039264678955,-1.6741982698440552,46.95372009277344,-38.698699951171875,20.99860954284668,25.011980056762695,33.4251594543457,15.271783828735352,37.341976165771484,5.4052414894104,-46.66861343383789,-21.959897994995117,-10.193524360656738,45.23318099975586,-33.02635192871094,-49.59915542602539,-23.957752227783203,-18.853139877319336,7.290439605712891,-17.697940826416016,-5.9723944664001465,-5.431800365447998,-10.35041618347168,-3.50026273727417,-22.643457412719727,14.036664962768555,41.40135192871094,33.770294189453125,-33.95838928222656,-7.59427547454834,42.43190002441406,-22.39633560180664,-32.23086929321289,-5.2263336181640625,-12.507316589355469,32.16246795654297,-10.969030380249023,46.65630340576172,-42.687843322753906,4.62977409362793,8.335208892822266,-14.814465522766113,5.5495500564575195,-14.497800827026367,-2.7487165927886963,-8.365938186645508,-44.085262298583984,-16.852622985839844,34.160736083984375,-3.6287951469421387,61.16075134277344,13.861449241638184,-10.461590766906738,-20.168195724487305,-3.553947687149048,-15.350984573364258,-24.959671020507812,43.70614242553711,-35.8633918762207,-31.812416076660156,-23.596689224243164,49.681556701660156,-12.72946548461914,6.749567031860352,21.5666561126709,-27.65435218811035,-21.19782066345215,-34.88945007324219,-15.556754112243652,-25.796430587768555,-22.430885314941406,8.75934886932373,-16.846527099609375,19.432926177978516,29.50913429260254,-31.97648811340332,-4.126754283905029,47.45413589477539,-30.000553131103516,-23.346973419189453,19.568889617919922,-6.849310398101807,1.3120970726013184,25.125225067138672,14.268241882324219,40.527713775634766,17.85683250427246,8.976412773132324,23.79373550415039,40.00164031982422,1.1110376119613647,22.3267822265625,17.053958892822266,-18.0888614654541,-10.19084644317627,-47.87052536010742,-13.43979263305664,44.54719924926758,-14.014392852783203,-7.223633289337158,9.836437225341797,-9.026449203491211,45.438018798828125,15.573076248168945,-31.382070541381836,23.22116470336914,-40.681434631347656,-14.6527681350708,40.9212532043457,36.78373718261719,37.42157745361328,7.245085716247559,5.973304748535156,33.40273666381836,-8.988988876342773,-22.062789916992188,-10.937559127807617,-46.58759689331055,-28.357669830322266,18.760684967041016,-24.712631225585938,2.5664334297180176,30.35787582397461,-33.53997039794922,27.077478408813477,-48.904579162597656,-43.88852310180664,28.493934631347656,11.547395706176758,-27.22979736328125,9.979843139648438,-22.27735137939453,-0.10619256645441055,-13.90854263305664,-29.040836334228516,26.351770401000977,-10.83778190612793,-28.091419219970703,-33.174259185791016,-34.581016540527344,-7.9278998374938965,7.42065954208374,1.6266157627105713,-36.73683166503906,16.287485122680664,-2.7127718925476074,6.18378210067749,-53.85749816894531,-6.477935791015625,30.275846481323242,3.563016653060913,0.6998919248580933,-35.655242919921875,17.96253204345703,-25.031307220458984,41.967464447021484,21.75432777404785,3.5599167346954346,17.17348861694336,-9.198162078857422,-16.662717819213867,26.98111343383789,-36.558895111083984,-2.571584463119507,20.693607330322266,-51.23139953613281,17.373769760131836,12.940261840820312,21.618215560913086,-0.7018036842346191,-49.20883560180664,5.666568756103516,25.64790153503418,-13.228824615478516,38.95977020263672,-4.31100606918335,4.0504536628723145,31.096012115478516,-34.19626998901367,-30.724035263061523,4.787172794342041,-14.170639991760254,20.06340980529785,-7.231082439422607,-5.6522722244262695,13.804443359375,-23.088939666748047,16.366207122802734,-52.88924789428711,-15.32684326171875,30.687793731689453,51.78020095825195,-10.388176918029785,19.964649200439453,5.300567150115967,29.36862564086914,30.515474319458008,34.89943313598633,21.956485748291016,-46.72184753417969,-2.3117501735687256,-4.9312944412231445,-11.18706226348877,25.806974411010742,26.025793075561523,15.304482460021973,30.34426498413086,28.759593963623047,32.3426399230957,-6.238647937774658,31.436359405517578,8.094441413879395,-41.60607147216797,-7.614311695098877,36.78618240356445,-41.0131950378418,32.180076599121094,6.952858924865723,42.9410285949707,-61.54316329956055,-16.754301071166992,-34.36024475097656,0.75951087474823,-8.891374588012695,15.9105224609375,42.99546432495117,-11.113563537597656,-21.5446834564209,-44.301124572753906,-26.145036697387695,-36.7593994140625,25.82016944885254,21.23626136779785,33.70813751220703,-32.196739196777344,8.291373252868652,-6.782156467437744,-9.392210960388184,-13.13464641571045,-40.80720901489258,8.288087844848633,-50.3050537109375,-34.203208923339844,9.480266571044922,27.759347915649414,32.52737808227539,-11.22087287902832,-23.341243743896484,13.410825729370117,20.315052032470703,13.124229431152344,6.423761367797852,8.000731468200684,-1.850879192352295,-25.556318283081055,10.98031997680664,-38.65817642211914,-45.72812271118164,-40.09394073486328,5.557760238647461,25.191600799560547,-23.38045310974121,-32.11259078979492,6.573678970336914,14.94539737701416,-49.45569610595703,34.78316879272461,4.524476051330566,18.285335540771484,15.977360725402832,-40.9504280090332,8.0248441696167,26.981626510620117,-17.70813751220703,32.48154067993164,-14.718244552612305,29.044641494750977,-0.358140766620636,10.896027565002441,8.941893577575684,14.990740776062012,-24.43848991394043,32.85773468017578,-2.4024624824523926,37.180419921875,9.889086723327637,27.02227783203125,7.050327301025391,-49.18392562866211,9.195842742919922,2.5062618255615234,-45.092227935791016,-29.465660095214844,39.275447845458984,-6.199833393096924,-48.68518829345703,-9.66386890411377,19.740100860595703,-37.83650207519531,5.250370025634766,6.579619407653809,-15.181633949279785,-34.612735748291016,40.35329055786133,-0.3291001617908478,-32.41169357299805,-25.87373924255371,-12.454767227172852,-5.6636457443237305,-31.12525177001953,-1.7809609174728394,19.476991653442383,11.897467613220215,-23.117206573486328,-11.520328521728516,-24.622053146362305,-51.78776168823242,11.801612854003906,29.282339096069336,11.342545509338379,-24.317686080932617,-37.2347526550293,16.57012939453125,-25.44156837463379,-24.853919982910156,36.017364501953125,35.57419967651367,-9.43820858001709,-33.69987106323242,37.96928787231445,-52.98625946044922,-26.77164077758789,19.867443084716797,-6.313437461853027,-35.60469436645508,-53.539058685302734,-7.498141765594482,-13.928346633911133,-61.44441223144531,7.1697492599487305],\"yaxis\":\"y\",\"type\":\"scatter\"}],                        {\"template\":{\"data\":{\"histogram2dcontour\":[{\"type\":\"histogram2dcontour\",\"colorbar\":{\"outlinewidth\":0,\"ticks\":\"\"},\"colorscale\":[[0.0,\"#0d0887\"],[0.1111111111111111,\"#46039f\"],[0.2222222222222222,\"#7201a8\"],[0.3333333333333333,\"#9c179e\"],[0.4444444444444444,\"#bd3786\"],[0.5555555555555556,\"#d8576b\"],[0.6666666666666666,\"#ed7953\"],[0.7777777777777778,\"#fb9f3a\"],[0.8888888888888888,\"#fdca26\"],[1.0,\"#f0f921\"]]}],\"choropleth\":[{\"type\":\"choropleth\",\"colorbar\":{\"outlinewidth\":0,\"ticks\":\"\"}}],\"histogram2d\":[{\"type\":\"histogram2d\",\"colorbar\":{\"outlinewidth\":0,\"ticks\":\"\"},\"colorscale\":[[0.0,\"#0d0887\"],[0.1111111111111111,\"#46039f\"],[0.2222222222222222,\"#7201a8\"],[0.3333333333333333,\"#9c179e\"],[0.4444444444444444,\"#bd3786\"],[0.5555555555555556,\"#d8576b\"],[0.6666666666666666,\"#ed7953\"],[0.7777777777777778,\"#fb9f3a\"],[0.8888888888888888,\"#fdca26\"],[1.0,\"#f0f921\"]]}],\"heatmap\":[{\"type\":\"heatmap\",\"colorbar\":{\"outlinewidth\":0,\"ticks\":\"\"},\"colorscale\":[[0.0,\"#0d0887\"],[0.1111111111111111,\"#46039f\"],[0.2222222222222222,\"#7201a8\"],[0.3333333333333333,\"#9c179e\"],[0.4444444444444444,\"#bd3786\"],[0.5555555555555556,\"#d8576b\"],[0.6666666666666666,\"#ed7953\"],[0.7777777777777778,\"#fb9f3a\"],[0.8888888888888888,\"#fdca26\"],[1.0,\"#f0f921\"]]}],\"heatmapgl\":[{\"type\":\"heatmapgl\",\"colorbar\":{\"outlinewidth\":0,\"ticks\":\"\"},\"colorscale\":[[0.0,\"#0d0887\"],[0.1111111111111111,\"#46039f\"],[0.2222222222222222,\"#7201a8\"],[0.3333333333333333,\"#9c179e\"],[0.4444444444444444,\"#bd3786\"],[0.5555555555555556,\"#d8576b\"],[0.6666666666666666,\"#ed7953\"],[0.7777777777777778,\"#fb9f3a\"],[0.8888888888888888,\"#fdca26\"],[1.0,\"#f0f921\"]]}],\"contourcarpet\":[{\"type\":\"contourcarpet\",\"colorbar\":{\"outlinewidth\":0,\"ticks\":\"\"}}],\"contour\":[{\"type\":\"contour\",\"colorbar\":{\"outlinewidth\":0,\"ticks\":\"\"},\"colorscale\":[[0.0,\"#0d0887\"],[0.1111111111111111,\"#46039f\"],[0.2222222222222222,\"#7201a8\"],[0.3333333333333333,\"#9c179e\"],[0.4444444444444444,\"#bd3786\"],[0.5555555555555556,\"#d8576b\"],[0.6666666666666666,\"#ed7953\"],[0.7777777777777778,\"#fb9f3a\"],[0.8888888888888888,\"#fdca26\"],[1.0,\"#f0f921\"]]}],\"surface\":[{\"type\":\"surface\",\"colorbar\":{\"outlinewidth\":0,\"ticks\":\"\"},\"colorscale\":[[0.0,\"#0d0887\"],[0.1111111111111111,\"#46039f\"],[0.2222222222222222,\"#7201a8\"],[0.3333333333333333,\"#9c179e\"],[0.4444444444444444,\"#bd3786\"],[0.5555555555555556,\"#d8576b\"],[0.6666666666666666,\"#ed7953\"],[0.7777777777777778,\"#fb9f3a\"],[0.8888888888888888,\"#fdca26\"],[1.0,\"#f0f921\"]]}],\"mesh3d\":[{\"type\":\"mesh3d\",\"colorbar\":{\"outlinewidth\":0,\"ticks\":\"\"}}],\"scatter\":[{\"fillpattern\":{\"fillmode\":\"overlay\",\"size\":10,\"solidity\":0.2},\"type\":\"scatter\"}],\"parcoords\":[{\"type\":\"parcoords\",\"line\":{\"colorbar\":{\"outlinewidth\":0,\"ticks\":\"\"}}}],\"scatterpolargl\":[{\"type\":\"scatterpolargl\",\"marker\":{\"colorbar\":{\"outlinewidth\":0,\"ticks\":\"\"}}}],\"bar\":[{\"error_x\":{\"color\":\"#2a3f5f\"},\"error_y\":{\"color\":\"#2a3f5f\"},\"marker\":{\"line\":{\"color\":\"#E5ECF6\",\"width\":0.5},\"pattern\":{\"fillmode\":\"overlay\",\"size\":10,\"solidity\":0.2}},\"type\":\"bar\"}],\"scattergeo\":[{\"type\":\"scattergeo\",\"marker\":{\"colorbar\":{\"outlinewidth\":0,\"ticks\":\"\"}}}],\"scatterpolar\":[{\"type\":\"scatterpolar\",\"marker\":{\"colorbar\":{\"outlinewidth\":0,\"ticks\":\"\"}}}],\"histogram\":[{\"marker\":{\"pattern\":{\"fillmode\":\"overlay\",\"size\":10,\"solidity\":0.2}},\"type\":\"histogram\"}],\"scattergl\":[{\"type\":\"scattergl\",\"marker\":{\"colorbar\":{\"outlinewidth\":0,\"ticks\":\"\"}}}],\"scatter3d\":[{\"type\":\"scatter3d\",\"line\":{\"colorbar\":{\"outlinewidth\":0,\"ticks\":\"\"}},\"marker\":{\"colorbar\":{\"outlinewidth\":0,\"ticks\":\"\"}}}],\"scattermapbox\":[{\"type\":\"scattermapbox\",\"marker\":{\"colorbar\":{\"outlinewidth\":0,\"ticks\":\"\"}}}],\"scatterternary\":[{\"type\":\"scatterternary\",\"marker\":{\"colorbar\":{\"outlinewidth\":0,\"ticks\":\"\"}}}],\"scattercarpet\":[{\"type\":\"scattercarpet\",\"marker\":{\"colorbar\":{\"outlinewidth\":0,\"ticks\":\"\"}}}],\"carpet\":[{\"aaxis\":{\"endlinecolor\":\"#2a3f5f\",\"gridcolor\":\"white\",\"linecolor\":\"white\",\"minorgridcolor\":\"white\",\"startlinecolor\":\"#2a3f5f\"},\"baxis\":{\"endlinecolor\":\"#2a3f5f\",\"gridcolor\":\"white\",\"linecolor\":\"white\",\"minorgridcolor\":\"white\",\"startlinecolor\":\"#2a3f5f\"},\"type\":\"carpet\"}],\"table\":[{\"cells\":{\"fill\":{\"color\":\"#EBF0F8\"},\"line\":{\"color\":\"white\"}},\"header\":{\"fill\":{\"color\":\"#C8D4E3\"},\"line\":{\"color\":\"white\"}},\"type\":\"table\"}],\"barpolar\":[{\"marker\":{\"line\":{\"color\":\"#E5ECF6\",\"width\":0.5},\"pattern\":{\"fillmode\":\"overlay\",\"size\":10,\"solidity\":0.2}},\"type\":\"barpolar\"}],\"pie\":[{\"automargin\":true,\"type\":\"pie\"}]},\"layout\":{\"autotypenumbers\":\"strict\",\"colorway\":[\"#636efa\",\"#EF553B\",\"#00cc96\",\"#ab63fa\",\"#FFA15A\",\"#19d3f3\",\"#FF6692\",\"#B6E880\",\"#FF97FF\",\"#FECB52\"],\"font\":{\"color\":\"#2a3f5f\"},\"hovermode\":\"closest\",\"hoverlabel\":{\"align\":\"left\"},\"paper_bgcolor\":\"white\",\"plot_bgcolor\":\"#E5ECF6\",\"polar\":{\"bgcolor\":\"#E5ECF6\",\"angularaxis\":{\"gridcolor\":\"white\",\"linecolor\":\"white\",\"ticks\":\"\"},\"radialaxis\":{\"gridcolor\":\"white\",\"linecolor\":\"white\",\"ticks\":\"\"}},\"ternary\":{\"bgcolor\":\"#E5ECF6\",\"aaxis\":{\"gridcolor\":\"white\",\"linecolor\":\"white\",\"ticks\":\"\"},\"baxis\":{\"gridcolor\":\"white\",\"linecolor\":\"white\",\"ticks\":\"\"},\"caxis\":{\"gridcolor\":\"white\",\"linecolor\":\"white\",\"ticks\":\"\"}},\"coloraxis\":{\"colorbar\":{\"outlinewidth\":0,\"ticks\":\"\"}},\"colorscale\":{\"sequential\":[[0.0,\"#0d0887\"],[0.1111111111111111,\"#46039f\"],[0.2222222222222222,\"#7201a8\"],[0.3333333333333333,\"#9c179e\"],[0.4444444444444444,\"#bd3786\"],[0.5555555555555556,\"#d8576b\"],[0.6666666666666666,\"#ed7953\"],[0.7777777777777778,\"#fb9f3a\"],[0.8888888888888888,\"#fdca26\"],[1.0,\"#f0f921\"]],\"sequentialminus\":[[0.0,\"#0d0887\"],[0.1111111111111111,\"#46039f\"],[0.2222222222222222,\"#7201a8\"],[0.3333333333333333,\"#9c179e\"],[0.4444444444444444,\"#bd3786\"],[0.5555555555555556,\"#d8576b\"],[0.6666666666666666,\"#ed7953\"],[0.7777777777777778,\"#fb9f3a\"],[0.8888888888888888,\"#fdca26\"],[1.0,\"#f0f921\"]],\"diverging\":[[0,\"#8e0152\"],[0.1,\"#c51b7d\"],[0.2,\"#de77ae\"],[0.3,\"#f1b6da\"],[0.4,\"#fde0ef\"],[0.5,\"#f7f7f7\"],[0.6,\"#e6f5d0\"],[0.7,\"#b8e186\"],[0.8,\"#7fbc41\"],[0.9,\"#4d9221\"],[1,\"#276419\"]]},\"xaxis\":{\"gridcolor\":\"white\",\"linecolor\":\"white\",\"ticks\":\"\",\"title\":{\"standoff\":15},\"zerolinecolor\":\"white\",\"automargin\":true,\"zerolinewidth\":2},\"yaxis\":{\"gridcolor\":\"white\",\"linecolor\":\"white\",\"ticks\":\"\",\"title\":{\"standoff\":15},\"zerolinecolor\":\"white\",\"automargin\":true,\"zerolinewidth\":2},\"scene\":{\"xaxis\":{\"backgroundcolor\":\"#E5ECF6\",\"gridcolor\":\"white\",\"linecolor\":\"white\",\"showbackground\":true,\"ticks\":\"\",\"zerolinecolor\":\"white\",\"gridwidth\":2},\"yaxis\":{\"backgroundcolor\":\"#E5ECF6\",\"gridcolor\":\"white\",\"linecolor\":\"white\",\"showbackground\":true,\"ticks\":\"\",\"zerolinecolor\":\"white\",\"gridwidth\":2},\"zaxis\":{\"backgroundcolor\":\"#E5ECF6\",\"gridcolor\":\"white\",\"linecolor\":\"white\",\"showbackground\":true,\"ticks\":\"\",\"zerolinecolor\":\"white\",\"gridwidth\":2}},\"shapedefaults\":{\"line\":{\"color\":\"#2a3f5f\"}},\"annotationdefaults\":{\"arrowcolor\":\"#2a3f5f\",\"arrowhead\":0,\"arrowwidth\":1},\"geo\":{\"bgcolor\":\"white\",\"landcolor\":\"#E5ECF6\",\"subunitcolor\":\"white\",\"showland\":true,\"showlakes\":true,\"lakecolor\":\"white\"},\"title\":{\"x\":0.05},\"mapbox\":{\"style\":\"light\"}}},\"xaxis\":{\"anchor\":\"y\",\"domain\":[0.0,1.0],\"title\":{\"text\":\"0\"}},\"yaxis\":{\"anchor\":\"x\",\"domain\":[0.0,1.0],\"title\":{\"text\":\"1\"}},\"legend\":{\"tracegroupgap\":0},\"margin\":{\"t\":60},\"height\":800,\"width\":800},                        {\"responsive\": true}                    ).then(function(){\n",
       "                            \n",
       "var gd = document.getElementById('2283c97b-25c3-485c-92b5-a542f7a8e978');\n",
       "var x = new MutationObserver(function (mutations, observer) {{\n",
       "        var display = window.getComputedStyle(gd).display;\n",
       "        if (!display || display === 'none') {{\n",
       "            console.log([gd, 'removed!']);\n",
       "            Plotly.purge(gd);\n",
       "            observer.disconnect();\n",
       "        }}\n",
       "}});\n",
       "\n",
       "// Listen for the removal of the full notebook cells\n",
       "var notebookContainer = gd.closest('#notebook-container');\n",
       "if (notebookContainer) {{\n",
       "    x.observe(notebookContainer, {childList: true});\n",
       "}}\n",
       "\n",
       "// Listen for the clearing of the current output cell\n",
       "var outputEl = gd.closest('.output');\n",
       "if (outputEl) {{\n",
       "    x.observe(outputEl, {childList: true});\n",
       "}}\n",
       "\n",
       "                        })                };                });            </script>        </div>"
      ]
     },
     "metadata": {},
     "output_type": "display_data"
    }
   ],
   "source": [
    "fig = px.scatter(\n",
    "    projections, \n",
    "    x=0, y=1,\n",
    "    hover_name = np.array(vocab),\n",
    "    width=800, \n",
    "    height=800\n",
    ")\n",
    "fig.show()"
   ]
  },
  {
   "cell_type": "code",
   "execution_count": null,
   "id": "f0871d4d-b89a-48bf-8f70-4385275967ba",
   "metadata": {},
   "outputs": [],
   "source": [
    "# creating similar plots for the other languages below:"
   ]
  },
  {
   "cell_type": "code",
   "execution_count": 109,
   "id": "2262330c-ec36-463e-8b30-ddb1d2bf00e6",
   "metadata": {
    "tags": []
   },
   "outputs": [],
   "source": [
    "sri_vishnu_files = [f\"{directory_path}/sri_vishnu.txt\"]\n",
    "sri_vishnu_titles = [f\"{directory_path}/sri_vishnu.txt\"]"
   ]
  },
  {
   "cell_type": "code",
   "execution_count": 110,
   "id": "0accf35b-eb43-4324-b93e-f826d649870b",
   "metadata": {
    "tags": []
   },
   "outputs": [],
   "source": [
    "sri_vishnu_words = {k:get_unigram_counts(v) \n",
    "                    for k, v in zip(sri_vishnu_files, sri_vishnu_titles)}"
   ]
  },
  {
   "cell_type": "code",
   "execution_count": 111,
   "id": "fa2a9b40-ea98-40ce-ba2e-56a4676cb7dd",
   "metadata": {
    "tags": []
   },
   "outputs": [],
   "source": [
    "with open(f'{directory_path}/sri_vishnu.txt') as sri_vishnu:\n",
    "    lines = [line.strip() for line in sri_vishnu]\n",
    "    mahant = [\"mahant\"] + \\\n",
    "          get_term_count(sri_vishnu_words, \"mahant\")\n",
    "    phal  = [\"phal\"] + \\\n",
    "          get_term_count(sri_vishnu_words, \"phal\")"
   ]
  },
  {
   "cell_type": "code",
   "execution_count": 112,
   "id": "837cbf11-9f50-4ae3-a8ad-5ee7c40aaee1",
   "metadata": {
    "tags": []
   },
   "outputs": [
    {
     "name": "stdout",
     "output_type": "stream",
     "text": [
      "['mahant', 0]\n",
      "['phal', 0]\n"
     ]
    }
   ],
   "source": [
    "print(mahant)\n",
    "print(phal)"
   ]
  },
  {
   "cell_type": "code",
   "execution_count": 113,
   "id": "c4eb6f7b-5301-4d61-a1a4-d020cd1918fe",
   "metadata": {},
   "outputs": [
    {
     "name": "stdout",
     "output_type": "stream",
     "text": [
      "[]\n"
     ]
    }
   ],
   "source": [
    "with open (f\"{directory_path}/sri_vishnu.txt\", 'r') as f:\n",
    "  text = f.read()\n",
    "  \n",
    "text = text.replace(\"\\n\", \" \").lower()\n",
    "sentences = sent_tokenize(text)\n",
    "sent_word = [RegexpTokenizer(r\"\\w+\").tokenize(sent) for sent in sentences]\n",
    "corpus = [[w for w in sent if not w in stopwords.words('latin.txt')] for sent in sent_word]\n",
    "pprint(corpus[10:12])"
   ]
  },
  {
   "cell_type": "code",
   "execution_count": 115,
   "id": "50a7d854-469e-4e3d-94be-1c5204f8aa99",
   "metadata": {
    "tags": []
   },
   "outputs": [
    {
     "ename": "KeyError",
     "evalue": "\"Key 'niht' not present in vocabulary\"",
     "output_type": "error",
     "traceback": [
      "\u001b[1;31m---------------------------------------------------------------------------\u001b[0m",
      "\u001b[1;31mKeyError\u001b[0m                                  Traceback (most recent call last)",
      "Cell \u001b[1;32mIn[115], line 4\u001b[0m\n\u001b[0;32m      1\u001b[0m \u001b[38;5;66;03m# attempting to use a Sanskirt Swadesh word in this cell to find similar-in-meaning words, but many do not appear in the text\u001b[39;00m\n\u001b[0;32m      2\u001b[0m \u001b[38;5;28mprint\u001b[39m(\n\u001b[0;32m      3\u001b[0m   tabulate(\n\u001b[1;32m----> 4\u001b[0m     \u001b[43mmodel\u001b[49m\u001b[38;5;241;43m.\u001b[39;49m\u001b[43mwv\u001b[49m\u001b[38;5;241;43m.\u001b[39;49m\u001b[43mmost_similar\u001b[49m\u001b[43m(\u001b[49m\u001b[38;5;124;43m\"\u001b[39;49m\u001b[38;5;124;43mniht\u001b[39;49m\u001b[38;5;124;43m\"\u001b[39;49m\u001b[43m)\u001b[49m\n\u001b[0;32m      5\u001b[0m   )\n\u001b[0;32m      6\u001b[0m )\n",
      "File \u001b[1;32m~\\AppData\\Roaming\\jupyterlab-desktop\\jlab_server\\lib\\site-packages\\gensim\\models\\keyedvectors.py:841\u001b[0m, in \u001b[0;36mKeyedVectors.most_similar\u001b[1;34m(self, positive, negative, topn, clip_start, clip_end, restrict_vocab, indexer)\u001b[0m\n\u001b[0;32m    838\u001b[0m         weight[idx] \u001b[38;5;241m=\u001b[39m item[\u001b[38;5;241m1\u001b[39m]\n\u001b[0;32m    840\u001b[0m \u001b[38;5;66;03m# compute the weighted average of all keys\u001b[39;00m\n\u001b[1;32m--> 841\u001b[0m mean \u001b[38;5;241m=\u001b[39m \u001b[38;5;28;43mself\u001b[39;49m\u001b[38;5;241;43m.\u001b[39;49m\u001b[43mget_mean_vector\u001b[49m\u001b[43m(\u001b[49m\u001b[43mkeys\u001b[49m\u001b[43m,\u001b[49m\u001b[43m \u001b[49m\u001b[43mweight\u001b[49m\u001b[43m,\u001b[49m\u001b[43m \u001b[49m\u001b[43mpre_normalize\u001b[49m\u001b[38;5;241;43m=\u001b[39;49m\u001b[38;5;28;43;01mTrue\u001b[39;49;00m\u001b[43m,\u001b[49m\u001b[43m \u001b[49m\u001b[43mpost_normalize\u001b[49m\u001b[38;5;241;43m=\u001b[39;49m\u001b[38;5;28;43;01mTrue\u001b[39;49;00m\u001b[43m,\u001b[49m\u001b[43m \u001b[49m\u001b[43mignore_missing\u001b[49m\u001b[38;5;241;43m=\u001b[39;49m\u001b[38;5;28;43;01mFalse\u001b[39;49;00m\u001b[43m)\u001b[49m\n\u001b[0;32m    842\u001b[0m all_keys \u001b[38;5;241m=\u001b[39m [\n\u001b[0;32m    843\u001b[0m     \u001b[38;5;28mself\u001b[39m\u001b[38;5;241m.\u001b[39mget_index(key) \u001b[38;5;28;01mfor\u001b[39;00m key \u001b[38;5;129;01min\u001b[39;00m keys \u001b[38;5;28;01mif\u001b[39;00m \u001b[38;5;28misinstance\u001b[39m(key, _KEY_TYPES) \u001b[38;5;129;01mand\u001b[39;00m \u001b[38;5;28mself\u001b[39m\u001b[38;5;241m.\u001b[39mhas_index_for(key)\n\u001b[0;32m    844\u001b[0m ]\n\u001b[0;32m    846\u001b[0m \u001b[38;5;28;01mif\u001b[39;00m indexer \u001b[38;5;129;01mis\u001b[39;00m \u001b[38;5;129;01mnot\u001b[39;00m \u001b[38;5;28;01mNone\u001b[39;00m \u001b[38;5;129;01mand\u001b[39;00m \u001b[38;5;28misinstance\u001b[39m(topn, \u001b[38;5;28mint\u001b[39m):\n",
      "File \u001b[1;32m~\\AppData\\Roaming\\jupyterlab-desktop\\jlab_server\\lib\\site-packages\\gensim\\models\\keyedvectors.py:518\u001b[0m, in \u001b[0;36mKeyedVectors.get_mean_vector\u001b[1;34m(self, keys, weights, pre_normalize, post_normalize, ignore_missing)\u001b[0m\n\u001b[0;32m    516\u001b[0m         total_weight \u001b[38;5;241m+\u001b[39m\u001b[38;5;241m=\u001b[39m \u001b[38;5;28mabs\u001b[39m(weights[idx])\n\u001b[0;32m    517\u001b[0m     \u001b[38;5;28;01melif\u001b[39;00m \u001b[38;5;129;01mnot\u001b[39;00m ignore_missing:\n\u001b[1;32m--> 518\u001b[0m         \u001b[38;5;28;01mraise\u001b[39;00m \u001b[38;5;167;01mKeyError\u001b[39;00m(\u001b[38;5;124mf\u001b[39m\u001b[38;5;124m\"\u001b[39m\u001b[38;5;124mKey \u001b[39m\u001b[38;5;124m'\u001b[39m\u001b[38;5;132;01m{\u001b[39;00mkey\u001b[38;5;132;01m}\u001b[39;00m\u001b[38;5;124m'\u001b[39m\u001b[38;5;124m not present in vocabulary\u001b[39m\u001b[38;5;124m\"\u001b[39m)\n\u001b[0;32m    520\u001b[0m \u001b[38;5;28;01mif\u001b[39;00m total_weight \u001b[38;5;241m>\u001b[39m \u001b[38;5;241m0\u001b[39m:\n\u001b[0;32m    521\u001b[0m     mean \u001b[38;5;241m=\u001b[39m mean \u001b[38;5;241m/\u001b[39m total_weight\n",
      "\u001b[1;31mKeyError\u001b[0m: \"Key 'niht' not present in vocabulary\""
     ]
    }
   ],
   "source": [
    "# attempting to use a Sanskirt Swadesh word in this cell to find similar-in-meaning words, but many do not appear in the text\n",
    "print(\n",
    "  tabulate(\n",
    "    model.wv.most_similar(\"niht\")\n",
    "  )\n",
    ")"
   ]
  }
 ],
 "metadata": {
  "kernelspec": {
   "display_name": "Python 3 (ipykernel)",
   "language": "python",
   "name": "python3"
  },
  "language_info": {
   "codemirror_mode": {
    "name": "ipython",
    "version": 3
   },
   "file_extension": ".py",
   "mimetype": "text/x-python",
   "name": "python",
   "nbconvert_exporter": "python",
   "pygments_lexer": "ipython3",
   "version": "3.8.16"
  }
 },
 "nbformat": 4,
 "nbformat_minor": 5
}
