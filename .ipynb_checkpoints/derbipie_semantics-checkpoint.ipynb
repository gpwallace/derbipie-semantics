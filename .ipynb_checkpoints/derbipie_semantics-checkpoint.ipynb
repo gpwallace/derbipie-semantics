{
 "cells": [
  {
   "cell_type": "markdown",
   "id": "a4a1b6fa-be17-4083-b209-0ca13de1a55b",
   "metadata": {},
   "source": [
    "# DERBi PIE Semantics Module"
   ]
  },
  {
   "cell_type": "code",
   "execution_count": 4,
   "id": "c1c9ae09-cd68-4d58-b702-0bb946ceb8da",
   "metadata": {
    "tags": []
   },
   "outputs": [],
   "source": [
    "import numpy as np"
   ]
  },
  {
   "cell_type": "code",
   "execution_count": 5,
   "id": "29e1f2d0-bb06-4761-b487-c2e6b5f3e67e",
   "metadata": {
    "tags": []
   },
   "outputs": [],
   "source": [
    "from scipy import spatial"
   ]
  },
  {
   "cell_type": "code",
   "execution_count": 11,
   "id": "a678af4c-ace4-4371-af3d-facf1a7366b4",
   "metadata": {
    "tags": []
   },
   "outputs": [],
   "source": [
    "from nltk.tokenize import RegexpTokenizer\n",
    "from collections import Counter"
   ]
  },
  {
   "cell_type": "code",
   "execution_count": 22,
   "id": "20ca7f17-cd30-4148-9cd5-1aa72b52aa90",
   "metadata": {
    "tags": []
   },
   "outputs": [],
   "source": [
    "import gutenbergpy.textget"
   ]
  },
  {
   "cell_type": "code",
   "execution_count": 89,
   "id": "120d5fb7-c878-4100-9ffc-bae7c5318c4b",
   "metadata": {
    "tags": []
   },
   "outputs": [],
   "source": [
    "import matplotlib.pyplot as plt"
   ]
  },
  {
   "cell_type": "code",
   "execution_count": 43,
   "id": "4fbe1c99-fda6-4d0e-9bcc-808fae46183d",
   "metadata": {
    "tags": []
   },
   "outputs": [],
   "source": [
    "def getbook(book, outfile):\n",
    "  \"\"\"\n",
    "  Download a book from project Gutenberg and save it \n",
    "  to the specified outfile\n",
    "  \"\"\"\n",
    "  print(f\"Downloading Project Gutenberg ID {book}\")\n",
    "  raw_book = gutenbergpy.textget.get_text_by_id(book)\n",
    "  clean_book = gutenbergpy.textget.strip_headers(raw_book)\n",
    "  if not outfile:\n",
    "    outfile = f'{book}.txt'\n",
    "    print(f\"Saving book as {outfile}\")\n",
    "  with open(outfile, 'wb') as file:\n",
    "    file.write(clean_book)\n",
    "    file.close()"
   ]
  },
  {
   "cell_type": "code",
   "execution_count": 71,
   "id": "f07365d1-a296-4bd5-ae1d-a6c98a70561f",
   "metadata": {
    "tags": []
   },
   "outputs": [],
   "source": [
    "# these are Project Gutenberg IDs and information\n",
    "caesar_ids = [218, 18837, 29645]\n",
    "caesar_files = [f\"C:/Users/gpwal/derbipie-semantics/texts/{x}.txt\" for x in caesar_ids]\n",
    "caesar_titles = [\"Bello Gallico I-IV\", \"Bello Gallico V-VII\", \"The Gate to Caesar\"]\n",
    "cicero_ids = [14970, 226, 47001]\n",
    "cicero_files = [f\"C:/Users/gpwal/derbipie-semantics/texts/{x}.txt\" for x in cicero_ids]\n",
    "cicero_titles = [\"Academia\", \"Orations\", \"De Officiis\"]"
   ]
  },
  {
   "cell_type": "code",
   "execution_count": 68,
   "id": "eb5f02ef-2dfa-4b2e-9cd8-5d84ed043b74",
   "metadata": {
    "tags": []
   },
   "outputs": [
    {
     "name": "stdout",
     "output_type": "stream",
     "text": [
      "Downloading Project Gutenberg ID 218\n",
      "Downloading Project Gutenberg ID 18837\n",
      "Downloading Project Gutenberg ID 29645\n",
      "Downloading Project Gutenberg ID 14970\n",
      "Downloading Project Gutenberg ID 226\n",
      "Downloading Project Gutenberg ID 47001\n"
     ]
    }
   ],
   "source": [
    "foo = [getbook(x, f\"C:/Users/gpwal/derbipie-semantics/texts/{x}.txt\") for x in caesar_ids]\n",
    "foo = [getbook(x, f\"C:/Users/gpwal/derbipie-semantics/texts/{x}.txt\") for x in cicero_ids]"
   ]
  },
  {
   "cell_type": "code",
   "execution_count": 75,
   "id": "9f2f23ae-5bd5-4ffc-8bd0-ac220fe13a3e",
   "metadata": {
    "tags": []
   },
   "outputs": [],
   "source": [
    "def get_unigram_counts(path):\n",
    "  \"\"\"\n",
    "    Given a path, generate a counter dictionary of unigrams\n",
    "  \"\"\"\n",
    "  with open(path, 'r', encoding=\"utf-8\") as f:\n",
    "    text = f.read()\n",
    "  text = text.replace(\"\\n\", \" \").lower()\n",
    "  unigrams = RegexpTokenizer(r\"\\w+\").tokenize(text)\n",
    "  count = Counter(unigrams)\n",
    "  return(count)"
   ]
  },
  {
   "cell_type": "code",
   "execution_count": 76,
   "id": "f8224537-afff-4470-ab53-f5527cdcac7d",
   "metadata": {
    "tags": []
   },
   "outputs": [],
   "source": [
    "caesar_words = {k:get_unigram_counts(v) \n",
    "                    for k, v in zip(caesar_titles, caesar_files)}\n",
    "cicero_words = {k:get_unigram_counts(v) \n",
    "                    for k, v in zip(cicero_titles, cicero_files)}"
   ]
  },
  {
   "cell_type": "code",
   "execution_count": 80,
   "id": "34488a3f-2640-40fc-8a85-545d12380167",
   "metadata": {
    "tags": []
   },
   "outputs": [
    {
     "data": {
      "text/plain": [
       "[('in', 509),\n",
       " ('et', 479),\n",
       " ('ad', 317),\n",
       " ('cum', 244),\n",
       " ('quod', 224),\n",
       " ('se', 196),\n",
       " ('ex', 194),\n",
       " ('qui', 172),\n",
       " ('ut', 171),\n",
       " ('non', 170)]"
      ]
     },
     "execution_count": 80,
     "metadata": {},
     "output_type": "execute_result"
    }
   ],
   "source": [
    "caesar_words.keys()\n",
    "caesar_words[\"Bello Gallico I-IV\"].most_common(10)"
   ]
  },
  {
   "cell_type": "code",
   "execution_count": 81,
   "id": "988976f2-d67b-4d39-b024-6020b3ea80e5",
   "metadata": {
    "tags": []
   },
   "outputs": [],
   "source": [
    "def get_term_count(book_dict, term):\n",
    "  \"\"\"\n",
    "    return a list of the number of times a term has appeared\n",
    "    in a book\n",
    "  \"\"\"\n",
    "  out = [book_dict[book][term] for book in book_dict]\n",
    "  return(out)"
   ]
  },
  {
   "cell_type": "code",
   "execution_count": 82,
   "id": "ec55c75a-1fbc-4355-8f2c-c22af3a33cc1",
   "metadata": {
    "tags": []
   },
   "outputs": [],
   "source": [
    "ego = [\"ego\"] + \\\n",
    "          get_term_count(caesar_words, \"ego\") + \\\n",
    "          get_term_count(cicero_words, \"ego\")\n",
    "magnus  = [\"magnus\"] + \\\n",
    "          get_term_count(caesar_words, \"magnus\") + \\\n",
    "          get_term_count(cicero_words, \"magnus\")"
   ]
  },
  {
   "cell_type": "code",
   "execution_count": 84,
   "id": "86ca4381-7854-4235-bad9-fa8e3fbc0401",
   "metadata": {
    "tags": []
   },
   "outputs": [
    {
     "name": "stdout",
     "output_type": "stream",
     "text": [
      "['ego', 1, 4, 1, 29, 61, 10]\n",
      "['magnus', 0, 10, 0, 4, 0, 5]\n"
     ]
    }
   ],
   "source": [
    "print(ego)\n",
    "print(magnus)"
   ]
  },
  {
   "cell_type": "code",
   "execution_count": 91,
   "id": "7340ef17-3beb-4632-b45e-ac17452d1b4e",
   "metadata": {
    "tags": []
   },
   "outputs": [],
   "source": [
    "bellogallico1 = np.array([1, 0])\n",
    "bellogallico2 = np.array([4, 0])\n",
    "gateofcaesar = np.array([1, 10])\n",
    "academia = np.array([29, 4])\n",
    "orations = np.array([61, 0])\n",
    "deofficiis = np.array([10, 5])"
   ]
  },
  {
   "cell_type": "code",
   "execution_count": 97,
   "id": "f6157635-f7c9-4c99-8b3e-99fdec396469",
   "metadata": {
    "tags": []
   },
   "outputs": [
    {
     "name": "stdout",
     "output_type": "stream",
     "text": [
      "4\n"
     ]
    }
   ],
   "source": [
    "dot = np.dot(bellogallico1, bellogallico2)\n",
    "print(dot)"
   ]
  }
 ],
 "metadata": {
  "kernelspec": {
   "display_name": "Python 3 (ipykernel)",
   "language": "python",
   "name": "python3"
  },
  "language_info": {
   "codemirror_mode": {
    "name": "ipython",
    "version": 3
   },
   "file_extension": ".py",
   "mimetype": "text/x-python",
   "name": "python",
   "nbconvert_exporter": "python",
   "pygments_lexer": "ipython3",
   "version": "3.8.16"
  }
 },
 "nbformat": 4,
 "nbformat_minor": 5
}
